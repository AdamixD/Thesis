{
 "cells": [
  {
   "cell_type": "markdown",
   "source": [
    "# Model Training - MobileNetV2 (transfer + data augmentation)"
   ],
   "metadata": {
    "collapsed": false,
    "pycharm": {
     "name": "#%% md\n"
    }
   }
  },
  {
   "cell_type": "markdown",
   "source": [
    "### 0. Imports"
   ],
   "metadata": {
    "collapsed": false,
    "pycharm": {
     "name": "#%% md\n"
    }
   }
  },
  {
   "cell_type": "code",
   "execution_count": 1,
   "outputs": [],
   "source": [
    "import matplotlib.pyplot as plt\n",
    "import tensorflow as tf\n",
    "\n",
    "from keras.applications import MobileNetV2\n",
    "from keras.applications.mobilenet_v2 import preprocess_input\n",
    "from keras.callbacks import (\n",
    "    ModelCheckpoint,\n",
    "    EarlyStopping,\n",
    "    ReduceLROnPlateau\n",
    ")\n",
    "from keras.models import Sequential\n",
    "from keras.layers import Dense, GlobalAveragePooling2D\n",
    "from keras.metrics import Precision, Recall\n",
    "from keras.optimizers import Adam\n",
    "from keras.preprocessing.image import ImageDataGenerator\n",
    "from keras.utils.vis_utils import plot_model"
   ],
   "metadata": {
    "collapsed": false,
    "ExecuteTime": {
     "start_time": "2023-06-08T14:04:36.621338Z",
     "end_time": "2023-06-08T14:04:39.977428Z"
    },
    "pycharm": {
     "name": "#%%\n"
    }
   }
  },
  {
   "cell_type": "markdown",
   "source": [
    "### 1. Paths"
   ],
   "metadata": {
    "collapsed": false,
    "pycharm": {
     "name": "#%% md\n"
    }
   }
  },
  {
   "cell_type": "code",
   "execution_count": 2,
   "outputs": [],
   "source": [
    "# DATASET_BASE_TRAIN_PATH = \"/Users/adamdabkowski/DataspellProjects/Praca_dyplomowa/data/train_resized\"\n",
    "# DATASET_BASE_TRAIN_PATH = \"/Users/adamd/DataspellProjects/Facial Expressions Recognition/data/train_resized\"\n",
    "# DATASET_BASE_TRAIN_PATH = \"/Users/adamd/DataspellProjects/Facial Expressions Recognition/data/train_merged\"\n",
    "DATASET_BASE_TRAIN_PATH = \"/Users/adamd/DataspellProjects/Facial Expressions Recognition/data/train_merged_cleaned\"\n",
    "\n",
    "# DATASET_BASE_TRAIN_PATH = \"../new_data\"\n",
    "\n",
    "# DATASET_BASE_TEST_PATH = \"/Users/adamdabkowski/DataspellProjects/Praca_dyplomowa/data/test_resized\"\n",
    "DATASET_BASE_TEST_PATH = \"/Users/adamd/DataspellProjects/Facial Expressions Recognition/data/test_resized\""
   ],
   "metadata": {
    "collapsed": false,
    "ExecuteTime": {
     "start_time": "2023-06-08T14:06:08.298593Z",
     "end_time": "2023-06-08T14:06:08.305288Z"
    },
    "pycharm": {
     "name": "#%%\n"
    }
   }
  },
  {
   "cell_type": "markdown",
   "source": [
    "### 2. Data preprocessing"
   ],
   "metadata": {
    "collapsed": false,
    "pycharm": {
     "name": "#%% md\n"
    }
   }
  },
  {
   "cell_type": "code",
   "execution_count": 3,
   "outputs": [
    {
     "name": "stdout",
     "output_type": "stream",
     "text": [
      "Found 23689 images belonging to 7 classes.\n",
      "Found 5919 images belonging to 7 classes.\n"
     ]
    }
   ],
   "source": [
    "batch_size  = 32\n",
    "img_size = 224\n",
    "\n",
    "train_validation_data_generator = ImageDataGenerator(\n",
    "    preprocessing_function=preprocess_input,\n",
    "    validation_split=0.2,\n",
    "    rotation_range=40,\n",
    "    width_shift_range=0.2,\n",
    "    height_shift_range=0.2,\n",
    "    shear_range=0.2,\n",
    "    zoom_range=0.2,\n",
    "    horizontal_flip=True,\n",
    "    fill_mode='nearest'\n",
    ")\n",
    "\n",
    "train_generator = train_validation_data_generator.flow_from_directory(\n",
    "    DATASET_BASE_TRAIN_PATH,\n",
    "    target_size=(img_size,img_size),\n",
    "    batch_size=batch_size,\n",
    "    class_mode='categorical',\n",
    "    color_mode='rgb',\n",
    "    subset='training',\n",
    "    shuffle=True,\n",
    ")\n",
    "\n",
    "validation_generator = train_validation_data_generator.flow_from_directory(\n",
    "    DATASET_BASE_TRAIN_PATH,\n",
    "    target_size=(img_size,img_size),\n",
    "    batch_size=batch_size,\n",
    "    class_mode='categorical',\n",
    "    color_mode='rgb',\n",
    "    subset='validation',\n",
    "    shuffle=True,\n",
    ")"
   ],
   "metadata": {
    "collapsed": false,
    "ExecuteTime": {
     "start_time": "2023-06-08T14:06:12.829138Z",
     "end_time": "2023-06-08T14:06:13.009438Z"
    },
    "pycharm": {
     "name": "#%%\n"
    }
   }
  },
  {
   "cell_type": "markdown",
   "source": [
    "### 5. Model creating"
   ],
   "metadata": {
    "collapsed": false,
    "pycharm": {
     "name": "#%% md\n"
    }
   }
  },
  {
   "cell_type": "code",
   "execution_count": 4,
   "outputs": [],
   "source": [
    "CATEGORIES = [\"angry\", \"disgust\", \"fear\", \"happy\", \"neutral\", \"sad\", \"surprise\"]"
   ],
   "metadata": {
    "collapsed": false,
    "ExecuteTime": {
     "start_time": "2023-06-08T14:06:21.358802Z",
     "end_time": "2023-06-08T14:06:21.367405Z"
    },
    "pycharm": {
     "name": "#%%\n"
    }
   }
  },
  {
   "cell_type": "code",
   "execution_count": 5,
   "outputs": [],
   "source": [
    "checkpoint = ModelCheckpoint(\n",
    "    filepath=\"./model_mobilenet_v2_transfer_data_augmentation.h5\",\n",
    "    monitor='val_loss',\n",
    "    verbose=1,\n",
    "    save_best_only=True,\n",
    "    mode='min'\n",
    ")\n",
    "\n",
    "early_stopping = EarlyStopping(\n",
    "    monitor='val_loss',\n",
    "    patience=10,\n",
    "    verbose=1,\n",
    "    restore_best_weights=True,\n",
    ")\n",
    "\n",
    "reduce_learning_rate = ReduceLROnPlateau(\n",
    "    monitor='val_loss',\n",
    "    factor=0.1,\n",
    "    patience=5,\n",
    "    verbose=1,\n",
    "    min_lr=0.00001,\n",
    ")\n",
    "\n",
    "callbacks_list = [early_stopping, checkpoint, reduce_learning_rate]"
   ],
   "metadata": {
    "collapsed": false,
    "ExecuteTime": {
     "start_time": "2023-06-08T14:06:22.501933Z",
     "end_time": "2023-06-08T14:06:22.506101Z"
    },
    "pycharm": {
     "name": "#%%\n"
    }
   }
  },
  {
   "cell_type": "code",
   "execution_count": 6,
   "outputs": [],
   "source": [
    "model = Sequential()\n",
    "\n",
    "base_model = MobileNetV2(input_shape=(img_size, img_size, 3), include_top=False, weights='imagenet')\n",
    "model.add(base_model)\n",
    "\n",
    "model.add(GlobalAveragePooling2D())\n",
    "model.add(Dense(512, activation='relu'))\n",
    "model.add(Dense(7, activation='softmax'))"
   ],
   "metadata": {
    "collapsed": false,
    "ExecuteTime": {
     "start_time": "2023-06-08T14:06:33.844245Z",
     "end_time": "2023-06-08T14:06:34.087495Z"
    },
    "pycharm": {
     "name": "#%%\n"
    }
   }
  },
  {
   "cell_type": "code",
   "execution_count": 7,
   "outputs": [
    {
     "name": "stdout",
     "output_type": "stream",
     "text": [
      "Model: \"sequential\"\n",
      "_________________________________________________________________\n",
      " Layer (type)                Output Shape              Param #   \n",
      "=================================================================\n",
      " mobilenetv2_1.00_224 (Funct  (None, 7, 7, 1280)       2257984   \n",
      " ional)                                                          \n",
      "                                                                 \n",
      " global_average_pooling2d (G  (None, 1280)             0         \n",
      " lobalAveragePooling2D)                                          \n",
      "                                                                 \n",
      " dense (Dense)               (None, 512)               655872    \n",
      "                                                                 \n",
      " dense_1 (Dense)             (None, 7)                 3591      \n",
      "                                                                 \n",
      "=================================================================\n",
      "Total params: 2,917,447\n",
      "Trainable params: 2,883,335\n",
      "Non-trainable params: 34,112\n",
      "_________________________________________________________________\n"
     ]
    }
   ],
   "source": [
    "model.compile(\n",
    "    optimizer=Adam(learning_rate=0.001),\n",
    "    loss='categorical_crossentropy',\n",
    "    metrics=[\n",
    "        'accuracy',\n",
    "        Precision(name='precision'),\n",
    "        Precision(class_id=0, name='precision_angry'),\n",
    "        Precision(class_id=1, name='precision_disgust'),\n",
    "        Precision(class_id=2, name='precision_fear'),\n",
    "        Precision(class_id=3, name='precision_happy'),\n",
    "        Precision(class_id=4, name='precision_neutral'),\n",
    "        Precision(class_id=5, name='precision_sad'),\n",
    "        Precision(class_id=6, name='precision_surprise'),\n",
    "        Recall(name='recall'),\n",
    "        Recall(class_id=0, name='recall_angry'),\n",
    "        Recall(class_id=1, name='recall_disgust'),\n",
    "        Recall(class_id=2, name='recall_fear'),\n",
    "        Recall(class_id=3, name='recall_happy'),\n",
    "        Recall(class_id=4, name='recall_neutral'),\n",
    "        Recall(class_id=5, name='recall_sad'),\n",
    "        Recall(class_id=6, name='recall_surprise'),\n",
    "    ]\n",
    ")\n",
    "model.summary()"
   ],
   "metadata": {
    "collapsed": false,
    "ExecuteTime": {
     "start_time": "2023-06-08T14:08:05.068394Z",
     "end_time": "2023-06-08T14:08:05.102749Z"
    },
    "pycharm": {
     "name": "#%%\n"
    }
   }
  },
  {
   "cell_type": "code",
   "execution_count": 8,
   "outputs": [
    {
     "data": {
      "image/png": "[encoded data removed]",
      "text/plain": "<IPython.core.display.Image object>"
     },
     "execution_count": 8,
     "metadata": {},
     "output_type": "execute_result"
    }
   ],
   "source": [
    "plot_model(model, to_file='model_mobilenet_v2_transfer_data_augmentation.png', show_shapes=True, show_layer_names=True)"
   ],
   "metadata": {
    "collapsed": false,
    "pycharm": {
     "name": "#%%\n"
    }
   }
  },
  {
   "cell_type": "markdown",
   "source": [
    "### 6. Model training"
   ],
   "metadata": {
    "collapsed": false,
    "pycharm": {
     "name": "#%% md\n"
    }
   }
  },
  {
   "cell_type": "code",
   "execution_count": 9,
   "outputs": [],
   "source": [
    "epochs = 50"
   ],
   "metadata": {
    "collapsed": false,
    "ExecuteTime": {
     "start_time": "2023-06-08T14:08:06.121000Z",
     "end_time": "2023-06-08T14:08:06.134021Z"
    },
    "pycharm": {
     "name": "#%%\n"
    }
   }
  },
  {
   "cell_type": "code",
   "execution_count": 10,
   "outputs": [
    {
     "name": "stdout",
     "output_type": "stream",
     "text": [
      "Epoch 1/50\n",
      "740/740 [==============================] - ETA: 0s - loss: 1.4668 - accuracy: 0.4334 - precision: 0.6914 - precision_angry: 0.4427 - precision_disgust: 0.5000 - precision_fear: 0.1765 - precision_happy: 0.7733 - precision_neutral: 0.5358 - precision_sad: 0.4034 - precision_surprise: 0.6656 - recall: 0.2114 - recall_angry: 0.0258 - recall_disgust: 0.0040 - recall_fear: 0.0018 - recall_happy: 0.5514 - recall_neutral: 0.1310 - recall_sad: 0.0301 - recall_surprise: 0.3826\n",
      "Epoch 1: val_loss improved from inf to 3.09067, saving model to .\\model_mobilenet_v2_transfer_data_augmentation.h5\n",
      "740/740 [==============================] - 866s 1s/step - loss: 1.4668 - accuracy: 0.4334 - precision: 0.6914 - precision_angry: 0.4427 - precision_disgust: 0.5000 - precision_fear: 0.1765 - precision_happy: 0.7733 - precision_neutral: 0.5358 - precision_sad: 0.4034 - precision_surprise: 0.6656 - recall: 0.2114 - recall_angry: 0.0258 - recall_disgust: 0.0040 - recall_fear: 0.0018 - recall_happy: 0.5514 - recall_neutral: 0.1310 - recall_sad: 0.0301 - recall_surprise: 0.3826 - val_loss: 3.0907 - val_accuracy: 0.3439 - val_precision: 0.3650 - val_precision_angry: 0.0000e+00 - val_precision_disgust: 0.0000e+00 - val_precision_fear: 0.0000e+00 - val_precision_happy: 0.4429 - val_precision_neutral: 0.3239 - val_precision_sad: 0.7500 - val_precision_surprise: 0.2802 - val_recall: 0.3193 - val_recall_angry: 0.0000e+00 - val_recall_disgust: 0.0000e+00 - val_recall_fear: 0.0000e+00 - val_recall_happy: 0.6995 - val_recall_neutral: 0.4200 - val_recall_sad: 0.0062 - val_recall_surprise: 0.6439 - lr: 0.0010\n",
      "Epoch 2/50\n",
      "740/740 [==============================] - ETA: 0s - loss: 1.2506 - accuracy: 0.5264 - precision: 0.7246 - precision_angry: 0.5552 - precision_disgust: 0.5185 - precision_fear: 0.5561 - precision_happy: 0.8376 - precision_neutral: 0.6040 - precision_sad: 0.5264 - precision_surprise: 0.7175 - recall: 0.3194 - recall_angry: 0.1436 - recall_disgust: 0.0278 - recall_fear: 0.0338 - recall_happy: 0.7031 - recall_neutral: 0.2737 - recall_sad: 0.0948 - recall_surprise: 0.5045\n",
      "Epoch 2: val_loss improved from 3.09067 to 2.77459, saving model to .\\model_mobilenet_v2_transfer_data_augmentation.h5\n",
      "740/740 [==============================] - 880s 1s/step - loss: 1.2506 - accuracy: 0.5264 - precision: 0.7246 - precision_angry: 0.5552 - precision_disgust: 0.5185 - precision_fear: 0.5561 - precision_happy: 0.8376 - precision_neutral: 0.6040 - precision_sad: 0.5264 - precision_surprise: 0.7175 - recall: 0.3194 - recall_angry: 0.1436 - recall_disgust: 0.0278 - recall_fear: 0.0338 - recall_happy: 0.7031 - recall_neutral: 0.2737 - recall_sad: 0.0948 - recall_surprise: 0.5045 - val_loss: 2.7746 - val_accuracy: 0.2714 - val_precision: 0.3089 - val_precision_angry: 0.2782 - val_precision_disgust: 0.2000 - val_precision_fear: 0.0000e+00 - val_precision_happy: 0.7422 - val_precision_neutral: 0.4304 - val_precision_sad: 0.0000e+00 - val_precision_surprise: 0.2305 - val_recall: 0.2254 - val_recall_angry: 0.3162 - val_recall_disgust: 0.0159 - val_recall_fear: 0.0000e+00 - val_recall_happy: 0.1952 - val_recall_neutral: 0.2050 - val_recall_sad: 0.0000e+00 - val_recall_surprise: 0.8697 - lr: 0.0010\n",
      "Epoch 3/50\n",
      "740/740 [==============================] - ETA: 0s - loss: 1.1816 - accuracy: 0.5566 - precision: 0.7286 - precision_angry: 0.6202 - precision_disgust: 0.6082 - precision_fear: 0.5714 - precision_happy: 0.8419 - precision_neutral: 0.6219 - precision_sad: 0.5442 - precision_surprise: 0.7328 - recall: 0.3626 - recall_angry: 0.2163 - recall_disgust: 0.1168 - recall_fear: 0.0606 - recall_happy: 0.7373 - recall_neutral: 0.3163 - recall_sad: 0.1359 - recall_surprise: 0.5471\n",
      "Epoch 3: val_loss did not improve from 2.77459\n",
      "740/740 [==============================] - 875s 1s/step - loss: 1.1816 - accuracy: 0.5566 - precision: 0.7286 - precision_angry: 0.6202 - precision_disgust: 0.6082 - precision_fear: 0.5714 - precision_happy: 0.8419 - precision_neutral: 0.6219 - precision_sad: 0.5442 - precision_surprise: 0.7328 - recall: 0.3626 - recall_angry: 0.2163 - recall_disgust: 0.1168 - recall_fear: 0.0606 - recall_happy: 0.7373 - recall_neutral: 0.3163 - recall_sad: 0.1359 - recall_surprise: 0.5471 - val_loss: 4.0327 - val_accuracy: 0.3021 - val_precision: 0.3144 - val_precision_angry: 0.4110 - val_precision_disgust: 0.0000e+00 - val_precision_fear: 0.0303 - val_precision_happy: 0.5875 - val_precision_neutral: 0.2500 - val_precision_sad: 0.0000e+00 - val_precision_surprise: 0.1740 - val_recall: 0.2936 - val_recall_angry: 0.1187 - val_recall_disgust: 0.0000e+00 - val_recall_fear: 0.0012 - val_recall_happy: 0.6990 - val_recall_neutral: 9.9108e-04 - val_recall_sad: 0.0000e+00 - val_recall_surprise: 0.9154 - lr: 0.0010\n",
      "Epoch 4/50\n",
      "740/740 [==============================] - ETA: 0s - loss: 1.1402 - accuracy: 0.5735 - precision: 0.7367 - precision_angry: 0.6269 - precision_disgust: 0.6538 - precision_fear: 0.5931 - precision_happy: 0.8527 - precision_neutral: 0.6451 - precision_sad: 0.5747 - precision_surprise: 0.7444 - recall: 0.3931 - recall_angry: 0.2436 - recall_disgust: 0.1347 - recall_fear: 0.0822 - recall_happy: 0.7631 - recall_neutral: 0.3557 - recall_sad: 0.1858 - recall_surprise: 0.5641\n",
      "Epoch 4: val_loss did not improve from 2.77459\n",
      "740/740 [==============================] - 861s 1s/step - loss: 1.1402 - accuracy: 0.5735 - precision: 0.7367 - precision_angry: 0.6269 - precision_disgust: 0.6538 - precision_fear: 0.5931 - precision_happy: 0.8527 - precision_neutral: 0.6451 - precision_sad: 0.5747 - precision_surprise: 0.7444 - recall: 0.3931 - recall_angry: 0.2436 - recall_disgust: 0.1347 - recall_fear: 0.0822 - recall_happy: 0.7631 - recall_neutral: 0.3557 - recall_sad: 0.1858 - recall_surprise: 0.5641 - val_loss: 3.2421 - val_accuracy: 0.3071 - val_precision: 0.3197 - val_precision_angry: 0.3791 - val_precision_disgust: 0.0000e+00 - val_precision_fear: 0.0000e+00 - val_precision_happy: 0.8328 - val_precision_neutral: 0.3184 - val_precision_sad: 0.0000e+00 - val_precision_surprise: 0.2008 - val_recall: 0.2806 - val_recall_angry: 0.1418 - val_recall_disgust: 0.0000e+00 - val_recall_fear: 0.0000e+00 - val_recall_happy: 0.3909 - val_recall_neutral: 0.3380 - val_recall_sad: 0.0000e+00 - val_recall_surprise: 0.9424 - lr: 0.0010\n",
      "Epoch 5/50\n",
      "740/740 [==============================] - ETA: 0s - loss: 1.1042 - accuracy: 0.5825 - precision: 0.7402 - precision_angry: 0.6417 - precision_disgust: 0.6351 - precision_fear: 0.5827 - precision_happy: 0.8606 - precision_neutral: 0.6574 - precision_sad: 0.5823 - precision_surprise: 0.7435 - recall: 0.4102 - recall_angry: 0.2779 - recall_disgust: 0.1861 - recall_fear: 0.1055 - recall_happy: 0.7736 - recall_neutral: 0.3680 - recall_sad: 0.1927 - recall_surprise: 0.5823\n",
      "Epoch 5: val_loss improved from 2.77459 to 1.71883, saving model to .\\model_mobilenet_v2_transfer_data_augmentation.h5\n",
      "740/740 [==============================] - 877s 1s/step - loss: 1.1042 - accuracy: 0.5825 - precision: 0.7402 - precision_angry: 0.6417 - precision_disgust: 0.6351 - precision_fear: 0.5827 - precision_happy: 0.8606 - precision_neutral: 0.6574 - precision_sad: 0.5823 - precision_surprise: 0.7435 - recall: 0.4102 - recall_angry: 0.2779 - recall_disgust: 0.1861 - recall_fear: 0.1055 - recall_happy: 0.7736 - recall_neutral: 0.3680 - recall_sad: 0.1927 - recall_surprise: 0.5823 - val_loss: 1.7188 - val_accuracy: 0.4382 - val_precision: 0.5303 - val_precision_angry: 0.4467 - val_precision_disgust: 0.0752 - val_precision_fear: 0.2440 - val_precision_happy: 0.6897 - val_precision_neutral: 0.4477 - val_precision_sad: 0.6463 - val_precision_surprise: 0.7234 - val_recall: 0.3526 - val_recall_angry: 0.2454 - val_recall_disgust: 0.1600 - val_recall_fear: 0.0979 - val_recall_happy: 0.6864 - val_recall_neutral: 0.3905 - val_recall_sad: 0.0548 - val_recall_surprise: 0.4819 - lr: 0.0010\n",
      "Epoch 6/50\n",
      "740/740 [==============================] - ETA: 0s - loss: 1.0798 - accuracy: 0.5958 - precision: 0.7453 - precision_angry: 0.6511 - precision_disgust: 0.6463 - precision_fear: 0.6255 - precision_happy: 0.8688 - precision_neutral: 0.6527 - precision_sad: 0.5815 - precision_surprise: 0.7628 - recall: 0.4304 - recall_angry: 0.2881 - recall_disgust: 0.1881 - recall_fear: 0.1324 - recall_happy: 0.7914 - recall_neutral: 0.3806 - recall_sad: 0.2218 - recall_surprise: 0.6133\n",
      "Epoch 6: val_loss improved from 1.71883 to 1.56491, saving model to .\\model_mobilenet_v2_transfer_data_augmentation.h5\n",
      "740/740 [==============================] - 874s 1s/step - loss: 1.0798 - accuracy: 0.5958 - precision: 0.7453 - precision_angry: 0.6511 - precision_disgust: 0.6463 - precision_fear: 0.6255 - precision_happy: 0.8688 - precision_neutral: 0.6527 - precision_sad: 0.5815 - precision_surprise: 0.7628 - recall: 0.4304 - recall_angry: 0.2881 - recall_disgust: 0.1881 - recall_fear: 0.1324 - recall_happy: 0.7914 - recall_neutral: 0.3806 - recall_sad: 0.2218 - recall_surprise: 0.6133 - val_loss: 1.5649 - val_accuracy: 0.4868 - val_precision: 0.5587 - val_precision_angry: 0.5847 - val_precision_disgust: 0.1350 - val_precision_fear: 0.3007 - val_precision_happy: 0.8263 - val_precision_neutral: 0.4953 - val_precision_sad: 0.5394 - val_precision_surprise: 0.7184 - val_recall: 0.4081 - val_recall_angry: 0.2534 - val_recall_disgust: 0.2937 - val_recall_fear: 0.2932 - val_recall_happy: 0.6794 - val_recall_neutral: 0.5227 - val_recall_sad: 0.0918 - val_recall_surprise: 0.4554 - lr: 0.0010\n",
      "Epoch 7/50\n",
      "740/740 [==============================] - ETA: 0s - loss: 1.0601 - accuracy: 0.5990 - precision: 0.7449 - precision_angry: 0.6610 - precision_disgust: 0.6807 - precision_fear: 0.6043 - precision_happy: 0.8643 - precision_neutral: 0.6584 - precision_sad: 0.6104 - precision_surprise: 0.7631 - recall: 0.4422 - recall_angry: 0.3173 - recall_disgust: 0.2238 - recall_fear: 0.1409 - recall_happy: 0.7864 - recall_neutral: 0.3855 - recall_sad: 0.2542 - recall_surprise: 0.6216\n",
      "Epoch 7: val_loss did not improve from 1.56491\n",
      "740/740 [==============================] - 882s 1s/step - loss: 1.0601 - accuracy: 0.5990 - precision: 0.7449 - precision_angry: 0.6610 - precision_disgust: 0.6807 - precision_fear: 0.6043 - precision_happy: 0.8643 - precision_neutral: 0.6584 - precision_sad: 0.6104 - precision_surprise: 0.7631 - recall: 0.4422 - recall_angry: 0.3173 - recall_disgust: 0.2238 - recall_fear: 0.1409 - recall_happy: 0.7864 - recall_neutral: 0.3855 - recall_sad: 0.2542 - recall_surprise: 0.6216 - val_loss: 1.9440 - val_accuracy: 0.4642 - val_precision: 0.4944 - val_precision_angry: 0.4539 - val_precision_disgust: 0.2258 - val_precision_fear: 1.0000 - val_precision_happy: 0.8915 - val_precision_neutral: 0.3274 - val_precision_sad: 0.8333 - val_precision_surprise: 0.6105 - val_recall: 0.4387 - val_recall_angry: 0.3317 - val_recall_disgust: 0.1667 - val_recall_fear: 0.0036 - val_recall_happy: 0.6050 - val_recall_neutral: 0.8713 - val_recall_sad: 0.0103 - val_recall_surprise: 0.7731 - lr: 0.0010\n",
      "Epoch 8/50\n",
      "740/740 [==============================] - ETA: 0s - loss: 1.0331 - accuracy: 0.6115 - precision: 0.7496 - precision_angry: 0.6624 - precision_disgust: 0.7104 - precision_fear: 0.6273 - precision_happy: 0.8744 - precision_neutral: 0.6675 - precision_sad: 0.6006 - precision_surprise: 0.7689 - recall: 0.4574 - recall_angry: 0.3301 - recall_disgust: 0.2584 - recall_fear: 0.1512 - recall_happy: 0.8004 - recall_neutral: 0.4163 - recall_sad: 0.2652 - recall_surprise: 0.6272\n",
      "Epoch 8: val_loss did not improve from 1.56491\n",
      "740/740 [==============================] - 873s 1s/step - loss: 1.0331 - accuracy: 0.6115 - precision: 0.7496 - precision_angry: 0.6624 - precision_disgust: 0.7104 - precision_fear: 0.6273 - precision_happy: 0.8744 - precision_neutral: 0.6675 - precision_sad: 0.6006 - precision_surprise: 0.7689 - recall: 0.4574 - recall_angry: 0.3301 - recall_disgust: 0.2584 - recall_fear: 0.1512 - recall_happy: 0.8004 - recall_neutral: 0.4163 - recall_sad: 0.2652 - recall_surprise: 0.6272 - val_loss: 1.9965 - val_accuracy: 0.4295 - val_precision: 0.4657 - val_precision_angry: 0.5103 - val_precision_disgust: 0.0785 - val_precision_fear: 0.3559 - val_precision_happy: 0.8798 - val_precision_neutral: 0.4188 - val_precision_sad: 0.5193 - val_precision_surprise: 0.7694 - val_recall: 0.3801 - val_recall_angry: 0.1212 - val_recall_disgust: 0.7440 - val_recall_fear: 0.1442 - val_recall_happy: 0.6344 - val_recall_neutral: 0.6178 - val_recall_sad: 0.0970 - val_recall_surprise: 0.4184 - lr: 0.0010\n",
      "Epoch 9/50\n",
      "740/740 [==============================] - ETA: 0s - loss: 1.0206 - accuracy: 0.6185 - precision: 0.7501 - precision_angry: 0.6869 - precision_disgust: 0.6774 - precision_fear: 0.6377 - precision_happy: 0.8667 - precision_neutral: 0.6745 - precision_sad: 0.6095 - precision_surprise: 0.7674 - recall: 0.4697 - recall_angry: 0.3436 - recall_disgust: 0.2911 - recall_fear: 0.1765 - recall_happy: 0.8004 - recall_neutral: 0.4267 - recall_sad: 0.2822 - recall_surprise: 0.6409\n",
      "Epoch 9: val_loss did not improve from 1.56491\n",
      "740/740 [==============================] - 869s 1s/step - loss: 1.0206 - accuracy: 0.6185 - precision: 0.7501 - precision_angry: 0.6869 - precision_disgust: 0.6774 - precision_fear: 0.6377 - precision_happy: 0.8667 - precision_neutral: 0.6745 - precision_sad: 0.6095 - precision_surprise: 0.7674 - recall: 0.4697 - recall_angry: 0.3436 - recall_disgust: 0.2911 - recall_fear: 0.1765 - recall_happy: 0.8004 - recall_neutral: 0.4267 - recall_sad: 0.2822 - recall_surprise: 0.6409 - val_loss: 1.7911 - val_accuracy: 0.3786 - val_precision: 0.4335 - val_precision_angry: 0.8571 - val_precision_disgust: 0.0583 - val_precision_fear: 0.4317 - val_precision_happy: 0.6427 - val_precision_neutral: 0.7622 - val_precision_sad: 0.4489 - val_precision_surprise: 0.8571 - val_recall: 0.2875 - val_recall_angry: 0.0220 - val_recall_disgust: 0.5600 - val_recall_fear: 0.0717 - val_recall_happy: 0.7024 - val_recall_neutral: 0.1395 - val_recall_sad: 0.3124 - val_recall_surprise: 0.1088 - lr: 0.0010\n",
      "Epoch 10/50\n",
      "740/740 [==============================] - ETA: 0s - loss: 0.9988 - accuracy: 0.6243 - precision: 0.7510 - precision_angry: 0.6875 - precision_disgust: 0.6770 - precision_fear: 0.6613 - precision_happy: 0.8730 - precision_neutral: 0.6711 - precision_sad: 0.6009 - precision_surprise: 0.7638 - recall: 0.4799 - recall_angry: 0.3612 - recall_disgust: 0.3030 - recall_fear: 0.1830 - recall_happy: 0.8162 - recall_neutral: 0.4374 - recall_sad: 0.2854 - recall_surprise: 0.6432\n",
      "Epoch 10: val_loss did not improve from 1.56491\n",
      "740/740 [==============================] - 863s 1s/step - loss: 0.9988 - accuracy: 0.6243 - precision: 0.7510 - precision_angry: 0.6875 - precision_disgust: 0.6770 - precision_fear: 0.6613 - precision_happy: 0.8730 - precision_neutral: 0.6711 - precision_sad: 0.6009 - precision_surprise: 0.7638 - recall: 0.4799 - recall_angry: 0.3612 - recall_disgust: 0.3030 - recall_fear: 0.1830 - recall_happy: 0.8162 - recall_neutral: 0.4374 - recall_sad: 0.2854 - recall_surprise: 0.6432 - val_loss: 1.9754 - val_accuracy: 0.3905 - val_precision: 0.4289 - val_precision_angry: 0.6842 - val_precision_disgust: 0.0560 - val_precision_fear: 0.3791 - val_precision_happy: 0.7454 - val_precision_neutral: 0.5970 - val_precision_sad: 0.5294 - val_precision_surprise: 0.7184 - val_recall: 0.3276 - val_recall_angry: 0.0158 - val_recall_disgust: 0.8016 - val_recall_fear: 0.0821 - val_recall_happy: 0.7240 - val_recall_neutral: 0.3591 - val_recall_sad: 0.0280 - val_recall_surprise: 0.4478 - lr: 0.0010\n",
      "Epoch 11/50\n",
      "740/740 [==============================] - ETA: 0s - loss: 0.9866 - accuracy: 0.6308 - precision: 0.7571 - precision_angry: 0.6935 - precision_disgust: 0.7028 - precision_fear: 0.6552 - precision_happy: 0.8775 - precision_neutral: 0.6782 - precision_sad: 0.6286 - precision_surprise: 0.7727 - recall: 0.4918 - recall_angry: 0.3736 - recall_disgust: 0.2962 - recall_fear: 0.1979 - recall_happy: 0.8132 - recall_neutral: 0.4626 - recall_sad: 0.3063 - recall_surprise: 0.6538\n",
      "Epoch 11: val_loss improved from 1.56491 to 1.55253, saving model to .\\model_mobilenet_v2_transfer_data_augmentation.h5\n",
      "740/740 [==============================] - 895s 1s/step - loss: 0.9866 - accuracy: 0.6308 - precision: 0.7571 - precision_angry: 0.6935 - precision_disgust: 0.7028 - precision_fear: 0.6552 - precision_happy: 0.8775 - precision_neutral: 0.6782 - precision_sad: 0.6286 - precision_surprise: 0.7727 - recall: 0.4918 - recall_angry: 0.3736 - recall_disgust: 0.2962 - recall_fear: 0.1979 - recall_happy: 0.8132 - recall_neutral: 0.4626 - recall_sad: 0.3063 - recall_surprise: 0.6538 - val_loss: 1.5525 - val_accuracy: 0.4924 - val_precision: 0.5906 - val_precision_angry: 0.5211 - val_precision_disgust: 0.0962 - val_precision_fear: 0.3967 - val_precision_happy: 0.7015 - val_precision_neutral: 0.7046 - val_precision_sad: 0.5590 - val_precision_surprise: 0.7109 - val_recall: 0.4095 - val_recall_angry: 0.2869 - val_recall_disgust: 0.2400 - val_recall_fear: 0.2572 - val_recall_happy: 0.8569 - val_recall_neutral: 0.1957 - val_recall_sad: 0.0928 - val_recall_surprise: 0.5857 - lr: 0.0010\n",
      "Epoch 12/50\n",
      "740/740 [==============================] - ETA: 0s - loss: 0.9651 - accuracy: 0.6379 - precision: 0.7579 - precision_angry: 0.6981 - precision_disgust: 0.7149 - precision_fear: 0.6645 - precision_happy: 0.8794 - precision_neutral: 0.6663 - precision_sad: 0.6323 - precision_surprise: 0.7794 - recall: 0.5023 - recall_angry: 0.3841 - recall_disgust: 0.3129 - recall_fear: 0.2155 - recall_happy: 0.8267 - recall_neutral: 0.4622 - recall_sad: 0.3135 - recall_surprise: 0.6689\n",
      "Epoch 12: val_loss did not improve from 1.55253\n",
      "740/740 [==============================] - 860s 1s/step - loss: 0.9651 - accuracy: 0.6379 - precision: 0.7579 - precision_angry: 0.6981 - precision_disgust: 0.7149 - precision_fear: 0.6645 - precision_happy: 0.8794 - precision_neutral: 0.6663 - precision_sad: 0.6323 - precision_surprise: 0.7794 - recall: 0.5023 - recall_angry: 0.3841 - recall_disgust: 0.3129 - recall_fear: 0.2155 - recall_happy: 0.8267 - recall_neutral: 0.4622 - recall_sad: 0.3135 - recall_surprise: 0.6689 - val_loss: 1.7539 - val_accuracy: 0.4633 - val_precision: 0.5366 - val_precision_angry: 0.6818 - val_precision_disgust: 0.3750 - val_precision_fear: 0.3554 - val_precision_happy: 0.7103 - val_precision_neutral: 0.6360 - val_precision_sad: 0.6061 - val_precision_surprise: 0.3633 - val_recall: 0.3988 - val_recall_angry: 0.1829 - val_recall_disgust: 0.0476 - val_recall_fear: 0.2043 - val_recall_happy: 0.7753 - val_recall_neutral: 0.2802 - val_recall_sad: 0.0414 - val_recall_surprise: 0.8528 - lr: 0.0010\n",
      "Epoch 13/50\n",
      "740/740 [==============================] - ETA: 0s - loss: 0.9603 - accuracy: 0.6385 - precision: 0.7606 - precision_angry: 0.6954 - precision_disgust: 0.7123 - precision_fear: 0.6564 - precision_happy: 0.8801 - precision_neutral: 0.6881 - precision_sad: 0.6328 - precision_surprise: 0.7841 - recall: 0.5077 - recall_angry: 0.3893 - recall_disgust: 0.3089 - recall_fear: 0.2156 - recall_happy: 0.8268 - recall_neutral: 0.4802 - recall_sad: 0.3315 - recall_surprise: 0.6570\n",
      "Epoch 13: val_loss improved from 1.55253 to 1.40980, saving model to .\\model_mobilenet_v2_transfer_data_augmentation.h5\n",
      "740/740 [==============================] - 877s 1s/step - loss: 0.9603 - accuracy: 0.6385 - precision: 0.7606 - precision_angry: 0.6954 - precision_disgust: 0.7123 - precision_fear: 0.6564 - precision_happy: 0.8801 - precision_neutral: 0.6881 - precision_sad: 0.6328 - precision_surprise: 0.7841 - recall: 0.5077 - recall_angry: 0.3893 - recall_disgust: 0.3089 - recall_fear: 0.2156 - recall_happy: 0.8268 - recall_neutral: 0.4802 - recall_sad: 0.3315 - recall_surprise: 0.6570 - val_loss: 1.4098 - val_accuracy: 0.5087 - val_precision: 0.6153 - val_precision_angry: 0.5320 - val_precision_disgust: 0.1346 - val_precision_fear: 0.4758 - val_precision_happy: 0.8963 - val_precision_neutral: 0.6465 - val_precision_sad: 0.6150 - val_precision_surprise: 0.5612 - val_recall: 0.4020 - val_recall_angry: 0.3333 - val_recall_disgust: 0.3360 - val_recall_fear: 0.1865 - val_recall_happy: 0.5831 - val_recall_neutral: 0.4032 - val_recall_sad: 0.1273 - val_recall_surprise: 0.7736 - lr: 0.0010\n",
      "Epoch 14/50\n",
      "740/740 [==============================] - ETA: 0s - loss: 0.9375 - accuracy: 0.6488 - precision: 0.7653 - precision_angry: 0.7015 - precision_disgust: 0.7577 - precision_fear: 0.6693 - precision_happy: 0.8863 - precision_neutral: 0.6785 - precision_sad: 0.6472 - precision_surprise: 0.7848 - recall: 0.5168 - recall_angry: 0.4045 - recall_disgust: 0.3909 - recall_fear: 0.2239 - recall_happy: 0.8369 - recall_neutral: 0.4742 - recall_sad: 0.3355 - recall_surprise: 0.6743\n",
      "Epoch 14: val_loss improved from 1.40980 to 1.28992, saving model to .\\model_mobilenet_v2_transfer_data_augmentation.h5\n",
      "740/740 [==============================] - 874s 1s/step - loss: 0.9375 - accuracy: 0.6488 - precision: 0.7653 - precision_angry: 0.7015 - precision_disgust: 0.7577 - precision_fear: 0.6693 - precision_happy: 0.8863 - precision_neutral: 0.6785 - precision_sad: 0.6472 - precision_surprise: 0.7848 - recall: 0.5168 - recall_angry: 0.4045 - recall_disgust: 0.3909 - recall_fear: 0.2239 - recall_happy: 0.8369 - recall_neutral: 0.4742 - recall_sad: 0.3355 - recall_surprise: 0.6743 - val_loss: 1.2899 - val_accuracy: 0.5657 - val_precision: 0.6352 - val_precision_angry: 0.7163 - val_precision_disgust: 1.0000 - val_precision_fear: 0.6000 - val_precision_happy: 0.6715 - val_precision_neutral: 0.5379 - val_precision_sad: 0.5201 - val_precision_surprise: 0.8169 - val_recall: 0.4820 - val_recall_angry: 0.2515 - val_recall_disgust: 0.0400 - val_recall_fear: 0.1179 - val_recall_happy: 0.9172 - val_recall_neutral: 0.4926 - val_recall_sad: 0.3616 - val_recall_surprise: 0.5129 - lr: 0.0010\n",
      "Epoch 15/50\n",
      "740/740 [==============================] - ETA: 0s - loss: 0.9340 - accuracy: 0.6526 - precision: 0.7657 - precision_angry: 0.7013 - precision_disgust: 0.6840 - precision_fear: 0.6692 - precision_happy: 0.8914 - precision_neutral: 0.6864 - precision_sad: 0.6487 - precision_surprise: 0.7818 - recall: 0.5194 - recall_angry: 0.3951 - recall_disgust: 0.3386 - recall_fear: 0.2393 - recall_happy: 0.8330 - recall_neutral: 0.4822 - recall_sad: 0.3498 - recall_surprise: 0.6753\n",
      "Epoch 15: val_loss did not improve from 1.28992\n",
      "740/740 [==============================] - 869s 1s/step - loss: 0.9340 - accuracy: 0.6526 - precision: 0.7657 - precision_angry: 0.7013 - precision_disgust: 0.6840 - precision_fear: 0.6692 - precision_happy: 0.8914 - precision_neutral: 0.6864 - precision_sad: 0.6487 - precision_surprise: 0.7818 - recall: 0.5194 - recall_angry: 0.3951 - recall_disgust: 0.3386 - recall_fear: 0.2393 - recall_happy: 0.8330 - recall_neutral: 0.4822 - recall_sad: 0.3498 - recall_surprise: 0.6753 - val_loss: 1.4611 - val_accuracy: 0.5358 - val_precision: 0.5907 - val_precision_angry: 0.4792 - val_precision_disgust: 0.3784 - val_precision_fear: 0.7667 - val_precision_happy: 0.7790 - val_precision_neutral: 0.4317 - val_precision_sad: 0.6340 - val_precision_surprise: 0.6734 - val_recall: 0.4920 - val_recall_angry: 0.3939 - val_recall_disgust: 0.1111 - val_recall_fear: 0.0274 - val_recall_happy: 0.8354 - val_recall_neutral: 0.7505 - val_recall_sad: 0.1273 - val_recall_surprise: 0.6541 - lr: 0.0010\n",
      "Epoch 16/50\n",
      "740/740 [==============================] - ETA: 0s - loss: 0.9128 - accuracy: 0.6563 - precision: 0.7705 - precision_angry: 0.7235 - precision_disgust: 0.7416 - precision_fear: 0.6835 - precision_happy: 0.8911 - precision_neutral: 0.6832 - precision_sad: 0.6526 - precision_surprise: 0.7908 - recall: 0.5341 - recall_angry: 0.4244 - recall_disgust: 0.3921 - recall_fear: 0.2562 - recall_happy: 0.8438 - recall_neutral: 0.4879 - recall_sad: 0.3644 - recall_surprise: 0.6844\n",
      "Epoch 16: val_loss did not improve from 1.28992\n",
      "740/740 [==============================] - 853s 1s/step - loss: 0.9128 - accuracy: 0.6563 - precision: 0.7705 - precision_angry: 0.7235 - precision_disgust: 0.7416 - precision_fear: 0.6835 - precision_happy: 0.8911 - precision_neutral: 0.6832 - precision_sad: 0.6526 - precision_surprise: 0.7908 - recall: 0.5341 - recall_angry: 0.4244 - recall_disgust: 0.3921 - recall_fear: 0.2562 - recall_happy: 0.8438 - recall_neutral: 0.4879 - recall_sad: 0.3644 - recall_surprise: 0.6844 - val_loss: 1.2980 - val_accuracy: 0.5430 - val_precision: 0.6071 - val_precision_angry: 0.5672 - val_precision_disgust: 0.3750 - val_precision_fear: 0.3207 - val_precision_happy: 0.8024 - val_precision_neutral: 0.6817 - val_precision_sad: 0.6757 - val_precision_surprise: 0.7766 - val_recall: 0.4762 - val_recall_angry: 0.4214 - val_recall_disgust: 0.0714 - val_recall_fear: 0.5257 - val_recall_happy: 0.8210 - val_recall_neutral: 0.3749 - val_recall_sad: 0.0515 - val_recall_surprise: 0.5734 - lr: 0.0010\n",
      "Epoch 17/50\n",
      "740/740 [==============================] - ETA: 0s - loss: 0.9048 - accuracy: 0.6617 - precision: 0.7687 - precision_angry: 0.7175 - precision_disgust: 0.7345 - precision_fear: 0.6730 - precision_happy: 0.8808 - precision_neutral: 0.6968 - precision_sad: 0.6554 - precision_surprise: 0.7976 - recall: 0.5403 - recall_angry: 0.4203 - recall_disgust: 0.4008 - recall_fear: 0.2627 - recall_happy: 0.8432 - recall_neutral: 0.5199 - recall_sad: 0.3629 - recall_surprise: 0.6885\n",
      "Epoch 17: val_loss improved from 1.28992 to 1.24247, saving model to .\\model_mobilenet_v2_transfer_data_augmentation.h5\n",
      "740/740 [==============================] - 876s 1s/step - loss: 0.9048 - accuracy: 0.6617 - precision: 0.7687 - precision_angry: 0.7175 - precision_disgust: 0.7345 - precision_fear: 0.6730 - precision_happy: 0.8808 - precision_neutral: 0.6968 - precision_sad: 0.6554 - precision_surprise: 0.7976 - recall: 0.5403 - recall_angry: 0.4203 - recall_disgust: 0.4008 - recall_fear: 0.2627 - recall_happy: 0.8432 - recall_neutral: 0.5199 - recall_sad: 0.3629 - recall_surprise: 0.6885 - val_loss: 1.2425 - val_accuracy: 0.5703 - val_precision: 0.6443 - val_precision_angry: 0.6237 - val_precision_disgust: 0.6250 - val_precision_fear: 0.5726 - val_precision_happy: 0.8007 - val_precision_neutral: 0.4775 - val_precision_sad: 0.6047 - val_precision_surprise: 0.7662 - val_recall: 0.4937 - val_recall_angry: 0.2962 - val_recall_disgust: 0.2400 - val_recall_fear: 0.1697 - val_recall_happy: 0.8182 - val_recall_neutral: 0.7012 - val_recall_sad: 0.2377 - val_recall_surprise: 0.5364 - lr: 0.0010\n",
      "Epoch 18/50\n",
      "740/740 [==============================] - ETA: 0s - loss: 0.8928 - accuracy: 0.6671 - precision: 0.7757 - precision_angry: 0.7230 - precision_disgust: 0.7442 - precision_fear: 0.6824 - precision_happy: 0.8907 - precision_neutral: 0.7025 - precision_sad: 0.6652 - precision_surprise: 0.8088 - recall: 0.5525 - recall_angry: 0.4367 - recall_disgust: 0.3802 - recall_fear: 0.2748 - recall_happy: 0.8484 - recall_neutral: 0.5265 - recall_sad: 0.3960 - recall_surprise: 0.6958\n",
      "Epoch 18: val_loss did not improve from 1.24247\n",
      "740/740 [==============================] - 871s 1s/step - loss: 0.8928 - accuracy: 0.6671 - precision: 0.7757 - precision_angry: 0.7230 - precision_disgust: 0.7442 - precision_fear: 0.6824 - precision_happy: 0.8907 - precision_neutral: 0.7025 - precision_sad: 0.6652 - precision_surprise: 0.8088 - recall: 0.5525 - recall_angry: 0.4367 - recall_disgust: 0.3802 - recall_fear: 0.2748 - recall_happy: 0.8484 - recall_neutral: 0.5265 - recall_sad: 0.3960 - recall_surprise: 0.6958 - val_loss: 1.2473 - val_accuracy: 0.5513 - val_precision: 0.6394 - val_precision_angry: 0.3907 - val_precision_disgust: 0.6000 - val_precision_fear: 0.5777 - val_precision_happy: 0.9214 - val_precision_neutral: 0.6360 - val_precision_sad: 0.6757 - val_precision_surprise: 0.7642 - val_recall: 0.4586 - val_recall_angry: 0.6577 - val_recall_disgust: 0.1905 - val_recall_fear: 0.1734 - val_recall_happy: 0.6487 - val_recall_neutral: 0.4510 - val_recall_sad: 0.2312 - val_recall_surprise: 0.5492 - lr: 0.0010\n",
      "Epoch 19/50\n",
      "740/740 [==============================] - ETA: 0s - loss: 0.8820 - accuracy: 0.6664 - precision: 0.7773 - precision_angry: 0.7215 - precision_disgust: 0.7439 - precision_fear: 0.7035 - precision_happy: 0.8902 - precision_neutral: 0.6997 - precision_sad: 0.6762 - precision_surprise: 0.7968 - recall: 0.5510 - recall_angry: 0.4399 - recall_disgust: 0.4215 - recall_fear: 0.2816 - recall_happy: 0.8476 - recall_neutral: 0.5175 - recall_sad: 0.3833 - recall_surprise: 0.6959\n",
      "Epoch 19: val_loss improved from 1.24247 to 1.18571, saving model to .\\model_mobilenet_v2_transfer_data_augmentation.h5\n",
      "740/740 [==============================] - 855s 1s/step - loss: 0.8820 - accuracy: 0.6664 - precision: 0.7773 - precision_angry: 0.7215 - precision_disgust: 0.7439 - precision_fear: 0.7035 - precision_happy: 0.8902 - precision_neutral: 0.6997 - precision_sad: 0.6762 - precision_surprise: 0.7968 - recall: 0.5510 - recall_angry: 0.4399 - recall_disgust: 0.4215 - recall_fear: 0.2816 - recall_happy: 0.8476 - recall_neutral: 0.5175 - recall_sad: 0.3833 - recall_surprise: 0.6959 - val_loss: 1.1857 - val_accuracy: 0.5608 - val_precision: 0.6512 - val_precision_angry: 0.7080 - val_precision_disgust: 0.1791 - val_precision_fear: 0.5215 - val_precision_happy: 0.8716 - val_precision_neutral: 0.6080 - val_precision_sad: 0.5092 - val_precision_surprise: 0.7877 - val_recall: 0.4662 - val_recall_angry: 0.1954 - val_recall_disgust: 0.5806 - val_recall_fear: 0.2026 - val_recall_happy: 0.7984 - val_recall_neutral: 0.4229 - val_recall_sad: 0.3986 - val_recall_surprise: 0.5455 - lr: 0.0010\n",
      "Epoch 20/50\n",
      "740/740 [==============================] - ETA: 0s - loss: 0.8654 - accuracy: 0.6782 - precision: 0.7780 - precision_angry: 0.7345 - precision_disgust: 0.7386 - precision_fear: 0.6762 - precision_happy: 0.8930 - precision_neutral: 0.7071 - precision_sad: 0.6649 - precision_surprise: 0.8171 - recall: 0.5648 - recall_angry: 0.4582 - recall_disgust: 0.4493 - recall_fear: 0.3086 - recall_happy: 0.8555 - recall_neutral: 0.5314 - recall_sad: 0.3970 - recall_surprise: 0.6967\n",
      "Epoch 20: val_loss did not improve from 1.18571\n",
      "740/740 [==============================] - 870s 1s/step - loss: 0.8654 - accuracy: 0.6782 - precision: 0.7780 - precision_angry: 0.7345 - precision_disgust: 0.7386 - precision_fear: 0.6762 - precision_happy: 0.8930 - precision_neutral: 0.7071 - precision_sad: 0.6649 - precision_surprise: 0.8171 - recall: 0.5648 - recall_angry: 0.4582 - recall_disgust: 0.4493 - recall_fear: 0.3086 - recall_happy: 0.8555 - recall_neutral: 0.5314 - recall_sad: 0.3970 - recall_surprise: 0.6967 - val_loss: 1.2246 - val_accuracy: 0.5605 - val_precision: 0.6487 - val_precision_angry: 0.4600 - val_precision_disgust: 0.2387 - val_precision_fear: 0.4915 - val_precision_happy: 0.8867 - val_precision_neutral: 0.6236 - val_precision_sad: 0.6533 - val_precision_surprise: 0.8070 - val_recall: 0.4771 - val_recall_angry: 0.5383 - val_recall_disgust: 0.4677 - val_recall_fear: 0.2422 - val_recall_happy: 0.7481 - val_recall_neutral: 0.4306 - val_recall_sad: 0.2351 - val_recall_surprise: 0.5258 - lr: 0.0010\n",
      "Epoch 21/50\n",
      "740/740 [==============================] - ETA: 0s - loss: 0.8624 - accuracy: 0.6782 - precision: 0.7768 - precision_angry: 0.7402 - precision_disgust: 0.7368 - precision_fear: 0.6633 - precision_happy: 0.8906 - precision_neutral: 0.7036 - precision_sad: 0.6803 - precision_surprise: 0.8040 - recall: 0.5673 - recall_angry: 0.4655 - recall_disgust: 0.4436 - recall_fear: 0.2948 - recall_happy: 0.8571 - recall_neutral: 0.5423 - recall_sad: 0.4001 - recall_surprise: 0.7043\n",
      "Epoch 21: val_loss did not improve from 1.18571\n",
      "740/740 [==============================] - 857s 1s/step - loss: 0.8624 - accuracy: 0.6782 - precision: 0.7768 - precision_angry: 0.7402 - precision_disgust: 0.7368 - precision_fear: 0.6633 - precision_happy: 0.8906 - precision_neutral: 0.7036 - precision_sad: 0.6803 - precision_surprise: 0.8040 - recall: 0.5673 - recall_angry: 0.4655 - recall_disgust: 0.4436 - recall_fear: 0.2948 - recall_happy: 0.8571 - recall_neutral: 0.5423 - recall_sad: 0.4001 - recall_surprise: 0.7043 - val_loss: 1.2010 - val_accuracy: 0.5921 - val_precision: 0.6494 - val_precision_angry: 0.5906 - val_precision_disgust: 0.7647 - val_precision_fear: 0.5944 - val_precision_happy: 0.8444 - val_precision_neutral: 0.4726 - val_precision_sad: 0.6420 - val_precision_surprise: 0.8289 - val_recall: 0.5307 - val_recall_angry: 0.4446 - val_recall_disgust: 0.1032 - val_recall_fear: 0.2038 - val_recall_happy: 0.7989 - val_recall_neutral: 0.7946 - val_recall_sad: 0.2330 - val_recall_surprise: 0.5710 - lr: 0.0010\n",
      "Epoch 22/50\n",
      "740/740 [==============================] - ETA: 0s - loss: 0.8486 - accuracy: 0.6832 - precision: 0.7795 - precision_angry: 0.7317 - precision_disgust: 0.7857 - precision_fear: 0.6915 - precision_happy: 0.8965 - precision_neutral: 0.7022 - precision_sad: 0.6714 - precision_surprise: 0.8132 - recall: 0.5772 - recall_angry: 0.4590 - recall_disgust: 0.4574 - recall_fear: 0.3172 - recall_happy: 0.8660 - recall_neutral: 0.5484 - recall_sad: 0.4214 - recall_surprise: 0.7093\n",
      "Epoch 22: val_loss improved from 1.18571 to 1.10594, saving model to .\\model_mobilenet_v2_transfer_data_augmentation.h5\n",
      "740/740 [==============================] - 853s 1s/step - loss: 0.8486 - accuracy: 0.6832 - precision: 0.7795 - precision_angry: 0.7317 - precision_disgust: 0.7857 - precision_fear: 0.6915 - precision_happy: 0.8965 - precision_neutral: 0.7022 - precision_sad: 0.6714 - precision_surprise: 0.8132 - recall: 0.5772 - recall_angry: 0.4590 - recall_disgust: 0.4574 - recall_fear: 0.3172 - recall_happy: 0.8660 - recall_neutral: 0.5484 - recall_sad: 0.4214 - recall_surprise: 0.7093 - val_loss: 1.1059 - val_accuracy: 0.6094 - val_precision: 0.6814 - val_precision_angry: 0.7955 - val_precision_disgust: 0.4262 - val_precision_fear: 0.5144 - val_precision_happy: 0.8744 - val_precision_neutral: 0.5708 - val_precision_sad: 0.6118 - val_precision_surprise: 0.6478 - val_recall: 0.5391 - val_recall_angry: 0.2137 - val_recall_disgust: 0.4194 - val_recall_fear: 0.2768 - val_recall_happy: 0.8350 - val_recall_neutral: 0.6551 - val_recall_sad: 0.2993 - val_recall_surprise: 0.8142 - lr: 0.0010\n",
      "Epoch 23/50\n",
      "740/740 [==============================] - ETA: 0s - loss: 0.8447 - accuracy: 0.6861 - precision: 0.7808 - precision_angry: 0.7433 - precision_disgust: 0.7578 - precision_fear: 0.7024 - precision_happy: 0.8962 - precision_neutral: 0.7080 - precision_sad: 0.6702 - precision_surprise: 0.8049 - recall: 0.5777 - recall_angry: 0.4716 - recall_disgust: 0.4832 - recall_fear: 0.3176 - recall_happy: 0.8573 - recall_neutral: 0.5511 - recall_sad: 0.4204 - recall_surprise: 0.7093\n",
      "Epoch 23: val_loss did not improve from 1.10594\n",
      "740/740 [==============================] - 876s 1s/step - loss: 0.8447 - accuracy: 0.6861 - precision: 0.7808 - precision_angry: 0.7433 - precision_disgust: 0.7578 - precision_fear: 0.7024 - precision_happy: 0.8962 - precision_neutral: 0.7080 - precision_sad: 0.6702 - precision_surprise: 0.8049 - recall: 0.5777 - recall_angry: 0.4716 - recall_disgust: 0.4832 - recall_fear: 0.3176 - recall_happy: 0.8573 - recall_neutral: 0.5511 - recall_sad: 0.4204 - recall_surprise: 0.7093 - val_loss: 1.2940 - val_accuracy: 0.5832 - val_precision: 0.6368 - val_precision_angry: 0.6140 - val_precision_disgust: 0.2824 - val_precision_fear: 0.6211 - val_precision_happy: 0.8864 - val_precision_neutral: 0.4764 - val_precision_sad: 0.6555 - val_precision_surprise: 0.6727 - val_recall: 0.5360 - val_recall_angry: 0.4156 - val_recall_disgust: 0.4841 - val_recall_fear: 0.1411 - val_recall_happy: 0.7775 - val_recall_neutral: 0.7695 - val_recall_sad: 0.2027 - val_recall_surprise: 0.7909 - lr: 0.0010\n",
      "Epoch 24/50\n",
      "740/740 [==============================] - ETA: 0s - loss: 0.8372 - accuracy: 0.6854 - precision: 0.7847 - precision_angry: 0.7470 - precision_disgust: 0.7942 - precision_fear: 0.6954 - precision_happy: 0.9004 - precision_neutral: 0.7083 - precision_sad: 0.6798 - precision_surprise: 0.8158 - recall: 0.5843 - recall_angry: 0.4769 - recall_disgust: 0.4891 - recall_fear: 0.3249 - recall_happy: 0.8613 - recall_neutral: 0.5623 - recall_sad: 0.4304 - recall_surprise: 0.7113\n",
      "Epoch 24: val_loss did not improve from 1.10594\n",
      "740/740 [==============================] - 863s 1s/step - loss: 0.8372 - accuracy: 0.6854 - precision: 0.7847 - precision_angry: 0.7470 - precision_disgust: 0.7942 - precision_fear: 0.6954 - precision_happy: 0.9004 - precision_neutral: 0.7083 - precision_sad: 0.6798 - precision_surprise: 0.8158 - recall: 0.5843 - recall_angry: 0.4769 - recall_disgust: 0.4891 - recall_fear: 0.3249 - recall_happy: 0.8613 - recall_neutral: 0.5623 - recall_sad: 0.4304 - recall_surprise: 0.7113 - val_loss: 1.3040 - val_accuracy: 0.5581 - val_precision: 0.6361 - val_precision_angry: 0.5382 - val_precision_disgust: 0.1563 - val_precision_fear: 0.6307 - val_precision_happy: 0.9355 - val_precision_neutral: 0.5836 - val_precision_sad: 0.6602 - val_precision_surprise: 0.6489 - val_recall: 0.4813 - val_recall_angry: 0.4651 - val_recall_disgust: 0.5887 - val_recall_fear: 0.1818 - val_recall_happy: 0.6928 - val_recall_neutral: 0.5128 - val_recall_sad: 0.1761 - val_recall_surprise: 0.7912 - lr: 0.0010\n",
      "Epoch 25/50\n",
      "740/740 [==============================] - ETA: 0s - loss: 0.8267 - accuracy: 0.6914 - precision: 0.7879 - precision_angry: 0.7425 - precision_disgust: 0.7478 - precision_fear: 0.7007 - precision_happy: 0.8974 - precision_neutral: 0.7215 - precision_sad: 0.6954 - precision_surprise: 0.8165 - recall: 0.5879 - recall_angry: 0.4798 - recall_disgust: 0.5000 - recall_fear: 0.3338 - recall_happy: 0.8619 - recall_neutral: 0.5620 - recall_sad: 0.4360 - recall_surprise: 0.7157\n",
      "Epoch 25: val_loss did not improve from 1.10594\n",
      "740/740 [==============================] - 933s 1s/step - loss: 0.8267 - accuracy: 0.6914 - precision: 0.7879 - precision_angry: 0.7425 - precision_disgust: 0.7478 - precision_fear: 0.7007 - precision_happy: 0.8974 - precision_neutral: 0.7215 - precision_sad: 0.6954 - precision_surprise: 0.8165 - recall: 0.5879 - recall_angry: 0.4798 - recall_disgust: 0.5000 - recall_fear: 0.3338 - recall_happy: 0.8619 - recall_neutral: 0.5620 - recall_sad: 0.4360 - recall_surprise: 0.7157 - val_loss: 1.2886 - val_accuracy: 0.5690 - val_precision: 0.6234 - val_precision_angry: 0.7118 - val_precision_disgust: 0.2254 - val_precision_fear: 0.5724 - val_precision_happy: 0.8338 - val_precision_neutral: 0.5198 - val_precision_sad: 0.5194 - val_precision_surprise: 0.6545 - val_recall: 0.5134 - val_recall_angry: 0.1474 - val_recall_disgust: 0.5635 - val_recall_fear: 0.1976 - val_recall_happy: 0.8122 - val_recall_neutral: 0.5853 - val_recall_sad: 0.4138 - val_recall_surprise: 0.7348 - lr: 0.0010\n",
      "Epoch 26/50\n",
      "740/740 [==============================] - ETA: 0s - loss: 0.8048 - accuracy: 0.7011 - precision: 0.7890 - precision_angry: 0.7513 - precision_disgust: 0.7857 - precision_fear: 0.7114 - precision_happy: 0.9004 - precision_neutral: 0.7169 - precision_sad: 0.6897 - precision_surprise: 0.8190 - recall: 0.6040 - recall_angry: 0.5146 - recall_disgust: 0.5030 - recall_fear: 0.3557 - recall_happy: 0.8712 - recall_neutral: 0.5765 - recall_sad: 0.4488 - recall_surprise: 0.7267\n",
      "Epoch 26: val_loss did not improve from 1.10594\n",
      "740/740 [==============================] - 1053s 1s/step - loss: 0.8048 - accuracy: 0.7011 - precision: 0.7890 - precision_angry: 0.7513 - precision_disgust: 0.7857 - precision_fear: 0.7114 - precision_happy: 0.9004 - precision_neutral: 0.7169 - precision_sad: 0.6897 - precision_surprise: 0.8190 - recall: 0.6040 - recall_angry: 0.5146 - recall_disgust: 0.5030 - recall_fear: 0.3557 - recall_happy: 0.8712 - recall_neutral: 0.5765 - recall_sad: 0.4488 - recall_surprise: 0.7267 - val_loss: 1.1748 - val_accuracy: 0.5982 - val_precision: 0.6666 - val_precision_angry: 0.6823 - val_precision_disgust: 0.6875 - val_precision_fear: 0.7524 - val_precision_happy: 0.8684 - val_precision_neutral: 0.5065 - val_precision_sad: 0.5737 - val_precision_surprise: 0.6717 - val_recall: 0.5352 - val_recall_angry: 0.3203 - val_recall_disgust: 0.1760 - val_recall_fear: 0.0943 - val_recall_happy: 0.8061 - val_recall_neutral: 0.7702 - val_recall_sad: 0.3020 - val_recall_surprise: 0.8079 - lr: 0.0010\n",
      "Epoch 27/50\n",
      "740/740 [==============================] - ETA: 0s - loss: 0.8037 - accuracy: 0.6996 - precision: 0.7866 - precision_angry: 0.7406 - precision_disgust: 0.7744 - precision_fear: 0.6949 - precision_happy: 0.8992 - precision_neutral: 0.7200 - precision_sad: 0.6969 - precision_surprise: 0.8176 - recall: 0.6030 - recall_angry: 0.5026 - recall_disgust: 0.5050 - recall_fear: 0.3550 - recall_happy: 0.8679 - recall_neutral: 0.5865 - recall_sad: 0.4522 - recall_surprise: 0.7210\n",
      "Epoch 27: val_loss did not improve from 1.10594\n",
      "\n",
      "Epoch 27: ReduceLROnPlateau reducing learning rate to 0.00010000000474974513.\n",
      "740/740 [==============================] - 1061s 1s/step - loss: 0.8037 - accuracy: 0.6996 - precision: 0.7866 - precision_angry: 0.7406 - precision_disgust: 0.7744 - precision_fear: 0.6949 - precision_happy: 0.8992 - precision_neutral: 0.7200 - precision_sad: 0.6969 - precision_surprise: 0.8176 - recall: 0.6030 - recall_angry: 0.5026 - recall_disgust: 0.5050 - recall_fear: 0.3550 - recall_happy: 0.8679 - recall_neutral: 0.5865 - recall_sad: 0.4522 - recall_surprise: 0.7210 - val_loss: 1.1798 - val_accuracy: 0.6063 - val_precision: 0.6619 - val_precision_angry: 0.6519 - val_precision_disgust: 0.5676 - val_precision_fear: 0.5567 - val_precision_happy: 0.7755 - val_precision_neutral: 0.5982 - val_precision_sad: 0.5047 - val_precision_surprise: 0.8661 - val_recall: 0.5486 - val_recall_angry: 0.4129 - val_recall_disgust: 0.3360 - val_recall_fear: 0.1926 - val_recall_happy: 0.8900 - val_recall_neutral: 0.5307 - val_recall_sad: 0.5496 - val_recall_surprise: 0.4803 - lr: 0.0010\n",
      "Epoch 28/50\n",
      "740/740 [==============================] - ETA: 0s - loss: 0.7076 - accuracy: 0.7350 - precision: 0.8112 - precision_angry: 0.7831 - precision_disgust: 0.8417 - precision_fear: 0.7335 - precision_happy: 0.9157 - precision_neutral: 0.7553 - precision_sad: 0.7070 - precision_surprise: 0.8445 - recall: 0.6516 - recall_angry: 0.5756 - recall_disgust: 0.6634 - recall_fear: 0.3924 - recall_happy: 0.8962 - recall_neutral: 0.6357 - recall_sad: 0.5108 - recall_surprise: 0.7623\n",
      "Epoch 28: val_loss improved from 1.10594 to 0.94833, saving model to .\\model_mobilenet_v2_transfer_data_augmentation.h5\n",
      "740/740 [==============================] - 1032s 1s/step - loss: 0.7076 - accuracy: 0.7350 - precision: 0.8112 - precision_angry: 0.7831 - precision_disgust: 0.8417 - precision_fear: 0.7335 - precision_happy: 0.9157 - precision_neutral: 0.7553 - precision_sad: 0.7070 - precision_surprise: 0.8445 - recall: 0.6516 - recall_angry: 0.5756 - recall_disgust: 0.6634 - recall_fear: 0.3924 - recall_happy: 0.8962 - recall_neutral: 0.6357 - recall_sad: 0.5108 - recall_surprise: 0.7623 - val_loss: 0.9483 - val_accuracy: 0.6605 - val_precision: 0.7332 - val_precision_angry: 0.6856 - val_precision_disgust: 0.7432 - val_precision_fear: 0.6034 - val_precision_happy: 0.8766 - val_precision_neutral: 0.6348 - val_precision_sad: 0.6312 - val_precision_surprise: 0.8090 - val_recall: 0.5919 - val_recall_angry: 0.4573 - val_recall_disgust: 0.4400 - val_recall_fear: 0.3373 - val_recall_happy: 0.8634 - val_recall_neutral: 0.6436 - val_recall_sad: 0.4050 - val_recall_surprise: 0.7039 - lr: 1.0000e-04\n",
      "Epoch 29/50\n",
      "740/740 [==============================] - ETA: 0s - loss: 0.6874 - accuracy: 0.7436 - precision: 0.8169 - precision_angry: 0.7877 - precision_disgust: 0.8650 - precision_fear: 0.7438 - precision_happy: 0.9191 - precision_neutral: 0.7545 - precision_sad: 0.7224 - precision_surprise: 0.8529 - recall: 0.6666 - recall_angry: 0.5884 - recall_disgust: 0.6851 - recall_fear: 0.4291 - recall_happy: 0.9036 - recall_neutral: 0.6477 - recall_sad: 0.5214 - recall_surprise: 0.7780\n",
      "Epoch 29: val_loss improved from 0.94833 to 0.92312, saving model to .\\model_mobilenet_v2_transfer_data_augmentation.h5\n",
      "740/740 [==============================] - 1005s 1s/step - loss: 0.6874 - accuracy: 0.7436 - precision: 0.8169 - precision_angry: 0.7877 - precision_disgust: 0.8650 - precision_fear: 0.7438 - precision_happy: 0.9191 - precision_neutral: 0.7545 - precision_sad: 0.7224 - precision_surprise: 0.8529 - recall: 0.6666 - recall_angry: 0.5884 - recall_disgust: 0.6851 - recall_fear: 0.4291 - recall_happy: 0.9036 - recall_neutral: 0.6477 - recall_sad: 0.5214 - recall_surprise: 0.7780 - val_loss: 0.9231 - val_accuracy: 0.6666 - val_precision: 0.7411 - val_precision_angry: 0.6770 - val_precision_disgust: 0.7460 - val_precision_fear: 0.6366 - val_precision_happy: 0.8666 - val_precision_neutral: 0.6569 - val_precision_sad: 0.6286 - val_precision_surprise: 0.8169 - val_recall: 0.5881 - val_recall_angry: 0.4554 - val_recall_disgust: 0.3760 - val_recall_fear: 0.3194 - val_recall_happy: 0.8772 - val_recall_neutral: 0.5970 - val_recall_sad: 0.4258 - val_recall_surprise: 0.7178 - lr: 1.0000e-04\n",
      "Epoch 30/50\n",
      "740/740 [==============================] - ETA: 0s - loss: 0.6678 - accuracy: 0.7509 - precision: 0.8191 - precision_angry: 0.7950 - precision_disgust: 0.8407 - precision_fear: 0.7532 - precision_happy: 0.9156 - precision_neutral: 0.7584 - precision_sad: 0.7328 - precision_surprise: 0.8535 - recall: 0.6791 - recall_angry: 0.6033 - recall_disgust: 0.6792 - recall_fear: 0.4374 - recall_happy: 0.9061 - recall_neutral: 0.6578 - recall_sad: 0.5502 - recall_surprise: 0.7989\n",
      "Epoch 30: val_loss did not improve from 0.92312\n",
      "740/740 [==============================] - 1000s 1s/step - loss: 0.6678 - accuracy: 0.7509 - precision: 0.8191 - precision_angry: 0.7950 - precision_disgust: 0.8407 - precision_fear: 0.7532 - precision_happy: 0.9156 - precision_neutral: 0.7584 - precision_sad: 0.7328 - precision_surprise: 0.8535 - recall: 0.6791 - recall_angry: 0.6033 - recall_disgust: 0.6792 - recall_fear: 0.4374 - recall_happy: 0.9061 - recall_neutral: 0.6578 - recall_sad: 0.5502 - recall_surprise: 0.7989 - val_loss: 0.9244 - val_accuracy: 0.6683 - val_precision: 0.7410 - val_precision_angry: 0.6964 - val_precision_disgust: 0.7941 - val_precision_fear: 0.6075 - val_precision_happy: 0.8849 - val_precision_neutral: 0.6456 - val_precision_sad: 0.6233 - val_precision_surprise: 0.8179 - val_recall: 0.5904 - val_recall_angry: 0.4481 - val_recall_disgust: 0.4286 - val_recall_fear: 0.3477 - val_recall_happy: 0.8716 - val_recall_neutral: 0.6073 - val_recall_sad: 0.4192 - val_recall_surprise: 0.7076 - lr: 1.0000e-04\n",
      "Epoch 31/50\n",
      "740/740 [==============================] - ETA: 0s - loss: 0.6626 - accuracy: 0.7528 - precision: 0.8216 - precision_angry: 0.7890 - precision_disgust: 0.8684 - precision_fear: 0.7429 - precision_happy: 0.9243 - precision_neutral: 0.7611 - precision_sad: 0.7346 - precision_surprise: 0.8612 - recall: 0.6811 - recall_angry: 0.5989 - recall_disgust: 0.7188 - recall_fear: 0.4519 - recall_happy: 0.9054 - recall_neutral: 0.6635 - recall_sad: 0.5451 - recall_surprise: 0.7966\n",
      "Epoch 31: val_loss improved from 0.92312 to 0.92109, saving model to .\\model_mobilenet_v2_transfer_data_augmentation.h5\n",
      "740/740 [==============================] - 1015s 1s/step - loss: 0.6626 - accuracy: 0.7528 - precision: 0.8216 - precision_angry: 0.7890 - precision_disgust: 0.8684 - precision_fear: 0.7429 - precision_happy: 0.9243 - precision_neutral: 0.7611 - precision_sad: 0.7346 - precision_surprise: 0.8612 - recall: 0.6811 - recall_angry: 0.5989 - recall_disgust: 0.7188 - recall_fear: 0.4519 - recall_happy: 0.9054 - recall_neutral: 0.6635 - recall_sad: 0.5451 - recall_surprise: 0.7966 - val_loss: 0.9211 - val_accuracy: 0.6734 - val_precision: 0.7446 - val_precision_angry: 0.7091 - val_precision_disgust: 0.7470 - val_precision_fear: 0.6430 - val_precision_happy: 0.8758 - val_precision_neutral: 0.6688 - val_precision_sad: 0.6162 - val_precision_surprise: 0.8070 - val_recall: 0.6082 - val_recall_angry: 0.5031 - val_recall_disgust: 0.4921 - val_recall_fear: 0.3238 - val_recall_happy: 0.8746 - val_recall_neutral: 0.6231 - val_recall_sad: 0.4619 - val_recall_surprise: 0.7255 - lr: 1.0000e-04\n",
      "Epoch 32/50\n",
      "740/740 [==============================] - ETA: 0s - loss: 0.6481 - accuracy: 0.7569 - precision: 0.8211 - precision_angry: 0.7944 - precision_disgust: 0.8687 - precision_fear: 0.7504 - precision_happy: 0.9182 - precision_neutral: 0.7702 - precision_sad: 0.7324 - precision_surprise: 0.8547 - recall: 0.6944 - recall_angry: 0.6183 - recall_disgust: 0.7222 - recall_fear: 0.4711 - recall_happy: 0.9082 - recall_neutral: 0.6898 - recall_sad: 0.5607 - recall_surprise: 0.7963\n",
      "Epoch 32: val_loss improved from 0.92109 to 0.91585, saving model to .\\model_mobilenet_v2_transfer_data_augmentation.h5\n",
      "740/740 [==============================] - 1033s 1s/step - loss: 0.6481 - accuracy: 0.7569 - precision: 0.8211 - precision_angry: 0.7944 - precision_disgust: 0.8687 - precision_fear: 0.7504 - precision_happy: 0.9182 - precision_neutral: 0.7702 - precision_sad: 0.7324 - precision_surprise: 0.8547 - recall: 0.6944 - recall_angry: 0.6183 - recall_disgust: 0.7222 - recall_fear: 0.4711 - recall_happy: 0.9082 - recall_neutral: 0.6898 - recall_sad: 0.5607 - recall_surprise: 0.7963 - val_loss: 0.9158 - val_accuracy: 0.6756 - val_precision: 0.7426 - val_precision_angry: 0.6747 - val_precision_disgust: 0.7143 - val_precision_fear: 0.6708 - val_precision_happy: 0.8765 - val_precision_neutral: 0.6590 - val_precision_sad: 0.6293 - val_precision_surprise: 0.7892 - val_recall: 0.6041 - val_recall_angry: 0.5085 - val_recall_disgust: 0.4800 - val_recall_fear: 0.3266 - val_recall_happy: 0.8771 - val_recall_neutral: 0.5945 - val_recall_sad: 0.4354 - val_recall_surprise: 0.7545 - lr: 1.0000e-04\n",
      "Epoch 33/50\n",
      "740/740 [==============================] - ETA: 0s - loss: 0.6425 - accuracy: 0.7619 - precision: 0.8255 - precision_angry: 0.8019 - precision_disgust: 0.8723 - precision_fear: 0.7505 - precision_happy: 0.9222 - precision_neutral: 0.7698 - precision_sad: 0.7444 - precision_surprise: 0.8594 - recall: 0.6964 - recall_angry: 0.6159 - recall_disgust: 0.7307 - recall_fear: 0.4675 - recall_happy: 0.9095 - recall_neutral: 0.6869 - recall_sad: 0.5768 - recall_surprise: 0.7981\n",
      "Epoch 33: val_loss did not improve from 0.91585\n",
      "740/740 [==============================] - 1035s 1s/step - loss: 0.6425 - accuracy: 0.7619 - precision: 0.8255 - precision_angry: 0.8019 - precision_disgust: 0.8723 - precision_fear: 0.7505 - precision_happy: 0.9222 - precision_neutral: 0.7698 - precision_sad: 0.7444 - precision_surprise: 0.8594 - recall: 0.6964 - recall_angry: 0.6159 - recall_disgust: 0.7307 - recall_fear: 0.4675 - recall_happy: 0.9095 - recall_neutral: 0.6869 - recall_sad: 0.5768 - recall_surprise: 0.7981 - val_loss: 0.9254 - val_accuracy: 0.6664 - val_precision: 0.7388 - val_precision_angry: 0.6774 - val_precision_disgust: 0.7470 - val_precision_fear: 0.5971 - val_precision_happy: 0.8970 - val_precision_neutral: 0.6501 - val_precision_sad: 0.6287 - val_precision_surprise: 0.7984 - val_recall: 0.5938 - val_recall_angry: 0.4896 - val_recall_disgust: 0.4921 - val_recall_fear: 0.3449 - val_recall_happy: 0.8511 - val_recall_neutral: 0.5941 - val_recall_sad: 0.4155 - val_recall_surprise: 0.7489 - lr: 1.0000e-04\n",
      "Epoch 34/50\n",
      "740/740 [==============================] - ETA: 0s - loss: 0.6295 - accuracy: 0.7645 - precision: 0.8274 - precision_angry: 0.8063 - precision_disgust: 0.8750 - precision_fear: 0.7522 - precision_happy: 0.9249 - precision_neutral: 0.7715 - precision_sad: 0.7410 - precision_surprise: 0.8646 - recall: 0.7005 - recall_angry: 0.6180 - recall_disgust: 0.7376 - recall_fear: 0.4876 - recall_happy: 0.9150 - recall_neutral: 0.6836 - recall_sad: 0.5732 - recall_surprise: 0.8042\n",
      "Epoch 34: val_loss did not improve from 0.91585\n",
      "740/740 [==============================] - 1004s 1s/step - loss: 0.6295 - accuracy: 0.7645 - precision: 0.8274 - precision_angry: 0.8063 - precision_disgust: 0.8750 - precision_fear: 0.7522 - precision_happy: 0.9249 - precision_neutral: 0.7715 - precision_sad: 0.7410 - precision_surprise: 0.8646 - recall: 0.7005 - recall_angry: 0.6180 - recall_disgust: 0.7376 - recall_fear: 0.4876 - recall_happy: 0.9150 - recall_neutral: 0.6836 - recall_sad: 0.5732 - recall_surprise: 0.8042 - val_loss: 0.9262 - val_accuracy: 0.6690 - val_precision: 0.7397 - val_precision_angry: 0.6759 - val_precision_disgust: 0.8261 - val_precision_fear: 0.6534 - val_precision_happy: 0.8948 - val_precision_neutral: 0.6849 - val_precision_sad: 0.5815 - val_precision_surprise: 0.7744 - val_recall: 0.6053 - val_recall_angry: 0.5104 - val_recall_disgust: 0.4524 - val_recall_fear: 0.2965 - val_recall_happy: 0.8698 - val_recall_neutral: 0.5541 - val_recall_sad: 0.5052 - val_recall_surprise: 0.7791 - lr: 1.0000e-04\n",
      "Epoch 35/50\n",
      "740/740 [==============================] - ETA: 0s - loss: 0.6274 - accuracy: 0.7660 - precision: 0.8249 - precision_angry: 0.7998 - precision_disgust: 0.8654 - precision_fear: 0.7538 - precision_happy: 0.9227 - precision_neutral: 0.7727 - precision_sad: 0.7377 - precision_surprise: 0.8578 - recall: 0.7005 - recall_angry: 0.6243 - recall_disgust: 0.7430 - recall_fear: 0.4818 - recall_happy: 0.9115 - recall_neutral: 0.6922 - recall_sad: 0.5646 - recall_surprise: 0.8093\n",
      "Epoch 35: val_loss did not improve from 0.91585\n",
      "740/740 [==============================] - 1005s 1s/step - loss: 0.6274 - accuracy: 0.7660 - precision: 0.8249 - precision_angry: 0.7998 - precision_disgust: 0.8654 - precision_fear: 0.7538 - precision_happy: 0.9227 - precision_neutral: 0.7727 - precision_sad: 0.7377 - precision_surprise: 0.8578 - recall: 0.7005 - recall_angry: 0.6243 - recall_disgust: 0.7430 - recall_fear: 0.4818 - recall_happy: 0.9115 - recall_neutral: 0.6922 - recall_sad: 0.5646 - recall_surprise: 0.8093 - val_loss: 0.9255 - val_accuracy: 0.6681 - val_precision: 0.7362 - val_precision_angry: 0.6727 - val_precision_disgust: 0.7467 - val_precision_fear: 0.6068 - val_precision_happy: 0.8863 - val_precision_neutral: 0.6633 - val_precision_sad: 0.6108 - val_precision_surprise: 0.8067 - val_recall: 0.6039 - val_recall_angry: 0.4994 - val_recall_disgust: 0.4480 - val_recall_fear: 0.3413 - val_recall_happy: 0.8682 - val_recall_neutral: 0.5923 - val_recall_sad: 0.4669 - val_recall_surprise: 0.7300 - lr: 1.0000e-04\n",
      "Epoch 36/50\n",
      "740/740 [==============================] - ETA: 0s - loss: 0.6177 - accuracy: 0.7698 - precision: 0.8300 - precision_angry: 0.8043 - precision_disgust: 0.8782 - precision_fear: 0.7569 - precision_happy: 0.9276 - precision_neutral: 0.7794 - precision_sad: 0.7428 - precision_surprise: 0.8662 - recall: 0.7051 - recall_angry: 0.6286 - recall_disgust: 0.7470 - recall_fear: 0.4904 - recall_happy: 0.9111 - recall_neutral: 0.7009 - recall_sad: 0.5755 - recall_surprise: 0.8054\n",
      "Epoch 36: val_loss did not improve from 0.91585\n",
      "740/740 [==============================] - 1037s 1s/step - loss: 0.6177 - accuracy: 0.7698 - precision: 0.8300 - precision_angry: 0.8043 - precision_disgust: 0.8782 - precision_fear: 0.7569 - precision_happy: 0.9276 - precision_neutral: 0.7794 - precision_sad: 0.7428 - precision_surprise: 0.8662 - recall: 0.7051 - recall_angry: 0.6286 - recall_disgust: 0.7470 - recall_fear: 0.4904 - recall_happy: 0.9111 - recall_neutral: 0.7009 - recall_sad: 0.5755 - recall_surprise: 0.8054 - val_loss: 0.9294 - val_accuracy: 0.6751 - val_precision: 0.7412 - val_precision_angry: 0.6672 - val_precision_disgust: 0.7159 - val_precision_fear: 0.6366 - val_precision_happy: 0.8795 - val_precision_neutral: 0.6740 - val_precision_sad: 0.6128 - val_precision_surprise: 0.8273 - val_recall: 0.6089 - val_recall_angry: 0.5165 - val_recall_disgust: 0.5122 - val_recall_fear: 0.3616 - val_recall_happy: 0.8651 - val_recall_neutral: 0.5704 - val_recall_sad: 0.4649 - val_recall_surprise: 0.7587 - lr: 1.0000e-04\n",
      "Epoch 37/50\n",
      "740/740 [==============================] - ETA: 0s - loss: 0.6212 - accuracy: 0.7651 - precision: 0.8278 - precision_angry: 0.7998 - precision_disgust: 0.8705 - precision_fear: 0.7592 - precision_happy: 0.9256 - precision_neutral: 0.7726 - precision_sad: 0.7397 - precision_surprise: 0.8734 - recall: 0.7067 - recall_angry: 0.6281 - recall_disgust: 0.7584 - recall_fear: 0.4994 - recall_happy: 0.9122 - recall_neutral: 0.6946 - recall_sad: 0.5824 - recall_surprise: 0.8038\n",
      "Epoch 37: val_loss did not improve from 0.91585\n",
      "\n",
      "Epoch 37: ReduceLROnPlateau reducing learning rate to 1.0000000474974514e-05.\n",
      "740/740 [==============================] - 1002s 1s/step - loss: 0.6212 - accuracy: 0.7651 - precision: 0.8278 - precision_angry: 0.7998 - precision_disgust: 0.8705 - precision_fear: 0.7592 - precision_happy: 0.9256 - precision_neutral: 0.7726 - precision_sad: 0.7397 - precision_surprise: 0.8734 - recall: 0.7067 - recall_angry: 0.6281 - recall_disgust: 0.7584 - recall_fear: 0.4994 - recall_happy: 0.9122 - recall_neutral: 0.6946 - recall_sad: 0.5824 - recall_surprise: 0.8038 - val_loss: 0.9331 - val_accuracy: 0.6717 - val_precision: 0.7366 - val_precision_angry: 0.6732 - val_precision_disgust: 0.7733 - val_precision_fear: 0.6303 - val_precision_happy: 0.8914 - val_precision_neutral: 0.6417 - val_precision_sad: 0.6154 - val_precision_surprise: 0.8308 - val_recall: 0.6092 - val_recall_angry: 0.5006 - val_recall_disgust: 0.4677 - val_recall_fear: 0.3728 - val_recall_happy: 0.8476 - val_recall_neutral: 0.6164 - val_recall_sad: 0.4701 - val_recall_surprise: 0.7352 - lr: 1.0000e-04\n",
      "Epoch 38/50\n",
      "740/740 [==============================] - ETA: 0s - loss: 0.5996 - accuracy: 0.7736 - precision: 0.8363 - precision_angry: 0.8275 - precision_disgust: 0.8789 - precision_fear: 0.7752 - precision_happy: 0.9307 - precision_neutral: 0.7765 - precision_sad: 0.7443 - precision_surprise: 0.8770 - recall: 0.7148 - recall_angry: 0.6348 - recall_disgust: 0.7356 - recall_fear: 0.5010 - recall_happy: 0.9163 - recall_neutral: 0.7088 - recall_sad: 0.5992 - recall_surprise: 0.8142\n",
      "Epoch 38: val_loss did not improve from 0.91585\n",
      "740/740 [==============================] - 1022s 1s/step - loss: 0.5996 - accuracy: 0.7736 - precision: 0.8363 - precision_angry: 0.8275 - precision_disgust: 0.8789 - precision_fear: 0.7752 - precision_happy: 0.9307 - precision_neutral: 0.7765 - precision_sad: 0.7443 - precision_surprise: 0.8770 - recall: 0.7148 - recall_angry: 0.6348 - recall_disgust: 0.7356 - recall_fear: 0.5010 - recall_happy: 0.9163 - recall_neutral: 0.7088 - recall_sad: 0.5992 - recall_surprise: 0.8142 - val_loss: 0.9405 - val_accuracy: 0.6744 - val_precision: 0.7348 - val_precision_angry: 0.6634 - val_precision_disgust: 0.8077 - val_precision_fear: 0.6057 - val_precision_happy: 0.8839 - val_precision_neutral: 0.6627 - val_precision_sad: 0.6116 - val_precision_surprise: 0.8114 - val_recall: 0.6099 - val_recall_angry: 0.5006 - val_recall_disgust: 0.5000 - val_recall_fear: 0.3556 - val_recall_happy: 0.8688 - val_recall_neutral: 0.6051 - val_recall_sad: 0.4684 - val_recall_surprise: 0.7303 - lr: 1.0000e-05\n",
      "Epoch 39/50\n",
      "740/740 [==============================] - ETA: 0s - loss: 0.5996 - accuracy: 0.7741 - precision: 0.8340 - precision_angry: 0.8128 - precision_disgust: 0.8650 - precision_fear: 0.7697 - precision_happy: 0.9277 - precision_neutral: 0.7776 - precision_sad: 0.7531 - precision_surprise: 0.8726 - recall: 0.7149 - recall_angry: 0.6378 - recall_disgust: 0.7500 - recall_fear: 0.5037 - recall_happy: 0.9138 - recall_neutral: 0.7080 - recall_sad: 0.5910 - recall_surprise: 0.8242\n",
      "Epoch 39: val_loss did not improve from 0.91585\n",
      "740/740 [==============================] - 1010s 1s/step - loss: 0.5996 - accuracy: 0.7741 - precision: 0.8340 - precision_angry: 0.8128 - precision_disgust: 0.8650 - precision_fear: 0.7697 - precision_happy: 0.9277 - precision_neutral: 0.7776 - precision_sad: 0.7531 - precision_surprise: 0.8726 - recall: 0.7149 - recall_angry: 0.6378 - recall_disgust: 0.7500 - recall_fear: 0.5037 - recall_happy: 0.9138 - recall_neutral: 0.7080 - recall_sad: 0.5910 - recall_surprise: 0.8242 - val_loss: 0.9366 - val_accuracy: 0.6783 - val_precision: 0.7369 - val_precision_angry: 0.6550 - val_precision_disgust: 0.7922 - val_precision_fear: 0.6266 - val_precision_happy: 0.8826 - val_precision_neutral: 0.6613 - val_precision_sad: 0.6110 - val_precision_surprise: 0.8345 - val_recall: 0.6151 - val_recall_angry: 0.5006 - val_recall_disgust: 0.4919 - val_recall_fear: 0.3600 - val_recall_happy: 0.8718 - val_recall_neutral: 0.6117 - val_recall_sad: 0.4825 - val_recall_surprise: 0.7356 - lr: 1.0000e-05\n",
      "Epoch 40/50\n",
      "740/740 [==============================] - ETA: 0s - loss: 0.5929 - accuracy: 0.7795 - precision: 0.8352 - precision_angry: 0.8203 - precision_disgust: 0.8776 - precision_fear: 0.7573 - precision_happy: 0.9320 - precision_neutral: 0.7814 - precision_sad: 0.7479 - precision_surprise: 0.8774 - recall: 0.7176 - recall_angry: 0.6422 - recall_disgust: 0.7525 - recall_fear: 0.5144 - recall_happy: 0.9212 - recall_neutral: 0.7014 - recall_sad: 0.5989 - recall_surprise: 0.8113\n",
      "Epoch 40: val_loss did not improve from 0.91585\n",
      "740/740 [==============================] - 999s 1s/step - loss: 0.5929 - accuracy: 0.7795 - precision: 0.8352 - precision_angry: 0.8203 - precision_disgust: 0.8776 - precision_fear: 0.7573 - precision_happy: 0.9320 - precision_neutral: 0.7814 - precision_sad: 0.7479 - precision_surprise: 0.8774 - recall: 0.7176 - recall_angry: 0.6422 - recall_disgust: 0.7525 - recall_fear: 0.5144 - recall_happy: 0.9212 - recall_neutral: 0.7014 - recall_sad: 0.5989 - recall_surprise: 0.8113 - val_loss: 0.9288 - val_accuracy: 0.6749 - val_precision: 0.7335 - val_precision_angry: 0.6693 - val_precision_disgust: 0.7468 - val_precision_fear: 0.6087 - val_precision_happy: 0.8851 - val_precision_neutral: 0.6734 - val_precision_sad: 0.5978 - val_precision_surprise: 0.7990 - val_recall: 0.6141 - val_recall_angry: 0.5275 - val_recall_disgust: 0.4720 - val_recall_fear: 0.3500 - val_recall_happy: 0.8688 - val_recall_neutral: 0.6261 - val_recall_sad: 0.4567 - val_recall_surprise: 0.7326 - lr: 1.0000e-05\n",
      "Epoch 41/50\n",
      "740/740 [==============================] - ETA: 0s - loss: 0.5958 - accuracy: 0.7784 - precision: 0.8358 - precision_angry: 0.8188 - precision_disgust: 0.8811 - precision_fear: 0.7688 - precision_happy: 0.9299 - precision_neutral: 0.7763 - precision_sad: 0.7543 - precision_surprise: 0.8764 - recall: 0.7184 - recall_angry: 0.6487 - recall_disgust: 0.7500 - recall_fear: 0.5193 - recall_happy: 0.9162 - recall_neutral: 0.7096 - recall_sad: 0.5870 - recall_surprise: 0.8200\n",
      "Epoch 41: val_loss did not improve from 0.91585\n",
      "740/740 [==============================] - 1012s 1s/step - loss: 0.5958 - accuracy: 0.7784 - precision: 0.8358 - precision_angry: 0.8188 - precision_disgust: 0.8811 - precision_fear: 0.7688 - precision_happy: 0.9299 - precision_neutral: 0.7763 - precision_sad: 0.7543 - precision_surprise: 0.8764 - recall: 0.7184 - recall_angry: 0.6487 - recall_disgust: 0.7500 - recall_fear: 0.5193 - recall_happy: 0.9162 - recall_neutral: 0.7096 - recall_sad: 0.5870 - recall_surprise: 0.8200 - val_loss: 0.9283 - val_accuracy: 0.6724 - val_precision: 0.7367 - val_precision_angry: 0.6672 - val_precision_disgust: 0.7531 - val_precision_fear: 0.6427 - val_precision_happy: 0.8826 - val_precision_neutral: 0.6536 - val_precision_sad: 0.6079 - val_precision_surprise: 0.8255 - val_recall: 0.6148 - val_recall_angry: 0.5250 - val_recall_disgust: 0.4919 - val_recall_fear: 0.3740 - val_recall_happy: 0.8609 - val_recall_neutral: 0.6095 - val_recall_sad: 0.4583 - val_recall_surprise: 0.7466 - lr: 1.0000e-05\n",
      "Epoch 42/50\n",
      "740/740 [==============================] - ETA: 0s - loss: 0.5901 - accuracy: 0.7780 - precision: 0.8361 - precision_angry: 0.8107 - precision_disgust: 0.8842 - precision_fear: 0.7790 - precision_happy: 0.9299 - precision_neutral: 0.7845 - precision_sad: 0.7467 - precision_surprise: 0.8738 - recall: 0.7197 - recall_angry: 0.6510 - recall_disgust: 0.7421 - recall_fear: 0.5225 - recall_happy: 0.9182 - recall_neutral: 0.7096 - recall_sad: 0.5866 - recall_surprise: 0.8218Restoring model weights from the end of the best epoch: 32.\n",
      "\n",
      "Epoch 42: val_loss did not improve from 0.91585\n",
      "\n",
      "Epoch 42: ReduceLROnPlateau reducing learning rate to 1e-05.\n",
      "740/740 [==============================] - 1014s 1s/step - loss: 0.5901 - accuracy: 0.7780 - precision: 0.8361 - precision_angry: 0.8107 - precision_disgust: 0.8842 - precision_fear: 0.7790 - precision_happy: 0.9299 - precision_neutral: 0.7845 - precision_sad: 0.7467 - precision_surprise: 0.8738 - recall: 0.7197 - recall_angry: 0.6510 - recall_disgust: 0.7421 - recall_fear: 0.5225 - recall_happy: 0.9182 - recall_neutral: 0.7096 - recall_sad: 0.5866 - recall_surprise: 0.8218 - val_loss: 0.9432 - val_accuracy: 0.6773 - val_precision: 0.7331 - val_precision_angry: 0.6750 - val_precision_disgust: 0.7976 - val_precision_fear: 0.6161 - val_precision_happy: 0.8842 - val_precision_neutral: 0.6459 - val_precision_sad: 0.6003 - val_precision_surprise: 0.8205 - val_recall: 0.6157 - val_recall_angry: 0.5262 - val_recall_disgust: 0.5317 - val_recall_fear: 0.3831 - val_recall_happy: 0.8715 - val_recall_neutral: 0.6051 - val_recall_sad: 0.4421 - val_recall_surprise: 0.7420 - lr: 1.0000e-05\n",
      "Epoch 42: early stopping\n"
     ]
    }
   ],
   "source": [
    "import os\n",
    "\n",
    "os.environ['KMP_DUPLICATE_LIB_OK'] = 'True'\n",
    "\n",
    "history = model.fit(\n",
    "    train_generator,\n",
    "    steps_per_epoch=train_generator.n//train_generator.batch_size,\n",
    "    epochs=epochs,\n",
    "    validation_data=validation_generator,\n",
    "    validation_steps=validation_generator.n//validation_generator.batch_size,\n",
    "    callbacks=callbacks_list,\n",
    ")"
   ],
   "metadata": {
    "collapsed": false,
    "pycharm": {
     "name": "#%%\n"
    }
   }
  },
  {
   "cell_type": "markdown",
   "source": [
    "### 7. Evaluation - Test set"
   ],
   "metadata": {
    "collapsed": false,
    "pycharm": {
     "name": "#%% md\n"
    }
   }
  },
  {
   "cell_type": "code",
   "execution_count": 3,
   "outputs": [],
   "source": [
    "from keras.models import load_model\n",
    "\n",
    "model = load_model(\"model_mobilenet_v2_transfer_data_augmentation.h5\")"
   ],
   "metadata": {
    "collapsed": false,
    "pycharm": {
     "name": "#%%\n"
    }
   }
  },
  {
   "cell_type": "code",
   "execution_count": 4,
   "outputs": [
    {
     "name": "stdout",
     "output_type": "stream",
     "text": [
      "Found 7178 images belonging to 7 classes.\n"
     ]
    }
   ],
   "source": [
    "test_data_generator = ImageDataGenerator(preprocessing_function=preprocess_input)\n",
    "\n",
    "test_generator = test_data_generator.flow_from_directory(\n",
    "    DATASET_BASE_TEST_PATH,\n",
    "    target_size=(224, 224),\n",
    "    batch_size=32,\n",
    "    class_mode='categorical',\n",
    "    shuffle=False\n",
    ")"
   ],
   "metadata": {
    "collapsed": false,
    "pycharm": {
     "name": "#%%\n"
    }
   }
  },
  {
   "cell_type": "code",
   "execution_count": 5,
   "outputs": [
    {
     "name": "stdout",
     "output_type": "stream",
     "text": [
      "225/225 [==============================] - 83s 358ms/step - loss: 0.9335 - accuracy: 0.6829 - precision: 0.7337 - precision_angry: 0.6557 - precision_disgust: 0.7183 - precision_fear: 0.6479 - precision_happy: 0.8918 - precision_neutral: 0.6323 - precision_sad: 0.6290 - precision_surprise: 0.8010 - recall: 0.6321 - recall_angry: 0.5626 - recall_disgust: 0.4595 - recall_fear: 0.3252 - recall_happy: 0.8878 - recall_neutral: 0.6707 - recall_sad: 0.4459 - recall_surprise: 0.7894\n"
     ]
    },
    {
     "data": {
      "text/plain": "[0.9334666132926941,\n 0.6829200387001038,\n 0.7336675524711609,\n 0.6557177901268005,\n 0.7183098793029785,\n 0.6478599309921265,\n 0.8918460011482239,\n 0.6322630047798157,\n 0.6289592981338501,\n 0.8009768128395081,\n 0.6320702433586121,\n 0.5626304745674133,\n 0.45945945382118225,\n 0.3251953125,\n 0.8878241181373596,\n 0.6707218289375305,\n 0.4458701014518738,\n 0.7894103527069092]"
     },
     "execution_count": 5,
     "metadata": {},
     "output_type": "execute_result"
    }
   ],
   "source": [
    "model.evaluate(test_generator)"
   ],
   "metadata": {
    "collapsed": false,
    "pycharm": {
     "name": "#%%\n"
    }
   }
  }
 ],
 "metadata": {
  "kernelspec": {
   "display_name": "Python 3",
   "language": "python",
   "name": "python3"
  },
  "language_info": {
   "codemirror_mode": {
    "name": "ipython",
    "version": 2
   },
   "file_extension": ".py",
   "mimetype": "text/x-python",
   "name": "python",
   "nbconvert_exporter": "python",
   "pygments_lexer": "ipython2",
   "version": "2.7.6"
  }
 },
 "nbformat": 4,
 "nbformat_minor": 0
}