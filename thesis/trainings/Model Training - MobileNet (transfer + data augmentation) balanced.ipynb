{
 "cells": [
  {
   "cell_type": "markdown",
   "source": [
    "# Model Training - MobileNet (transfer + data augmentation) balanced"
   ],
   "metadata": {
    "collapsed": false,
    "pycharm": {
     "name": "#%% md\n"
    }
   }
  },
  {
   "cell_type": "markdown",
   "source": [
    "### 0. Imports"
   ],
   "metadata": {
    "collapsed": false,
    "pycharm": {
     "name": "#%% md\n"
    }
   }
  },
  {
   "cell_type": "code",
   "execution_count": 17,
   "outputs": [],
   "source": [
    "import numpy as np\n",
    "\n",
    "from keras.applications import MobileNet\n",
    "from keras.applications.mobilenet import preprocess_input\n",
    "from keras.callbacks import (\n",
    "    ModelCheckpoint,\n",
    "    EarlyStopping,\n",
    "    ReduceLROnPlateau\n",
    ")\n",
    "from keras.models import Sequential\n",
    "from keras.layers import Dense, GlobalAveragePooling2D\n",
    "from keras.metrics import Accuracy, CategoricalAccuracy, Precision, Recall\n",
    "from keras.optimizers import Adam\n",
    "from keras.preprocessing.image import ImageDataGenerator\n",
    "from keras.utils.vis_utils import plot_model\n",
    "from sklearn.utils.class_weight import compute_class_weight"
   ],
   "metadata": {
    "collapsed": false,
    "ExecuteTime": {
     "start_time": "2023-06-08T14:04:36.621338Z",
     "end_time": "2023-06-08T14:04:39.977428Z"
    },
    "pycharm": {
     "name": "#%%\n"
    }
   }
  },
  {
   "cell_type": "markdown",
   "source": [
    "### 1. Paths"
   ],
   "metadata": {
    "collapsed": false,
    "pycharm": {
     "name": "#%% md\n"
    }
   }
  },
  {
   "cell_type": "code",
   "execution_count": 18,
   "outputs": [],
   "source": [
    "# DATASET_BASE_TRAIN_PATH = \"/Users/adamdabkowski/DataspellProjects/Praca_dyplomowa/data/train_resized\"\n",
    "# DATASET_BASE_TRAIN_PATH = \"/Users/adamd/DataspellProjects/Facial Expressions Recognition/data/train_resized\"\n",
    "# DATASET_BASE_TRAIN_PATH = \"/Users/adamd/DataspellProjects/Facial Expressions Recognition/data/train_merged\"\n",
    "DATASET_BASE_TRAIN_PATH = \"/Users/adamd/DataspellProjects/Facial Expressions Recognition/data/train_merged_cleaned\"\n",
    "\n",
    "# DATASET_BASE_TRAIN_PATH = \"../new_data\"\n",
    "\n",
    "# DATASET_BASE_TEST_PATH = \"/Users/adamdabkowski/DataspellProjects/Praca_dyplomowa/data/test_resized\"\n",
    "DATASET_BASE_TEST_PATH = \"/Users/adamd/DataspellProjects/Facial Expressions Recognition/data/test_resized\""
   ],
   "metadata": {
    "collapsed": false,
    "ExecuteTime": {
     "start_time": "2023-06-08T14:06:08.298593Z",
     "end_time": "2023-06-08T14:06:08.305288Z"
    },
    "pycharm": {
     "name": "#%%\n"
    }
   }
  },
  {
   "cell_type": "markdown",
   "source": [
    "### 2. Data preprocessing"
   ],
   "metadata": {
    "collapsed": false,
    "pycharm": {
     "name": "#%% md\n"
    }
   }
  },
  {
   "cell_type": "code",
   "execution_count": 3,
   "outputs": [
    {
     "name": "stdout",
     "output_type": "stream",
     "text": [
      "Found 23689 images belonging to 7 classes.\n",
      "Found 5919 images belonging to 7 classes.\n"
     ]
    }
   ],
   "source": [
    "batch_size  = 32\n",
    "img_size = 224\n",
    "\n",
    "train_validation_data_generator = ImageDataGenerator(\n",
    "    preprocessing_function=preprocess_input,\n",
    "    validation_split=0.2,\n",
    "    rotation_range=40,\n",
    "    width_shift_range=0.2,\n",
    "    height_shift_range=0.2,\n",
    "    shear_range=0.2,\n",
    "    zoom_range=0.2,\n",
    "    horizontal_flip=True,\n",
    "    fill_mode='nearest'\n",
    ")\n",
    "\n",
    "train_generator = train_validation_data_generator.flow_from_directory(\n",
    "    DATASET_BASE_TRAIN_PATH,\n",
    "    target_size=(img_size,img_size),\n",
    "    batch_size=batch_size,\n",
    "    class_mode='categorical',\n",
    "    color_mode='rgb',\n",
    "    subset='training',\n",
    "    shuffle=True,\n",
    ")\n",
    "\n",
    "validation_generator = train_validation_data_generator.flow_from_directory(\n",
    "    DATASET_BASE_TRAIN_PATH,\n",
    "    target_size=(img_size,img_size),\n",
    "    batch_size=batch_size,\n",
    "    class_mode='categorical',\n",
    "    color_mode='rgb',\n",
    "    subset='validation',\n",
    "    shuffle=True,\n",
    ")\n",
    "\n",
    "class_weights = compute_class_weight(\n",
    "    class_weight='balanced',\n",
    "    classes=np.unique(train_generator.classes),\n",
    "    y=train_generator.classes\n",
    ")\n",
    "class_weights_dict = dict(enumerate(class_weights))"
   ],
   "metadata": {
    "collapsed": false,
    "ExecuteTime": {
     "start_time": "2023-06-08T14:06:12.829138Z",
     "end_time": "2023-06-08T14:06:13.009438Z"
    },
    "pycharm": {
     "name": "#%%\n"
    }
   }
  },
  {
   "cell_type": "code",
   "execution_count": 4,
   "outputs": [
    {
     "data": {
      "text/plain": "{0: 1.0264309545474242,\n 1: 6.701272984441301,\n 2: 1.0027089947089947,\n 3: 0.5746549256483031,\n 4: 0.8318935243714005,\n 5: 0.8679514893928846,\n 6: 1.2741501721170396}"
     },
     "execution_count": 4,
     "metadata": {},
     "output_type": "execute_result"
    }
   ],
   "source": [
    "class_weights_dict"
   ],
   "metadata": {
    "collapsed": false,
    "pycharm": {
     "name": "#%%\n"
    }
   }
  },
  {
   "cell_type": "markdown",
   "source": [
    "### 5. Model creating"
   ],
   "metadata": {
    "collapsed": false,
    "pycharm": {
     "name": "#%% md\n"
    }
   }
  },
  {
   "cell_type": "code",
   "execution_count": 5,
   "outputs": [],
   "source": [
    "CATEGORIES = [\"angry\", \"disgust\", \"fear\", \"happy\", \"neutral\", \"sad\", \"surprise\"]"
   ],
   "metadata": {
    "collapsed": false,
    "ExecuteTime": {
     "start_time": "2023-06-08T14:06:21.358802Z",
     "end_time": "2023-06-08T14:06:21.367405Z"
    },
    "pycharm": {
     "name": "#%%\n"
    }
   }
  },
  {
   "cell_type": "code",
   "execution_count": 6,
   "outputs": [],
   "source": [
    "checkpoint = ModelCheckpoint(\n",
    "    filepath=\"./model_mobilenet_transfer_data_augmentation_balanced.h5\",\n",
    "    monitor='val_loss',\n",
    "    verbose=1,\n",
    "    save_best_only=True,\n",
    "    mode='min'\n",
    ")\n",
    "\n",
    "early_stopping = EarlyStopping(\n",
    "    monitor='val_loss',\n",
    "    patience=10,\n",
    "    verbose=1,\n",
    "    restore_best_weights=True,\n",
    ")\n",
    "\n",
    "reduce_learning_rate = ReduceLROnPlateau(\n",
    "    monitor='val_loss',\n",
    "    factor=0.1,\n",
    "    patience=5,\n",
    "    verbose=1,\n",
    "    min_lr=0.00001,\n",
    ")\n",
    "\n",
    "callbacks_list = [early_stopping, checkpoint, reduce_learning_rate]"
   ],
   "metadata": {
    "collapsed": false,
    "ExecuteTime": {
     "start_time": "2023-06-08T14:06:22.501933Z",
     "end_time": "2023-06-08T14:06:22.506101Z"
    },
    "pycharm": {
     "name": "#%%\n"
    }
   }
  },
  {
   "cell_type": "code",
   "execution_count": 7,
   "outputs": [],
   "source": [
    "model = Sequential()\n",
    "\n",
    "base_model = MobileNet(input_shape=(img_size, img_size, 3), include_top=False, weights='imagenet')\n",
    "model.add(base_model)\n",
    "\n",
    "model.add(GlobalAveragePooling2D())\n",
    "model.add(Dense(512, activation='relu'))\n",
    "model.add(Dense(7, activation='softmax'))"
   ],
   "metadata": {
    "collapsed": false,
    "ExecuteTime": {
     "start_time": "2023-06-08T14:06:33.844245Z",
     "end_time": "2023-06-08T14:06:34.087495Z"
    },
    "pycharm": {
     "name": "#%%\n"
    }
   }
  },
  {
   "cell_type": "code",
   "execution_count": 8,
   "outputs": [
    {
     "name": "stdout",
     "output_type": "stream",
     "text": [
      "Model: \"sequential\"\n",
      "_________________________________________________________________\n",
      " Layer (type)                Output Shape              Param #   \n",
      "=================================================================\n",
      " mobilenet_1.00_224 (Functio  (None, 7, 7, 1024)       3228864   \n",
      " nal)                                                            \n",
      "                                                                 \n",
      " global_average_pooling2d (G  (None, 1024)             0         \n",
      " lobalAveragePooling2D)                                          \n",
      "                                                                 \n",
      " dense (Dense)               (None, 512)               524800    \n",
      "                                                                 \n",
      " dense_1 (Dense)             (None, 7)                 3591      \n",
      "                                                                 \n",
      "=================================================================\n",
      "Total params: 3,757,255\n",
      "Trainable params: 3,735,367\n",
      "Non-trainable params: 21,888\n",
      "_________________________________________________________________\n"
     ]
    }
   ],
   "source": [
    "model.compile(\n",
    "    optimizer=Adam(learning_rate=0.001),\n",
    "    loss='categorical_crossentropy',\n",
    "    metrics=[\n",
    "        \"accuracy\",\n",
    "        \"categorical_accuracy\",\n",
    "        Precision(name='precision'),\n",
    "        Precision(class_id=0, name='precision_angry'),\n",
    "        Precision(class_id=1, name='precision_disgust'),\n",
    "        Precision(class_id=2, name='precision_fear'),\n",
    "        Precision(class_id=3, name='precision_happy'),\n",
    "        Precision(class_id=4, name='precision_neutral'),\n",
    "        Precision(class_id=5, name='precision_sad'),\n",
    "        Precision(class_id=6, name='precision_surprise'),\n",
    "        Recall(name='recall'),\n",
    "        Recall(class_id=0, name='recall_angry'),\n",
    "        Recall(class_id=1, name='recall_disgust'),\n",
    "        Recall(class_id=2, name='recall_fear'),\n",
    "        Recall(class_id=3, name='recall_happy'),\n",
    "        Recall(class_id=4, name='recall_neutral'),\n",
    "        Recall(class_id=5, name='recall_sad'),\n",
    "        Recall(class_id=6, name='recall_surprise'),\n",
    "    ]\n",
    ")\n",
    "model.summary()"
   ],
   "metadata": {
    "collapsed": false,
    "ExecuteTime": {
     "start_time": "2023-06-08T14:08:05.068394Z",
     "end_time": "2023-06-08T14:08:05.102749Z"
    },
    "pycharm": {
     "name": "#%%\n"
    }
   }
  },
  {
   "cell_type": "code",
   "execution_count": 9,
   "outputs": [
    {
     "data": {
      "image/png": "[encoded data removed]",
      "text/plain": "<IPython.core.display.Image object>"
     },
     "execution_count": 9,
     "metadata": {},
     "output_type": "execute_result"
    }
   ],
   "source": [
    "plot_model(model, to_file='model_mobilenet_transfer_data_augmentation_balanced.png', show_shapes=True, show_layer_names=True)"
   ],
   "metadata": {
    "collapsed": false,
    "pycharm": {
     "name": "#%%\n"
    }
   }
  },
  {
   "cell_type": "markdown",
   "source": [
    "### 6. Model training"
   ],
   "metadata": {
    "collapsed": false,
    "pycharm": {
     "name": "#%% md\n"
    }
   }
  },
  {
   "cell_type": "code",
   "execution_count": 10,
   "outputs": [],
   "source": [
    "epochs = 50"
   ],
   "metadata": {
    "collapsed": false,
    "ExecuteTime": {
     "start_time": "2023-06-08T14:08:06.121000Z",
     "end_time": "2023-06-08T14:08:06.134021Z"
    },
    "pycharm": {
     "name": "#%%\n"
    }
   }
  },
  {
   "cell_type": "code",
   "execution_count": 11,
   "outputs": [
    {
     "name": "stdout",
     "output_type": "stream",
     "text": [
      "Epoch 1/50\n",
      "740/740 [==============================] - ETA: 0s - loss: 1.5641 - accuracy: 0.4106 - categorical_accuracy: 0.4106 - precision: 0.6547 - precision_angry: 0.4802 - precision_disgust: 0.2041 - precision_fear: 0.2143 - precision_happy: 0.8493 - precision_neutral: 0.5732 - precision_sad: 0.4076 - precision_surprise: 0.6173 - recall: 0.1871 - recall_angry: 0.0331 - recall_disgust: 0.2931 - recall_fear: 0.0027 - recall_happy: 0.4148 - recall_neutral: 0.1052 - recall_sad: 0.0164 - recall_surprise: 0.4634\n",
      "Epoch 1: val_loss improved from inf to 1.76729, saving model to .\\model_mobilenet_transfer_data_augmentation_balanced.h5\n",
      "740/740 [==============================] - 1029s 1s/step - loss: 1.5641 - accuracy: 0.4106 - categorical_accuracy: 0.4106 - precision: 0.6547 - precision_angry: 0.4802 - precision_disgust: 0.2041 - precision_fear: 0.2143 - precision_happy: 0.8493 - precision_neutral: 0.5732 - precision_sad: 0.4076 - precision_surprise: 0.6173 - recall: 0.1871 - recall_angry: 0.0331 - recall_disgust: 0.2931 - recall_fear: 0.0027 - recall_happy: 0.4148 - recall_neutral: 0.1052 - recall_sad: 0.0164 - recall_surprise: 0.4634 - val_loss: 1.7673 - val_accuracy: 0.3701 - val_categorical_accuracy: 0.3701 - val_precision: 0.5091 - val_precision_angry: 0.3665 - val_precision_disgust: 0.1527 - val_precision_fear: 0.5000 - val_precision_happy: 0.9345 - val_precision_neutral: 0.6624 - val_precision_sad: 0.0000e+00 - val_precision_surprise: 0.4131 - val_recall: 0.2322 - val_recall_angry: 0.3105 - val_recall_disgust: 0.3360 - val_recall_fear: 0.0012 - val_recall_happy: 0.3692 - val_recall_neutral: 0.1558 - val_recall_sad: 0.0000e+00 - val_recall_surprise: 0.5613 - lr: 0.0010\n",
      "Epoch 2/50\n",
      "740/740 [==============================] - ETA: 0s - loss: 1.3502 - accuracy: 0.4951 - categorical_accuracy: 0.4951 - precision: 0.7116 - precision_angry: 0.5731 - precision_disgust: 0.2916 - precision_fear: 0.5873 - precision_happy: 0.8789 - precision_neutral: 0.6355 - precision_sad: 0.5642 - precision_surprise: 0.6732 - recall: 0.2823 - recall_angry: 0.0906 - recall_disgust: 0.4345 - recall_fear: 0.0220 - recall_happy: 0.5843 - recall_neutral: 0.2258 - recall_sad: 0.0542 - recall_surprise: 0.5738\n",
      "Epoch 2: val_loss improved from 1.76729 to 1.25162, saving model to .\\model_mobilenet_transfer_data_augmentation_balanced.h5\n",
      "740/740 [==============================] - 990s 1s/step - loss: 1.3502 - accuracy: 0.4951 - categorical_accuracy: 0.4951 - precision: 0.7116 - precision_angry: 0.5731 - precision_disgust: 0.2916 - precision_fear: 0.5873 - precision_happy: 0.8789 - precision_neutral: 0.6355 - precision_sad: 0.5642 - precision_surprise: 0.6732 - recall: 0.2823 - recall_angry: 0.0906 - recall_disgust: 0.4345 - recall_fear: 0.0220 - recall_happy: 0.5843 - recall_neutral: 0.2258 - recall_sad: 0.0542 - recall_surprise: 0.5738 - val_loss: 1.2516 - val_accuracy: 0.5280 - val_categorical_accuracy: 0.5280 - val_precision: 0.7490 - val_precision_angry: 0.6156 - val_precision_disgust: 0.5952 - val_precision_fear: 0.6250 - val_precision_happy: 0.8532 - val_precision_neutral: 0.6198 - val_precision_sad: 0.5882 - val_precision_surprise: 0.7659 - val_recall: 0.3254 - val_recall_angry: 0.2497 - val_recall_disgust: 0.2000 - val_recall_fear: 0.0060 - val_recall_happy: 0.6821 - val_recall_neutral: 0.3528 - val_recall_sad: 0.0104 - val_recall_surprise: 0.4765 - lr: 0.0010\n",
      "Epoch 3/50\n",
      "740/740 [==============================] - ETA: 0s - loss: 1.2735 - accuracy: 0.5228 - categorical_accuracy: 0.5228 - precision: 0.7120 - precision_angry: 0.6066 - precision_disgust: 0.2805 - precision_fear: 0.5689 - precision_happy: 0.8831 - precision_neutral: 0.6547 - precision_sad: 0.5695 - precision_surprise: 0.6968 - recall: 0.3202 - recall_angry: 0.1399 - recall_disgust: 0.5209 - recall_fear: 0.0478 - recall_happy: 0.6375 - recall_neutral: 0.2566 - recall_sad: 0.0778 - recall_surprise: 0.6020\n",
      "Epoch 3: val_loss did not improve from 1.25162\n",
      "740/740 [==============================] - 1009s 1s/step - loss: 1.2735 - accuracy: 0.5228 - categorical_accuracy: 0.5228 - precision: 0.7120 - precision_angry: 0.6066 - precision_disgust: 0.2805 - precision_fear: 0.5689 - precision_happy: 0.8831 - precision_neutral: 0.6547 - precision_sad: 0.5695 - precision_surprise: 0.6968 - recall: 0.3202 - recall_angry: 0.1399 - recall_disgust: 0.5209 - recall_fear: 0.0478 - recall_happy: 0.6375 - recall_neutral: 0.2566 - recall_sad: 0.0778 - recall_surprise: 0.6020 - val_loss: 1.3554 - val_accuracy: 0.4861 - val_categorical_accuracy: 0.4861 - val_precision: 0.6328 - val_precision_angry: 0.6000 - val_precision_disgust: 0.1386 - val_precision_fear: 0.4744 - val_precision_happy: 0.8603 - val_precision_neutral: 0.5682 - val_precision_sad: 0.6795 - val_precision_surprise: 0.8031 - val_recall: 0.3358 - val_recall_angry: 0.1137 - val_recall_disgust: 0.5873 - val_recall_fear: 0.0441 - val_recall_happy: 0.6733 - val_recall_neutral: 0.4204 - val_recall_sad: 0.0546 - val_recall_surprise: 0.4690 - lr: 0.0010\n",
      "Epoch 4/50\n",
      "740/740 [==============================] - ETA: 0s - loss: 1.2150 - accuracy: 0.5448 - categorical_accuracy: 0.5448 - precision: 0.7215 - precision_angry: 0.6398 - precision_disgust: 0.3126 - precision_fear: 0.6319 - precision_happy: 0.8879 - precision_neutral: 0.6667 - precision_sad: 0.5688 - precision_surprise: 0.7069 - recall: 0.3552 - recall_angry: 0.1933 - recall_disgust: 0.5496 - recall_fear: 0.0718 - recall_happy: 0.6670 - recall_neutral: 0.2928 - recall_sad: 0.1188 - recall_surprise: 0.6312\n",
      "Epoch 4: val_loss did not improve from 1.25162\n",
      "740/740 [==============================] - 1006s 1s/step - loss: 1.2150 - accuracy: 0.5448 - categorical_accuracy: 0.5448 - precision: 0.7215 - precision_angry: 0.6398 - precision_disgust: 0.3126 - precision_fear: 0.6319 - precision_happy: 0.8879 - precision_neutral: 0.6667 - precision_sad: 0.5688 - precision_surprise: 0.7069 - recall: 0.3552 - recall_angry: 0.1933 - recall_disgust: 0.5496 - recall_fear: 0.0718 - recall_happy: 0.6670 - recall_neutral: 0.2928 - recall_sad: 0.1188 - recall_surprise: 0.6312 - val_loss: 1.3478 - val_accuracy: 0.4886 - val_categorical_accuracy: 0.4886 - val_precision: 0.6500 - val_precision_angry: 0.6080 - val_precision_disgust: 0.1847 - val_precision_fear: 0.3874 - val_precision_happy: 0.9063 - val_precision_neutral: 0.5522 - val_precision_sad: 0.3333 - val_precision_surprise: 0.8317 - val_recall: 0.3252 - val_recall_angry: 0.2784 - val_recall_disgust: 0.4603 - val_recall_fear: 0.1167 - val_recall_happy: 0.5958 - val_recall_neutral: 0.4034 - val_recall_sad: 0.0010 - val_recall_surprise: 0.3812 - lr: 0.0010\n",
      "Epoch 5/50\n",
      "740/740 [==============================] - ETA: 0s - loss: 1.1836 - accuracy: 0.5518 - categorical_accuracy: 0.5518 - precision: 0.7228 - precision_angry: 0.6564 - precision_disgust: 0.3052 - precision_fear: 0.6539 - precision_happy: 0.8893 - precision_neutral: 0.6597 - precision_sad: 0.5975 - precision_surprise: 0.7130 - recall: 0.3697 - recall_angry: 0.1868 - recall_disgust: 0.5663 - recall_fear: 0.0913 - recall_happy: 0.6768 - recall_neutral: 0.3250 - recall_sad: 0.1330 - recall_surprise: 0.6488\n",
      "Epoch 5: val_loss did not improve from 1.25162\n",
      "740/740 [==============================] - 996s 1s/step - loss: 1.1836 - accuracy: 0.5518 - categorical_accuracy: 0.5518 - precision: 0.7228 - precision_angry: 0.6564 - precision_disgust: 0.3052 - precision_fear: 0.6539 - precision_happy: 0.8893 - precision_neutral: 0.6597 - precision_sad: 0.5975 - precision_surprise: 0.7130 - recall: 0.3697 - recall_angry: 0.1868 - recall_disgust: 0.5663 - recall_fear: 0.0913 - recall_happy: 0.6768 - recall_neutral: 0.3250 - recall_sad: 0.1330 - recall_surprise: 0.6488 - val_loss: 1.3290 - val_accuracy: 0.5063 - val_categorical_accuracy: 0.5063 - val_precision: 0.6752 - val_precision_angry: 0.5160 - val_precision_disgust: 0.2215 - val_precision_fear: 0.6795 - val_precision_happy: 0.9236 - val_precision_neutral: 0.6628 - val_precision_sad: 0.6207 - val_precision_surprise: 0.6821 - val_recall: 0.3551 - val_recall_angry: 0.3927 - val_recall_disgust: 0.5079 - val_recall_fear: 0.0632 - val_recall_happy: 0.5951 - val_recall_neutral: 0.2856 - val_recall_sad: 0.0372 - val_recall_surprise: 0.6914 - lr: 0.0010\n",
      "Epoch 6/50\n",
      "740/740 [==============================] - ETA: 0s - loss: 1.1512 - accuracy: 0.5646 - categorical_accuracy: 0.5646 - precision: 0.7264 - precision_angry: 0.6451 - precision_disgust: 0.3319 - precision_fear: 0.6481 - precision_happy: 0.9007 - precision_neutral: 0.6645 - precision_sad: 0.5920 - precision_surprise: 0.7175 - recall: 0.3853 - recall_angry: 0.2266 - recall_disgust: 0.6139 - recall_fear: 0.1072 - recall_happy: 0.6893 - recall_neutral: 0.3342 - recall_sad: 0.1480 - recall_surprise: 0.6447\n",
      "Epoch 6: val_loss did not improve from 1.25162\n",
      "740/740 [==============================] - 1005s 1s/step - loss: 1.1512 - accuracy: 0.5646 - categorical_accuracy: 0.5646 - precision: 0.7264 - precision_angry: 0.6451 - precision_disgust: 0.3319 - precision_fear: 0.6481 - precision_happy: 0.9007 - precision_neutral: 0.6645 - precision_sad: 0.5920 - precision_surprise: 0.7175 - recall: 0.3853 - recall_angry: 0.2266 - recall_disgust: 0.6139 - recall_fear: 0.1072 - recall_happy: 0.6893 - recall_neutral: 0.3342 - recall_sad: 0.1480 - recall_surprise: 0.6447 - val_loss: 1.2956 - val_accuracy: 0.5267 - val_categorical_accuracy: 0.5267 - val_precision: 0.7023 - val_precision_angry: 0.5136 - val_precision_disgust: 0.3214 - val_precision_fear: 0.5890 - val_precision_happy: 0.9244 - val_precision_neutral: 0.7190 - val_precision_sad: 0.5251 - val_precision_surprise: 0.7193 - val_recall: 0.3358 - val_recall_angry: 0.2993 - val_recall_disgust: 0.2160 - val_recall_fear: 0.1536 - val_recall_happy: 0.5278 - val_recall_neutral: 0.2176 - val_recall_sad: 0.1617 - val_recall_surprise: 0.6485 - lr: 0.0010\n",
      "Epoch 7/50\n",
      "740/740 [==============================] - ETA: 0s - loss: 1.1202 - accuracy: 0.5754 - categorical_accuracy: 0.5754 - precision: 0.7261 - precision_angry: 0.6529 - precision_disgust: 0.3626 - precision_fear: 0.6269 - precision_happy: 0.9011 - precision_neutral: 0.6626 - precision_sad: 0.6005 - precision_surprise: 0.7088 - recall: 0.4055 - recall_angry: 0.2445 - recall_disgust: 0.6614 - recall_fear: 0.1247 - recall_happy: 0.7111 - recall_neutral: 0.3443 - recall_sad: 0.1756 - recall_surprise: 0.6679\n",
      "Epoch 7: val_loss improved from 1.25162 to 1.19035, saving model to .\\model_mobilenet_transfer_data_augmentation_balanced.h5\n",
      "740/740 [==============================] - 999s 1s/step - loss: 1.1202 - accuracy: 0.5754 - categorical_accuracy: 0.5754 - precision: 0.7261 - precision_angry: 0.6529 - precision_disgust: 0.3626 - precision_fear: 0.6269 - precision_happy: 0.9011 - precision_neutral: 0.6626 - precision_sad: 0.6005 - precision_surprise: 0.7088 - recall: 0.4055 - recall_angry: 0.2445 - recall_disgust: 0.6614 - recall_fear: 0.1247 - recall_happy: 0.7111 - recall_neutral: 0.3443 - recall_sad: 0.1756 - recall_surprise: 0.6679 - val_loss: 1.1904 - val_accuracy: 0.5523 - val_categorical_accuracy: 0.5523 - val_precision: 0.7110 - val_precision_angry: 0.6722 - val_precision_disgust: 0.2337 - val_precision_fear: 0.7833 - val_precision_happy: 0.8567 - val_precision_neutral: 0.6578 - val_precision_sad: 0.6424 - val_precision_surprise: 0.7009 - val_recall: 0.4046 - val_recall_angry: 0.2454 - val_recall_disgust: 0.5397 - val_recall_fear: 0.0561 - val_recall_happy: 0.7738 - val_recall_neutral: 0.3653 - val_recall_sad: 0.1002 - val_recall_surprise: 0.7041 - lr: 0.0010\n",
      "Epoch 8/50\n",
      "740/740 [==============================] - ETA: 0s - loss: 1.0937 - accuracy: 0.5851 - categorical_accuracy: 0.5851 - precision: 0.7350 - precision_angry: 0.6783 - precision_disgust: 0.3753 - precision_fear: 0.6710 - precision_happy: 0.9021 - precision_neutral: 0.6670 - precision_sad: 0.6102 - precision_surprise: 0.7248 - recall: 0.4218 - recall_angry: 0.2893 - recall_disgust: 0.6687 - recall_fear: 0.1373 - recall_happy: 0.7126 - recall_neutral: 0.3675 - recall_sad: 0.1907 - recall_surprise: 0.6781\n",
      "Epoch 8: val_loss improved from 1.19035 to 1.17840, saving model to .\\model_mobilenet_transfer_data_augmentation_balanced.h5\n",
      "740/740 [==============================] - 1003s 1s/step - loss: 1.0937 - accuracy: 0.5851 - categorical_accuracy: 0.5851 - precision: 0.7350 - precision_angry: 0.6783 - precision_disgust: 0.3753 - precision_fear: 0.6710 - precision_happy: 0.9021 - precision_neutral: 0.6670 - precision_sad: 0.6102 - precision_surprise: 0.7248 - recall: 0.4218 - recall_angry: 0.2893 - recall_disgust: 0.6687 - recall_fear: 0.1373 - recall_happy: 0.7126 - recall_neutral: 0.3675 - recall_sad: 0.1907 - recall_surprise: 0.6781 - val_loss: 1.1784 - val_accuracy: 0.5652 - val_categorical_accuracy: 0.5652 - val_precision: 0.6822 - val_precision_angry: 0.7596 - val_precision_disgust: 0.3536 - val_precision_fear: 0.5291 - val_precision_happy: 0.8850 - val_precision_neutral: 0.5535 - val_precision_sad: 0.6667 - val_precision_surprise: 0.6429 - val_recall: 0.4489 - val_recall_angry: 0.1929 - val_recall_disgust: 0.5120 - val_recall_fear: 0.1406 - val_recall_happy: 0.7401 - val_recall_neutral: 0.5786 - val_recall_sad: 0.1033 - val_recall_surprise: 0.8076 - lr: 0.0010\n",
      "Epoch 9/50\n",
      "740/740 [==============================] - ETA: 0s - loss: 1.0693 - accuracy: 0.5926 - categorical_accuracy: 0.5926 - precision: 0.7336 - precision_angry: 0.6727 - precision_disgust: 0.3834 - precision_fear: 0.6630 - precision_happy: 0.9009 - precision_neutral: 0.6780 - precision_sad: 0.6203 - precision_surprise: 0.7183 - recall: 0.4324 - recall_angry: 0.2843 - recall_disgust: 0.7030 - recall_fear: 0.1424 - recall_happy: 0.7206 - recall_neutral: 0.3794 - recall_sad: 0.2263 - recall_surprise: 0.6782\n",
      "Epoch 9: val_loss improved from 1.17840 to 1.15993, saving model to .\\model_mobilenet_transfer_data_augmentation_balanced.h5\n",
      "740/740 [==============================] - 1008s 1s/step - loss: 1.0693 - accuracy: 0.5926 - categorical_accuracy: 0.5926 - precision: 0.7336 - precision_angry: 0.6727 - precision_disgust: 0.3834 - precision_fear: 0.6630 - precision_happy: 0.9009 - precision_neutral: 0.6780 - precision_sad: 0.6203 - precision_surprise: 0.7183 - recall: 0.4324 - recall_angry: 0.2843 - recall_disgust: 0.7030 - recall_fear: 0.1424 - recall_happy: 0.7206 - recall_neutral: 0.3794 - recall_sad: 0.2263 - recall_surprise: 0.6782 - val_loss: 1.1599 - val_accuracy: 0.5584 - val_categorical_accuracy: 0.5584 - val_precision: 0.6827 - val_precision_angry: 0.6219 - val_precision_disgust: 0.4114 - val_precision_fear: 0.4006 - val_precision_happy: 0.8863 - val_precision_neutral: 0.6509 - val_precision_sad: 0.5399 - val_precision_surprise: 0.8723 - val_recall: 0.4122 - val_recall_angry: 0.3333 - val_recall_disgust: 0.5242 - val_recall_fear: 0.2959 - val_recall_happy: 0.7285 - val_recall_neutral: 0.3136 - val_recall_sad: 0.1813 - val_recall_surprise: 0.4249 - lr: 0.0010\n",
      "Epoch 10/50\n",
      "740/740 [==============================] - ETA: 0s - loss: 1.0443 - accuracy: 0.6023 - categorical_accuracy: 0.6023 - precision: 0.7388 - precision_angry: 0.6800 - precision_disgust: 0.3868 - precision_fear: 0.6723 - precision_happy: 0.9094 - precision_neutral: 0.6721 - precision_sad: 0.6204 - precision_surprise: 0.7289 - recall: 0.4500 - recall_angry: 0.3202 - recall_disgust: 0.7097 - recall_fear: 0.1660 - recall_happy: 0.7423 - recall_neutral: 0.3890 - recall_sad: 0.2215 - recall_surprise: 0.7039\n",
      "Epoch 10: val_loss improved from 1.15993 to 1.15490, saving model to .\\model_mobilenet_transfer_data_augmentation_balanced.h5\n",
      "740/740 [==============================] - 1005s 1s/step - loss: 1.0443 - accuracy: 0.6023 - categorical_accuracy: 0.6023 - precision: 0.7388 - precision_angry: 0.6800 - precision_disgust: 0.3868 - precision_fear: 0.6723 - precision_happy: 0.9094 - precision_neutral: 0.6721 - precision_sad: 0.6204 - precision_surprise: 0.7289 - recall: 0.4500 - recall_angry: 0.3202 - recall_disgust: 0.7097 - recall_fear: 0.1660 - recall_happy: 0.7423 - recall_neutral: 0.3890 - recall_sad: 0.2215 - recall_surprise: 0.7039 - val_loss: 1.1549 - val_accuracy: 0.5715 - val_categorical_accuracy: 0.5715 - val_precision: 0.6780 - val_precision_angry: 0.6648 - val_precision_disgust: 0.3485 - val_precision_fear: 0.4742 - val_precision_happy: 0.9170 - val_precision_neutral: 0.5787 - val_precision_sad: 0.7027 - val_precision_surprise: 0.6344 - val_recall: 0.4356 - val_recall_angry: 0.2906 - val_recall_disgust: 0.5520 - val_recall_fear: 0.2196 - val_recall_happy: 0.6937 - val_recall_neutral: 0.4946 - val_recall_sad: 0.0805 - val_recall_surprise: 0.7258 - lr: 0.0010\n",
      "Epoch 11/50\n",
      "740/740 [==============================] - ETA: 0s - loss: 1.0279 - accuracy: 0.6107 - categorical_accuracy: 0.6107 - precision: 0.7385 - precision_angry: 0.6935 - precision_disgust: 0.3867 - precision_fear: 0.6711 - precision_happy: 0.9052 - precision_neutral: 0.6762 - precision_sad: 0.6221 - precision_surprise: 0.7309 - recall: 0.4599 - recall_angry: 0.3325 - recall_disgust: 0.7143 - recall_fear: 0.1810 - recall_happy: 0.7423 - recall_neutral: 0.4091 - recall_sad: 0.2356 - recall_surprise: 0.7048\n",
      "Epoch 11: val_loss improved from 1.15490 to 1.06929, saving model to .\\model_mobilenet_transfer_data_augmentation_balanced.h5\n",
      "740/740 [==============================] - 1011s 1s/step - loss: 1.0279 - accuracy: 0.6107 - categorical_accuracy: 0.6107 - precision: 0.7385 - precision_angry: 0.6935 - precision_disgust: 0.3867 - precision_fear: 0.6711 - precision_happy: 0.9052 - precision_neutral: 0.6762 - precision_sad: 0.6221 - precision_surprise: 0.7309 - recall: 0.4599 - recall_angry: 0.3325 - recall_disgust: 0.7143 - recall_fear: 0.1810 - recall_happy: 0.7423 - recall_neutral: 0.4091 - recall_sad: 0.2356 - recall_surprise: 0.7048 - val_loss: 1.0693 - val_accuracy: 0.6007 - val_categorical_accuracy: 0.6007 - val_precision: 0.7189 - val_precision_angry: 0.6049 - val_precision_disgust: 0.5694 - val_precision_fear: 0.5455 - val_precision_happy: 0.9034 - val_precision_neutral: 0.6406 - val_precision_sad: 0.6188 - val_precision_surprise: 0.7022 - val_recall: 0.4744 - val_recall_angry: 0.3594 - val_recall_disgust: 0.3306 - val_recall_fear: 0.2148 - val_recall_happy: 0.7524 - val_recall_neutral: 0.4141 - val_recall_sad: 0.2438 - val_recall_surprise: 0.7858 - lr: 0.0010\n",
      "Epoch 12/50\n",
      "740/740 [==============================] - ETA: 0s - loss: 0.9888 - accuracy: 0.6166 - categorical_accuracy: 0.6166 - precision: 0.7401 - precision_angry: 0.6962 - precision_disgust: 0.4171 - precision_fear: 0.6731 - precision_happy: 0.9059 - precision_neutral: 0.6690 - precision_sad: 0.6413 - precision_surprise: 0.7269 - recall: 0.4749 - recall_angry: 0.3485 - recall_disgust: 0.7723 - recall_fear: 0.1969 - recall_happy: 0.7518 - recall_neutral: 0.4154 - recall_sad: 0.2570 - recall_surprise: 0.7255\n",
      "Epoch 12: val_loss did not improve from 1.06929\n",
      "740/740 [==============================] - 992s 1s/step - loss: 0.9888 - accuracy: 0.6166 - categorical_accuracy: 0.6166 - precision: 0.7401 - precision_angry: 0.6962 - precision_disgust: 0.4171 - precision_fear: 0.6731 - precision_happy: 0.9059 - precision_neutral: 0.6690 - precision_sad: 0.6413 - precision_surprise: 0.7269 - recall: 0.4749 - recall_angry: 0.3485 - recall_disgust: 0.7723 - recall_fear: 0.1969 - recall_happy: 0.7518 - recall_neutral: 0.4154 - recall_sad: 0.2570 - recall_surprise: 0.7255 - val_loss: 1.2221 - val_accuracy: 0.5615 - val_categorical_accuracy: 0.5615 - val_precision: 0.6751 - val_precision_angry: 0.5863 - val_precision_disgust: 0.1745 - val_precision_fear: 0.7016 - val_precision_happy: 0.9159 - val_precision_neutral: 0.7406 - val_precision_sad: 0.6244 - val_precision_surprise: 0.7208 - val_recall: 0.4295 - val_recall_angry: 0.3778 - val_recall_disgust: 0.7381 - val_recall_fear: 0.1038 - val_recall_happy: 0.7210 - val_recall_neutral: 0.2542 - val_recall_sad: 0.2588 - val_recall_surprise: 0.7208 - lr: 0.0010\n",
      "Epoch 13/50\n",
      "740/740 [==============================] - ETA: 0s - loss: 1.0019 - accuracy: 0.6154 - categorical_accuracy: 0.6154 - precision: 0.7417 - precision_angry: 0.6839 - precision_disgust: 0.4006 - precision_fear: 0.6632 - precision_happy: 0.9085 - precision_neutral: 0.6718 - precision_sad: 0.6599 - precision_surprise: 0.7388 - recall: 0.4696 - recall_angry: 0.3413 - recall_disgust: 0.7584 - recall_fear: 0.1869 - recall_happy: 0.7443 - recall_neutral: 0.4058 - recall_sad: 0.2691 - recall_surprise: 0.7162\n",
      "Epoch 13: val_loss improved from 1.06929 to 1.05546, saving model to .\\model_mobilenet_transfer_data_augmentation_balanced.h5\n",
      "740/740 [==============================] - 1004s 1s/step - loss: 1.0019 - accuracy: 0.6154 - categorical_accuracy: 0.6154 - precision: 0.7417 - precision_angry: 0.6839 - precision_disgust: 0.4006 - precision_fear: 0.6632 - precision_happy: 0.9085 - precision_neutral: 0.6718 - precision_sad: 0.6599 - precision_surprise: 0.7388 - recall: 0.4696 - recall_angry: 0.3413 - recall_disgust: 0.7584 - recall_fear: 0.1869 - recall_happy: 0.7443 - recall_neutral: 0.4058 - recall_sad: 0.2691 - recall_surprise: 0.7162 - val_loss: 1.0555 - val_accuracy: 0.6014 - val_categorical_accuracy: 0.6014 - val_precision: 0.7219 - val_precision_angry: 0.6720 - val_precision_disgust: 0.3889 - val_precision_fear: 0.6881 - val_precision_happy: 0.9183 - val_precision_neutral: 0.6095 - val_precision_sad: 0.6098 - val_precision_surprise: 0.7299 - val_recall: 0.4721 - val_recall_angry: 0.3053 - val_recall_disgust: 0.6210 - val_recall_fear: 0.0893 - val_recall_happy: 0.7450 - val_recall_neutral: 0.5583 - val_recall_sad: 0.2583 - val_recall_surprise: 0.7145 - lr: 0.0010\n",
      "Epoch 14/50\n",
      "740/740 [==============================] - ETA: 0s - loss: 0.9687 - accuracy: 0.6270 - categorical_accuracy: 0.6270 - precision: 0.7478 - precision_angry: 0.6946 - precision_disgust: 0.4421 - precision_fear: 0.7021 - precision_happy: 0.9137 - precision_neutral: 0.6738 - precision_sad: 0.6409 - precision_surprise: 0.7406 - recall: 0.4902 - recall_angry: 0.3619 - recall_disgust: 0.7893 - recall_fear: 0.2195 - recall_happy: 0.7595 - recall_neutral: 0.4280 - recall_sad: 0.2892 - recall_surprise: 0.7297\n",
      "Epoch 14: val_loss did not improve from 1.05546\n",
      "740/740 [==============================] - 1003s 1s/step - loss: 0.9687 - accuracy: 0.6270 - categorical_accuracy: 0.6270 - precision: 0.7478 - precision_angry: 0.6946 - precision_disgust: 0.4421 - precision_fear: 0.7021 - precision_happy: 0.9137 - precision_neutral: 0.6738 - precision_sad: 0.6409 - precision_surprise: 0.7406 - recall: 0.4902 - recall_angry: 0.3619 - recall_disgust: 0.7893 - recall_fear: 0.2195 - recall_happy: 0.7595 - recall_neutral: 0.4280 - recall_sad: 0.2892 - recall_surprise: 0.7297 - val_loss: 1.0633 - val_accuracy: 0.6036 - val_categorical_accuracy: 0.6036 - val_precision: 0.7212 - val_precision_angry: 0.6856 - val_precision_disgust: 0.4099 - val_precision_fear: 0.6526 - val_precision_happy: 0.9262 - val_precision_neutral: 0.6132 - val_precision_sad: 0.6139 - val_precision_surprise: 0.6880 - val_recall: 0.4735 - val_recall_angry: 0.3378 - val_recall_disgust: 0.5280 - val_recall_fear: 0.1657 - val_recall_happy: 0.7195 - val_recall_neutral: 0.5456 - val_recall_sad: 0.1920 - val_recall_surprise: 0.7795 - lr: 0.0010\n",
      "Epoch 15/50\n",
      "740/740 [==============================] - ETA: 0s - loss: 0.9444 - accuracy: 0.6325 - categorical_accuracy: 0.6325 - precision: 0.7509 - precision_angry: 0.6921 - precision_disgust: 0.4771 - precision_fear: 0.6870 - precision_happy: 0.9091 - precision_neutral: 0.6866 - precision_sad: 0.6476 - precision_surprise: 0.7458 - recall: 0.4989 - recall_angry: 0.3719 - recall_disgust: 0.8257 - recall_fear: 0.2345 - recall_happy: 0.7642 - recall_neutral: 0.4387 - recall_sad: 0.2958 - recall_surprise: 0.7331\n",
      "Epoch 15: val_loss did not improve from 1.05546\n",
      "740/740 [==============================] - 1011s 1s/step - loss: 0.9444 - accuracy: 0.6325 - categorical_accuracy: 0.6325 - precision: 0.7509 - precision_angry: 0.6921 - precision_disgust: 0.4771 - precision_fear: 0.6870 - precision_happy: 0.9091 - precision_neutral: 0.6866 - precision_sad: 0.6476 - precision_surprise: 0.7458 - recall: 0.4989 - recall_angry: 0.3719 - recall_disgust: 0.8257 - recall_fear: 0.2345 - recall_happy: 0.7642 - recall_neutral: 0.4387 - recall_sad: 0.2958 - recall_surprise: 0.7331 - val_loss: 1.0809 - val_accuracy: 0.5927 - val_categorical_accuracy: 0.5927 - val_precision: 0.6819 - val_precision_angry: 0.6583 - val_precision_disgust: 0.5847 - val_precision_fear: 0.5736 - val_precision_happy: 0.9299 - val_precision_neutral: 0.5155 - val_precision_sad: 0.7020 - val_precision_surprise: 0.6849 - val_recall: 0.4947 - val_recall_angry: 0.4143 - val_recall_disgust: 0.5476 - val_recall_fear: 0.1807 - val_recall_happy: 0.6974 - val_recall_neutral: 0.6918 - val_recall_sad: 0.1098 - val_recall_surprise: 0.7970 - lr: 0.0010\n",
      "Epoch 16/50\n",
      "740/740 [==============================] - ETA: 0s - loss: 0.9384 - accuracy: 0.6341 - categorical_accuracy: 0.6341 - precision: 0.7586 - precision_angry: 0.7116 - precision_disgust: 0.4537 - precision_fear: 0.6745 - precision_happy: 0.9150 - precision_neutral: 0.6979 - precision_sad: 0.6732 - precision_surprise: 0.7542 - recall: 0.5094 - recall_angry: 0.3946 - recall_disgust: 0.8158 - recall_fear: 0.2372 - recall_happy: 0.7789 - recall_neutral: 0.4422 - recall_sad: 0.3100 - recall_surprise: 0.7369\n",
      "Epoch 16: val_loss did not improve from 1.05546\n",
      "740/740 [==============================] - 1011s 1s/step - loss: 0.9384 - accuracy: 0.6341 - categorical_accuracy: 0.6341 - precision: 0.7586 - precision_angry: 0.7116 - precision_disgust: 0.4537 - precision_fear: 0.6745 - precision_happy: 0.9150 - precision_neutral: 0.6979 - precision_sad: 0.6732 - precision_surprise: 0.7542 - recall: 0.5094 - recall_angry: 0.3946 - recall_disgust: 0.8158 - recall_fear: 0.2372 - recall_happy: 0.7789 - recall_neutral: 0.4422 - recall_sad: 0.3100 - recall_surprise: 0.7369 - val_loss: 1.1444 - val_accuracy: 0.5652 - val_categorical_accuracy: 0.5652 - val_precision: 0.6482 - val_precision_angry: 0.7500 - val_precision_disgust: 0.3641 - val_precision_fear: 0.5470 - val_precision_happy: 0.9361 - val_precision_neutral: 0.6459 - val_precision_sad: 0.4291 - val_precision_surprise: 0.8131 - val_recall: 0.4682 - val_recall_angry: 0.1432 - val_recall_disgust: 0.6320 - val_recall_fear: 0.1945 - val_recall_happy: 0.6698 - val_recall_neutral: 0.4018 - val_recall_sad: 0.6200 - val_recall_surprise: 0.6169 - lr: 0.0010\n",
      "Epoch 17/50\n",
      "740/740 [==============================] - ETA: 0s - loss: 0.9174 - accuracy: 0.6451 - categorical_accuracy: 0.6451 - precision: 0.7584 - precision_angry: 0.7106 - precision_disgust: 0.4922 - precision_fear: 0.6815 - precision_happy: 0.9176 - precision_neutral: 0.6943 - precision_sad: 0.6475 - precision_surprise: 0.7538 - recall: 0.5182 - recall_angry: 0.4043 - recall_disgust: 0.8224 - recall_fear: 0.2318 - recall_happy: 0.7839 - recall_neutral: 0.4654 - recall_sad: 0.3179 - recall_surprise: 0.7521\n",
      "Epoch 17: val_loss did not improve from 1.05546\n",
      "740/740 [==============================] - 985s 1s/step - loss: 0.9174 - accuracy: 0.6451 - categorical_accuracy: 0.6451 - precision: 0.7584 - precision_angry: 0.7106 - precision_disgust: 0.4922 - precision_fear: 0.6815 - precision_happy: 0.9176 - precision_neutral: 0.6943 - precision_sad: 0.6475 - precision_surprise: 0.7538 - recall: 0.5182 - recall_angry: 0.4043 - recall_disgust: 0.8224 - recall_fear: 0.2318 - recall_happy: 0.7839 - recall_neutral: 0.4654 - recall_sad: 0.3179 - recall_surprise: 0.7521 - val_loss: 1.0658 - val_accuracy: 0.6016 - val_categorical_accuracy: 0.6016 - val_precision: 0.7152 - val_precision_angry: 0.6115 - val_precision_disgust: 0.4436 - val_precision_fear: 0.7263 - val_precision_happy: 0.9417 - val_precision_neutral: 0.7058 - val_precision_sad: 0.5159 - val_precision_surprise: 0.7181 - val_recall: 0.4828 - val_recall_angry: 0.4301 - val_recall_disgust: 0.4683 - val_recall_fear: 0.1549 - val_recall_happy: 0.7153 - val_recall_neutral: 0.3274 - val_recall_sad: 0.4180 - val_recall_surprise: 0.7845 - lr: 0.0010\n",
      "Epoch 18/50\n",
      "740/740 [==============================] - ETA: 0s - loss: 0.9121 - accuracy: 0.6486 - categorical_accuracy: 0.6486 - precision: 0.7566 - precision_angry: 0.7154 - precision_disgust: 0.4536 - precision_fear: 0.6811 - precision_happy: 0.9201 - precision_neutral: 0.7000 - precision_sad: 0.6462 - precision_surprise: 0.7553 - recall: 0.5208 - recall_angry: 0.4053 - recall_disgust: 0.8072 - recall_fear: 0.2467 - recall_happy: 0.7797 - recall_neutral: 0.4737 - recall_sad: 0.3236 - recall_surprise: 0.7461\n",
      "Epoch 18: val_loss improved from 1.05546 to 1.02090, saving model to .\\model_mobilenet_transfer_data_augmentation_balanced.h5\n",
      "740/740 [==============================] - 995s 1s/step - loss: 0.9121 - accuracy: 0.6486 - categorical_accuracy: 0.6486 - precision: 0.7566 - precision_angry: 0.7154 - precision_disgust: 0.4536 - precision_fear: 0.6811 - precision_happy: 0.9201 - precision_neutral: 0.7000 - precision_sad: 0.6462 - precision_surprise: 0.7553 - recall: 0.5208 - recall_angry: 0.4053 - recall_disgust: 0.8072 - recall_fear: 0.2467 - recall_happy: 0.7797 - recall_neutral: 0.4737 - recall_sad: 0.3236 - recall_surprise: 0.7461 - val_loss: 1.0209 - val_accuracy: 0.6242 - val_categorical_accuracy: 0.6242 - val_precision: 0.7146 - val_precision_angry: 0.5901 - val_precision_disgust: 0.5370 - val_precision_fear: 0.5897 - val_precision_happy: 0.9005 - val_precision_neutral: 0.6869 - val_precision_sad: 0.5440 - val_precision_surprise: 0.7912 - val_recall: 0.5277 - val_recall_angry: 0.4200 - val_recall_disgust: 0.4603 - val_recall_fear: 0.2593 - val_recall_happy: 0.7967 - val_recall_neutral: 0.4262 - val_recall_sad: 0.4330 - val_recall_surprise: 0.7110 - lr: 0.0010\n",
      "Epoch 19/50\n",
      "740/740 [==============================] - ETA: 0s - loss: 0.8831 - accuracy: 0.6541 - categorical_accuracy: 0.6541 - precision: 0.7654 - precision_angry: 0.7153 - precision_disgust: 0.5114 - precision_fear: 0.6951 - precision_happy: 0.9219 - precision_neutral: 0.6990 - precision_sad: 0.6663 - precision_surprise: 0.7623 - recall: 0.5363 - recall_angry: 0.4139 - recall_disgust: 0.8455 - recall_fear: 0.2807 - recall_happy: 0.7950 - recall_neutral: 0.4808 - recall_sad: 0.3397 - recall_surprise: 0.7540\n",
      "Epoch 19: val_loss did not improve from 1.02090\n",
      "740/740 [==============================] - 1002s 1s/step - loss: 0.8831 - accuracy: 0.6541 - categorical_accuracy: 0.6541 - precision: 0.7654 - precision_angry: 0.7153 - precision_disgust: 0.5114 - precision_fear: 0.6951 - precision_happy: 0.9219 - precision_neutral: 0.6990 - precision_sad: 0.6663 - precision_surprise: 0.7623 - recall: 0.5363 - recall_angry: 0.4139 - recall_disgust: 0.8455 - recall_fear: 0.2807 - recall_happy: 0.7950 - recall_neutral: 0.4808 - recall_sad: 0.3397 - recall_surprise: 0.7540 - val_loss: 1.0325 - val_accuracy: 0.6089 - val_categorical_accuracy: 0.6089 - val_precision: 0.7027 - val_precision_angry: 0.7151 - val_precision_disgust: 0.4294 - val_precision_fear: 0.5559 - val_precision_happy: 0.9296 - val_precision_neutral: 0.6040 - val_precision_sad: 0.6121 - val_precision_surprise: 0.6575 - val_recall: 0.5083 - val_recall_angry: 0.3057 - val_recall_disgust: 0.5887 - val_recall_fear: 0.2198 - val_recall_happy: 0.7376 - val_recall_neutral: 0.5680 - val_recall_sad: 0.2928 - val_recall_surprise: 0.8263 - lr: 0.0010\n",
      "Epoch 20/50\n",
      "740/740 [==============================] - ETA: 0s - loss: 0.8698 - accuracy: 0.6621 - categorical_accuracy: 0.6621 - precision: 0.7649 - precision_angry: 0.7169 - precision_disgust: 0.5125 - precision_fear: 0.6819 - precision_happy: 0.9220 - precision_neutral: 0.7023 - precision_sad: 0.6650 - precision_surprise: 0.7707 - recall: 0.5422 - recall_angry: 0.4362 - recall_disgust: 0.8552 - recall_fear: 0.2960 - recall_happy: 0.7878 - recall_neutral: 0.4860 - recall_sad: 0.3411 - recall_surprise: 0.7638\n",
      "Epoch 20: val_loss improved from 1.02090 to 1.01240, saving model to .\\model_mobilenet_transfer_data_augmentation_balanced.h5\n",
      "740/740 [==============================] - 1009s 1s/step - loss: 0.8698 - accuracy: 0.6621 - categorical_accuracy: 0.6621 - precision: 0.7649 - precision_angry: 0.7169 - precision_disgust: 0.5125 - precision_fear: 0.6819 - precision_happy: 0.9220 - precision_neutral: 0.7023 - precision_sad: 0.6650 - precision_surprise: 0.7707 - recall: 0.5422 - recall_angry: 0.4362 - recall_disgust: 0.8552 - recall_fear: 0.2960 - recall_happy: 0.7878 - recall_neutral: 0.4860 - recall_sad: 0.3411 - recall_surprise: 0.7638 - val_loss: 1.0124 - val_accuracy: 0.6248 - val_categorical_accuracy: 0.6248 - val_precision: 0.7299 - val_precision_angry: 0.7366 - val_precision_disgust: 0.5610 - val_precision_fear: 0.6706 - val_precision_happy: 0.8360 - val_precision_neutral: 0.7134 - val_precision_sad: 0.5401 - val_precision_surprise: 0.7774 - val_recall: 0.5146 - val_recall_angry: 0.3516 - val_recall_disgust: 0.5476 - val_recall_fear: 0.2010 - val_recall_happy: 0.8491 - val_recall_neutral: 0.3433 - val_recall_sad: 0.4314 - val_recall_surprise: 0.7515 - lr: 0.0010\n",
      "Epoch 21/50\n",
      "740/740 [==============================] - ETA: 0s - loss: 0.8558 - accuracy: 0.6615 - categorical_accuracy: 0.6615 - precision: 0.7639 - precision_angry: 0.7203 - precision_disgust: 0.5183 - precision_fear: 0.6722 - precision_happy: 0.9189 - precision_neutral: 0.6959 - precision_sad: 0.6783 - precision_surprise: 0.7732 - recall: 0.5513 - recall_angry: 0.4457 - recall_disgust: 0.8748 - recall_fear: 0.2905 - recall_happy: 0.7934 - recall_neutral: 0.4986 - recall_sad: 0.3702 - recall_surprise: 0.7616\n",
      "Epoch 21: val_loss did not improve from 1.01240\n",
      "740/740 [==============================] - 1007s 1s/step - loss: 0.8558 - accuracy: 0.6615 - categorical_accuracy: 0.6615 - precision: 0.7639 - precision_angry: 0.7203 - precision_disgust: 0.5183 - precision_fear: 0.6722 - precision_happy: 0.9189 - precision_neutral: 0.6959 - precision_sad: 0.6783 - precision_surprise: 0.7732 - recall: 0.5513 - recall_angry: 0.4457 - recall_disgust: 0.8748 - recall_fear: 0.2905 - recall_happy: 0.7934 - recall_neutral: 0.4986 - recall_sad: 0.3702 - recall_surprise: 0.7616 - val_loss: 1.0179 - val_accuracy: 0.6226 - val_categorical_accuracy: 0.6226 - val_precision: 0.7183 - val_precision_angry: 0.7518 - val_precision_disgust: 0.4064 - val_precision_fear: 0.5438 - val_precision_happy: 0.8808 - val_precision_neutral: 0.6882 - val_precision_sad: 0.5598 - val_precision_surprise: 0.7876 - val_recall: 0.5131 - val_recall_angry: 0.2518 - val_recall_disgust: 0.6032 - val_recall_fear: 0.2878 - val_recall_happy: 0.8199 - val_recall_neutral: 0.4322 - val_recall_sad: 0.4187 - val_recall_surprise: 0.6909 - lr: 0.0010\n",
      "Epoch 22/50\n",
      "740/740 [==============================] - ETA: 0s - loss: 0.8555 - accuracy: 0.6638 - categorical_accuracy: 0.6638 - precision: 0.7673 - precision_angry: 0.7197 - precision_disgust: 0.5144 - precision_fear: 0.6966 - precision_happy: 0.9220 - precision_neutral: 0.7047 - precision_sad: 0.6782 - precision_surprise: 0.7610 - recall: 0.5509 - recall_angry: 0.4412 - recall_disgust: 0.8492 - recall_fear: 0.2942 - recall_happy: 0.7994 - recall_neutral: 0.4990 - recall_sad: 0.3620 - recall_surprise: 0.7616\n",
      "Epoch 22: val_loss did not improve from 1.01240\n",
      "740/740 [==============================] - 1001s 1s/step - loss: 0.8555 - accuracy: 0.6638 - categorical_accuracy: 0.6638 - precision: 0.7673 - precision_angry: 0.7197 - precision_disgust: 0.5144 - precision_fear: 0.6966 - precision_happy: 0.9220 - precision_neutral: 0.7047 - precision_sad: 0.6782 - precision_surprise: 0.7610 - recall: 0.5509 - recall_angry: 0.4412 - recall_disgust: 0.8492 - recall_fear: 0.2942 - recall_happy: 0.7994 - recall_neutral: 0.4990 - recall_sad: 0.3620 - recall_surprise: 0.7616 - val_loss: 1.0159 - val_accuracy: 0.6245 - val_categorical_accuracy: 0.6245 - val_precision: 0.7169 - val_precision_angry: 0.5950 - val_precision_disgust: 0.5238 - val_precision_fear: 0.5397 - val_precision_happy: 0.9289 - val_precision_neutral: 0.6642 - val_precision_sad: 0.6216 - val_precision_surprise: 0.7650 - val_recall: 0.5321 - val_recall_angry: 0.4653 - val_recall_disgust: 0.6111 - val_recall_fear: 0.3079 - val_recall_happy: 0.7592 - val_recall_neutral: 0.5263 - val_recall_sad: 0.3258 - val_recall_surprise: 0.6944 - lr: 0.0010\n",
      "Epoch 23/50\n",
      "740/740 [==============================] - ETA: 0s - loss: 0.8362 - accuracy: 0.6689 - categorical_accuracy: 0.6689 - precision: 0.7717 - precision_angry: 0.7297 - precision_disgust: 0.5486 - precision_fear: 0.6883 - precision_happy: 0.9207 - precision_neutral: 0.7081 - precision_sad: 0.6786 - precision_surprise: 0.7780 - recall: 0.5595 - recall_angry: 0.4582 - recall_disgust: 0.8713 - recall_fear: 0.3046 - recall_happy: 0.7942 - recall_neutral: 0.5091 - recall_sad: 0.3696 - recall_surprise: 0.7862\n",
      "Epoch 23: val_loss improved from 1.01240 to 0.98315, saving model to .\\model_mobilenet_transfer_data_augmentation_balanced.h5\n",
      "740/740 [==============================] - 991s 1s/step - loss: 0.8362 - accuracy: 0.6689 - categorical_accuracy: 0.6689 - precision: 0.7717 - precision_angry: 0.7297 - precision_disgust: 0.5486 - precision_fear: 0.6883 - precision_happy: 0.9207 - precision_neutral: 0.7081 - precision_sad: 0.6786 - precision_surprise: 0.7780 - recall: 0.5595 - recall_angry: 0.4582 - recall_disgust: 0.8713 - recall_fear: 0.3046 - recall_happy: 0.7942 - recall_neutral: 0.5091 - recall_sad: 0.3696 - recall_surprise: 0.7862 - val_loss: 0.9831 - val_accuracy: 0.6286 - val_categorical_accuracy: 0.6286 - val_precision: 0.7456 - val_precision_angry: 0.6200 - val_precision_disgust: 0.5760 - val_precision_fear: 0.6746 - val_precision_happy: 0.8687 - val_precision_neutral: 0.7017 - val_precision_sad: 0.6086 - val_precision_surprise: 0.7900 - val_recall: 0.5066 - val_recall_angry: 0.4322 - val_recall_disgust: 0.5714 - val_recall_fear: 0.1687 - val_recall_happy: 0.8544 - val_recall_neutral: 0.3637 - val_recall_sad: 0.3340 - val_recall_surprise: 0.7160 - lr: 0.0010\n",
      "Epoch 24/50\n",
      "740/740 [==============================] - ETA: 0s - loss: 0.8291 - accuracy: 0.6722 - categorical_accuracy: 0.6722 - precision: 0.7709 - precision_angry: 0.7220 - precision_disgust: 0.5698 - precision_fear: 0.6917 - precision_happy: 0.9210 - precision_neutral: 0.7086 - precision_sad: 0.6731 - precision_surprise: 0.7711 - recall: 0.5634 - recall_angry: 0.4727 - recall_disgust: 0.8671 - recall_fear: 0.3054 - recall_happy: 0.8051 - recall_neutral: 0.5021 - recall_sad: 0.3792 - recall_surprise: 0.7746\n",
      "Epoch 24: val_loss improved from 0.98315 to 0.98088, saving model to .\\model_mobilenet_transfer_data_augmentation_balanced.h5\n",
      "740/740 [==============================] - 988s 1s/step - loss: 0.8291 - accuracy: 0.6722 - categorical_accuracy: 0.6722 - precision: 0.7709 - precision_angry: 0.7220 - precision_disgust: 0.5698 - precision_fear: 0.6917 - precision_happy: 0.9210 - precision_neutral: 0.7086 - precision_sad: 0.6731 - precision_surprise: 0.7711 - recall: 0.5634 - recall_angry: 0.4727 - recall_disgust: 0.8671 - recall_fear: 0.3054 - recall_happy: 0.8051 - recall_neutral: 0.5021 - recall_sad: 0.3792 - recall_surprise: 0.7746 - val_loss: 0.9809 - val_accuracy: 0.6410 - val_categorical_accuracy: 0.6410 - val_precision: 0.7488 - val_precision_angry: 0.6003 - val_precision_disgust: 0.6275 - val_precision_fear: 0.6558 - val_precision_happy: 0.8920 - val_precision_neutral: 0.6998 - val_precision_sad: 0.6333 - val_precision_surprise: 0.8142 - val_recall: 0.5251 - val_recall_angry: 0.4976 - val_recall_disgust: 0.5079 - val_recall_fear: 0.2408 - val_recall_happy: 0.8127 - val_recall_neutral: 0.4580 - val_recall_sad: 0.3071 - val_recall_surprise: 0.7085 - lr: 0.0010\n",
      "Epoch 25/50\n",
      "740/740 [==============================] - ETA: 0s - loss: 0.8174 - accuracy: 0.6763 - categorical_accuracy: 0.6763 - precision: 0.7731 - precision_angry: 0.7321 - precision_disgust: 0.5598 - precision_fear: 0.6874 - precision_happy: 0.9221 - precision_neutral: 0.7147 - precision_sad: 0.6752 - precision_surprise: 0.7752 - recall: 0.5680 - recall_angry: 0.4718 - recall_disgust: 0.8713 - recall_fear: 0.3213 - recall_happy: 0.8067 - recall_neutral: 0.5213 - recall_sad: 0.3714 - recall_surprise: 0.7743\n",
      "Epoch 25: val_loss did not improve from 0.98088\n",
      "740/740 [==============================] - 1007s 1s/step - loss: 0.8174 - accuracy: 0.6763 - categorical_accuracy: 0.6763 - precision: 0.7731 - precision_angry: 0.7321 - precision_disgust: 0.5598 - precision_fear: 0.6874 - precision_happy: 0.9221 - precision_neutral: 0.7147 - precision_sad: 0.6752 - precision_surprise: 0.7752 - recall: 0.5680 - recall_angry: 0.4718 - recall_disgust: 0.8713 - recall_fear: 0.3213 - recall_happy: 0.8067 - recall_neutral: 0.5213 - recall_sad: 0.3714 - recall_surprise: 0.7743 - val_loss: 1.0838 - val_accuracy: 0.6007 - val_categorical_accuracy: 0.6007 - val_precision: 0.7157 - val_precision_angry: 0.6730 - val_precision_disgust: 0.3347 - val_precision_fear: 0.5520 - val_precision_happy: 0.9296 - val_precision_neutral: 0.7524 - val_precision_sad: 0.5957 - val_precision_surprise: 0.7303 - val_recall: 0.4891 - val_recall_angry: 0.3915 - val_recall_disgust: 0.6270 - val_recall_fear: 0.3735 - val_recall_happy: 0.7396 - val_recall_neutral: 0.2379 - val_recall_sad: 0.3467 - val_recall_surprise: 0.7677 - lr: 0.0010\n",
      "Epoch 26/50\n",
      "740/740 [==============================] - ETA: 0s - loss: 0.8048 - accuracy: 0.6806 - categorical_accuracy: 0.6806 - precision: 0.7739 - precision_angry: 0.7281 - precision_disgust: 0.5610 - precision_fear: 0.6958 - precision_happy: 0.9204 - precision_neutral: 0.7088 - precision_sad: 0.6925 - precision_surprise: 0.7790 - recall: 0.5760 - recall_angry: 0.4815 - recall_disgust: 0.8884 - recall_fear: 0.3309 - recall_happy: 0.8066 - recall_neutral: 0.5258 - recall_sad: 0.3898 - recall_surprise: 0.7851\n",
      "Epoch 26: val_loss did not improve from 0.98088\n",
      "740/740 [==============================] - 1009s 1s/step - loss: 0.8048 - accuracy: 0.6806 - categorical_accuracy: 0.6806 - precision: 0.7739 - precision_angry: 0.7281 - precision_disgust: 0.5610 - precision_fear: 0.6958 - precision_happy: 0.9204 - precision_neutral: 0.7088 - precision_sad: 0.6925 - precision_surprise: 0.7790 - recall: 0.5760 - recall_angry: 0.4815 - recall_disgust: 0.8884 - recall_fear: 0.3309 - recall_happy: 0.8066 - recall_neutral: 0.5258 - recall_sad: 0.3898 - recall_surprise: 0.7851 - val_loss: 0.9943 - val_accuracy: 0.6418 - val_categorical_accuracy: 0.6418 - val_precision: 0.7192 - val_precision_angry: 0.6736 - val_precision_disgust: 0.5224 - val_precision_fear: 0.7149 - val_precision_happy: 0.8910 - val_precision_neutral: 0.6742 - val_precision_sad: 0.5354 - val_precision_surprise: 0.7763 - val_recall: 0.5550 - val_recall_angry: 0.4364 - val_recall_disgust: 0.5556 - val_recall_fear: 0.1943 - val_recall_happy: 0.8143 - val_recall_neutral: 0.4708 - val_recall_sad: 0.5481 - val_recall_surprise: 0.7236 - lr: 0.0010\n",
      "Epoch 27/50\n",
      "740/740 [==============================] - ETA: 0s - loss: 0.7909 - accuracy: 0.6853 - categorical_accuracy: 0.6853 - precision: 0.7773 - precision_angry: 0.7367 - precision_disgust: 0.5843 - precision_fear: 0.6914 - precision_happy: 0.9240 - precision_neutral: 0.7222 - precision_sad: 0.6871 - precision_surprise: 0.7754 - recall: 0.5828 - recall_angry: 0.4798 - recall_disgust: 0.8990 - recall_fear: 0.3399 - recall_happy: 0.8111 - recall_neutral: 0.5330 - recall_sad: 0.4066 - recall_surprise: 0.7880\n",
      "Epoch 27: val_loss did not improve from 0.98088\n",
      "740/740 [==============================] - 1015s 1s/step - loss: 0.7909 - accuracy: 0.6853 - categorical_accuracy: 0.6853 - precision: 0.7773 - precision_angry: 0.7367 - precision_disgust: 0.5843 - precision_fear: 0.6914 - precision_happy: 0.9240 - precision_neutral: 0.7222 - precision_sad: 0.6871 - precision_surprise: 0.7754 - recall: 0.5828 - recall_angry: 0.4798 - recall_disgust: 0.8990 - recall_fear: 0.3399 - recall_happy: 0.8111 - recall_neutral: 0.5330 - recall_sad: 0.4066 - recall_surprise: 0.7880 - val_loss: 1.0238 - val_accuracy: 0.6219 - val_categorical_accuracy: 0.6219 - val_precision: 0.7304 - val_precision_angry: 0.5754 - val_precision_disgust: 0.3294 - val_precision_fear: 0.6448 - val_precision_happy: 0.9104 - val_precision_neutral: 0.7610 - val_precision_sad: 0.6413 - val_precision_surprise: 0.7765 - val_recall: 0.5144 - val_recall_angry: 0.4312 - val_recall_disgust: 0.6667 - val_recall_fear: 0.2578 - val_recall_happy: 0.7884 - val_recall_neutral: 0.3944 - val_recall_sad: 0.3557 - val_recall_surprise: 0.7201 - lr: 0.0010\n",
      "Epoch 28/50\n",
      "740/740 [==============================] - ETA: 0s - loss: 0.7853 - accuracy: 0.6878 - categorical_accuracy: 0.6878 - precision: 0.7815 - precision_angry: 0.7441 - precision_disgust: 0.5642 - precision_fear: 0.7303 - precision_happy: 0.9239 - precision_neutral: 0.7225 - precision_sad: 0.6866 - precision_surprise: 0.7821 - recall: 0.5923 - recall_angry: 0.4948 - recall_disgust: 0.8907 - recall_fear: 0.3610 - recall_happy: 0.8170 - recall_neutral: 0.5462 - recall_sad: 0.4118 - recall_surprise: 0.7883\n",
      "Epoch 28: val_loss did not improve from 0.98088\n",
      "740/740 [==============================] - 1012s 1s/step - loss: 0.7853 - accuracy: 0.6878 - categorical_accuracy: 0.6878 - precision: 0.7815 - precision_angry: 0.7441 - precision_disgust: 0.5642 - precision_fear: 0.7303 - precision_happy: 0.9239 - precision_neutral: 0.7225 - precision_sad: 0.6866 - precision_surprise: 0.7821 - recall: 0.5923 - recall_angry: 0.4948 - recall_disgust: 0.8907 - recall_fear: 0.3610 - recall_happy: 0.8170 - recall_neutral: 0.5462 - recall_sad: 0.4118 - recall_surprise: 0.7883 - val_loss: 0.9953 - val_accuracy: 0.6386 - val_categorical_accuracy: 0.6386 - val_precision: 0.7227 - val_precision_angry: 0.5954 - val_precision_disgust: 0.6271 - val_precision_fear: 0.5735 - val_precision_happy: 0.9225 - val_precision_neutral: 0.6832 - val_precision_sad: 0.6144 - val_precision_surprise: 0.7300 - val_recall: 0.5506 - val_recall_angry: 0.5657 - val_recall_disgust: 0.5873 - val_recall_fear: 0.2840 - val_recall_happy: 0.7817 - val_recall_neutral: 0.5168 - val_recall_sad: 0.2910 - val_recall_surprise: 0.7840 - lr: 0.0010\n",
      "Epoch 29/50\n",
      "740/740 [==============================] - ETA: 0s - loss: 0.7674 - accuracy: 0.6981 - categorical_accuracy: 0.6981 - precision: 0.7838 - precision_angry: 0.7412 - precision_disgust: 0.5649 - precision_fear: 0.7222 - precision_happy: 0.9253 - precision_neutral: 0.7243 - precision_sad: 0.7030 - precision_surprise: 0.7906 - recall: 0.6022 - recall_angry: 0.5123 - recall_disgust: 0.8792 - recall_fear: 0.3717 - recall_happy: 0.8170 - recall_neutral: 0.5596 - recall_sad: 0.4278 - recall_surprise: 0.7986\n",
      "Epoch 29: val_loss did not improve from 0.98088\n",
      "\n",
      "Epoch 29: ReduceLROnPlateau reducing learning rate to 0.00010000000474974513.\n",
      "740/740 [==============================] - 990s 1s/step - loss: 0.7674 - accuracy: 0.6981 - categorical_accuracy: 0.6981 - precision: 0.7838 - precision_angry: 0.7412 - precision_disgust: 0.5649 - precision_fear: 0.7222 - precision_happy: 0.9253 - precision_neutral: 0.7243 - precision_sad: 0.7030 - precision_surprise: 0.7906 - recall: 0.6022 - recall_angry: 0.5123 - recall_disgust: 0.8792 - recall_fear: 0.3717 - recall_happy: 0.8170 - recall_neutral: 0.5596 - recall_sad: 0.4278 - recall_surprise: 0.7986 - val_loss: 1.0194 - val_accuracy: 0.6248 - val_categorical_accuracy: 0.6248 - val_precision: 0.7123 - val_precision_angry: 0.6600 - val_precision_disgust: 0.4514 - val_precision_fear: 0.5925 - val_precision_happy: 0.9065 - val_precision_neutral: 0.6404 - val_precision_sad: 0.6416 - val_precision_surprise: 0.6696 - val_recall: 0.5430 - val_recall_angry: 0.4019 - val_recall_disgust: 0.6371 - val_recall_fear: 0.2825 - val_recall_happy: 0.7928 - val_recall_neutral: 0.5460 - val_recall_sad: 0.3089 - val_recall_surprise: 0.8161 - lr: 0.0010\n",
      "Epoch 30/50\n",
      "740/740 [==============================] - ETA: 0s - loss: 0.6974 - accuracy: 0.7184 - categorical_accuracy: 0.7184 - precision: 0.8000 - precision_angry: 0.7659 - precision_disgust: 0.6508 - precision_fear: 0.7398 - precision_happy: 0.9352 - precision_neutral: 0.7397 - precision_sad: 0.7195 - precision_surprise: 0.7994 - recall: 0.6360 - recall_angry: 0.5621 - recall_disgust: 0.9464 - recall_fear: 0.3985 - recall_happy: 0.8317 - recall_neutral: 0.6018 - recall_sad: 0.4729 - recall_surprise: 0.8281\n",
      "Epoch 30: val_loss improved from 0.98088 to 0.94485, saving model to .\\model_mobilenet_transfer_data_augmentation_balanced.h5\n",
      "740/740 [==============================] - 1004s 1s/step - loss: 0.6974 - accuracy: 0.7184 - categorical_accuracy: 0.7184 - precision: 0.8000 - precision_angry: 0.7659 - precision_disgust: 0.6508 - precision_fear: 0.7398 - precision_happy: 0.9352 - precision_neutral: 0.7397 - precision_sad: 0.7195 - precision_surprise: 0.7994 - recall: 0.6360 - recall_angry: 0.5621 - recall_disgust: 0.9464 - recall_fear: 0.3985 - recall_happy: 0.8317 - recall_neutral: 0.6018 - recall_sad: 0.4729 - recall_surprise: 0.8281 - val_loss: 0.9449 - val_accuracy: 0.6564 - val_categorical_accuracy: 0.6564 - val_precision: 0.7369 - val_precision_angry: 0.6491 - val_precision_disgust: 0.6290 - val_precision_fear: 0.6247 - val_precision_happy: 0.9219 - val_precision_neutral: 0.6621 - val_precision_sad: 0.6167 - val_precision_surprise: 0.7672 - val_recall: 0.5800 - val_recall_angry: 0.4811 - val_recall_disgust: 0.6290 - val_recall_fear: 0.3369 - val_recall_happy: 0.8137 - val_recall_neutral: 0.5692 - val_recall_sad: 0.4039 - val_recall_surprise: 0.7591 - lr: 1.0000e-04\n",
      "Epoch 31/50\n",
      "740/740 [==============================] - ETA: 0s - loss: 0.6605 - accuracy: 0.7328 - categorical_accuracy: 0.7328 - precision: 0.8105 - precision_angry: 0.7819 - precision_disgust: 0.7336 - precision_fear: 0.7513 - precision_happy: 0.9375 - precision_neutral: 0.7484 - precision_sad: 0.7192 - precision_surprise: 0.8143 - recall: 0.6543 - recall_angry: 0.5953 - recall_disgust: 0.9545 - recall_fear: 0.4393 - recall_happy: 0.8471 - recall_neutral: 0.6128 - recall_sad: 0.4840 - recall_surprise: 0.8299\n",
      "Epoch 31: val_loss improved from 0.94485 to 0.93875, saving model to .\\model_mobilenet_transfer_data_augmentation_balanced.h5\n",
      "740/740 [==============================] - 1011s 1s/step - loss: 0.6605 - accuracy: 0.7328 - categorical_accuracy: 0.7328 - precision: 0.8105 - precision_angry: 0.7819 - precision_disgust: 0.7336 - precision_fear: 0.7513 - precision_happy: 0.9375 - precision_neutral: 0.7484 - precision_sad: 0.7192 - precision_surprise: 0.8143 - recall: 0.6543 - recall_angry: 0.5953 - recall_disgust: 0.9545 - recall_fear: 0.4393 - recall_happy: 0.8471 - recall_neutral: 0.6128 - recall_sad: 0.4840 - recall_surprise: 0.8299 - val_loss: 0.9388 - val_accuracy: 0.6630 - val_categorical_accuracy: 0.6630 - val_precision: 0.7337 - val_precision_angry: 0.6565 - val_precision_disgust: 0.6694 - val_precision_fear: 0.6152 - val_precision_happy: 0.9172 - val_precision_neutral: 0.6726 - val_precision_sad: 0.5951 - val_precision_surprise: 0.7633 - val_recall: 0.5803 - val_recall_angry: 0.4732 - val_recall_disgust: 0.6640 - val_recall_fear: 0.3270 - val_recall_happy: 0.8025 - val_recall_neutral: 0.5594 - val_recall_sad: 0.4293 - val_recall_surprise: 0.7818 - lr: 1.0000e-04\n",
      "Epoch 32/50\n",
      "740/740 [==============================] - ETA: 0s - loss: 0.6412 - accuracy: 0.7417 - categorical_accuracy: 0.7417 - precision: 0.8144 - precision_angry: 0.7730 - precision_disgust: 0.7571 - precision_fear: 0.7484 - precision_happy: 0.9408 - precision_neutral: 0.7557 - precision_sad: 0.7348 - precision_surprise: 0.8212 - recall: 0.6664 - recall_angry: 0.5932 - recall_disgust: 0.9583 - recall_fear: 0.4610 - recall_happy: 0.8508 - recall_neutral: 0.6229 - recall_sad: 0.5133 - recall_surprise: 0.8447\n",
      "Epoch 32: val_loss improved from 0.93875 to 0.93729, saving model to .\\model_mobilenet_transfer_data_augmentation_balanced.h5\n",
      "740/740 [==============================] - 1022s 1s/step - loss: 0.6412 - accuracy: 0.7417 - categorical_accuracy: 0.7417 - precision: 0.8144 - precision_angry: 0.7730 - precision_disgust: 0.7571 - precision_fear: 0.7484 - precision_happy: 0.9408 - precision_neutral: 0.7557 - precision_sad: 0.7348 - precision_surprise: 0.8212 - recall: 0.6664 - recall_angry: 0.5932 - recall_disgust: 0.9583 - recall_fear: 0.4610 - recall_happy: 0.8508 - recall_neutral: 0.6229 - recall_sad: 0.5133 - recall_surprise: 0.8447 - val_loss: 0.9373 - val_accuracy: 0.6678 - val_categorical_accuracy: 0.6678 - val_precision: 0.7343 - val_precision_angry: 0.6799 - val_precision_disgust: 0.6609 - val_precision_fear: 0.6203 - val_precision_happy: 0.9041 - val_precision_neutral: 0.6640 - val_precision_sad: 0.6066 - val_precision_surprise: 0.7744 - val_recall: 0.5980 - val_recall_angry: 0.5018 - val_recall_disgust: 0.6129 - val_recall_fear: 0.3564 - val_recall_happy: 0.8171 - val_recall_neutral: 0.5840 - val_recall_sad: 0.4529 - val_recall_surprise: 0.7697 - lr: 1.0000e-04\n",
      "Epoch 33/50\n",
      "740/740 [==============================] - ETA: 0s - loss: 0.6283 - accuracy: 0.7454 - categorical_accuracy: 0.7454 - precision: 0.8167 - precision_angry: 0.7875 - precision_disgust: 0.7776 - precision_fear: 0.7413 - precision_happy: 0.9396 - precision_neutral: 0.7548 - precision_sad: 0.7341 - precision_surprise: 0.8291 - recall: 0.6746 - recall_angry: 0.6128 - recall_disgust: 0.9643 - recall_fear: 0.4610 - recall_happy: 0.8595 - recall_neutral: 0.6325 - recall_sad: 0.5177 - recall_surprise: 0.8522\n",
      "Epoch 33: val_loss improved from 0.93729 to 0.93035, saving model to .\\model_mobilenet_transfer_data_augmentation_balanced.h5\n",
      "740/740 [==============================] - 1011s 1s/step - loss: 0.6283 - accuracy: 0.7454 - categorical_accuracy: 0.7454 - precision: 0.8167 - precision_angry: 0.7875 - precision_disgust: 0.7776 - precision_fear: 0.7413 - precision_happy: 0.9396 - precision_neutral: 0.7548 - precision_sad: 0.7341 - precision_surprise: 0.8291 - recall: 0.6746 - recall_angry: 0.6128 - recall_disgust: 0.9643 - recall_fear: 0.4610 - recall_happy: 0.8595 - recall_neutral: 0.6325 - recall_sad: 0.5177 - recall_surprise: 0.8522 - val_loss: 0.9303 - val_accuracy: 0.6688 - val_categorical_accuracy: 0.6688 - val_precision: 0.7448 - val_precision_angry: 0.6724 - val_precision_disgust: 0.6723 - val_precision_fear: 0.5978 - val_precision_happy: 0.9067 - val_precision_neutral: 0.6841 - val_precision_sad: 0.6434 - val_precision_surprise: 0.7939 - val_recall: 0.5997 - val_recall_angry: 0.5207 - val_recall_disgust: 0.6452 - val_recall_fear: 0.3933 - val_recall_happy: 0.8355 - val_recall_neutral: 0.5709 - val_recall_sad: 0.4080 - val_recall_surprise: 0.7553 - lr: 1.0000e-04\n",
      "Epoch 34/50\n",
      "740/740 [==============================] - ETA: 0s - loss: 0.6182 - accuracy: 0.7479 - categorical_accuracy: 0.7479 - precision: 0.8183 - precision_angry: 0.7889 - precision_disgust: 0.7790 - precision_fear: 0.7453 - precision_happy: 0.9400 - precision_neutral: 0.7644 - precision_sad: 0.7274 - precision_surprise: 0.8320 - recall: 0.6768 - recall_angry: 0.6128 - recall_disgust: 0.9761 - recall_fear: 0.4738 - recall_happy: 0.8580 - recall_neutral: 0.6422 - recall_sad: 0.5134 - recall_surprise: 0.8493\n",
      "Epoch 34: val_loss did not improve from 0.93035\n",
      "740/740 [==============================] - 1002s 1s/step - loss: 0.6182 - accuracy: 0.7479 - categorical_accuracy: 0.7479 - precision: 0.8183 - precision_angry: 0.7889 - precision_disgust: 0.7790 - precision_fear: 0.7453 - precision_happy: 0.9400 - precision_neutral: 0.7644 - precision_sad: 0.7274 - precision_surprise: 0.8320 - recall: 0.6768 - recall_angry: 0.6128 - recall_disgust: 0.9761 - recall_fear: 0.4738 - recall_happy: 0.8580 - recall_neutral: 0.6422 - recall_sad: 0.5134 - recall_surprise: 0.8493 - val_loss: 0.9423 - val_accuracy: 0.6666 - val_categorical_accuracy: 0.6666 - val_precision: 0.7349 - val_precision_angry: 0.6727 - val_precision_disgust: 0.6810 - val_precision_fear: 0.6100 - val_precision_happy: 0.9100 - val_precision_neutral: 0.6778 - val_precision_sad: 0.5955 - val_precision_surprise: 0.7649 - val_recall: 0.5960 - val_recall_angry: 0.4982 - val_recall_disgust: 0.6371 - val_recall_fear: 0.3525 - val_recall_happy: 0.8223 - val_recall_neutral: 0.5621 - val_recall_sad: 0.4402 - val_recall_surprise: 0.7961 - lr: 1.0000e-04\n",
      "Epoch 35/50\n",
      "740/740 [==============================] - ETA: 0s - loss: 0.6087 - accuracy: 0.7491 - categorical_accuracy: 0.7491 - precision: 0.8164 - precision_angry: 0.7780 - precision_disgust: 0.8040 - precision_fear: 0.7458 - precision_happy: 0.9407 - precision_neutral: 0.7573 - precision_sad: 0.7377 - precision_surprise: 0.8222 - recall: 0.6806 - recall_angry: 0.6158 - recall_disgust: 0.9702 - recall_fear: 0.4860 - recall_happy: 0.8579 - recall_neutral: 0.6433 - recall_sad: 0.5217 - recall_surprise: 0.8507\n",
      "Epoch 35: val_loss improved from 0.93035 to 0.92099, saving model to .\\model_mobilenet_transfer_data_augmentation_balanced.h5\n",
      "740/740 [==============================] - 991s 1s/step - loss: 0.6087 - accuracy: 0.7491 - categorical_accuracy: 0.7491 - precision: 0.8164 - precision_angry: 0.7780 - precision_disgust: 0.8040 - precision_fear: 0.7458 - precision_happy: 0.9407 - precision_neutral: 0.7573 - precision_sad: 0.7377 - precision_surprise: 0.8222 - recall: 0.6806 - recall_angry: 0.6158 - recall_disgust: 0.9702 - recall_fear: 0.4860 - recall_happy: 0.8579 - recall_neutral: 0.6433 - recall_sad: 0.5217 - recall_surprise: 0.8507 - val_loss: 0.9210 - val_accuracy: 0.6712 - val_categorical_accuracy: 0.6712 - val_precision: 0.7411 - val_precision_angry: 0.6797 - val_precision_disgust: 0.7732 - val_precision_fear: 0.5838 - val_precision_happy: 0.9098 - val_precision_neutral: 0.6790 - val_precision_sad: 0.6121 - val_precision_surprise: 0.7928 - val_recall: 0.5999 - val_recall_angry: 0.5311 - val_recall_disgust: 0.6000 - val_recall_fear: 0.3624 - val_recall_happy: 0.8306 - val_recall_neutral: 0.5614 - val_recall_sad: 0.4410 - val_recall_surprise: 0.7628 - lr: 1.0000e-04\n",
      "Epoch 36/50\n",
      "740/740 [==============================] - ETA: 0s - loss: 0.5979 - accuracy: 0.7528 - categorical_accuracy: 0.7528 - precision: 0.8210 - precision_angry: 0.7865 - precision_disgust: 0.7951 - precision_fear: 0.7531 - precision_happy: 0.9409 - precision_neutral: 0.7626 - precision_sad: 0.7422 - precision_surprise: 0.8320 - recall: 0.6862 - recall_angry: 0.6211 - recall_disgust: 0.9683 - recall_fear: 0.4970 - recall_happy: 0.8619 - recall_neutral: 0.6468 - recall_sad: 0.5285 - recall_surprise: 0.8558\n",
      "Epoch 36: val_loss did not improve from 0.92099\n",
      "740/740 [==============================] - 979s 1s/step - loss: 0.5979 - accuracy: 0.7528 - categorical_accuracy: 0.7528 - precision: 0.8210 - precision_angry: 0.7865 - precision_disgust: 0.7951 - precision_fear: 0.7531 - precision_happy: 0.9409 - precision_neutral: 0.7626 - precision_sad: 0.7422 - precision_surprise: 0.8320 - recall: 0.6862 - recall_angry: 0.6211 - recall_disgust: 0.9683 - recall_fear: 0.4970 - recall_happy: 0.8619 - recall_neutral: 0.6468 - recall_sad: 0.5285 - recall_surprise: 0.8558 - val_loss: 0.9397 - val_accuracy: 0.6658 - val_categorical_accuracy: 0.6658 - val_precision: 0.7376 - val_precision_angry: 0.6484 - val_precision_disgust: 0.7170 - val_precision_fear: 0.6019 - val_precision_happy: 0.9100 - val_precision_neutral: 0.6867 - val_precision_sad: 0.6183 - val_precision_surprise: 0.7763 - val_recall: 0.6044 - val_recall_angry: 0.5201 - val_recall_disgust: 0.6080 - val_recall_fear: 0.3690 - val_recall_happy: 0.8287 - val_recall_neutral: 0.5784 - val_recall_sad: 0.4392 - val_recall_surprise: 0.7927 - lr: 1.0000e-04\n",
      "Epoch 37/50\n",
      "740/740 [==============================] - ETA: 0s - loss: 0.5895 - accuracy: 0.7585 - categorical_accuracy: 0.7585 - precision: 0.8263 - precision_angry: 0.7953 - precision_disgust: 0.8120 - precision_fear: 0.7609 - precision_happy: 0.9435 - precision_neutral: 0.7653 - precision_sad: 0.7507 - precision_surprise: 0.8360 - recall: 0.6929 - recall_angry: 0.6353 - recall_disgust: 0.9702 - recall_fear: 0.5037 - recall_happy: 0.8652 - recall_neutral: 0.6516 - recall_sad: 0.5392 - recall_surprise: 0.8593\n",
      "Epoch 37: val_loss did not improve from 0.92099\n",
      "740/740 [==============================] - 1003s 1s/step - loss: 0.5895 - accuracy: 0.7585 - categorical_accuracy: 0.7585 - precision: 0.8263 - precision_angry: 0.7953 - precision_disgust: 0.8120 - precision_fear: 0.7609 - precision_happy: 0.9435 - precision_neutral: 0.7653 - precision_sad: 0.7507 - precision_surprise: 0.8360 - recall: 0.6929 - recall_angry: 0.6353 - recall_disgust: 0.9702 - recall_fear: 0.5037 - recall_happy: 0.8652 - recall_neutral: 0.6516 - recall_sad: 0.5392 - recall_surprise: 0.8593 - val_loss: 0.9333 - val_accuracy: 0.6732 - val_categorical_accuracy: 0.6732 - val_precision: 0.7385 - val_precision_angry: 0.6743 - val_precision_disgust: 0.6903 - val_precision_fear: 0.6258 - val_precision_happy: 0.9080 - val_precision_neutral: 0.6694 - val_precision_sad: 0.6117 - val_precision_surprise: 0.7805 - val_recall: 0.6050 - val_recall_angry: 0.5000 - val_recall_disgust: 0.6290 - val_recall_fear: 0.3349 - val_recall_happy: 0.8270 - val_recall_neutral: 0.5764 - val_recall_sad: 0.4948 - val_recall_surprise: 0.7852 - lr: 1.0000e-04\n",
      "Epoch 38/50\n",
      "740/740 [==============================] - ETA: 0s - loss: 0.5893 - accuracy: 0.7591 - categorical_accuracy: 0.7591 - precision: 0.8259 - precision_angry: 0.7908 - precision_disgust: 0.7971 - precision_fear: 0.7548 - precision_happy: 0.9398 - precision_neutral: 0.7825 - precision_sad: 0.7478 - precision_surprise: 0.8313 - recall: 0.6921 - recall_angry: 0.6326 - recall_disgust: 0.9644 - recall_fear: 0.5040 - recall_happy: 0.8686 - recall_neutral: 0.6544 - recall_sad: 0.5315 - recall_surprise: 0.8554\n",
      "Epoch 38: val_loss did not improve from 0.92099\n",
      "740/740 [==============================] - 1015s 1s/step - loss: 0.5893 - accuracy: 0.7591 - categorical_accuracy: 0.7591 - precision: 0.8259 - precision_angry: 0.7908 - precision_disgust: 0.7971 - precision_fear: 0.7548 - precision_happy: 0.9398 - precision_neutral: 0.7825 - precision_sad: 0.7478 - precision_surprise: 0.8313 - recall: 0.6921 - recall_angry: 0.6326 - recall_disgust: 0.9644 - recall_fear: 0.5040 - recall_happy: 0.8686 - recall_neutral: 0.6544 - recall_sad: 0.5315 - recall_surprise: 0.8554 - val_loss: 0.9430 - val_accuracy: 0.6692 - val_categorical_accuracy: 0.6692 - val_precision: 0.7341 - val_precision_angry: 0.6597 - val_precision_disgust: 0.7248 - val_precision_fear: 0.6138 - val_precision_happy: 0.9140 - val_precision_neutral: 0.6566 - val_precision_sad: 0.6125 - val_precision_surprise: 0.7672 - val_recall: 0.6002 - val_recall_angry: 0.5359 - val_recall_disgust: 0.6270 - val_recall_fear: 0.3508 - val_recall_happy: 0.8261 - val_recall_neutral: 0.5604 - val_recall_sad: 0.4433 - val_recall_surprise: 0.7823 - lr: 1.0000e-04\n",
      "Epoch 39/50\n",
      "740/740 [==============================] - ETA: 0s - loss: 0.5813 - accuracy: 0.7611 - categorical_accuracy: 0.7611 - precision: 0.8250 - precision_angry: 0.7982 - precision_disgust: 0.8033 - precision_fear: 0.7598 - precision_happy: 0.9438 - precision_neutral: 0.7687 - precision_sad: 0.7360 - precision_surprise: 0.8404 - recall: 0.6983 - recall_angry: 0.6460 - recall_disgust: 0.9703 - recall_fear: 0.4999 - recall_happy: 0.8656 - recall_neutral: 0.6560 - recall_sad: 0.5484 - recall_surprise: 0.8778\n",
      "Epoch 39: val_loss did not improve from 0.92099\n",
      "740/740 [==============================] - 998s 1s/step - loss: 0.5813 - accuracy: 0.7611 - categorical_accuracy: 0.7611 - precision: 0.8250 - precision_angry: 0.7982 - precision_disgust: 0.8033 - precision_fear: 0.7598 - precision_happy: 0.9438 - precision_neutral: 0.7687 - precision_sad: 0.7360 - precision_surprise: 0.8404 - recall: 0.6983 - recall_angry: 0.6460 - recall_disgust: 0.9703 - recall_fear: 0.4999 - recall_happy: 0.8656 - recall_neutral: 0.6560 - recall_sad: 0.5484 - recall_surprise: 0.8778 - val_loss: 0.9626 - val_accuracy: 0.6627 - val_categorical_accuracy: 0.6627 - val_precision: 0.7225 - val_precision_angry: 0.6497 - val_precision_disgust: 0.6555 - val_precision_fear: 0.5845 - val_precision_happy: 0.9142 - val_precision_neutral: 0.6527 - val_precision_sad: 0.5788 - val_precision_surprise: 0.7966 - val_recall: 0.6000 - val_recall_angry: 0.5134 - val_recall_disgust: 0.6190 - val_recall_fear: 0.3579 - val_recall_happy: 0.8160 - val_recall_neutral: 0.5853 - val_recall_sad: 0.4505 - val_recall_surprise: 0.7761 - lr: 1.0000e-04\n",
      "Epoch 40/50\n",
      "740/740 [==============================] - ETA: 0s - loss: 0.5726 - accuracy: 0.7601 - categorical_accuracy: 0.7601 - precision: 0.8271 - precision_angry: 0.7991 - precision_disgust: 0.8250 - precision_fear: 0.7640 - precision_happy: 0.9429 - precision_neutral: 0.7727 - precision_sad: 0.7397 - precision_surprise: 0.8387 - recall: 0.6990 - recall_angry: 0.6468 - recall_disgust: 0.9821 - recall_fear: 0.5093 - recall_happy: 0.8679 - recall_neutral: 0.6663 - recall_sad: 0.5421 - recall_surprise: 0.8567\n",
      "Epoch 40: val_loss did not improve from 0.92099\n",
      "\n",
      "Epoch 40: ReduceLROnPlateau reducing learning rate to 1.0000000474974514e-05.\n",
      "740/740 [==============================] - 1007s 1s/step - loss: 0.5726 - accuracy: 0.7601 - categorical_accuracy: 0.7601 - precision: 0.8271 - precision_angry: 0.7991 - precision_disgust: 0.8250 - precision_fear: 0.7640 - precision_happy: 0.9429 - precision_neutral: 0.7727 - precision_sad: 0.7397 - precision_surprise: 0.8387 - recall: 0.6990 - recall_angry: 0.6468 - recall_disgust: 0.9821 - recall_fear: 0.5093 - recall_happy: 0.8679 - recall_neutral: 0.6663 - recall_sad: 0.5421 - recall_surprise: 0.8567 - val_loss: 0.9433 - val_accuracy: 0.6756 - val_categorical_accuracy: 0.6756 - val_precision: 0.7397 - val_precision_angry: 0.6583 - val_precision_disgust: 0.6957 - val_precision_fear: 0.6281 - val_precision_happy: 0.9101 - val_precision_neutral: 0.6784 - val_precision_sad: 0.6008 - val_precision_surprise: 0.8019 - val_recall: 0.6097 - val_recall_angry: 0.5134 - val_recall_disgust: 0.6452 - val_recall_fear: 0.3895 - val_recall_happy: 0.8356 - val_recall_neutral: 0.5709 - val_recall_sad: 0.4560 - val_recall_surprise: 0.7848 - lr: 1.0000e-04\n",
      "Epoch 41/50\n",
      "740/740 [==============================] - ETA: 0s - loss: 0.5637 - accuracy: 0.7688 - categorical_accuracy: 0.7688 - precision: 0.8289 - precision_angry: 0.7858 - precision_disgust: 0.8233 - precision_fear: 0.7672 - precision_happy: 0.9432 - precision_neutral: 0.7777 - precision_sad: 0.7506 - precision_surprise: 0.8472 - recall: 0.7047 - recall_angry: 0.6385 - recall_disgust: 0.9802 - recall_fear: 0.5268 - recall_happy: 0.8686 - recall_neutral: 0.6768 - recall_sad: 0.5533 - recall_surprise: 0.8623\n",
      "Epoch 41: val_loss did not improve from 0.92099\n",
      "740/740 [==============================] - 992s 1s/step - loss: 0.5637 - accuracy: 0.7688 - categorical_accuracy: 0.7688 - precision: 0.8289 - precision_angry: 0.7858 - precision_disgust: 0.8233 - precision_fear: 0.7672 - precision_happy: 0.9432 - precision_neutral: 0.7777 - precision_sad: 0.7506 - precision_surprise: 0.8472 - recall: 0.7047 - recall_angry: 0.6385 - recall_disgust: 0.9802 - recall_fear: 0.5268 - recall_happy: 0.8686 - recall_neutral: 0.6768 - recall_sad: 0.5533 - recall_surprise: 0.8623 - val_loss: 0.9534 - val_accuracy: 0.6705 - val_categorical_accuracy: 0.6705 - val_precision: 0.7286 - val_precision_angry: 0.6395 - val_precision_disgust: 0.7333 - val_precision_fear: 0.6045 - val_precision_happy: 0.9158 - val_precision_neutral: 0.6478 - val_precision_sad: 0.6217 - val_precision_surprise: 0.7724 - val_recall: 0.6078 - val_recall_angry: 0.5372 - val_recall_disgust: 0.6111 - val_recall_fear: 0.3812 - val_recall_happy: 0.8245 - val_recall_neutral: 0.5778 - val_recall_sad: 0.4571 - val_recall_surprise: 0.7700 - lr: 1.0000e-05\n",
      "Epoch 42/50\n",
      "740/740 [==============================] - ETA: 0s - loss: 0.5579 - accuracy: 0.7725 - categorical_accuracy: 0.7725 - precision: 0.8310 - precision_angry: 0.8014 - precision_disgust: 0.8254 - precision_fear: 0.7720 - precision_happy: 0.9461 - precision_neutral: 0.7711 - precision_sad: 0.7445 - precision_surprise: 0.8528 - recall: 0.7069 - recall_angry: 0.6472 - recall_disgust: 0.9701 - recall_fear: 0.5307 - recall_happy: 0.8713 - recall_neutral: 0.6736 - recall_sad: 0.5542 - recall_surprise: 0.8657\n",
      "Epoch 42: val_loss did not improve from 0.92099\n",
      "740/740 [==============================] - 1001s 1s/step - loss: 0.5579 - accuracy: 0.7725 - categorical_accuracy: 0.7725 - precision: 0.8310 - precision_angry: 0.8014 - precision_disgust: 0.8254 - precision_fear: 0.7720 - precision_happy: 0.9461 - precision_neutral: 0.7711 - precision_sad: 0.7445 - precision_surprise: 0.8528 - recall: 0.7069 - recall_angry: 0.6472 - recall_disgust: 0.9701 - recall_fear: 0.5307 - recall_happy: 0.8713 - recall_neutral: 0.6736 - recall_sad: 0.5542 - recall_surprise: 0.8657 - val_loss: 0.9486 - val_accuracy: 0.6649 - val_categorical_accuracy: 0.6649 - val_precision: 0.7269 - val_precision_angry: 0.6588 - val_precision_disgust: 0.7054 - val_precision_fear: 0.5908 - val_precision_happy: 0.9039 - val_precision_neutral: 0.6463 - val_precision_sad: 0.6144 - val_precision_surprise: 0.7837 - val_recall: 0.6102 - val_recall_angry: 0.5452 - val_recall_disgust: 0.6320 - val_recall_fear: 0.3696 - val_recall_happy: 0.8269 - val_recall_neutral: 0.5856 - val_recall_sad: 0.4572 - val_recall_surprise: 0.7719 - lr: 1.0000e-05\n",
      "Epoch 43/50\n",
      "740/740 [==============================] - ETA: 0s - loss: 0.5592 - accuracy: 0.7698 - categorical_accuracy: 0.7698 - precision: 0.8319 - precision_angry: 0.8063 - precision_disgust: 0.8294 - precision_fear: 0.7742 - precision_happy: 0.9459 - precision_neutral: 0.7783 - precision_sad: 0.7468 - precision_surprise: 0.8398 - recall: 0.7091 - recall_angry: 0.6523 - recall_disgust: 0.9841 - recall_fear: 0.5320 - recall_happy: 0.8713 - recall_neutral: 0.6687 - recall_sad: 0.5617 - recall_surprise: 0.8708\n",
      "Epoch 43: val_loss did not improve from 0.92099\n",
      "740/740 [==============================] - 996s 1s/step - loss: 0.5592 - accuracy: 0.7698 - categorical_accuracy: 0.7698 - precision: 0.8319 - precision_angry: 0.8063 - precision_disgust: 0.8294 - precision_fear: 0.7742 - precision_happy: 0.9459 - precision_neutral: 0.7783 - precision_sad: 0.7468 - precision_surprise: 0.8398 - recall: 0.7091 - recall_angry: 0.6523 - recall_disgust: 0.9841 - recall_fear: 0.5320 - recall_happy: 0.8713 - recall_neutral: 0.6687 - recall_sad: 0.5617 - recall_surprise: 0.8708 - val_loss: 0.9586 - val_accuracy: 0.6729 - val_categorical_accuracy: 0.6729 - val_precision: 0.7347 - val_precision_angry: 0.6489 - val_precision_disgust: 0.7339 - val_precision_fear: 0.6059 - val_precision_happy: 0.9087 - val_precision_neutral: 0.6641 - val_precision_sad: 0.6222 - val_precision_surprise: 0.7878 - val_recall: 0.6111 - val_recall_angry: 0.5207 - val_recall_disgust: 0.6349 - val_recall_fear: 0.3696 - val_recall_happy: 0.8304 - val_recall_neutral: 0.6012 - val_recall_sad: 0.4567 - val_recall_surprise: 0.7806 - lr: 1.0000e-05\n",
      "Epoch 44/50\n",
      "740/740 [==============================] - ETA: 0s - loss: 0.5550 - accuracy: 0.7745 - categorical_accuracy: 0.7745 - precision: 0.8347 - precision_angry: 0.8042 - precision_disgust: 0.8353 - precision_fear: 0.7783 - precision_happy: 0.9477 - precision_neutral: 0.7819 - precision_sad: 0.7564 - precision_surprise: 0.8395 - recall: 0.7123 - recall_angry: 0.6521 - recall_disgust: 0.9842 - recall_fear: 0.5254 - recall_happy: 0.8723 - recall_neutral: 0.6849 - recall_sad: 0.5681 - recall_surprise: 0.8708\n",
      "Epoch 44: val_loss did not improve from 0.92099\n",
      "740/740 [==============================] - 1020s 1s/step - loss: 0.5550 - accuracy: 0.7745 - categorical_accuracy: 0.7745 - precision: 0.8347 - precision_angry: 0.8042 - precision_disgust: 0.8353 - precision_fear: 0.7783 - precision_happy: 0.9477 - precision_neutral: 0.7819 - precision_sad: 0.7564 - precision_surprise: 0.8395 - recall: 0.7123 - recall_angry: 0.6521 - recall_disgust: 0.9842 - recall_fear: 0.5254 - recall_happy: 0.8723 - recall_neutral: 0.6849 - recall_sad: 0.5681 - recall_surprise: 0.8708 - val_loss: 0.9567 - val_accuracy: 0.6732 - val_categorical_accuracy: 0.6732 - val_precision: 0.7362 - val_precision_angry: 0.6458 - val_precision_disgust: 0.7222 - val_precision_fear: 0.6296 - val_precision_happy: 0.9147 - val_precision_neutral: 0.6597 - val_precision_sad: 0.6168 - val_precision_surprise: 0.7820 - val_recall: 0.6106 - val_recall_angry: 0.5402 - val_recall_disgust: 0.6190 - val_recall_fear: 0.3660 - val_recall_happy: 0.8337 - val_recall_neutral: 0.5937 - val_recall_sad: 0.4464 - val_recall_surprise: 0.7773 - lr: 1.0000e-05\n",
      "Epoch 45/50\n",
      "740/740 [==============================] - ETA: 0s - loss: 0.5560 - accuracy: 0.7704 - categorical_accuracy: 0.7704 - precision: 0.8326 - precision_angry: 0.8032 - precision_disgust: 0.8500 - precision_fear: 0.7658 - precision_happy: 0.9441 - precision_neutral: 0.7770 - precision_sad: 0.7584 - precision_surprise: 0.8443 - recall: 0.7097 - recall_angry: 0.6554 - recall_disgust: 0.9762 - recall_fear: 0.5257 - recall_happy: 0.8704 - recall_neutral: 0.6756 - recall_sad: 0.5653 - recall_surprise: 0.8685Restoring model weights from the end of the best epoch: 35.\n",
      "\n",
      "Epoch 45: val_loss did not improve from 0.92099\n",
      "\n",
      "Epoch 45: ReduceLROnPlateau reducing learning rate to 1e-05.\n",
      "740/740 [==============================] - 1013s 1s/step - loss: 0.5560 - accuracy: 0.7704 - categorical_accuracy: 0.7704 - precision: 0.8326 - precision_angry: 0.8032 - precision_disgust: 0.8500 - precision_fear: 0.7658 - precision_happy: 0.9441 - precision_neutral: 0.7770 - precision_sad: 0.7584 - precision_surprise: 0.8443 - recall: 0.7097 - recall_angry: 0.6554 - recall_disgust: 0.9762 - recall_fear: 0.5257 - recall_happy: 0.8704 - recall_neutral: 0.6756 - recall_sad: 0.5653 - recall_surprise: 0.8685 - val_loss: 0.9519 - val_accuracy: 0.6751 - val_categorical_accuracy: 0.6751 - val_precision: 0.7322 - val_precision_angry: 0.6517 - val_precision_disgust: 0.7456 - val_precision_fear: 0.6124 - val_precision_happy: 0.9130 - val_precision_neutral: 0.6586 - val_precision_sad: 0.6062 - val_precision_surprise: 0.7735 - val_recall: 0.6124 - val_recall_angry: 0.5496 - val_recall_disgust: 0.6800 - val_recall_fear: 0.3635 - val_recall_happy: 0.8302 - val_recall_neutral: 0.5907 - val_recall_sad: 0.4408 - val_recall_surprise: 0.7958 - lr: 1.0000e-05\n",
      "Epoch 45: early stopping\n"
     ]
    }
   ],
   "source": [
    "import os\n",
    "\n",
    "os.environ['KMP_DUPLICATE_LIB_OK'] = 'True'\n",
    "\n",
    "history = model.fit(\n",
    "    train_generator,\n",
    "    steps_per_epoch=train_generator.n//train_generator.batch_size,\n",
    "    epochs=epochs,\n",
    "    validation_data=validation_generator,\n",
    "    validation_steps=validation_generator.n//validation_generator.batch_size,\n",
    "    callbacks=callbacks_list,\n",
    "    class_weight=class_weights_dict,\n",
    ")"
   ],
   "metadata": {
    "collapsed": false,
    "pycharm": {
     "name": "#%%\n"
    }
   }
  },
  {
   "cell_type": "markdown",
   "source": [
    "### 7. Evaluation - Test set"
   ],
   "metadata": {
    "collapsed": false,
    "pycharm": {
     "name": "#%% md\n"
    }
   }
  },
  {
   "cell_type": "code",
   "execution_count": 19,
   "outputs": [],
   "source": [
    "from keras.models import load_model\n",
    "\n",
    "model = load_model(\"model_mobilenet_transfer_data_augmentation_balanced.h5\")"
   ],
   "metadata": {
    "collapsed": false,
    "pycharm": {
     "name": "#%%\n"
    }
   }
  },
  {
   "cell_type": "code",
   "execution_count": 20,
   "outputs": [
    {
     "name": "stdout",
     "output_type": "stream",
     "text": [
      "Found 7178 images belonging to 7 classes.\n"
     ]
    }
   ],
   "source": [
    "test_data_generator = ImageDataGenerator(preprocessing_function=preprocess_input)\n",
    "\n",
    "test_generator = test_data_generator.flow_from_directory(\n",
    "    DATASET_BASE_TEST_PATH,\n",
    "    target_size=(224, 224),\n",
    "    batch_size=32,\n",
    "    class_mode='categorical',\n",
    "    shuffle=False\n",
    ")"
   ],
   "metadata": {
    "collapsed": false,
    "pycharm": {
     "name": "#%%\n"
    }
   }
  },
  {
   "cell_type": "code",
   "execution_count": 21,
   "outputs": [
    {
     "name": "stdout",
     "output_type": "stream",
     "text": [
      "225/225 [==============================] - 85s 361ms/step - loss: 0.9384 - accuracy: 0.6829 - categorical_accuracy: 0.6829 - precision: 0.7375 - precision_angry: 0.6375 - precision_disgust: 0.7654 - precision_fear: 0.6407 - precision_happy: 0.9171 - precision_neutral: 0.6484 - precision_sad: 0.6242 - precision_surprise: 0.8036 - recall: 0.6284 - recall_angry: 0.5710 - recall_disgust: 0.5586 - recall_fear: 0.4023 - recall_happy: 0.8540 - recall_neutral: 0.5953 - recall_sad: 0.4635 - recall_surprise: 0.7978\n"
     ]
    },
    {
     "data": {
      "text/plain": "[0.9383649230003357,\n 0.6829200387001038,\n 0.6829200387001038,\n 0.7374529838562012,\n 0.6375291347503662,\n 0.7654321193695068,\n 0.6407464742660522,\n 0.917070209980011,\n 0.648409903049469,\n 0.624190092086792,\n 0.803636372089386,\n 0.6284480094909668,\n 0.5709812045097351,\n 0.5585585832595825,\n 0.40234375,\n 0.8540022373199463,\n 0.5952960252761841,\n 0.4635124206542969,\n 0.7978339195251465]"
     },
     "execution_count": 21,
     "metadata": {},
     "output_type": "execute_result"
    }
   ],
   "source": [
    "model.evaluate(test_generator)"
   ],
   "metadata": {
    "collapsed": false,
    "pycharm": {
     "name": "#%%\n"
    }
   }
  }
 ],
 "metadata": {
  "kernelspec": {
   "display_name": "Python 3",
   "language": "python",
   "name": "python3"
  },
  "language_info": {
   "codemirror_mode": {
    "name": "ipython",
    "version": 2
   },
   "file_extension": ".py",
   "mimetype": "text/x-python",
   "name": "python",
   "nbconvert_exporter": "python",
   "pygments_lexer": "ipython2",
   "version": "2.7.6"
  }
 },
 "nbformat": 4,
 "nbformat_minor": 0
}