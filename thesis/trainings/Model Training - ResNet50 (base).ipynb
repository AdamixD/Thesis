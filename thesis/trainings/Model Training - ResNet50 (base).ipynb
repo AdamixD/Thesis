{
 "cells": [
  {
   "cell_type": "markdown",
   "source": [
    "# Model Training - ResNet50 (base)"
   ],
   "metadata": {
    "collapsed": false,
    "pycharm": {
     "name": "#%% md\n"
    }
   }
  },
  {
   "cell_type": "markdown",
   "source": [
    "### 0. Imports"
   ],
   "metadata": {
    "collapsed": false,
    "pycharm": {
     "name": "#%% md\n"
    }
   }
  },
  {
   "cell_type": "code",
   "execution_count": 1,
   "outputs": [],
   "source": [
    "import matplotlib.pyplot as plt\n",
    "import tensorflow as tf\n",
    "\n",
    "from keras.applications import ResNet50\n",
    "from keras.applications.resnet import preprocess_input\n",
    "from keras.callbacks import (\n",
    "    ModelCheckpoint,\n",
    "    EarlyStopping,\n",
    "    ReduceLROnPlateau\n",
    ")\n",
    "from keras.models import Sequential\n",
    "from keras.layers import Dense, GlobalAveragePooling2D\n",
    "from keras.metrics import Precision, Recall\n",
    "from keras.optimizers import Adam\n",
    "from keras.preprocessing.image import ImageDataGenerator\n",
    "from keras.utils.vis_utils import plot_model"
   ],
   "metadata": {
    "collapsed": false,
    "ExecuteTime": {
     "start_time": "2023-06-08T14:04:36.621338Z",
     "end_time": "2023-06-08T14:04:39.977428Z"
    },
    "pycharm": {
     "name": "#%%\n"
    }
   }
  },
  {
   "cell_type": "markdown",
   "source": [
    "### 1. Paths"
   ],
   "metadata": {
    "collapsed": false,
    "pycharm": {
     "name": "#%% md\n"
    }
   }
  },
  {
   "cell_type": "code",
   "execution_count": 2,
   "outputs": [],
   "source": [
    "# DATASET_BASE_TRAIN_PATH = \"/Users/adamdabkowski/DataspellProjects/Praca_dyplomowa/data/train_resized\"\n",
    "# DATASET_BASE_TRAIN_PATH = \"/Users/adamd/DataspellProjects/Facial Expressions Recognition/data/train_resized\"\n",
    "# DATASET_BASE_TRAIN_PATH = \"/Users/adamd/DataspellProjects/Facial Expressions Recognition/data/train_merged\"\n",
    "DATASET_BASE_TRAIN_PATH = \"/Users/adamd/DataspellProjects/Facial Expressions Recognition/data/train_merged_cleaned\"\n",
    "\n",
    "# DATASET_BASE_TRAIN_PATH = \"../new_data\"\n",
    "\n",
    "# DATASET_BASE_TEST_PATH = \"/Users/adamdabkowski/DataspellProjects/Praca_dyplomowa/data/test_resized\"\n",
    "DATASET_BASE_TEST_PATH = \"/Users/adamd/DataspellProjects/Facial Expressions Recognition/data/test_resized\""
   ],
   "metadata": {
    "collapsed": false,
    "ExecuteTime": {
     "start_time": "2023-06-08T14:06:08.298593Z",
     "end_time": "2023-06-08T14:06:08.305288Z"
    },
    "pycharm": {
     "name": "#%%\n"
    }
   }
  },
  {
   "cell_type": "markdown",
   "source": [
    "### 2. Data preprocessing"
   ],
   "metadata": {
    "collapsed": false,
    "pycharm": {
     "name": "#%% md\n"
    }
   }
  },
  {
   "cell_type": "code",
   "execution_count": 3,
   "outputs": [
    {
     "name": "stdout",
     "output_type": "stream",
     "text": [
      "Found 23689 images belonging to 7 classes.\n",
      "Found 5919 images belonging to 7 classes.\n"
     ]
    }
   ],
   "source": [
    "batch_size  = 32\n",
    "img_size = 224\n",
    "\n",
    "train_validation_data_generator = ImageDataGenerator(preprocessing_function=preprocess_input, validation_split=0.2)\n",
    "\n",
    "train_generator = train_validation_data_generator.flow_from_directory(\n",
    "    DATASET_BASE_TRAIN_PATH,\n",
    "    target_size=(img_size,img_size),\n",
    "    batch_size=batch_size,\n",
    "    class_mode='categorical',\n",
    "    color_mode='rgb',\n",
    "    subset='training',\n",
    "    shuffle=True,\n",
    ")\n",
    "\n",
    "validation_generator = train_validation_data_generator.flow_from_directory(\n",
    "    DATASET_BASE_TRAIN_PATH,\n",
    "    target_size=(img_size,img_size),\n",
    "    batch_size=batch_size,\n",
    "    class_mode='categorical',\n",
    "    color_mode='rgb',\n",
    "    subset='validation',\n",
    "    shuffle=True,\n",
    ")"
   ],
   "metadata": {
    "collapsed": false,
    "ExecuteTime": {
     "start_time": "2023-06-08T14:06:12.829138Z",
     "end_time": "2023-06-08T14:06:13.009438Z"
    },
    "pycharm": {
     "name": "#%%\n"
    }
   }
  },
  {
   "cell_type": "markdown",
   "source": [
    "### 5. Model creating"
   ],
   "metadata": {
    "collapsed": false,
    "pycharm": {
     "name": "#%% md\n"
    }
   }
  },
  {
   "cell_type": "code",
   "execution_count": 4,
   "outputs": [],
   "source": [
    "CATEGORIES = [\"angry\", \"disgust\", \"fear\", \"happy\", \"neutral\", \"sad\", \"surprise\"]"
   ],
   "metadata": {
    "collapsed": false,
    "ExecuteTime": {
     "start_time": "2023-06-08T14:06:21.358802Z",
     "end_time": "2023-06-08T14:06:21.367405Z"
    },
    "pycharm": {
     "name": "#%%\n"
    }
   }
  },
  {
   "cell_type": "code",
   "execution_count": 5,
   "outputs": [],
   "source": [
    "checkpoint = ModelCheckpoint(\n",
    "    filepath=\"./model_resnet50_base.h5\",\n",
    "    monitor='val_loss',\n",
    "    verbose=1,\n",
    "    save_best_only=True,\n",
    "    mode='min'\n",
    ")\n",
    "\n",
    "early_stopping = EarlyStopping(\n",
    "    monitor='val_loss',\n",
    "    patience=10,\n",
    "    verbose=1,\n",
    "    restore_best_weights=True,\n",
    ")\n",
    "\n",
    "reduce_learning_rate = ReduceLROnPlateau(\n",
    "    monitor='val_loss',\n",
    "    factor=0.1,\n",
    "    patience=5,\n",
    "    verbose=1,\n",
    "    min_lr=0.00001,\n",
    ")\n",
    "\n",
    "callbacks_list = [early_stopping, checkpoint, reduce_learning_rate]"
   ],
   "metadata": {
    "collapsed": false,
    "ExecuteTime": {
     "start_time": "2023-06-08T14:06:22.501933Z",
     "end_time": "2023-06-08T14:06:22.506101Z"
    },
    "pycharm": {
     "name": "#%%\n"
    }
   }
  },
  {
   "cell_type": "code",
   "execution_count": 6,
   "outputs": [],
   "source": [
    "model = Sequential()\n",
    "\n",
    "base_model = ResNet50(input_shape=(img_size, img_size, 3), include_top=False, weights=None)\n",
    "model.add(base_model)\n",
    "\n",
    "model.add(GlobalAveragePooling2D())\n",
    "model.add(Dense(512, activation='relu'))\n",
    "model.add(Dense(7, activation='softmax'))"
   ],
   "metadata": {
    "collapsed": false,
    "ExecuteTime": {
     "start_time": "2023-06-08T14:06:33.844245Z",
     "end_time": "2023-06-08T14:06:34.087495Z"
    },
    "pycharm": {
     "name": "#%%\n"
    }
   }
  },
  {
   "cell_type": "code",
   "execution_count": 7,
   "outputs": [
    {
     "name": "stdout",
     "output_type": "stream",
     "text": [
      "Model: \"sequential\"\n",
      "_________________________________________________________________\n",
      " Layer (type)                Output Shape              Param #   \n",
      "=================================================================\n",
      " resnet50 (Functional)       (None, 7, 7, 2048)        23587712  \n",
      "                                                                 \n",
      " global_average_pooling2d (G  (None, 2048)             0         \n",
      " lobalAveragePooling2D)                                          \n",
      "                                                                 \n",
      " dense (Dense)               (None, 512)               1049088   \n",
      "                                                                 \n",
      " dense_1 (Dense)             (None, 7)                 3591      \n",
      "                                                                 \n",
      "=================================================================\n",
      "Total params: 24,640,391\n",
      "Trainable params: 24,587,271\n",
      "Non-trainable params: 53,120\n",
      "_________________________________________________________________\n"
     ]
    }
   ],
   "source": [
    "model.compile(\n",
    "    optimizer=Adam(learning_rate=0.001),\n",
    "    loss='categorical_crossentropy',\n",
    "    metrics=[\n",
    "        'accuracy',\n",
    "        Precision(name='precision'),\n",
    "        Precision(class_id=0, name='precision_angry'),\n",
    "        Precision(class_id=1, name='precision_disgust'),\n",
    "        Precision(class_id=2, name='precision_fear'),\n",
    "        Precision(class_id=3, name='precision_happy'),\n",
    "        Precision(class_id=4, name='precision_neutral'),\n",
    "        Precision(class_id=5, name='precision_sad'),\n",
    "        Precision(class_id=6, name='precision_surprise'),\n",
    "        Recall(name='recall'),\n",
    "        Recall(class_id=0, name='recall_angry'),\n",
    "        Recall(class_id=1, name='recall_disgust'),\n",
    "        Recall(class_id=2, name='recall_fear'),\n",
    "        Recall(class_id=3, name='recall_happy'),\n",
    "        Recall(class_id=4, name='recall_neutral'),\n",
    "        Recall(class_id=5, name='recall_sad'),\n",
    "        Recall(class_id=6, name='recall_surprise'),\n",
    "    ]\n",
    ")\n",
    "model.summary()"
   ],
   "metadata": {
    "collapsed": false,
    "ExecuteTime": {
     "start_time": "2023-06-08T14:08:05.068394Z",
     "end_time": "2023-06-08T14:08:05.102749Z"
    },
    "pycharm": {
     "name": "#%%\n"
    }
   }
  },
  {
   "cell_type": "code",
   "execution_count": 8,
   "outputs": [
    {
     "data": {
      "image/png": "[encoded data removed]",
      "text/plain": "<IPython.core.display.Image object>"
     },
     "execution_count": 8,
     "metadata": {},
     "output_type": "execute_result"
    }
   ],
   "source": [
    "plot_model(model, to_file='model_resnet50_base.png', show_shapes=True, show_layer_names=True)"
   ],
   "metadata": {
    "collapsed": false,
    "pycharm": {
     "name": "#%%\n"
    }
   }
  },
  {
   "cell_type": "markdown",
   "source": [
    "### 6. Model training"
   ],
   "metadata": {
    "collapsed": false,
    "pycharm": {
     "name": "#%% md\n"
    }
   }
  },
  {
   "cell_type": "code",
   "execution_count": 9,
   "outputs": [],
   "source": [
    "epochs = 50"
   ],
   "metadata": {
    "collapsed": false,
    "ExecuteTime": {
     "start_time": "2023-06-08T14:08:06.121000Z",
     "end_time": "2023-06-08T14:08:06.134021Z"
    },
    "pycharm": {
     "name": "#%%\n"
    }
   }
  },
  {
   "cell_type": "code",
   "execution_count": 10,
   "outputs": [
    {
     "name": "stdout",
     "output_type": "stream",
     "text": [
      "Epoch 1/50\n",
      "740/740 [==============================] - ETA: 0s - loss: 1.8872 - accuracy: 0.2400 - precision: 0.2028 - precision_angry: 0.2581 - precision_disgust: 0.1000 - precision_fear: 0.2889 - precision_happy: 0.2542 - precision_neutral: 0.1186 - precision_sad: 0.1304 - precision_surprise: 0.1739 - recall: 0.0030 - recall_angry: 0.0024 - recall_disgust: 0.0020 - recall_fear: 0.0039 - recall_happy: 0.0051 - recall_neutral: 0.0017 - recall_sad: 0.0023 - recall_surprise: 0.0015\n",
      "Epoch 1: val_loss improved from inf to 1.79764, saving model to .\\model_resnet50_base.h5\n",
      "740/740 [==============================] - 2868s 4s/step - loss: 1.8872 - accuracy: 0.2400 - precision: 0.2028 - precision_angry: 0.2581 - precision_disgust: 0.1000 - precision_fear: 0.2889 - precision_happy: 0.2542 - precision_neutral: 0.1186 - precision_sad: 0.1304 - precision_surprise: 0.1739 - recall: 0.0030 - recall_angry: 0.0024 - recall_disgust: 0.0020 - recall_fear: 0.0039 - recall_happy: 0.0051 - recall_neutral: 0.0017 - recall_sad: 0.0023 - recall_surprise: 0.0015 - val_loss: 1.7976 - val_accuracy: 0.2651 - val_precision: 0.0000e+00 - val_precision_angry: 0.0000e+00 - val_precision_disgust: 0.0000e+00 - val_precision_fear: 0.0000e+00 - val_precision_happy: 0.0000e+00 - val_precision_neutral: 0.0000e+00 - val_precision_sad: 0.0000e+00 - val_precision_surprise: 0.0000e+00 - val_recall: 0.0000e+00 - val_recall_angry: 0.0000e+00 - val_recall_disgust: 0.0000e+00 - val_recall_fear: 0.0000e+00 - val_recall_happy: 0.0000e+00 - val_recall_neutral: 0.0000e+00 - val_recall_sad: 0.0000e+00 - val_recall_surprise: 0.0000e+00 - lr: 0.0010\n",
      "Epoch 2/50\n",
      "740/740 [==============================] - ETA: 0s - loss: 1.7517 - accuracy: 0.2807 - precision: 0.5678 - precision_angry: 0.0000e+00 - precision_disgust: 0.0000e+00 - precision_fear: 0.0000e+00 - precision_happy: 0.4458 - precision_neutral: 0.1111 - precision_sad: 0.0000e+00 - precision_surprise: 0.6047 - recall: 0.0115 - recall_angry: 0.0000e+00 - recall_disgust: 0.0000e+00 - recall_fear: 0.0000e+00 - recall_happy: 0.0063 - recall_neutral: 2.4631e-04 - recall_sad: 0.0000e+00 - recall_surprise: 0.0882\n",
      "Epoch 2: val_loss did not improve from 1.79764\n",
      "740/740 [==============================] - 2920s 4s/step - loss: 1.7517 - accuracy: 0.2807 - precision: 0.5678 - precision_angry: 0.0000e+00 - precision_disgust: 0.0000e+00 - precision_fear: 0.0000e+00 - precision_happy: 0.4458 - precision_neutral: 0.1111 - precision_sad: 0.0000e+00 - precision_surprise: 0.6047 - recall: 0.0115 - recall_angry: 0.0000e+00 - recall_disgust: 0.0000e+00 - recall_fear: 0.0000e+00 - recall_happy: 0.0063 - recall_neutral: 2.4631e-04 - recall_sad: 0.0000e+00 - recall_surprise: 0.0882 - val_loss: 1.9205 - val_accuracy: 0.2271 - val_precision: 0.3358 - val_precision_angry: 0.0000e+00 - val_precision_disgust: 0.0000e+00 - val_precision_fear: 0.0000e+00 - val_precision_happy: 1.0000 - val_precision_neutral: 0.0000e+00 - val_precision_sad: 0.0000e+00 - val_precision_surprise: 0.3353 - val_recall: 0.0780 - val_recall_angry: 0.0000e+00 - val_recall_disgust: 0.0000e+00 - val_recall_fear: 0.0000e+00 - val_recall_happy: 6.8166e-04 - val_recall_neutral: 0.0000e+00 - val_recall_sad: 0.0000e+00 - val_recall_surprise: 0.6939 - lr: 0.0010\n",
      "Epoch 3/50\n",
      "740/740 [==============================] - ETA: 0s - loss: 1.5817 - accuracy: 0.3778 - precision: 0.6877 - precision_angry: 0.0000e+00 - precision_disgust: 0.0000e+00 - precision_fear: 0.0000e+00 - precision_happy: 0.7119 - precision_neutral: 0.4684 - precision_sad: 0.0000e+00 - precision_surprise: 0.6566 - recall: 0.1337 - recall_angry: 0.0000e+00 - recall_disgust: 0.0000e+00 - recall_fear: 0.0000e+00 - recall_happy: 0.3781 - recall_neutral: 0.0182 - recall_sad: 0.0000e+00 - recall_surprise: 0.3263\n",
      "Epoch 3: val_loss did not improve from 1.79764\n",
      "740/740 [==============================] - 2907s 4s/step - loss: 1.5817 - accuracy: 0.3778 - precision: 0.6877 - precision_angry: 0.0000e+00 - precision_disgust: 0.0000e+00 - precision_fear: 0.0000e+00 - precision_happy: 0.7119 - precision_neutral: 0.4684 - precision_sad: 0.0000e+00 - precision_surprise: 0.6566 - recall: 0.1337 - recall_angry: 0.0000e+00 - recall_disgust: 0.0000e+00 - recall_fear: 0.0000e+00 - recall_happy: 0.3781 - recall_neutral: 0.0182 - recall_sad: 0.0000e+00 - recall_surprise: 0.3263 - val_loss: 1.8983 - val_accuracy: 0.3072 - val_precision: 0.4367 - val_precision_angry: 0.0000e+00 - val_precision_disgust: 0.0000e+00 - val_precision_fear: 0.0000e+00 - val_precision_happy: 0.8496 - val_precision_neutral: 0.4865 - val_precision_sad: 0.0000e+00 - val_precision_surprise: 0.3220 - val_recall: 0.1581 - val_recall_angry: 0.0000e+00 - val_recall_disgust: 0.0000e+00 - val_recall_fear: 0.0000e+00 - val_recall_happy: 0.2623 - val_recall_neutral: 0.0178 - val_recall_sad: 0.0000e+00 - val_recall_surprise: 0.8015 - lr: 0.0010\n",
      "Epoch 4/50\n",
      "740/740 [==============================] - ETA: 0s - loss: 1.4188 - accuracy: 0.4512 - precision: 0.7361 - precision_angry: 0.5763 - precision_disgust: 0.0000e+00 - precision_fear: 0.0000e+00 - precision_happy: 0.7931 - precision_neutral: 0.5597 - precision_sad: 0.4286 - precision_surprise: 0.6642 - recall: 0.2216 - recall_angry: 0.0103 - recall_disgust: 0.0000e+00 - recall_fear: 0.0000e+00 - recall_happy: 0.6194 - recall_neutral: 0.0957 - recall_sad: 7.7101e-04 - recall_surprise: 0.4432\n",
      "Epoch 4: val_loss improved from 1.79764 to 1.57415, saving model to .\\model_resnet50_base.h5\n",
      "740/740 [==============================] - 2904s 4s/step - loss: 1.4188 - accuracy: 0.4512 - precision: 0.7361 - precision_angry: 0.5763 - precision_disgust: 0.0000e+00 - precision_fear: 0.0000e+00 - precision_happy: 0.7931 - precision_neutral: 0.5597 - precision_sad: 0.4286 - precision_surprise: 0.6642 - recall: 0.2216 - recall_angry: 0.0103 - recall_disgust: 0.0000e+00 - recall_fear: 0.0000e+00 - recall_happy: 0.6194 - recall_neutral: 0.0957 - recall_sad: 7.7101e-04 - recall_surprise: 0.4432 - val_loss: 1.5741 - val_accuracy: 0.4025 - val_precision: 0.5938 - val_precision_angry: 0.3003 - val_precision_disgust: 0.0000e+00 - val_precision_fear: 0.0000e+00 - val_precision_happy: 0.7542 - val_precision_neutral: 0.9091 - val_precision_sad: 0.0000e+00 - val_precision_surprise: 0.4900 - val_recall: 0.2709 - val_recall_angry: 0.1368 - val_recall_disgust: 0.0000e+00 - val_recall_fear: 0.0000e+00 - val_recall_happy: 0.6733 - val_recall_neutral: 0.0099 - val_recall_sad: 0.0000e+00 - val_recall_surprise: 0.7383 - lr: 0.0010\n",
      "Epoch 5/50\n",
      "740/740 [==============================] - ETA: 0s - loss: 1.3355 - accuracy: 0.4870 - precision: 0.7392 - precision_angry: 0.6170 - precision_disgust: 0.4167 - precision_fear: 0.0000e+00 - precision_happy: 0.8204 - precision_neutral: 0.5685 - precision_sad: 0.4500 - precision_surprise: 0.6704 - recall: 0.2590 - recall_angry: 0.0440 - recall_disgust: 0.0099 - recall_fear: 0.0000e+00 - recall_happy: 0.6717 - recall_neutral: 0.1633 - recall_sad: 0.0093 - recall_surprise: 0.5002\n",
      "Epoch 5: val_loss improved from 1.57415 to 1.44859, saving model to .\\model_resnet50_base.h5\n",
      "740/740 [==============================] - 2905s 4s/step - loss: 1.3355 - accuracy: 0.4870 - precision: 0.7392 - precision_angry: 0.6170 - precision_disgust: 0.4167 - precision_fear: 0.0000e+00 - precision_happy: 0.8204 - precision_neutral: 0.5685 - precision_sad: 0.4500 - precision_surprise: 0.6704 - recall: 0.2590 - recall_angry: 0.0440 - recall_disgust: 0.0099 - recall_fear: 0.0000e+00 - recall_happy: 0.6717 - recall_neutral: 0.1633 - recall_sad: 0.0093 - recall_surprise: 0.5002 - val_loss: 1.4486 - val_accuracy: 0.4497 - val_precision: 0.6929 - val_precision_angry: 0.4079 - val_precision_disgust: 0.0000e+00 - val_precision_fear: 0.0000e+00 - val_precision_happy: 0.8179 - val_precision_neutral: 0.4941 - val_precision_sad: 0.5333 - val_precision_surprise: 0.8195 - val_recall: 0.2276 - val_recall_angry: 0.1886 - val_recall_disgust: 0.0000e+00 - val_recall_fear: 0.0000e+00 - val_recall_happy: 0.6437 - val_recall_neutral: 0.1238 - val_recall_sad: 0.0083 - val_recall_surprise: 0.1652 - lr: 0.0010\n",
      "Epoch 6/50\n",
      "740/740 [==============================] - ETA: 0s - loss: 1.2653 - accuracy: 0.5155 - precision: 0.7403 - precision_angry: 0.5905 - precision_disgust: 0.3462 - precision_fear: 0.0000e+00 - precision_happy: 0.8324 - precision_neutral: 0.5962 - precision_sad: 0.4835 - precision_surprise: 0.7036 - recall: 0.2999 - recall_angry: 0.1130 - recall_disgust: 0.0178 - recall_fear: 0.0000e+00 - recall_happy: 0.7107 - recall_neutral: 0.2373 - recall_sad: 0.0226 - recall_surprise: 0.5575\n",
      "Epoch 6: val_loss improved from 1.44859 to 1.30147, saving model to .\\model_resnet50_base.h5\n",
      "740/740 [==============================] - 2895s 4s/step - loss: 1.2653 - accuracy: 0.5155 - precision: 0.7403 - precision_angry: 0.5905 - precision_disgust: 0.3462 - precision_fear: 0.0000e+00 - precision_happy: 0.8324 - precision_neutral: 0.5962 - precision_sad: 0.4835 - precision_surprise: 0.7036 - recall: 0.2999 - recall_angry: 0.1130 - recall_disgust: 0.0178 - recall_fear: 0.0000e+00 - recall_happy: 0.7107 - recall_neutral: 0.2373 - recall_sad: 0.0226 - recall_surprise: 0.5575 - val_loss: 1.3015 - val_accuracy: 0.5014 - val_precision: 0.7148 - val_precision_angry: 0.4816 - val_precision_disgust: 0.0000e+00 - val_precision_fear: 0.0000e+00 - val_precision_happy: 0.7957 - val_precision_neutral: 0.6536 - val_precision_sad: 0.0000e+00 - val_precision_surprise: 0.7550 - val_recall: 0.3108 - val_recall_angry: 0.2726 - val_recall_disgust: 0.0000e+00 - val_recall_fear: 0.0000e+00 - val_recall_happy: 0.7538 - val_recall_neutral: 0.1972 - val_recall_sad: 0.0000e+00 - val_recall_surprise: 0.4614 - lr: 0.0010\n",
      "Epoch 7/50\n",
      "740/740 [==============================] - ETA: 0s - loss: 1.2122 - accuracy: 0.5344 - precision: 0.7413 - precision_angry: 0.6243 - precision_disgust: 0.6136 - precision_fear: 0.3750 - precision_happy: 0.8412 - precision_neutral: 0.5979 - precision_sad: 0.5284 - precision_surprise: 0.7081 - recall: 0.3261 - recall_angry: 0.1609 - recall_disgust: 0.0535 - recall_fear: 8.8994e-04 - recall_happy: 0.7385 - recall_neutral: 0.2714 - recall_sad: 0.0455 - recall_surprise: 0.5781\n",
      "Epoch 7: val_loss did not improve from 1.30147\n",
      "740/740 [==============================] - 2894s 4s/step - loss: 1.2122 - accuracy: 0.5344 - precision: 0.7413 - precision_angry: 0.6243 - precision_disgust: 0.6136 - precision_fear: 0.3750 - precision_happy: 0.8412 - precision_neutral: 0.5979 - precision_sad: 0.5284 - precision_surprise: 0.7081 - recall: 0.3261 - recall_angry: 0.1609 - recall_disgust: 0.0535 - recall_fear: 8.8994e-04 - recall_happy: 0.7385 - recall_neutral: 0.2714 - recall_sad: 0.0455 - recall_surprise: 0.5781 - val_loss: 1.3209 - val_accuracy: 0.4925 - val_precision: 0.6458 - val_precision_angry: 0.7250 - val_precision_disgust: 0.0000e+00 - val_precision_fear: 0.0000e+00 - val_precision_happy: 0.7735 - val_precision_neutral: 0.7500 - val_precision_sad: 0.3916 - val_precision_surprise: 0.7292 - val_recall: 0.3460 - val_recall_angry: 0.1065 - val_recall_disgust: 0.0000e+00 - val_recall_fear: 0.0000e+00 - val_recall_happy: 0.7846 - val_recall_neutral: 0.0656 - val_recall_sad: 0.3940 - val_recall_surprise: 0.5303 - lr: 0.0010\n",
      "Epoch 8/50\n",
      "740/740 [==============================] - ETA: 0s - loss: 1.1678 - accuracy: 0.5537 - precision: 0.7462 - precision_angry: 0.6101 - precision_disgust: 0.5584 - precision_fear: 0.4286 - precision_happy: 0.8569 - precision_neutral: 0.6281 - precision_sad: 0.5403 - precision_surprise: 0.7240 - recall: 0.3554 - recall_angry: 0.1987 - recall_disgust: 0.0853 - recall_fear: 0.0044 - recall_happy: 0.7675 - recall_neutral: 0.3049 - recall_sad: 0.0878 - recall_surprise: 0.6035\n",
      "Epoch 8: val_loss did not improve from 1.30147\n",
      "740/740 [==============================] - 2869s 4s/step - loss: 1.1678 - accuracy: 0.5537 - precision: 0.7462 - precision_angry: 0.6101 - precision_disgust: 0.5584 - precision_fear: 0.4286 - precision_happy: 0.8569 - precision_neutral: 0.6281 - precision_sad: 0.5403 - precision_surprise: 0.7240 - recall: 0.3554 - recall_angry: 0.1987 - recall_disgust: 0.0853 - recall_fear: 0.0044 - recall_happy: 0.7675 - recall_neutral: 0.3049 - recall_sad: 0.0878 - recall_surprise: 0.6035 - val_loss: 1.3060 - val_accuracy: 0.5029 - val_precision: 0.6629 - val_precision_angry: 0.7593 - val_precision_disgust: 0.5556 - val_precision_fear: 1.0000 - val_precision_happy: 0.8186 - val_precision_neutral: 0.5306 - val_precision_sad: 0.5000 - val_precision_surprise: 0.5319 - val_recall: 0.3531 - val_recall_angry: 0.0501 - val_recall_disgust: 0.0400 - val_recall_fear: 0.0012 - val_recall_happy: 0.7795 - val_recall_neutral: 0.3178 - val_recall_sad: 0.0186 - val_recall_surprise: 0.8348 - lr: 0.0010\n",
      "Epoch 9/50\n",
      "740/740 [==============================] - ETA: 0s - loss: 1.1046 - accuracy: 0.5780 - precision: 0.7441 - precision_angry: 0.6435 - precision_disgust: 0.6560 - precision_fear: 0.4650 - precision_happy: 0.8624 - precision_neutral: 0.6401 - precision_sad: 0.5566 - precision_surprise: 0.7304 - recall: 0.3945 - recall_angry: 0.2425 - recall_disgust: 0.1624 - recall_fear: 0.0216 - recall_happy: 0.7946 - recall_neutral: 0.3599 - recall_sad: 0.1463 - recall_surprise: 0.6319\n",
      "Epoch 9: val_loss improved from 1.30147 to 1.23075, saving model to .\\model_resnet50_base.h5\n",
      "740/740 [==============================] - 2902s 4s/step - loss: 1.1046 - accuracy: 0.5780 - precision: 0.7441 - precision_angry: 0.6435 - precision_disgust: 0.6560 - precision_fear: 0.4650 - precision_happy: 0.8624 - precision_neutral: 0.6401 - precision_sad: 0.5566 - precision_surprise: 0.7304 - recall: 0.3945 - recall_angry: 0.2425 - recall_disgust: 0.1624 - recall_fear: 0.0216 - recall_happy: 0.7946 - recall_neutral: 0.3599 - recall_sad: 0.1463 - recall_surprise: 0.6319 - val_loss: 1.2308 - val_accuracy: 0.5363 - val_precision: 0.6925 - val_precision_angry: 0.7376 - val_precision_disgust: 0.7143 - val_precision_fear: 0.3636 - val_precision_happy: 0.8014 - val_precision_neutral: 0.5699 - val_precision_sad: 0.5342 - val_precision_surprise: 0.6370 - val_recall: 0.3886 - val_recall_angry: 0.1265 - val_recall_disgust: 0.0397 - val_recall_fear: 0.0048 - val_recall_happy: 0.7904 - val_recall_neutral: 0.4832 - val_recall_sad: 0.0402 - val_recall_surprise: 0.7492 - lr: 0.0010\n",
      "Epoch 10/50\n",
      "740/740 [==============================] - ETA: 0s - loss: 1.0536 - accuracy: 0.6024 - precision: 0.7501 - precision_angry: 0.6607 - precision_disgust: 0.6623 - precision_fear: 0.5614 - precision_happy: 0.8793 - precision_neutral: 0.6626 - precision_sad: 0.5726 - precision_surprise: 0.7464 - recall: 0.4351 - recall_angry: 0.3006 - recall_disgust: 0.2020 - recall_fear: 0.0638 - recall_happy: 0.8137 - recall_neutral: 0.4107 - recall_sad: 0.2117 - recall_surprise: 0.6434\n",
      "Epoch 10: val_loss did not improve from 1.23075\n",
      "740/740 [==============================] - 2873s 4s/step - loss: 1.0536 - accuracy: 0.6024 - precision: 0.7501 - precision_angry: 0.6607 - precision_disgust: 0.6623 - precision_fear: 0.5614 - precision_happy: 0.8793 - precision_neutral: 0.6626 - precision_sad: 0.5726 - precision_surprise: 0.7464 - recall: 0.4351 - recall_angry: 0.3006 - recall_disgust: 0.2020 - recall_fear: 0.0638 - recall_happy: 0.8137 - recall_neutral: 0.4107 - recall_sad: 0.2117 - recall_surprise: 0.6434 - val_loss: 1.2466 - val_accuracy: 0.5280 - val_precision: 0.6479 - val_precision_angry: 0.6920 - val_precision_disgust: 0.8000 - val_precision_fear: 0.4898 - val_precision_happy: 0.8831 - val_precision_neutral: 0.4626 - val_precision_sad: 0.5500 - val_precision_surprise: 0.6440 - val_recall: 0.4212 - val_recall_angry: 0.1895 - val_recall_disgust: 0.0640 - val_recall_fear: 0.0286 - val_recall_happy: 0.7270 - val_recall_neutral: 0.6946 - val_recall_sad: 0.0114 - val_recall_surprise: 0.7746 - lr: 0.0010\n",
      "Epoch 11/50\n",
      "740/740 [==============================] - ETA: 0s - loss: 0.9886 - accuracy: 0.6234 - precision: 0.7608 - precision_angry: 0.6847 - precision_disgust: 0.7059 - precision_fear: 0.6020 - precision_happy: 0.8880 - precision_neutral: 0.6760 - precision_sad: 0.6145 - precision_surprise: 0.7667 - recall: 0.4796 - recall_angry: 0.3487 - recall_disgust: 0.2851 - recall_fear: 0.1050 - recall_happy: 0.8401 - recall_neutral: 0.4569 - recall_sad: 0.2771 - recall_surprise: 0.6878\n",
      "Epoch 11: val_loss improved from 1.23075 to 1.18380, saving model to .\\model_resnet50_base.h5\n",
      "740/740 [==============================] - 2878s 4s/step - loss: 0.9886 - accuracy: 0.6234 - precision: 0.7608 - precision_angry: 0.6847 - precision_disgust: 0.7059 - precision_fear: 0.6020 - precision_happy: 0.8880 - precision_neutral: 0.6760 - precision_sad: 0.6145 - precision_surprise: 0.7667 - recall: 0.4796 - recall_angry: 0.3487 - recall_disgust: 0.2851 - recall_fear: 0.1050 - recall_happy: 0.8401 - recall_neutral: 0.4569 - recall_sad: 0.2771 - recall_surprise: 0.6878 - val_loss: 1.1838 - val_accuracy: 0.5576 - val_precision: 0.6787 - val_precision_angry: 0.5288 - val_precision_disgust: 0.6667 - val_precision_fear: 0.6022 - val_precision_happy: 0.8145 - val_precision_neutral: 0.5616 - val_precision_sad: 0.5322 - val_precision_surprise: 0.7654 - val_recall: 0.4509 - val_recall_angry: 0.3337 - val_recall_disgust: 0.1746 - val_recall_fear: 0.0671 - val_recall_happy: 0.8145 - val_recall_neutral: 0.4698 - val_recall_sad: 0.2299 - val_recall_surprise: 0.6237 - lr: 0.0010\n",
      "Epoch 12/50\n",
      "740/740 [==============================] - ETA: 0s - loss: 0.9278 - accuracy: 0.6453 - precision: 0.7637 - precision_angry: 0.7079 - precision_disgust: 0.7320 - precision_fear: 0.5964 - precision_happy: 0.8918 - precision_neutral: 0.6967 - precision_sad: 0.6272 - precision_surprise: 0.7790 - recall: 0.5219 - recall_angry: 0.4137 - recall_disgust: 0.3624 - recall_fear: 0.1763 - recall_happy: 0.8569 - recall_neutral: 0.5033 - recall_sad: 0.3319 - recall_surprise: 0.6897\n",
      "Epoch 12: val_loss did not improve from 1.18380\n",
      "740/740 [==============================] - 2867s 4s/step - loss: 0.9278 - accuracy: 0.6453 - precision: 0.7637 - precision_angry: 0.7079 - precision_disgust: 0.7320 - precision_fear: 0.5964 - precision_happy: 0.8918 - precision_neutral: 0.6967 - precision_sad: 0.6272 - precision_surprise: 0.7790 - recall: 0.5219 - recall_angry: 0.4137 - recall_disgust: 0.3624 - recall_fear: 0.1763 - recall_happy: 0.8569 - recall_neutral: 0.5033 - recall_sad: 0.3319 - recall_surprise: 0.6897 - val_loss: 1.5388 - val_accuracy: 0.4565 - val_precision: 0.5501 - val_precision_angry: 0.6992 - val_precision_disgust: 1.0000 - val_precision_fear: 0.2682 - val_precision_happy: 0.9170 - val_precision_neutral: 0.8586 - val_precision_sad: 0.4276 - val_precision_surprise: 0.4874 - val_recall: 0.3658 - val_recall_angry: 0.1134 - val_recall_disgust: 0.0160 - val_recall_fear: 0.3421 - val_recall_happy: 0.6405 - val_recall_neutral: 0.0838 - val_recall_sad: 0.1925 - val_recall_surprise: 0.8541 - lr: 0.0010\n",
      "Epoch 13/50\n",
      "740/740 [==============================] - ETA: 0s - loss: 0.8469 - accuracy: 0.6814 - precision: 0.7779 - precision_angry: 0.7123 - precision_disgust: 0.8127 - precision_fear: 0.6477 - precision_happy: 0.9130 - precision_neutral: 0.7255 - precision_sad: 0.6368 - precision_surprise: 0.7937 - recall: 0.5698 - recall_angry: 0.4556 - recall_disgust: 0.4812 - recall_fear: 0.2460 - recall_happy: 0.8797 - recall_neutral: 0.5529 - recall_sad: 0.4025 - recall_surprise: 0.7243\n",
      "Epoch 13: val_loss did not improve from 1.18380\n",
      "740/740 [==============================] - 2872s 4s/step - loss: 0.8469 - accuracy: 0.6814 - precision: 0.7779 - precision_angry: 0.7123 - precision_disgust: 0.8127 - precision_fear: 0.6477 - precision_happy: 0.9130 - precision_neutral: 0.7255 - precision_sad: 0.6368 - precision_surprise: 0.7937 - recall: 0.5698 - recall_angry: 0.4556 - recall_disgust: 0.4812 - recall_fear: 0.2460 - recall_happy: 0.8797 - recall_neutral: 0.5529 - recall_sad: 0.4025 - recall_surprise: 0.7243 - val_loss: 1.2677 - val_accuracy: 0.5596 - val_precision: 0.6457 - val_precision_angry: 0.5983 - val_precision_disgust: 1.0000 - val_precision_fear: 0.4582 - val_precision_happy: 0.6794 - val_precision_neutral: 0.6345 - val_precision_sad: 0.5540 - val_precision_surprise: 0.7748 - val_recall: 0.4708 - val_recall_angry: 0.2610 - val_recall_disgust: 0.0238 - val_recall_fear: 0.2024 - val_recall_happy: 0.8962 - val_recall_neutral: 0.4211 - val_recall_sad: 0.2492 - val_recall_surprise: 0.6142 - lr: 0.0010\n",
      "Epoch 14/50\n",
      "740/740 [==============================] - ETA: 0s - loss: 0.7617 - accuracy: 0.7160 - precision: 0.7995 - precision_angry: 0.7447 - precision_disgust: 0.7988 - precision_fear: 0.6839 - precision_happy: 0.9227 - precision_neutral: 0.7623 - precision_sad: 0.6862 - precision_surprise: 0.8132 - recall: 0.6275 - recall_angry: 0.5376 - recall_disgust: 0.5437 - recall_fear: 0.3147 - recall_happy: 0.8990 - recall_neutral: 0.6312 - recall_sad: 0.4758 - recall_surprise: 0.7675\n",
      "Epoch 14: val_loss did not improve from 1.18380\n",
      "740/740 [==============================] - 2865s 4s/step - loss: 0.7617 - accuracy: 0.7160 - precision: 0.7995 - precision_angry: 0.7447 - precision_disgust: 0.7988 - precision_fear: 0.6839 - precision_happy: 0.9227 - precision_neutral: 0.7623 - precision_sad: 0.6862 - precision_surprise: 0.8132 - recall: 0.6275 - recall_angry: 0.5376 - recall_disgust: 0.5437 - recall_fear: 0.3147 - recall_happy: 0.8990 - recall_neutral: 0.6312 - recall_sad: 0.4758 - recall_surprise: 0.7675 - val_loss: 1.3522 - val_accuracy: 0.5431 - val_precision: 0.6089 - val_precision_angry: 0.5091 - val_precision_disgust: 0.6286 - val_precision_fear: 0.4200 - val_precision_happy: 0.7531 - val_precision_neutral: 0.7490 - val_precision_sad: 0.4496 - val_precision_surprise: 0.8065 - val_recall: 0.4764 - val_recall_angry: 0.4088 - val_recall_disgust: 0.1774 - val_recall_fear: 0.3110 - val_recall_happy: 0.8354 - val_recall_neutral: 0.1769 - val_recall_sad: 0.4784 - val_recall_surprise: 0.4864 - lr: 0.0010\n",
      "Epoch 15/50\n",
      "740/740 [==============================] - ETA: 0s - loss: 0.6658 - accuracy: 0.7530 - precision: 0.8169 - precision_angry: 0.7692 - precision_disgust: 0.8204 - precision_fear: 0.7218 - precision_happy: 0.9316 - precision_neutral: 0.7933 - precision_sad: 0.7081 - precision_surprise: 0.8416 - recall: 0.6852 - recall_angry: 0.5965 - recall_disgust: 0.5893 - recall_fear: 0.4182 - recall_happy: 0.9187 - recall_neutral: 0.6983 - recall_sad: 0.5617 - recall_surprise: 0.7956\n",
      "Epoch 15: val_loss did not improve from 1.18380\n",
      "740/740 [==============================] - 2863s 4s/step - loss: 0.6658 - accuracy: 0.7530 - precision: 0.8169 - precision_angry: 0.7692 - precision_disgust: 0.8204 - precision_fear: 0.7218 - precision_happy: 0.9316 - precision_neutral: 0.7933 - precision_sad: 0.7081 - precision_surprise: 0.8416 - recall: 0.6852 - recall_angry: 0.5965 - recall_disgust: 0.5893 - recall_fear: 0.4182 - recall_happy: 0.9187 - recall_neutral: 0.6983 - recall_sad: 0.5617 - recall_surprise: 0.7956 - val_loss: 1.3144 - val_accuracy: 0.5652 - val_precision: 0.6235 - val_precision_angry: 0.5298 - val_precision_disgust: 0.8043 - val_precision_fear: 0.4007 - val_precision_happy: 0.8702 - val_precision_neutral: 0.6055 - val_precision_sad: 0.4763 - val_precision_surprise: 0.7369 - val_recall: 0.5056 - val_recall_angry: 0.3912 - val_recall_disgust: 0.2984 - val_recall_fear: 0.4107 - val_recall_happy: 0.7319 - val_recall_neutral: 0.4178 - val_recall_sad: 0.3833 - val_recall_surprise: 0.6178 - lr: 0.0010\n",
      "Epoch 16/50\n",
      "740/740 [==============================] - ETA: 0s - loss: 0.5554 - accuracy: 0.7963 - precision: 0.8421 - precision_angry: 0.8146 - precision_disgust: 0.8660 - precision_fear: 0.7376 - precision_happy: 0.9466 - precision_neutral: 0.8290 - precision_sad: 0.7481 - precision_surprise: 0.8672 - recall: 0.7480 - recall_angry: 0.6864 - recall_disgust: 0.7197 - recall_fear: 0.5068 - recall_happy: 0.9392 - recall_neutral: 0.7709 - recall_sad: 0.6456 - recall_surprise: 0.8274\n",
      "Epoch 16: val_loss did not improve from 1.18380\n",
      "\n",
      "Epoch 16: ReduceLROnPlateau reducing learning rate to 0.00010000000474974513.\n",
      "740/740 [==============================] - 2869s 4s/step - loss: 0.5554 - accuracy: 0.7963 - precision: 0.8421 - precision_angry: 0.8146 - precision_disgust: 0.8660 - precision_fear: 0.7376 - precision_happy: 0.9466 - precision_neutral: 0.8290 - precision_sad: 0.7481 - precision_surprise: 0.8672 - recall: 0.7480 - recall_angry: 0.6864 - recall_disgust: 0.7197 - recall_fear: 0.5068 - recall_happy: 0.9392 - recall_neutral: 0.7709 - recall_sad: 0.6456 - recall_surprise: 0.8274 - val_loss: 1.7093 - val_accuracy: 0.5180 - val_precision: 0.5504 - val_precision_angry: 0.3527 - val_precision_disgust: 0.7250 - val_precision_fear: 0.3723 - val_precision_happy: 0.8965 - val_precision_neutral: 0.5925 - val_precision_sad: 0.4517 - val_precision_surprise: 0.8893 - val_recall: 0.4721 - val_recall_angry: 0.6108 - val_recall_disgust: 0.2320 - val_recall_fear: 0.3258 - val_recall_happy: 0.6673 - val_recall_neutral: 0.3917 - val_recall_sad: 0.3996 - val_recall_surprise: 0.3283 - lr: 0.0010\n",
      "Epoch 17/50\n",
      "740/740 [==============================] - ETA: 0s - loss: 0.2783 - accuracy: 0.9075 - precision: 0.9280 - precision_angry: 0.9293 - precision_disgust: 0.9449 - precision_fear: 0.8729 - precision_happy: 0.9811 - precision_neutral: 0.9430 - precision_sad: 0.8638 - precision_surprise: 0.9338 - recall: 0.8860 - recall_angry: 0.8664 - recall_disgust: 0.8849 - recall_fear: 0.7311 - recall_happy: 0.9799 - recall_neutral: 0.9205 - recall_sad: 0.8367 - recall_surprise: 0.9190\n",
      "Epoch 17: val_loss did not improve from 1.18380\n",
      "740/740 [==============================] - 2877s 4s/step - loss: 0.2783 - accuracy: 0.9075 - precision: 0.9280 - precision_angry: 0.9293 - precision_disgust: 0.9449 - precision_fear: 0.8729 - precision_happy: 0.9811 - precision_neutral: 0.9430 - precision_sad: 0.8638 - precision_surprise: 0.9338 - recall: 0.8860 - recall_angry: 0.8664 - recall_disgust: 0.8849 - recall_fear: 0.7311 - recall_happy: 0.9799 - recall_neutral: 0.9205 - recall_sad: 0.8367 - recall_surprise: 0.9190 - val_loss: 1.4953 - val_accuracy: 0.5946 - val_precision: 0.6248 - val_precision_angry: 0.5828 - val_precision_disgust: 0.7833 - val_precision_fear: 0.4650 - val_precision_happy: 0.8327 - val_precision_neutral: 0.5505 - val_precision_sad: 0.4513 - val_precision_surprise: 0.7708 - val_recall: 0.5654 - val_recall_angry: 0.4197 - val_recall_disgust: 0.3730 - val_recall_fear: 0.3967 - val_recall_happy: 0.7940 - val_recall_neutral: 0.5114 - val_recall_sad: 0.4773 - val_recall_surprise: 0.7041 - lr: 1.0000e-04\n",
      "Epoch 18/50\n",
      "740/740 [==============================] - ETA: 0s - loss: 0.1815 - accuracy: 0.9419 - precision: 0.9520 - precision_angry: 0.9526 - precision_disgust: 0.9731 - precision_fear: 0.9089 - precision_happy: 0.9905 - precision_neutral: 0.9643 - precision_sad: 0.9122 - precision_surprise: 0.9508 - recall: 0.9331 - recall_angry: 0.9277 - recall_disgust: 0.9327 - recall_fear: 0.8315 - recall_happy: 0.9893 - recall_neutral: 0.9650 - recall_sad: 0.8935 - recall_surprise: 0.9540\n",
      "Epoch 18: val_loss did not improve from 1.18380\n",
      "740/740 [==============================] - 2872s 4s/step - loss: 0.1815 - accuracy: 0.9419 - precision: 0.9520 - precision_angry: 0.9526 - precision_disgust: 0.9731 - precision_fear: 0.9089 - precision_happy: 0.9905 - precision_neutral: 0.9643 - precision_sad: 0.9122 - precision_surprise: 0.9508 - recall: 0.9331 - recall_angry: 0.9277 - recall_disgust: 0.9327 - recall_fear: 0.8315 - recall_happy: 0.9893 - recall_neutral: 0.9650 - recall_sad: 0.8935 - recall_surprise: 0.9540 - val_loss: 1.7327 - val_accuracy: 0.5924 - val_precision: 0.6146 - val_precision_angry: 0.5300 - val_precision_disgust: 0.8462 - val_precision_fear: 0.4483 - val_precision_happy: 0.8318 - val_precision_neutral: 0.5434 - val_precision_sad: 0.4515 - val_precision_surprise: 0.7872 - val_recall: 0.5747 - val_recall_angry: 0.4877 - val_recall_disgust: 0.3577 - val_recall_fear: 0.4029 - val_recall_happy: 0.8012 - val_recall_neutral: 0.5198 - val_recall_sad: 0.4608 - val_recall_surprise: 0.6884 - lr: 1.0000e-04\n",
      "Epoch 19/50\n",
      "740/740 [==============================] - ETA: 0s - loss: 0.1309 - accuracy: 0.9587 - precision: 0.9644 - precision_angry: 0.9655 - precision_disgust: 0.9677 - precision_fear: 0.9335 - precision_happy: 0.9908 - precision_neutral: 0.9778 - precision_sad: 0.9355 - precision_surprise: 0.9626 - recall: 0.9532 - recall_angry: 0.9508 - recall_disgust: 0.9485 - recall_fear: 0.8820 - recall_happy: 0.9925 - recall_neutral: 0.9756 - recall_sad: 0.9304 - recall_surprise: 0.9597\n",
      "Epoch 19: val_loss did not improve from 1.18380\n",
      "740/740 [==============================] - 2843s 4s/step - loss: 0.1309 - accuracy: 0.9587 - precision: 0.9644 - precision_angry: 0.9655 - precision_disgust: 0.9677 - precision_fear: 0.9335 - precision_happy: 0.9908 - precision_neutral: 0.9778 - precision_sad: 0.9355 - precision_surprise: 0.9626 - recall: 0.9532 - recall_angry: 0.9508 - recall_disgust: 0.9485 - recall_fear: 0.8820 - recall_happy: 0.9925 - recall_neutral: 0.9756 - recall_sad: 0.9304 - recall_surprise: 0.9597 - val_loss: 1.9685 - val_accuracy: 0.5919 - val_precision: 0.6064 - val_precision_angry: 0.5667 - val_precision_disgust: 0.8200 - val_precision_fear: 0.4658 - val_precision_happy: 0.8166 - val_precision_neutral: 0.5210 - val_precision_sad: 0.4315 - val_precision_surprise: 0.7785 - val_recall: 0.5788 - val_recall_angry: 0.4185 - val_recall_disgust: 0.3254 - val_recall_fear: 0.3580 - val_recall_happy: 0.8066 - val_recall_neutral: 0.5513 - val_recall_sad: 0.5372 - val_recall_surprise: 0.7062 - lr: 1.0000e-04\n",
      "Epoch 20/50\n",
      "740/740 [==============================] - ETA: 0s - loss: 0.0986 - accuracy: 0.9701 - precision: 0.9743 - precision_angry: 0.9764 - precision_disgust: 0.9544 - precision_fear: 0.9530 - precision_happy: 0.9940 - precision_neutral: 0.9838 - precision_sad: 0.9578 - precision_surprise: 0.9672 - recall: 0.9666 - recall_angry: 0.9678 - recall_disgust: 0.9544 - recall_fear: 0.9143 - recall_happy: 0.9937 - recall_neutral: 0.9867 - recall_sad: 0.9497 - recall_surprise: 0.9683\n",
      "Epoch 20: val_loss did not improve from 1.18380\n",
      "740/740 [==============================] - 2872s 4s/step - loss: 0.0986 - accuracy: 0.9701 - precision: 0.9743 - precision_angry: 0.9764 - precision_disgust: 0.9544 - precision_fear: 0.9530 - precision_happy: 0.9940 - precision_neutral: 0.9838 - precision_sad: 0.9578 - precision_surprise: 0.9672 - recall: 0.9666 - recall_angry: 0.9678 - recall_disgust: 0.9544 - recall_fear: 0.9143 - recall_happy: 0.9937 - recall_neutral: 0.9867 - recall_sad: 0.9497 - recall_surprise: 0.9683 - val_loss: 2.1212 - val_accuracy: 0.5866 - val_precision: 0.6030 - val_precision_angry: 0.5366 - val_precision_disgust: 0.8077 - val_precision_fear: 0.4306 - val_precision_happy: 0.8055 - val_precision_neutral: 0.5265 - val_precision_sad: 0.4490 - val_precision_surprise: 0.7625 - val_recall: 0.5783 - val_recall_angry: 0.4567 - val_recall_disgust: 0.3360 - val_recall_fear: 0.3967 - val_recall_happy: 0.8132 - val_recall_neutral: 0.5510 - val_recall_sad: 0.4499 - val_recall_surprise: 0.7130 - lr: 1.0000e-04\n",
      "Epoch 21/50\n",
      "740/740 [==============================] - ETA: 0s - loss: 0.0757 - accuracy: 0.9768 - precision: 0.9794 - precision_angry: 0.9767 - precision_disgust: 0.9775 - precision_fear: 0.9652 - precision_happy: 0.9932 - precision_neutral: 0.9867 - precision_sad: 0.9692 - precision_surprise: 0.9732 - recall: 0.9744 - recall_angry: 0.9785 - recall_disgust: 0.9446 - recall_fear: 0.9386 - recall_happy: 0.9957 - recall_neutral: 0.9884 - recall_sad: 0.9604 - recall_surprise: 0.9725Restoring model weights from the end of the best epoch: 11.\n",
      "\n",
      "Epoch 21: val_loss did not improve from 1.18380\n",
      "\n",
      "Epoch 21: ReduceLROnPlateau reducing learning rate to 1.0000000474974514e-05.\n",
      "740/740 [==============================] - 2893s 4s/step - loss: 0.0757 - accuracy: 0.9768 - precision: 0.9794 - precision_angry: 0.9767 - precision_disgust: 0.9775 - precision_fear: 0.9652 - precision_happy: 0.9932 - precision_neutral: 0.9867 - precision_sad: 0.9692 - precision_surprise: 0.9732 - recall: 0.9744 - recall_angry: 0.9785 - recall_disgust: 0.9446 - recall_fear: 0.9386 - recall_happy: 0.9957 - recall_neutral: 0.9884 - recall_sad: 0.9604 - recall_surprise: 0.9725 - val_loss: 2.2856 - val_accuracy: 0.5822 - val_precision: 0.5943 - val_precision_angry: 0.4895 - val_precision_disgust: 0.7818 - val_precision_fear: 0.4311 - val_precision_happy: 0.8121 - val_precision_neutral: 0.5030 - val_precision_sad: 0.4614 - val_precision_surprise: 0.7789 - val_recall: 0.5735 - val_recall_angry: 0.4823 - val_recall_disgust: 0.3440 - val_recall_fear: 0.4069 - val_recall_happy: 0.7960 - val_recall_neutral: 0.5776 - val_recall_sad: 0.4006 - val_recall_surprise: 0.6960 - lr: 1.0000e-04\n",
      "Epoch 21: early stopping\n"
     ]
    }
   ],
   "source": [
    "history = model.fit(\n",
    "    train_generator,\n",
    "    steps_per_epoch=train_generator.n//train_generator.batch_size,\n",
    "    epochs=epochs,\n",
    "    validation_data=validation_generator,\n",
    "    validation_steps=validation_generator.n//validation_generator.batch_size,\n",
    "    callbacks=callbacks_list,\n",
    ")"
   ],
   "metadata": {
    "collapsed": false,
    "pycharm": {
     "name": "#%%\n"
    }
   }
  },
  {
   "cell_type": "markdown",
   "source": [
    "### 7. Evaluation - Test set"
   ],
   "metadata": {
    "collapsed": false,
    "pycharm": {
     "name": "#%% md\n"
    }
   }
  },
  {
   "cell_type": "code",
   "execution_count": 3,
   "outputs": [],
   "source": [
    "from keras.models import load_model\n",
    "\n",
    "model = load_model(\"model_resnet50_base.h5\")"
   ],
   "metadata": {
    "collapsed": false,
    "pycharm": {
     "name": "#%%\n"
    }
   }
  },
  {
   "cell_type": "code",
   "execution_count": 4,
   "outputs": [
    {
     "name": "stdout",
     "output_type": "stream",
     "text": [
      "Found 7178 images belonging to 7 classes.\n"
     ]
    }
   ],
   "source": [
    "test_data_generator = ImageDataGenerator(preprocessing_function=preprocess_input)\n",
    "\n",
    "test_generator = test_data_generator.flow_from_directory(\n",
    "    DATASET_BASE_TEST_PATH,\n",
    "    target_size=(224, 224),\n",
    "    batch_size=32,\n",
    "    class_mode='categorical',\n",
    "    shuffle=False\n",
    ")"
   ],
   "metadata": {
    "collapsed": false,
    "pycharm": {
     "name": "#%%\n"
    }
   }
  },
  {
   "cell_type": "code",
   "execution_count": 5,
   "outputs": [
    {
     "name": "stdout",
     "output_type": "stream",
     "text": [
      "225/225 [==============================] - 280s 1s/step - loss: 1.1926 - accuracy: 0.5617 - precision: 0.6742 - precision_angry: 0.5696 - precision_disgust: 0.4167 - precision_fear: 0.5275 - precision_happy: 0.8186 - precision_neutral: 0.5535 - precision_sad: 0.4991 - precision_surprise: 0.7647 - recall: 0.4515 - recall_angry: 0.3800 - recall_disgust: 0.1802 - recall_fear: 0.0469 - recall_happy: 0.7959 - recall_neutral: 0.4745 - recall_sad: 0.2133 - recall_surprise: 0.6570\n"
     ]
    },
    {
     "data": {
      "text/plain": "[1.1925568580627441,\n 0.5617163777351379,\n 0.6742250919342041,\n 0.569640040397644,\n 0.4166666567325592,\n 0.5274725556373596,\n 0.818550705909729,\n 0.5534531474113464,\n 0.4990619122982025,\n 0.7647058963775635,\n 0.45151853561401367,\n 0.37995824217796326,\n 0.18018017709255219,\n 0.046875,\n 0.7959413528442383,\n 0.47445255517959595,\n 0.21331195533275604,\n 0.6570397019386292]"
     },
     "execution_count": 5,
     "metadata": {},
     "output_type": "execute_result"
    }
   ],
   "source": [
    "model.evaluate(test_generator)"
   ],
   "metadata": {
    "collapsed": false,
    "pycharm": {
     "name": "#%%\n"
    }
   }
  }
 ],
 "metadata": {
  "kernelspec": {
   "display_name": "Python 3",
   "language": "python",
   "name": "python3"
  },
  "language_info": {
   "codemirror_mode": {
    "name": "ipython",
    "version": 2
   },
   "file_extension": ".py",
   "mimetype": "text/x-python",
   "name": "python",
   "nbconvert_exporter": "python",
   "pygments_lexer": "ipython2",
   "version": "2.7.6"
  }
 },
 "nbformat": 4,
 "nbformat_minor": 0
}