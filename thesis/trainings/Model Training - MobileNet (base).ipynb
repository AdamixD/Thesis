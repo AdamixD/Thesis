{
 "cells": [
  {
   "cell_type": "markdown",
   "source": [
    "# Model Training - MobileNet (base)"
   ],
   "metadata": {
    "collapsed": false,
    "pycharm": {
     "name": "#%% md\n"
    }
   }
  },
  {
   "cell_type": "markdown",
   "source": [
    "### 0. Imports"
   ],
   "metadata": {
    "collapsed": false,
    "pycharm": {
     "name": "#%% md\n"
    }
   }
  },
  {
   "cell_type": "code",
   "execution_count": 1,
   "outputs": [],
   "source": [
    "import matplotlib.pyplot as plt\n",
    "import tensorflow as tf\n",
    "\n",
    "from keras.applications import MobileNet\n",
    "from keras.applications.mobilenet import preprocess_input\n",
    "from keras.callbacks import (\n",
    "    ModelCheckpoint,\n",
    "    EarlyStopping,\n",
    "    ReduceLROnPlateau\n",
    ")\n",
    "from keras.models import Sequential\n",
    "from keras.layers import Dense, GlobalAveragePooling2D\n",
    "from keras.metrics import Precision, Recall\n",
    "from keras.optimizers import Adam\n",
    "from keras.preprocessing.image import ImageDataGenerator\n",
    "from keras.utils.vis_utils import plot_model"
   ],
   "metadata": {
    "collapsed": false,
    "ExecuteTime": {
     "start_time": "2023-06-08T14:04:36.621338Z",
     "end_time": "2023-06-08T14:04:39.977428Z"
    },
    "pycharm": {
     "name": "#%%\n"
    }
   }
  },
  {
   "cell_type": "markdown",
   "source": [
    "### 1. Paths"
   ],
   "metadata": {
    "collapsed": false,
    "pycharm": {
     "name": "#%% md\n"
    }
   }
  },
  {
   "cell_type": "code",
   "execution_count": 2,
   "outputs": [],
   "source": [
    "# DATASET_BASE_TRAIN_PATH = \"/Users/adamdabkowski/DataspellProjects/Praca_dyplomowa/data/train_resized\"\n",
    "# DATASET_BASE_TRAIN_PATH = \"/Users/adamd/DataspellProjects/Facial Expressions Recognition/data/train_resized\"\n",
    "# DATASET_BASE_TRAIN_PATH = \"/Users/adamd/DataspellProjects/Facial Expressions Recognition/data/train_merged\"\n",
    "DATASET_BASE_TRAIN_PATH = \"/Users/adamd/DataspellProjects/Facial Expressions Recognition/data/train_merged_cleaned\"\n",
    "\n",
    "# DATASET_BASE_TRAIN_PATH = \"../new_data\"\n",
    "\n",
    "# DATASET_BASE_TEST_PATH = \"/Users/adamdabkowski/DataspellProjects/Praca_dyplomowa/data/test_resized\"\n",
    "DATASET_BASE_TEST_PATH = \"/Users/adamd/DataspellProjects/Facial Expressions Recognition/data/test_resized\""
   ],
   "metadata": {
    "collapsed": false,
    "ExecuteTime": {
     "start_time": "2023-06-08T14:06:08.298593Z",
     "end_time": "2023-06-08T14:06:08.305288Z"
    },
    "pycharm": {
     "name": "#%%\n"
    }
   }
  },
  {
   "cell_type": "markdown",
   "source": [
    "### 2. Data preprocessing"
   ],
   "metadata": {
    "collapsed": false,
    "pycharm": {
     "name": "#%% md\n"
    }
   }
  },
  {
   "cell_type": "code",
   "execution_count": 3,
   "outputs": [
    {
     "name": "stdout",
     "output_type": "stream",
     "text": [
      "Found 23689 images belonging to 7 classes.\n",
      "Found 5919 images belonging to 7 classes.\n"
     ]
    }
   ],
   "source": [
    "batch_size  = 32\n",
    "img_size = 224\n",
    "\n",
    "train_validation_data_generator = ImageDataGenerator(preprocessing_function=preprocess_input, validation_split=0.2)\n",
    "\n",
    "train_generator = train_validation_data_generator.flow_from_directory(\n",
    "    DATASET_BASE_TRAIN_PATH,\n",
    "    target_size=(img_size,img_size),\n",
    "    batch_size=batch_size,\n",
    "    class_mode='categorical',\n",
    "    color_mode='rgb',\n",
    "    subset='training',\n",
    "    shuffle=True,\n",
    ")\n",
    "\n",
    "validation_generator = train_validation_data_generator.flow_from_directory(\n",
    "    DATASET_BASE_TRAIN_PATH,\n",
    "    target_size=(img_size,img_size),\n",
    "    batch_size=batch_size,\n",
    "    class_mode='categorical',\n",
    "    color_mode='rgb',\n",
    "    subset='validation',\n",
    "    shuffle=True,\n",
    ")"
   ],
   "metadata": {
    "collapsed": false,
    "ExecuteTime": {
     "start_time": "2023-06-08T14:06:12.829138Z",
     "end_time": "2023-06-08T14:06:13.009438Z"
    },
    "pycharm": {
     "name": "#%%\n"
    }
   }
  },
  {
   "cell_type": "markdown",
   "source": [
    "### 5. Model creating"
   ],
   "metadata": {
    "collapsed": false,
    "pycharm": {
     "name": "#%% md\n"
    }
   }
  },
  {
   "cell_type": "code",
   "execution_count": 4,
   "outputs": [],
   "source": [
    "CATEGORIES = [\"angry\", \"disgust\", \"fear\", \"happy\", \"neutral\", \"sad\", \"surprise\"]"
   ],
   "metadata": {
    "collapsed": false,
    "ExecuteTime": {
     "start_time": "2023-06-08T14:06:21.358802Z",
     "end_time": "2023-06-08T14:06:21.367405Z"
    },
    "pycharm": {
     "name": "#%%\n"
    }
   }
  },
  {
   "cell_type": "code",
   "execution_count": 5,
   "outputs": [],
   "source": [
    "checkpoint = ModelCheckpoint(\n",
    "    filepath=\"./model_mobilenet_base.h5\",\n",
    "    monitor='val_loss',\n",
    "    verbose=1,\n",
    "    save_best_only=True,\n",
    "    mode='min'\n",
    ")\n",
    "\n",
    "early_stopping = EarlyStopping(\n",
    "    monitor='val_loss',\n",
    "    patience=10,\n",
    "    verbose=1,\n",
    "    restore_best_weights=True,\n",
    ")\n",
    "\n",
    "reduce_learning_rate = ReduceLROnPlateau(\n",
    "    monitor='val_loss',\n",
    "    factor=0.1,\n",
    "    patience=5,\n",
    "    verbose=1,\n",
    "    min_lr=0.00001,\n",
    ")\n",
    "\n",
    "callbacks_list = [early_stopping, checkpoint, reduce_learning_rate]"
   ],
   "metadata": {
    "collapsed": false,
    "ExecuteTime": {
     "start_time": "2023-06-08T14:06:22.501933Z",
     "end_time": "2023-06-08T14:06:22.506101Z"
    },
    "pycharm": {
     "name": "#%%\n"
    }
   }
  },
  {
   "cell_type": "code",
   "execution_count": 6,
   "outputs": [],
   "source": [
    "model = Sequential()\n",
    "\n",
    "base_model = MobileNet(input_shape=(img_size, img_size, 3), include_top=False, weights=None)\n",
    "model.add(base_model)\n",
    "\n",
    "model.add(GlobalAveragePooling2D())\n",
    "model.add(Dense(512, activation='relu'))\n",
    "model.add(Dense(7, activation='softmax'))"
   ],
   "metadata": {
    "collapsed": false,
    "ExecuteTime": {
     "start_time": "2023-06-08T14:06:33.844245Z",
     "end_time": "2023-06-08T14:06:34.087495Z"
    },
    "pycharm": {
     "name": "#%%\n"
    }
   }
  },
  {
   "cell_type": "code",
   "execution_count": 7,
   "outputs": [
    {
     "name": "stdout",
     "output_type": "stream",
     "text": [
      "Model: \"sequential\"\n",
      "_________________________________________________________________\n",
      " Layer (type)                Output Shape              Param #   \n",
      "=================================================================\n",
      " mobilenet_1.00_224 (Functio  (None, 7, 7, 1024)       3228864   \n",
      " nal)                                                            \n",
      "                                                                 \n",
      " global_average_pooling2d (G  (None, 1024)             0         \n",
      " lobalAveragePooling2D)                                          \n",
      "                                                                 \n",
      " dense (Dense)               (None, 512)               524800    \n",
      "                                                                 \n",
      " dense_1 (Dense)             (None, 7)                 3591      \n",
      "                                                                 \n",
      "=================================================================\n",
      "Total params: 3,757,255\n",
      "Trainable params: 3,735,367\n",
      "Non-trainable params: 21,888\n",
      "_________________________________________________________________\n"
     ]
    }
   ],
   "source": [
    "model.compile(\n",
    "    optimizer=Adam(learning_rate=0.001),\n",
    "    loss='categorical_crossentropy',\n",
    "    metrics=[\n",
    "        'accuracy',\n",
    "        Precision(name='precision'),\n",
    "        Precision(class_id=0, name='precision_angry'),\n",
    "        Precision(class_id=1, name='precision_disgust'),\n",
    "        Precision(class_id=2, name='precision_fear'),\n",
    "        Precision(class_id=3, name='precision_happy'),\n",
    "        Precision(class_id=4, name='precision_neutral'),\n",
    "        Precision(class_id=5, name='precision_sad'),\n",
    "        Precision(class_id=6, name='precision_surprise'),\n",
    "        Recall(name='recall'),\n",
    "        Recall(class_id=0, name='recall_angry'),\n",
    "        Recall(class_id=1, name='recall_disgust'),\n",
    "        Recall(class_id=2, name='recall_fear'),\n",
    "        Recall(class_id=3, name='recall_happy'),\n",
    "        Recall(class_id=4, name='recall_neutral'),\n",
    "        Recall(class_id=5, name='recall_sad'),\n",
    "        Recall(class_id=6, name='recall_surprise'),\n",
    "    ]\n",
    ")\n",
    "model.summary()"
   ],
   "metadata": {
    "collapsed": false,
    "ExecuteTime": {
     "start_time": "2023-06-08T14:08:05.068394Z",
     "end_time": "2023-06-08T14:08:05.102749Z"
    },
    "pycharm": {
     "name": "#%%\n"
    }
   }
  },
  {
   "cell_type": "code",
   "execution_count": 8,
   "outputs": [
    {
     "data": {
      "image/png": "[encoded data removed]",
      "text/plain": "<IPython.core.display.Image object>"
     },
     "execution_count": 8,
     "metadata": {},
     "output_type": "execute_result"
    }
   ],
   "source": [
    "plot_model(model, to_file='model_mobilenet_base.png', show_shapes=True, show_layer_names=True)"
   ],
   "metadata": {
    "collapsed": false,
    "pycharm": {
     "name": "#%%\n"
    }
   }
  },
  {
   "cell_type": "markdown",
   "source": [
    "### 6. Model training"
   ],
   "metadata": {
    "collapsed": false,
    "pycharm": {
     "name": "#%% md\n"
    }
   }
  },
  {
   "cell_type": "code",
   "execution_count": 9,
   "outputs": [],
   "source": [
    "epochs = 50"
   ],
   "metadata": {
    "collapsed": false,
    "ExecuteTime": {
     "start_time": "2023-06-08T14:08:06.121000Z",
     "end_time": "2023-06-08T14:08:06.134021Z"
    },
    "pycharm": {
     "name": "#%%\n"
    }
   }
  },
  {
   "cell_type": "code",
   "execution_count": 10,
   "outputs": [
    {
     "name": "stdout",
     "output_type": "stream",
     "text": [
      "Epoch 1/50\n",
      "740/740 [==============================] - ETA: 0s - loss: 1.7135 - accuracy: 0.3100 - precision: 0.6402 - precision_angry: 0.1905 - precision_disgust: 0.0000e+00 - precision_fear: 0.2500 - precision_happy: 0.6612 - precision_neutral: 0.4000 - precision_sad: 0.2500 - precision_surprise: 0.5897 - recall: 0.0698 - recall_angry: 0.0012 - recall_disgust: 0.0000e+00 - recall_fear: 2.9674e-04 - recall_happy: 0.2341 - recall_neutral: 0.0039 - recall_sad: 2.5674e-04 - recall_surprise: 0.0953\n",
      "Epoch 1: val_loss improved from inf to 1.63750, saving model to .\\model_mobilenet_base.h5\n",
      "740/740 [==============================] - 805s 1s/step - loss: 1.7135 - accuracy: 0.3100 - precision: 0.6402 - precision_angry: 0.1905 - precision_disgust: 0.0000e+00 - precision_fear: 0.2500 - precision_happy: 0.6612 - precision_neutral: 0.4000 - precision_sad: 0.2500 - precision_surprise: 0.5897 - recall: 0.0698 - recall_angry: 0.0012 - recall_disgust: 0.0000e+00 - recall_fear: 2.9674e-04 - recall_happy: 0.2341 - recall_neutral: 0.0039 - recall_sad: 2.5674e-04 - recall_surprise: 0.0953 - val_loss: 1.6375 - val_accuracy: 0.3611 - val_precision: 0.5823 - val_precision_angry: 0.0000e+00 - val_precision_disgust: 0.0000e+00 - val_precision_fear: 0.0000e+00 - val_precision_happy: 0.5794 - val_precision_neutral: 0.4194 - val_precision_sad: 0.0000e+00 - val_precision_surprise: 0.7688 - val_recall: 0.1838 - val_recall_angry: 0.0000e+00 - val_recall_disgust: 0.0000e+00 - val_recall_fear: 0.0000e+00 - val_recall_happy: 0.6102 - val_recall_neutral: 0.0643 - val_recall_sad: 0.0000e+00 - val_recall_surprise: 0.1855 - lr: 0.0010\n",
      "Epoch 2/50\n",
      "740/740 [==============================] - ETA: 0s - loss: 1.4226 - accuracy: 0.4522 - precision: 0.7132 - precision_angry: 0.5573 - precision_disgust: 0.0000e+00 - precision_fear: 0.0000e+00 - precision_happy: 0.7699 - precision_neutral: 0.5387 - precision_sad: 0.4706 - precision_surprise: 0.6730 - recall: 0.2200 - recall_angry: 0.0428 - recall_disgust: 0.0000e+00 - recall_fear: 0.0000e+00 - recall_happy: 0.5963 - recall_neutral: 0.1063 - recall_sad: 0.0062 - recall_surprise: 0.4153\n",
      "Epoch 2: val_loss improved from 1.63750 to 1.48094, saving model to .\\model_mobilenet_base.h5\n",
      "740/740 [==============================] - 785s 1s/step - loss: 1.4226 - accuracy: 0.4522 - precision: 0.7132 - precision_angry: 0.5573 - precision_disgust: 0.0000e+00 - precision_fear: 0.0000e+00 - precision_happy: 0.7699 - precision_neutral: 0.5387 - precision_sad: 0.4706 - precision_surprise: 0.6730 - recall: 0.2200 - recall_angry: 0.0428 - recall_disgust: 0.0000e+00 - recall_fear: 0.0000e+00 - recall_happy: 0.5963 - recall_neutral: 0.1063 - recall_sad: 0.0062 - recall_surprise: 0.4153 - val_loss: 1.4809 - val_accuracy: 0.4319 - val_precision: 0.6523 - val_precision_angry: 0.4521 - val_precision_disgust: 0.0000e+00 - val_precision_fear: 0.0000e+00 - val_precision_happy: 0.7568 - val_precision_neutral: 0.5263 - val_precision_sad: 0.4175 - val_precision_surprise: 0.8862 - val_recall: 0.2498 - val_recall_angry: 0.2476 - val_recall_disgust: 0.0000e+00 - val_recall_fear: 0.0000e+00 - val_recall_happy: 0.6860 - val_recall_neutral: 0.0297 - val_recall_sad: 0.1282 - val_recall_surprise: 0.1649 - lr: 0.0010\n",
      "Epoch 3/50\n",
      "740/740 [==============================] - ETA: 0s - loss: 1.2690 - accuracy: 0.5149 - precision: 0.7231 - precision_angry: 0.5600 - precision_disgust: 1.0000 - precision_fear: 0.4915 - precision_happy: 0.8091 - precision_neutral: 0.5940 - precision_sad: 0.5117 - precision_surprise: 0.7245 - recall: 0.3022 - recall_angry: 0.1318 - recall_disgust: 0.0040 - recall_fear: 0.0086 - recall_happy: 0.6948 - recall_neutral: 0.2347 - recall_sad: 0.0560 - recall_surprise: 0.5367\n",
      "Epoch 3: val_loss improved from 1.48094 to 1.37979, saving model to .\\model_mobilenet_base.h5\n",
      "740/740 [==============================] - 764s 1s/step - loss: 1.2690 - accuracy: 0.5149 - precision: 0.7231 - precision_angry: 0.5600 - precision_disgust: 1.0000 - precision_fear: 0.4915 - precision_happy: 0.8091 - precision_neutral: 0.5940 - precision_sad: 0.5117 - precision_surprise: 0.7245 - recall: 0.3022 - recall_angry: 0.1318 - recall_disgust: 0.0040 - recall_fear: 0.0086 - recall_happy: 0.6948 - recall_neutral: 0.2347 - recall_sad: 0.0560 - recall_surprise: 0.5367 - val_loss: 1.3798 - val_accuracy: 0.4676 - val_precision: 0.6188 - val_precision_angry: 0.7576 - val_precision_disgust: 0.2000 - val_precision_fear: 0.2632 - val_precision_happy: 0.8923 - val_precision_neutral: 0.4337 - val_precision_sad: 1.0000 - val_precision_surprise: 0.5804 - val_recall: 0.3261 - val_recall_angry: 0.0305 - val_recall_disgust: 0.0952 - val_recall_fear: 0.0060 - val_recall_happy: 0.6130 - val_recall_neutral: 0.5040 - val_recall_sad: 0.0041 - val_recall_surprise: 0.7106 - lr: 0.0010\n",
      "Epoch 4/50\n",
      "740/740 [==============================] - ETA: 0s - loss: 1.1544 - accuracy: 0.5660 - precision: 0.7423 - precision_angry: 0.6457 - precision_disgust: 0.6182 - precision_fear: 0.6058 - precision_happy: 0.8431 - precision_neutral: 0.6469 - precision_sad: 0.5677 - precision_surprise: 0.7535 - recall: 0.3823 - recall_angry: 0.2551 - recall_disgust: 0.0675 - recall_fear: 0.0620 - recall_happy: 0.7602 - recall_neutral: 0.3282 - recall_sad: 0.1518 - recall_surprise: 0.5908\n",
      "Epoch 4: val_loss improved from 1.37979 to 1.35399, saving model to .\\model_mobilenet_base.h5\n",
      "740/740 [==============================] - 790s 1s/step - loss: 1.1544 - accuracy: 0.5660 - precision: 0.7423 - precision_angry: 0.6457 - precision_disgust: 0.6182 - precision_fear: 0.6058 - precision_happy: 0.8431 - precision_neutral: 0.6469 - precision_sad: 0.5677 - precision_surprise: 0.7535 - recall: 0.3823 - recall_angry: 0.2551 - recall_disgust: 0.0675 - recall_fear: 0.0620 - recall_happy: 0.7602 - recall_neutral: 0.3282 - recall_sad: 0.1518 - recall_surprise: 0.5908 - val_loss: 1.3540 - val_accuracy: 0.5076 - val_precision: 0.6212 - val_precision_angry: 0.6505 - val_precision_disgust: 0.8000 - val_precision_fear: 0.6667 - val_precision_happy: 0.7584 - val_precision_neutral: 0.6646 - val_precision_sad: 0.5158 - val_precision_surprise: 0.4389 - val_recall: 0.3774 - val_recall_angry: 0.2295 - val_recall_disgust: 0.0317 - val_recall_fear: 0.0072 - val_recall_happy: 0.8210 - val_recall_neutral: 0.2132 - val_recall_sad: 0.0506 - val_recall_surprise: 0.8439 - lr: 0.0010\n",
      "Epoch 5/50\n",
      "740/740 [==============================] - ETA: 0s - loss: 1.0810 - accuracy: 0.5950 - precision: 0.7415 - precision_angry: 0.6671 - precision_disgust: 0.6690 - precision_fear: 0.6096 - precision_happy: 0.8492 - precision_neutral: 0.6639 - precision_sad: 0.5912 - precision_surprise: 0.7569 - recall: 0.4312 - recall_angry: 0.3038 - recall_disgust: 0.1885 - recall_fear: 0.1278 - recall_happy: 0.7854 - recall_neutral: 0.3760 - recall_sad: 0.2274 - recall_surprise: 0.6190\n",
      "Epoch 5: val_loss improved from 1.35399 to 1.28360, saving model to .\\model_mobilenet_base.h5\n",
      "740/740 [==============================] - 797s 1s/step - loss: 1.0810 - accuracy: 0.5950 - precision: 0.7415 - precision_angry: 0.6671 - precision_disgust: 0.6690 - precision_fear: 0.6096 - precision_happy: 0.8492 - precision_neutral: 0.6639 - precision_sad: 0.5912 - precision_surprise: 0.7569 - recall: 0.4312 - recall_angry: 0.3038 - recall_disgust: 0.1885 - recall_fear: 0.1278 - recall_happy: 0.7854 - recall_neutral: 0.3760 - recall_sad: 0.2274 - recall_surprise: 0.6190 - val_loss: 1.2836 - val_accuracy: 0.5262 - val_precision: 0.6826 - val_precision_angry: 0.5125 - val_precision_disgust: 0.5455 - val_precision_fear: 0.6381 - val_precision_happy: 0.9560 - val_precision_neutral: 0.5680 - val_precision_sad: 0.6429 - val_precision_surprise: 0.6844 - val_recall: 0.3657 - val_recall_angry: 0.4488 - val_recall_disgust: 0.0476 - val_recall_fear: 0.0801 - val_recall_happy: 0.5024 - val_recall_neutral: 0.3755 - val_recall_sad: 0.1210 - val_recall_surprise: 0.7249 - lr: 0.0010\n",
      "Epoch 6/50\n",
      "740/740 [==============================] - ETA: 0s - loss: 1.0038 - accuracy: 0.6262 - precision: 0.7552 - precision_angry: 0.6782 - precision_disgust: 0.6863 - precision_fear: 0.6535 - precision_happy: 0.8692 - precision_neutral: 0.6830 - precision_sad: 0.6070 - precision_surprise: 0.7955 - recall: 0.4846 - recall_angry: 0.3558 - recall_disgust: 0.2772 - recall_fear: 0.1919 - recall_happy: 0.8196 - recall_neutral: 0.4320 - recall_sad: 0.3025 - recall_surprise: 0.6616\n",
      "Epoch 6: val_loss improved from 1.28360 to 1.12283, saving model to .\\model_mobilenet_base.h5\n",
      "740/740 [==============================] - 804s 1s/step - loss: 1.0038 - accuracy: 0.6262 - precision: 0.7552 - precision_angry: 0.6782 - precision_disgust: 0.6863 - precision_fear: 0.6535 - precision_happy: 0.8692 - precision_neutral: 0.6830 - precision_sad: 0.6070 - precision_surprise: 0.7955 - recall: 0.4846 - recall_angry: 0.3558 - recall_disgust: 0.2772 - recall_fear: 0.1919 - recall_happy: 0.8196 - recall_neutral: 0.4320 - recall_sad: 0.3025 - recall_surprise: 0.6616 - val_loss: 1.1228 - val_accuracy: 0.5786 - val_precision: 0.7123 - val_precision_angry: 0.6887 - val_precision_disgust: 0.5714 - val_precision_fear: 0.7361 - val_precision_happy: 0.7923 - val_precision_neutral: 0.6541 - val_precision_sad: 0.5316 - val_precision_surprise: 0.7698 - val_recall: 0.4504 - val_recall_angry: 0.2671 - val_recall_disgust: 0.2857 - val_recall_fear: 0.0630 - val_recall_happy: 0.8352 - val_recall_neutral: 0.3603 - val_recall_sad: 0.3313 - val_recall_surprise: 0.6636 - lr: 0.0010\n",
      "Epoch 7/50\n",
      "740/740 [==============================] - ETA: 0s - loss: 0.9341 - accuracy: 0.6554 - precision: 0.7670 - precision_angry: 0.7060 - precision_disgust: 0.7672 - precision_fear: 0.6645 - precision_happy: 0.8859 - precision_neutral: 0.6933 - precision_sad: 0.6352 - precision_surprise: 0.7988 - recall: 0.5306 - recall_angry: 0.4228 - recall_disgust: 0.3988 - recall_fear: 0.2386 - recall_happy: 0.8439 - recall_neutral: 0.4913 - recall_sad: 0.3505 - recall_surprise: 0.6903\n",
      "Epoch 7: val_loss did not improve from 1.12283\n",
      "740/740 [==============================] - 775s 1s/step - loss: 0.9341 - accuracy: 0.6554 - precision: 0.7670 - precision_angry: 0.7060 - precision_disgust: 0.7672 - precision_fear: 0.6645 - precision_happy: 0.8859 - precision_neutral: 0.6933 - precision_sad: 0.6352 - precision_surprise: 0.7988 - recall: 0.5306 - recall_angry: 0.4228 - recall_disgust: 0.3988 - recall_fear: 0.2386 - recall_happy: 0.8439 - recall_neutral: 0.4913 - recall_sad: 0.3505 - recall_surprise: 0.6903 - val_loss: 1.2515 - val_accuracy: 0.5452 - val_precision: 0.6312 - val_precision_angry: 0.5782 - val_precision_disgust: 0.6667 - val_precision_fear: 0.4842 - val_precision_happy: 0.9085 - val_precision_neutral: 0.7905 - val_precision_sad: 0.4240 - val_precision_surprise: 0.7761 - val_recall: 0.4601 - val_recall_angry: 0.4007 - val_recall_disgust: 0.2720 - val_recall_fear: 0.3107 - val_recall_happy: 0.6181 - val_recall_neutral: 0.1984 - val_recall_sad: 0.5967 - val_recall_surprise: 0.6082 - lr: 0.0010\n",
      "Epoch 8/50\n",
      "740/740 [==============================] - ETA: 0s - loss: 0.8721 - accuracy: 0.6757 - precision: 0.7764 - precision_angry: 0.7294 - precision_disgust: 0.7167 - precision_fear: 0.6910 - precision_happy: 0.8929 - precision_neutral: 0.7081 - precision_sad: 0.6510 - precision_surprise: 0.8140 - recall: 0.5685 - recall_angry: 0.4786 - recall_disgust: 0.4266 - recall_fear: 0.2974 - recall_happy: 0.8591 - recall_neutral: 0.5223 - recall_sad: 0.4010 - recall_surprise: 0.7238\n",
      "Epoch 8: val_loss did not improve from 1.12283\n",
      "740/740 [==============================] - 771s 1s/step - loss: 0.8721 - accuracy: 0.6757 - precision: 0.7764 - precision_angry: 0.7294 - precision_disgust: 0.7167 - precision_fear: 0.6910 - precision_happy: 0.8929 - precision_neutral: 0.7081 - precision_sad: 0.6510 - precision_surprise: 0.8140 - recall: 0.5685 - recall_angry: 0.4786 - recall_disgust: 0.4266 - recall_fear: 0.2974 - recall_happy: 0.8591 - recall_neutral: 0.5223 - recall_sad: 0.4010 - recall_surprise: 0.7238 - val_loss: 1.2107 - val_accuracy: 0.5752 - val_precision: 0.6605 - val_precision_angry: 0.6868 - val_precision_disgust: 0.7857 - val_precision_fear: 0.4423 - val_precision_happy: 0.8511 - val_precision_neutral: 0.5566 - val_precision_sad: 0.6275 - val_precision_surprise: 0.6260 - val_recall: 0.4930 - val_recall_angry: 0.2918 - val_recall_disgust: 0.0880 - val_recall_fear: 0.2975 - val_recall_happy: 0.7732 - val_recall_neutral: 0.5406 - val_recall_sad: 0.1926 - val_recall_surprise: 0.8142 - lr: 0.0010\n",
      "Epoch 9/50\n",
      "740/740 [==============================] - ETA: 0s - loss: 0.7865 - accuracy: 0.7108 - precision: 0.7944 - precision_angry: 0.7590 - precision_disgust: 0.8024 - precision_fear: 0.7224 - precision_happy: 0.9031 - precision_neutral: 0.7353 - precision_sad: 0.6760 - precision_surprise: 0.8359 - recall: 0.6236 - recall_angry: 0.5449 - recall_disgust: 0.5307 - recall_fear: 0.3829 - recall_happy: 0.8796 - recall_neutral: 0.5938 - recall_sad: 0.4671 - recall_surprise: 0.7527\n",
      "Epoch 9: val_loss did not improve from 1.12283\n",
      "740/740 [==============================] - 789s 1s/step - loss: 0.7865 - accuracy: 0.7108 - precision: 0.7944 - precision_angry: 0.7590 - precision_disgust: 0.8024 - precision_fear: 0.7224 - precision_happy: 0.9031 - precision_neutral: 0.7353 - precision_sad: 0.6760 - precision_surprise: 0.8359 - recall: 0.6236 - recall_angry: 0.5449 - recall_disgust: 0.5307 - recall_fear: 0.3829 - recall_happy: 0.8796 - recall_neutral: 0.5938 - recall_sad: 0.4671 - recall_surprise: 0.7527 - val_loss: 1.2699 - val_accuracy: 0.5606 - val_precision: 0.6355 - val_precision_angry: 0.4927 - val_precision_disgust: 0.8485 - val_precision_fear: 0.8226 - val_precision_happy: 0.8726 - val_precision_neutral: 0.5312 - val_precision_sad: 0.4909 - val_precision_surprise: 0.6458 - val_recall: 0.4830 - val_recall_angry: 0.4541 - val_recall_disgust: 0.2222 - val_recall_fear: 0.0606 - val_recall_happy: 0.7073 - val_recall_neutral: 0.4891 - val_recall_sad: 0.3615 - val_recall_surprise: 0.7783 - lr: 0.0010\n",
      "Epoch 10/50\n",
      "740/740 [==============================] - ETA: 0s - loss: 0.7130 - accuracy: 0.7384 - precision: 0.8086 - precision_angry: 0.7808 - precision_disgust: 0.8082 - precision_fear: 0.7431 - precision_happy: 0.9098 - precision_neutral: 0.7547 - precision_sad: 0.7105 - precision_surprise: 0.8464 - recall: 0.6645 - recall_angry: 0.5965 - recall_disgust: 0.5853 - recall_fear: 0.4453 - recall_happy: 0.8898 - recall_neutral: 0.6291 - recall_sad: 0.5375 - recall_surprise: 0.7836 \n",
      "Epoch 10: val_loss did not improve from 1.12283\n",
      "740/740 [==============================] - 8037s 11s/step - loss: 0.7130 - accuracy: 0.7384 - precision: 0.8086 - precision_angry: 0.7808 - precision_disgust: 0.8082 - precision_fear: 0.7431 - precision_happy: 0.9098 - precision_neutral: 0.7547 - precision_sad: 0.7105 - precision_surprise: 0.8464 - recall: 0.6645 - recall_angry: 0.5965 - recall_disgust: 0.5853 - recall_fear: 0.4453 - recall_happy: 0.8898 - recall_neutral: 0.6291 - recall_sad: 0.5375 - recall_surprise: 0.7836 - val_loss: 1.2081 - val_accuracy: 0.5805 - val_precision: 0.6624 - val_precision_angry: 0.6015 - val_precision_disgust: 0.4295 - val_precision_fear: 0.5078 - val_precision_happy: 0.8878 - val_precision_neutral: 0.5329 - val_precision_sad: 0.6870 - val_precision_surprise: 0.6949 - val_recall: 0.5044 - val_recall_angry: 0.4022 - val_recall_disgust: 0.5360 - val_recall_fear: 0.3111 - val_recall_happy: 0.7394 - val_recall_neutral: 0.6254 - val_recall_sad: 0.0926 - val_recall_surprise: 0.7709 - lr: 0.0010\n",
      "Epoch 11/50\n",
      "740/740 [==============================] - ETA: 0s - loss: 0.6214 - accuracy: 0.7731 - precision: 0.8294 - precision_angry: 0.8027 - precision_disgust: 0.8260 - precision_fear: 0.7652 - precision_happy: 0.9259 - precision_neutral: 0.7916 - precision_sad: 0.7484 - precision_surprise: 0.8504 - recall: 0.7170 - recall_angry: 0.6521 - recall_disgust: 0.6713 - recall_fear: 0.5231 - recall_happy: 0.9108 - recall_neutral: 0.7031 - recall_sad: 0.6040 - recall_surprise: 0.8093\n",
      "Epoch 11: val_loss did not improve from 1.12283\n",
      "\n",
      "Epoch 11: ReduceLROnPlateau reducing learning rate to 0.00010000000474974513.\n",
      "740/740 [==============================] - 849s 1s/step - loss: 0.6214 - accuracy: 0.7731 - precision: 0.8294 - precision_angry: 0.8027 - precision_disgust: 0.8260 - precision_fear: 0.7652 - precision_happy: 0.9259 - precision_neutral: 0.7916 - precision_sad: 0.7484 - precision_surprise: 0.8504 - recall: 0.7170 - recall_angry: 0.6521 - recall_disgust: 0.6713 - recall_fear: 0.5231 - recall_happy: 0.9108 - recall_neutral: 0.7031 - recall_sad: 0.6040 - recall_surprise: 0.8093 - val_loss: 1.3589 - val_accuracy: 0.5465 - val_precision: 0.6037 - val_precision_angry: 0.5458 - val_precision_disgust: 0.3200 - val_precision_fear: 0.3674 - val_precision_happy: 0.9136 - val_precision_neutral: 0.6196 - val_precision_sad: 0.5588 - val_precision_surprise: 0.8960 - val_recall: 0.4737 - val_recall_angry: 0.3785 - val_recall_disgust: 0.5760 - val_recall_fear: 0.5345 - val_recall_happy: 0.6494 - val_recall_neutral: 0.4862 - val_recall_sad: 0.2999 - val_recall_surprise: 0.3399 - lr: 0.0010\n",
      "Epoch 12/50\n",
      "740/740 [==============================] - ETA: 0s - loss: 0.3333 - accuracy: 0.8887 - precision: 0.9207 - precision_angry: 0.9217 - precision_disgust: 0.9294 - precision_fear: 0.8867 - precision_happy: 0.9658 - precision_neutral: 0.9092 - precision_sad: 0.8741 - precision_surprise: 0.9331 - recall: 0.8572 - recall_angry: 0.8224 - recall_disgust: 0.8337 - recall_fear: 0.7426 - recall_happy: 0.9646 - recall_neutral: 0.8557 - recall_sad: 0.7924 - recall_surprise: 0.9099\n",
      "Epoch 12: val_loss did not improve from 1.12283\n",
      "740/740 [==============================] - 789s 1s/step - loss: 0.3333 - accuracy: 0.8887 - precision: 0.9207 - precision_angry: 0.9217 - precision_disgust: 0.9294 - precision_fear: 0.8867 - precision_happy: 0.9658 - precision_neutral: 0.9092 - precision_sad: 0.8741 - precision_surprise: 0.9331 - recall: 0.8572 - recall_angry: 0.8224 - recall_disgust: 0.8337 - recall_fear: 0.7426 - recall_happy: 0.9646 - recall_neutral: 0.8557 - recall_sad: 0.7924 - recall_surprise: 0.9099 - val_loss: 1.2210 - val_accuracy: 0.6350 - val_precision: 0.6705 - val_precision_angry: 0.5824 - val_precision_disgust: 0.9000 - val_precision_fear: 0.5353 - val_precision_happy: 0.8566 - val_precision_neutral: 0.6075 - val_precision_sad: 0.5166 - val_precision_surprise: 0.7895 - val_recall: 0.6048 - val_recall_angry: 0.4903 - val_recall_disgust: 0.4286 - val_recall_fear: 0.3900 - val_recall_happy: 0.8232 - val_recall_neutral: 0.5919 - val_recall_sad: 0.4979 - val_recall_surprise: 0.7466 - lr: 1.0000e-04\n",
      "Epoch 13/50\n",
      "740/740 [==============================] - ETA: 0s - loss: 0.1864 - accuracy: 0.9414 - precision: 0.9545 - precision_angry: 0.9563 - precision_disgust: 0.9529 - precision_fear: 0.9304 - precision_happy: 0.9835 - precision_neutral: 0.9524 - precision_sad: 0.9322 - precision_surprise: 0.9513 - recall: 0.9292 - recall_angry: 0.9159 - recall_disgust: 0.9208 - recall_fear: 0.8600 - recall_happy: 0.9813 - recall_neutral: 0.9367 - recall_sad: 0.8996 - recall_surprise: 0.9517\n",
      "Epoch 13: val_loss did not improve from 1.12283\n",
      "740/740 [==============================] - 830s 1s/step - loss: 0.1864 - accuracy: 0.9414 - precision: 0.9545 - precision_angry: 0.9563 - precision_disgust: 0.9529 - precision_fear: 0.9304 - precision_happy: 0.9835 - precision_neutral: 0.9524 - precision_sad: 0.9322 - precision_surprise: 0.9513 - recall: 0.9292 - recall_angry: 0.9159 - recall_disgust: 0.9208 - recall_fear: 0.8600 - recall_happy: 0.9813 - recall_neutral: 0.9367 - recall_sad: 0.8996 - recall_surprise: 0.9517 - val_loss: 1.3850 - val_accuracy: 0.6388 - val_precision: 0.6639 - val_precision_angry: 0.5308 - val_precision_disgust: 0.8696 - val_precision_fear: 0.5127 - val_precision_happy: 0.8479 - val_precision_neutral: 0.6086 - val_precision_sad: 0.5489 - val_precision_surprise: 0.8063 - val_recall: 0.6145 - val_recall_angry: 0.5470 - val_recall_disgust: 0.4839 - val_recall_fear: 0.4315 - val_recall_happy: 0.8294 - val_recall_neutral: 0.6176 - val_recall_sad: 0.4331 - val_recall_surprise: 0.7412 - lr: 1.0000e-04\n",
      "Epoch 14/50\n",
      "740/740 [==============================] - ETA: 0s - loss: 0.1086 - accuracy: 0.9691 - precision: 0.9750 - precision_angry: 0.9788 - precision_disgust: 0.9655 - precision_fear: 0.9650 - precision_happy: 0.9893 - precision_neutral: 0.9741 - precision_sad: 0.9645 - precision_surprise: 0.9698 - recall: 0.9637 - recall_angry: 0.9560 - recall_disgust: 0.9444 - recall_fear: 0.9315 - recall_happy: 0.9866 - recall_neutral: 0.9705 - recall_sad: 0.9548 - recall_surprise: 0.9702\n",
      "Epoch 14: val_loss did not improve from 1.12283\n",
      "740/740 [==============================] - 840s 1s/step - loss: 0.1086 - accuracy: 0.9691 - precision: 0.9750 - precision_angry: 0.9788 - precision_disgust: 0.9655 - precision_fear: 0.9650 - precision_happy: 0.9893 - precision_neutral: 0.9741 - precision_sad: 0.9645 - precision_surprise: 0.9698 - recall: 0.9637 - recall_angry: 0.9560 - recall_disgust: 0.9444 - recall_fear: 0.9315 - recall_happy: 0.9866 - recall_neutral: 0.9705 - recall_sad: 0.9548 - recall_surprise: 0.9702 - val_loss: 1.5678 - val_accuracy: 0.6388 - val_precision: 0.6595 - val_precision_angry: 0.5425 - val_precision_disgust: 0.8261 - val_precision_fear: 0.5101 - val_precision_happy: 0.8484 - val_precision_neutral: 0.6084 - val_precision_sad: 0.5317 - val_precision_surprise: 0.7971 - val_recall: 0.6226 - val_recall_angry: 0.5153 - val_recall_disgust: 0.4524 - val_recall_fear: 0.4507 - val_recall_happy: 0.8351 - val_recall_neutral: 0.6000 - val_recall_sad: 0.5031 - val_recall_surprise: 0.7439 - lr: 1.0000e-04\n",
      "Epoch 15/50\n",
      "740/740 [==============================] - ETA: 0s - loss: 0.0743 - accuracy: 0.9797 - precision: 0.9823 - precision_angry: 0.9862 - precision_disgust: 0.9665 - precision_fear: 0.9761 - precision_happy: 0.9922 - precision_neutral: 0.9833 - precision_sad: 0.9770 - precision_surprise: 0.9730 - recall: 0.9775 - recall_angry: 0.9757 - recall_disgust: 0.9722 - recall_fear: 0.9593 - recall_happy: 0.9900 - recall_neutral: 0.9847 - recall_sad: 0.9700 - recall_surprise: 0.9759\n",
      "Epoch 15: val_loss did not improve from 1.12283\n",
      "740/740 [==============================] - 830s 1s/step - loss: 0.0743 - accuracy: 0.9797 - precision: 0.9823 - precision_angry: 0.9862 - precision_disgust: 0.9665 - precision_fear: 0.9761 - precision_happy: 0.9922 - precision_neutral: 0.9833 - precision_sad: 0.9770 - precision_surprise: 0.9730 - recall: 0.9775 - recall_angry: 0.9757 - recall_disgust: 0.9722 - recall_fear: 0.9593 - recall_happy: 0.9900 - recall_neutral: 0.9847 - recall_sad: 0.9700 - recall_surprise: 0.9759 - val_loss: 1.7034 - val_accuracy: 0.6315 - val_precision: 0.6458 - val_precision_angry: 0.5584 - val_precision_disgust: 0.8889 - val_precision_fear: 0.5224 - val_precision_happy: 0.8438 - val_precision_neutral: 0.5988 - val_precision_sad: 0.4731 - val_precision_surprise: 0.8037 - val_recall: 0.6187 - val_recall_angry: 0.4847 - val_recall_disgust: 0.4444 - val_recall_fear: 0.4310 - val_recall_happy: 0.8317 - val_recall_neutral: 0.5750 - val_recall_sad: 0.5713 - val_recall_surprise: 0.7197 - lr: 1.0000e-04\n",
      "Epoch 16/50\n",
      "740/740 [==============================] - ETA: 0s - loss: 0.0512 - accuracy: 0.9877 - precision: 0.9886 - precision_angry: 0.9920 - precision_disgust: 0.9761 - precision_fear: 0.9815 - precision_happy: 0.9954 - precision_neutral: 0.9894 - precision_sad: 0.9892 - precision_surprise: 0.9790 - recall: 0.9866 - recall_angry: 0.9851 - recall_disgust: 0.9742 - recall_fear: 0.9780 - recall_happy: 0.9927 - recall_neutral: 0.9921 - recall_sad: 0.9846 - recall_surprise: 0.9826Restoring model weights from the end of the best epoch: 6.\n",
      "\n",
      "Epoch 16: val_loss did not improve from 1.12283\n",
      "\n",
      "Epoch 16: ReduceLROnPlateau reducing learning rate to 1.0000000474974514e-05.\n",
      "740/740 [==============================] - 863s 1s/step - loss: 0.0512 - accuracy: 0.9877 - precision: 0.9886 - precision_angry: 0.9920 - precision_disgust: 0.9761 - precision_fear: 0.9815 - precision_happy: 0.9954 - precision_neutral: 0.9894 - precision_sad: 0.9892 - precision_surprise: 0.9790 - recall: 0.9866 - recall_angry: 0.9851 - recall_disgust: 0.9742 - recall_fear: 0.9780 - recall_happy: 0.9927 - recall_neutral: 0.9921 - recall_sad: 0.9846 - recall_surprise: 0.9826 - val_loss: 1.7922 - val_accuracy: 0.6362 - val_precision: 0.6498 - val_precision_angry: 0.5625 - val_precision_disgust: 0.6471 - val_precision_fear: 0.5362 - val_precision_happy: 0.8315 - val_precision_neutral: 0.5518 - val_precision_sad: 0.5440 - val_precision_surprise: 0.7771 - val_recall: 0.6269 - val_recall_angry: 0.5030 - val_recall_disgust: 0.5238 - val_recall_fear: 0.3881 - val_recall_happy: 0.8344 - val_recall_neutral: 0.6686 - val_recall_sad: 0.5036 - val_recall_surprise: 0.7629 - lr: 1.0000e-04\n",
      "Epoch 16: early stopping\n"
     ]
    }
   ],
   "source": [
    "history = model.fit(\n",
    "    train_generator,\n",
    "    steps_per_epoch=train_generator.n//train_generator.batch_size,\n",
    "    epochs=epochs,\n",
    "    validation_data=validation_generator,\n",
    "    validation_steps=validation_generator.n//validation_generator.batch_size,\n",
    "    callbacks=callbacks_list,\n",
    ")"
   ],
   "metadata": {
    "collapsed": false,
    "pycharm": {
     "name": "#%%\n"
    }
   }
  },
  {
   "cell_type": "markdown",
   "source": [
    "### 7. Evaluation - Test set"
   ],
   "metadata": {
    "collapsed": false,
    "pycharm": {
     "name": "#%% md\n"
    }
   }
  },
  {
   "cell_type": "code",
   "execution_count": 3,
   "outputs": [],
   "source": [
    "from keras.models import load_model\n",
    "\n",
    "model = load_model(\"model_mobilenet_base.h5\")"
   ],
   "metadata": {
    "collapsed": false,
    "pycharm": {
     "name": "#%%\n"
    }
   }
  },
  {
   "cell_type": "code",
   "execution_count": 4,
   "outputs": [
    {
     "name": "stdout",
     "output_type": "stream",
     "text": [
      "Found 7178 images belonging to 7 classes.\n"
     ]
    }
   ],
   "source": [
    "test_data_generator = ImageDataGenerator(preprocessing_function=preprocess_input)\n",
    "\n",
    "test_generator = test_data_generator.flow_from_directory(\n",
    "    DATASET_BASE_TEST_PATH,\n",
    "    target_size=(224, 224),\n",
    "    batch_size=32,\n",
    "    class_mode='categorical',\n",
    "    shuffle=False\n",
    ")"
   ],
   "metadata": {
    "collapsed": false,
    "pycharm": {
     "name": "#%%\n"
    }
   }
  },
  {
   "cell_type": "code",
   "execution_count": 5,
   "outputs": [
    {
     "name": "stdout",
     "output_type": "stream",
     "text": [
      "225/225 [==============================] - 80s 347ms/step - loss: 1.1199 - accuracy: 0.5812 - precision: 0.7157 - precision_angry: 0.7069 - precision_disgust: 0.4808 - precision_fear: 0.6809 - precision_happy: 0.8128 - precision_neutral: 0.6478 - precision_sad: 0.4926 - precision_surprise: 0.7865 - recall: 0.4436 - recall_angry: 0.2996 - recall_disgust: 0.2252 - recall_fear: 0.0625 - recall_happy: 0.8422 - recall_neutral: 0.3341 - recall_sad: 0.2919 - recall_surprise: 0.6474\n"
     ]
    },
    {
     "data": {
      "text/plain": "[1.1198744773864746,\n 0.5812203884124756,\n 0.7156664133071899,\n 0.7068965435028076,\n 0.48076921701431274,\n 0.6808510422706604,\n 0.8128400444984436,\n 0.6477987170219421,\n 0.49255749583244324,\n 0.7865496873855591,\n 0.4435775876045227,\n 0.29958245158195496,\n 0.22522522509098053,\n 0.0625,\n 0.8421645760536194,\n 0.33414435386657715,\n 0.2919005751609802,\n 0.6474127769470215]"
     },
     "execution_count": 5,
     "metadata": {},
     "output_type": "execute_result"
    }
   ],
   "source": [
    "model.evaluate(test_generator)"
   ],
   "metadata": {
    "collapsed": false,
    "pycharm": {
     "name": "#%%\n"
    }
   }
  }
 ],
 "metadata": {
  "kernelspec": {
   "display_name": "Python 3",
   "language": "python",
   "name": "python3"
  },
  "language_info": {
   "codemirror_mode": {
    "name": "ipython",
    "version": 2
   },
   "file_extension": ".py",
   "mimetype": "text/x-python",
   "name": "python",
   "nbconvert_exporter": "python",
   "pygments_lexer": "ipython2",
   "version": "2.7.6"
  }
 },
 "nbformat": 4,
 "nbformat_minor": 0
}