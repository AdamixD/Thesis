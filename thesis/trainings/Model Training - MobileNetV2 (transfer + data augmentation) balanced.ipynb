{
 "cells": [
  {
   "cell_type": "markdown",
   "source": [
    "# Model Training - MobileNetV2 (transfer + data augmentation) balanced"
   ],
   "metadata": {
    "collapsed": false,
    "pycharm": {
     "name": "#%% md\n"
    }
   }
  },
  {
   "cell_type": "markdown",
   "source": [
    "### 0. Imports"
   ],
   "metadata": {
    "collapsed": false,
    "pycharm": {
     "name": "#%% md\n"
    }
   }
  },
  {
   "cell_type": "code",
   "execution_count": 19,
   "outputs": [],
   "source": [
    "import numpy as np\n",
    "\n",
    "from keras.applications import MobileNetV2\n",
    "from keras.applications.mobilenet_v2 import preprocess_input\n",
    "from keras.callbacks import (\n",
    "    ModelCheckpoint,\n",
    "    EarlyStopping,\n",
    "    ReduceLROnPlateau\n",
    ")\n",
    "from keras.models import Sequential\n",
    "from keras.layers import Dense, GlobalAveragePooling2D\n",
    "from keras.metrics import Accuracy, CategoricalAccuracy, Precision, Recall\n",
    "from keras.optimizers import Adam\n",
    "from keras.preprocessing.image import ImageDataGenerator\n",
    "from keras.utils.vis_utils import plot_model\n",
    "from sklearn.utils.class_weight import compute_class_weight"
   ],
   "metadata": {
    "collapsed": false,
    "ExecuteTime": {
     "start_time": "2023-06-08T14:04:36.621338Z",
     "end_time": "2023-06-08T14:04:39.977428Z"
    },
    "pycharm": {
     "name": "#%%\n"
    }
   }
  },
  {
   "cell_type": "markdown",
   "source": [
    "### 1. Paths"
   ],
   "metadata": {
    "collapsed": false,
    "pycharm": {
     "name": "#%% md\n"
    }
   }
  },
  {
   "cell_type": "code",
   "execution_count": 20,
   "outputs": [],
   "source": [
    "# DATASET_BASE_TRAIN_PATH = \"/Users/adamdabkowski/DataspellProjects/Praca_dyplomowa/data/train_resized\"\n",
    "# DATASET_BASE_TRAIN_PATH = \"/Users/adamd/DataspellProjects/Facial Expressions Recognition/data/train_resized\"\n",
    "# DATASET_BASE_TRAIN_PATH = \"/Users/adamd/DataspellProjects/Facial Expressions Recognition/data/train_merged\"\n",
    "DATASET_BASE_TRAIN_PATH = \"/Users/adamd/DataspellProjects/Facial Expressions Recognition/data/train_merged_cleaned\"\n",
    "\n",
    "# DATASET_BASE_TRAIN_PATH = \"../new_data\"\n",
    "\n",
    "# DATASET_BASE_TEST_PATH = \"/Users/adamdabkowski/DataspellProjects/Praca_dyplomowa/data/test_resized\"\n",
    "DATASET_BASE_TEST_PATH = \"/Users/adamd/DataspellProjects/Facial Expressions Recognition/data/test_resized\""
   ],
   "metadata": {
    "collapsed": false,
    "ExecuteTime": {
     "start_time": "2023-06-08T14:06:08.298593Z",
     "end_time": "2023-06-08T14:06:08.305288Z"
    },
    "pycharm": {
     "name": "#%%\n"
    }
   }
  },
  {
   "cell_type": "markdown",
   "source": [
    "### 2. Data preprocessing"
   ],
   "metadata": {
    "collapsed": false,
    "pycharm": {
     "name": "#%% md\n"
    }
   }
  },
  {
   "cell_type": "code",
   "execution_count": 3,
   "outputs": [
    {
     "name": "stdout",
     "output_type": "stream",
     "text": [
      "Found 23689 images belonging to 7 classes.\n",
      "Found 5919 images belonging to 7 classes.\n"
     ]
    }
   ],
   "source": [
    "batch_size  = 32\n",
    "img_size = 224\n",
    "\n",
    "train_validation_data_generator = ImageDataGenerator(\n",
    "    preprocessing_function=preprocess_input,\n",
    "    validation_split=0.2,\n",
    "    rotation_range=40,\n",
    "    width_shift_range=0.2,\n",
    "    height_shift_range=0.2,\n",
    "    shear_range=0.2,\n",
    "    zoom_range=0.2,\n",
    "    horizontal_flip=True,\n",
    "    fill_mode='nearest'\n",
    ")\n",
    "\n",
    "train_generator = train_validation_data_generator.flow_from_directory(\n",
    "    DATASET_BASE_TRAIN_PATH,\n",
    "    target_size=(img_size,img_size),\n",
    "    batch_size=batch_size,\n",
    "    class_mode='categorical',\n",
    "    color_mode='rgb',\n",
    "    subset='training',\n",
    "    shuffle=True,\n",
    ")\n",
    "\n",
    "validation_generator = train_validation_data_generator.flow_from_directory(\n",
    "    DATASET_BASE_TRAIN_PATH,\n",
    "    target_size=(img_size,img_size),\n",
    "    batch_size=batch_size,\n",
    "    class_mode='categorical',\n",
    "    color_mode='rgb',\n",
    "    subset='validation',\n",
    "    shuffle=True,\n",
    ")\n",
    "\n",
    "class_weights = compute_class_weight(\n",
    "    class_weight='balanced',\n",
    "    classes=np.unique(train_generator.classes),\n",
    "    y=train_generator.classes\n",
    ")\n",
    "class_weights_dict = dict(enumerate(class_weights))"
   ],
   "metadata": {
    "collapsed": false,
    "ExecuteTime": {
     "start_time": "2023-06-08T14:06:12.829138Z",
     "end_time": "2023-06-08T14:06:13.009438Z"
    },
    "pycharm": {
     "name": "#%%\n"
    }
   }
  },
  {
   "cell_type": "code",
   "execution_count": 4,
   "outputs": [
    {
     "data": {
      "text/plain": "{0: 1.0264309545474242,\n 1: 6.701272984441301,\n 2: 1.0027089947089947,\n 3: 0.5746549256483031,\n 4: 0.8318935243714005,\n 5: 0.8679514893928846,\n 6: 1.2741501721170396}"
     },
     "execution_count": 4,
     "metadata": {},
     "output_type": "execute_result"
    }
   ],
   "source": [
    "class_weights_dict"
   ],
   "metadata": {
    "collapsed": false,
    "pycharm": {
     "name": "#%%\n"
    }
   }
  },
  {
   "cell_type": "markdown",
   "source": [
    "### 5. Model creating"
   ],
   "metadata": {
    "collapsed": false,
    "pycharm": {
     "name": "#%% md\n"
    }
   }
  },
  {
   "cell_type": "code",
   "execution_count": 7,
   "outputs": [],
   "source": [
    "CATEGORIES = [\"angry\", \"disgust\", \"fear\", \"happy\", \"neutral\", \"sad\", \"surprise\"]"
   ],
   "metadata": {
    "collapsed": false,
    "ExecuteTime": {
     "start_time": "2023-06-08T14:06:21.358802Z",
     "end_time": "2023-06-08T14:06:21.367405Z"
    },
    "pycharm": {
     "name": "#%%\n"
    }
   }
  },
  {
   "cell_type": "code",
   "execution_count": 9,
   "outputs": [],
   "source": [
    "checkpoint = ModelCheckpoint(\n",
    "    filepath=\"./model_mobilenet_v2_transfer_data_augmentation_balanced.h5\",\n",
    "    monitor='val_loss',\n",
    "    verbose=1,\n",
    "    save_best_only=True,\n",
    "    mode='min'\n",
    ")\n",
    "\n",
    "early_stopping = EarlyStopping(\n",
    "    monitor='val_loss',\n",
    "    patience=10,\n",
    "    verbose=1,\n",
    "    restore_best_weights=True,\n",
    ")\n",
    "\n",
    "reduce_learning_rate = ReduceLROnPlateau(\n",
    "    monitor='val_loss',\n",
    "    factor=0.1,\n",
    "    patience=5,\n",
    "    verbose=1,\n",
    "    min_lr=0.00001,\n",
    ")\n",
    "\n",
    "callbacks_list = [early_stopping, checkpoint, reduce_learning_rate]"
   ],
   "metadata": {
    "collapsed": false,
    "ExecuteTime": {
     "start_time": "2023-06-08T14:06:22.501933Z",
     "end_time": "2023-06-08T14:06:22.506101Z"
    },
    "pycharm": {
     "name": "#%%\n"
    }
   }
  },
  {
   "cell_type": "code",
   "execution_count": 10,
   "outputs": [],
   "source": [
    "model = Sequential()\n",
    "\n",
    "base_model = MobileNetV2(input_shape=(img_size, img_size, 3), include_top=False, weights='imagenet')\n",
    "model.add(base_model)\n",
    "\n",
    "model.add(GlobalAveragePooling2D())\n",
    "model.add(Dense(512, activation='relu'))\n",
    "model.add(Dense(7, activation='softmax'))"
   ],
   "metadata": {
    "collapsed": false,
    "ExecuteTime": {
     "start_time": "2023-06-08T14:06:33.844245Z",
     "end_time": "2023-06-08T14:06:34.087495Z"
    },
    "pycharm": {
     "name": "#%%\n"
    }
   }
  },
  {
   "cell_type": "code",
   "execution_count": 11,
   "outputs": [
    {
     "name": "stdout",
     "output_type": "stream",
     "text": [
      "Model: \"sequential\"\n",
      "_________________________________________________________________\n",
      " Layer (type)                Output Shape              Param #   \n",
      "=================================================================\n",
      " mobilenetv2_1.00_224 (Funct  (None, 7, 7, 1280)       2257984   \n",
      " ional)                                                          \n",
      "                                                                 \n",
      " global_average_pooling2d (G  (None, 1280)             0         \n",
      " lobalAveragePooling2D)                                          \n",
      "                                                                 \n",
      " dense (Dense)               (None, 512)               655872    \n",
      "                                                                 \n",
      " dense_1 (Dense)             (None, 7)                 3591      \n",
      "                                                                 \n",
      "=================================================================\n",
      "Total params: 2,917,447\n",
      "Trainable params: 2,883,335\n",
      "Non-trainable params: 34,112\n",
      "_________________________________________________________________\n"
     ]
    }
   ],
   "source": [
    "model.compile(\n",
    "    optimizer=Adam(learning_rate=0.001),\n",
    "    loss='categorical_crossentropy',\n",
    "    metrics=[\n",
    "        \"accuracy\",\n",
    "        \"categorical_accuracy\",\n",
    "        Precision(name='precision'),\n",
    "        Precision(class_id=0, name='precision_angry'),\n",
    "        Precision(class_id=1, name='precision_disgust'),\n",
    "        Precision(class_id=2, name='precision_fear'),\n",
    "        Precision(class_id=3, name='precision_happy'),\n",
    "        Precision(class_id=4, name='precision_neutral'),\n",
    "        Precision(class_id=5, name='precision_sad'),\n",
    "        Precision(class_id=6, name='precision_surprise'),\n",
    "        Recall(name='recall'),\n",
    "        Recall(class_id=0, name='recall_angry'),\n",
    "        Recall(class_id=1, name='recall_disgust'),\n",
    "        Recall(class_id=2, name='recall_fear'),\n",
    "        Recall(class_id=3, name='recall_happy'),\n",
    "        Recall(class_id=4, name='recall_neutral'),\n",
    "        Recall(class_id=5, name='recall_sad'),\n",
    "        Recall(class_id=6, name='recall_surprise'),\n",
    "    ]\n",
    ")\n",
    "model.summary()"
   ],
   "metadata": {
    "collapsed": false,
    "ExecuteTime": {
     "start_time": "2023-06-08T14:08:05.068394Z",
     "end_time": "2023-06-08T14:08:05.102749Z"
    },
    "pycharm": {
     "name": "#%%\n"
    }
   }
  },
  {
   "cell_type": "code",
   "execution_count": 14,
   "outputs": [
    {
     "data": {
      "image/png": "[encoded data removed]",
      "text/plain": "<IPython.core.display.Image object>"
     },
     "execution_count": 14,
     "metadata": {},
     "output_type": "execute_result"
    }
   ],
   "source": [
    "plot_model(model, to_file='model_mobilenet_v2_transfer_data_augmentation_balanced.png', show_shapes=True, show_layer_names=True)"
   ],
   "metadata": {
    "collapsed": false,
    "pycharm": {
     "name": "#%%\n"
    }
   }
  },
  {
   "cell_type": "markdown",
   "source": [
    "### 6. Model training"
   ],
   "metadata": {
    "collapsed": false,
    "pycharm": {
     "name": "#%% md\n"
    }
   }
  },
  {
   "cell_type": "code",
   "execution_count": 13,
   "outputs": [],
   "source": [
    "epochs = 50"
   ],
   "metadata": {
    "collapsed": false,
    "ExecuteTime": {
     "start_time": "2023-06-08T14:08:06.121000Z",
     "end_time": "2023-06-08T14:08:06.134021Z"
    },
    "pycharm": {
     "name": "#%%\n"
    }
   }
  },
  {
   "cell_type": "code",
   "execution_count": 15,
   "outputs": [
    {
     "name": "stdout",
     "output_type": "stream",
     "text": [
      "Epoch 1/50\n",
      "740/740 [==============================] - ETA: 0s - loss: 1.7263 - accuracy: 0.3332 - categorical_accuracy: 0.3332 - precision: 0.5882 - precision_angry: 0.3148 - precision_disgust: 0.1383 - precision_fear: 0.2941 - precision_happy: 0.7914 - precision_neutral: 0.4800 - precision_sad: 0.3415 - precision_surprise: 0.5543 - recall: 0.1024 - recall_angry: 0.0052 - recall_disgust: 0.1366 - recall_fear: 0.0030 - recall_happy: 0.2221 - recall_neutral: 0.0207 - recall_sad: 0.0036 - recall_surprise: 0.3483\n",
      "Epoch 1: val_loss improved from inf to 4.90541, saving model to .\\model_mobilenet_v2_transfer_data_augmentation_balanced.h5\n",
      "740/740 [==============================] - 1110s 1s/step - loss: 1.7263 - accuracy: 0.3332 - categorical_accuracy: 0.3332 - precision: 0.5882 - precision_angry: 0.3148 - precision_disgust: 0.1383 - precision_fear: 0.2941 - precision_happy: 0.7914 - precision_neutral: 0.4800 - precision_sad: 0.3415 - precision_surprise: 0.5543 - recall: 0.1024 - recall_angry: 0.0052 - recall_disgust: 0.1366 - recall_fear: 0.0030 - recall_happy: 0.2221 - recall_neutral: 0.0207 - recall_sad: 0.0036 - recall_surprise: 0.3483 - val_loss: 4.9054 - val_accuracy: 0.1398 - val_categorical_accuracy: 0.1398 - val_precision: 0.1393 - val_precision_angry: 0.0000e+00 - val_precision_disgust: 0.0000e+00 - val_precision_fear: 0.0000e+00 - val_precision_happy: 0.6842 - val_precision_neutral: 0.0000e+00 - val_precision_sad: 0.0000e+00 - val_precision_surprise: 0.1172 - val_recall: 0.1382 - val_recall_angry: 0.0000e+00 - val_recall_disgust: 0.0000e+00 - val_recall_fear: 0.0000e+00 - val_recall_happy: 0.1067 - val_recall_neutral: 0.0000e+00 - val_recall_sad: 0.0000e+00 - val_recall_surprise: 0.9940 - lr: 0.0010\n",
      "Epoch 2/50\n",
      "740/740 [==============================] - ETA: 0s - loss: 1.4838 - accuracy: 0.4411 - categorical_accuracy: 0.4411 - precision: 0.6808 - precision_angry: 0.5316 - precision_disgust: 0.2059 - precision_fear: 0.0000e+00 - precision_happy: 0.8526 - precision_neutral: 0.5844 - precision_sad: 0.5291 - precision_surprise: 0.6342 - recall: 0.2172 - recall_angry: 0.0307 - recall_disgust: 0.3056 - recall_fear: 0.0000e+00 - recall_happy: 0.5003 - recall_neutral: 0.1253 - recall_sad: 0.0234 - recall_surprise: 0.5053\n",
      "Epoch 2: val_loss improved from 4.90541 to 4.12445, saving model to .\\model_mobilenet_v2_transfer_data_augmentation_balanced.h5\n",
      "740/740 [==============================] - 1115s 2s/step - loss: 1.4838 - accuracy: 0.4411 - categorical_accuracy: 0.4411 - precision: 0.6808 - precision_angry: 0.5316 - precision_disgust: 0.2059 - precision_fear: 0.0000e+00 - precision_happy: 0.8526 - precision_neutral: 0.5844 - precision_sad: 0.5291 - precision_surprise: 0.6342 - recall: 0.2172 - recall_angry: 0.0307 - recall_disgust: 0.3056 - recall_fear: 0.0000e+00 - recall_happy: 0.5003 - recall_neutral: 0.1253 - recall_sad: 0.0234 - recall_surprise: 0.5053 - val_loss: 4.1244 - val_accuracy: 0.2092 - val_categorical_accuracy: 0.2092 - val_precision: 0.2121 - val_precision_angry: 1.0000 - val_precision_disgust: 0.1282 - val_precision_fear: 0.0000e+00 - val_precision_happy: 0.7717 - val_precision_neutral: 0.3684 - val_precision_sad: 0.0000e+00 - val_precision_surprise: 0.1424 - val_recall: 0.1960 - val_recall_angry: 0.0024 - val_recall_disgust: 0.0400 - val_recall_fear: 0.0000e+00 - val_recall_happy: 0.2123 - val_recall_neutral: 0.2006 - val_recall_sad: 0.0000e+00 - val_recall_surprise: 0.9576 - lr: 0.0010\n",
      "Epoch 3/50\n",
      "740/740 [==============================] - ETA: 0s - loss: 1.4059 - accuracy: 0.4647 - categorical_accuracy: 0.4647 - precision: 0.6812 - precision_angry: 0.5080 - precision_disgust: 0.2311 - precision_fear: 0.0000e+00 - precision_happy: 0.8680 - precision_neutral: 0.5761 - precision_sad: 0.5223 - precision_surprise: 0.6439 - recall: 0.2467 - recall_angry: 0.0480 - recall_disgust: 0.4059 - recall_fear: 0.0000e+00 - recall_happy: 0.5501 - recall_neutral: 0.1602 - recall_sad: 0.0331 - recall_surprise: 0.5499\n",
      "Epoch 3: val_loss improved from 4.12445 to 3.25165, saving model to .\\model_mobilenet_v2_transfer_data_augmentation_balanced.h5\n",
      "740/740 [==============================] - 1072s 1s/step - loss: 1.4059 - accuracy: 0.4647 - categorical_accuracy: 0.4647 - precision: 0.6812 - precision_angry: 0.5080 - precision_disgust: 0.2311 - precision_fear: 0.0000e+00 - precision_happy: 0.8680 - precision_neutral: 0.5761 - precision_sad: 0.5223 - precision_surprise: 0.6439 - recall: 0.2467 - recall_angry: 0.0480 - recall_disgust: 0.4059 - recall_fear: 0.0000e+00 - recall_happy: 0.5501 - recall_neutral: 0.1602 - recall_sad: 0.0331 - recall_surprise: 0.5499 - val_loss: 3.2517 - val_accuracy: 0.1984 - val_categorical_accuracy: 0.1984 - val_precision: 0.2083 - val_precision_angry: 0.2931 - val_precision_disgust: 0.0000e+00 - val_precision_fear: 0.2537 - val_precision_happy: 0.8538 - val_precision_neutral: 0.4889 - val_precision_sad: 0.0000e+00 - val_precision_surprise: 0.1433 - val_recall: 0.1763 - val_recall_angry: 0.0208 - val_recall_disgust: 0.0000e+00 - val_recall_fear: 0.0202 - val_recall_happy: 0.2275 - val_recall_neutral: 0.0437 - val_recall_sad: 0.0000e+00 - val_recall_surprise: 0.9500 - lr: 0.0010\n",
      "Epoch 4/50\n",
      "740/740 [==============================] - ETA: 0s - loss: 1.3427 - accuracy: 0.4919 - categorical_accuracy: 0.4919 - precision: 0.6966 - precision_angry: 0.6080 - precision_disgust: 0.2453 - precision_fear: 0.5000 - precision_happy: 0.8784 - precision_neutral: 0.6203 - precision_sad: 0.5459 - precision_surprise: 0.6587 - recall: 0.2811 - recall_angry: 0.0923 - recall_disgust: 0.4444 - recall_fear: 0.0018 - recall_happy: 0.5897 - recall_neutral: 0.2051 - recall_sad: 0.0611 - recall_surprise: 0.5952\n",
      "Epoch 4: val_loss improved from 3.25165 to 2.74783, saving model to .\\model_mobilenet_v2_transfer_data_augmentation_balanced.h5\n",
      "740/740 [==============================] - 1084s 1s/step - loss: 1.3427 - accuracy: 0.4919 - categorical_accuracy: 0.4919 - precision: 0.6966 - precision_angry: 0.6080 - precision_disgust: 0.2453 - precision_fear: 0.5000 - precision_happy: 0.8784 - precision_neutral: 0.6203 - precision_sad: 0.5459 - precision_surprise: 0.6587 - recall: 0.2811 - recall_angry: 0.0923 - recall_disgust: 0.4444 - recall_fear: 0.0018 - recall_happy: 0.5897 - recall_neutral: 0.2051 - recall_sad: 0.0611 - recall_surprise: 0.5952 - val_loss: 2.7478 - val_accuracy: 0.3363 - val_categorical_accuracy: 0.3363 - val_precision: 0.3554 - val_precision_angry: 0.0000e+00 - val_precision_disgust: 0.0469 - val_precision_fear: 0.0000e+00 - val_precision_happy: 0.7971 - val_precision_neutral: 0.3734 - val_precision_sad: 0.0000e+00 - val_precision_surprise: 0.5598 - val_recall: 0.3164 - val_recall_angry: 0.0000e+00 - val_recall_disgust: 0.7600 - val_recall_fear: 0.0000e+00 - val_recall_happy: 0.5577 - val_recall_neutral: 0.5475 - val_recall_sad: 0.0000e+00 - val_recall_surprise: 0.6012 - lr: 0.0010\n",
      "Epoch 5/50\n",
      "740/740 [==============================] - ETA: 0s - loss: 1.2940 - accuracy: 0.5127 - categorical_accuracy: 0.5127 - precision: 0.7036 - precision_angry: 0.6065 - precision_disgust: 0.2756 - precision_fear: 0.5890 - precision_happy: 0.8858 - precision_neutral: 0.6315 - precision_sad: 0.5240 - precision_surprise: 0.6672 - recall: 0.3048 - recall_angry: 0.1186 - recall_disgust: 0.5010 - recall_fear: 0.0128 - recall_happy: 0.6245 - recall_neutral: 0.2406 - recall_sad: 0.0701 - recall_surprise: 0.6031\n",
      "Epoch 5: val_loss did not improve from 2.74783\n",
      "740/740 [==============================] - 1091s 1s/step - loss: 1.2940 - accuracy: 0.5127 - categorical_accuracy: 0.5127 - precision: 0.7036 - precision_angry: 0.6065 - precision_disgust: 0.2756 - precision_fear: 0.5890 - precision_happy: 0.8858 - precision_neutral: 0.6315 - precision_sad: 0.5240 - precision_surprise: 0.6672 - recall: 0.3048 - recall_angry: 0.1186 - recall_disgust: 0.5010 - recall_fear: 0.0128 - recall_happy: 0.6245 - recall_neutral: 0.2406 - recall_sad: 0.0701 - recall_surprise: 0.6031 - val_loss: 3.0690 - val_accuracy: 0.2957 - val_categorical_accuracy: 0.2957 - val_precision: 0.3368 - val_precision_angry: 0.3281 - val_precision_disgust: 0.0482 - val_precision_fear: 0.3000 - val_precision_happy: 0.7052 - val_precision_neutral: 0.6957 - val_precision_sad: 0.0000e+00 - val_precision_surprise: 0.4459 - val_recall: 0.2508 - val_recall_angry: 0.2564 - val_recall_disgust: 0.6720 - val_recall_fear: 0.0143 - val_recall_happy: 0.5160 - val_recall_neutral: 0.0475 - val_recall_sad: 0.0000e+00 - val_recall_surprise: 0.5569 - lr: 0.0010\n",
      "Epoch 6/50\n",
      "740/740 [==============================] - ETA: 0s - loss: 1.2514 - accuracy: 0.5251 - categorical_accuracy: 0.5251 - precision: 0.7148 - precision_angry: 0.6260 - precision_disgust: 0.2945 - precision_fear: 0.5532 - precision_happy: 0.8908 - precision_neutral: 0.6371 - precision_sad: 0.5661 - precision_surprise: 0.6859 - recall: 0.3253 - recall_angry: 0.1388 - recall_disgust: 0.5218 - recall_fear: 0.0231 - recall_happy: 0.6497 - recall_neutral: 0.2738 - recall_sad: 0.0858 - recall_surprise: 0.6150\n",
      "Epoch 6: val_loss improved from 2.74783 to 2.12361, saving model to .\\model_mobilenet_v2_transfer_data_augmentation_balanced.h5\n",
      "740/740 [==============================] - 1088s 1s/step - loss: 1.2514 - accuracy: 0.5251 - categorical_accuracy: 0.5251 - precision: 0.7148 - precision_angry: 0.6260 - precision_disgust: 0.2945 - precision_fear: 0.5532 - precision_happy: 0.8908 - precision_neutral: 0.6371 - precision_sad: 0.5661 - precision_surprise: 0.6859 - recall: 0.3253 - recall_angry: 0.1388 - recall_disgust: 0.5218 - recall_fear: 0.0231 - recall_happy: 0.6497 - recall_neutral: 0.2738 - recall_sad: 0.0858 - recall_surprise: 0.6150 - val_loss: 2.1236 - val_accuracy: 0.3811 - val_categorical_accuracy: 0.3811 - val_precision: 0.4628 - val_precision_angry: 0.5517 - val_precision_disgust: 0.1245 - val_precision_fear: 0.2306 - val_precision_happy: 0.7822 - val_precision_neutral: 0.5169 - val_precision_sad: 0.0000e+00 - val_precision_surprise: 0.3532 - val_recall: 0.3081 - val_recall_angry: 0.0588 - val_recall_disgust: 0.4960 - val_recall_fear: 0.1058 - val_recall_happy: 0.5833 - val_recall_neutral: 0.3323 - val_recall_sad: 0.0000e+00 - val_recall_surprise: 0.6440 - lr: 0.0010\n",
      "Epoch 7/50\n",
      "740/740 [==============================] - ETA: 0s - loss: 1.2238 - accuracy: 0.5306 - categorical_accuracy: 0.5306 - precision: 0.7138 - precision_angry: 0.6138 - precision_disgust: 0.2974 - precision_fear: 0.6040 - precision_happy: 0.8843 - precision_neutral: 0.6573 - precision_sad: 0.5798 - precision_surprise: 0.6904 - recall: 0.3347 - recall_angry: 0.1539 - recall_disgust: 0.5575 - recall_fear: 0.0362 - recall_happy: 0.6471 - recall_neutral: 0.2890 - recall_sad: 0.0868 - recall_surprise: 0.6372\n",
      "Epoch 7: val_loss did not improve from 2.12361\n",
      "740/740 [==============================] - 1085s 1s/step - loss: 1.2238 - accuracy: 0.5306 - categorical_accuracy: 0.5306 - precision: 0.7138 - precision_angry: 0.6138 - precision_disgust: 0.2974 - precision_fear: 0.6040 - precision_happy: 0.8843 - precision_neutral: 0.6573 - precision_sad: 0.5798 - precision_surprise: 0.6904 - recall: 0.3347 - recall_angry: 0.1539 - recall_disgust: 0.5575 - recall_fear: 0.0362 - recall_happy: 0.6471 - recall_neutral: 0.2890 - recall_sad: 0.0868 - recall_surprise: 0.6372 - val_loss: 4.2075 - val_accuracy: 0.1697 - val_categorical_accuracy: 0.1697 - val_precision: 0.1730 - val_precision_angry: 0.6667 - val_precision_disgust: 0.1195 - val_precision_fear: 0.2308 - val_precision_happy: 0.8966 - val_precision_neutral: 0.5600 - val_precision_sad: 0.0000e+00 - val_precision_surprise: 0.1360 - val_recall: 0.1612 - val_recall_angry: 0.0147 - val_recall_disgust: 0.2400 - val_recall_fear: 0.0072 - val_recall_happy: 0.0889 - val_recall_neutral: 0.1107 - val_recall_sad: 0.0000e+00 - val_recall_surprise: 0.9940 - lr: 0.0010\n",
      "Epoch 8/50\n",
      "740/740 [==============================] - ETA: 0s - loss: 1.1892 - accuracy: 0.5506 - categorical_accuracy: 0.5506 - precision: 0.7206 - precision_angry: 0.6321 - precision_disgust: 0.3304 - precision_fear: 0.6216 - precision_happy: 0.8961 - precision_neutral: 0.6456 - precision_sad: 0.5687 - precision_surprise: 0.7060 - recall: 0.3588 - recall_angry: 0.1853 - recall_disgust: 0.5921 - recall_fear: 0.0614 - recall_happy: 0.6731 - recall_neutral: 0.3042 - recall_sad: 0.1203 - recall_surprise: 0.6437\n",
      "Epoch 8: val_loss did not improve from 2.12361\n",
      "740/740 [==============================] - 1084s 1s/step - loss: 1.1892 - accuracy: 0.5506 - categorical_accuracy: 0.5506 - precision: 0.7206 - precision_angry: 0.6321 - precision_disgust: 0.3304 - precision_fear: 0.6216 - precision_happy: 0.8961 - precision_neutral: 0.6456 - precision_sad: 0.5687 - precision_surprise: 0.7060 - recall: 0.3588 - recall_angry: 0.1853 - recall_disgust: 0.5921 - recall_fear: 0.0614 - recall_happy: 0.6731 - recall_neutral: 0.3042 - recall_sad: 0.1203 - recall_surprise: 0.6437 - val_loss: 2.6427 - val_accuracy: 0.3174 - val_categorical_accuracy: 0.3174 - val_precision: 0.3776 - val_precision_angry: 0.3726 - val_precision_disgust: 0.0717 - val_precision_fear: 0.2392 - val_precision_happy: 0.8617 - val_precision_neutral: 0.7500 - val_precision_sad: 0.6000 - val_precision_surprise: 0.2957 - val_recall: 0.2597 - val_recall_angry: 0.3276 - val_recall_disgust: 0.1520 - val_recall_fear: 0.1452 - val_recall_happy: 0.3498 - val_recall_neutral: 0.0446 - val_recall_sad: 0.0031 - val_recall_surprise: 0.8459 - lr: 0.0010\n",
      "Epoch 9/50\n",
      "740/740 [==============================] - ETA: 0s - loss: 1.1817 - accuracy: 0.5507 - categorical_accuracy: 0.5507 - precision: 0.7182 - precision_angry: 0.6486 - precision_disgust: 0.3243 - precision_fear: 0.5802 - precision_happy: 0.8912 - precision_neutral: 0.6545 - precision_sad: 0.5674 - precision_surprise: 0.7066 - recall: 0.3647 - recall_angry: 0.2068 - recall_disgust: 0.5913 - recall_fear: 0.0644 - recall_happy: 0.6730 - recall_neutral: 0.3177 - recall_sad: 0.1243 - recall_surprise: 0.6410\n",
      "Epoch 9: val_loss improved from 2.12361 to 2.09493, saving model to .\\model_mobilenet_v2_transfer_data_augmentation_balanced.h5\n",
      "740/740 [==============================] - 1087s 1s/step - loss: 1.1817 - accuracy: 0.5507 - categorical_accuracy: 0.5507 - precision: 0.7182 - precision_angry: 0.6486 - precision_disgust: 0.3243 - precision_fear: 0.5802 - precision_happy: 0.8912 - precision_neutral: 0.6545 - precision_sad: 0.5674 - precision_surprise: 0.7066 - recall: 0.3647 - recall_angry: 0.2068 - recall_disgust: 0.5913 - recall_fear: 0.0644 - recall_happy: 0.6730 - recall_neutral: 0.3177 - recall_sad: 0.1243 - recall_surprise: 0.6410 - val_loss: 2.0949 - val_accuracy: 0.3886 - val_categorical_accuracy: 0.3886 - val_precision: 0.4468 - val_precision_angry: 0.4241 - val_precision_disgust: 0.2024 - val_precision_fear: 0.5789 - val_precision_happy: 0.7876 - val_precision_neutral: 0.4906 - val_precision_sad: 0.3333 - val_precision_surprise: 0.2848 - val_recall: 0.3314 - val_recall_angry: 0.2800 - val_recall_disgust: 0.4048 - val_recall_fear: 0.0131 - val_recall_happy: 0.6332 - val_recall_neutral: 0.1297 - val_recall_sad: 0.0031 - val_recall_surprise: 0.9062 - lr: 0.0010\n",
      "Epoch 10/50\n",
      "740/740 [==============================] - ETA: 0s - loss: 1.1483 - accuracy: 0.5619 - categorical_accuracy: 0.5619 - precision: 0.7251 - precision_angry: 0.6581 - precision_disgust: 0.3527 - precision_fear: 0.5991 - precision_happy: 0.8926 - precision_neutral: 0.6516 - precision_sad: 0.5987 - precision_surprise: 0.7150 - recall: 0.3842 - recall_angry: 0.1942 - recall_disgust: 0.6262 - recall_fear: 0.0817 - recall_happy: 0.6953 - recall_neutral: 0.3257 - recall_sad: 0.1684 - recall_surprise: 0.6743\n",
      "Epoch 10: val_loss improved from 2.09493 to 1.55805, saving model to .\\model_mobilenet_v2_transfer_data_augmentation_balanced.h5\n",
      "740/740 [==============================] - 1080s 1s/step - loss: 1.1483 - accuracy: 0.5619 - categorical_accuracy: 0.5619 - precision: 0.7251 - precision_angry: 0.6581 - precision_disgust: 0.3527 - precision_fear: 0.5991 - precision_happy: 0.8926 - precision_neutral: 0.6516 - precision_sad: 0.5987 - precision_surprise: 0.7150 - recall: 0.3842 - recall_angry: 0.1942 - recall_disgust: 0.6262 - recall_fear: 0.0817 - recall_happy: 0.6953 - recall_neutral: 0.3257 - recall_sad: 0.1684 - recall_surprise: 0.6743 - val_loss: 1.5581 - val_accuracy: 0.5054 - val_categorical_accuracy: 0.5054 - val_precision: 0.5714 - val_precision_angry: 0.7188 - val_precision_disgust: 0.2431 - val_precision_fear: 0.4706 - val_precision_happy: 0.7172 - val_precision_neutral: 0.4538 - val_precision_sad: 0.5691 - val_precision_surprise: 0.5791 - val_recall: 0.4429 - val_recall_angry: 0.0845 - val_recall_disgust: 0.4960 - val_recall_fear: 0.0285 - val_recall_happy: 0.8074 - val_recall_neutral: 0.6532 - val_recall_sad: 0.1066 - val_recall_surprise: 0.7652 - lr: 0.0010\n",
      "Epoch 11/50\n",
      "740/740 [==============================] - ETA: 0s - loss: 1.1345 - accuracy: 0.5662 - categorical_accuracy: 0.5662 - precision: 0.7272 - precision_angry: 0.6655 - precision_disgust: 0.3417 - precision_fear: 0.6314 - precision_happy: 0.8983 - precision_neutral: 0.6688 - precision_sad: 0.6123 - precision_surprise: 0.7059 - recall: 0.3913 - recall_angry: 0.2297 - recall_disgust: 0.6448 - recall_fear: 0.0955 - recall_happy: 0.6945 - recall_neutral: 0.3404 - recall_sad: 0.1631 - recall_surprise: 0.6597\n",
      "Epoch 11: val_loss did not improve from 1.55805\n",
      "740/740 [==============================] - 1074s 1s/step - loss: 1.1345 - accuracy: 0.5662 - categorical_accuracy: 0.5662 - precision: 0.7272 - precision_angry: 0.6655 - precision_disgust: 0.3417 - precision_fear: 0.6314 - precision_happy: 0.8983 - precision_neutral: 0.6688 - precision_sad: 0.6123 - precision_surprise: 0.7059 - recall: 0.3913 - recall_angry: 0.2297 - recall_disgust: 0.6448 - recall_fear: 0.0955 - recall_happy: 0.6945 - recall_neutral: 0.3404 - recall_sad: 0.1631 - recall_surprise: 0.6597 - val_loss: 2.7432 - val_accuracy: 0.3916 - val_categorical_accuracy: 0.3916 - val_precision: 0.4196 - val_precision_angry: 0.6782 - val_precision_disgust: 0.1818 - val_precision_fear: 0.4107 - val_precision_happy: 0.4344 - val_precision_neutral: 0.3597 - val_precision_sad: 0.5385 - val_precision_surprise: 0.7978 - val_recall: 0.3691 - val_recall_angry: 0.0718 - val_recall_disgust: 0.3016 - val_recall_fear: 0.0274 - val_recall_happy: 0.9355 - val_recall_neutral: 0.5296 - val_recall_sad: 0.0072 - val_recall_surprise: 0.2199 - lr: 0.0010\n",
      "Epoch 12/50\n",
      "740/740 [==============================] - ETA: 0s - loss: 1.1038 - accuracy: 0.5784 - categorical_accuracy: 0.5784 - precision: 0.7277 - precision_angry: 0.6720 - precision_disgust: 0.3558 - precision_fear: 0.6282 - precision_happy: 0.8955 - precision_neutral: 0.6632 - precision_sad: 0.6140 - precision_surprise: 0.7156 - recall: 0.4070 - recall_angry: 0.2444 - recall_disgust: 0.6574 - recall_fear: 0.1244 - recall_happy: 0.7080 - recall_neutral: 0.3566 - recall_sad: 0.1785 - recall_surprise: 0.6659\n",
      "Epoch 12: val_loss did not improve from 1.55805\n",
      "740/740 [==============================] - 1078s 1s/step - loss: 1.1038 - accuracy: 0.5784 - categorical_accuracy: 0.5784 - precision: 0.7277 - precision_angry: 0.6720 - precision_disgust: 0.3558 - precision_fear: 0.6282 - precision_happy: 0.8955 - precision_neutral: 0.6632 - precision_sad: 0.6140 - precision_surprise: 0.7156 - recall: 0.4070 - recall_angry: 0.2444 - recall_disgust: 0.6574 - recall_fear: 0.1244 - recall_happy: 0.7080 - recall_neutral: 0.3566 - recall_sad: 0.1785 - recall_surprise: 0.6659 - val_loss: 2.4539 - val_accuracy: 0.3910 - val_categorical_accuracy: 0.3910 - val_precision: 0.4271 - val_precision_angry: 0.5269 - val_precision_disgust: 0.5000 - val_precision_fear: 0.4074 - val_precision_happy: 0.6464 - val_precision_neutral: 0.4197 - val_precision_sad: 0.0000e+00 - val_precision_surprise: 0.2618 - val_recall: 0.3611 - val_recall_angry: 0.1077 - val_recall_disgust: 0.1120 - val_recall_fear: 0.0788 - val_recall_happy: 0.7614 - val_recall_neutral: 0.2198 - val_recall_sad: 0.0000e+00 - val_recall_surprise: 0.9336 - lr: 0.0010\n",
      "Epoch 13/50\n",
      "740/740 [==============================] - ETA: 0s - loss: 1.0978 - accuracy: 0.5756 - categorical_accuracy: 0.5756 - precision: 0.7277 - precision_angry: 0.6747 - precision_disgust: 0.3467 - precision_fear: 0.6459 - precision_happy: 0.9004 - precision_neutral: 0.6659 - precision_sad: 0.6236 - precision_surprise: 0.7129 - recall: 0.4099 - recall_angry: 0.2565 - recall_disgust: 0.6706 - recall_fear: 0.1201 - recall_happy: 0.6990 - recall_neutral: 0.3534 - recall_sad: 0.1983 - recall_surprise: 0.6750\n",
      "Epoch 13: val_loss did not improve from 1.55805\n",
      "740/740 [==============================] - 1087s 1s/step - loss: 1.0978 - accuracy: 0.5756 - categorical_accuracy: 0.5756 - precision: 0.7277 - precision_angry: 0.6747 - precision_disgust: 0.3467 - precision_fear: 0.6459 - precision_happy: 0.9004 - precision_neutral: 0.6659 - precision_sad: 0.6236 - precision_surprise: 0.7129 - recall: 0.4099 - recall_angry: 0.2565 - recall_disgust: 0.6706 - recall_fear: 0.1201 - recall_happy: 0.6990 - recall_neutral: 0.3534 - recall_sad: 0.1983 - recall_surprise: 0.6750 - val_loss: 1.8089 - val_accuracy: 0.4757 - val_categorical_accuracy: 0.4757 - val_precision: 0.5341 - val_precision_angry: 0.5189 - val_precision_disgust: 0.2941 - val_precision_fear: 0.3893 - val_precision_happy: 0.7597 - val_precision_neutral: 0.4873 - val_precision_sad: 0.7143 - val_precision_surprise: 0.3884 - val_recall: 0.4268 - val_recall_angry: 0.2689 - val_recall_disgust: 0.2381 - val_recall_fear: 0.1216 - val_recall_happy: 0.7514 - val_recall_neutral: 0.4748 - val_recall_sad: 0.0103 - val_recall_surprise: 0.8625 - lr: 0.0010\n",
      "Epoch 14/50\n",
      "740/740 [==============================] - ETA: 0s - loss: 1.0789 - accuracy: 0.5800 - categorical_accuracy: 0.5800 - precision: 0.7313 - precision_angry: 0.6662 - precision_disgust: 0.3744 - precision_fear: 0.6280 - precision_happy: 0.9054 - precision_neutral: 0.6802 - precision_sad: 0.6167 - precision_surprise: 0.7204 - recall: 0.4216 - recall_angry: 0.2684 - recall_disgust: 0.7228 - recall_fear: 0.1332 - recall_happy: 0.7048 - recall_neutral: 0.3710 - recall_sad: 0.2049 - recall_surprise: 0.6884\n",
      "Epoch 14: val_loss did not improve from 1.55805\n",
      "740/740 [==============================] - 1079s 1s/step - loss: 1.0789 - accuracy: 0.5800 - categorical_accuracy: 0.5800 - precision: 0.7313 - precision_angry: 0.6662 - precision_disgust: 0.3744 - precision_fear: 0.6280 - precision_happy: 0.9054 - precision_neutral: 0.6802 - precision_sad: 0.6167 - precision_surprise: 0.7204 - recall: 0.4216 - recall_angry: 0.2684 - recall_disgust: 0.7228 - recall_fear: 0.1332 - recall_happy: 0.7048 - recall_neutral: 0.3710 - recall_sad: 0.2049 - recall_surprise: 0.6884 - val_loss: 1.6642 - val_accuracy: 0.4978 - val_categorical_accuracy: 0.4978 - val_precision: 0.5623 - val_precision_angry: 0.5962 - val_precision_disgust: 0.3727 - val_precision_fear: 0.4878 - val_precision_happy: 0.8468 - val_precision_neutral: 0.4289 - val_precision_sad: 0.5815 - val_precision_surprise: 0.4657 - val_recall: 0.4399 - val_recall_angry: 0.1549 - val_recall_disgust: 0.3254 - val_recall_fear: 0.0238 - val_recall_happy: 0.7121 - val_recall_neutral: 0.7184 - val_recall_sad: 0.1103 - val_recall_surprise: 0.8015 - lr: 0.0010\n",
      "Epoch 15/50\n",
      "740/740 [==============================] - ETA: 0s - loss: 1.0713 - accuracy: 0.5901 - categorical_accuracy: 0.5901 - precision: 0.7324 - precision_angry: 0.6614 - precision_disgust: 0.3651 - precision_fear: 0.6255 - precision_happy: 0.9058 - precision_neutral: 0.6806 - precision_sad: 0.6251 - precision_surprise: 0.7222 - recall: 0.4296 - recall_angry: 0.2817 - recall_disgust: 0.7063 - recall_fear: 0.1308 - recall_happy: 0.7247 - recall_neutral: 0.3770 - recall_sad: 0.2086 - recall_surprise: 0.6912\n",
      "Epoch 15: val_loss improved from 1.55805 to 1.31101, saving model to .\\model_mobilenet_v2_transfer_data_augmentation_balanced.h5\n",
      "740/740 [==============================] - 1073s 1s/step - loss: 1.0713 - accuracy: 0.5901 - categorical_accuracy: 0.5901 - precision: 0.7324 - precision_angry: 0.6614 - precision_disgust: 0.3651 - precision_fear: 0.6255 - precision_happy: 0.9058 - precision_neutral: 0.6806 - precision_sad: 0.6251 - precision_surprise: 0.7222 - recall: 0.4296 - recall_angry: 0.2817 - recall_disgust: 0.7063 - recall_fear: 0.1308 - recall_happy: 0.7247 - recall_neutral: 0.3770 - recall_sad: 0.2086 - recall_surprise: 0.6912 - val_loss: 1.3110 - val_accuracy: 0.5309 - val_categorical_accuracy: 0.5309 - val_precision: 0.6385 - val_precision_angry: 0.5206 - val_precision_disgust: 0.3951 - val_precision_fear: 0.4199 - val_precision_happy: 0.7564 - val_precision_neutral: 0.5879 - val_precision_sad: 0.7500 - val_precision_surprise: 0.6224 - val_recall: 0.4344 - val_recall_angry: 0.3085 - val_recall_disgust: 0.2540 - val_recall_fear: 0.1410 - val_recall_happy: 0.8077 - val_recall_neutral: 0.4328 - val_recall_sad: 0.0370 - val_recall_surprise: 0.7591 - lr: 0.0010\n",
      "Epoch 16/50\n",
      "740/740 [==============================] - ETA: 0s - loss: 1.0531 - accuracy: 0.5995 - categorical_accuracy: 0.5995 - precision: 0.7360 - precision_angry: 0.6779 - precision_disgust: 0.3916 - precision_fear: 0.6569 - precision_happy: 0.8988 - precision_neutral: 0.6738 - precision_sad: 0.6302 - precision_surprise: 0.7303 - recall: 0.4422 - recall_angry: 0.2805 - recall_disgust: 0.7092 - recall_fear: 0.1664 - recall_happy: 0.7263 - recall_neutral: 0.3974 - recall_sad: 0.2293 - recall_surprise: 0.6934\n",
      "Epoch 16: val_loss did not improve from 1.31101\n",
      "740/740 [==============================] - 1077s 1s/step - loss: 1.0531 - accuracy: 0.5995 - categorical_accuracy: 0.5995 - precision: 0.7360 - precision_angry: 0.6779 - precision_disgust: 0.3916 - precision_fear: 0.6569 - precision_happy: 0.8988 - precision_neutral: 0.6738 - precision_sad: 0.6302 - precision_surprise: 0.7303 - recall: 0.4422 - recall_angry: 0.2805 - recall_disgust: 0.7092 - recall_fear: 0.1664 - recall_happy: 0.7263 - recall_neutral: 0.3974 - recall_sad: 0.2293 - recall_surprise: 0.6934 - val_loss: 1.3287 - val_accuracy: 0.5117 - val_categorical_accuracy: 0.5117 - val_precision: 0.6058 - val_precision_angry: 0.3738 - val_precision_disgust: 0.3289 - val_precision_fear: 0.5274 - val_precision_happy: 0.8845 - val_precision_neutral: 0.5882 - val_precision_sad: 0.5397 - val_precision_surprise: 0.7915 - val_recall: 0.4147 - val_recall_angry: 0.6173 - val_recall_disgust: 0.4000 - val_recall_fear: 0.0917 - val_recall_happy: 0.6762 - val_recall_neutral: 0.4129 - val_recall_sad: 0.0703 - val_recall_surprise: 0.5045 - lr: 0.0010\n",
      "Epoch 17/50\n",
      "740/740 [==============================] - ETA: 0s - loss: 1.0273 - accuracy: 0.6002 - categorical_accuracy: 0.6002 - precision: 0.7378 - precision_angry: 0.6916 - precision_disgust: 0.3931 - precision_fear: 0.6718 - precision_happy: 0.9054 - precision_neutral: 0.6758 - precision_sad: 0.6265 - precision_surprise: 0.7250 - recall: 0.4478 - recall_angry: 0.2950 - recall_disgust: 0.7480 - recall_fear: 0.1809 - recall_happy: 0.7261 - recall_neutral: 0.4077 - recall_sad: 0.2162 - recall_surprise: 0.7042\n",
      "Epoch 17: val_loss did not improve from 1.31101\n",
      "740/740 [==============================] - 1124s 2s/step - loss: 1.0273 - accuracy: 0.6002 - categorical_accuracy: 0.6002 - precision: 0.7378 - precision_angry: 0.6916 - precision_disgust: 0.3931 - precision_fear: 0.6718 - precision_happy: 0.9054 - precision_neutral: 0.6758 - precision_sad: 0.6265 - precision_surprise: 0.7250 - recall: 0.4478 - recall_angry: 0.2950 - recall_disgust: 0.7480 - recall_fear: 0.1809 - recall_happy: 0.7261 - recall_neutral: 0.4077 - recall_sad: 0.2162 - recall_surprise: 0.7042 - val_loss: 1.9339 - val_accuracy: 0.4968 - val_categorical_accuracy: 0.4968 - val_precision: 0.5364 - val_precision_angry: 0.6272 - val_precision_disgust: 0.4458 - val_precision_fear: 0.5246 - val_precision_happy: 0.7829 - val_precision_neutral: 0.3488 - val_precision_sad: 0.5179 - val_precision_surprise: 0.6848 - val_recall: 0.4564 - val_recall_angry: 0.1293 - val_recall_disgust: 0.2984 - val_recall_fear: 0.0381 - val_recall_happy: 0.7599 - val_recall_neutral: 0.7943 - val_recall_sad: 0.2239 - val_recall_surprise: 0.5736 - lr: 0.0010\n",
      "Epoch 18/50\n",
      "740/740 [==============================] - ETA: 0s - loss: 1.0235 - accuracy: 0.6043 - categorical_accuracy: 0.6043 - precision: 0.7362 - precision_angry: 0.6941 - precision_disgust: 0.4037 - precision_fear: 0.6649 - precision_happy: 0.9049 - precision_neutral: 0.6675 - precision_sad: 0.6174 - precision_surprise: 0.7252 - recall: 0.4530 - recall_angry: 0.3232 - recall_disgust: 0.7296 - recall_fear: 0.1855 - recall_happy: 0.7277 - recall_neutral: 0.4004 - recall_sad: 0.2262 - recall_surprise: 0.7055\n",
      "Epoch 18: val_loss did not improve from 1.31101\n",
      "740/740 [==============================] - 1122s 2s/step - loss: 1.0235 - accuracy: 0.6043 - categorical_accuracy: 0.6043 - precision: 0.7362 - precision_angry: 0.6941 - precision_disgust: 0.4037 - precision_fear: 0.6649 - precision_happy: 0.9049 - precision_neutral: 0.6675 - precision_sad: 0.6174 - precision_surprise: 0.7252 - recall: 0.4530 - recall_angry: 0.3232 - recall_disgust: 0.7296 - recall_fear: 0.1855 - recall_happy: 0.7277 - recall_neutral: 0.4004 - recall_sad: 0.2262 - recall_surprise: 0.7055 - val_loss: 1.5629 - val_accuracy: 0.4761 - val_categorical_accuracy: 0.4761 - val_precision: 0.5452 - val_precision_angry: 0.6184 - val_precision_disgust: 0.3291 - val_precision_fear: 0.5488 - val_precision_happy: 0.7852 - val_precision_neutral: 0.6016 - val_precision_sad: 0.3010 - val_precision_surprise: 0.7395 - val_recall: 0.3748 - val_recall_angry: 0.1149 - val_recall_disgust: 0.2063 - val_recall_fear: 0.0536 - val_recall_happy: 0.6216 - val_recall_neutral: 0.2928 - val_recall_sad: 0.5000 - val_recall_surprise: 0.5317 - lr: 0.0010\n",
      "Epoch 19/50\n",
      "740/740 [==============================] - ETA: 0s - loss: 1.0052 - accuracy: 0.6085 - categorical_accuracy: 0.6085 - precision: 0.7443 - precision_angry: 0.7106 - precision_disgust: 0.4202 - precision_fear: 0.6448 - precision_happy: 0.9105 - precision_neutral: 0.6759 - precision_sad: 0.6329 - precision_surprise: 0.7305 - recall: 0.4612 - recall_angry: 0.3273 - recall_disgust: 0.7579 - recall_fear: 0.1725 - recall_happy: 0.7475 - recall_neutral: 0.3967 - recall_sad: 0.2458 - recall_surprise: 0.7176\n",
      "Epoch 19: val_loss did not improve from 1.31101\n",
      "740/740 [==============================] - 1111s 2s/step - loss: 1.0052 - accuracy: 0.6085 - categorical_accuracy: 0.6085 - precision: 0.7443 - precision_angry: 0.7106 - precision_disgust: 0.4202 - precision_fear: 0.6448 - precision_happy: 0.9105 - precision_neutral: 0.6759 - precision_sad: 0.6329 - precision_surprise: 0.7305 - recall: 0.4612 - recall_angry: 0.3273 - recall_disgust: 0.7579 - recall_fear: 0.1725 - recall_happy: 0.7475 - recall_neutral: 0.3967 - recall_sad: 0.2458 - recall_surprise: 0.7176 - val_loss: 1.3131 - val_accuracy: 0.5406 - val_categorical_accuracy: 0.5406 - val_precision: 0.6352 - val_precision_angry: 0.5608 - val_precision_disgust: 0.2981 - val_precision_fear: 0.5000 - val_precision_happy: 0.7903 - val_precision_neutral: 0.5369 - val_precision_sad: 0.5188 - val_precision_surprise: 0.6687 - val_recall: 0.4412 - val_recall_angry: 0.3479 - val_recall_disgust: 0.3840 - val_recall_fear: 0.0931 - val_recall_happy: 0.7498 - val_recall_neutral: 0.5030 - val_recall_sad: 0.1424 - val_recall_surprise: 0.6707 - lr: 0.0010\n",
      "Epoch 20/50\n",
      "740/740 [==============================] - ETA: 0s - loss: 0.9928 - accuracy: 0.6179 - categorical_accuracy: 0.6179 - precision: 0.7436 - precision_angry: 0.6927 - precision_disgust: 0.4186 - precision_fear: 0.6659 - precision_happy: 0.9076 - precision_neutral: 0.6858 - precision_sad: 0.6368 - precision_surprise: 0.7331 - recall: 0.4714 - recall_angry: 0.3448 - recall_disgust: 0.7584 - recall_fear: 0.1811 - recall_happy: 0.7482 - recall_neutral: 0.4150 - recall_sad: 0.2664 - recall_surprise: 0.7168\n",
      "Epoch 20: val_loss did not improve from 1.31101\n",
      "\n",
      "Epoch 20: ReduceLROnPlateau reducing learning rate to 0.00010000000474974513.\n",
      "740/740 [==============================] - 1120s 2s/step - loss: 0.9928 - accuracy: 0.6179 - categorical_accuracy: 0.6179 - precision: 0.7436 - precision_angry: 0.6927 - precision_disgust: 0.4186 - precision_fear: 0.6659 - precision_happy: 0.9076 - precision_neutral: 0.6858 - precision_sad: 0.6368 - precision_surprise: 0.7331 - recall: 0.4714 - recall_angry: 0.3448 - recall_disgust: 0.7584 - recall_fear: 0.1811 - recall_happy: 0.7482 - recall_neutral: 0.4150 - recall_sad: 0.2664 - recall_surprise: 0.7168 - val_loss: 1.4203 - val_accuracy: 0.5335 - val_categorical_accuracy: 0.5335 - val_precision: 0.6045 - val_precision_angry: 0.5939 - val_precision_disgust: 0.3981 - val_precision_fear: 0.4124 - val_precision_happy: 0.7750 - val_precision_neutral: 0.5431 - val_precision_sad: 0.7385 - val_precision_surprise: 0.5228 - val_recall: 0.4691 - val_recall_angry: 0.2396 - val_recall_disgust: 0.3280 - val_recall_fear: 0.2470 - val_recall_happy: 0.8057 - val_recall_neutral: 0.5469 - val_recall_sad: 0.0496 - val_recall_surprise: 0.8102 - lr: 0.0010\n",
      "Epoch 21/50\n",
      "740/740 [==============================] - ETA: 0s - loss: 0.9075 - accuracy: 0.6408 - categorical_accuracy: 0.6408 - precision: 0.7631 - precision_angry: 0.7072 - precision_disgust: 0.5126 - precision_fear: 0.6900 - precision_happy: 0.9163 - precision_neutral: 0.6931 - precision_sad: 0.6651 - precision_surprise: 0.7600 - recall: 0.5111 - recall_angry: 0.3888 - recall_disgust: 0.8475 - recall_fear: 0.2456 - recall_happy: 0.7754 - recall_neutral: 0.4627 - recall_sad: 0.2888 - recall_surprise: 0.7506\n",
      "Epoch 21: val_loss improved from 1.31101 to 1.01656, saving model to .\\model_mobilenet_v2_transfer_data_augmentation_balanced.h5\n",
      "740/740 [==============================] - 1139s 2s/step - loss: 0.9075 - accuracy: 0.6408 - categorical_accuracy: 0.6408 - precision: 0.7631 - precision_angry: 0.7072 - precision_disgust: 0.5126 - precision_fear: 0.6900 - precision_happy: 0.9163 - precision_neutral: 0.6931 - precision_sad: 0.6651 - precision_surprise: 0.7600 - recall: 0.5111 - recall_angry: 0.3888 - recall_disgust: 0.8475 - recall_fear: 0.2456 - recall_happy: 0.7754 - recall_neutral: 0.4627 - recall_sad: 0.2888 - recall_surprise: 0.7506 - val_loss: 1.0166 - val_accuracy: 0.6202 - val_categorical_accuracy: 0.6202 - val_precision: 0.7151 - val_precision_angry: 0.6548 - val_precision_disgust: 0.4526 - val_precision_fear: 0.5791 - val_precision_happy: 0.9029 - val_precision_neutral: 0.6042 - val_precision_sad: 0.6496 - val_precision_surprise: 0.7198 - val_recall: 0.5260 - val_recall_angry: 0.4015 - val_recall_disgust: 0.4960 - val_recall_fear: 0.1919 - val_recall_happy: 0.7959 - val_recall_neutral: 0.6293 - val_recall_sad: 0.2482 - val_recall_surprise: 0.7644 - lr: 1.0000e-04\n",
      "Epoch 22/50\n",
      "740/740 [==============================] - ETA: 0s - loss: 0.8753 - accuracy: 0.6528 - categorical_accuracy: 0.6528 - precision: 0.7625 - precision_angry: 0.7078 - precision_disgust: 0.5256 - precision_fear: 0.6953 - precision_happy: 0.9178 - precision_neutral: 0.6913 - precision_sad: 0.6631 - precision_surprise: 0.7600 - recall: 0.5343 - recall_angry: 0.4145 - recall_disgust: 0.8370 - recall_fear: 0.2591 - recall_happy: 0.7917 - recall_neutral: 0.4775 - recall_sad: 0.3457 - recall_surprise: 0.7686\n",
      "Epoch 22: val_loss improved from 1.01656 to 0.99751, saving model to .\\model_mobilenet_v2_transfer_data_augmentation_balanced.h5\n",
      "740/740 [==============================] - 1084s 1s/step - loss: 0.8753 - accuracy: 0.6528 - categorical_accuracy: 0.6528 - precision: 0.7625 - precision_angry: 0.7078 - precision_disgust: 0.5256 - precision_fear: 0.6953 - precision_happy: 0.9178 - precision_neutral: 0.6913 - precision_sad: 0.6631 - precision_surprise: 0.7600 - recall: 0.5343 - recall_angry: 0.4145 - recall_disgust: 0.8370 - recall_fear: 0.2591 - recall_happy: 0.7917 - recall_neutral: 0.4775 - recall_sad: 0.3457 - recall_surprise: 0.7686 - val_loss: 0.9975 - val_accuracy: 0.6279 - val_categorical_accuracy: 0.6279 - val_precision: 0.7343 - val_precision_angry: 0.6479 - val_precision_disgust: 0.4826 - val_precision_fear: 0.6583 - val_precision_happy: 0.8976 - val_precision_neutral: 0.6459 - val_precision_sad: 0.6460 - val_precision_surprise: 0.7412 - val_recall: 0.5192 - val_recall_angry: 0.4071 - val_recall_disgust: 0.6587 - val_recall_fear: 0.1890 - val_recall_happy: 0.7959 - val_recall_neutral: 0.5232 - val_recall_sad: 0.2897 - val_recall_surprise: 0.7659 - lr: 1.0000e-04\n",
      "Epoch 23/50\n",
      "740/740 [==============================] - ETA: 0s - loss: 0.8497 - accuracy: 0.6616 - categorical_accuracy: 0.6616 - precision: 0.7706 - precision_angry: 0.7159 - precision_disgust: 0.5673 - precision_fear: 0.6994 - precision_happy: 0.9209 - precision_neutral: 0.7083 - precision_sad: 0.6628 - precision_surprise: 0.7666 - recall: 0.5436 - recall_angry: 0.4328 - recall_disgust: 0.8931 - recall_fear: 0.2746 - recall_happy: 0.7983 - recall_neutral: 0.4883 - recall_sad: 0.3413 - recall_surprise: 0.7738\n",
      "Epoch 23: val_loss did not improve from 0.99751\n",
      "740/740 [==============================] - 1083s 1s/step - loss: 0.8497 - accuracy: 0.6616 - categorical_accuracy: 0.6616 - precision: 0.7706 - precision_angry: 0.7159 - precision_disgust: 0.5673 - precision_fear: 0.6994 - precision_happy: 0.9209 - precision_neutral: 0.7083 - precision_sad: 0.6628 - precision_surprise: 0.7666 - recall: 0.5436 - recall_angry: 0.4328 - recall_disgust: 0.8931 - recall_fear: 0.2746 - recall_happy: 0.7983 - recall_neutral: 0.4883 - recall_sad: 0.3413 - recall_surprise: 0.7738 - val_loss: 0.9995 - val_accuracy: 0.6289 - val_categorical_accuracy: 0.6289 - val_precision: 0.7513 - val_precision_angry: 0.6495 - val_precision_disgust: 0.5489 - val_precision_fear: 0.6516 - val_precision_happy: 0.9383 - val_precision_neutral: 0.6511 - val_precision_sad: 0.6146 - val_precision_surprise: 0.7981 - val_recall: 0.5131 - val_recall_angry: 0.4462 - val_recall_disgust: 0.5840 - val_recall_fear: 0.2399 - val_recall_happy: 0.7582 - val_recall_neutral: 0.5124 - val_recall_sad: 0.2598 - val_recall_surprise: 0.7606 - lr: 1.0000e-04\n",
      "Epoch 24/50\n",
      "740/740 [==============================] - ETA: 0s - loss: 0.8377 - accuracy: 0.6673 - categorical_accuracy: 0.6673 - precision: 0.7736 - precision_angry: 0.7287 - precision_disgust: 0.6016 - precision_fear: 0.6974 - precision_happy: 0.9212 - precision_neutral: 0.7034 - precision_sad: 0.6726 - precision_surprise: 0.7670 - recall: 0.5516 - recall_angry: 0.4397 - recall_disgust: 0.8869 - recall_fear: 0.2870 - recall_happy: 0.8008 - recall_neutral: 0.4984 - recall_sad: 0.3611 - recall_surprise: 0.7717\n",
      "Epoch 24: val_loss improved from 0.99751 to 0.97958, saving model to .\\model_mobilenet_v2_transfer_data_augmentation_balanced.h5\n",
      "740/740 [==============================] - 1100s 1s/step - loss: 0.8377 - accuracy: 0.6673 - categorical_accuracy: 0.6673 - precision: 0.7736 - precision_angry: 0.7287 - precision_disgust: 0.6016 - precision_fear: 0.6974 - precision_happy: 0.9212 - precision_neutral: 0.7034 - precision_sad: 0.6726 - precision_surprise: 0.7670 - recall: 0.5516 - recall_angry: 0.4397 - recall_disgust: 0.8869 - recall_fear: 0.2870 - recall_happy: 0.8008 - recall_neutral: 0.4984 - recall_sad: 0.3611 - recall_surprise: 0.7717 - val_loss: 0.9796 - val_accuracy: 0.6337 - val_categorical_accuracy: 0.6337 - val_precision: 0.7344 - val_precision_angry: 0.6344 - val_precision_disgust: 0.4852 - val_precision_fear: 0.6224 - val_precision_happy: 0.9018 - val_precision_neutral: 0.6561 - val_precision_sad: 0.6373 - val_precision_surprise: 0.7576 - val_recall: 0.5245 - val_recall_angry: 0.4322 - val_recall_disgust: 0.6508 - val_recall_fear: 0.2181 - val_recall_happy: 0.8087 - val_recall_neutral: 0.4723 - val_recall_sad: 0.3209 - val_recall_surprise: 0.7519 - lr: 1.0000e-04\n",
      "Epoch 25/50\n",
      "740/740 [==============================] - ETA: 0s - loss: 0.8209 - accuracy: 0.6711 - categorical_accuracy: 0.6711 - precision: 0.7738 - precision_angry: 0.7214 - precision_disgust: 0.5839 - precision_fear: 0.7005 - precision_happy: 0.9220 - precision_neutral: 0.7175 - precision_sad: 0.6693 - precision_surprise: 0.7706 - recall: 0.5605 - recall_angry: 0.4541 - recall_disgust: 0.8926 - recall_fear: 0.2992 - recall_happy: 0.8017 - recall_neutral: 0.5109 - recall_sad: 0.3743 - recall_surprise: 0.7756\n",
      "Epoch 25: val_loss improved from 0.97958 to 0.97751, saving model to .\\model_mobilenet_v2_transfer_data_augmentation_balanced.h5\n",
      "740/740 [==============================] - 1095s 1s/step - loss: 0.8209 - accuracy: 0.6711 - categorical_accuracy: 0.6711 - precision: 0.7738 - precision_angry: 0.7214 - precision_disgust: 0.5839 - precision_fear: 0.7005 - precision_happy: 0.9220 - precision_neutral: 0.7175 - precision_sad: 0.6693 - precision_surprise: 0.7706 - recall: 0.5605 - recall_angry: 0.4541 - recall_disgust: 0.8926 - recall_fear: 0.2992 - recall_happy: 0.8017 - recall_neutral: 0.5109 - recall_sad: 0.3743 - recall_surprise: 0.7756 - val_loss: 0.9775 - val_accuracy: 0.6308 - val_categorical_accuracy: 0.6308 - val_precision: 0.7403 - val_precision_angry: 0.6448 - val_precision_disgust: 0.5290 - val_precision_fear: 0.6265 - val_precision_happy: 0.8985 - val_precision_neutral: 0.6654 - val_precision_sad: 0.6165 - val_precision_surprise: 0.7823 - val_recall: 0.5219 - val_recall_angry: 0.4416 - val_recall_disgust: 0.6508 - val_recall_fear: 0.2476 - val_recall_happy: 0.8056 - val_recall_neutral: 0.5044 - val_recall_sad: 0.2624 - val_recall_surprise: 0.7264 - lr: 1.0000e-04\n",
      "Epoch 26/50\n",
      "740/740 [==============================] - ETA: 0s - loss: 0.8219 - accuracy: 0.6732 - categorical_accuracy: 0.6732 - precision: 0.7745 - precision_angry: 0.7295 - precision_disgust: 0.5848 - precision_fear: 0.6993 - precision_happy: 0.9234 - precision_neutral: 0.7136 - precision_sad: 0.6729 - precision_surprise: 0.7658 - recall: 0.5622 - recall_angry: 0.4657 - recall_disgust: 0.9010 - recall_fear: 0.2883 - recall_happy: 0.8076 - recall_neutral: 0.5113 - recall_sad: 0.3718 - recall_surprise: 0.7790\n",
      "Epoch 26: val_loss improved from 0.97751 to 0.96822, saving model to .\\model_mobilenet_v2_transfer_data_augmentation_balanced.h5\n",
      "740/740 [==============================] - 1101s 1s/step - loss: 0.8219 - accuracy: 0.6732 - categorical_accuracy: 0.6732 - precision: 0.7745 - precision_angry: 0.7295 - precision_disgust: 0.5848 - precision_fear: 0.6993 - precision_happy: 0.9234 - precision_neutral: 0.7136 - precision_sad: 0.6729 - precision_surprise: 0.7658 - recall: 0.5622 - recall_angry: 0.4657 - recall_disgust: 0.9010 - recall_fear: 0.2883 - recall_happy: 0.8076 - recall_neutral: 0.5113 - recall_sad: 0.3718 - recall_surprise: 0.7790 - val_loss: 0.9682 - val_accuracy: 0.6340 - val_categorical_accuracy: 0.6340 - val_precision: 0.7484 - val_precision_angry: 0.6414 - val_precision_disgust: 0.5748 - val_precision_fear: 0.6046 - val_precision_happy: 0.9064 - val_precision_neutral: 0.6780 - val_precision_sad: 0.6124 - val_precision_surprise: 0.8091 - val_recall: 0.5189 - val_recall_angry: 0.4341 - val_recall_disgust: 0.5887 - val_recall_fear: 0.1895 - val_recall_happy: 0.8072 - val_recall_neutral: 0.4752 - val_recall_sad: 0.3375 - val_recall_surprise: 0.7225 - lr: 1.0000e-04\n",
      "Epoch 27/50\n",
      "740/740 [==============================] - ETA: 0s - loss: 0.8072 - accuracy: 0.6747 - categorical_accuracy: 0.6747 - precision: 0.7754 - precision_angry: 0.7220 - precision_disgust: 0.6096 - precision_fear: 0.6880 - precision_happy: 0.9228 - precision_neutral: 0.7136 - precision_sad: 0.6715 - precision_surprise: 0.7766 - recall: 0.5646 - recall_angry: 0.4655 - recall_disgust: 0.9030 - recall_fear: 0.2834 - recall_happy: 0.8127 - recall_neutral: 0.5123 - recall_sad: 0.3790 - recall_surprise: 0.7824\n",
      "Epoch 27: val_loss did not improve from 0.96822\n",
      "740/740 [==============================] - 1081s 1s/step - loss: 0.8072 - accuracy: 0.6747 - categorical_accuracy: 0.6747 - precision: 0.7754 - precision_angry: 0.7220 - precision_disgust: 0.6096 - precision_fear: 0.6880 - precision_happy: 0.9228 - precision_neutral: 0.7136 - precision_sad: 0.6715 - precision_surprise: 0.7766 - recall: 0.5646 - recall_angry: 0.4655 - recall_disgust: 0.9030 - recall_fear: 0.2834 - recall_happy: 0.8127 - recall_neutral: 0.5123 - recall_sad: 0.3790 - recall_surprise: 0.7824 - val_loss: 0.9779 - val_accuracy: 0.6371 - val_categorical_accuracy: 0.6371 - val_precision: 0.7360 - val_precision_angry: 0.6368 - val_precision_disgust: 0.5948 - val_precision_fear: 0.6091 - val_precision_happy: 0.9178 - val_precision_neutral: 0.6496 - val_precision_sad: 0.6414 - val_precision_surprise: 0.7475 - val_recall: 0.5304 - val_recall_angry: 0.4512 - val_recall_disgust: 0.5520 - val_recall_fear: 0.2229 - val_recall_happy: 0.7710 - val_recall_neutral: 0.5252 - val_recall_sad: 0.3333 - val_recall_surprise: 0.7779 - lr: 1.0000e-04\n",
      "Epoch 28/50\n",
      "740/740 [==============================] - ETA: 0s - loss: 0.8061 - accuracy: 0.6756 - categorical_accuracy: 0.6756 - precision: 0.7776 - precision_angry: 0.7307 - precision_disgust: 0.6083 - precision_fear: 0.7023 - precision_happy: 0.9267 - precision_neutral: 0.7108 - precision_sad: 0.6761 - precision_surprise: 0.7752 - recall: 0.5717 - recall_angry: 0.4772 - recall_disgust: 0.8968 - recall_fear: 0.3027 - recall_happy: 0.8120 - recall_neutral: 0.5194 - recall_sad: 0.3907 - recall_surprise: 0.7814\n",
      "Epoch 28: val_loss improved from 0.96822 to 0.96002, saving model to .\\model_mobilenet_v2_transfer_data_augmentation_balanced.h5\n",
      "740/740 [==============================] - 1081s 1s/step - loss: 0.8061 - accuracy: 0.6756 - categorical_accuracy: 0.6756 - precision: 0.7776 - precision_angry: 0.7307 - precision_disgust: 0.6083 - precision_fear: 0.7023 - precision_happy: 0.9267 - precision_neutral: 0.7108 - precision_sad: 0.6761 - precision_surprise: 0.7752 - recall: 0.5717 - recall_angry: 0.4772 - recall_disgust: 0.8968 - recall_fear: 0.3027 - recall_happy: 0.8120 - recall_neutral: 0.5194 - recall_sad: 0.3907 - recall_surprise: 0.7814 - val_loss: 0.9600 - val_accuracy: 0.6410 - val_categorical_accuracy: 0.6410 - val_precision: 0.7401 - val_precision_angry: 0.6512 - val_precision_disgust: 0.5168 - val_precision_fear: 0.6475 - val_precision_happy: 0.9076 - val_precision_neutral: 0.6630 - val_precision_sad: 0.6111 - val_precision_surprise: 0.7635 - val_recall: 0.5353 - val_recall_angry: 0.4103 - val_recall_disgust: 0.6160 - val_recall_fear: 0.2145 - val_recall_happy: 0.8105 - val_recall_neutral: 0.5356 - val_recall_sad: 0.3289 - val_recall_surprise: 0.7751 - lr: 1.0000e-04\n",
      "Epoch 29/50\n",
      "740/740 [==============================] - ETA: 0s - loss: 0.7934 - accuracy: 0.6806 - categorical_accuracy: 0.6806 - precision: 0.7793 - precision_angry: 0.7218 - precision_disgust: 0.6400 - precision_fear: 0.7114 - precision_happy: 0.9221 - precision_neutral: 0.7128 - precision_sad: 0.6854 - precision_surprise: 0.7796 - recall: 0.5772 - recall_angry: 0.4914 - recall_disgust: 0.9206 - recall_fear: 0.3130 - recall_happy: 0.8100 - recall_neutral: 0.5250 - recall_sad: 0.3920 - recall_surprise: 0.7908\n",
      "Epoch 29: val_loss improved from 0.96002 to 0.95167, saving model to .\\model_mobilenet_v2_transfer_data_augmentation_balanced.h5\n",
      "740/740 [==============================] - 1047s 1s/step - loss: 0.7934 - accuracy: 0.6806 - categorical_accuracy: 0.6806 - precision: 0.7793 - precision_angry: 0.7218 - precision_disgust: 0.6400 - precision_fear: 0.7114 - precision_happy: 0.9221 - precision_neutral: 0.7128 - precision_sad: 0.6854 - precision_surprise: 0.7796 - recall: 0.5772 - recall_angry: 0.4914 - recall_disgust: 0.9206 - recall_fear: 0.3130 - recall_happy: 0.8100 - recall_neutral: 0.5250 - recall_sad: 0.3920 - recall_surprise: 0.7908 - val_loss: 0.9517 - val_accuracy: 0.6428 - val_categorical_accuracy: 0.6428 - val_precision: 0.7459 - val_precision_angry: 0.6923 - val_precision_disgust: 0.6455 - val_precision_fear: 0.6444 - val_precision_happy: 0.9049 - val_precision_neutral: 0.6574 - val_precision_sad: 0.6025 - val_precision_surprise: 0.7511 - val_recall: 0.5290 - val_recall_angry: 0.4171 - val_recall_disgust: 0.5635 - val_recall_fear: 0.2079 - val_recall_happy: 0.8106 - val_recall_neutral: 0.4960 - val_recall_sad: 0.3481 - val_recall_surprise: 0.7591 - lr: 1.0000e-04\n",
      "Epoch 30/50\n",
      "740/740 [==============================] - ETA: 0s - loss: 0.7778 - accuracy: 0.6844 - categorical_accuracy: 0.6844 - precision: 0.7827 - precision_angry: 0.7330 - precision_disgust: 0.6676 - precision_fear: 0.6942 - precision_happy: 0.9238 - precision_neutral: 0.7173 - precision_sad: 0.6927 - precision_surprise: 0.7736 - recall: 0.5753 - recall_angry: 0.4883 - recall_disgust: 0.9365 - recall_fear: 0.3071 - recall_happy: 0.8163 - recall_neutral: 0.5161 - recall_sad: 0.3873 - recall_surprise: 0.7879\n",
      "Epoch 30: val_loss did not improve from 0.95167\n",
      "740/740 [==============================] - 1067s 1s/step - loss: 0.7778 - accuracy: 0.6844 - categorical_accuracy: 0.6844 - precision: 0.7827 - precision_angry: 0.7330 - precision_disgust: 0.6676 - precision_fear: 0.6942 - precision_happy: 0.9238 - precision_neutral: 0.7173 - precision_sad: 0.6927 - precision_surprise: 0.7736 - recall: 0.5753 - recall_angry: 0.4883 - recall_disgust: 0.9365 - recall_fear: 0.3071 - recall_happy: 0.8163 - recall_neutral: 0.5161 - recall_sad: 0.3873 - recall_surprise: 0.7879 - val_loss: 0.9643 - val_accuracy: 0.6452 - val_categorical_accuracy: 0.6452 - val_precision: 0.7421 - val_precision_angry: 0.7091 - val_precision_disgust: 0.5954 - val_precision_fear: 0.6455 - val_precision_happy: 0.8970 - val_precision_neutral: 0.6407 - val_precision_sad: 0.6159 - val_precision_surprise: 0.7751 - val_recall: 0.5516 - val_recall_angry: 0.4068 - val_recall_disgust: 0.6240 - val_recall_fear: 0.2667 - val_recall_happy: 0.8282 - val_recall_neutral: 0.5534 - val_recall_sad: 0.3670 - val_recall_surprise: 0.7375 - lr: 1.0000e-04\n",
      "Epoch 31/50\n",
      "740/740 [==============================] - ETA: 0s - loss: 0.7880 - accuracy: 0.6786 - categorical_accuracy: 0.6786 - precision: 0.7790 - precision_angry: 0.7325 - precision_disgust: 0.6596 - precision_fear: 0.7052 - precision_happy: 0.9244 - precision_neutral: 0.7052 - precision_sad: 0.6764 - precision_surprise: 0.7758 - recall: 0.5734 - recall_angry: 0.4882 - recall_disgust: 0.9266 - recall_fear: 0.3109 - recall_happy: 0.8112 - recall_neutral: 0.5119 - recall_sad: 0.3854 - recall_surprise: 0.7892\n",
      "Epoch 31: val_loss did not improve from 0.95167\n",
      "740/740 [==============================] - 1056s 1s/step - loss: 0.7880 - accuracy: 0.6786 - categorical_accuracy: 0.6786 - precision: 0.7790 - precision_angry: 0.7325 - precision_disgust: 0.6596 - precision_fear: 0.7052 - precision_happy: 0.9244 - precision_neutral: 0.7052 - precision_sad: 0.6764 - precision_surprise: 0.7758 - recall: 0.5734 - recall_angry: 0.4882 - recall_disgust: 0.9266 - recall_fear: 0.3109 - recall_happy: 0.8112 - recall_neutral: 0.5119 - recall_sad: 0.3854 - recall_surprise: 0.7892 - val_loss: 0.9548 - val_accuracy: 0.6418 - val_categorical_accuracy: 0.6418 - val_precision: 0.7416 - val_precision_angry: 0.6661 - val_precision_disgust: 0.5878 - val_precision_fear: 0.6391 - val_precision_happy: 0.9042 - val_precision_neutral: 0.6628 - val_precision_sad: 0.5931 - val_precision_surprise: 0.7757 - val_recall: 0.5401 - val_recall_angry: 0.4579 - val_recall_disgust: 0.6160 - val_recall_fear: 0.2029 - val_recall_happy: 0.8168 - val_recall_neutral: 0.5134 - val_recall_sad: 0.3543 - val_recall_surprise: 0.7545 - lr: 1.0000e-04\n",
      "Epoch 32/50\n",
      "740/740 [==============================] - ETA: 0s - loss: 0.7807 - accuracy: 0.6839 - categorical_accuracy: 0.6839 - precision: 0.7838 - precision_angry: 0.7371 - precision_disgust: 0.6691 - precision_fear: 0.7050 - precision_happy: 0.9268 - precision_neutral: 0.7168 - precision_sad: 0.6824 - precision_surprise: 0.7784 - recall: 0.5795 - recall_angry: 0.4947 - recall_disgust: 0.9266 - recall_fear: 0.3078 - recall_happy: 0.8161 - recall_neutral: 0.5255 - recall_sad: 0.3942 - recall_surprise: 0.7937\n",
      "Epoch 32: val_loss did not improve from 0.95167\n",
      "740/740 [==============================] - 1080s 1s/step - loss: 0.7807 - accuracy: 0.6839 - categorical_accuracy: 0.6839 - precision: 0.7838 - precision_angry: 0.7371 - precision_disgust: 0.6691 - precision_fear: 0.7050 - precision_happy: 0.9268 - precision_neutral: 0.7168 - precision_sad: 0.6824 - precision_surprise: 0.7784 - recall: 0.5795 - recall_angry: 0.4947 - recall_disgust: 0.9266 - recall_fear: 0.3078 - recall_happy: 0.8161 - recall_neutral: 0.5255 - recall_sad: 0.3942 - recall_surprise: 0.7937 - val_loss: 0.9736 - val_accuracy: 0.6413 - val_categorical_accuracy: 0.6413 - val_precision: 0.7398 - val_precision_angry: 0.6509 - val_precision_disgust: 0.6190 - val_precision_fear: 0.6429 - val_precision_happy: 0.9071 - val_precision_neutral: 0.6491 - val_precision_sad: 0.6143 - val_precision_surprise: 0.7774 - val_recall: 0.5438 - val_recall_angry: 0.4552 - val_recall_disgust: 0.6290 - val_recall_fear: 0.2255 - val_recall_happy: 0.7973 - val_recall_neutral: 0.5721 - val_recall_sad: 0.3271 - val_recall_surprise: 0.7515 - lr: 1.0000e-04\n",
      "Epoch 33/50\n",
      "740/740 [==============================] - ETA: 0s - loss: 0.7688 - accuracy: 0.6863 - categorical_accuracy: 0.6863 - precision: 0.7836 - precision_angry: 0.7401 - precision_disgust: 0.6752 - precision_fear: 0.6913 - precision_happy: 0.9285 - precision_neutral: 0.7120 - precision_sad: 0.6784 - precision_surprise: 0.7910 - recall: 0.5827 - recall_angry: 0.4941 - recall_disgust: 0.9426 - recall_fear: 0.3168 - recall_happy: 0.8178 - recall_neutral: 0.5245 - recall_sad: 0.3992 - recall_surprise: 0.7999\n",
      "Epoch 33: val_loss did not improve from 0.95167\n",
      "740/740 [==============================] - 1061s 1s/step - loss: 0.7688 - accuracy: 0.6863 - categorical_accuracy: 0.6863 - precision: 0.7836 - precision_angry: 0.7401 - precision_disgust: 0.6752 - precision_fear: 0.6913 - precision_happy: 0.9285 - precision_neutral: 0.7120 - precision_sad: 0.6784 - precision_surprise: 0.7910 - recall: 0.5827 - recall_angry: 0.4941 - recall_disgust: 0.9426 - recall_fear: 0.3168 - recall_happy: 0.8178 - recall_neutral: 0.5245 - recall_sad: 0.3992 - recall_surprise: 0.7999 - val_loss: 0.9703 - val_accuracy: 0.6379 - val_categorical_accuracy: 0.6379 - val_precision: 0.7496 - val_precision_angry: 0.6504 - val_precision_disgust: 0.6423 - val_precision_fear: 0.6644 - val_precision_happy: 0.9274 - val_precision_neutral: 0.6918 - val_precision_sad: 0.6033 - val_precision_surprise: 0.7571 - val_recall: 0.5279 - val_recall_angry: 0.4878 - val_recall_disgust: 0.6320 - val_recall_fear: 0.2312 - val_recall_happy: 0.7782 - val_recall_neutral: 0.4276 - val_recall_sad: 0.3720 - val_recall_surprise: 0.7628 - lr: 1.0000e-04\n",
      "Epoch 34/50\n",
      "740/740 [==============================] - ETA: 0s - loss: 0.7726 - accuracy: 0.6899 - categorical_accuracy: 0.6899 - precision: 0.7833 - precision_angry: 0.7410 - precision_disgust: 0.6676 - precision_fear: 0.7017 - precision_happy: 0.9194 - precision_neutral: 0.7207 - precision_sad: 0.6807 - precision_surprise: 0.7840 - recall: 0.5808 - recall_angry: 0.5000 - recall_disgust: 0.9267 - recall_fear: 0.3266 - recall_happy: 0.8176 - recall_neutral: 0.5229 - recall_sad: 0.3827 - recall_surprise: 0.7931\n",
      "Epoch 34: val_loss did not improve from 0.95167\n",
      "\n",
      "Epoch 34: ReduceLROnPlateau reducing learning rate to 1.0000000474974514e-05.\n",
      "740/740 [==============================] - 1044s 1s/step - loss: 0.7726 - accuracy: 0.6899 - categorical_accuracy: 0.6899 - precision: 0.7833 - precision_angry: 0.7410 - precision_disgust: 0.6676 - precision_fear: 0.7017 - precision_happy: 0.9194 - precision_neutral: 0.7207 - precision_sad: 0.6807 - precision_surprise: 0.7840 - recall: 0.5808 - recall_angry: 0.5000 - recall_disgust: 0.9267 - recall_fear: 0.3266 - recall_happy: 0.8176 - recall_neutral: 0.5229 - recall_sad: 0.3827 - recall_surprise: 0.7931 - val_loss: 0.9674 - val_accuracy: 0.6394 - val_categorical_accuracy: 0.6394 - val_precision: 0.7472 - val_precision_angry: 0.6272 - val_precision_disgust: 0.6293 - val_precision_fear: 0.6391 - val_precision_happy: 0.9095 - val_precision_neutral: 0.6863 - val_precision_sad: 0.6377 - val_precision_surprise: 0.7686 - val_recall: 0.5391 - val_recall_angry: 0.5135 - val_recall_disgust: 0.5794 - val_recall_fear: 0.2491 - val_recall_happy: 0.8101 - val_recall_neutral: 0.4709 - val_recall_sad: 0.3244 - val_recall_surprise: 0.7511 - lr: 1.0000e-04\n",
      "Epoch 35/50\n",
      "740/740 [==============================] - ETA: 0s - loss: 0.7537 - accuracy: 0.6947 - categorical_accuracy: 0.6947 - precision: 0.7878 - precision_angry: 0.7467 - precision_disgust: 0.6671 - precision_fear: 0.7180 - precision_happy: 0.9239 - precision_neutral: 0.7223 - precision_sad: 0.6893 - precision_surprise: 0.7880 - recall: 0.5897 - recall_angry: 0.5182 - recall_disgust: 0.9485 - recall_fear: 0.3213 - recall_happy: 0.8180 - recall_neutral: 0.5305 - recall_sad: 0.4102 - recall_surprise: 0.7987\n",
      "Epoch 35: val_loss did not improve from 0.95167\n",
      "740/740 [==============================] - 1084s 1s/step - loss: 0.7537 - accuracy: 0.6947 - categorical_accuracy: 0.6947 - precision: 0.7878 - precision_angry: 0.7467 - precision_disgust: 0.6671 - precision_fear: 0.7180 - precision_happy: 0.9239 - precision_neutral: 0.7223 - precision_sad: 0.6893 - precision_surprise: 0.7880 - recall: 0.5897 - recall_angry: 0.5182 - recall_disgust: 0.9485 - recall_fear: 0.3213 - recall_happy: 0.8180 - recall_neutral: 0.5305 - recall_sad: 0.4102 - recall_surprise: 0.7987 - val_loss: 0.9562 - val_accuracy: 0.6500 - val_categorical_accuracy: 0.6500 - val_precision: 0.7482 - val_precision_angry: 0.6515 - val_precision_disgust: 0.6186 - val_precision_fear: 0.6317 - val_precision_happy: 0.9112 - val_precision_neutral: 0.6730 - val_precision_sad: 0.6412 - val_precision_surprise: 0.7668 - val_recall: 0.5450 - val_recall_angry: 0.4885 - val_recall_disgust: 0.5794 - val_recall_fear: 0.2521 - val_recall_happy: 0.8145 - val_recall_neutral: 0.4881 - val_recall_sad: 0.3464 - val_recall_surprise: 0.7633 - lr: 1.0000e-05\n",
      "Epoch 36/50\n",
      "740/740 [==============================] - ETA: 0s - loss: 0.7568 - accuracy: 0.6936 - categorical_accuracy: 0.6936 - precision: 0.7875 - precision_angry: 0.7436 - precision_disgust: 0.6930 - precision_fear: 0.7149 - precision_happy: 0.9257 - precision_neutral: 0.7157 - precision_sad: 0.6915 - precision_surprise: 0.7870 - recall: 0.5897 - recall_angry: 0.5194 - recall_disgust: 0.9386 - recall_fear: 0.3294 - recall_happy: 0.8183 - recall_neutral: 0.5231 - recall_sad: 0.4154 - recall_surprise: 0.7929\n",
      "Epoch 36: val_loss improved from 0.95167 to 0.95086, saving model to .\\model_mobilenet_v2_transfer_data_augmentation_balanced.h5\n",
      "740/740 [==============================] - 1091s 1s/step - loss: 0.7568 - accuracy: 0.6936 - categorical_accuracy: 0.6936 - precision: 0.7875 - precision_angry: 0.7436 - precision_disgust: 0.6930 - precision_fear: 0.7149 - precision_happy: 0.9257 - precision_neutral: 0.7157 - precision_sad: 0.6915 - precision_surprise: 0.7870 - recall: 0.5897 - recall_angry: 0.5194 - recall_disgust: 0.9386 - recall_fear: 0.3294 - recall_happy: 0.8183 - recall_neutral: 0.5231 - recall_sad: 0.4154 - recall_surprise: 0.7929 - val_loss: 0.9509 - val_accuracy: 0.6522 - val_categorical_accuracy: 0.6522 - val_precision: 0.7528 - val_precision_angry: 0.6755 - val_precision_disgust: 0.6475 - val_precision_fear: 0.6366 - val_precision_happy: 0.9177 - val_precision_neutral: 0.6890 - val_precision_sad: 0.6098 - val_precision_surprise: 0.7725 - val_recall: 0.5581 - val_recall_angry: 0.4975 - val_recall_disgust: 0.6320 - val_recall_fear: 0.2610 - val_recall_happy: 0.8202 - val_recall_neutral: 0.5183 - val_recall_sad: 0.3577 - val_recall_surprise: 0.7702 - lr: 1.0000e-05\n",
      "Epoch 37/50\n",
      "740/740 [==============================] - ETA: 0s - loss: 0.7517 - accuracy: 0.6941 - categorical_accuracy: 0.6941 - precision: 0.7871 - precision_angry: 0.7501 - precision_disgust: 0.6958 - precision_fear: 0.7223 - precision_happy: 0.9267 - precision_neutral: 0.7165 - precision_sad: 0.6766 - precision_surprise: 0.7858 - recall: 0.5919 - recall_angry: 0.5030 - recall_disgust: 0.9465 - recall_fear: 0.3344 - recall_happy: 0.8231 - recall_neutral: 0.5367 - recall_sad: 0.4158 - recall_surprise: 0.7920\n",
      "Epoch 37: val_loss did not improve from 0.95086\n",
      "740/740 [==============================] - 1073s 1s/step - loss: 0.7517 - accuracy: 0.6941 - categorical_accuracy: 0.6941 - precision: 0.7871 - precision_angry: 0.7501 - precision_disgust: 0.6958 - precision_fear: 0.7223 - precision_happy: 0.9267 - precision_neutral: 0.7165 - precision_sad: 0.6766 - precision_surprise: 0.7858 - recall: 0.5919 - recall_angry: 0.5030 - recall_disgust: 0.9465 - recall_fear: 0.3344 - recall_happy: 0.8231 - recall_neutral: 0.5367 - recall_sad: 0.4158 - recall_surprise: 0.7920 - val_loss: 0.9577 - val_accuracy: 0.6433 - val_categorical_accuracy: 0.6433 - val_precision: 0.7387 - val_precision_angry: 0.6571 - val_precision_disgust: 0.6364 - val_precision_fear: 0.6078 - val_precision_happy: 0.9081 - val_precision_neutral: 0.6599 - val_precision_sad: 0.6080 - val_precision_surprise: 0.7734 - val_recall: 0.5459 - val_recall_angry: 0.4499 - val_recall_disgust: 0.6111 - val_recall_fear: 0.2586 - val_recall_happy: 0.8044 - val_recall_neutral: 0.5158 - val_recall_sad: 0.3594 - val_recall_surprise: 0.7652 - lr: 1.0000e-05\n",
      "Epoch 38/50\n",
      "740/740 [==============================] - ETA: 0s - loss: 0.7509 - accuracy: 0.6965 - categorical_accuracy: 0.6965 - precision: 0.7898 - precision_angry: 0.7413 - precision_disgust: 0.6801 - precision_fear: 0.7104 - precision_happy: 0.9294 - precision_neutral: 0.7251 - precision_sad: 0.6896 - precision_surprise: 0.7957 - recall: 0.5959 - recall_angry: 0.5120 - recall_disgust: 0.9423 - recall_fear: 0.3405 - recall_happy: 0.8236 - recall_neutral: 0.5421 - recall_sad: 0.4119 - recall_surprise: 0.8062\n",
      "Epoch 38: val_loss did not improve from 0.95086\n",
      "740/740 [==============================] - 1055s 1s/step - loss: 0.7509 - accuracy: 0.6965 - categorical_accuracy: 0.6965 - precision: 0.7898 - precision_angry: 0.7413 - precision_disgust: 0.6801 - precision_fear: 0.7104 - precision_happy: 0.9294 - precision_neutral: 0.7251 - precision_sad: 0.6896 - precision_surprise: 0.7957 - recall: 0.5959 - recall_angry: 0.5120 - recall_disgust: 0.9423 - recall_fear: 0.3405 - recall_happy: 0.8236 - recall_neutral: 0.5421 - recall_sad: 0.4119 - recall_surprise: 0.8062 - val_loss: 0.9652 - val_accuracy: 0.6433 - val_categorical_accuracy: 0.6433 - val_precision: 0.7422 - val_precision_angry: 0.6684 - val_precision_disgust: 0.5909 - val_precision_fear: 0.6327 - val_precision_happy: 0.9132 - val_precision_neutral: 0.6529 - val_precision_sad: 0.6299 - val_precision_surprise: 0.7629 - val_recall: 0.5487 - val_recall_angry: 0.4787 - val_recall_disgust: 0.6240 - val_recall_fear: 0.2593 - val_recall_happy: 0.8048 - val_recall_neutral: 0.4861 - val_recall_sad: 0.3825 - val_recall_surprise: 0.7606 - lr: 1.0000e-05\n",
      "Epoch 39/50\n",
      "740/740 [==============================] - ETA: 0s - loss: 0.7528 - accuracy: 0.6981 - categorical_accuracy: 0.6981 - precision: 0.7877 - precision_angry: 0.7478 - precision_disgust: 0.7039 - precision_fear: 0.7060 - precision_happy: 0.9265 - precision_neutral: 0.7181 - precision_sad: 0.6813 - precision_surprise: 0.7911 - recall: 0.5933 - recall_angry: 0.5256 - recall_disgust: 0.9422 - recall_fear: 0.3269 - recall_happy: 0.8208 - recall_neutral: 0.5387 - recall_sad: 0.4036 - recall_surprise: 0.8066\n",
      "Epoch 39: val_loss did not improve from 0.95086\n",
      "740/740 [==============================] - 1075s 1s/step - loss: 0.7528 - accuracy: 0.6981 - categorical_accuracy: 0.6981 - precision: 0.7877 - precision_angry: 0.7478 - precision_disgust: 0.7039 - precision_fear: 0.7060 - precision_happy: 0.9265 - precision_neutral: 0.7181 - precision_sad: 0.6813 - precision_surprise: 0.7911 - recall: 0.5933 - recall_angry: 0.5256 - recall_disgust: 0.9422 - recall_fear: 0.3269 - recall_happy: 0.8208 - recall_neutral: 0.5387 - recall_sad: 0.4036 - recall_surprise: 0.8066 - val_loss: 0.9561 - val_accuracy: 0.6474 - val_categorical_accuracy: 0.6474 - val_precision: 0.7459 - val_precision_angry: 0.6610 - val_precision_disgust: 0.6142 - val_precision_fear: 0.6287 - val_precision_happy: 0.9255 - val_precision_neutral: 0.6675 - val_precision_sad: 0.6290 - val_precision_surprise: 0.7639 - val_recall: 0.5545 - val_recall_angry: 0.4762 - val_recall_disgust: 0.6240 - val_recall_fear: 0.2768 - val_recall_happy: 0.8000 - val_recall_neutral: 0.5306 - val_recall_sad: 0.3611 - val_recall_surprise: 0.7697 - lr: 1.0000e-05\n",
      "Epoch 40/50\n",
      "740/740 [==============================] - ETA: 0s - loss: 0.7452 - accuracy: 0.6969 - categorical_accuracy: 0.6969 - precision: 0.7897 - precision_angry: 0.7446 - precision_disgust: 0.7205 - precision_fear: 0.7138 - precision_happy: 0.9281 - precision_neutral: 0.7243 - precision_sad: 0.6884 - precision_surprise: 0.7854 - recall: 0.5953 - recall_angry: 0.5199 - recall_disgust: 0.9446 - recall_fear: 0.3431 - recall_happy: 0.8180 - recall_neutral: 0.5454 - recall_sad: 0.4092 - recall_surprise: 0.7981\n",
      "Epoch 40: val_loss did not improve from 0.95086\n",
      "740/740 [==============================] - 1082s 1s/step - loss: 0.7452 - accuracy: 0.6969 - categorical_accuracy: 0.6969 - precision: 0.7897 - precision_angry: 0.7446 - precision_disgust: 0.7205 - precision_fear: 0.7138 - precision_happy: 0.9281 - precision_neutral: 0.7243 - precision_sad: 0.6884 - precision_surprise: 0.7854 - recall: 0.5953 - recall_angry: 0.5199 - recall_disgust: 0.9446 - recall_fear: 0.3431 - recall_happy: 0.8180 - recall_neutral: 0.5454 - recall_sad: 0.4092 - recall_surprise: 0.7981 - val_loss: 0.9603 - val_accuracy: 0.6461 - val_categorical_accuracy: 0.6461 - val_precision: 0.7422 - val_precision_angry: 0.6689 - val_precision_disgust: 0.6311 - val_precision_fear: 0.6292 - val_precision_happy: 0.9102 - val_precision_neutral: 0.6702 - val_precision_sad: 0.6059 - val_precision_surprise: 0.7587 - val_recall: 0.5504 - val_recall_angry: 0.4812 - val_recall_disgust: 0.6160 - val_recall_fear: 0.2670 - val_recall_happy: 0.8118 - val_recall_neutral: 0.5015 - val_recall_sad: 0.3602 - val_recall_surprise: 0.7598 - lr: 1.0000e-05\n",
      "Epoch 41/50\n",
      "740/740 [==============================] - ETA: 0s - loss: 0.7476 - accuracy: 0.6970 - categorical_accuracy: 0.6970 - precision: 0.7889 - precision_angry: 0.7313 - precision_disgust: 0.7076 - precision_fear: 0.7132 - precision_happy: 0.9279 - precision_neutral: 0.7282 - precision_sad: 0.6918 - precision_surprise: 0.7865 - recall: 0.5936 - recall_angry: 0.5074 - recall_disgust: 0.9584 - recall_fear: 0.3380 - recall_happy: 0.8205 - recall_neutral: 0.5329 - recall_sad: 0.4151 - recall_surprise: 0.8075\n",
      "Epoch 41: val_loss did not improve from 0.95086\n",
      "\n",
      "Epoch 41: ReduceLROnPlateau reducing learning rate to 1e-05.\n",
      "740/740 [==============================] - 1068s 1s/step - loss: 0.7476 - accuracy: 0.6970 - categorical_accuracy: 0.6970 - precision: 0.7889 - precision_angry: 0.7313 - precision_disgust: 0.7076 - precision_fear: 0.7132 - precision_happy: 0.9279 - precision_neutral: 0.7282 - precision_sad: 0.6918 - precision_surprise: 0.7865 - recall: 0.5936 - recall_angry: 0.5074 - recall_disgust: 0.9584 - recall_fear: 0.3380 - recall_happy: 0.8205 - recall_neutral: 0.5329 - recall_sad: 0.4151 - recall_surprise: 0.8075 - val_loss: 0.9539 - val_accuracy: 0.6481 - val_categorical_accuracy: 0.6481 - val_precision: 0.7400 - val_precision_angry: 0.6530 - val_precision_disgust: 0.6080 - val_precision_fear: 0.6152 - val_precision_happy: 0.9146 - val_precision_neutral: 0.6581 - val_precision_sad: 0.6070 - val_precision_surprise: 0.7766 - val_recall: 0.5521 - val_recall_angry: 0.4487 - val_recall_disgust: 0.6129 - val_recall_fear: 0.2604 - val_recall_happy: 0.8191 - val_recall_neutral: 0.5342 - val_recall_sad: 0.3567 - val_recall_surprise: 0.7625 - lr: 1.0000e-05\n",
      "Epoch 42/50\n",
      "740/740 [==============================] - ETA: 0s - loss: 0.7457 - accuracy: 0.6967 - categorical_accuracy: 0.6967 - precision: 0.7918 - precision_angry: 0.7496 - precision_disgust: 0.7073 - precision_fear: 0.7275 - precision_happy: 0.9276 - precision_neutral: 0.7257 - precision_sad: 0.6820 - precision_surprise: 0.7943 - recall: 0.5969 - recall_angry: 0.5232 - recall_disgust: 0.9444 - recall_fear: 0.3454 - recall_happy: 0.8208 - recall_neutral: 0.5461 - recall_sad: 0.4049 - recall_surprise: 0.8047\n",
      "Epoch 42: val_loss did not improve from 0.95086\n",
      "740/740 [==============================] - 1091s 1s/step - loss: 0.7457 - accuracy: 0.6967 - categorical_accuracy: 0.6967 - precision: 0.7918 - precision_angry: 0.7496 - precision_disgust: 0.7073 - precision_fear: 0.7275 - precision_happy: 0.9276 - precision_neutral: 0.7257 - precision_sad: 0.6820 - precision_surprise: 0.7943 - recall: 0.5969 - recall_angry: 0.5232 - recall_disgust: 0.9444 - recall_fear: 0.3454 - recall_happy: 0.8208 - recall_neutral: 0.5461 - recall_sad: 0.4049 - recall_surprise: 0.8047 - val_loss: 0.9612 - val_accuracy: 0.6486 - val_categorical_accuracy: 0.6486 - val_precision: 0.7410 - val_precision_angry: 0.6766 - val_precision_disgust: 0.5674 - val_precision_fear: 0.6229 - val_precision_happy: 0.9158 - val_precision_neutral: 0.6662 - val_precision_sad: 0.6078 - val_precision_surprise: 0.7575 - val_recall: 0.5511 - val_recall_angry: 0.4720 - val_recall_disgust: 0.6349 - val_recall_fear: 0.2648 - val_recall_happy: 0.8118 - val_recall_neutral: 0.5128 - val_recall_sad: 0.3546 - val_recall_surprise: 0.7702 - lr: 1.0000e-05\n",
      "Epoch 43/50\n",
      "740/740 [==============================] - ETA: 0s - loss: 0.7412 - accuracy: 0.6962 - categorical_accuracy: 0.6962 - precision: 0.7883 - precision_angry: 0.7364 - precision_disgust: 0.7171 - precision_fear: 0.7035 - precision_happy: 0.9272 - precision_neutral: 0.7210 - precision_sad: 0.6883 - precision_surprise: 0.7951 - recall: 0.5969 - recall_angry: 0.5178 - recall_disgust: 0.9504 - recall_fear: 0.3443 - recall_happy: 0.8242 - recall_neutral: 0.5407 - recall_sad: 0.4106 - recall_surprise: 0.8041\n",
      "Epoch 43: val_loss did not improve from 0.95086\n",
      "740/740 [==============================] - 1109s 1s/step - loss: 0.7412 - accuracy: 0.6962 - categorical_accuracy: 0.6962 - precision: 0.7883 - precision_angry: 0.7364 - precision_disgust: 0.7171 - precision_fear: 0.7035 - precision_happy: 0.9272 - precision_neutral: 0.7210 - precision_sad: 0.6883 - precision_surprise: 0.7951 - recall: 0.5969 - recall_angry: 0.5178 - recall_disgust: 0.9504 - recall_fear: 0.3443 - recall_happy: 0.8242 - recall_neutral: 0.5407 - recall_sad: 0.4106 - recall_surprise: 0.8041 - val_loss: 0.9547 - val_accuracy: 0.6491 - val_categorical_accuracy: 0.6491 - val_precision: 0.7454 - val_precision_angry: 0.6766 - val_precision_disgust: 0.6016 - val_precision_fear: 0.6044 - val_precision_happy: 0.9189 - val_precision_neutral: 0.6624 - val_precision_sad: 0.6211 - val_precision_surprise: 0.7793 - val_recall: 0.5533 - val_recall_angry: 0.4702 - val_recall_disgust: 0.5873 - val_recall_fear: 0.2635 - val_recall_happy: 0.8059 - val_recall_neutral: 0.5154 - val_recall_sad: 0.3705 - val_recall_surprise: 0.7828 - lr: 1.0000e-05\n",
      "Epoch 44/50\n",
      "740/740 [==============================] - ETA: 0s - loss: 0.7439 - accuracy: 0.6977 - categorical_accuracy: 0.6977 - precision: 0.7905 - precision_angry: 0.7412 - precision_disgust: 0.7221 - precision_fear: 0.7179 - precision_happy: 0.9266 - precision_neutral: 0.7210 - precision_sad: 0.6946 - precision_surprise: 0.7899 - recall: 0.5978 - recall_angry: 0.5071 - recall_disgust: 0.9484 - recall_fear: 0.3478 - recall_happy: 0.8239 - recall_neutral: 0.5414 - recall_sad: 0.4156 - recall_surprise: 0.8140\n",
      "Epoch 44: val_loss did not improve from 0.95086\n",
      "740/740 [==============================] - 1077s 1s/step - loss: 0.7439 - accuracy: 0.6977 - categorical_accuracy: 0.6977 - precision: 0.7905 - precision_angry: 0.7412 - precision_disgust: 0.7221 - precision_fear: 0.7179 - precision_happy: 0.9266 - precision_neutral: 0.7210 - precision_sad: 0.6946 - precision_surprise: 0.7899 - recall: 0.5978 - recall_angry: 0.5071 - recall_disgust: 0.9484 - recall_fear: 0.3478 - recall_happy: 0.8239 - recall_neutral: 0.5414 - recall_sad: 0.4156 - recall_surprise: 0.8140 - val_loss: 0.9580 - val_accuracy: 0.6467 - val_categorical_accuracy: 0.6467 - val_precision: 0.7406 - val_precision_angry: 0.6547 - val_precision_disgust: 0.6417 - val_precision_fear: 0.6319 - val_precision_happy: 0.9088 - val_precision_neutral: 0.6513 - val_precision_sad: 0.6271 - val_precision_surprise: 0.7710 - val_recall: 0.5547 - val_recall_angry: 0.4665 - val_recall_disgust: 0.6111 - val_recall_fear: 0.2758 - val_recall_happy: 0.8085 - val_recall_neutral: 0.5045 - val_recall_sad: 0.3870 - val_recall_surprise: 0.7652 - lr: 1.0000e-05\n",
      "Epoch 45/50\n",
      "740/740 [==============================] - ETA: 0s - loss: 0.7455 - accuracy: 0.6978 - categorical_accuracy: 0.6978 - precision: 0.7896 - precision_angry: 0.7378 - precision_disgust: 0.6928 - precision_fear: 0.7121 - precision_happy: 0.9290 - precision_neutral: 0.7309 - precision_sad: 0.6964 - precision_surprise: 0.7808 - recall: 0.5953 - recall_angry: 0.5203 - recall_disgust: 0.9465 - recall_fear: 0.3374 - recall_happy: 0.8235 - recall_neutral: 0.5427 - recall_sad: 0.4148 - recall_surprise: 0.7893\n",
      "Epoch 45: val_loss did not improve from 0.95086\n",
      "740/740 [==============================] - 1067s 1s/step - loss: 0.7455 - accuracy: 0.6978 - categorical_accuracy: 0.6978 - precision: 0.7896 - precision_angry: 0.7378 - precision_disgust: 0.6928 - precision_fear: 0.7121 - precision_happy: 0.9290 - precision_neutral: 0.7309 - precision_sad: 0.6964 - precision_surprise: 0.7808 - recall: 0.5953 - recall_angry: 0.5203 - recall_disgust: 0.9465 - recall_fear: 0.3374 - recall_happy: 0.8235 - recall_neutral: 0.5427 - recall_sad: 0.4148 - recall_surprise: 0.7893 - val_loss: 0.9558 - val_accuracy: 0.6447 - val_categorical_accuracy: 0.6447 - val_precision: 0.7371 - val_precision_angry: 0.6380 - val_precision_disgust: 0.6423 - val_precision_fear: 0.6070 - val_precision_happy: 0.9085 - val_precision_neutral: 0.6645 - val_precision_sad: 0.6277 - val_precision_surprise: 0.7660 - val_recall: 0.5552 - val_recall_angry: 0.4616 - val_recall_disgust: 0.6270 - val_recall_fear: 0.2719 - val_recall_happy: 0.8067 - val_recall_neutral: 0.5173 - val_recall_sad: 0.3880 - val_recall_surprise: 0.7613 - lr: 1.0000e-05\n",
      "Epoch 46/50\n",
      "740/740 [==============================] - ETA: 0s - loss: 0.7377 - accuracy: 0.6982 - categorical_accuracy: 0.6982 - precision: 0.7907 - precision_angry: 0.7423 - precision_disgust: 0.7128 - precision_fear: 0.7099 - precision_happy: 0.9314 - precision_neutral: 0.7282 - precision_sad: 0.6897 - precision_surprise: 0.7872 - recall: 0.5989 - recall_angry: 0.5077 - recall_disgust: 0.9523 - recall_fear: 0.3477 - recall_happy: 0.8260 - recall_neutral: 0.5543 - recall_sad: 0.4174 - recall_surprise: 0.7946Restoring model weights from the end of the best epoch: 36.\n",
      "\n",
      "Epoch 46: val_loss did not improve from 0.95086\n",
      "740/740 [==============================] - 984s 1s/step - loss: 0.7377 - accuracy: 0.6982 - categorical_accuracy: 0.6982 - precision: 0.7907 - precision_angry: 0.7423 - precision_disgust: 0.7128 - precision_fear: 0.7099 - precision_happy: 0.9314 - precision_neutral: 0.7282 - precision_sad: 0.6897 - precision_surprise: 0.7872 - recall: 0.5989 - recall_angry: 0.5077 - recall_disgust: 0.9523 - recall_fear: 0.3477 - recall_happy: 0.8260 - recall_neutral: 0.5543 - recall_sad: 0.4174 - recall_surprise: 0.7946 - val_loss: 0.9757 - val_accuracy: 0.6408 - val_categorical_accuracy: 0.6408 - val_precision: 0.7404 - val_precision_angry: 0.6621 - val_precision_disgust: 0.6016 - val_precision_fear: 0.5979 - val_precision_happy: 0.9182 - val_precision_neutral: 0.6620 - val_precision_sad: 0.6271 - val_precision_surprise: 0.7666 - val_recall: 0.5542 - val_recall_angry: 0.4677 - val_recall_disgust: 0.5920 - val_recall_fear: 0.2765 - val_recall_happy: 0.8041 - val_recall_neutral: 0.5158 - val_recall_sad: 0.3771 - val_recall_surprise: 0.7712 - lr: 1.0000e-05\n",
      "Epoch 46: early stopping\n"
     ]
    }
   ],
   "source": [
    "import os\n",
    "\n",
    "os.environ['KMP_DUPLICATE_LIB_OK'] = 'True'\n",
    "\n",
    "history = model.fit(\n",
    "    train_generator,\n",
    "    steps_per_epoch=train_generator.n//train_generator.batch_size,\n",
    "    epochs=epochs,\n",
    "    validation_data=validation_generator,\n",
    "    validation_steps=validation_generator.n//validation_generator.batch_size,\n",
    "    callbacks=callbacks_list,\n",
    "    class_weight=class_weights_dict,\n",
    ")"
   ],
   "metadata": {
    "collapsed": false,
    "pycharm": {
     "name": "#%%\n"
    }
   }
  },
  {
   "cell_type": "markdown",
   "source": [
    "### 7. Evaluation - Test set"
   ],
   "metadata": {
    "collapsed": false,
    "pycharm": {
     "name": "#%% md\n"
    }
   }
  },
  {
   "cell_type": "code",
   "execution_count": 21,
   "outputs": [],
   "source": [
    "from keras.models import load_model\n",
    "\n",
    "model = load_model(\"model_mobilenet_v2_transfer_data_augmentation_balanced.h5\")"
   ],
   "metadata": {
    "collapsed": false,
    "pycharm": {
     "name": "#%%\n"
    }
   }
  },
  {
   "cell_type": "code",
   "execution_count": 22,
   "outputs": [
    {
     "name": "stdout",
     "output_type": "stream",
     "text": [
      "Found 7178 images belonging to 7 classes.\n"
     ]
    }
   ],
   "source": [
    "test_data_generator = ImageDataGenerator(preprocessing_function=preprocess_input)\n",
    "\n",
    "test_generator = test_data_generator.flow_from_directory(\n",
    "    DATASET_BASE_TEST_PATH,\n",
    "    target_size=(224, 224),\n",
    "    batch_size=32,\n",
    "    class_mode='categorical',\n",
    "    shuffle=False\n",
    ")"
   ],
   "metadata": {
    "collapsed": false,
    "pycharm": {
     "name": "#%%\n"
    }
   }
  },
  {
   "cell_type": "code",
   "execution_count": 23,
   "outputs": [
    {
     "name": "stdout",
     "output_type": "stream",
     "text": [
      "225/225 [==============================] - 136s 386ms/step - loss: 0.9307 - accuracy: 0.6617 - categorical_accuracy: 0.6617 - precision: 0.7475 - precision_angry: 0.6385 - precision_disgust: 0.5889 - precision_fear: 0.6675 - precision_happy: 0.9198 - precision_neutral: 0.6434 - precision_sad: 0.6517 - precision_surprise: 0.7912 - recall: 0.5836 - recall_angry: 0.5292 - recall_disgust: 0.4775 - recall_fear: 0.2646 - recall_happy: 0.8472 - recall_neutral: 0.5750 - recall_sad: 0.3841 - recall_surprise: 0.8026\n"
     ]
    },
    {
     "data": {
      "text/plain": "[0.9307246804237366,\n 0.661744236946106,\n 0.661744236946106,\n 0.747501790523529,\n 0.6385390162467957,\n 0.5888888835906982,\n 0.6674876809120178,\n 0.9198286533355713,\n 0.6433756947517395,\n 0.6517006754875183,\n 0.7912217974662781,\n 0.583588719367981,\n 0.5292275547981262,\n 0.477477490901947,\n 0.2646484375,\n 0.8472378849983215,\n 0.5750202536582947,\n 0.3841218948364258,\n 0.8026474118232727]"
     },
     "execution_count": 23,
     "metadata": {},
     "output_type": "execute_result"
    }
   ],
   "source": [
    "model.evaluate(test_generator)"
   ],
   "metadata": {
    "collapsed": false,
    "pycharm": {
     "name": "#%%\n"
    }
   }
  }
 ],
 "metadata": {
  "kernelspec": {
   "display_name": "Python 3",
   "language": "python",
   "name": "python3"
  },
  "language_info": {
   "codemirror_mode": {
    "name": "ipython",
    "version": 2
   },
   "file_extension": ".py",
   "mimetype": "text/x-python",
   "name": "python",
   "nbconvert_exporter": "python",
   "pygments_lexer": "ipython2",
   "version": "2.7.6"
  }
 },
 "nbformat": 4,
 "nbformat_minor": 0
}