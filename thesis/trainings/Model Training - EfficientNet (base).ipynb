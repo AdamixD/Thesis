{
 "cells": [
  {
   "cell_type": "markdown",
   "source": [
    "# Model Training - EfficientNet (base)"
   ],
   "metadata": {
    "collapsed": false,
    "pycharm": {
     "name": "#%% md\n"
    }
   }
  },
  {
   "cell_type": "markdown",
   "source": [
    "### 0. Imports"
   ],
   "metadata": {
    "collapsed": false,
    "pycharm": {
     "name": "#%% md\n"
    }
   }
  },
  {
   "cell_type": "code",
   "execution_count": 1,
   "outputs": [],
   "source": [
    "import matplotlib.pyplot as plt\n",
    "import tensorflow as tf\n",
    "\n",
    "from keras.applications import EfficientNetB0\n",
    "from keras.applications.efficientnet import preprocess_input\n",
    "from keras.callbacks import (\n",
    "    ModelCheckpoint,\n",
    "    EarlyStopping,\n",
    "    ReduceLROnPlateau\n",
    ")\n",
    "from keras.models import Sequential\n",
    "from keras.layers import Dense, GlobalAveragePooling2D\n",
    "from keras.metrics import Precision, Recall\n",
    "from keras.optimizers import Adam\n",
    "from keras.preprocessing.image import ImageDataGenerator\n",
    "from keras.utils.vis_utils import plot_model"
   ],
   "metadata": {
    "collapsed": false,
    "ExecuteTime": {
     "start_time": "2023-06-08T14:04:36.621338Z",
     "end_time": "2023-06-08T14:04:39.977428Z"
    },
    "pycharm": {
     "name": "#%%\n"
    }
   }
  },
  {
   "cell_type": "markdown",
   "source": [
    "### 1. Paths"
   ],
   "metadata": {
    "collapsed": false,
    "pycharm": {
     "name": "#%% md\n"
    }
   }
  },
  {
   "cell_type": "code",
   "execution_count": 2,
   "outputs": [],
   "source": [
    "# DATASET_BASE_TRAIN_PATH = \"/Users/adamdabkowski/DataspellProjects/Praca_dyplomowa/data/train_resized\"\n",
    "# DATASET_BASE_TRAIN_PATH = \"/Users/adamd/DataspellProjects/Facial Expressions Recognition/data/train_resized\"\n",
    "# DATASET_BASE_TRAIN_PATH = \"/Users/adamd/DataspellProjects/Facial Expressions Recognition/data/train_merged\"\n",
    "DATASET_BASE_TRAIN_PATH = \"/Users/adamd/DataspellProjects/Facial Expressions Recognition/data/train_merged_cleaned\"\n",
    "\n",
    "# DATASET_BASE_TRAIN_PATH = \"../new_data\"\n",
    "\n",
    "# DATASET_BASE_TEST_PATH = \"/Users/adamdabkowski/DataspellProjects/Praca_dyplomowa/data/test_resized\"\n",
    "DATASET_BASE_TEST_PATH = \"/Users/adamd/DataspellProjects/Facial Expressions Recognition/data/test_resized\""
   ],
   "metadata": {
    "collapsed": false,
    "ExecuteTime": {
     "start_time": "2023-06-08T14:06:08.298593Z",
     "end_time": "2023-06-08T14:06:08.305288Z"
    },
    "pycharm": {
     "name": "#%%\n"
    }
   }
  },
  {
   "cell_type": "markdown",
   "source": [
    "### 2. Data preprocessing"
   ],
   "metadata": {
    "collapsed": false,
    "pycharm": {
     "name": "#%% md\n"
    }
   }
  },
  {
   "cell_type": "code",
   "execution_count": 6,
   "outputs": [
    {
     "name": "stdout",
     "output_type": "stream",
     "text": [
      "Found 23689 images belonging to 7 classes.\n",
      "Found 5919 images belonging to 7 classes.\n"
     ]
    }
   ],
   "source": [
    "batch_size  = 32\n",
    "img_size = 224\n",
    "\n",
    "train_validation_data_generator = ImageDataGenerator(preprocessing_function=preprocess_input, validation_split=0.2)\n",
    "\n",
    "train_generator = train_validation_data_generator.flow_from_directory(\n",
    "    DATASET_BASE_TRAIN_PATH,\n",
    "    target_size=(img_size,img_size),\n",
    "    batch_size=batch_size,\n",
    "    class_mode='categorical',\n",
    "    color_mode='rgb',\n",
    "    subset='training',\n",
    "    shuffle=True,\n",
    ")\n",
    "\n",
    "validation_generator = train_validation_data_generator.flow_from_directory(\n",
    "    DATASET_BASE_TRAIN_PATH,\n",
    "    target_size=(img_size,img_size),\n",
    "    batch_size=batch_size,\n",
    "    class_mode='categorical',\n",
    "    color_mode='rgb',\n",
    "    subset='validation',\n",
    "    shuffle=True,\n",
    ")"
   ],
   "metadata": {
    "collapsed": false,
    "ExecuteTime": {
     "start_time": "2023-06-08T14:06:12.829138Z",
     "end_time": "2023-06-08T14:06:13.009438Z"
    },
    "pycharm": {
     "name": "#%%\n"
    }
   }
  },
  {
   "cell_type": "markdown",
   "source": [
    "### 5. Model creating"
   ],
   "metadata": {
    "collapsed": false,
    "pycharm": {
     "name": "#%% md\n"
    }
   }
  },
  {
   "cell_type": "code",
   "execution_count": 7,
   "outputs": [],
   "source": [
    "CATEGORIES = [\"angry\", \"disgust\", \"fear\", \"happy\", \"neutral\", \"sad\", \"surprise\"]"
   ],
   "metadata": {
    "collapsed": false,
    "ExecuteTime": {
     "start_time": "2023-06-08T14:06:21.358802Z",
     "end_time": "2023-06-08T14:06:21.367405Z"
    },
    "pycharm": {
     "name": "#%%\n"
    }
   }
  },
  {
   "cell_type": "code",
   "execution_count": 8,
   "outputs": [],
   "source": [
    "checkpoint = ModelCheckpoint(\n",
    "    filepath=\"./model_efficientnet_base.h5\",\n",
    "    monitor='val_loss',\n",
    "    verbose=1,\n",
    "    save_best_only=True,\n",
    "    mode='min'\n",
    ")\n",
    "\n",
    "early_stopping = EarlyStopping(\n",
    "    monitor='val_loss',\n",
    "    patience=10,\n",
    "    verbose=1,\n",
    "    restore_best_weights=True,\n",
    ")\n",
    "\n",
    "reduce_learning_rate = ReduceLROnPlateau(\n",
    "    monitor='val_loss',\n",
    "    factor=0.1,\n",
    "    patience=5,\n",
    "    verbose=1,\n",
    "    min_lr=0.00001,\n",
    ")\n",
    "\n",
    "callbacks_list = [early_stopping, checkpoint, reduce_learning_rate]"
   ],
   "metadata": {
    "collapsed": false,
    "ExecuteTime": {
     "start_time": "2023-06-08T14:06:22.501933Z",
     "end_time": "2023-06-08T14:06:22.506101Z"
    },
    "pycharm": {
     "name": "#%%\n"
    }
   }
  },
  {
   "cell_type": "code",
   "execution_count": 9,
   "outputs": [],
   "source": [
    "model = Sequential()\n",
    "\n",
    "base_model = EfficientNetB0(input_shape=(img_size, img_size, 3), include_top=False, weights=None)\n",
    "model.add(base_model)\n",
    "\n",
    "model.add(GlobalAveragePooling2D())\n",
    "model.add(Dense(512, activation='relu'))\n",
    "model.add(Dense(7, activation='softmax'))"
   ],
   "metadata": {
    "collapsed": false,
    "ExecuteTime": {
     "start_time": "2023-06-08T14:06:33.844245Z",
     "end_time": "2023-06-08T14:06:34.087495Z"
    },
    "pycharm": {
     "name": "#%%\n"
    }
   }
  },
  {
   "cell_type": "code",
   "execution_count": 10,
   "outputs": [
    {
     "name": "stdout",
     "output_type": "stream",
     "text": [
      "Model: \"sequential\"\n",
      "_________________________________________________________________\n",
      " Layer (type)                Output Shape              Param #   \n",
      "=================================================================\n",
      " efficientnetb0 (Functional)  (None, 7, 7, 1280)       4049571   \n",
      "                                                                 \n",
      " global_average_pooling2d (G  (None, 1280)             0         \n",
      " lobalAveragePooling2D)                                          \n",
      "                                                                 \n",
      " dense (Dense)               (None, 512)               655872    \n",
      "                                                                 \n",
      " dense_1 (Dense)             (None, 7)                 3591      \n",
      "                                                                 \n",
      "=================================================================\n",
      "Total params: 4,709,034\n",
      "Trainable params: 4,667,011\n",
      "Non-trainable params: 42,023\n",
      "_________________________________________________________________\n"
     ]
    }
   ],
   "source": [
    "model.compile(\n",
    "    optimizer=Adam(learning_rate=0.001),\n",
    "    loss='categorical_crossentropy',\n",
    "    metrics=[\n",
    "        'accuracy',\n",
    "        Precision(name='precision'),\n",
    "        Precision(class_id=0, name='precision_angry'),\n",
    "        Precision(class_id=1, name='precision_disgust'),\n",
    "        Precision(class_id=2, name='precision_fear'),\n",
    "        Precision(class_id=3, name='precision_happy'),\n",
    "        Precision(class_id=4, name='precision_neutral'),\n",
    "        Precision(class_id=5, name='precision_sad'),\n",
    "        Precision(class_id=6, name='precision_surprise'),\n",
    "        Recall(name='recall'),\n",
    "        Recall(class_id=0, name='recall_angry'),\n",
    "        Recall(class_id=1, name='recall_disgust'),\n",
    "        Recall(class_id=2, name='recall_fear'),\n",
    "        Recall(class_id=3, name='recall_happy'),\n",
    "        Recall(class_id=4, name='recall_neutral'),\n",
    "        Recall(class_id=5, name='recall_sad'),\n",
    "        Recall(class_id=6, name='recall_surprise'),\n",
    "    ]\n",
    ")\n",
    "model.summary()"
   ],
   "metadata": {
    "collapsed": false,
    "ExecuteTime": {
     "start_time": "2023-06-08T14:08:05.068394Z",
     "end_time": "2023-06-08T14:08:05.102749Z"
    },
    "pycharm": {
     "name": "#%%\n"
    }
   }
  },
  {
   "cell_type": "code",
   "execution_count": 11,
   "outputs": [
    {
     "data": {
      "image/png": "[encoded data removed]",
      "text/plain": "<IPython.core.display.Image object>"
     },
     "execution_count": 11,
     "metadata": {},
     "output_type": "execute_result"
    }
   ],
   "source": [
    "plot_model(model, to_file='model_efficientnet_base.png', show_shapes=True, show_layer_names=True)"
   ],
   "metadata": {
    "collapsed": false,
    "pycharm": {
     "name": "#%%\n"
    }
   }
  },
  {
   "cell_type": "markdown",
   "source": [
    "### 6. Model training"
   ],
   "metadata": {
    "collapsed": false,
    "pycharm": {
     "name": "#%% md\n"
    }
   }
  },
  {
   "cell_type": "code",
   "execution_count": 12,
   "outputs": [],
   "source": [
    "epochs = 50"
   ],
   "metadata": {
    "collapsed": false,
    "ExecuteTime": {
     "start_time": "2023-06-08T14:08:06.121000Z",
     "end_time": "2023-06-08T14:08:06.134021Z"
    },
    "pycharm": {
     "name": "#%%\n"
    }
   }
  },
  {
   "cell_type": "code",
   "execution_count": 13,
   "outputs": [
    {
     "name": "stdout",
     "output_type": "stream",
     "text": [
      "Epoch 1/50\n",
      "740/740 [==============================] - ETA: 0s - loss: 1.7941 - accuracy: 0.2697 - precision: 0.5439 - precision_angry: 0.0800 - precision_disgust: 0.1667 - precision_fear: 0.1111 - precision_happy: 0.6231 - precision_neutral: 0.1154 - precision_sad: 0.1500 - precision_surprise: 0.4717 - recall: 0.0210 - recall_angry: 6.0735e-04 - recall_disgust: 0.0020 - recall_fear: 5.9294e-04 - recall_happy: 0.0698 - recall_neutral: 7.3819e-04 - recall_sad: 7.7002e-04 - recall_surprise: 0.0283\n",
      "Epoch 1: val_loss improved from inf to 1.70982, saving model to .\\model_efficientnet_base.h5\n",
      "740/740 [==============================] - 1542s 2s/step - loss: 1.7941 - accuracy: 0.2697 - precision: 0.5439 - precision_angry: 0.0800 - precision_disgust: 0.1667 - precision_fear: 0.1111 - precision_happy: 0.6231 - precision_neutral: 0.1154 - precision_sad: 0.1500 - precision_surprise: 0.4717 - recall: 0.0210 - recall_angry: 6.0735e-04 - recall_disgust: 0.0020 - recall_fear: 5.9294e-04 - recall_happy: 0.0698 - recall_neutral: 7.3819e-04 - recall_sad: 7.7002e-04 - recall_surprise: 0.0283 - val_loss: 1.7098 - val_accuracy: 0.3196 - val_precision: 0.5853 - val_precision_angry: 0.0000e+00 - val_precision_disgust: 0.0000e+00 - val_precision_fear: 0.0000e+00 - val_precision_happy: 0.6010 - val_precision_neutral: 0.0000e+00 - val_precision_sad: 0.0000e+00 - val_precision_surprise: 0.5525 - val_recall: 0.1235 - val_recall_angry: 0.0000e+00 - val_recall_disgust: 0.0000e+00 - val_recall_fear: 0.0000e+00 - val_recall_happy: 0.3456 - val_recall_neutral: 0.0000e+00 - val_recall_sad: 0.0000e+00 - val_recall_surprise: 0.3348 - lr: 0.0010\n",
      "Epoch 2/50\n",
      "740/740 [==============================] - ETA: 0s - loss: 1.5124 - accuracy: 0.4040 - precision: 0.7252 - precision_angry: 0.3750 - precision_disgust: 0.0000e+00 - precision_fear: 0.0000e+00 - precision_happy: 0.7550 - precision_neutral: 0.5248 - precision_sad: 0.0000e+00 - precision_surprise: 0.6714 - recall: 0.1764 - recall_angry: 0.0018 - recall_disgust: 0.0000e+00 - recall_fear: 0.0000e+00 - recall_happy: 0.5298 - recall_neutral: 0.0261 - recall_sad: 0.0000e+00 - recall_surprise: 0.3568\n",
      "Epoch 2: val_loss improved from 1.70982 to 1.38316, saving model to .\\model_efficientnet_base.h5\n",
      "740/740 [==============================] - 1652s 2s/step - loss: 1.5124 - accuracy: 0.4040 - precision: 0.7252 - precision_angry: 0.3750 - precision_disgust: 0.0000e+00 - precision_fear: 0.0000e+00 - precision_happy: 0.7550 - precision_neutral: 0.5248 - precision_sad: 0.0000e+00 - precision_surprise: 0.6714 - recall: 0.1764 - recall_angry: 0.0018 - recall_disgust: 0.0000e+00 - recall_fear: 0.0000e+00 - recall_happy: 0.5298 - recall_neutral: 0.0261 - recall_sad: 0.0000e+00 - recall_surprise: 0.3568 - val_loss: 1.3832 - val_accuracy: 0.4701 - val_precision: 0.6946 - val_precision_angry: 0.0000e+00 - val_precision_disgust: 0.0000e+00 - val_precision_fear: 0.0000e+00 - val_precision_happy: 0.7612 - val_precision_neutral: 0.5348 - val_precision_sad: 0.0000e+00 - val_precision_surprise: 0.6966 - val_recall: 0.3032 - val_recall_angry: 0.0000e+00 - val_recall_disgust: 0.0000e+00 - val_recall_fear: 0.0000e+00 - val_recall_happy: 0.7445 - val_recall_neutral: 0.3198 - val_recall_sad: 0.0000e+00 - val_recall_surprise: 0.5619 - lr: 0.0010\n",
      "Epoch 3/50\n",
      "740/740 [==============================] - ETA: 0s - loss: 1.3163 - accuracy: 0.4934 - precision: 0.7425 - precision_angry: 0.5391 - precision_disgust: 0.0000e+00 - precision_fear: 0.5714 - precision_happy: 0.8179 - precision_neutral: 0.6040 - precision_sad: 0.5078 - precision_surprise: 0.7063 - recall: 0.2752 - recall_angry: 0.0629 - recall_disgust: 0.0000e+00 - recall_fear: 0.0012 - recall_happy: 0.6897 - recall_neutral: 0.1923 - recall_sad: 0.0252 - recall_surprise: 0.5147\n",
      "Epoch 3: val_loss improved from 1.38316 to 1.25978, saving model to .\\model_efficientnet_base.h5\n",
      "740/740 [==============================] - 1546s 2s/step - loss: 1.3163 - accuracy: 0.4934 - precision: 0.7425 - precision_angry: 0.5391 - precision_disgust: 0.0000e+00 - precision_fear: 0.5714 - precision_happy: 0.8179 - precision_neutral: 0.6040 - precision_sad: 0.5078 - precision_surprise: 0.7063 - recall: 0.2752 - recall_angry: 0.0629 - recall_disgust: 0.0000e+00 - recall_fear: 0.0012 - recall_happy: 0.6897 - recall_neutral: 0.1923 - recall_sad: 0.0252 - recall_surprise: 0.5147 - val_loss: 1.2598 - val_accuracy: 0.5173 - val_precision: 0.7239 - val_precision_angry: 0.5403 - val_precision_disgust: 0.0000e+00 - val_precision_fear: 0.0000e+00 - val_precision_happy: 0.7481 - val_precision_neutral: 0.7863 - val_precision_sad: 0.5789 - val_precision_surprise: 0.7694 - val_recall: 0.3144 - val_recall_angry: 0.2207 - val_recall_disgust: 0.0000e+00 - val_recall_fear: 0.0000e+00 - val_recall_happy: 0.8281 - val_recall_neutral: 0.0910 - val_recall_sad: 0.0226 - val_recall_surprise: 0.5266 - lr: 0.0010\n",
      "Epoch 4/50\n",
      "740/740 [==============================] - ETA: 0s - loss: 1.1888 - accuracy: 0.5461 - precision: 0.7439 - precision_angry: 0.5904 - precision_disgust: 1.0000 - precision_fear: 0.5000 - precision_happy: 0.8478 - precision_neutral: 0.6266 - precision_sad: 0.5625 - precision_surprise: 0.7342 - recall: 0.3478 - recall_angry: 0.1718 - recall_disgust: 0.0020 - recall_fear: 0.0131 - recall_happy: 0.7565 - recall_neutral: 0.2886 - recall_sad: 0.1087 - recall_surprise: 0.5925\n",
      "Epoch 4: val_loss improved from 1.25978 to 1.22044, saving model to .\\model_efficientnet_base.h5\n",
      "740/740 [==============================] - 1501s 2s/step - loss: 1.1888 - accuracy: 0.5461 - precision: 0.7439 - precision_angry: 0.5904 - precision_disgust: 1.0000 - precision_fear: 0.5000 - precision_happy: 0.8478 - precision_neutral: 0.6266 - precision_sad: 0.5625 - precision_surprise: 0.7342 - recall: 0.3478 - recall_angry: 0.1718 - recall_disgust: 0.0020 - recall_fear: 0.0131 - recall_happy: 0.7565 - recall_neutral: 0.2886 - recall_sad: 0.1087 - recall_surprise: 0.5925 - val_loss: 1.2204 - val_accuracy: 0.5353 - val_precision: 0.7037 - val_precision_angry: 0.4616 - val_precision_disgust: 0.0000e+00 - val_precision_fear: 0.4706 - val_precision_happy: 0.8195 - val_precision_neutral: 0.7232 - val_precision_sad: 0.5894 - val_precision_surprise: 0.8500 - val_recall: 0.3626 - val_recall_angry: 0.4042 - val_recall_disgust: 0.0000e+00 - val_recall_fear: 0.0476 - val_recall_happy: 0.7804 - val_recall_neutral: 0.2069 - val_recall_sad: 0.1264 - val_recall_surprise: 0.4366 - lr: 0.0010\n",
      "Epoch 5/50\n",
      "740/740 [==============================] - ETA: 0s - loss: 1.1068 - accuracy: 0.5808 - precision: 0.7495 - precision_angry: 0.6319 - precision_disgust: 0.6970 - precision_fear: 0.6019 - precision_happy: 0.8616 - precision_neutral: 0.6557 - precision_sad: 0.5707 - precision_surprise: 0.7554 - recall: 0.3994 - recall_angry: 0.2480 - recall_disgust: 0.0456 - recall_fear: 0.0735 - recall_happy: 0.7889 - recall_neutral: 0.3497 - recall_sad: 0.1629 - recall_surprise: 0.6290\n",
      "Epoch 5: val_loss improved from 1.22044 to 1.14446, saving model to .\\model_efficientnet_base.h5\n",
      "740/740 [==============================] - 1505s 2s/step - loss: 1.1068 - accuracy: 0.5808 - precision: 0.7495 - precision_angry: 0.6319 - precision_disgust: 0.6970 - precision_fear: 0.6019 - precision_happy: 0.8616 - precision_neutral: 0.6557 - precision_sad: 0.5707 - precision_surprise: 0.7554 - recall: 0.3994 - recall_angry: 0.2480 - recall_disgust: 0.0456 - recall_fear: 0.0735 - recall_happy: 0.7889 - recall_neutral: 0.3497 - recall_sad: 0.1629 - recall_surprise: 0.6290 - val_loss: 1.1445 - val_accuracy: 0.5654 - val_precision: 0.7250 - val_precision_angry: 0.6036 - val_precision_disgust: 0.0000e+00 - val_precision_fear: 0.7286 - val_precision_happy: 0.8188 - val_precision_neutral: 0.5981 - val_precision_sad: 0.6173 - val_precision_surprise: 0.7430 - val_recall: 0.4096 - val_recall_angry: 0.2485 - val_recall_disgust: 0.0000e+00 - val_recall_fear: 0.0610 - val_recall_happy: 0.8098 - val_recall_neutral: 0.3709 - val_recall_sad: 0.1543 - val_recall_surprise: 0.6788 - lr: 0.0010\n",
      "Epoch 6/50\n",
      "740/740 [==============================] - ETA: 0s - loss: 1.0118 - accuracy: 0.6155 - precision: 0.7560 - precision_angry: 0.6449 - precision_disgust: 0.6393 - precision_fear: 0.6313 - precision_happy: 0.8797 - precision_neutral: 0.6800 - precision_sad: 0.6029 - precision_surprise: 0.7794 - recall: 0.4663 - recall_angry: 0.3207 - recall_disgust: 0.0772 - recall_fear: 0.1378 - recall_happy: 0.8317 - recall_neutral: 0.4280 - recall_sad: 0.2695 - recall_surprise: 0.6748\n",
      "Epoch 6: val_loss did not improve from 1.14446\n",
      "740/740 [==============================] - 1727s 2s/step - loss: 1.0118 - accuracy: 0.6155 - precision: 0.7560 - precision_angry: 0.6449 - precision_disgust: 0.6393 - precision_fear: 0.6313 - precision_happy: 0.8797 - precision_neutral: 0.6800 - precision_sad: 0.6029 - precision_surprise: 0.7794 - recall: 0.4663 - recall_angry: 0.3207 - recall_disgust: 0.0772 - recall_fear: 0.1378 - recall_happy: 0.8317 - recall_neutral: 0.4280 - recall_sad: 0.2695 - recall_surprise: 0.6748 - val_loss: 1.1649 - val_accuracy: 0.5637 - val_precision: 0.6896 - val_precision_angry: 0.5601 - val_precision_disgust: 0.0000e+00 - val_precision_fear: 0.5026 - val_precision_happy: 0.8807 - val_precision_neutral: 0.5887 - val_precision_sad: 0.5494 - val_precision_surprise: 0.8883 - val_recall: 0.4383 - val_recall_angry: 0.3524 - val_recall_disgust: 0.0000e+00 - val_recall_fear: 0.2323 - val_recall_happy: 0.7003 - val_recall_neutral: 0.4440 - val_recall_sad: 0.3151 - val_recall_surprise: 0.4804 - lr: 0.0010\n",
      "Epoch 7/50\n",
      "740/740 [==============================] - ETA: 0s - loss: 0.9184 - accuracy: 0.6571 - precision: 0.7690 - precision_angry: 0.6872 - precision_disgust: 0.6116 - precision_fear: 0.6407 - precision_happy: 0.8952 - precision_neutral: 0.7109 - precision_sad: 0.6278 - precision_surprise: 0.8044 - recall: 0.5295 - recall_angry: 0.4176 - recall_disgust: 0.1468 - recall_fear: 0.2101 - recall_happy: 0.8582 - recall_neutral: 0.5111 - recall_sad: 0.3438 - recall_surprise: 0.7189\n",
      "Epoch 7: val_loss did not improve from 1.14446\n",
      "740/740 [==============================] - 1676s 2s/step - loss: 0.9184 - accuracy: 0.6571 - precision: 0.7690 - precision_angry: 0.6872 - precision_disgust: 0.6116 - precision_fear: 0.6407 - precision_happy: 0.8952 - precision_neutral: 0.7109 - precision_sad: 0.6278 - precision_surprise: 0.8044 - recall: 0.5295 - recall_angry: 0.4176 - recall_disgust: 0.1468 - recall_fear: 0.2101 - recall_happy: 0.8582 - recall_neutral: 0.5111 - recall_sad: 0.3438 - recall_surprise: 0.7189 - val_loss: 1.1725 - val_accuracy: 0.5761 - val_precision: 0.6739 - val_precision_angry: 0.5460 - val_precision_disgust: 0.7500 - val_precision_fear: 0.4890 - val_precision_happy: 0.8603 - val_precision_neutral: 0.5803 - val_precision_sad: 0.5545 - val_precision_surprise: 0.6827 - val_recall: 0.4721 - val_recall_angry: 0.3398 - val_recall_disgust: 0.0238 - val_recall_fear: 0.2115 - val_recall_happy: 0.7880 - val_recall_neutral: 0.4423 - val_recall_sad: 0.2472 - val_recall_surprise: 0.7281 - lr: 0.0010\n",
      "Epoch 8/50\n",
      "740/740 [==============================] - ETA: 0s - loss: 0.8144 - accuracy: 0.6997 - precision: 0.7889 - precision_angry: 0.7190 - precision_disgust: 0.7756 - precision_fear: 0.6725 - precision_happy: 0.9102 - precision_neutral: 0.7480 - precision_sad: 0.6672 - precision_surprise: 0.8317 - recall: 0.6017 - recall_angry: 0.4935 - recall_disgust: 0.3155 - recall_fear: 0.3186 - recall_happy: 0.8848 - recall_neutral: 0.5985 - recall_sad: 0.4450 - recall_surprise: 0.7580\n",
      "Epoch 8: val_loss did not improve from 1.14446\n",
      "740/740 [==============================] - 1601s 2s/step - loss: 0.8144 - accuracy: 0.6997 - precision: 0.7889 - precision_angry: 0.7190 - precision_disgust: 0.7756 - precision_fear: 0.6725 - precision_happy: 0.9102 - precision_neutral: 0.7480 - precision_sad: 0.6672 - precision_surprise: 0.8317 - recall: 0.6017 - recall_angry: 0.4935 - recall_disgust: 0.3155 - recall_fear: 0.3186 - recall_happy: 0.8848 - recall_neutral: 0.5985 - recall_sad: 0.4450 - recall_surprise: 0.7580 - val_loss: 1.2803 - val_accuracy: 0.5617 - val_precision: 0.6434 - val_precision_angry: 0.4248 - val_precision_disgust: 1.0000 - val_precision_fear: 0.4471 - val_precision_happy: 0.8239 - val_precision_neutral: 0.6418 - val_precision_sad: 0.6111 - val_precision_surprise: 0.6768 - val_recall: 0.4786 - val_recall_angry: 0.4737 - val_recall_disgust: 0.0238 - val_recall_fear: 0.1807 - val_recall_happy: 0.7849 - val_recall_neutral: 0.4156 - val_recall_sad: 0.2041 - val_recall_surprise: 0.7731 - lr: 0.0010\n",
      "Epoch 9/50\n",
      "740/740 [==============================] - ETA: 0s - loss: 0.7054 - accuracy: 0.7392 - precision: 0.8121 - precision_angry: 0.7599 - precision_disgust: 0.7559 - precision_fear: 0.7112 - precision_happy: 0.9225 - precision_neutral: 0.7848 - precision_sad: 0.7004 - precision_surprise: 0.8581 - recall: 0.6616 - recall_angry: 0.5581 - recall_disgust: 0.4475 - recall_fear: 0.4062 - recall_happy: 0.9108 - recall_neutral: 0.6651 - recall_sad: 0.5230 - recall_surprise: 0.8005\n",
      "Epoch 9: val_loss did not improve from 1.14446\n",
      "740/740 [==============================] - 1608s 2s/step - loss: 0.7054 - accuracy: 0.7392 - precision: 0.8121 - precision_angry: 0.7599 - precision_disgust: 0.7559 - precision_fear: 0.7112 - precision_happy: 0.9225 - precision_neutral: 0.7848 - precision_sad: 0.7004 - precision_surprise: 0.8581 - recall: 0.6616 - recall_angry: 0.5581 - recall_disgust: 0.4475 - recall_fear: 0.4062 - recall_happy: 0.9108 - recall_neutral: 0.6651 - recall_sad: 0.5230 - recall_surprise: 0.8005 - val_loss: 1.2466 - val_accuracy: 0.5744 - val_precision: 0.6344 - val_precision_angry: 0.6846 - val_precision_disgust: 0.8182 - val_precision_fear: 0.5325 - val_precision_happy: 0.8697 - val_precision_neutral: 0.5797 - val_precision_sad: 0.4093 - val_precision_surprise: 0.7631 - val_recall: 0.5207 - val_recall_angry: 0.2335 - val_recall_disgust: 0.0720 - val_recall_fear: 0.2145 - val_recall_happy: 0.7611 - val_recall_neutral: 0.5311 - val_recall_sad: 0.5853 - val_recall_surprise: 0.7065 - lr: 0.0010\n",
      "Epoch 10/50\n",
      "740/740 [==============================] - ETA: 0s - loss: 0.6021 - accuracy: 0.7785 - precision: 0.8341 - precision_angry: 0.7772 - precision_disgust: 0.7975 - precision_fear: 0.7471 - precision_happy: 0.9361 - precision_neutral: 0.8111 - precision_sad: 0.7483 - precision_surprise: 0.8836 - recall: 0.7207 - recall_angry: 0.6386 - recall_disgust: 0.5149 - recall_fear: 0.4997 - recall_happy: 0.9245 - recall_neutral: 0.7337 - recall_sad: 0.6061 - recall_surprise: 0.8386\n",
      "Epoch 10: val_loss did not improve from 1.14446\n",
      "\n",
      "Epoch 10: ReduceLROnPlateau reducing learning rate to 0.00010000000474974513.\n",
      "740/740 [==============================] - 1616s 2s/step - loss: 0.6021 - accuracy: 0.7785 - precision: 0.8341 - precision_angry: 0.7772 - precision_disgust: 0.7975 - precision_fear: 0.7471 - precision_happy: 0.9361 - precision_neutral: 0.8111 - precision_sad: 0.7483 - precision_surprise: 0.8836 - recall: 0.7207 - recall_angry: 0.6386 - recall_disgust: 0.5149 - recall_fear: 0.4997 - recall_happy: 0.9245 - recall_neutral: 0.7337 - recall_sad: 0.6061 - recall_surprise: 0.8386 - val_loss: 1.2723 - val_accuracy: 0.5922 - val_precision: 0.6514 - val_precision_angry: 0.6765 - val_precision_disgust: 0.8636 - val_precision_fear: 0.4825 - val_precision_happy: 0.7883 - val_precision_neutral: 0.6067 - val_precision_sad: 0.4709 - val_precision_surprise: 0.7393 - val_recall: 0.5404 - val_recall_angry: 0.3061 - val_recall_disgust: 0.3065 - val_recall_fear: 0.2801 - val_recall_happy: 0.8522 - val_recall_neutral: 0.4821 - val_recall_sad: 0.4665 - val_recall_surprise: 0.7112 - lr: 0.0010\n",
      "Epoch 11/50\n",
      "740/740 [==============================] - ETA: 0s - loss: 0.3214 - accuracy: 0.8896 - precision: 0.9142 - precision_angry: 0.8916 - precision_disgust: 0.8853 - precision_fear: 0.8708 - precision_happy: 0.9709 - precision_neutral: 0.9160 - precision_sad: 0.8572 - precision_surprise: 0.9424 - recall: 0.8646 - recall_angry: 0.8293 - recall_disgust: 0.7659 - recall_fear: 0.7302 - recall_happy: 0.9709 - recall_neutral: 0.8801 - recall_sad: 0.8087 - recall_surprise: 0.9197\n",
      "Epoch 11: val_loss did not improve from 1.14446\n",
      "740/740 [==============================] - 1629s 2s/step - loss: 0.3214 - accuracy: 0.8896 - precision: 0.9142 - precision_angry: 0.8916 - precision_disgust: 0.8853 - precision_fear: 0.8708 - precision_happy: 0.9709 - precision_neutral: 0.9160 - precision_sad: 0.8572 - precision_surprise: 0.9424 - recall: 0.8646 - recall_angry: 0.8293 - recall_disgust: 0.7659 - recall_fear: 0.7302 - recall_happy: 0.9709 - recall_neutral: 0.8801 - recall_sad: 0.8087 - recall_surprise: 0.9197 - val_loss: 1.5352 - val_accuracy: 0.6038 - val_precision: 0.6366 - val_precision_angry: 0.5286 - val_precision_disgust: 0.7885 - val_precision_fear: 0.4835 - val_precision_happy: 0.8198 - val_precision_neutral: 0.6062 - val_precision_sad: 0.4724 - val_precision_surprise: 0.7979 - val_recall: 0.5797 - val_recall_angry: 0.4628 - val_recall_disgust: 0.3254 - val_recall_fear: 0.3684 - val_recall_happy: 0.8394 - val_recall_neutral: 0.5039 - val_recall_sad: 0.5108 - val_recall_surprise: 0.6829 - lr: 1.0000e-04\n",
      "Epoch 12/50\n",
      "740/740 [==============================] - ETA: 0s - loss: 0.2151 - accuracy: 0.9244 - precision: 0.9380 - precision_angry: 0.9205 - precision_disgust: 0.9237 - precision_fear: 0.8991 - precision_happy: 0.9809 - precision_neutral: 0.9412 - precision_sad: 0.8972 - precision_surprise: 0.9653 - recall: 0.9119 - recall_angry: 0.8820 - recall_disgust: 0.8634 - recall_fear: 0.8296 - recall_happy: 0.9799 - recall_neutral: 0.9259 - recall_sad: 0.8700 - recall_surprise: 0.9525\n",
      "Epoch 12: val_loss did not improve from 1.14446\n",
      "740/740 [==============================] - 1612s 2s/step - loss: 0.2151 - accuracy: 0.9244 - precision: 0.9380 - precision_angry: 0.9205 - precision_disgust: 0.9237 - precision_fear: 0.8991 - precision_happy: 0.9809 - precision_neutral: 0.9412 - precision_sad: 0.8972 - precision_surprise: 0.9653 - recall: 0.9119 - recall_angry: 0.8820 - recall_disgust: 0.8634 - recall_fear: 0.8296 - recall_happy: 0.9799 - recall_neutral: 0.9259 - recall_sad: 0.8700 - recall_surprise: 0.9525 - val_loss: 1.7812 - val_accuracy: 0.6046 - val_precision: 0.6281 - val_precision_angry: 0.5624 - val_precision_disgust: 0.7500 - val_precision_fear: 0.4729 - val_precision_happy: 0.8254 - val_precision_neutral: 0.5995 - val_precision_sad: 0.4428 - val_precision_surprise: 0.8051 - val_recall: 0.5885 - val_recall_angry: 0.4468 - val_recall_disgust: 0.3629 - val_recall_fear: 0.3635 - val_recall_happy: 0.8344 - val_recall_neutral: 0.5248 - val_recall_sad: 0.5658 - val_recall_surprise: 0.6768 - lr: 1.0000e-04\n",
      "Epoch 13/50\n",
      "740/740 [==============================] - ETA: 0s - loss: 0.1662 - accuracy: 0.9422 - precision: 0.9505 - precision_angry: 0.9314 - precision_disgust: 0.9343 - precision_fear: 0.9171 - precision_happy: 0.9854 - precision_neutral: 0.9563 - precision_sad: 0.9235 - precision_surprise: 0.9699 - recall: 0.9349 - recall_angry: 0.9189 - recall_disgust: 0.8733 - recall_fear: 0.8708 - recall_happy: 0.9847 - recall_neutral: 0.9483 - recall_sad: 0.9062 - recall_surprise: 0.9585\n",
      "Epoch 13: val_loss did not improve from 1.14446\n",
      "740/740 [==============================] - 1610s 2s/step - loss: 0.1662 - accuracy: 0.9422 - precision: 0.9505 - precision_angry: 0.9314 - precision_disgust: 0.9343 - precision_fear: 0.9171 - precision_happy: 0.9854 - precision_neutral: 0.9563 - precision_sad: 0.9235 - precision_surprise: 0.9699 - recall: 0.9349 - recall_angry: 0.9189 - recall_disgust: 0.8733 - recall_fear: 0.8708 - recall_happy: 0.9847 - recall_neutral: 0.9483 - recall_sad: 0.9062 - recall_surprise: 0.9585 - val_loss: 1.9424 - val_accuracy: 0.6082 - val_precision: 0.6233 - val_precision_angry: 0.5450 - val_precision_disgust: 0.7414 - val_precision_fear: 0.4610 - val_precision_happy: 0.8171 - val_precision_neutral: 0.5791 - val_precision_sad: 0.4555 - val_precision_surprise: 0.7959 - val_recall: 0.5936 - val_recall_angry: 0.4223 - val_recall_disgust: 0.3413 - val_recall_fear: 0.3945 - val_recall_happy: 0.8422 - val_recall_neutral: 0.5470 - val_recall_sad: 0.5387 - val_recall_surprise: 0.7069 - lr: 1.0000e-04\n",
      "Epoch 14/50\n",
      "740/740 [==============================] - ETA: 0s - loss: 0.1298 - accuracy: 0.9567 - precision: 0.9622 - precision_angry: 0.9569 - precision_disgust: 0.9432 - precision_fear: 0.9376 - precision_happy: 0.9864 - precision_neutral: 0.9691 - precision_sad: 0.9407 - precision_surprise: 0.9693 - recall: 0.9511 - recall_angry: 0.9383 - recall_disgust: 0.9208 - recall_fear: 0.9011 - recall_happy: 0.9869 - recall_neutral: 0.9643 - recall_sad: 0.9322 - recall_surprise: 0.9638\n",
      "Epoch 14: val_loss did not improve from 1.14446\n",
      "740/740 [==============================] - 1610s 2s/step - loss: 0.1298 - accuracy: 0.9567 - precision: 0.9622 - precision_angry: 0.9569 - precision_disgust: 0.9432 - precision_fear: 0.9376 - precision_happy: 0.9864 - precision_neutral: 0.9691 - precision_sad: 0.9407 - precision_surprise: 0.9693 - recall: 0.9511 - recall_angry: 0.9383 - recall_disgust: 0.9208 - recall_fear: 0.9011 - recall_happy: 0.9869 - recall_neutral: 0.9643 - recall_sad: 0.9322 - recall_surprise: 0.9638 - val_loss: 2.0658 - val_accuracy: 0.6067 - val_precision: 0.6188 - val_precision_angry: 0.5271 - val_precision_disgust: 0.7419 - val_precision_fear: 0.4575 - val_precision_happy: 0.8214 - val_precision_neutral: 0.5618 - val_precision_sad: 0.4643 - val_precision_surprise: 0.7739 - val_recall: 0.5931 - val_recall_angry: 0.4501 - val_recall_disgust: 0.3651 - val_recall_fear: 0.3859 - val_recall_happy: 0.8332 - val_recall_neutral: 0.5579 - val_recall_sad: 0.5186 - val_recall_surprise: 0.7074 - lr: 1.0000e-04\n",
      "Epoch 15/50\n",
      "740/740 [==============================] - ETA: 0s - loss: 0.1163 - accuracy: 0.9622 - precision: 0.9659 - precision_angry: 0.9617 - precision_disgust: 0.9539 - precision_fear: 0.9462 - precision_happy: 0.9883 - precision_neutral: 0.9706 - precision_sad: 0.9445 - precision_surprise: 0.9723 - recall: 0.9582 - recall_angry: 0.9526 - recall_disgust: 0.9426 - recall_fear: 0.9176 - recall_happy: 0.9881 - recall_neutral: 0.9658 - recall_sad: 0.9409 - recall_surprise: 0.9668Restoring model weights from the end of the best epoch: 5.\n",
      "\n",
      "Epoch 15: val_loss did not improve from 1.14446\n",
      "\n",
      "Epoch 15: ReduceLROnPlateau reducing learning rate to 1.0000000474974514e-05.\n",
      "740/740 [==============================] - 1540s 2s/step - loss: 0.1163 - accuracy: 0.9622 - precision: 0.9659 - precision_angry: 0.9617 - precision_disgust: 0.9539 - precision_fear: 0.9462 - precision_happy: 0.9883 - precision_neutral: 0.9706 - precision_sad: 0.9445 - precision_surprise: 0.9723 - recall: 0.9582 - recall_angry: 0.9526 - recall_disgust: 0.9426 - recall_fear: 0.9176 - recall_happy: 0.9881 - recall_neutral: 0.9658 - recall_sad: 0.9409 - recall_surprise: 0.9668 - val_loss: 2.1333 - val_accuracy: 0.6022 - val_precision: 0.6138 - val_precision_angry: 0.5320 - val_precision_disgust: 0.7273 - val_precision_fear: 0.4266 - val_precision_happy: 0.8137 - val_precision_neutral: 0.5810 - val_precision_sad: 0.4574 - val_precision_surprise: 0.7945 - val_recall: 0.5900 - val_recall_angry: 0.4348 - val_recall_disgust: 0.3840 - val_recall_fear: 0.4327 - val_recall_happy: 0.8315 - val_recall_neutral: 0.5420 - val_recall_sad: 0.4995 - val_recall_surprise: 0.6938 - lr: 1.0000e-04\n",
      "Epoch 15: early stopping\n"
     ]
    }
   ],
   "source": [
    "history = model.fit(\n",
    "    train_generator,\n",
    "    steps_per_epoch=train_generator.n//train_generator.batch_size,\n",
    "    epochs=epochs,\n",
    "    validation_data=validation_generator,\n",
    "    validation_steps=validation_generator.n//validation_generator.batch_size,\n",
    "    callbacks=callbacks_list,\n",
    ")"
   ],
   "metadata": {
    "collapsed": false,
    "pycharm": {
     "name": "#%%\n"
    }
   }
  },
  {
   "cell_type": "markdown",
   "source": [
    "### 7. Evaluation - Test set"
   ],
   "metadata": {
    "collapsed": false,
    "pycharm": {
     "name": "#%% md\n"
    }
   }
  },
  {
   "cell_type": "code",
   "execution_count": 3,
   "outputs": [],
   "source": [
    "from keras.models import load_model\n",
    "\n",
    "model = load_model(\"model_efficientnet_base.h5\")"
   ],
   "metadata": {
    "collapsed": false,
    "pycharm": {
     "name": "#%%\n"
    }
   }
  },
  {
   "cell_type": "code",
   "execution_count": 4,
   "outputs": [
    {
     "name": "stdout",
     "output_type": "stream",
     "text": [
      "Found 7178 images belonging to 7 classes.\n"
     ]
    }
   ],
   "source": [
    "test_data_generator = ImageDataGenerator(preprocessing_function=preprocess_input)\n",
    "\n",
    "test_generator = test_data_generator.flow_from_directory(\n",
    "    DATASET_BASE_TEST_PATH,\n",
    "    target_size=(224, 224),\n",
    "    batch_size=32,\n",
    "    class_mode='categorical',\n",
    "    shuffle=False\n",
    ")"
   ],
   "metadata": {
    "collapsed": false,
    "pycharm": {
     "name": "#%%\n"
    }
   }
  },
  {
   "cell_type": "code",
   "execution_count": 5,
   "outputs": [
    {
     "name": "stdout",
     "output_type": "stream",
     "text": [
      "225/225 [==============================] - 125s 541ms/step - loss: 1.1459 - accuracy: 0.5634 - precision: 0.7273 - precision_angry: 0.6461 - precision_disgust: 0.0000e+00 - precision_fear: 0.5783 - precision_happy: 0.8228 - precision_neutral: 0.6072 - precision_sad: 0.6012 - precision_surprise: 0.7444 - recall: 0.4157 - recall_angry: 0.2516 - recall_disgust: 0.0000e+00 - recall_fear: 0.0469 - recall_happy: 0.8140 - recall_neutral: 0.3950 - recall_sad: 0.1596 - recall_surprise: 0.6799\n"
     ]
    },
    {
     "data": {
      "text/plain": "[1.1459232568740845,\n 0.5633881092071533,\n 0.7272727489471436,\n 0.6461126208305359,\n 0.0,\n 0.5783132314682007,\n 0.8227919936180115,\n 0.6072319149971008,\n 0.6012084484100342,\n 0.7444005012512207,\n 0.41571468114852905,\n 0.25156575441360474,\n 0.0,\n 0.046875,\n 0.8139796853065491,\n 0.3949716091156006,\n 0.15958300232887268,\n 0.6799037456512451]"
     },
     "execution_count": 5,
     "metadata": {},
     "output_type": "execute_result"
    }
   ],
   "source": [
    "model.evaluate(test_generator)"
   ],
   "metadata": {
    "collapsed": false,
    "pycharm": {
     "name": "#%%\n"
    }
   }
  }
 ],
 "metadata": {
  "kernelspec": {
   "display_name": "Python 3",
   "language": "python",
   "name": "python3"
  },
  "language_info": {
   "codemirror_mode": {
    "name": "ipython",
    "version": 2
   },
   "file_extension": ".py",
   "mimetype": "text/x-python",
   "name": "python",
   "nbconvert_exporter": "python",
   "pygments_lexer": "ipython2",
   "version": "2.7.6"
  }
 },
 "nbformat": 4,
 "nbformat_minor": 0
}