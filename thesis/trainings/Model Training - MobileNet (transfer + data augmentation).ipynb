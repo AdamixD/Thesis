{
 "cells": [
  {
   "cell_type": "markdown",
   "source": [
    "# Model Training - MobileNet (transfer + data augmentation)"
   ],
   "metadata": {
    "collapsed": false,
    "pycharm": {
     "name": "#%% md\n"
    }
   }
  },
  {
   "cell_type": "markdown",
   "source": [
    "### 0. Imports"
   ],
   "metadata": {
    "collapsed": false,
    "pycharm": {
     "name": "#%% md\n"
    }
   }
  },
  {
   "cell_type": "code",
   "execution_count": 1,
   "outputs": [],
   "source": [
    "import matplotlib.pyplot as plt\n",
    "import tensorflow as tf\n",
    "\n",
    "from keras.applications import MobileNet\n",
    "from keras.applications.mobilenet import preprocess_input\n",
    "from keras.callbacks import (\n",
    "    ModelCheckpoint,\n",
    "    EarlyStopping,\n",
    "    ReduceLROnPlateau\n",
    ")\n",
    "from keras.models import Sequential\n",
    "from keras.layers import Dense, GlobalAveragePooling2D\n",
    "from keras.metrics import Precision, Recall\n",
    "from keras.optimizers import Adam\n",
    "from keras.preprocessing.image import ImageDataGenerator\n",
    "from keras.utils.vis_utils import plot_model"
   ],
   "metadata": {
    "collapsed": false,
    "ExecuteTime": {
     "start_time": "2023-06-08T14:04:36.621338Z",
     "end_time": "2023-06-08T14:04:39.977428Z"
    },
    "pycharm": {
     "name": "#%%\n"
    }
   }
  },
  {
   "cell_type": "markdown",
   "source": [
    "### 1. Paths"
   ],
   "metadata": {
    "collapsed": false,
    "pycharm": {
     "name": "#%% md\n"
    }
   }
  },
  {
   "cell_type": "code",
   "execution_count": 2,
   "outputs": [],
   "source": [
    "# DATASET_BASE_TRAIN_PATH = \"/Users/adamdabkowski/DataspellProjects/Praca_dyplomowa/data/train_resized\"\n",
    "# DATASET_BASE_TRAIN_PATH = \"/Users/adamd/DataspellProjects/Facial Expressions Recognition/data/train_resized\"\n",
    "# DATASET_BASE_TRAIN_PATH = \"/Users/adamd/DataspellProjects/Facial Expressions Recognition/data/train_merged\"\n",
    "DATASET_BASE_TRAIN_PATH = \"/Users/adamd/DataspellProjects/Facial Expressions Recognition/data/train_merged_cleaned\"\n",
    "\n",
    "# DATASET_BASE_TRAIN_PATH = \"../new_data\"\n",
    "\n",
    "# DATASET_BASE_TEST_PATH = \"/Users/adamdabkowski/DataspellProjects/Praca_dyplomowa/data/test_resized\"\n",
    "DATASET_BASE_TEST_PATH = \"/Users/adamd/DataspellProjects/Facial Expressions Recognition/data/test_resized\""
   ],
   "metadata": {
    "collapsed": false,
    "ExecuteTime": {
     "start_time": "2023-06-08T14:06:08.298593Z",
     "end_time": "2023-06-08T14:06:08.305288Z"
    },
    "pycharm": {
     "name": "#%%\n"
    }
   }
  },
  {
   "cell_type": "markdown",
   "source": [
    "### 2. Data preprocessing"
   ],
   "metadata": {
    "collapsed": false,
    "pycharm": {
     "name": "#%% md\n"
    }
   }
  },
  {
   "cell_type": "code",
   "execution_count": 3,
   "outputs": [
    {
     "name": "stdout",
     "output_type": "stream",
     "text": [
      "Found 23689 images belonging to 7 classes.\n",
      "Found 5919 images belonging to 7 classes.\n"
     ]
    }
   ],
   "source": [
    "batch_size  = 32\n",
    "img_size = 224\n",
    "\n",
    "train_validation_data_generator = ImageDataGenerator(\n",
    "    preprocessing_function=preprocess_input,\n",
    "    validation_split=0.2,\n",
    "    rotation_range=40,\n",
    "    width_shift_range=0.2,\n",
    "    height_shift_range=0.2,\n",
    "    shear_range=0.2,\n",
    "    zoom_range=0.2,\n",
    "    horizontal_flip=True,\n",
    "    fill_mode='nearest'\n",
    ")\n",
    "\n",
    "train_generator = train_validation_data_generator.flow_from_directory(\n",
    "    DATASET_BASE_TRAIN_PATH,\n",
    "    target_size=(img_size,img_size),\n",
    "    batch_size=batch_size,\n",
    "    class_mode='categorical',\n",
    "    color_mode='rgb',\n",
    "    subset='training',\n",
    "    shuffle=True,\n",
    ")\n",
    "\n",
    "validation_generator = train_validation_data_generator.flow_from_directory(\n",
    "    DATASET_BASE_TRAIN_PATH,\n",
    "    target_size=(img_size,img_size),\n",
    "    batch_size=batch_size,\n",
    "    class_mode='categorical',\n",
    "    color_mode='rgb',\n",
    "    subset='validation',\n",
    "    shuffle=True,\n",
    ")"
   ],
   "metadata": {
    "collapsed": false,
    "ExecuteTime": {
     "start_time": "2023-06-08T14:06:12.829138Z",
     "end_time": "2023-06-08T14:06:13.009438Z"
    },
    "pycharm": {
     "name": "#%%\n"
    }
   }
  },
  {
   "cell_type": "markdown",
   "source": [
    "### 5. Model creating"
   ],
   "metadata": {
    "collapsed": false,
    "pycharm": {
     "name": "#%% md\n"
    }
   }
  },
  {
   "cell_type": "code",
   "execution_count": 4,
   "outputs": [],
   "source": [
    "CATEGORIES = [\"angry\", \"disgust\", \"fear\", \"happy\", \"neutral\", \"sad\", \"surprise\"]"
   ],
   "metadata": {
    "collapsed": false,
    "ExecuteTime": {
     "start_time": "2023-06-08T14:06:21.358802Z",
     "end_time": "2023-06-08T14:06:21.367405Z"
    },
    "pycharm": {
     "name": "#%%\n"
    }
   }
  },
  {
   "cell_type": "code",
   "execution_count": 5,
   "outputs": [],
   "source": [
    "checkpoint = ModelCheckpoint(\n",
    "    filepath=\"./model_mobilenet_transfer_data_augmentation.h5\",\n",
    "    monitor='val_loss',\n",
    "    verbose=1,\n",
    "    save_best_only=True,\n",
    "    mode='min'\n",
    ")\n",
    "\n",
    "early_stopping = EarlyStopping(\n",
    "    monitor='val_loss',\n",
    "    patience=10,\n",
    "    verbose=1,\n",
    "    restore_best_weights=True,\n",
    ")\n",
    "\n",
    "reduce_learning_rate = ReduceLROnPlateau(\n",
    "    monitor='val_loss',\n",
    "    factor=0.1,\n",
    "    patience=5,\n",
    "    verbose=1,\n",
    "    min_lr=0.00001,\n",
    ")\n",
    "\n",
    "callbacks_list = [early_stopping, checkpoint, reduce_learning_rate]"
   ],
   "metadata": {
    "collapsed": false,
    "ExecuteTime": {
     "start_time": "2023-06-08T14:06:22.501933Z",
     "end_time": "2023-06-08T14:06:22.506101Z"
    },
    "pycharm": {
     "name": "#%%\n"
    }
   }
  },
  {
   "cell_type": "code",
   "execution_count": 6,
   "outputs": [],
   "source": [
    "model = Sequential()\n",
    "\n",
    "base_model = MobileNet(input_shape=(img_size, img_size, 3), include_top=False, weights='imagenet')\n",
    "model.add(base_model)\n",
    "\n",
    "model.add(GlobalAveragePooling2D())\n",
    "model.add(Dense(512, activation='relu'))\n",
    "model.add(Dense(7, activation='softmax'))"
   ],
   "metadata": {
    "collapsed": false,
    "ExecuteTime": {
     "start_time": "2023-06-08T14:06:33.844245Z",
     "end_time": "2023-06-08T14:06:34.087495Z"
    },
    "pycharm": {
     "name": "#%%\n"
    }
   }
  },
  {
   "cell_type": "code",
   "execution_count": 7,
   "outputs": [
    {
     "name": "stdout",
     "output_type": "stream",
     "text": [
      "Model: \"sequential\"\n",
      "_________________________________________________________________\n",
      " Layer (type)                Output Shape              Param #   \n",
      "=================================================================\n",
      " mobilenet_1.00_224 (Functio  (None, 7, 7, 1024)       3228864   \n",
      " nal)                                                            \n",
      "                                                                 \n",
      " global_average_pooling2d (G  (None, 1024)             0         \n",
      " lobalAveragePooling2D)                                          \n",
      "                                                                 \n",
      " dense (Dense)               (None, 512)               524800    \n",
      "                                                                 \n",
      " dense_1 (Dense)             (None, 7)                 3591      \n",
      "                                                                 \n",
      "=================================================================\n",
      "Total params: 3,757,255\n",
      "Trainable params: 3,735,367\n",
      "Non-trainable params: 21,888\n",
      "_________________________________________________________________\n"
     ]
    }
   ],
   "source": [
    "model.compile(\n",
    "    optimizer=Adam(learning_rate=0.001),\n",
    "    loss='categorical_crossentropy',\n",
    "    metrics=[\n",
    "        'accuracy',\n",
    "        Precision(name='precision'),\n",
    "        Precision(class_id=0, name='precision_angry'),\n",
    "        Precision(class_id=1, name='precision_disgust'),\n",
    "        Precision(class_id=2, name='precision_fear'),\n",
    "        Precision(class_id=3, name='precision_happy'),\n",
    "        Precision(class_id=4, name='precision_neutral'),\n",
    "        Precision(class_id=5, name='precision_sad'),\n",
    "        Precision(class_id=6, name='precision_surprise'),\n",
    "        Recall(name='recall'),\n",
    "        Recall(class_id=0, name='recall_angry'),\n",
    "        Recall(class_id=1, name='recall_disgust'),\n",
    "        Recall(class_id=2, name='recall_fear'),\n",
    "        Recall(class_id=3, name='recall_happy'),\n",
    "        Recall(class_id=4, name='recall_neutral'),\n",
    "        Recall(class_id=5, name='recall_sad'),\n",
    "        Recall(class_id=6, name='recall_surprise'),\n",
    "    ]\n",
    ")\n",
    "model.summary()"
   ],
   "metadata": {
    "collapsed": false,
    "ExecuteTime": {
     "start_time": "2023-06-08T14:08:05.068394Z",
     "end_time": "2023-06-08T14:08:05.102749Z"
    },
    "pycharm": {
     "name": "#%%\n"
    }
   }
  },
  {
   "cell_type": "code",
   "execution_count": 8,
   "outputs": [
    {
     "data": {
      "image/png": "[encoded data removed]",
      "text/plain": "<IPython.core.display.Image object>"
     },
     "execution_count": 8,
     "metadata": {},
     "output_type": "execute_result"
    }
   ],
   "source": [
    "plot_model(model, to_file='model_mobilenet_transfer_data_augmentation.png', show_shapes=True, show_layer_names=True)"
   ],
   "metadata": {
    "collapsed": false,
    "pycharm": {
     "name": "#%%\n"
    }
   }
  },
  {
   "cell_type": "markdown",
   "source": [
    "### 6. Model training"
   ],
   "metadata": {
    "collapsed": false,
    "pycharm": {
     "name": "#%% md\n"
    }
   }
  },
  {
   "cell_type": "code",
   "execution_count": 9,
   "outputs": [],
   "source": [
    "epochs = 50"
   ],
   "metadata": {
    "collapsed": false,
    "ExecuteTime": {
     "start_time": "2023-06-08T14:08:06.121000Z",
     "end_time": "2023-06-08T14:08:06.134021Z"
    },
    "pycharm": {
     "name": "#%%\n"
    }
   }
  },
  {
   "cell_type": "code",
   "execution_count": 10,
   "outputs": [
    {
     "name": "stdout",
     "output_type": "stream",
     "text": [
      "Epoch 1/50\n",
      "740/740 [==============================] - ETA: 0s - loss: 1.3590 - accuracy: 0.4845 - precision: 0.6902 - precision_angry: 0.5241 - precision_disgust: 0.4571 - precision_fear: 0.4639 - precision_happy: 0.7864 - precision_neutral: 0.5737 - precision_sad: 0.4943 - precision_surprise: 0.6846 - recall: 0.2764 - recall_angry: 0.0924 - recall_disgust: 0.0317 - recall_fear: 0.0267 - recall_happy: 0.6365 - recall_neutral: 0.2176 - recall_sad: 0.0776 - recall_surprise: 0.4519\n",
      "Epoch 1: val_loss improved from inf to 1.45184, saving model to .\\model_mobilenet_transfer_data_augmentation.h5\n",
      "740/740 [==============================] - 904s 1s/step - loss: 1.3590 - accuracy: 0.4845 - precision: 0.6902 - precision_angry: 0.5241 - precision_disgust: 0.4571 - precision_fear: 0.4639 - precision_happy: 0.7864 - precision_neutral: 0.5737 - precision_sad: 0.4943 - precision_surprise: 0.6846 - recall: 0.2764 - recall_angry: 0.0924 - recall_disgust: 0.0317 - recall_fear: 0.0267 - recall_happy: 0.6365 - recall_neutral: 0.2176 - recall_sad: 0.0776 - recall_surprise: 0.4519 - val_loss: 1.4518 - val_accuracy: 0.4689 - val_precision: 0.6208 - val_precision_angry: 0.4057 - val_precision_disgust: 0.0000e+00 - val_precision_fear: 0.4455 - val_precision_happy: 0.8927 - val_precision_neutral: 0.7527 - val_precision_sad: 0.5490 - val_precision_surprise: 0.5558 - val_recall: 0.3203 - val_recall_angry: 0.4701 - val_recall_disgust: 0.0000e+00 - val_recall_fear: 0.0538 - val_recall_happy: 0.5746 - val_recall_neutral: 0.1355 - val_recall_sad: 0.0577 - val_recall_surprise: 0.6390 - lr: 0.0010\n",
      "Epoch 2/50\n",
      "740/740 [==============================] - ETA: 0s - loss: 1.1681 - accuracy: 0.5594 - precision: 0.7298 - precision_angry: 0.6161 - precision_disgust: 0.6022 - precision_fear: 0.6061 - precision_happy: 0.8485 - precision_neutral: 0.6165 - precision_sad: 0.5535 - precision_surprise: 0.7423 - recall: 0.3743 - recall_angry: 0.2208 - recall_disgust: 0.1111 - recall_fear: 0.0822 - recall_happy: 0.7456 - recall_neutral: 0.3238 - recall_sad: 0.1566 - recall_surprise: 0.5599\n",
      "Epoch 2: val_loss improved from 1.45184 to 1.17547, saving model to .\\model_mobilenet_transfer_data_augmentation.h5\n",
      "740/740 [==============================] - 890s 1s/step - loss: 1.1681 - accuracy: 0.5594 - precision: 0.7298 - precision_angry: 0.6161 - precision_disgust: 0.6022 - precision_fear: 0.6061 - precision_happy: 0.8485 - precision_neutral: 0.6165 - precision_sad: 0.5535 - precision_surprise: 0.7423 - recall: 0.3743 - recall_angry: 0.2208 - recall_disgust: 0.1111 - recall_fear: 0.0822 - recall_happy: 0.7456 - recall_neutral: 0.3238 - recall_sad: 0.1566 - recall_surprise: 0.5599 - val_loss: 1.1755 - val_accuracy: 0.5632 - val_precision: 0.7303 - val_precision_angry: 0.5372 - val_precision_disgust: 0.6667 - val_precision_fear: 0.6098 - val_precision_happy: 0.8686 - val_precision_neutral: 0.7294 - val_precision_sad: 0.5032 - val_precision_surprise: 0.8285 - val_recall: 0.3740 - val_recall_angry: 0.3178 - val_recall_disgust: 0.0476 - val_recall_fear: 0.0896 - val_recall_happy: 0.7483 - val_recall_neutral: 0.1842 - val_recall_sad: 0.2428 - val_recall_surprise: 0.5173 - lr: 0.0010\n",
      "Epoch 3/50\n",
      "740/740 [==============================] - ETA: 0s - loss: 1.1105 - accuracy: 0.5838 - precision: 0.7357 - precision_angry: 0.6623 - precision_disgust: 0.6391 - precision_fear: 0.5795 - precision_happy: 0.8615 - precision_neutral: 0.6384 - precision_sad: 0.5664 - precision_surprise: 0.7424 - recall: 0.4129 - recall_angry: 0.2906 - recall_disgust: 0.1683 - recall_fear: 0.1092 - recall_happy: 0.7703 - recall_neutral: 0.3647 - recall_sad: 0.1995 - recall_surprise: 0.5910\n",
      "Epoch 3: val_loss did not improve from 1.17547\n",
      "740/740 [==============================] - 884s 1s/step - loss: 1.1105 - accuracy: 0.5838 - precision: 0.7357 - precision_angry: 0.6623 - precision_disgust: 0.6391 - precision_fear: 0.5795 - precision_happy: 0.8615 - precision_neutral: 0.6384 - precision_sad: 0.5664 - precision_surprise: 0.7424 - recall: 0.4129 - recall_angry: 0.2906 - recall_disgust: 0.1683 - recall_fear: 0.1092 - recall_happy: 0.7703 - recall_neutral: 0.3647 - recall_sad: 0.1995 - recall_surprise: 0.5910 - val_loss: 1.1889 - val_accuracy: 0.5523 - val_precision: 0.7088 - val_precision_angry: 0.7898 - val_precision_disgust: 1.0000 - val_precision_fear: 0.6774 - val_precision_happy: 0.8617 - val_precision_neutral: 0.6421 - val_precision_sad: 0.6454 - val_precision_surprise: 0.5512 - val_recall: 0.3779 - val_recall_angry: 0.1695 - val_recall_disgust: 0.0161 - val_recall_fear: 0.0251 - val_recall_happy: 0.7209 - val_recall_neutral: 0.3717 - val_recall_sad: 0.0942 - val_recall_surprise: 0.8127 - lr: 0.0010\n",
      "Epoch 4/50\n",
      "740/740 [==============================] - ETA: 0s - loss: 1.0740 - accuracy: 0.5980 - precision: 0.7413 - precision_angry: 0.6436 - precision_disgust: 0.6689 - precision_fear: 0.6303 - precision_happy: 0.8693 - precision_neutral: 0.6433 - precision_sad: 0.6018 - precision_surprise: 0.7557 - recall: 0.4384 - recall_angry: 0.3058 - recall_disgust: 0.2004 - recall_fear: 0.1421 - recall_happy: 0.7869 - recall_neutral: 0.3934 - recall_sad: 0.2452 - recall_surprise: 0.6041\n",
      "Epoch 4: val_loss improved from 1.17547 to 1.16350, saving model to .\\model_mobilenet_transfer_data_augmentation.h5\n",
      "740/740 [==============================] - 893s 1s/step - loss: 1.0740 - accuracy: 0.5980 - precision: 0.7413 - precision_angry: 0.6436 - precision_disgust: 0.6689 - precision_fear: 0.6303 - precision_happy: 0.8693 - precision_neutral: 0.6433 - precision_sad: 0.6018 - precision_surprise: 0.7557 - recall: 0.4384 - recall_angry: 0.3058 - recall_disgust: 0.2004 - recall_fear: 0.1421 - recall_happy: 0.7869 - recall_neutral: 0.3934 - recall_sad: 0.2452 - recall_surprise: 0.6041 - val_loss: 1.1635 - val_accuracy: 0.5814 - val_precision: 0.6788 - val_precision_angry: 0.6677 - val_precision_disgust: 1.0000 - val_precision_fear: 0.6235 - val_precision_happy: 0.7749 - val_precision_neutral: 0.5527 - val_precision_sad: 0.6094 - val_precision_surprise: 0.6719 - val_recall: 0.4655 - val_recall_angry: 0.2570 - val_recall_disgust: 0.0476 - val_recall_fear: 0.0632 - val_recall_happy: 0.8675 - val_recall_neutral: 0.5461 - val_recall_sad: 0.1864 - val_recall_surprise: 0.7117 - lr: 0.0010\n",
      "Epoch 5/50\n",
      "740/740 [==============================] - ETA: 0s - loss: 1.0392 - accuracy: 0.6110 - precision: 0.7479 - precision_angry: 0.6687 - precision_disgust: 0.7079 - precision_fear: 0.6211 - precision_happy: 0.8739 - precision_neutral: 0.6539 - precision_sad: 0.6085 - precision_surprise: 0.7740 - recall: 0.4620 - recall_angry: 0.3402 - recall_disgust: 0.2495 - recall_fear: 0.1537 - recall_happy: 0.8028 - recall_neutral: 0.4130 - recall_sad: 0.2802 - recall_surprise: 0.6316\n",
      "Epoch 5: val_loss improved from 1.16350 to 1.09263, saving model to .\\model_mobilenet_transfer_data_augmentation.h5\n",
      "740/740 [==============================] - 899s 1s/step - loss: 1.0392 - accuracy: 0.6110 - precision: 0.7479 - precision_angry: 0.6687 - precision_disgust: 0.7079 - precision_fear: 0.6211 - precision_happy: 0.8739 - precision_neutral: 0.6539 - precision_sad: 0.6085 - precision_surprise: 0.7740 - recall: 0.4620 - recall_angry: 0.3402 - recall_disgust: 0.2495 - recall_fear: 0.1537 - recall_happy: 0.8028 - recall_neutral: 0.4130 - recall_sad: 0.2802 - recall_surprise: 0.6316 - val_loss: 1.0926 - val_accuracy: 0.5861 - val_precision: 0.7274 - val_precision_angry: 0.6301 - val_precision_disgust: 0.4333 - val_precision_fear: 0.6082 - val_precision_happy: 0.8997 - val_precision_neutral: 0.5977 - val_precision_sad: 0.5967 - val_precision_surprise: 0.8464 - val_recall: 0.4518 - val_recall_angry: 0.3370 - val_recall_disgust: 0.2080 - val_recall_fear: 0.1238 - val_recall_happy: 0.7657 - val_recall_neutral: 0.5227 - val_recall_sad: 0.2993 - val_recall_surprise: 0.4765 - lr: 0.0010\n",
      "Epoch 6/50\n",
      "740/740 [==============================] - ETA: 0s - loss: 1.0146 - accuracy: 0.6193 - precision: 0.7476 - precision_angry: 0.6667 - precision_disgust: 0.6802 - precision_fear: 0.6541 - precision_happy: 0.8717 - precision_neutral: 0.6565 - precision_sad: 0.6156 - precision_surprise: 0.7669 - recall: 0.4701 - recall_angry: 0.3340 - recall_disgust: 0.2653 - recall_fear: 0.1807 - recall_happy: 0.8044 - recall_neutral: 0.4331 - recall_sad: 0.2845 - recall_surprise: 0.6343\n",
      "Epoch 6: val_loss improved from 1.09263 to 1.03386, saving model to .\\model_mobilenet_transfer_data_augmentation.h5\n",
      "740/740 [==============================] - 889s 1s/step - loss: 1.0146 - accuracy: 0.6193 - precision: 0.7476 - precision_angry: 0.6667 - precision_disgust: 0.6802 - precision_fear: 0.6541 - precision_happy: 0.8717 - precision_neutral: 0.6565 - precision_sad: 0.6156 - precision_surprise: 0.7669 - recall: 0.4701 - recall_angry: 0.3340 - recall_disgust: 0.2653 - recall_fear: 0.1807 - recall_happy: 0.8044 - recall_neutral: 0.4331 - recall_sad: 0.2845 - recall_surprise: 0.6343 - val_loss: 1.0339 - val_accuracy: 0.6111 - val_precision: 0.7425 - val_precision_angry: 0.6964 - val_precision_disgust: 0.6522 - val_precision_fear: 0.6966 - val_precision_happy: 0.8647 - val_precision_neutral: 0.6946 - val_precision_sad: 0.5355 - val_precision_surprise: 0.8288 - val_recall: 0.4693 - val_recall_angry: 0.3321 - val_recall_disgust: 0.2381 - val_recall_fear: 0.1205 - val_recall_happy: 0.8232 - val_recall_neutral: 0.3929 - val_recall_sad: 0.4058 - val_recall_surprise: 0.5542 - lr: 0.0010\n",
      "Epoch 7/50\n",
      "740/740 [==============================] - ETA: 0s - loss: 0.9884 - accuracy: 0.6284 - precision: 0.7572 - precision_angry: 0.6916 - precision_disgust: 0.7536 - precision_fear: 0.6498 - precision_happy: 0.8814 - precision_neutral: 0.6817 - precision_sad: 0.6096 - precision_surprise: 0.7809 - recall: 0.4928 - recall_angry: 0.3705 - recall_disgust: 0.3089 - recall_fear: 0.2014 - recall_happy: 0.8168 - recall_neutral: 0.4682 - recall_sad: 0.3064 - recall_surprise: 0.6425\n",
      "Epoch 7: val_loss improved from 1.03386 to 1.02922, saving model to .\\model_mobilenet_transfer_data_augmentation.h5\n",
      "740/740 [==============================] - 885s 1s/step - loss: 0.9884 - accuracy: 0.6284 - precision: 0.7572 - precision_angry: 0.6916 - precision_disgust: 0.7536 - precision_fear: 0.6498 - precision_happy: 0.8814 - precision_neutral: 0.6817 - precision_sad: 0.6096 - precision_surprise: 0.7809 - recall: 0.4928 - recall_angry: 0.3705 - recall_disgust: 0.3089 - recall_fear: 0.2014 - recall_happy: 0.8168 - recall_neutral: 0.4682 - recall_sad: 0.3064 - recall_surprise: 0.6425 - val_loss: 1.0292 - val_accuracy: 0.6155 - val_precision: 0.7572 - val_precision_angry: 0.6443 - val_precision_disgust: 0.7778 - val_precision_fear: 0.6786 - val_precision_happy: 0.9108 - val_precision_neutral: 0.6689 - val_precision_sad: 0.5793 - val_precision_surprise: 0.7639 - val_recall: 0.4395 - val_recall_angry: 0.3521 - val_recall_disgust: 0.1111 - val_recall_fear: 0.1132 - val_recall_happy: 0.7451 - val_recall_neutral: 0.3996 - val_recall_sad: 0.2492 - val_recall_surprise: 0.6864 - lr: 0.0010\n",
      "Epoch 8/50\n",
      "740/740 [==============================] - ETA: 0s - loss: 0.9579 - accuracy: 0.6424 - precision: 0.7644 - precision_angry: 0.7070 - precision_disgust: 0.7316 - precision_fear: 0.6728 - precision_happy: 0.8865 - precision_neutral: 0.6776 - precision_sad: 0.6324 - precision_surprise: 0.7898 - recall: 0.5075 - recall_angry: 0.4015 - recall_disgust: 0.3347 - recall_fear: 0.2294 - recall_happy: 0.8230 - recall_neutral: 0.4671 - recall_sad: 0.3195 - recall_surprise: 0.6629\n",
      "Epoch 8: val_loss did not improve from 1.02922\n",
      "740/740 [==============================] - 891s 1s/step - loss: 0.9579 - accuracy: 0.6424 - precision: 0.7644 - precision_angry: 0.7070 - precision_disgust: 0.7316 - precision_fear: 0.6728 - precision_happy: 0.8865 - precision_neutral: 0.6776 - precision_sad: 0.6324 - precision_surprise: 0.7898 - recall: 0.5075 - recall_angry: 0.4015 - recall_disgust: 0.3347 - recall_fear: 0.2294 - recall_happy: 0.8230 - recall_neutral: 0.4671 - recall_sad: 0.3195 - recall_surprise: 0.6629 - val_loss: 1.0937 - val_accuracy: 0.5798 - val_precision: 0.7052 - val_precision_angry: 0.7397 - val_precision_disgust: 0.7727 - val_precision_fear: 0.4643 - val_precision_happy: 0.8824 - val_precision_neutral: 0.8057 - val_precision_sad: 0.5170 - val_precision_surprise: 0.7812 - val_recall: 0.4689 - val_recall_angry: 0.2848 - val_recall_disgust: 0.2698 - val_recall_fear: 0.3869 - val_recall_happy: 0.8041 - val_recall_neutral: 0.1680 - val_recall_sad: 0.4095 - val_recall_surprise: 0.6439 - lr: 0.0010\n",
      "Epoch 9/50\n",
      "740/740 [==============================] - ETA: 0s - loss: 0.9463 - accuracy: 0.6447 - precision: 0.7658 - precision_angry: 0.7243 - precision_disgust: 0.7358 - precision_fear: 0.6779 - precision_happy: 0.8825 - precision_neutral: 0.6790 - precision_sad: 0.6398 - precision_surprise: 0.7837 - recall: 0.5168 - recall_angry: 0.4063 - recall_disgust: 0.3861 - recall_fear: 0.2326 - recall_happy: 0.8331 - recall_neutral: 0.4704 - recall_sad: 0.3362 - recall_surprise: 0.6740\n",
      "Epoch 9: val_loss improved from 1.02922 to 1.01917, saving model to .\\model_mobilenet_transfer_data_augmentation.h5\n",
      "740/740 [==============================] - 887s 1s/step - loss: 0.9463 - accuracy: 0.6447 - precision: 0.7658 - precision_angry: 0.7243 - precision_disgust: 0.7358 - precision_fear: 0.6779 - precision_happy: 0.8825 - precision_neutral: 0.6790 - precision_sad: 0.6398 - precision_surprise: 0.7837 - recall: 0.5168 - recall_angry: 0.4063 - recall_disgust: 0.3861 - recall_fear: 0.2326 - recall_happy: 0.8331 - recall_neutral: 0.4704 - recall_sad: 0.3362 - recall_surprise: 0.6740 - val_loss: 1.0192 - val_accuracy: 0.6165 - val_precision: 0.7430 - val_precision_angry: 0.6277 - val_precision_disgust: 0.7308 - val_precision_fear: 0.5971 - val_precision_happy: 0.8617 - val_precision_neutral: 0.7106 - val_precision_sad: 0.6238 - val_precision_surprise: 0.7720 - val_recall: 0.4954 - val_recall_angry: 0.4190 - val_recall_disgust: 0.1532 - val_recall_fear: 0.1945 - val_recall_happy: 0.8340 - val_recall_neutral: 0.4101 - val_recall_sad: 0.3357 - val_recall_surprise: 0.6505 - lr: 0.0010\n",
      "Epoch 10/50\n",
      "740/740 [==============================] - ETA: 0s - loss: 0.9187 - accuracy: 0.6582 - precision: 0.7662 - precision_angry: 0.7145 - precision_disgust: 0.7473 - precision_fear: 0.6679 - precision_happy: 0.8906 - precision_neutral: 0.6829 - precision_sad: 0.6336 - precision_surprise: 0.8031 - recall: 0.5313 - recall_angry: 0.4142 - recall_disgust: 0.4040 - recall_fear: 0.2612 - recall_happy: 0.8340 - recall_neutral: 0.4984 - recall_sad: 0.3527 - recall_surprise: 0.6856\n",
      "Epoch 10: val_loss did not improve from 1.01917\n",
      "740/740 [==============================] - 881s 1s/step - loss: 0.9187 - accuracy: 0.6582 - precision: 0.7662 - precision_angry: 0.7145 - precision_disgust: 0.7473 - precision_fear: 0.6679 - precision_happy: 0.8906 - precision_neutral: 0.6829 - precision_sad: 0.6336 - precision_surprise: 0.8031 - recall: 0.5313 - recall_angry: 0.4142 - recall_disgust: 0.4040 - recall_fear: 0.2612 - recall_happy: 0.8340 - recall_neutral: 0.4984 - recall_sad: 0.3527 - recall_surprise: 0.6856 - val_loss: 1.0307 - val_accuracy: 0.6075 - val_precision: 0.7129 - val_precision_angry: 0.5922 - val_precision_disgust: 0.8529 - val_precision_fear: 0.5448 - val_precision_happy: 0.8284 - val_precision_neutral: 0.7032 - val_precision_sad: 0.5761 - val_precision_surprise: 0.8388 - val_recall: 0.5002 - val_recall_angry: 0.4216 - val_recall_disgust: 0.2320 - val_recall_fear: 0.2753 - val_recall_happy: 0.8663 - val_recall_neutral: 0.3764 - val_recall_sad: 0.3678 - val_recall_surprise: 0.5045 - lr: 0.0010\n",
      "Epoch 11/50\n",
      "740/740 [==============================] - ETA: 0s - loss: 0.9007 - accuracy: 0.6639 - precision: 0.7705 - precision_angry: 0.7159 - precision_disgust: 0.7444 - precision_fear: 0.6704 - precision_happy: 0.8936 - precision_neutral: 0.6886 - precision_sad: 0.6589 - precision_surprise: 0.7975 - recall: 0.5441 - recall_angry: 0.4309 - recall_disgust: 0.3988 - recall_fear: 0.2681 - recall_happy: 0.8442 - recall_neutral: 0.5135 - recall_sad: 0.3754 - recall_surprise: 0.6914\n",
      "Epoch 11: val_loss improved from 1.01917 to 0.98878, saving model to .\\model_mobilenet_transfer_data_augmentation.h5\n",
      "740/740 [==============================] - 893s 1s/step - loss: 0.9007 - accuracy: 0.6639 - precision: 0.7705 - precision_angry: 0.7159 - precision_disgust: 0.7444 - precision_fear: 0.6704 - precision_happy: 0.8936 - precision_neutral: 0.6886 - precision_sad: 0.6589 - precision_surprise: 0.7975 - recall: 0.5441 - recall_angry: 0.4309 - recall_disgust: 0.3988 - recall_fear: 0.2681 - recall_happy: 0.8442 - recall_neutral: 0.5135 - recall_sad: 0.3754 - recall_surprise: 0.6914 - val_loss: 0.9888 - val_accuracy: 0.6355 - val_precision: 0.7289 - val_precision_angry: 0.6035 - val_precision_disgust: 0.8333 - val_precision_fear: 0.6762 - val_precision_happy: 0.8886 - val_precision_neutral: 0.6940 - val_precision_sad: 0.5410 - val_precision_surprise: 0.7700 - val_recall: 0.5183 - val_recall_angry: 0.4616 - val_recall_disgust: 0.2016 - val_recall_fear: 0.1690 - val_recall_happy: 0.8437 - val_recall_neutral: 0.4024 - val_recall_sad: 0.4149 - val_recall_surprise: 0.7000 - lr: 0.0010\n",
      "Epoch 12/50\n",
      "740/740 [==============================] - ETA: 0s - loss: 0.8892 - accuracy: 0.6669 - precision: 0.7702 - precision_angry: 0.7207 - precision_disgust: 0.7214 - precision_fear: 0.6732 - precision_happy: 0.8928 - precision_neutral: 0.6911 - precision_sad: 0.6597 - precision_surprise: 0.7940 - recall: 0.5515 - recall_angry: 0.4430 - recall_disgust: 0.4000 - recall_fear: 0.2657 - recall_happy: 0.8468 - recall_neutral: 0.5151 - recall_sad: 0.3957 - recall_surprise: 0.7075\n",
      "Epoch 12: val_loss did not improve from 0.98878\n",
      "740/740 [==============================] - 893s 1s/step - loss: 0.8892 - accuracy: 0.6669 - precision: 0.7702 - precision_angry: 0.7207 - precision_disgust: 0.7214 - precision_fear: 0.6732 - precision_happy: 0.8928 - precision_neutral: 0.6911 - precision_sad: 0.6597 - precision_surprise: 0.7940 - recall: 0.5515 - recall_angry: 0.4430 - recall_disgust: 0.4000 - recall_fear: 0.2657 - recall_happy: 0.8468 - recall_neutral: 0.5151 - recall_sad: 0.3957 - recall_surprise: 0.7075 - val_loss: 1.0401 - val_accuracy: 0.6114 - val_precision: 0.7035 - val_precision_angry: 0.6971 - val_precision_disgust: 0.8387 - val_precision_fear: 0.5745 - val_precision_happy: 0.8291 - val_precision_neutral: 0.5399 - val_precision_sad: 0.6982 - val_precision_surprise: 0.8184 - val_recall: 0.5146 - val_recall_angry: 0.3541 - val_recall_disgust: 0.2080 - val_recall_fear: 0.1933 - val_recall_happy: 0.8658 - val_recall_neutral: 0.6894 - val_recall_sad: 0.1990 - val_recall_surprise: 0.5921 - lr: 0.0010\n",
      "Epoch 13/50\n",
      "740/740 [==============================] - ETA: 0s - loss: 0.8716 - accuracy: 0.6725 - precision: 0.7734 - precision_angry: 0.7192 - precision_disgust: 0.7671 - precision_fear: 0.6938 - precision_happy: 0.8943 - precision_neutral: 0.6972 - precision_sad: 0.6644 - precision_surprise: 0.7909 - recall: 0.5629 - recall_angry: 0.4601 - recall_disgust: 0.4436 - recall_fear: 0.2910 - recall_happy: 0.8518 - recall_neutral: 0.5299 - recall_sad: 0.3999 - recall_surprise: 0.7085\n",
      "Epoch 13: val_loss did not improve from 0.98878\n",
      "740/740 [==============================] - 898s 1s/step - loss: 0.8716 - accuracy: 0.6725 - precision: 0.7734 - precision_angry: 0.7192 - precision_disgust: 0.7671 - precision_fear: 0.6938 - precision_happy: 0.8943 - precision_neutral: 0.6972 - precision_sad: 0.6644 - precision_surprise: 0.7909 - recall: 0.5629 - recall_angry: 0.4601 - recall_disgust: 0.4436 - recall_fear: 0.2910 - recall_happy: 0.8518 - recall_neutral: 0.5299 - recall_sad: 0.3999 - recall_surprise: 0.7085 - val_loss: 0.9955 - val_accuracy: 0.6304 - val_precision: 0.7329 - val_precision_angry: 0.6704 - val_precision_disgust: 0.8438 - val_precision_fear: 0.6530 - val_precision_happy: 0.8925 - val_precision_neutral: 0.6942 - val_precision_sad: 0.5776 - val_precision_surprise: 0.6679 - val_recall: 0.5178 - val_recall_angry: 0.4409 - val_recall_disgust: 0.2160 - val_recall_fear: 0.2083 - val_recall_happy: 0.8179 - val_recall_neutral: 0.4393 - val_recall_sad: 0.3306 - val_recall_surprise: 0.7955 - lr: 0.0010\n",
      "Epoch 14/50\n",
      "740/740 [==============================] - ETA: 0s - loss: 0.8580 - accuracy: 0.6809 - precision: 0.7773 - precision_angry: 0.7288 - precision_disgust: 0.7782 - precision_fear: 0.6984 - precision_happy: 0.8957 - precision_neutral: 0.6968 - precision_sad: 0.6768 - precision_surprise: 0.8002 - recall: 0.5750 - recall_angry: 0.4747 - recall_disgust: 0.4524 - recall_fear: 0.3052 - recall_happy: 0.8573 - recall_neutral: 0.5422 - recall_sad: 0.4231 - recall_surprise: 0.7129\n",
      "Epoch 14: val_loss did not improve from 0.98878\n",
      "740/740 [==============================] - 895s 1s/step - loss: 0.8580 - accuracy: 0.6809 - precision: 0.7773 - precision_angry: 0.7288 - precision_disgust: 0.7782 - precision_fear: 0.6984 - precision_happy: 0.8957 - precision_neutral: 0.6968 - precision_sad: 0.6768 - precision_surprise: 0.8002 - recall: 0.5750 - recall_angry: 0.4747 - recall_disgust: 0.4524 - recall_fear: 0.3052 - recall_happy: 0.8573 - recall_neutral: 0.5422 - recall_sad: 0.4231 - recall_surprise: 0.7129 - val_loss: 0.9908 - val_accuracy: 0.6299 - val_precision: 0.7437 - val_precision_angry: 0.5828 - val_precision_disgust: 0.8214 - val_precision_fear: 0.6490 - val_precision_happy: 0.8842 - val_precision_neutral: 0.7279 - val_precision_sad: 0.6255 - val_precision_surprise: 0.7687 - val_recall: 0.5121 - val_recall_angry: 0.4725 - val_recall_disgust: 0.1825 - val_recall_fear: 0.2628 - val_recall_happy: 0.8190 - val_recall_neutral: 0.4150 - val_recall_sad: 0.3244 - val_recall_surprise: 0.6828 - lr: 0.0010\n",
      "Epoch 15/50\n",
      "740/740 [==============================] - ETA: 0s - loss: 0.8405 - accuracy: 0.6861 - precision: 0.7813 - precision_angry: 0.7405 - precision_disgust: 0.7926 - precision_fear: 0.6937 - precision_happy: 0.8998 - precision_neutral: 0.7095 - precision_sad: 0.6686 - precision_surprise: 0.8012 - recall: 0.5798 - recall_angry: 0.4682 - recall_disgust: 0.5079 - recall_fear: 0.3072 - recall_happy: 0.8610 - recall_neutral: 0.5586 - recall_sad: 0.4172 - recall_surprise: 0.7257\n",
      "Epoch 15: val_loss improved from 0.98878 to 0.96656, saving model to .\\model_mobilenet_transfer_data_augmentation.h5\n",
      "740/740 [==============================] - 889s 1s/step - loss: 0.8405 - accuracy: 0.6861 - precision: 0.7813 - precision_angry: 0.7405 - precision_disgust: 0.7926 - precision_fear: 0.6937 - precision_happy: 0.8998 - precision_neutral: 0.7095 - precision_sad: 0.6686 - precision_surprise: 0.8012 - recall: 0.5798 - recall_angry: 0.4682 - recall_disgust: 0.5079 - recall_fear: 0.3072 - recall_happy: 0.8610 - recall_neutral: 0.5586 - recall_sad: 0.4172 - recall_surprise: 0.7257 - val_loss: 0.9666 - val_accuracy: 0.6476 - val_precision: 0.7382 - val_precision_angry: 0.6729 - val_precision_disgust: 0.8000 - val_precision_fear: 0.5966 - val_precision_happy: 0.8971 - val_precision_neutral: 0.6455 - val_precision_sad: 0.6067 - val_precision_surprise: 0.7945 - val_recall: 0.5482 - val_recall_angry: 0.4799 - val_recall_disgust: 0.3200 - val_recall_fear: 0.2912 - val_recall_happy: 0.8157 - val_recall_neutral: 0.5618 - val_recall_sad: 0.3347 - val_recall_surprise: 0.7009 - lr: 0.0010\n",
      "Epoch 16/50\n",
      "740/740 [==============================] - ETA: 0s - loss: 0.8203 - accuracy: 0.6940 - precision: 0.7846 - precision_angry: 0.7485 - precision_disgust: 0.7702 - precision_fear: 0.7105 - precision_happy: 0.8962 - precision_neutral: 0.7150 - precision_sad: 0.6787 - precision_surprise: 0.8081 - recall: 0.5945 - recall_angry: 0.4998 - recall_disgust: 0.4911 - recall_fear: 0.3303 - recall_happy: 0.8685 - recall_neutral: 0.5632 - recall_sad: 0.4448 - recall_surprise: 0.7276\n",
      "Epoch 16: val_loss did not improve from 0.96656\n",
      "740/740 [==============================] - 893s 1s/step - loss: 0.8203 - accuracy: 0.6940 - precision: 0.7846 - precision_angry: 0.7485 - precision_disgust: 0.7702 - precision_fear: 0.7105 - precision_happy: 0.8962 - precision_neutral: 0.7150 - precision_sad: 0.6787 - precision_surprise: 0.8081 - recall: 0.5945 - recall_angry: 0.4998 - recall_disgust: 0.4911 - recall_fear: 0.3303 - recall_happy: 0.8685 - recall_neutral: 0.5632 - recall_sad: 0.4448 - recall_surprise: 0.7276 - val_loss: 0.9827 - val_accuracy: 0.6321 - val_precision: 0.7291 - val_precision_angry: 0.7500 - val_precision_disgust: 0.5632 - val_precision_fear: 0.5172 - val_precision_happy: 0.9118 - val_precision_neutral: 0.6816 - val_precision_sad: 0.5796 - val_precision_surprise: 0.7668 - val_recall: 0.5312 - val_recall_angry: 0.3004 - val_recall_disgust: 0.3920 - val_recall_fear: 0.3409 - val_recall_happy: 0.8019 - val_recall_neutral: 0.4826 - val_recall_sad: 0.4068 - val_recall_surprise: 0.7391 - lr: 0.0010\n",
      "Epoch 17/50\n",
      "740/740 [==============================] - ETA: 0s - loss: 0.8118 - accuracy: 0.6978 - precision: 0.7874 - precision_angry: 0.7515 - precision_disgust: 0.7957 - precision_fear: 0.7072 - precision_happy: 0.8951 - precision_neutral: 0.7269 - precision_sad: 0.6811 - precision_surprise: 0.8141 - recall: 0.5983 - recall_angry: 0.4988 - recall_disgust: 0.5168 - recall_fear: 0.3488 - recall_happy: 0.8655 - recall_neutral: 0.5659 - recall_sad: 0.4531 - recall_surprise: 0.7248\n",
      "Epoch 17: val_loss improved from 0.96656 to 0.96407, saving model to .\\model_mobilenet_transfer_data_augmentation.h5\n",
      "740/740 [==============================] - 889s 1s/step - loss: 0.8118 - accuracy: 0.6978 - precision: 0.7874 - precision_angry: 0.7515 - precision_disgust: 0.7957 - precision_fear: 0.7072 - precision_happy: 0.8951 - precision_neutral: 0.7269 - precision_sad: 0.6811 - precision_surprise: 0.8141 - recall: 0.5983 - recall_angry: 0.4988 - recall_disgust: 0.5168 - recall_fear: 0.3488 - recall_happy: 0.8655 - recall_neutral: 0.5659 - recall_sad: 0.4531 - recall_surprise: 0.7248 - val_loss: 0.9641 - val_accuracy: 0.6469 - val_precision: 0.7482 - val_precision_angry: 0.6492 - val_precision_disgust: 0.8462 - val_precision_fear: 0.6445 - val_precision_happy: 0.8977 - val_precision_neutral: 0.7369 - val_precision_sad: 0.5680 - val_precision_surprise: 0.8059 - val_recall: 0.5333 - val_recall_angry: 0.4964 - val_recall_disgust: 0.0873 - val_recall_fear: 0.2658 - val_recall_happy: 0.8406 - val_recall_neutral: 0.3761 - val_recall_sad: 0.4410 - val_recall_surprise: 0.7006 - lr: 0.0010\n",
      "Epoch 18/50\n",
      "740/740 [==============================] - ETA: 0s - loss: 0.7908 - accuracy: 0.7068 - precision: 0.7958 - precision_angry: 0.7642 - precision_disgust: 0.8150 - precision_fear: 0.7171 - precision_happy: 0.9021 - precision_neutral: 0.7294 - precision_sad: 0.6936 - precision_surprise: 0.8288 - recall: 0.6131 - recall_angry: 0.5243 - recall_disgust: 0.5584 - recall_fear: 0.3684 - recall_happy: 0.8710 - recall_neutral: 0.5890 - recall_sad: 0.4578 - recall_surprise: 0.7392\n",
      "Epoch 18: val_loss improved from 0.96407 to 0.95269, saving model to .\\model_mobilenet_transfer_data_augmentation.h5\n",
      "740/740 [==============================] - 879s 1s/step - loss: 0.7908 - accuracy: 0.7068 - precision: 0.7958 - precision_angry: 0.7642 - precision_disgust: 0.8150 - precision_fear: 0.7171 - precision_happy: 0.9021 - precision_neutral: 0.7294 - precision_sad: 0.6936 - precision_surprise: 0.8288 - recall: 0.6131 - recall_angry: 0.5243 - recall_disgust: 0.5584 - recall_fear: 0.3684 - recall_happy: 0.8710 - recall_neutral: 0.5890 - recall_sad: 0.4578 - recall_surprise: 0.7392 - val_loss: 0.9527 - val_accuracy: 0.6495 - val_precision: 0.7435 - val_precision_angry: 0.6030 - val_precision_disgust: 0.7538 - val_precision_fear: 0.6988 - val_precision_happy: 0.8672 - val_precision_neutral: 0.6695 - val_precision_sad: 0.6224 - val_precision_surprise: 0.8692 - val_recall: 0.5579 - val_recall_angry: 0.5433 - val_recall_disgust: 0.3889 - val_recall_fear: 0.2079 - val_recall_happy: 0.8867 - val_recall_neutral: 0.5396 - val_recall_sad: 0.3725 - val_recall_surprise: 0.6224 - lr: 0.0010\n",
      "Epoch 19/50\n",
      "740/740 [==============================] - ETA: 0s - loss: 0.7823 - accuracy: 0.7075 - precision: 0.7930 - precision_angry: 0.7604 - precision_disgust: 0.7851 - precision_fear: 0.7070 - precision_happy: 0.9023 - precision_neutral: 0.7310 - precision_sad: 0.6992 - precision_surprise: 0.8151 - recall: 0.6174 - recall_angry: 0.5226 - recall_disgust: 0.5644 - recall_fear: 0.3762 - recall_happy: 0.8773 - recall_neutral: 0.5844 - recall_sad: 0.4714 - recall_surprise: 0.7404\n",
      "Epoch 19: val_loss did not improve from 0.95269\n",
      "740/740 [==============================] - 883s 1s/step - loss: 0.7823 - accuracy: 0.7075 - precision: 0.7930 - precision_angry: 0.7604 - precision_disgust: 0.7851 - precision_fear: 0.7070 - precision_happy: 0.9023 - precision_neutral: 0.7310 - precision_sad: 0.6992 - precision_surprise: 0.8151 - recall: 0.6174 - recall_angry: 0.5226 - recall_disgust: 0.5644 - recall_fear: 0.3762 - recall_happy: 0.8773 - recall_neutral: 0.5844 - recall_sad: 0.4714 - recall_surprise: 0.7404 - val_loss: 0.9609 - val_accuracy: 0.6461 - val_precision: 0.7375 - val_precision_angry: 0.6598 - val_precision_disgust: 0.6875 - val_precision_fear: 0.5968 - val_precision_happy: 0.8765 - val_precision_neutral: 0.6558 - val_precision_sad: 0.6491 - val_precision_surprise: 0.7847 - val_recall: 0.5593 - val_recall_angry: 0.5110 - val_recall_disgust: 0.2640 - val_recall_fear: 0.2685 - val_recall_happy: 0.8334 - val_recall_neutral: 0.5747 - val_recall_sad: 0.3440 - val_recall_surprise: 0.7277 - lr: 0.0010\n",
      "Epoch 20/50\n",
      "740/740 [==============================] - ETA: 0s - loss: 0.7654 - accuracy: 0.7114 - precision: 0.7951 - precision_angry: 0.7618 - precision_disgust: 0.7988 - precision_fear: 0.7144 - precision_happy: 0.9040 - precision_neutral: 0.7330 - precision_sad: 0.6989 - precision_surprise: 0.8244 - recall: 0.6287 - recall_angry: 0.5369 - recall_disgust: 0.5426 - recall_fear: 0.3853 - recall_happy: 0.8797 - recall_neutral: 0.6109 - recall_sad: 0.4869 - recall_surprise: 0.7470\n",
      "Epoch 20: val_loss did not improve from 0.95269\n",
      "740/740 [==============================] - 890s 1s/step - loss: 0.7654 - accuracy: 0.7114 - precision: 0.7951 - precision_angry: 0.7618 - precision_disgust: 0.7988 - precision_fear: 0.7144 - precision_happy: 0.9040 - precision_neutral: 0.7330 - precision_sad: 0.6989 - precision_surprise: 0.8244 - recall: 0.6287 - recall_angry: 0.5369 - recall_disgust: 0.5426 - recall_fear: 0.3853 - recall_happy: 0.8797 - recall_neutral: 0.6109 - recall_sad: 0.4869 - recall_surprise: 0.7470 - val_loss: 0.9936 - val_accuracy: 0.6418 - val_precision: 0.7230 - val_precision_angry: 0.6133 - val_precision_disgust: 0.8723 - val_precision_fear: 0.5890 - val_precision_happy: 0.8661 - val_precision_neutral: 0.6745 - val_precision_sad: 0.5714 - val_precision_surprise: 0.8602 - val_recall: 0.5594 - val_recall_angry: 0.5043 - val_recall_disgust: 0.3254 - val_recall_fear: 0.3190 - val_recall_happy: 0.8567 - val_recall_neutral: 0.5124 - val_recall_sad: 0.4128 - val_recall_surprise: 0.6061 - lr: 0.0010\n",
      "Epoch 21/50\n",
      "740/740 [==============================] - ETA: 0s - loss: 0.7518 - accuracy: 0.7197 - precision: 0.7978 - precision_angry: 0.7651 - precision_disgust: 0.8133 - precision_fear: 0.7151 - precision_happy: 0.9085 - precision_neutral: 0.7313 - precision_sad: 0.7021 - precision_surprise: 0.8292 - recall: 0.6326 - recall_angry: 0.5376 - recall_disgust: 0.6064 - recall_fear: 0.3886 - recall_happy: 0.8813 - recall_neutral: 0.6137 - recall_sad: 0.4896 - recall_surprise: 0.7532\n",
      "Epoch 21: val_loss did not improve from 0.95269\n",
      "740/740 [==============================] - 882s 1s/step - loss: 0.7518 - accuracy: 0.7197 - precision: 0.7978 - precision_angry: 0.7651 - precision_disgust: 0.8133 - precision_fear: 0.7151 - precision_happy: 0.9085 - precision_neutral: 0.7313 - precision_sad: 0.7021 - precision_surprise: 0.8292 - recall: 0.6326 - recall_angry: 0.5376 - recall_disgust: 0.6064 - recall_fear: 0.3886 - recall_happy: 0.8813 - recall_neutral: 0.6137 - recall_sad: 0.4896 - recall_surprise: 0.7532 - val_loss: 0.9852 - val_accuracy: 0.6459 - val_precision: 0.7120 - val_precision_angry: 0.6875 - val_precision_disgust: 0.7879 - val_precision_fear: 0.6015 - val_precision_happy: 0.8650 - val_precision_neutral: 0.6208 - val_precision_sad: 0.5462 - val_precision_surprise: 0.8595 - val_recall: 0.5807 - val_recall_angry: 0.4282 - val_recall_disgust: 0.4127 - val_recall_fear: 0.2900 - val_recall_happy: 0.8562 - val_recall_neutral: 0.6030 - val_recall_sad: 0.5150 - val_recall_surprise: 0.6212 - lr: 0.0010\n",
      "Epoch 22/50\n",
      "740/740 [==============================] - ETA: 0s - loss: 0.7332 - accuracy: 0.7287 - precision: 0.8073 - precision_angry: 0.7769 - precision_disgust: 0.8342 - precision_fear: 0.7296 - precision_happy: 0.9105 - precision_neutral: 0.7443 - precision_sad: 0.7160 - precision_surprise: 0.8425 - recall: 0.6465 - recall_angry: 0.5631 - recall_disgust: 0.6079 - recall_fear: 0.4068 - recall_happy: 0.8842 - recall_neutral: 0.6174 - recall_sad: 0.5126 - recall_surprise: 0.7764\n",
      "Epoch 22: val_loss did not improve from 0.95269\n",
      "740/740 [==============================] - 890s 1s/step - loss: 0.7332 - accuracy: 0.7287 - precision: 0.8073 - precision_angry: 0.7769 - precision_disgust: 0.8342 - precision_fear: 0.7296 - precision_happy: 0.9105 - precision_neutral: 0.7443 - precision_sad: 0.7160 - precision_surprise: 0.8425 - recall: 0.6465 - recall_angry: 0.5631 - recall_disgust: 0.6079 - recall_fear: 0.4068 - recall_happy: 0.8842 - recall_neutral: 0.6174 - recall_sad: 0.5126 - recall_surprise: 0.7764 - val_loss: 0.9814 - val_accuracy: 0.6449 - val_precision: 0.7260 - val_precision_angry: 0.6886 - val_precision_disgust: 0.7368 - val_precision_fear: 0.6105 - val_precision_happy: 0.8816 - val_precision_neutral: 0.6957 - val_precision_sad: 0.5429 - val_precision_surprise: 0.7935 - val_recall: 0.5678 - val_recall_angry: 0.4964 - val_recall_disgust: 0.3333 - val_recall_fear: 0.3213 - val_recall_happy: 0.8394 - val_recall_neutral: 0.4440 - val_recall_sad: 0.5021 - val_recall_surprise: 0.6964 - lr: 0.0010\n",
      "Epoch 23/50\n",
      "740/740 [==============================] - ETA: 0s - loss: 0.7279 - accuracy: 0.7270 - precision: 0.8027 - precision_angry: 0.7836 - precision_disgust: 0.8154 - precision_fear: 0.7255 - precision_happy: 0.9084 - precision_neutral: 0.7438 - precision_sad: 0.6999 - precision_surprise: 0.8306 - recall: 0.6494 - recall_angry: 0.5771 - recall_disgust: 0.6297 - recall_fear: 0.4084 - recall_happy: 0.8881 - recall_neutral: 0.6370 - recall_sad: 0.4963 - recall_surprise: 0.7636\n",
      "Epoch 23: val_loss did not improve from 0.95269\n",
      "\n",
      "Epoch 23: ReduceLROnPlateau reducing learning rate to 0.00010000000474974513.\n",
      "740/740 [==============================] - 884s 1s/step - loss: 0.7279 - accuracy: 0.7270 - precision: 0.8027 - precision_angry: 0.7836 - precision_disgust: 0.8154 - precision_fear: 0.7255 - precision_happy: 0.9084 - precision_neutral: 0.7438 - precision_sad: 0.6999 - precision_surprise: 0.8306 - recall: 0.6494 - recall_angry: 0.5771 - recall_disgust: 0.6297 - recall_fear: 0.4084 - recall_happy: 0.8881 - recall_neutral: 0.6370 - recall_sad: 0.4963 - recall_surprise: 0.7636 - val_loss: 0.9613 - val_accuracy: 0.6537 - val_precision: 0.7348 - val_precision_angry: 0.6897 - val_precision_disgust: 0.7627 - val_precision_fear: 0.5610 - val_precision_happy: 0.8825 - val_precision_neutral: 0.6513 - val_precision_sad: 0.6229 - val_precision_surprise: 0.8190 - val_recall: 0.5724 - val_recall_angry: 0.4617 - val_recall_disgust: 0.3571 - val_recall_fear: 0.3852 - val_recall_happy: 0.8674 - val_recall_neutral: 0.5302 - val_recall_sad: 0.3811 - val_recall_surprise: 0.6809 - lr: 0.0010\n",
      "Epoch 24/50\n",
      "740/740 [==============================] - ETA: 0s - loss: 0.6367 - accuracy: 0.7602 - precision: 0.8263 - precision_angry: 0.8044 - precision_disgust: 0.8517 - precision_fear: 0.7495 - precision_happy: 0.9241 - precision_neutral: 0.7750 - precision_sad: 0.7405 - precision_surprise: 0.8576 - recall: 0.6899 - recall_angry: 0.6161 - recall_disgust: 0.7050 - recall_fear: 0.4703 - recall_happy: 0.9068 - recall_neutral: 0.6678 - recall_sad: 0.5631 - recall_surprise: 0.7971\n",
      "Epoch 24: val_loss improved from 0.95269 to 0.91531, saving model to .\\model_mobilenet_transfer_data_augmentation.h5\n",
      "740/740 [==============================] - 889s 1s/step - loss: 0.6367 - accuracy: 0.7602 - precision: 0.8263 - precision_angry: 0.8044 - precision_disgust: 0.8517 - precision_fear: 0.7495 - precision_happy: 0.9241 - precision_neutral: 0.7750 - precision_sad: 0.7405 - precision_surprise: 0.8576 - recall: 0.6899 - recall_angry: 0.6161 - recall_disgust: 0.7050 - recall_fear: 0.4703 - recall_happy: 0.9068 - recall_neutral: 0.6678 - recall_sad: 0.5631 - recall_surprise: 0.7971 - val_loss: 0.9153 - val_accuracy: 0.6695 - val_precision: 0.7338 - val_precision_angry: 0.6631 - val_precision_disgust: 0.7761 - val_precision_fear: 0.6131 - val_precision_happy: 0.8835 - val_precision_neutral: 0.6465 - val_precision_sad: 0.6325 - val_precision_surprise: 0.8136 - val_recall: 0.6080 - val_recall_angry: 0.5261 - val_recall_disgust: 0.4160 - val_recall_fear: 0.3909 - val_recall_happy: 0.8623 - val_recall_neutral: 0.6024 - val_recall_sad: 0.4454 - val_recall_surprise: 0.7076 - lr: 1.0000e-04\n",
      "Epoch 25/50\n",
      "740/740 [==============================] - ETA: 0s - loss: 0.6015 - accuracy: 0.7741 - precision: 0.8345 - precision_angry: 0.8105 - precision_disgust: 0.8802 - precision_fear: 0.7675 - precision_happy: 0.9305 - precision_neutral: 0.7737 - precision_sad: 0.7572 - precision_surprise: 0.8730 - recall: 0.7154 - recall_angry: 0.6458 - recall_disgust: 0.7564 - recall_fear: 0.5162 - recall_happy: 0.9161 - recall_neutral: 0.6947 - recall_sad: 0.5913 - recall_surprise: 0.8161\n",
      "Epoch 25: val_loss did not improve from 0.91531\n",
      "740/740 [==============================] - 890s 1s/step - loss: 0.6015 - accuracy: 0.7741 - precision: 0.8345 - precision_angry: 0.8105 - precision_disgust: 0.8802 - precision_fear: 0.7675 - precision_happy: 0.9305 - precision_neutral: 0.7737 - precision_sad: 0.7572 - precision_surprise: 0.8730 - recall: 0.7154 - recall_angry: 0.6458 - recall_disgust: 0.7564 - recall_fear: 0.5162 - recall_happy: 0.9161 - recall_neutral: 0.6947 - recall_sad: 0.5913 - recall_surprise: 0.8161 - val_loss: 0.9199 - val_accuracy: 0.6766 - val_precision: 0.7390 - val_precision_angry: 0.6614 - val_precision_disgust: 0.7922 - val_precision_fear: 0.6145 - val_precision_happy: 0.8916 - val_precision_neutral: 0.6557 - val_precision_sad: 0.6337 - val_precision_surprise: 0.8028 - val_recall: 0.6189 - val_recall_angry: 0.5146 - val_recall_disgust: 0.4841 - val_recall_fear: 0.3751 - val_recall_happy: 0.8746 - val_recall_neutral: 0.6129 - val_recall_sad: 0.4499 - val_recall_surprise: 0.7724 - lr: 1.0000e-04\n",
      "Epoch 26/50\n",
      "740/740 [==============================] - ETA: 0s - loss: 0.5738 - accuracy: 0.7861 - precision: 0.8398 - precision_angry: 0.8215 - precision_disgust: 0.8853 - precision_fear: 0.7711 - precision_happy: 0.9321 - precision_neutral: 0.7874 - precision_sad: 0.7623 - precision_surprise: 0.8758 - recall: 0.7324 - recall_angry: 0.6667 - recall_disgust: 0.7659 - recall_fear: 0.5340 - recall_happy: 0.9198 - recall_neutral: 0.7225 - recall_sad: 0.6118 - recall_surprise: 0.8364\n",
      "Epoch 26: val_loss did not improve from 0.91531\n",
      "740/740 [==============================] - 892s 1s/step - loss: 0.5738 - accuracy: 0.7861 - precision: 0.8398 - precision_angry: 0.8215 - precision_disgust: 0.8853 - precision_fear: 0.7711 - precision_happy: 0.9321 - precision_neutral: 0.7874 - precision_sad: 0.7623 - precision_surprise: 0.8758 - recall: 0.7324 - recall_angry: 0.6667 - recall_disgust: 0.7659 - recall_fear: 0.5340 - recall_happy: 0.9198 - recall_neutral: 0.7225 - recall_sad: 0.6118 - recall_surprise: 0.8364 - val_loss: 0.9352 - val_accuracy: 0.6778 - val_precision: 0.7338 - val_precision_angry: 0.6710 - val_precision_disgust: 0.7470 - val_precision_fear: 0.6149 - val_precision_happy: 0.8887 - val_precision_neutral: 0.6678 - val_precision_sad: 0.5977 - val_precision_surprise: 0.8038 - val_recall: 0.6208 - val_recall_angry: 0.5615 - val_recall_disgust: 0.4921 - val_recall_fear: 0.3826 - val_recall_happy: 0.8687 - val_recall_neutral: 0.5648 - val_recall_sad: 0.4778 - val_recall_surprise: 0.7674 - lr: 1.0000e-04\n",
      "Epoch 27/50\n",
      "740/740 [==============================] - ETA: 0s - loss: 0.5583 - accuracy: 0.7919 - precision: 0.8420 - precision_angry: 0.8278 - precision_disgust: 0.8780 - precision_fear: 0.7772 - precision_happy: 0.9345 - precision_neutral: 0.7936 - precision_sad: 0.7583 - precision_surprise: 0.8772 - recall: 0.7408 - recall_angry: 0.6822 - recall_disgust: 0.7842 - recall_fear: 0.5452 - recall_happy: 0.9224 - recall_neutral: 0.7287 - recall_sad: 0.6281 - recall_surprise: 0.8348\n",
      "Epoch 27: val_loss did not improve from 0.91531\n",
      "740/740 [==============================] - 884s 1s/step - loss: 0.5583 - accuracy: 0.7919 - precision: 0.8420 - precision_angry: 0.8278 - precision_disgust: 0.8780 - precision_fear: 0.7772 - precision_happy: 0.9345 - precision_neutral: 0.7936 - precision_sad: 0.7583 - precision_surprise: 0.8772 - recall: 0.7408 - recall_angry: 0.6822 - recall_disgust: 0.7842 - recall_fear: 0.5452 - recall_happy: 0.9224 - recall_neutral: 0.7287 - recall_sad: 0.6281 - recall_surprise: 0.8348 - val_loss: 0.9282 - val_accuracy: 0.6792 - val_precision: 0.7320 - val_precision_angry: 0.6726 - val_precision_disgust: 0.8158 - val_precision_fear: 0.6406 - val_precision_happy: 0.8870 - val_precision_neutral: 0.6354 - val_precision_sad: 0.5949 - val_precision_surprise: 0.8243 - val_recall: 0.6238 - val_recall_angry: 0.5512 - val_recall_disgust: 0.4960 - val_recall_fear: 0.3914 - val_recall_happy: 0.8737 - val_recall_neutral: 0.5907 - val_recall_sad: 0.4824 - val_recall_surprise: 0.7360 - lr: 1.0000e-04\n",
      "Epoch 28/50\n",
      "740/740 [==============================] - ETA: 0s - loss: 0.5500 - accuracy: 0.7945 - precision: 0.8449 - precision_angry: 0.8287 - precision_disgust: 0.8972 - precision_fear: 0.7874 - precision_happy: 0.9363 - precision_neutral: 0.7844 - precision_sad: 0.7667 - precision_surprise: 0.8858 - recall: 0.7437 - recall_angry: 0.6736 - recall_disgust: 0.8135 - recall_fear: 0.5609 - recall_happy: 0.9245 - recall_neutral: 0.7287 - recall_sad: 0.6253 - recall_surprise: 0.8451\n",
      "Epoch 28: val_loss did not improve from 0.91531\n",
      "740/740 [==============================] - 894s 1s/step - loss: 0.5500 - accuracy: 0.7945 - precision: 0.8449 - precision_angry: 0.8287 - precision_disgust: 0.8972 - precision_fear: 0.7874 - precision_happy: 0.9363 - precision_neutral: 0.7844 - precision_sad: 0.7667 - precision_surprise: 0.8858 - recall: 0.7437 - recall_angry: 0.6736 - recall_disgust: 0.8135 - recall_fear: 0.5609 - recall_happy: 0.9245 - recall_neutral: 0.7287 - recall_sad: 0.6253 - recall_surprise: 0.8451 - val_loss: 0.9231 - val_accuracy: 0.6834 - val_precision: 0.7327 - val_precision_angry: 0.6522 - val_precision_disgust: 0.7808 - val_precision_fear: 0.6208 - val_precision_happy: 0.8855 - val_precision_neutral: 0.6546 - val_precision_sad: 0.6209 - val_precision_surprise: 0.8166 - val_recall: 0.6238 - val_recall_angry: 0.5657 - val_recall_disgust: 0.4524 - val_recall_fear: 0.3926 - val_recall_happy: 0.8600 - val_recall_neutral: 0.6073 - val_recall_sad: 0.4655 - val_recall_surprise: 0.7587 - lr: 1.0000e-04\n",
      "Epoch 29/50\n",
      "740/740 [==============================] - ETA: 0s - loss: 0.5438 - accuracy: 0.7982 - precision: 0.8460 - precision_angry: 0.8240 - precision_disgust: 0.8949 - precision_fear: 0.7807 - precision_happy: 0.9366 - precision_neutral: 0.8067 - precision_sad: 0.7673 - precision_surprise: 0.8735 - recall: 0.7460 - recall_angry: 0.6891 - recall_disgust: 0.7937 - recall_fear: 0.5504 - recall_happy: 0.9219 - recall_neutral: 0.7362 - recall_sad: 0.6378 - recall_surprise: 0.8402\n",
      "Epoch 29: val_loss did not improve from 0.91531\n",
      "\n",
      "Epoch 29: ReduceLROnPlateau reducing learning rate to 1.0000000474974514e-05.\n",
      "740/740 [==============================] - 892s 1s/step - loss: 0.5438 - accuracy: 0.7982 - precision: 0.8460 - precision_angry: 0.8240 - precision_disgust: 0.8949 - precision_fear: 0.7807 - precision_happy: 0.9366 - precision_neutral: 0.8067 - precision_sad: 0.7673 - precision_surprise: 0.8735 - recall: 0.7460 - recall_angry: 0.6891 - recall_disgust: 0.7937 - recall_fear: 0.5504 - recall_happy: 0.9219 - recall_neutral: 0.7362 - recall_sad: 0.6378 - recall_surprise: 0.8402 - val_loss: 0.9384 - val_accuracy: 0.6748 - val_precision: 0.7257 - val_precision_angry: 0.6903 - val_precision_disgust: 0.8333 - val_precision_fear: 0.6176 - val_precision_happy: 0.8781 - val_precision_neutral: 0.6543 - val_precision_sad: 0.5754 - val_precision_surprise: 0.7930 - val_recall: 0.6274 - val_recall_angry: 0.5239 - val_recall_disgust: 0.5159 - val_recall_fear: 0.3763 - val_recall_happy: 0.8745 - val_recall_neutral: 0.5966 - val_recall_sad: 0.5149 - val_recall_surprise: 0.7583 - lr: 1.0000e-04\n",
      "Epoch 30/50\n",
      "740/740 [==============================] - ETA: 0s - loss: 0.5285 - accuracy: 0.8035 - precision: 0.8513 - precision_angry: 0.8364 - precision_disgust: 0.8991 - precision_fear: 0.8131 - precision_happy: 0.9331 - precision_neutral: 0.7992 - precision_sad: 0.7736 - precision_surprise: 0.8824 - recall: 0.7556 - recall_angry: 0.7006 - recall_disgust: 0.8119 - recall_fear: 0.5524 - recall_happy: 0.9315 - recall_neutral: 0.7453 - recall_sad: 0.6525 - recall_surprise: 0.8485\n",
      "Epoch 30: val_loss did not improve from 0.91531\n",
      "740/740 [==============================] - 888s 1s/step - loss: 0.5285 - accuracy: 0.8035 - precision: 0.8513 - precision_angry: 0.8364 - precision_disgust: 0.8991 - precision_fear: 0.8131 - precision_happy: 0.9331 - precision_neutral: 0.7992 - precision_sad: 0.7736 - precision_surprise: 0.8824 - recall: 0.7556 - recall_angry: 0.7006 - recall_disgust: 0.8119 - recall_fear: 0.5524 - recall_happy: 0.9315 - recall_neutral: 0.7453 - recall_sad: 0.6525 - recall_surprise: 0.8485 - val_loss: 0.9425 - val_accuracy: 0.6863 - val_precision: 0.7350 - val_precision_angry: 0.6647 - val_precision_disgust: 0.7895 - val_precision_fear: 0.6324 - val_precision_happy: 0.8878 - val_precision_neutral: 0.6625 - val_precision_sad: 0.6094 - val_precision_surprise: 0.8108 - val_recall: 0.6372 - val_recall_angry: 0.5530 - val_recall_disgust: 0.4800 - val_recall_fear: 0.3981 - val_recall_happy: 0.8702 - val_recall_neutral: 0.6318 - val_recall_sad: 0.4964 - val_recall_surprise: 0.7727 - lr: 1.0000e-05\n",
      "Epoch 31/50\n",
      "740/740 [==============================] - ETA: 0s - loss: 0.5269 - accuracy: 0.8030 - precision: 0.8516 - precision_angry: 0.8368 - precision_disgust: 0.9161 - precision_fear: 0.7938 - precision_happy: 0.9395 - precision_neutral: 0.8001 - precision_sad: 0.7711 - precision_surprise: 0.8894 - recall: 0.7547 - recall_angry: 0.7011 - recall_disgust: 0.8000 - recall_fear: 0.5750 - recall_happy: 0.9269 - recall_neutral: 0.7355 - recall_sad: 0.6425 - recall_surprise: 0.8535\n",
      "Epoch 31: val_loss did not improve from 0.91531\n",
      "740/740 [==============================] - 888s 1s/step - loss: 0.5269 - accuracy: 0.8030 - precision: 0.8516 - precision_angry: 0.8368 - precision_disgust: 0.9161 - precision_fear: 0.7938 - precision_happy: 0.9395 - precision_neutral: 0.8001 - precision_sad: 0.7711 - precision_surprise: 0.8894 - recall: 0.7547 - recall_angry: 0.7011 - recall_disgust: 0.8000 - recall_fear: 0.5750 - recall_happy: 0.9269 - recall_neutral: 0.7355 - recall_sad: 0.6425 - recall_surprise: 0.8535 - val_loss: 0.9461 - val_accuracy: 0.6770 - val_precision: 0.7280 - val_precision_angry: 0.6687 - val_precision_disgust: 0.7108 - val_precision_fear: 0.6077 - val_precision_happy: 0.8843 - val_precision_neutral: 0.6519 - val_precision_sad: 0.6034 - val_precision_surprise: 0.8042 - val_recall: 0.6255 - val_recall_angry: 0.5397 - val_recall_disgust: 0.4683 - val_recall_fear: 0.3974 - val_recall_happy: 0.8705 - val_recall_neutral: 0.6139 - val_recall_sad: 0.4696 - val_recall_surprise: 0.7542 - lr: 1.0000e-05\n",
      "Epoch 32/50\n",
      "740/740 [==============================] - ETA: 0s - loss: 0.5273 - accuracy: 0.8036 - precision: 0.8517 - precision_angry: 0.8348 - precision_disgust: 0.9152 - precision_fear: 0.8027 - precision_happy: 0.9370 - precision_neutral: 0.7978 - precision_sad: 0.7757 - precision_surprise: 0.8854 - recall: 0.7557 - recall_angry: 0.6908 - recall_disgust: 0.8337 - recall_fear: 0.5741 - recall_happy: 0.9254 - recall_neutral: 0.7374 - recall_sad: 0.6472 - recall_surprise: 0.8620\n",
      "Epoch 32: val_loss did not improve from 0.91531\n",
      "740/740 [==============================] - 893s 1s/step - loss: 0.5273 - accuracy: 0.8036 - precision: 0.8517 - precision_angry: 0.8348 - precision_disgust: 0.9152 - precision_fear: 0.8027 - precision_happy: 0.9370 - precision_neutral: 0.7978 - precision_sad: 0.7757 - precision_surprise: 0.8854 - recall: 0.7557 - recall_angry: 0.6908 - recall_disgust: 0.8337 - recall_fear: 0.5741 - recall_happy: 0.9254 - recall_neutral: 0.7374 - recall_sad: 0.6472 - recall_surprise: 0.8620 - val_loss: 0.9465 - val_accuracy: 0.6751 - val_precision: 0.7306 - val_precision_angry: 0.6799 - val_precision_disgust: 0.8000 - val_precision_fear: 0.6162 - val_precision_happy: 0.8846 - val_precision_neutral: 0.6481 - val_precision_sad: 0.6026 - val_precision_surprise: 0.8042 - val_recall: 0.6252 - val_recall_angry: 0.5439 - val_recall_disgust: 0.4444 - val_recall_fear: 0.3971 - val_recall_happy: 0.8694 - val_recall_neutral: 0.6077 - val_recall_sad: 0.4757 - val_recall_surprise: 0.7565 - lr: 1.0000e-05\n",
      "Epoch 33/50\n",
      "740/740 [==============================] - ETA: 0s - loss: 0.5235 - accuracy: 0.8061 - precision: 0.8523 - precision_angry: 0.8296 - precision_disgust: 0.8991 - precision_fear: 0.7882 - precision_happy: 0.9372 - precision_neutral: 0.8071 - precision_sad: 0.7833 - precision_surprise: 0.8898 - recall: 0.7572 - recall_angry: 0.6961 - recall_disgust: 0.8119 - recall_fear: 0.5740 - recall_happy: 0.9289 - recall_neutral: 0.7526 - recall_sad: 0.6410 - recall_surprise: 0.8526\n",
      "Epoch 33: val_loss did not improve from 0.91531\n",
      "740/740 [==============================] - 884s 1s/step - loss: 0.5235 - accuracy: 0.8061 - precision: 0.8523 - precision_angry: 0.8296 - precision_disgust: 0.8991 - precision_fear: 0.7882 - precision_happy: 0.9372 - precision_neutral: 0.8071 - precision_sad: 0.7833 - precision_surprise: 0.8898 - recall: 0.7572 - recall_angry: 0.6961 - recall_disgust: 0.8119 - recall_fear: 0.5740 - recall_happy: 0.9289 - recall_neutral: 0.7526 - recall_sad: 0.6410 - recall_surprise: 0.8526 - val_loss: 0.9559 - val_accuracy: 0.6771 - val_precision: 0.7285 - val_precision_angry: 0.6741 - val_precision_disgust: 0.8133 - val_precision_fear: 0.6093 - val_precision_happy: 0.8768 - val_precision_neutral: 0.6540 - val_precision_sad: 0.6005 - val_precision_surprise: 0.8067 - val_recall: 0.6284 - val_recall_angry: 0.5493 - val_recall_disgust: 0.4880 - val_recall_fear: 0.3881 - val_recall_happy: 0.8678 - val_recall_neutral: 0.6120 - val_recall_sad: 0.4824 - val_recall_surprise: 0.7677 - lr: 1.0000e-05\n",
      "Epoch 34/50\n",
      "740/740 [==============================] - ETA: 0s - loss: 0.5221 - accuracy: 0.8025 - precision: 0.8508 - precision_angry: 0.8392 - precision_disgust: 0.9256 - precision_fear: 0.7885 - precision_happy: 0.9361 - precision_neutral: 0.7999 - precision_sad: 0.7755 - precision_surprise: 0.8869 - recall: 0.7569 - recall_angry: 0.7003 - recall_disgust: 0.8376 - recall_fear: 0.5796 - recall_happy: 0.9255 - recall_neutral: 0.7431 - recall_sad: 0.6432 - recall_surprise: 0.8521Restoring model weights from the end of the best epoch: 24.\n",
      "\n",
      "Epoch 34: val_loss did not improve from 0.91531\n",
      "\n",
      "Epoch 34: ReduceLROnPlateau reducing learning rate to 1e-05.\n",
      "740/740 [==============================] - 886s 1s/step - loss: 0.5221 - accuracy: 0.8025 - precision: 0.8508 - precision_angry: 0.8392 - precision_disgust: 0.9256 - precision_fear: 0.7885 - precision_happy: 0.9361 - precision_neutral: 0.7999 - precision_sad: 0.7755 - precision_surprise: 0.8869 - recall: 0.7569 - recall_angry: 0.7003 - recall_disgust: 0.8376 - recall_fear: 0.5796 - recall_happy: 0.9255 - recall_neutral: 0.7431 - recall_sad: 0.6432 - recall_surprise: 0.8521 - val_loss: 0.9450 - val_accuracy: 0.6778 - val_precision: 0.7298 - val_precision_angry: 0.6376 - val_precision_disgust: 0.7532 - val_precision_fear: 0.6362 - val_precision_happy: 0.8817 - val_precision_neutral: 0.6617 - val_precision_sad: 0.6186 - val_precision_surprise: 0.8013 - val_recall: 0.6330 - val_recall_angry: 0.5550 - val_recall_disgust: 0.4603 - val_recall_fear: 0.3976 - val_recall_happy: 0.8708 - val_recall_neutral: 0.6165 - val_recall_sad: 0.5010 - val_recall_surprise: 0.7530 - lr: 1.0000e-05\n",
      "Epoch 34: early stopping\n"
     ]
    }
   ],
   "source": [
    "import os\n",
    "\n",
    "os.environ['KMP_DUPLICATE_LIB_OK'] = 'True'\n",
    "\n",
    "history = model.fit(\n",
    "    train_generator,\n",
    "    steps_per_epoch=train_generator.n//train_generator.batch_size,\n",
    "    epochs=epochs,\n",
    "    validation_data=validation_generator,\n",
    "    validation_steps=validation_generator.n//validation_generator.batch_size,\n",
    "    callbacks=callbacks_list,\n",
    ")"
   ],
   "metadata": {
    "collapsed": false,
    "pycharm": {
     "name": "#%%\n"
    }
   }
  },
  {
   "cell_type": "markdown",
   "source": [
    "### 7. Evaluation - Test set"
   ],
   "metadata": {
    "collapsed": false,
    "pycharm": {
     "name": "#%% md\n"
    }
   }
  },
  {
   "cell_type": "code",
   "execution_count": 3,
   "outputs": [],
   "source": [
    "from keras.models import load_model\n",
    "\n",
    "model = load_model(\"model_mobilenet_transfer_data_augmentation.h5\")"
   ],
   "metadata": {
    "collapsed": false,
    "pycharm": {
     "name": "#%%\n"
    }
   }
  },
  {
   "cell_type": "code",
   "execution_count": 4,
   "outputs": [
    {
     "name": "stdout",
     "output_type": "stream",
     "text": [
      "Found 7178 images belonging to 7 classes.\n"
     ]
    }
   ],
   "source": [
    "test_data_generator = ImageDataGenerator(preprocessing_function=preprocess_input)\n",
    "\n",
    "test_generator = test_data_generator.flow_from_directory(\n",
    "    DATASET_BASE_TEST_PATH,\n",
    "    target_size=(224, 224),\n",
    "    batch_size=32,\n",
    "    class_mode='categorical',\n",
    "    shuffle=False\n",
    ")"
   ],
   "metadata": {
    "collapsed": false,
    "pycharm": {
     "name": "#%%\n"
    }
   }
  },
  {
   "cell_type": "code",
   "execution_count": 5,
   "outputs": [
    {
     "name": "stdout",
     "output_type": "stream",
     "text": [
      "225/225 [==============================] - 81s 348ms/step - loss: 0.9196 - accuracy: 0.6861 - precision: 0.7361 - precision_angry: 0.6611 - precision_disgust: 0.7910 - precision_fear: 0.6112 - precision_happy: 0.8926 - precision_neutral: 0.6400 - precision_sad: 0.6520 - precision_surprise: 0.8235 - recall: 0.6397 - recall_angry: 0.6211 - recall_disgust: 0.4775 - recall_fear: 0.3730 - recall_happy: 0.8811 - recall_neutral: 0.6821 - recall_sad: 0.4387 - recall_surprise: 0.7353\n"
     ]
    },
    {
     "data": {
      "text/plain": "[0.9195857048034668,\n 0.6861242651939392,\n 0.7361333966255188,\n 0.6611111164093018,\n 0.7910447716712952,\n 0.6111999750137329,\n 0.892632782459259,\n 0.6400304436683655,\n 0.6519666314125061,\n 0.8234501481056213,\n 0.6397325396537781,\n 0.6210855841636658,\n 0.477477490901947,\n 0.373046875,\n 0.8810597658157349,\n 0.6820762157440186,\n 0.43865275382995605,\n 0.7352586984634399]"
     },
     "execution_count": 5,
     "metadata": {},
     "output_type": "execute_result"
    }
   ],
   "source": [
    "model.evaluate(test_generator)"
   ],
   "metadata": {
    "collapsed": false,
    "pycharm": {
     "name": "#%%\n"
    }
   }
  }
 ],
 "metadata": {
  "kernelspec": {
   "display_name": "Python 3",
   "language": "python",
   "name": "python3"
  },
  "language_info": {
   "codemirror_mode": {
    "name": "ipython",
    "version": 2
   },
   "file_extension": ".py",
   "mimetype": "text/x-python",
   "name": "python",
   "nbconvert_exporter": "python",
   "pygments_lexer": "ipython2",
   "version": "2.7.6"
  }
 },
 "nbformat": 4,
 "nbformat_minor": 0
}