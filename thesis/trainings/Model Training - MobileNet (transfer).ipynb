{
 "cells": [
  {
   "cell_type": "markdown",
   "source": [
    "# Model Training - MobileNet (transfer)"
   ],
   "metadata": {
    "collapsed": false,
    "pycharm": {
     "name": "#%% md\n"
    }
   }
  },
  {
   "cell_type": "markdown",
   "source": [
    "### 0. Imports"
   ],
   "metadata": {
    "collapsed": false,
    "pycharm": {
     "name": "#%% md\n"
    }
   }
  },
  {
   "cell_type": "code",
   "execution_count": 1,
   "outputs": [],
   "source": [
    "import matplotlib.pyplot as plt\n",
    "import tensorflow as tf\n",
    "\n",
    "from keras.applications import MobileNet\n",
    "from keras.applications.mobilenet import preprocess_input\n",
    "from keras.callbacks import (\n",
    "    ModelCheckpoint,\n",
    "    EarlyStopping,\n",
    "    ReduceLROnPlateau\n",
    ")\n",
    "from keras.models import Sequential\n",
    "from keras.layers import Dense, GlobalAveragePooling2D\n",
    "from keras.metrics import Precision, Recall\n",
    "from keras.optimizers import Adam\n",
    "from keras.preprocessing.image import ImageDataGenerator\n",
    "from keras.utils.vis_utils import plot_model"
   ],
   "metadata": {
    "collapsed": false,
    "ExecuteTime": {
     "start_time": "2023-06-08T14:04:36.621338Z",
     "end_time": "2023-06-08T14:04:39.977428Z"
    },
    "pycharm": {
     "name": "#%%\n"
    }
   }
  },
  {
   "cell_type": "markdown",
   "source": [
    "### 1. Paths"
   ],
   "metadata": {
    "collapsed": false,
    "pycharm": {
     "name": "#%% md\n"
    }
   }
  },
  {
   "cell_type": "code",
   "execution_count": 2,
   "outputs": [],
   "source": [
    "# DATASET_BASE_TRAIN_PATH = \"/Users/adamdabkowski/DataspellProjects/Praca_dyplomowa/data/train_resized\"\n",
    "# DATASET_BASE_TRAIN_PATH = \"/Users/adamd/DataspellProjects/Facial Expressions Recognition/data/train_resized\"\n",
    "# DATASET_BASE_TRAIN_PATH = \"/Users/adamd/DataspellProjects/Facial Expressions Recognition/data/train_merged\"\n",
    "DATASET_BASE_TRAIN_PATH = \"/Users/adamd/DataspellProjects/Facial Expressions Recognition/data/train_merged_cleaned\"\n",
    "\n",
    "# DATASET_BASE_TRAIN_PATH = \"../new_data\"\n",
    "\n",
    "# DATASET_BASE_TEST_PATH = \"/Users/adamdabkowski/DataspellProjects/Praca_dyplomowa/data/test_resized\"\n",
    "DATASET_BASE_TEST_PATH = \"/Users/adamd/DataspellProjects/Facial Expressions Recognition/data/test_resized\""
   ],
   "metadata": {
    "collapsed": false,
    "ExecuteTime": {
     "start_time": "2023-06-08T14:06:08.298593Z",
     "end_time": "2023-06-08T14:06:08.305288Z"
    },
    "pycharm": {
     "name": "#%%\n"
    }
   }
  },
  {
   "cell_type": "markdown",
   "source": [
    "### 2. Data preprocessing"
   ],
   "metadata": {
    "collapsed": false,
    "pycharm": {
     "name": "#%% md\n"
    }
   }
  },
  {
   "cell_type": "code",
   "execution_count": 3,
   "outputs": [
    {
     "name": "stdout",
     "output_type": "stream",
     "text": [
      "Found 23689 images belonging to 7 classes.\n",
      "Found 5919 images belonging to 7 classes.\n"
     ]
    }
   ],
   "source": [
    "batch_size  = 32\n",
    "img_size = 224\n",
    "\n",
    "train_validation_data_generator = ImageDataGenerator(preprocessing_function=preprocess_input, validation_split=0.2)\n",
    "\n",
    "train_generator = train_validation_data_generator.flow_from_directory(\n",
    "    DATASET_BASE_TRAIN_PATH,\n",
    "    target_size=(img_size,img_size),\n",
    "    batch_size=batch_size,\n",
    "    class_mode='categorical',\n",
    "    color_mode='rgb',\n",
    "    subset='training',\n",
    "    shuffle=True,\n",
    ")\n",
    "\n",
    "validation_generator = train_validation_data_generator.flow_from_directory(\n",
    "    DATASET_BASE_TRAIN_PATH,\n",
    "    target_size=(img_size,img_size),\n",
    "    batch_size=batch_size,\n",
    "    class_mode='categorical',\n",
    "    color_mode='rgb',\n",
    "    subset='validation',\n",
    "    shuffle=True,\n",
    ")"
   ],
   "metadata": {
    "collapsed": false,
    "ExecuteTime": {
     "start_time": "2023-06-08T14:06:12.829138Z",
     "end_time": "2023-06-08T14:06:13.009438Z"
    },
    "pycharm": {
     "name": "#%%\n"
    }
   }
  },
  {
   "cell_type": "markdown",
   "source": [
    "### 5. Model creating"
   ],
   "metadata": {
    "collapsed": false,
    "pycharm": {
     "name": "#%% md\n"
    }
   }
  },
  {
   "cell_type": "code",
   "execution_count": 5,
   "outputs": [],
   "source": [
    "CATEGORIES = [\"angry\", \"disgust\", \"fear\", \"happy\", \"neutral\", \"sad\", \"surprise\"]"
   ],
   "metadata": {
    "collapsed": false,
    "ExecuteTime": {
     "start_time": "2023-06-08T14:06:21.358802Z",
     "end_time": "2023-06-08T14:06:21.367405Z"
    },
    "pycharm": {
     "name": "#%%\n"
    }
   }
  },
  {
   "cell_type": "code",
   "execution_count": 6,
   "outputs": [],
   "source": [
    "checkpoint = ModelCheckpoint(\n",
    "    filepath=\"./model_mobilenet_transfer.h5\",\n",
    "    monitor='val_loss',\n",
    "    verbose=1,\n",
    "    save_best_only=True,\n",
    "    mode='min'\n",
    ")\n",
    "\n",
    "early_stopping = EarlyStopping(\n",
    "    monitor='val_loss',\n",
    "    patience=10,\n",
    "    verbose=1,\n",
    "    restore_best_weights=True,\n",
    ")\n",
    "\n",
    "reduce_learning_rate = ReduceLROnPlateau(\n",
    "    monitor='val_loss',\n",
    "    factor=0.1,\n",
    "    patience=5,\n",
    "    verbose=1,\n",
    "    min_lr=0.00001,\n",
    ")\n",
    "\n",
    "callbacks_list = [early_stopping, checkpoint, reduce_learning_rate]"
   ],
   "metadata": {
    "collapsed": false,
    "ExecuteTime": {
     "start_time": "2023-06-08T14:06:22.501933Z",
     "end_time": "2023-06-08T14:06:22.506101Z"
    },
    "pycharm": {
     "name": "#%%\n"
    }
   }
  },
  {
   "cell_type": "code",
   "execution_count": 7,
   "outputs": [
    {
     "name": "stdout",
     "output_type": "stream",
     "text": [
      "Downloading data from https://storage.googleapis.com/tensorflow/keras-applications/mobilenet/mobilenet_1_0_224_tf_no_top.h5\n",
      "17225924/17225924 [==============================] - 2s 0us/step\n"
     ]
    }
   ],
   "source": [
    "model = Sequential()\n",
    "\n",
    "base_model = MobileNet(input_shape=(img_size, img_size, 3), include_top=False, weights='imagenet')\n",
    "model.add(base_model)\n",
    "\n",
    "model.add(GlobalAveragePooling2D())\n",
    "model.add(Dense(512, activation='relu'))\n",
    "model.add(Dense(7, activation='softmax'))"
   ],
   "metadata": {
    "collapsed": false,
    "ExecuteTime": {
     "start_time": "2023-06-08T14:06:33.844245Z",
     "end_time": "2023-06-08T14:06:34.087495Z"
    },
    "pycharm": {
     "name": "#%%\n"
    }
   }
  },
  {
   "cell_type": "code",
   "execution_count": 8,
   "outputs": [
    {
     "name": "stdout",
     "output_type": "stream",
     "text": [
      "Model: \"sequential\"\n",
      "_________________________________________________________________\n",
      " Layer (type)                Output Shape              Param #   \n",
      "=================================================================\n",
      " mobilenet_1.00_224 (Functio  (None, 7, 7, 1024)       3228864   \n",
      " nal)                                                            \n",
      "                                                                 \n",
      " global_average_pooling2d (G  (None, 1024)             0         \n",
      " lobalAveragePooling2D)                                          \n",
      "                                                                 \n",
      " dense (Dense)               (None, 512)               524800    \n",
      "                                                                 \n",
      " dense_1 (Dense)             (None, 7)                 3591      \n",
      "                                                                 \n",
      "=================================================================\n",
      "Total params: 3,757,255\n",
      "Trainable params: 3,735,367\n",
      "Non-trainable params: 21,888\n",
      "_________________________________________________________________\n"
     ]
    }
   ],
   "source": [
    "model.compile(\n",
    "    optimizer=Adam(learning_rate=0.001),\n",
    "    loss='categorical_crossentropy',\n",
    "    metrics=[\n",
    "        'accuracy',\n",
    "        Precision(name='precision'),\n",
    "        Precision(class_id=0, name='precision_angry'),\n",
    "        Precision(class_id=1, name='precision_disgust'),\n",
    "        Precision(class_id=2, name='precision_fear'),\n",
    "        Precision(class_id=3, name='precision_happy'),\n",
    "        Precision(class_id=4, name='precision_neutral'),\n",
    "        Precision(class_id=5, name='precision_sad'),\n",
    "        Precision(class_id=6, name='precision_surprise'),\n",
    "        Recall(name='recall'),\n",
    "        Recall(class_id=0, name='recall_angry'),\n",
    "        Recall(class_id=1, name='recall_disgust'),\n",
    "        Recall(class_id=2, name='recall_fear'),\n",
    "        Recall(class_id=3, name='recall_happy'),\n",
    "        Recall(class_id=4, name='recall_neutral'),\n",
    "        Recall(class_id=5, name='recall_sad'),\n",
    "        Recall(class_id=6, name='recall_surprise'),\n",
    "    ]\n",
    ")\n",
    "model.summary()"
   ],
   "metadata": {
    "collapsed": false,
    "ExecuteTime": {
     "start_time": "2023-06-08T14:08:05.068394Z",
     "end_time": "2023-06-08T14:08:05.102749Z"
    },
    "pycharm": {
     "name": "#%%\n"
    }
   }
  },
  {
   "cell_type": "code",
   "execution_count": 9,
   "outputs": [
    {
     "data": {
      "image/png": "[encoded data removed]",
      "text/plain": "<IPython.core.display.Image object>"
     },
     "execution_count": 9,
     "metadata": {},
     "output_type": "execute_result"
    }
   ],
   "source": [
    "plot_model(model, to_file='model_mobilenet_transfer.png', show_shapes=True, show_layer_names=True)"
   ],
   "metadata": {
    "collapsed": false,
    "pycharm": {
     "name": "#%%\n"
    }
   }
  },
  {
   "cell_type": "markdown",
   "source": [
    "### 6. Model training"
   ],
   "metadata": {
    "collapsed": false,
    "pycharm": {
     "name": "#%% md\n"
    }
   }
  },
  {
   "cell_type": "code",
   "execution_count": 10,
   "outputs": [],
   "source": [
    "epochs = 50"
   ],
   "metadata": {
    "collapsed": false,
    "ExecuteTime": {
     "start_time": "2023-06-08T14:08:06.121000Z",
     "end_time": "2023-06-08T14:08:06.134021Z"
    },
    "pycharm": {
     "name": "#%%\n"
    }
   }
  },
  {
   "cell_type": "code",
   "execution_count": 11,
   "outputs": [
    {
     "name": "stdout",
     "output_type": "stream",
     "text": [
      "Epoch 1/50\n",
      "740/740 [==============================] - ETA: 0s - loss: 1.2127 - accuracy: 0.5457 - precision: 0.7069 - precision_angry: 0.5877 - precision_disgust: 0.5833 - precision_fear: 0.5707 - precision_happy: 0.8286 - precision_neutral: 0.6082 - precision_sad: 0.5326 - precision_surprise: 0.7327 - recall: 0.3741 - recall_angry: 0.2240 - recall_disgust: 0.0693 - recall_fear: 0.1017 - recall_happy: 0.7341 - recall_neutral: 0.3107 - recall_sad: 0.1890 - recall_surprise: 0.5354\n",
      "Epoch 1: val_loss improved from inf to 1.33085, saving model to .\\model_mobilenet_transfer.h5\n",
      "740/740 [==============================] - 834s 1s/step - loss: 1.2127 - accuracy: 0.5457 - precision: 0.7069 - precision_angry: 0.5877 - precision_disgust: 0.5833 - precision_fear: 0.5707 - precision_happy: 0.8286 - precision_neutral: 0.6082 - precision_sad: 0.5326 - precision_surprise: 0.7327 - recall: 0.3741 - recall_angry: 0.2240 - recall_disgust: 0.0693 - recall_fear: 0.1017 - recall_happy: 0.7341 - recall_neutral: 0.3107 - recall_sad: 0.1890 - recall_surprise: 0.5354 - val_loss: 1.3308 - val_accuracy: 0.5190 - val_precision: 0.5920 - val_precision_angry: 0.4084 - val_precision_disgust: 0.0000e+00 - val_precision_fear: 0.5312 - val_precision_happy: 0.6343 - val_precision_neutral: 0.7037 - val_precision_sad: 0.6495 - val_precision_surprise: 0.8532 - val_recall: 0.4310 - val_recall_angry: 0.5920 - val_recall_disgust: 0.0000e+00 - val_recall_fear: 0.1014 - val_recall_happy: 0.9311 - val_recall_neutral: 0.1319 - val_recall_sad: 0.1303 - val_recall_surprise: 0.5173 - lr: 0.0010\n",
      "Epoch 2/50\n",
      "740/740 [==============================] - ETA: 0s - loss: 0.9988 - accuracy: 0.6273 - precision: 0.7514 - precision_angry: 0.6847 - precision_disgust: 0.6705 - precision_fear: 0.6567 - precision_happy: 0.8756 - precision_neutral: 0.6699 - precision_sad: 0.6131 - precision_surprise: 0.7758 - recall: 0.4920 - recall_angry: 0.3766 - recall_disgust: 0.2297 - recall_fear: 0.2020 - recall_happy: 0.8174 - recall_neutral: 0.4545 - recall_sad: 0.3166 - recall_surprise: 0.6468\n",
      "Epoch 2: val_loss improved from 1.33085 to 1.29895, saving model to .\\model_mobilenet_transfer.h5\n",
      "740/740 [==============================] - 834s 1s/step - loss: 0.9988 - accuracy: 0.6273 - precision: 0.7514 - precision_angry: 0.6847 - precision_disgust: 0.6705 - precision_fear: 0.6567 - precision_happy: 0.8756 - precision_neutral: 0.6699 - precision_sad: 0.6131 - precision_surprise: 0.7758 - recall: 0.4920 - recall_angry: 0.3766 - recall_disgust: 0.2297 - recall_fear: 0.2020 - recall_happy: 0.8174 - recall_neutral: 0.4545 - recall_sad: 0.3166 - recall_surprise: 0.6468 - val_loss: 1.2990 - val_accuracy: 0.5138 - val_precision: 0.6289 - val_precision_angry: 0.8020 - val_precision_disgust: 0.6585 - val_precision_fear: 0.3313 - val_precision_happy: 0.9602 - val_precision_neutral: 0.7440 - val_precision_sad: 0.6139 - val_precision_surprise: 0.7135 - val_recall: 0.3832 - val_recall_angry: 0.1980 - val_recall_disgust: 0.2143 - val_recall_fear: 0.5298 - val_recall_happy: 0.5273 - val_recall_neutral: 0.2478 - val_recall_sad: 0.0999 - val_recall_surprise: 0.7621 - lr: 0.0010\n",
      "Epoch 3/50\n",
      "740/740 [==============================] - ETA: 0s - loss: 0.9001 - accuracy: 0.6665 - precision: 0.7659 - precision_angry: 0.7114 - precision_disgust: 0.7226 - precision_fear: 0.6731 - precision_happy: 0.8882 - precision_neutral: 0.6892 - precision_sad: 0.6462 - precision_surprise: 0.8078 - recall: 0.5560 - recall_angry: 0.4622 - recall_disgust: 0.3921 - recall_fear: 0.2799 - recall_happy: 0.8471 - recall_neutral: 0.5226 - recall_sad: 0.3970 - recall_surprise: 0.6934\n",
      "Epoch 3: val_loss improved from 1.29895 to 1.01846, saving model to .\\model_mobilenet_transfer.h5\n",
      "740/740 [==============================] - 814s 1s/step - loss: 0.9001 - accuracy: 0.6665 - precision: 0.7659 - precision_angry: 0.7114 - precision_disgust: 0.7226 - precision_fear: 0.6731 - precision_happy: 0.8882 - precision_neutral: 0.6892 - precision_sad: 0.6462 - precision_surprise: 0.8078 - recall: 0.5560 - recall_angry: 0.4622 - recall_disgust: 0.3921 - recall_fear: 0.2799 - recall_happy: 0.8471 - recall_neutral: 0.5226 - recall_sad: 0.3970 - recall_surprise: 0.6934 - val_loss: 1.0185 - val_accuracy: 0.6172 - val_precision: 0.7446 - val_precision_angry: 0.5726 - val_precision_disgust: 0.4583 - val_precision_fear: 0.6411 - val_precision_happy: 0.9206 - val_precision_neutral: 0.7440 - val_precision_sad: 0.5864 - val_precision_surprise: 0.8242 - val_recall: 0.4896 - val_recall_angry: 0.5165 - val_recall_disgust: 0.5280 - val_recall_fear: 0.2185 - val_recall_happy: 0.7842 - val_recall_neutral: 0.3672 - val_recall_sad: 0.2492 - val_recall_surprise: 0.6818 - lr: 0.0010\n",
      "Epoch 4/50\n",
      "740/740 [==============================] - ETA: 0s - loss: 0.8206 - accuracy: 0.6961 - precision: 0.7801 - precision_angry: 0.7439 - precision_disgust: 0.7333 - precision_fear: 0.6843 - precision_happy: 0.9008 - precision_neutral: 0.7131 - precision_sad: 0.6704 - precision_surprise: 0.8143 - recall: 0.6020 - recall_angry: 0.5207 - recall_disgust: 0.4802 - recall_fear: 0.3303 - recall_happy: 0.8710 - recall_neutral: 0.5719 - recall_sad: 0.4617 - recall_surprise: 0.7274\n",
      "Epoch 4: val_loss did not improve from 1.01846\n",
      "740/740 [==============================] - 822s 1s/step - loss: 0.8206 - accuracy: 0.6961 - precision: 0.7801 - precision_angry: 0.7439 - precision_disgust: 0.7333 - precision_fear: 0.6843 - precision_happy: 0.9008 - precision_neutral: 0.7131 - precision_sad: 0.6704 - precision_surprise: 0.8143 - recall: 0.6020 - recall_angry: 0.5207 - recall_disgust: 0.4802 - recall_fear: 0.3303 - recall_happy: 0.8710 - recall_neutral: 0.5719 - recall_sad: 0.4617 - recall_surprise: 0.7274 - val_loss: 1.1935 - val_accuracy: 0.5764 - val_precision: 0.6531 - val_precision_angry: 0.8133 - val_precision_disgust: 0.6438 - val_precision_fear: 0.6142 - val_precision_happy: 0.8546 - val_precision_neutral: 0.4797 - val_precision_sad: 0.6875 - val_precision_surprise: 0.6402 - val_recall: 0.5104 - val_recall_angry: 0.1640 - val_recall_disgust: 0.3730 - val_recall_fear: 0.1964 - val_recall_happy: 0.8143 - val_recall_neutral: 0.7927 - val_recall_sad: 0.1022 - val_recall_surprise: 0.8584 - lr: 0.0010\n",
      "Epoch 5/50\n",
      "740/740 [==============================] - ETA: 0s - loss: 0.7341 - accuracy: 0.7300 - precision: 0.8046 - precision_angry: 0.7811 - precision_disgust: 0.8049 - precision_fear: 0.7074 - precision_happy: 0.9123 - precision_neutral: 0.7454 - precision_sad: 0.7155 - precision_surprise: 0.8390 - recall: 0.6530 - recall_angry: 0.5733 - recall_disgust: 0.5813 - recall_fear: 0.4069 - recall_happy: 0.8916 - recall_neutral: 0.6403 - recall_sad: 0.5173 - recall_surprise: 0.7679\n",
      "Epoch 5: val_loss did not improve from 1.01846\n",
      "740/740 [==============================] - 800s 1s/step - loss: 0.7341 - accuracy: 0.7300 - precision: 0.8046 - precision_angry: 0.7811 - precision_disgust: 0.8049 - precision_fear: 0.7074 - precision_happy: 0.9123 - precision_neutral: 0.7454 - precision_sad: 0.7155 - precision_surprise: 0.8390 - recall: 0.6530 - recall_angry: 0.5733 - recall_disgust: 0.5813 - recall_fear: 0.4069 - recall_happy: 0.8916 - recall_neutral: 0.6403 - recall_sad: 0.5173 - recall_surprise: 0.7679 - val_loss: 1.1491 - val_accuracy: 0.6160 - val_precision: 0.6664 - val_precision_angry: 0.6812 - val_precision_disgust: 0.7206 - val_precision_fear: 0.7005 - val_precision_happy: 0.8838 - val_precision_neutral: 0.4922 - val_precision_sad: 0.5281 - val_precision_surprise: 0.8412 - val_recall: 0.5720 - val_recall_angry: 0.3978 - val_recall_disgust: 0.3920 - val_recall_fear: 0.1724 - val_recall_happy: 0.7984 - val_recall_neutral: 0.7792 - val_recall_sad: 0.4640 - val_recall_surprise: 0.6742 - lr: 0.0010\n",
      "Epoch 6/50\n",
      "740/740 [==============================] - ETA: 0s - loss: 0.6457 - accuracy: 0.7661 - precision: 0.8240 - precision_angry: 0.7930 - precision_disgust: 0.8276 - precision_fear: 0.7552 - precision_happy: 0.9239 - precision_neutral: 0.7798 - precision_sad: 0.7347 - precision_surprise: 0.8599 - recall: 0.7046 - recall_angry: 0.6311 - recall_disgust: 0.6653 - recall_fear: 0.4819 - recall_happy: 0.9104 - recall_neutral: 0.7017 - recall_sad: 0.5877 - recall_surprise: 0.8057\n",
      "Epoch 6: val_loss did not improve from 1.01846\n",
      "740/740 [==============================] - 811s 1s/step - loss: 0.6457 - accuracy: 0.7661 - precision: 0.8240 - precision_angry: 0.7930 - precision_disgust: 0.8276 - precision_fear: 0.7552 - precision_happy: 0.9239 - precision_neutral: 0.7798 - precision_sad: 0.7347 - precision_surprise: 0.8599 - recall: 0.7046 - recall_angry: 0.6311 - recall_disgust: 0.6653 - recall_fear: 0.4819 - recall_happy: 0.9104 - recall_neutral: 0.7017 - recall_sad: 0.5877 - recall_surprise: 0.8057 - val_loss: 1.1398 - val_accuracy: 0.6109 - val_precision: 0.6788 - val_precision_angry: 0.7721 - val_precision_disgust: 0.6875 - val_precision_fear: 0.7778 - val_precision_happy: 0.8774 - val_precision_neutral: 0.4963 - val_precision_sad: 0.5431 - val_precision_surprise: 0.8121 - val_recall: 0.5455 - val_recall_angry: 0.3309 - val_recall_disgust: 0.3492 - val_recall_fear: 0.1002 - val_recall_happy: 0.8157 - val_recall_neutral: 0.7342 - val_recall_sad: 0.4618 - val_recall_surprise: 0.6485 - lr: 0.0010\n",
      "Epoch 7/50\n",
      "740/740 [==============================] - ETA: 0s - loss: 0.5552 - accuracy: 0.7971 - precision: 0.8423 - precision_angry: 0.8260 - precision_disgust: 0.8353 - precision_fear: 0.7665 - precision_happy: 0.9336 - precision_neutral: 0.8091 - precision_sad: 0.7628 - precision_surprise: 0.8796 - recall: 0.7503 - recall_angry: 0.6963 - recall_disgust: 0.7143 - recall_fear: 0.5580 - recall_happy: 0.9228 - recall_neutral: 0.7515 - recall_sad: 0.6516 - recall_surprise: 0.8295\n",
      "Epoch 7: val_loss did not improve from 1.01846\n",
      "740/740 [==============================] - 779s 1s/step - loss: 0.5552 - accuracy: 0.7971 - precision: 0.8423 - precision_angry: 0.8260 - precision_disgust: 0.8353 - precision_fear: 0.7665 - precision_happy: 0.9336 - precision_neutral: 0.8091 - precision_sad: 0.7628 - precision_surprise: 0.8796 - recall: 0.7503 - recall_angry: 0.6963 - recall_disgust: 0.7143 - recall_fear: 0.5580 - recall_happy: 0.9228 - recall_neutral: 0.7515 - recall_sad: 0.6516 - recall_surprise: 0.8295 - val_loss: 1.1539 - val_accuracy: 0.6163 - val_precision: 0.6629 - val_precision_angry: 0.6636 - val_precision_disgust: 0.8889 - val_precision_fear: 0.6079 - val_precision_happy: 0.8315 - val_precision_neutral: 0.6778 - val_precision_sad: 0.4305 - val_precision_surprise: 0.8387 - val_recall: 0.5757 - val_recall_angry: 0.4373 - val_recall_disgust: 0.4480 - val_recall_fear: 0.2395 - val_recall_happy: 0.8758 - val_recall_neutral: 0.3835 - val_recall_sad: 0.6828 - val_recall_surprise: 0.6677 - lr: 0.0010\n",
      "Epoch 8/50\n",
      "740/740 [==============================] - ETA: 0s - loss: 0.4730 - accuracy: 0.8266 - precision: 0.8635 - precision_angry: 0.8494 - precision_disgust: 0.8638 - precision_fear: 0.7874 - precision_happy: 0.9436 - precision_neutral: 0.8416 - precision_sad: 0.7980 - precision_surprise: 0.8972 - recall: 0.7916 - recall_angry: 0.7447 - recall_disgust: 0.7679 - recall_fear: 0.6156 - recall_happy: 0.9366 - recall_neutral: 0.8034 - recall_sad: 0.7119 - recall_surprise: 0.8549\n",
      "Epoch 8: val_loss did not improve from 1.01846\n",
      "\n",
      "Epoch 8: ReduceLROnPlateau reducing learning rate to 0.00010000000474974513.\n",
      "740/740 [==============================] - 799s 1s/step - loss: 0.4730 - accuracy: 0.8266 - precision: 0.8635 - precision_angry: 0.8494 - precision_disgust: 0.8638 - precision_fear: 0.7874 - precision_happy: 0.9436 - precision_neutral: 0.8416 - precision_sad: 0.7980 - precision_surprise: 0.8972 - recall: 0.7916 - recall_angry: 0.7447 - recall_disgust: 0.7679 - recall_fear: 0.6156 - recall_happy: 0.9366 - recall_neutral: 0.8034 - recall_sad: 0.7119 - recall_surprise: 0.8549 - val_loss: 1.1852 - val_accuracy: 0.6422 - val_precision: 0.6792 - val_precision_angry: 0.6925 - val_precision_disgust: 0.9000 - val_precision_fear: 0.5802 - val_precision_happy: 0.8187 - val_precision_neutral: 0.5348 - val_precision_sad: 0.5741 - val_precision_surprise: 0.8214 - val_recall: 0.6031 - val_recall_angry: 0.4355 - val_recall_disgust: 0.3571 - val_recall_fear: 0.3509 - val_recall_happy: 0.8852 - val_recall_neutral: 0.7041 - val_recall_sad: 0.4126 - val_recall_surprise: 0.6758 - lr: 0.0010\n",
      "Epoch 9/50\n",
      "740/740 [==============================] - ETA: 0s - loss: 0.2148 - accuracy: 0.9271 - precision: 0.9434 - precision_angry: 0.9438 - precision_disgust: 0.9492 - precision_fear: 0.9108 - precision_happy: 0.9775 - precision_neutral: 0.9409 - precision_sad: 0.9140 - precision_surprise: 0.9481 - recall: 0.9126 - recall_angry: 0.9029 - recall_disgust: 0.9248 - recall_fear: 0.8118 - recall_happy: 0.9755 - recall_neutral: 0.9333 - recall_sad: 0.8738 - recall_surprise: 0.9360\n",
      "Epoch 9: val_loss did not improve from 1.01846\n",
      "740/740 [==============================] - 784s 1s/step - loss: 0.2148 - accuracy: 0.9271 - precision: 0.9434 - precision_angry: 0.9438 - precision_disgust: 0.9492 - precision_fear: 0.9108 - precision_happy: 0.9775 - precision_neutral: 0.9409 - precision_sad: 0.9140 - precision_surprise: 0.9481 - recall: 0.9126 - recall_angry: 0.9029 - recall_disgust: 0.9248 - recall_fear: 0.8118 - recall_happy: 0.9755 - recall_neutral: 0.9333 - recall_sad: 0.8738 - recall_surprise: 0.9360 - val_loss: 1.2686 - val_accuracy: 0.6622 - val_precision: 0.6815 - val_precision_angry: 0.5762 - val_precision_disgust: 0.9231 - val_precision_fear: 0.5585 - val_precision_happy: 0.8718 - val_precision_neutral: 0.6429 - val_precision_sad: 0.5215 - val_precision_surprise: 0.8102 - val_recall: 0.6396 - val_recall_angry: 0.5692 - val_recall_disgust: 0.4762 - val_recall_fear: 0.4558 - val_recall_happy: 0.8658 - val_recall_neutral: 0.5508 - val_recall_sad: 0.5607 - val_recall_surprise: 0.7428 - lr: 1.0000e-04\n",
      "Epoch 10/50\n",
      "740/740 [==============================] - ETA: 0s - loss: 0.1170 - accuracy: 0.9617 - precision: 0.9685 - precision_angry: 0.9747 - precision_disgust: 0.9721 - precision_fear: 0.9396 - precision_happy: 0.9901 - precision_neutral: 0.9743 - precision_sad: 0.9482 - precision_surprise: 0.9685 - recall: 0.9574 - recall_angry: 0.9593 - recall_disgust: 0.9702 - recall_fear: 0.9045 - recall_happy: 0.9872 - recall_neutral: 0.9715 - recall_sad: 0.9363 - recall_surprise: 0.9634\n",
      "Epoch 10: val_loss did not improve from 1.01846\n",
      "740/740 [==============================] - 795s 1s/step - loss: 0.1170 - accuracy: 0.9617 - precision: 0.9685 - precision_angry: 0.9747 - precision_disgust: 0.9721 - precision_fear: 0.9396 - precision_happy: 0.9901 - precision_neutral: 0.9743 - precision_sad: 0.9482 - precision_surprise: 0.9685 - recall: 0.9574 - recall_angry: 0.9593 - recall_disgust: 0.9702 - recall_fear: 0.9045 - recall_happy: 0.9872 - recall_neutral: 0.9715 - recall_sad: 0.9363 - recall_surprise: 0.9634 - val_loss: 1.4528 - val_accuracy: 0.6607 - val_precision: 0.6747 - val_precision_angry: 0.5953 - val_precision_disgust: 0.9104 - val_precision_fear: 0.5386 - val_precision_happy: 0.8745 - val_precision_neutral: 0.5935 - val_precision_sad: 0.5388 - val_precision_surprise: 0.8042 - val_recall: 0.6454 - val_recall_angry: 0.5256 - val_recall_disgust: 0.4841 - val_recall_fear: 0.4766 - val_recall_happy: 0.8512 - val_recall_neutral: 0.6269 - val_recall_sad: 0.5521 - val_recall_surprise: 0.7470 - lr: 1.0000e-04\n",
      "Epoch 11/50\n",
      "740/740 [==============================] - ETA: 0s - loss: 0.0697 - accuracy: 0.9786 - precision: 0.9816 - precision_angry: 0.9865 - precision_disgust: 0.9780 - precision_fear: 0.9659 - precision_happy: 0.9908 - precision_neutral: 0.9884 - precision_sad: 0.9723 - precision_surprise: 0.9780 - recall: 0.9760 - recall_angry: 0.9776 - recall_disgust: 0.9722 - recall_fear: 0.9505 - recall_happy: 0.9920 - recall_neutral: 0.9847 - recall_sad: 0.9651 - recall_surprise: 0.9747\n",
      "Epoch 11: val_loss did not improve from 1.01846\n",
      "740/740 [==============================] - 789s 1s/step - loss: 0.0697 - accuracy: 0.9786 - precision: 0.9816 - precision_angry: 0.9865 - precision_disgust: 0.9780 - precision_fear: 0.9659 - precision_happy: 0.9908 - precision_neutral: 0.9884 - precision_sad: 0.9723 - precision_surprise: 0.9780 - recall: 0.9760 - recall_angry: 0.9776 - recall_disgust: 0.9722 - recall_fear: 0.9505 - recall_happy: 0.9920 - recall_neutral: 0.9847 - recall_sad: 0.9651 - recall_surprise: 0.9747 - val_loss: 1.6090 - val_accuracy: 0.6569 - val_precision: 0.6685 - val_precision_angry: 0.5765 - val_precision_disgust: 0.7901 - val_precision_fear: 0.5343 - val_precision_happy: 0.8640 - val_precision_neutral: 0.5994 - val_precision_sad: 0.5311 - val_precision_surprise: 0.8036 - val_recall: 0.6457 - val_recall_angry: 0.5492 - val_recall_disgust: 0.5120 - val_recall_fear: 0.4923 - val_recall_happy: 0.8634 - val_recall_neutral: 0.5988 - val_recall_sad: 0.5306 - val_recall_surprise: 0.7439 - lr: 1.0000e-04\n",
      "Epoch 12/50\n",
      "740/740 [==============================] - ETA: 0s - loss: 0.0454 - accuracy: 0.9866 - precision: 0.9883 - precision_angry: 0.9920 - precision_disgust: 0.9724 - precision_fear: 0.9750 - precision_happy: 0.9961 - precision_neutral: 0.9916 - precision_sad: 0.9871 - precision_surprise: 0.9834 - recall: 0.9854 - recall_angry: 0.9848 - recall_disgust: 0.9782 - recall_fear: 0.9718 - recall_happy: 0.9942 - recall_neutral: 0.9934 - recall_sad: 0.9802 - recall_surprise: 0.9808\n",
      "Epoch 12: val_loss did not improve from 1.01846\n",
      "740/740 [==============================] - 781s 1s/step - loss: 0.0454 - accuracy: 0.9866 - precision: 0.9883 - precision_angry: 0.9920 - precision_disgust: 0.9724 - precision_fear: 0.9750 - precision_happy: 0.9961 - precision_neutral: 0.9916 - precision_sad: 0.9871 - precision_surprise: 0.9834 - recall: 0.9854 - recall_angry: 0.9848 - recall_disgust: 0.9782 - recall_fear: 0.9718 - recall_happy: 0.9942 - recall_neutral: 0.9934 - recall_sad: 0.9802 - recall_surprise: 0.9808 - val_loss: 1.8222 - val_accuracy: 0.6559 - val_precision: 0.6643 - val_precision_angry: 0.5976 - val_precision_disgust: 0.7738 - val_precision_fear: 0.5082 - val_precision_happy: 0.8532 - val_precision_neutral: 0.5994 - val_precision_sad: 0.5331 - val_precision_surprise: 0.8104 - val_recall: 0.6488 - val_recall_angry: 0.5421 - val_recall_disgust: 0.5200 - val_recall_fear: 0.5149 - val_recall_happy: 0.8625 - val_recall_neutral: 0.6202 - val_recall_sad: 0.5237 - val_recall_surprise: 0.7296 - lr: 1.0000e-04\n",
      "Epoch 13/50\n",
      "740/740 [==============================] - ETA: 0s - loss: 0.0359 - accuracy: 0.9907 - precision: 0.9915 - precision_angry: 0.9939 - precision_disgust: 0.9762 - precision_fear: 0.9871 - precision_happy: 0.9959 - precision_neutral: 0.9946 - precision_sad: 0.9902 - precision_surprise: 0.9845 - recall: 0.9899 - recall_angry: 0.9924 - recall_disgust: 0.9782 - recall_fear: 0.9795 - recall_happy: 0.9949 - recall_neutral: 0.9948 - recall_sad: 0.9887 - recall_surprise: 0.9849Restoring model weights from the end of the best epoch: 3.\n",
      "\n",
      "Epoch 13: val_loss did not improve from 1.01846\n",
      "\n",
      "Epoch 13: ReduceLROnPlateau reducing learning rate to 1.0000000474974514e-05.\n",
      "740/740 [==============================] - 799s 1s/step - loss: 0.0359 - accuracy: 0.9907 - precision: 0.9915 - precision_angry: 0.9939 - precision_disgust: 0.9762 - precision_fear: 0.9871 - precision_happy: 0.9959 - precision_neutral: 0.9946 - precision_sad: 0.9902 - precision_surprise: 0.9845 - recall: 0.9899 - recall_angry: 0.9924 - recall_disgust: 0.9782 - recall_fear: 0.9795 - recall_happy: 0.9949 - recall_neutral: 0.9948 - recall_sad: 0.9887 - recall_surprise: 0.9849 - val_loss: 1.9071 - val_accuracy: 0.6552 - val_precision: 0.6649 - val_precision_angry: 0.6060 - val_precision_disgust: 0.8046 - val_precision_fear: 0.5114 - val_precision_happy: 0.8580 - val_precision_neutral: 0.5953 - val_precision_sad: 0.5344 - val_precision_surprise: 0.7639 - val_recall: 0.6484 - val_recall_angry: 0.5195 - val_recall_disgust: 0.5556 - val_recall_fear: 0.4821 - val_recall_happy: 0.8627 - val_recall_neutral: 0.6283 - val_recall_sad: 0.5300 - val_recall_surprise: 0.7662 - lr: 1.0000e-04\n",
      "Epoch 13: early stopping\n"
     ]
    }
   ],
   "source": [
    "history = model.fit(\n",
    "    train_generator,\n",
    "    steps_per_epoch=train_generator.n//train_generator.batch_size,\n",
    "    epochs=epochs,\n",
    "    validation_data=validation_generator,\n",
    "    validation_steps=validation_generator.n//validation_generator.batch_size,\n",
    "    callbacks=callbacks_list,\n",
    ")"
   ],
   "metadata": {
    "collapsed": false,
    "pycharm": {
     "name": "#%%\n"
    }
   }
  },
  {
   "cell_type": "markdown",
   "source": [
    "### 7. Evaluation - Test set"
   ],
   "metadata": {
    "collapsed": false,
    "pycharm": {
     "name": "#%% md\n"
    }
   }
  },
  {
   "cell_type": "code",
   "execution_count": 3,
   "outputs": [],
   "source": [
    "from keras.models import load_model\n",
    "\n",
    "model = load_model(\"model_mobilenet_transfer.h5\")"
   ],
   "metadata": {
    "collapsed": false,
    "pycharm": {
     "name": "#%%\n"
    }
   }
  },
  {
   "cell_type": "code",
   "execution_count": 4,
   "outputs": [
    {
     "name": "stdout",
     "output_type": "stream",
     "text": [
      "Found 7178 images belonging to 7 classes.\n"
     ]
    }
   ],
   "source": [
    "test_data_generator = ImageDataGenerator(preprocessing_function=preprocess_input)\n",
    "\n",
    "test_generator = test_data_generator.flow_from_directory(\n",
    "    DATASET_BASE_TEST_PATH,\n",
    "    target_size=(224, 224),\n",
    "    batch_size=32,\n",
    "    class_mode='categorical',\n",
    "    shuffle=False\n",
    ")"
   ],
   "metadata": {
    "collapsed": false,
    "pycharm": {
     "name": "#%%\n"
    }
   }
  },
  {
   "cell_type": "code",
   "execution_count": 5,
   "outputs": [
    {
     "name": "stdout",
     "output_type": "stream",
     "text": [
      "225/225 [==============================] - 97s 421ms/step - loss: 1.0308 - accuracy: 0.6099 - precision: 0.7305 - precision_angry: 0.5612 - precision_disgust: 0.2912 - precision_fear: 0.5775 - precision_happy: 0.9342 - precision_neutral: 0.7351 - precision_sad: 0.5963 - precision_surprise: 0.8198 - recall: 0.4845 - recall_angry: 0.5407 - recall_disgust: 0.4775 - recall_fear: 0.2002 - recall_happy: 0.7768 - recall_neutral: 0.3601 - recall_sad: 0.2606 - recall_surprise: 0.6679\n"
     ]
    },
    {
     "data": {
      "text/plain": "[1.0308433771133423,\n 0.6099191904067993,\n 0.7305188179016113,\n 0.5612134337425232,\n 0.29120880365371704,\n 0.577464759349823,\n 0.9342373013496399,\n 0.7350993156433105,\n 0.5963302850723267,\n 0.8197932243347168,\n 0.4845360815525055,\n 0.5407097935676575,\n 0.477477490901947,\n 0.2001953125,\n 0.7767756581306458,\n 0.36009731888771057,\n 0.2606255114078522,\n 0.667870044708252]"
     },
     "execution_count": 5,
     "metadata": {},
     "output_type": "execute_result"
    }
   ],
   "source": [
    "model.evaluate(test_generator)"
   ],
   "metadata": {
    "collapsed": false,
    "pycharm": {
     "name": "#%%\n"
    }
   }
  }
 ],
 "metadata": {
  "kernelspec": {
   "display_name": "Python 3",
   "language": "python",
   "name": "python3"
  },
  "language_info": {
   "codemirror_mode": {
    "name": "ipython",
    "version": 2
   },
   "file_extension": ".py",
   "mimetype": "text/x-python",
   "name": "python",
   "nbconvert_exporter": "python",
   "pygments_lexer": "ipython2",
   "version": "2.7.6"
  }
 },
 "nbformat": 4,
 "nbformat_minor": 0
}