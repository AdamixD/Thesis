{
 "cells": [
  {
   "cell_type": "markdown",
   "source": [
    "# Model Training - MobileNetV3 (base)"
   ],
   "metadata": {
    "collapsed": false,
    "pycharm": {
     "name": "#%% md\n"
    }
   }
  },
  {
   "cell_type": "markdown",
   "source": [
    "### 0. Imports"
   ],
   "metadata": {
    "collapsed": false,
    "pycharm": {
     "name": "#%% md\n"
    }
   }
  },
  {
   "cell_type": "code",
   "execution_count": 2,
   "outputs": [],
   "source": [
    "import matplotlib.pyplot as plt\n",
    "import tensorflow as tf\n",
    "\n",
    "from keras.applications import MobileNetV3Large\n",
    "from keras.applications.mobilenet_v3 import preprocess_input\n",
    "from keras.callbacks import (\n",
    "    ModelCheckpoint,\n",
    "    EarlyStopping,\n",
    "    ReduceLROnPlateau\n",
    ")\n",
    "from keras.models import Sequential\n",
    "from keras.layers import Dense, GlobalAveragePooling2D\n",
    "from keras.metrics import Precision, Recall\n",
    "from keras.optimizers import Adam\n",
    "from keras.preprocessing.image import ImageDataGenerator\n",
    "from keras.utils.vis_utils import plot_model"
   ],
   "metadata": {
    "collapsed": false,
    "ExecuteTime": {
     "start_time": "2023-06-08T14:04:36.621338Z",
     "end_time": "2023-06-08T14:04:39.977428Z"
    },
    "pycharm": {
     "name": "#%%\n"
    }
   }
  },
  {
   "cell_type": "markdown",
   "source": [
    "### 1. Paths"
   ],
   "metadata": {
    "collapsed": false,
    "pycharm": {
     "name": "#%% md\n"
    }
   }
  },
  {
   "cell_type": "code",
   "execution_count": 3,
   "outputs": [],
   "source": [
    "# DATASET_BASE_TRAIN_PATH = \"/Users/adamdabkowski/DataspellProjects/Praca_dyplomowa/data/train_resized\"\n",
    "# DATASET_BASE_TRAIN_PATH = \"/Users/adamd/DataspellProjects/Facial Expressions Recognition/data/train_resized\"\n",
    "# DATASET_BASE_TRAIN_PATH = \"/Users/adamd/DataspellProjects/Facial Expressions Recognition/data/train_merged\"\n",
    "DATASET_BASE_TRAIN_PATH = \"/Users/adamd/DataspellProjects/Facial Expressions Recognition/data/train_merged_cleaned\"\n",
    "\n",
    "# DATASET_BASE_TRAIN_PATH = \"../new_data\"\n",
    "\n",
    "# DATASET_BASE_TEST_PATH = \"/Users/adamdabkowski/DataspellProjects/Praca_dyplomowa/data/test_resized\"\n",
    "DATASET_BASE_TEST_PATH = \"/Users/adamd/DataspellProjects/Facial Expressions Recognition/data/test_resized\""
   ],
   "metadata": {
    "collapsed": false,
    "ExecuteTime": {
     "start_time": "2023-06-08T14:06:08.298593Z",
     "end_time": "2023-06-08T14:06:08.305288Z"
    },
    "pycharm": {
     "name": "#%%\n"
    }
   }
  },
  {
   "cell_type": "markdown",
   "source": [
    "### 2. Data preprocessing"
   ],
   "metadata": {
    "collapsed": false,
    "pycharm": {
     "name": "#%% md\n"
    }
   }
  },
  {
   "cell_type": "code",
   "execution_count": 10,
   "outputs": [
    {
     "name": "stdout",
     "output_type": "stream",
     "text": [
      "Found 23689 images belonging to 7 classes.\n",
      "Found 5919 images belonging to 7 classes.\n"
     ]
    }
   ],
   "source": [
    "batch_size  = 32\n",
    "img_size = 224\n",
    "\n",
    "train_validation_data_generator = ImageDataGenerator(preprocessing_function=preprocess_input, validation_split=0.2)\n",
    "\n",
    "train_generator = train_validation_data_generator.flow_from_directory(\n",
    "    DATASET_BASE_TRAIN_PATH,\n",
    "    target_size=(img_size,img_size),\n",
    "    batch_size=batch_size,\n",
    "    class_mode='categorical',\n",
    "    color_mode='rgb',\n",
    "    subset='training',\n",
    "    shuffle=True,\n",
    ")\n",
    "\n",
    "validation_generator = train_validation_data_generator.flow_from_directory(\n",
    "    DATASET_BASE_TRAIN_PATH,\n",
    "    target_size=(img_size,img_size),\n",
    "    batch_size=batch_size,\n",
    "    class_mode='categorical',\n",
    "    color_mode='rgb',\n",
    "    subset='validation',\n",
    "    shuffle=True,\n",
    ")"
   ],
   "metadata": {
    "collapsed": false,
    "ExecuteTime": {
     "start_time": "2023-06-08T14:06:12.829138Z",
     "end_time": "2023-06-08T14:06:13.009438Z"
    },
    "pycharm": {
     "name": "#%%\n"
    }
   }
  },
  {
   "cell_type": "markdown",
   "source": [
    "### 5. Model creating"
   ],
   "metadata": {
    "collapsed": false,
    "pycharm": {
     "name": "#%% md\n"
    }
   }
  },
  {
   "cell_type": "code",
   "execution_count": 11,
   "outputs": [],
   "source": [
    "CATEGORIES = [\"angry\", \"disgust\", \"fear\", \"happy\", \"neutral\", \"sad\", \"surprise\"]"
   ],
   "metadata": {
    "collapsed": false,
    "ExecuteTime": {
     "start_time": "2023-06-08T14:06:21.358802Z",
     "end_time": "2023-06-08T14:06:21.367405Z"
    },
    "pycharm": {
     "name": "#%%\n"
    }
   }
  },
  {
   "cell_type": "code",
   "execution_count": 12,
   "outputs": [],
   "source": [
    "checkpoint = ModelCheckpoint(\n",
    "    filepath=\"./model_mobilenet_v3_base.h5\",\n",
    "    monitor='val_loss',\n",
    "    verbose=1,\n",
    "    save_best_only=True,\n",
    "    mode='min'\n",
    ")\n",
    "\n",
    "early_stopping = EarlyStopping(\n",
    "    monitor='val_loss',\n",
    "    patience=10,\n",
    "    verbose=1,\n",
    "    restore_best_weights=True,\n",
    ")\n",
    "\n",
    "reduce_learning_rate = ReduceLROnPlateau(\n",
    "    monitor='val_loss',\n",
    "    factor=0.1,\n",
    "    patience=5,\n",
    "    verbose=1,\n",
    "    min_lr=0.00001,\n",
    ")\n",
    "\n",
    "callbacks_list = [early_stopping, checkpoint, reduce_learning_rate]"
   ],
   "metadata": {
    "collapsed": false,
    "ExecuteTime": {
     "start_time": "2023-06-08T14:06:22.501933Z",
     "end_time": "2023-06-08T14:06:22.506101Z"
    },
    "pycharm": {
     "name": "#%%\n"
    }
   }
  },
  {
   "cell_type": "code",
   "execution_count": 13,
   "outputs": [],
   "source": [
    "model = Sequential()\n",
    "\n",
    "base_model = MobileNetV3Large(input_shape=(img_size, img_size, 3), include_top=False, weights=None)\n",
    "model.add(base_model)\n",
    "\n",
    "model.add(GlobalAveragePooling2D())\n",
    "model.add(Dense(512, activation='relu'))\n",
    "model.add(Dense(7, activation='softmax'))"
   ],
   "metadata": {
    "collapsed": false,
    "ExecuteTime": {
     "start_time": "2023-06-08T14:06:33.844245Z",
     "end_time": "2023-06-08T14:06:34.087495Z"
    },
    "pycharm": {
     "name": "#%%\n"
    }
   }
  },
  {
   "cell_type": "code",
   "execution_count": 14,
   "outputs": [
    {
     "name": "stdout",
     "output_type": "stream",
     "text": [
      "Model: \"sequential_1\"\n",
      "_________________________________________________________________\n",
      " Layer (type)                Output Shape              Param #   \n",
      "=================================================================\n",
      " MobilenetV3large (Functiona  (None, 7, 7, 960)        2996352   \n",
      " l)                                                              \n",
      "                                                                 \n",
      " global_average_pooling2d_1   (None, 960)              0         \n",
      " (GlobalAveragePooling2D)                                        \n",
      "                                                                 \n",
      " dense_2 (Dense)             (None, 512)               492032    \n",
      "                                                                 \n",
      " dense_3 (Dense)             (None, 7)                 3591      \n",
      "                                                                 \n",
      "=================================================================\n",
      "Total params: 3,491,975\n",
      "Trainable params: 3,467,575\n",
      "Non-trainable params: 24,400\n",
      "_________________________________________________________________\n"
     ]
    }
   ],
   "source": [
    "model.compile(\n",
    "    optimizer=Adam(learning_rate=0.001),\n",
    "    loss='categorical_crossentropy',\n",
    "    metrics=[\n",
    "        'accuracy',\n",
    "        Precision(name='precision'),\n",
    "        Precision(class_id=0, name='precision_angry'),\n",
    "        Precision(class_id=1, name='precision_disgust'),\n",
    "        Precision(class_id=2, name='precision_fear'),\n",
    "        Precision(class_id=3, name='precision_happy'),\n",
    "        Precision(class_id=4, name='precision_neutral'),\n",
    "        Precision(class_id=5, name='precision_sad'),\n",
    "        Precision(class_id=6, name='precision_surprise'),\n",
    "        Recall(name='recall'),\n",
    "        Recall(class_id=0, name='recall_angry'),\n",
    "        Recall(class_id=1, name='recall_disgust'),\n",
    "        Recall(class_id=2, name='recall_fear'),\n",
    "        Recall(class_id=3, name='recall_happy'),\n",
    "        Recall(class_id=4, name='recall_neutral'),\n",
    "        Recall(class_id=5, name='recall_sad'),\n",
    "        Recall(class_id=6, name='recall_surprise'),\n",
    "    ]\n",
    ")\n",
    "model.summary()"
   ],
   "metadata": {
    "collapsed": false,
    "ExecuteTime": {
     "start_time": "2023-06-08T14:08:05.068394Z",
     "end_time": "2023-06-08T14:08:05.102749Z"
    },
    "pycharm": {
     "name": "#%%\n"
    }
   }
  },
  {
   "cell_type": "code",
   "execution_count": 15,
   "outputs": [
    {
     "data": {
      "image/png": "[encoded data removed]",
      "text/plain": "<IPython.core.display.Image object>"
     },
     "execution_count": 15,
     "metadata": {},
     "output_type": "execute_result"
    }
   ],
   "source": [
    "plot_model(model, to_file='model_mobilenet_v3_base.png', show_shapes=True, show_layer_names=True)"
   ],
   "metadata": {
    "collapsed": false,
    "pycharm": {
     "name": "#%%\n"
    }
   }
  },
  {
   "cell_type": "markdown",
   "source": [
    "### 6. Model training"
   ],
   "metadata": {
    "collapsed": false,
    "pycharm": {
     "name": "#%% md\n"
    }
   }
  },
  {
   "cell_type": "code",
   "execution_count": 16,
   "outputs": [],
   "source": [
    "epochs = 50"
   ],
   "metadata": {
    "collapsed": false,
    "ExecuteTime": {
     "start_time": "2023-06-08T14:08:06.121000Z",
     "end_time": "2023-06-08T14:08:06.134021Z"
    },
    "pycharm": {
     "name": "#%%\n"
    }
   }
  },
  {
   "cell_type": "code",
   "execution_count": 17,
   "outputs": [
    {
     "name": "stdout",
     "output_type": "stream",
     "text": [
      "Epoch 1/50\n",
      "740/740 [==============================] - ETA: 0s - loss: 1.7655 - accuracy: 0.2800 - precision: 0.6039 - precision_angry: 0.1765 - precision_disgust: 0.2500 - precision_fear: 0.1111 - precision_happy: 0.6592 - precision_neutral: 0.3846 - precision_sad: 0.2353 - precision_surprise: 0.5579 - recall: 0.0298 - recall_angry: 9.1158e-04 - recall_disgust: 0.0079 - recall_fear: 2.9674e-04 - recall_happy: 0.0852 - recall_neutral: 0.0012 - recall_sad: 0.0010 - recall_surprise: 0.0708\n",
      "Epoch 1: val_loss improved from inf to 1.90494, saving model to .\\model_mobilenet_v3_base.h5\n",
      "740/740 [==============================] - 857s 1s/step - loss: 1.7655 - accuracy: 0.2800 - precision: 0.6039 - precision_angry: 0.1765 - precision_disgust: 0.2500 - precision_fear: 0.1111 - precision_happy: 0.6592 - precision_neutral: 0.3846 - precision_sad: 0.2353 - precision_surprise: 0.5579 - recall: 0.0298 - recall_angry: 9.1158e-04 - recall_disgust: 0.0079 - recall_fear: 2.9674e-04 - recall_happy: 0.0852 - recall_neutral: 0.0012 - recall_sad: 0.0010 - recall_surprise: 0.0708 - val_loss: 1.9049 - val_accuracy: 0.2488 - val_precision: 0.0000e+00 - val_precision_angry: 0.0000e+00 - val_precision_disgust: 0.0000e+00 - val_precision_fear: 0.0000e+00 - val_precision_happy: 0.0000e+00 - val_precision_neutral: 0.0000e+00 - val_precision_sad: 0.0000e+00 - val_precision_surprise: 0.0000e+00 - val_recall: 0.0000e+00 - val_recall_angry: 0.0000e+00 - val_recall_disgust: 0.0000e+00 - val_recall_fear: 0.0000e+00 - val_recall_happy: 0.0000e+00 - val_recall_neutral: 0.0000e+00 - val_recall_sad: 0.0000e+00 - val_recall_surprise: 0.0000e+00 - lr: 0.0010\n",
      "Epoch 2/50\n",
      "740/740 [==============================] - ETA: 0s - loss: 1.4562 - accuracy: 0.4315 - precision: 0.7362 - precision_angry: 0.4513 - precision_disgust: 0.0000e+00 - precision_fear: 0.0000e+00 - precision_happy: 0.7778 - precision_neutral: 0.5261 - precision_sad: 0.0000e+00 - precision_surprise: 0.6782 - recall: 0.2022 - recall_angry: 0.0155 - recall_disgust: 0.0000e+00 - recall_fear: 0.0000e+00 - recall_happy: 0.5930 - recall_neutral: 0.0323 - recall_sad: 0.0000e+00 - recall_surprise: 0.4201\n",
      "Epoch 2: val_loss did not improve from 1.90494\n",
      "740/740 [==============================] - 792s 1s/step - loss: 1.4562 - accuracy: 0.4315 - precision: 0.7362 - precision_angry: 0.4513 - precision_disgust: 0.0000e+00 - precision_fear: 0.0000e+00 - precision_happy: 0.7778 - precision_neutral: 0.5261 - precision_sad: 0.0000e+00 - precision_surprise: 0.6782 - recall: 0.2022 - recall_angry: 0.0155 - recall_disgust: 0.0000e+00 - recall_fear: 0.0000e+00 - recall_happy: 0.5930 - recall_neutral: 0.0323 - recall_sad: 0.0000e+00 - recall_surprise: 0.4201 - val_loss: 2.0082 - val_accuracy: 0.1719 - val_precision: 0.0000e+00 - val_precision_angry: 0.0000e+00 - val_precision_disgust: 0.0000e+00 - val_precision_fear: 0.0000e+00 - val_precision_happy: 0.0000e+00 - val_precision_neutral: 0.0000e+00 - val_precision_sad: 0.0000e+00 - val_precision_surprise: 0.0000e+00 - val_recall: 0.0000e+00 - val_recall_angry: 0.0000e+00 - val_recall_disgust: 0.0000e+00 - val_recall_fear: 0.0000e+00 - val_recall_happy: 0.0000e+00 - val_recall_neutral: 0.0000e+00 - val_recall_sad: 0.0000e+00 - val_recall_surprise: 0.0000e+00 - lr: 0.0010\n",
      "Epoch 3/50\n",
      "740/740 [==============================] - ETA: 0s - loss: 1.2996 - accuracy: 0.5012 - precision: 0.7383 - precision_angry: 0.5714 - precision_disgust: 0.0000e+00 - precision_fear: 0.0000e+00 - precision_happy: 0.8143 - precision_neutral: 0.5485 - precision_sad: 0.4400 - precision_surprise: 0.7127 - recall: 0.2803 - recall_angry: 0.0971 - recall_disgust: 0.0000e+00 - recall_fear: 0.0000e+00 - recall_happy: 0.7182 - recall_neutral: 0.1546 - recall_sad: 0.0113 - recall_surprise: 0.5338\n",
      "Epoch 3: val_loss did not improve from 1.90494\n",
      "740/740 [==============================] - 794s 1s/step - loss: 1.2996 - accuracy: 0.5012 - precision: 0.7383 - precision_angry: 0.5714 - precision_disgust: 0.0000e+00 - precision_fear: 0.0000e+00 - precision_happy: 0.8143 - precision_neutral: 0.5485 - precision_sad: 0.4400 - precision_surprise: 0.7127 - recall: 0.2803 - recall_angry: 0.0971 - recall_disgust: 0.0000e+00 - recall_fear: 0.0000e+00 - recall_happy: 0.7182 - recall_neutral: 0.1546 - recall_sad: 0.0113 - recall_surprise: 0.5338 - val_loss: 2.3311 - val_accuracy: 0.1646 - val_precision: 0.0000e+00 - val_precision_angry: 0.0000e+00 - val_precision_disgust: 0.0000e+00 - val_precision_fear: 0.0000e+00 - val_precision_happy: 0.0000e+00 - val_precision_neutral: 0.0000e+00 - val_precision_sad: 0.0000e+00 - val_precision_surprise: 0.0000e+00 - val_recall: 0.0000e+00 - val_recall_angry: 0.0000e+00 - val_recall_disgust: 0.0000e+00 - val_recall_fear: 0.0000e+00 - val_recall_happy: 0.0000e+00 - val_recall_neutral: 0.0000e+00 - val_recall_sad: 0.0000e+00 - val_recall_surprise: 0.0000e+00 - lr: 0.0010\n",
      "Epoch 4/50\n",
      "740/740 [==============================] - ETA: 0s - loss: 1.2081 - accuracy: 0.5390 - precision: 0.7383 - precision_angry: 0.6027 - precision_disgust: 0.5000 - precision_fear: 0.1875 - precision_happy: 0.8402 - precision_neutral: 0.6088 - precision_sad: 0.4901 - precision_surprise: 0.7106 - recall: 0.3322 - recall_angry: 0.1630 - recall_disgust: 0.0158 - recall_fear: 8.9074e-04 - recall_happy: 0.7584 - recall_neutral: 0.2713 - recall_sad: 0.0572 - recall_surprise: 0.5754\n",
      "Epoch 4: val_loss did not improve from 1.90494\n",
      "740/740 [==============================] - 792s 1s/step - loss: 1.2081 - accuracy: 0.5390 - precision: 0.7383 - precision_angry: 0.6027 - precision_disgust: 0.5000 - precision_fear: 0.1875 - precision_happy: 0.8402 - precision_neutral: 0.6088 - precision_sad: 0.4901 - precision_surprise: 0.7106 - recall: 0.3322 - recall_angry: 0.1630 - recall_disgust: 0.0158 - recall_fear: 8.9074e-04 - recall_happy: 0.7584 - recall_neutral: 0.2713 - recall_sad: 0.0572 - recall_surprise: 0.5754 - val_loss: 2.7259 - val_accuracy: 0.1646 - val_precision: 0.1648 - val_precision_angry: 0.0000e+00 - val_precision_disgust: 0.0000e+00 - val_precision_fear: 0.0000e+00 - val_precision_happy: 0.0000e+00 - val_precision_neutral: 0.0000e+00 - val_precision_sad: 0.1648 - val_precision_surprise: 0.0000e+00 - val_recall: 0.1646 - val_recall_angry: 0.0000e+00 - val_recall_disgust: 0.0000e+00 - val_recall_fear: 0.0000e+00 - val_recall_happy: 0.0000e+00 - val_recall_neutral: 0.0000e+00 - val_recall_sad: 1.0000 - val_recall_surprise: 0.0000e+00 - lr: 0.0010\n",
      "Epoch 5/50\n",
      "740/740 [==============================] - ETA: 0s - loss: 1.1460 - accuracy: 0.5625 - precision: 0.7409 - precision_angry: 0.6267 - precision_disgust: 0.5758 - precision_fear: 0.4151 - precision_happy: 0.8503 - precision_neutral: 0.6370 - precision_sad: 0.5572 - precision_surprise: 0.7323 - recall: 0.3779 - recall_angry: 0.2302 - recall_disgust: 0.0377 - recall_fear: 0.0065 - recall_happy: 0.7795 - recall_neutral: 0.3322 - recall_sad: 0.1477 - recall_surprise: 0.6162\n",
      "Epoch 5: val_loss improved from 1.90494 to 1.78735, saving model to .\\model_mobilenet_v3_base.h5\n",
      "740/740 [==============================] - 790s 1s/step - loss: 1.1460 - accuracy: 0.5625 - precision: 0.7409 - precision_angry: 0.6267 - precision_disgust: 0.5758 - precision_fear: 0.4151 - precision_happy: 0.8503 - precision_neutral: 0.6370 - precision_sad: 0.5572 - precision_surprise: 0.7323 - recall: 0.3779 - recall_angry: 0.2302 - recall_disgust: 0.0377 - recall_fear: 0.0065 - recall_happy: 0.7795 - recall_neutral: 0.3322 - recall_sad: 0.1477 - recall_surprise: 0.6162 - val_loss: 1.7874 - val_accuracy: 0.4105 - val_precision: 0.5083 - val_precision_angry: 1.0000 - val_precision_disgust: 0.0000e+00 - val_precision_fear: 0.0000e+00 - val_precision_happy: 0.6213 - val_precision_neutral: 0.4160 - val_precision_sad: 0.3677 - val_precision_surprise: 0.9099 - val_recall: 0.3291 - val_recall_angry: 0.0049 - val_recall_disgust: 0.0000e+00 - val_recall_fear: 0.0000e+00 - val_recall_happy: 0.6976 - val_recall_neutral: 0.4777 - val_recall_sad: 0.3385 - val_recall_surprise: 0.1528 - lr: 0.0010\n",
      "Epoch 6/50\n",
      "740/740 [==============================] - ETA: 0s - loss: 1.0872 - accuracy: 0.5885 - precision: 0.7454 - precision_angry: 0.6490 - precision_disgust: 0.5753 - precision_fear: 0.5277 - precision_happy: 0.8592 - precision_neutral: 0.6613 - precision_sad: 0.5735 - precision_surprise: 0.7517 - recall: 0.4151 - recall_angry: 0.2670 - recall_disgust: 0.0832 - recall_fear: 0.0481 - recall_happy: 0.8028 - recall_neutral: 0.3769 - recall_sad: 0.2025 - recall_surprise: 0.6382\n",
      "Epoch 6: val_loss improved from 1.78735 to 1.62823, saving model to .\\model_mobilenet_v3_base.h5\n",
      "740/740 [==============================] - 796s 1s/step - loss: 1.0872 - accuracy: 0.5885 - precision: 0.7454 - precision_angry: 0.6490 - precision_disgust: 0.5753 - precision_fear: 0.5277 - precision_happy: 0.8592 - precision_neutral: 0.6613 - precision_sad: 0.5735 - precision_surprise: 0.7517 - recall: 0.4151 - recall_angry: 0.2670 - recall_disgust: 0.0832 - recall_fear: 0.0481 - recall_happy: 0.8028 - recall_neutral: 0.3769 - recall_sad: 0.2025 - recall_surprise: 0.6382 - val_loss: 1.6282 - val_accuracy: 0.4954 - val_precision: 0.5654 - val_precision_angry: 0.5386 - val_precision_disgust: 0.0000e+00 - val_precision_fear: 0.5455 - val_precision_happy: 0.6033 - val_precision_neutral: 0.5846 - val_precision_sad: 0.6047 - val_precision_surprise: 0.4927 - val_recall: 0.4214 - val_recall_angry: 0.2812 - val_recall_disgust: 0.0000e+00 - val_recall_fear: 0.0071 - val_recall_happy: 0.8908 - val_recall_neutral: 0.3145 - val_recall_sad: 0.0536 - val_recall_surprise: 0.8663 - lr: 0.0010\n",
      "Epoch 7/50\n",
      "740/740 [==============================] - ETA: 0s - loss: 1.0436 - accuracy: 0.6046 - precision: 0.7501 - precision_angry: 0.6566 - precision_disgust: 0.5596 - precision_fear: 0.5462 - precision_happy: 0.8711 - precision_neutral: 0.6772 - precision_sad: 0.5932 - precision_surprise: 0.7688 - recall: 0.4508 - recall_angry: 0.3228 - recall_disgust: 0.1208 - recall_fear: 0.0825 - recall_happy: 0.8249 - recall_neutral: 0.4257 - recall_sad: 0.2469 - recall_surprise: 0.6484\n",
      "Epoch 7: val_loss did not improve from 1.62823\n",
      "740/740 [==============================] - 793s 1s/step - loss: 1.0436 - accuracy: 0.6046 - precision: 0.7501 - precision_angry: 0.6566 - precision_disgust: 0.5596 - precision_fear: 0.5462 - precision_happy: 0.8711 - precision_neutral: 0.6772 - precision_sad: 0.5932 - precision_surprise: 0.7688 - recall: 0.4508 - recall_angry: 0.3228 - recall_disgust: 0.1208 - recall_fear: 0.0825 - recall_happy: 0.8249 - recall_neutral: 0.4257 - recall_sad: 0.2469 - recall_surprise: 0.6484 - val_loss: 1.9498 - val_accuracy: 0.4202 - val_precision: 0.4736 - val_precision_angry: 0.2608 - val_precision_disgust: 0.0000e+00 - val_precision_fear: 0.4118 - val_precision_happy: 0.7553 - val_precision_neutral: 0.7624 - val_precision_sad: 0.5962 - val_precision_surprise: 0.7671 - val_recall: 0.3597 - val_recall_angry: 0.7908 - val_recall_disgust: 0.0000e+00 - val_recall_fear: 0.0334 - val_recall_happy: 0.6391 - val_recall_neutral: 0.1364 - val_recall_sad: 0.0320 - val_recall_surprise: 0.5091 - lr: 0.0010\n",
      "Epoch 8/50\n",
      "740/740 [==============================] - ETA: 0s - loss: 1.0017 - accuracy: 0.6217 - precision: 0.7542 - precision_angry: 0.6692 - precision_disgust: 0.6957 - precision_fear: 0.6119 - precision_happy: 0.8749 - precision_neutral: 0.6771 - precision_sad: 0.6026 - precision_surprise: 0.7768 - recall: 0.4738 - recall_angry: 0.3441 - recall_disgust: 0.1905 - recall_fear: 0.1281 - recall_happy: 0.8321 - recall_neutral: 0.4407 - recall_sad: 0.2763 - recall_surprise: 0.6738\n",
      "Epoch 8: val_loss did not improve from 1.62823\n",
      "740/740 [==============================] - 789s 1s/step - loss: 1.0017 - accuracy: 0.6217 - precision: 0.7542 - precision_angry: 0.6692 - precision_disgust: 0.6957 - precision_fear: 0.6119 - precision_happy: 0.8749 - precision_neutral: 0.6771 - precision_sad: 0.6026 - precision_surprise: 0.7768 - recall: 0.4738 - recall_angry: 0.3441 - recall_disgust: 0.1905 - recall_fear: 0.1281 - recall_happy: 0.8321 - recall_neutral: 0.4407 - recall_sad: 0.2763 - recall_surprise: 0.6738 - val_loss: 1.8838 - val_accuracy: 0.4698 - val_precision: 0.5307 - val_precision_angry: 0.3522 - val_precision_disgust: 0.2000 - val_precision_fear: 0.4762 - val_precision_happy: 0.6515 - val_precision_neutral: 0.6295 - val_precision_sad: 0.6667 - val_precision_surprise: 0.5317 - val_recall: 0.4419 - val_recall_angry: 0.6224 - val_recall_disgust: 0.0806 - val_recall_fear: 0.0120 - val_recall_happy: 0.8313 - val_recall_neutral: 0.3113 - val_recall_sad: 0.0021 - val_recall_surprise: 0.8134 - lr: 0.0010\n",
      "Epoch 9/50\n",
      "740/740 [==============================] - ETA: 0s - loss: 0.9509 - accuracy: 0.6401 - precision: 0.7621 - precision_angry: 0.6913 - precision_disgust: 0.6359 - precision_fear: 0.6283 - precision_happy: 0.8880 - precision_neutral: 0.6947 - precision_sad: 0.6082 - precision_surprise: 0.7965 - recall: 0.5072 - recall_angry: 0.4030 - recall_disgust: 0.2317 - recall_fear: 0.1780 - recall_happy: 0.8412 - recall_neutral: 0.4873 - recall_sad: 0.3061 - recall_surprise: 0.6923\n",
      "Epoch 9: val_loss did not improve from 1.62823\n",
      "740/740 [==============================] - 790s 1s/step - loss: 0.9509 - accuracy: 0.6401 - precision: 0.7621 - precision_angry: 0.6913 - precision_disgust: 0.6359 - precision_fear: 0.6283 - precision_happy: 0.8880 - precision_neutral: 0.6947 - precision_sad: 0.6082 - precision_surprise: 0.7965 - recall: 0.5072 - recall_angry: 0.4030 - recall_disgust: 0.2317 - recall_fear: 0.1780 - recall_happy: 0.8412 - recall_neutral: 0.4873 - recall_sad: 0.3061 - recall_surprise: 0.6923 - val_loss: 2.8248 - val_accuracy: 0.4029 - val_precision: 0.4313 - val_precision_angry: 0.3252 - val_precision_disgust: 0.0667 - val_precision_fear: 0.3864 - val_precision_happy: 0.8467 - val_precision_neutral: 0.6848 - val_precision_sad: 0.0000e+00 - val_precision_surprise: 0.2822 - val_recall: 0.3770 - val_recall_angry: 0.6472 - val_recall_disgust: 0.0079 - val_recall_fear: 0.0203 - val_recall_happy: 0.5997 - val_recall_neutral: 0.1871 - val_recall_sad: 0.0000e+00 - val_recall_surprise: 0.9136 - lr: 0.0010\n",
      "Epoch 10/50\n",
      "740/740 [==============================] - ETA: 0s - loss: 0.9036 - accuracy: 0.6612 - precision: 0.7673 - precision_angry: 0.7049 - precision_disgust: 0.7301 - precision_fear: 0.6331 - precision_happy: 0.8934 - precision_neutral: 0.7022 - precision_sad: 0.6295 - precision_surprise: 0.8011 - recall: 0.5390 - recall_angry: 0.4214 - recall_disgust: 0.3267 - recall_fear: 0.2180 - recall_happy: 0.8591 - recall_neutral: 0.5190 - recall_sad: 0.3652 - recall_surprise: 0.7098\n",
      "Epoch 10: val_loss did not improve from 1.62823\n",
      "740/740 [==============================] - 793s 1s/step - loss: 0.9036 - accuracy: 0.6612 - precision: 0.7673 - precision_angry: 0.7049 - precision_disgust: 0.7301 - precision_fear: 0.6331 - precision_happy: 0.8934 - precision_neutral: 0.7022 - precision_sad: 0.6295 - precision_surprise: 0.8011 - recall: 0.5390 - recall_angry: 0.4214 - recall_disgust: 0.3267 - recall_fear: 0.2180 - recall_happy: 0.8591 - recall_neutral: 0.5190 - recall_sad: 0.3652 - recall_surprise: 0.7098 - val_loss: 2.4961 - val_accuracy: 0.3945 - val_precision: 0.4180 - val_precision_angry: 0.2274 - val_precision_disgust: 0.0667 - val_precision_fear: 0.6620 - val_precision_happy: 0.9115 - val_precision_neutral: 0.5772 - val_precision_sad: 0.6667 - val_precision_surprise: 0.6838 - val_recall: 0.3738 - val_recall_angry: 0.8413 - val_recall_disgust: 0.1138 - val_recall_fear: 0.0561 - val_recall_happy: 0.5061 - val_recall_neutral: 0.3808 - val_recall_sad: 0.0041 - val_recall_surprise: 0.4841 - lr: 0.0010\n",
      "Epoch 11/50\n",
      "740/740 [==============================] - ETA: 0s - loss: 0.8527 - accuracy: 0.6807 - precision: 0.7797 - precision_angry: 0.7255 - precision_disgust: 0.7586 - precision_fear: 0.6704 - precision_happy: 0.8993 - precision_neutral: 0.7260 - precision_sad: 0.6427 - precision_surprise: 0.8185 - recall: 0.5722 - recall_angry: 0.4603 - recall_disgust: 0.3929 - recall_fear: 0.2660 - recall_happy: 0.8702 - recall_neutral: 0.5557 - recall_sad: 0.4115 - recall_surprise: 0.7348\n",
      "Epoch 11: val_loss did not improve from 1.62823\n",
      "\n",
      "Epoch 11: ReduceLROnPlateau reducing learning rate to 0.00010000000474974513.\n",
      "740/740 [==============================] - 789s 1s/step - loss: 0.8527 - accuracy: 0.6807 - precision: 0.7797 - precision_angry: 0.7255 - precision_disgust: 0.7586 - precision_fear: 0.6704 - precision_happy: 0.8993 - precision_neutral: 0.7260 - precision_sad: 0.6427 - precision_surprise: 0.8185 - recall: 0.5722 - recall_angry: 0.4603 - recall_disgust: 0.3929 - recall_fear: 0.2660 - recall_happy: 0.8702 - recall_neutral: 0.5557 - recall_sad: 0.4115 - recall_surprise: 0.7348 - val_loss: 1.9209 - val_accuracy: 0.4490 - val_precision: 0.4898 - val_precision_angry: 0.2908 - val_precision_disgust: 0.1724 - val_precision_fear: 0.5893 - val_precision_happy: 0.9415 - val_precision_neutral: 0.4744 - val_precision_sad: 0.4952 - val_precision_surprise: 0.7712 - val_recall: 0.3995 - val_recall_angry: 0.6634 - val_recall_disgust: 0.1984 - val_recall_fear: 0.1181 - val_recall_happy: 0.4177 - val_recall_neutral: 0.6581 - val_recall_sad: 0.0538 - val_recall_surprise: 0.5356 - lr: 0.0010\n",
      "Epoch 12/50\n",
      "740/740 [==============================] - ETA: 0s - loss: 0.6477 - accuracy: 0.7584 - precision: 0.8292 - precision_angry: 0.7937 - precision_disgust: 0.8392 - precision_fear: 0.7599 - precision_happy: 0.9340 - precision_neutral: 0.7892 - precision_sad: 0.7059 - precision_surprise: 0.8778 - recall: 0.6858 - recall_angry: 0.6079 - recall_disgust: 0.5683 - recall_fear: 0.4215 - recall_happy: 0.9186 - recall_neutral: 0.6882 - recall_sad: 0.5445 - recall_surprise: 0.8279\n",
      "Epoch 12: val_loss improved from 1.62823 to 1.10179, saving model to .\\model_mobilenet_v3_base.h5\n",
      "740/740 [==============================] - 791s 1s/step - loss: 0.6477 - accuracy: 0.7584 - precision: 0.8292 - precision_angry: 0.7937 - precision_disgust: 0.8392 - precision_fear: 0.7599 - precision_happy: 0.9340 - precision_neutral: 0.7892 - precision_sad: 0.7059 - precision_surprise: 0.8778 - recall: 0.6858 - recall_angry: 0.6079 - recall_disgust: 0.5683 - recall_fear: 0.4215 - recall_happy: 0.9186 - recall_neutral: 0.6882 - recall_sad: 0.5445 - recall_surprise: 0.8279 - val_loss: 1.1018 - val_accuracy: 0.6262 - val_precision: 0.6940 - val_precision_angry: 0.5741 - val_precision_disgust: 0.9062 - val_precision_fear: 0.6203 - val_precision_happy: 0.8550 - val_precision_neutral: 0.6119 - val_precision_sad: 0.5486 - val_precision_surprise: 0.7670 - val_recall: 0.5617 - val_recall_angry: 0.5293 - val_recall_disgust: 0.2302 - val_recall_fear: 0.2557 - val_recall_happy: 0.8288 - val_recall_neutral: 0.5792 - val_recall_sad: 0.3444 - val_recall_surprise: 0.7508 - lr: 1.0000e-04\n",
      "Epoch 13/50\n",
      "740/740 [==============================] - ETA: 0s - loss: 0.5736 - accuracy: 0.7895 - precision: 0.8418 - precision_angry: 0.8026 - precision_disgust: 0.8630 - precision_fear: 0.7778 - precision_happy: 0.9424 - precision_neutral: 0.8188 - precision_sad: 0.7174 - precision_surprise: 0.8998 - recall: 0.7361 - recall_angry: 0.6663 - recall_disgust: 0.6627 - recall_fear: 0.4915 - recall_happy: 0.9407 - recall_neutral: 0.7389 - recall_sad: 0.6202 - recall_surprise: 0.8598\n",
      "Epoch 13: val_loss did not improve from 1.10179\n",
      "740/740 [==============================] - 796s 1s/step - loss: 0.5736 - accuracy: 0.7895 - precision: 0.8418 - precision_angry: 0.8026 - precision_disgust: 0.8630 - precision_fear: 0.7778 - precision_happy: 0.9424 - precision_neutral: 0.8188 - precision_sad: 0.7174 - precision_surprise: 0.8998 - recall: 0.7361 - recall_angry: 0.6663 - recall_disgust: 0.6627 - recall_fear: 0.4915 - recall_happy: 0.9407 - recall_neutral: 0.7389 - recall_sad: 0.6202 - recall_surprise: 0.8598 - val_loss: 1.1337 - val_accuracy: 0.6236 - val_precision: 0.6841 - val_precision_angry: 0.5772 - val_precision_disgust: 0.8667 - val_precision_fear: 0.5378 - val_precision_happy: 0.8547 - val_precision_neutral: 0.6343 - val_precision_sad: 0.5311 - val_precision_surprise: 0.7866 - val_recall: 0.5608 - val_recall_angry: 0.5244 - val_recall_disgust: 0.2080 - val_recall_fear: 0.3051 - val_recall_happy: 0.8161 - val_recall_neutral: 0.4980 - val_recall_sad: 0.4227 - val_recall_surprise: 0.7307 - lr: 1.0000e-04\n",
      "Epoch 14/50\n",
      "740/740 [==============================] - ETA: 0s - loss: 0.5142 - accuracy: 0.8107 - precision: 0.8566 - precision_angry: 0.8294 - precision_disgust: 0.8675 - precision_fear: 0.7935 - precision_happy: 0.9559 - precision_neutral: 0.8356 - precision_sad: 0.7376 - precision_surprise: 0.9065 - recall: 0.7643 - recall_angry: 0.7109 - recall_disgust: 0.7129 - recall_fear: 0.5398 - recall_happy: 0.9468 - recall_neutral: 0.7690 - recall_sad: 0.6555 - recall_surprise: 0.8730\n",
      "Epoch 14: val_loss did not improve from 1.10179\n",
      "740/740 [==============================] - 792s 1s/step - loss: 0.5142 - accuracy: 0.8107 - precision: 0.8566 - precision_angry: 0.8294 - precision_disgust: 0.8675 - precision_fear: 0.7935 - precision_happy: 0.9559 - precision_neutral: 0.8356 - precision_sad: 0.7376 - precision_surprise: 0.9065 - recall: 0.7643 - recall_angry: 0.7109 - recall_disgust: 0.7129 - recall_fear: 0.5398 - recall_happy: 0.9468 - recall_neutral: 0.7690 - recall_sad: 0.6555 - recall_surprise: 0.8730 - val_loss: 1.1787 - val_accuracy: 0.6196 - val_precision: 0.6713 - val_precision_angry: 0.6734 - val_precision_disgust: 0.8140 - val_precision_fear: 0.4992 - val_precision_happy: 0.8617 - val_precision_neutral: 0.6266 - val_precision_sad: 0.4783 - val_precision_surprise: 0.7901 - val_recall: 0.5635 - val_recall_angry: 0.3680 - val_recall_disgust: 0.2778 - val_recall_fear: 0.3488 - val_recall_happy: 0.8080 - val_recall_neutral: 0.5296 - val_recall_sad: 0.5119 - val_recall_surprise: 0.7221 - lr: 1.0000e-04\n",
      "Epoch 15/50\n",
      "740/740 [==============================] - ETA: 0s - loss: 0.4724 - accuracy: 0.8265 - precision: 0.8669 - precision_angry: 0.8415 - precision_disgust: 0.8837 - precision_fear: 0.8162 - precision_happy: 0.9569 - precision_neutral: 0.8513 - precision_sad: 0.7517 - precision_surprise: 0.9181 - recall: 0.7876 - recall_angry: 0.7293 - recall_disgust: 0.7525 - recall_fear: 0.5780 - recall_happy: 0.9512 - recall_neutral: 0.7996 - recall_sad: 0.6919 - recall_surprise: 0.8925\n",
      "Epoch 15: val_loss did not improve from 1.10179\n",
      "740/740 [==============================] - 790s 1s/step - loss: 0.4724 - accuracy: 0.8265 - precision: 0.8669 - precision_angry: 0.8415 - precision_disgust: 0.8837 - precision_fear: 0.8162 - precision_happy: 0.9569 - precision_neutral: 0.8513 - precision_sad: 0.7517 - precision_surprise: 0.9181 - recall: 0.7876 - recall_angry: 0.7293 - recall_disgust: 0.7525 - recall_fear: 0.5780 - recall_happy: 0.9512 - recall_neutral: 0.7996 - recall_sad: 0.6919 - recall_surprise: 0.8925 - val_loss: 1.2819 - val_accuracy: 0.6036 - val_precision: 0.6450 - val_precision_angry: 0.6461 - val_precision_disgust: 0.8387 - val_precision_fear: 0.4433 - val_precision_happy: 0.8488 - val_precision_neutral: 0.6562 - val_precision_sad: 0.4502 - val_precision_surprise: 0.8196 - val_recall: 0.5603 - val_recall_angry: 0.3834 - val_recall_disgust: 0.2080 - val_recall_fear: 0.3986 - val_recall_happy: 0.8209 - val_recall_neutral: 0.4338 - val_recall_sad: 0.5762 - val_recall_surprise: 0.6460 - lr: 1.0000e-04\n",
      "Epoch 16/50\n",
      "740/740 [==============================] - ETA: 0s - loss: 0.4311 - accuracy: 0.8408 - precision: 0.8740 - precision_angry: 0.8535 - precision_disgust: 0.9014 - precision_fear: 0.8173 - precision_happy: 0.9624 - precision_neutral: 0.8645 - precision_sad: 0.7612 - precision_surprise: 0.9218 - recall: 0.8095 - recall_angry: 0.7698 - recall_disgust: 0.7813 - recall_fear: 0.6061 - recall_happy: 0.9573 - recall_neutral: 0.8220 - recall_sad: 0.7207 - recall_surprise: 0.9065\n",
      "Epoch 16: val_loss did not improve from 1.10179\n",
      "740/740 [==============================] - 803s 1s/step - loss: 0.4311 - accuracy: 0.8408 - precision: 0.8740 - precision_angry: 0.8535 - precision_disgust: 0.9014 - precision_fear: 0.8173 - precision_happy: 0.9624 - precision_neutral: 0.8645 - precision_sad: 0.7612 - precision_surprise: 0.9218 - recall: 0.8095 - recall_angry: 0.7698 - recall_disgust: 0.7813 - recall_fear: 0.6061 - recall_happy: 0.9573 - recall_neutral: 0.8220 - recall_sad: 0.7207 - recall_surprise: 0.9065 - val_loss: 1.3501 - val_accuracy: 0.6050 - val_precision: 0.6447 - val_precision_angry: 0.6733 - val_precision_disgust: 0.8409 - val_precision_fear: 0.4906 - val_precision_happy: 0.8323 - val_precision_neutral: 0.6167 - val_precision_sad: 0.4365 - val_precision_surprise: 0.7962 - val_recall: 0.5740 - val_recall_angry: 0.3729 - val_recall_disgust: 0.2960 - val_recall_fear: 0.3726 - val_recall_happy: 0.8363 - val_recall_neutral: 0.4758 - val_recall_sad: 0.5760 - val_recall_surprise: 0.6974 - lr: 1.0000e-04\n",
      "Epoch 17/50\n",
      "740/740 [==============================] - ETA: 0s - loss: 0.3937 - accuracy: 0.8567 - precision: 0.8849 - precision_angry: 0.8699 - precision_disgust: 0.8947 - precision_fear: 0.8349 - precision_happy: 0.9633 - precision_neutral: 0.8803 - precision_sad: 0.7807 - precision_surprise: 0.9313 - recall: 0.8281 - recall_angry: 0.7896 - recall_disgust: 0.8079 - recall_fear: 0.6497 - recall_happy: 0.9615 - recall_neutral: 0.8391 - recall_sad: 0.7519 - recall_surprise: 0.9057\n",
      "Epoch 17: val_loss did not improve from 1.10179\n",
      "\n",
      "Epoch 17: ReduceLROnPlateau reducing learning rate to 1.0000000474974514e-05.\n",
      "740/740 [==============================] - 802s 1s/step - loss: 0.3937 - accuracy: 0.8567 - precision: 0.8849 - precision_angry: 0.8699 - precision_disgust: 0.8947 - precision_fear: 0.8349 - precision_happy: 0.9633 - precision_neutral: 0.8803 - precision_sad: 0.7807 - precision_surprise: 0.9313 - recall: 0.8281 - recall_angry: 0.7896 - recall_disgust: 0.8079 - recall_fear: 0.6497 - recall_happy: 0.9615 - recall_neutral: 0.8391 - recall_sad: 0.7519 - recall_surprise: 0.9057 - val_loss: 1.3881 - val_accuracy: 0.6104 - val_precision: 0.6474 - val_precision_angry: 0.5984 - val_precision_disgust: 0.8571 - val_precision_fear: 0.4469 - val_precision_happy: 0.8513 - val_precision_neutral: 0.6172 - val_precision_sad: 0.4798 - val_precision_surprise: 0.7634 - val_recall: 0.5791 - val_recall_angry: 0.4482 - val_recall_disgust: 0.2857 - val_recall_fear: 0.4012 - val_recall_happy: 0.8263 - val_recall_neutral: 0.4980 - val_recall_sad: 0.4877 - val_recall_surprise: 0.7367 - lr: 1.0000e-04\n",
      "Epoch 18/50\n",
      "740/740 [==============================] - ETA: 0s - loss: 0.3302 - accuracy: 0.8821 - precision: 0.9073 - precision_angry: 0.9016 - precision_disgust: 0.9325 - precision_fear: 0.8774 - precision_happy: 0.9721 - precision_neutral: 0.9070 - precision_sad: 0.8009 - precision_surprise: 0.9531 - recall: 0.8570 - recall_angry: 0.8328 - recall_disgust: 0.8475 - recall_fear: 0.6879 - recall_happy: 0.9704 - recall_neutral: 0.8661 - recall_sad: 0.7970 - recall_surprise: 0.9262\n",
      "Epoch 18: val_loss did not improve from 1.10179\n",
      "740/740 [==============================] - 792s 1s/step - loss: 0.3302 - accuracy: 0.8821 - precision: 0.9073 - precision_angry: 0.9016 - precision_disgust: 0.9325 - precision_fear: 0.8774 - precision_happy: 0.9721 - precision_neutral: 0.9070 - precision_sad: 0.8009 - precision_surprise: 0.9531 - recall: 0.8570 - recall_angry: 0.8328 - recall_disgust: 0.8475 - recall_fear: 0.6879 - recall_happy: 0.9704 - recall_neutral: 0.8661 - recall_sad: 0.7970 - recall_surprise: 0.9262 - val_loss: 1.4176 - val_accuracy: 0.6155 - val_precision: 0.6479 - val_precision_angry: 0.6052 - val_precision_disgust: 0.8039 - val_precision_fear: 0.4649 - val_precision_happy: 0.8429 - val_precision_neutral: 0.6180 - val_precision_sad: 0.4687 - val_precision_surprise: 0.7840 - val_recall: 0.5878 - val_recall_angry: 0.4254 - val_recall_disgust: 0.3254 - val_recall_fear: 0.3955 - val_recall_happy: 0.8308 - val_recall_neutral: 0.5361 - val_recall_sad: 0.5186 - val_recall_surprise: 0.7236 - lr: 1.0000e-05\n",
      "Epoch 19/50\n",
      "740/740 [==============================] - ETA: 0s - loss: 0.3178 - accuracy: 0.8865 - precision: 0.9109 - precision_angry: 0.8980 - precision_disgust: 0.9446 - precision_fear: 0.8807 - precision_happy: 0.9741 - precision_neutral: 0.9131 - precision_sad: 0.8139 - precision_surprise: 0.9486 - recall: 0.8655 - recall_angry: 0.8394 - recall_disgust: 0.8452 - recall_fear: 0.6987 - recall_happy: 0.9731 - recall_neutral: 0.8839 - recall_sad: 0.8064 - recall_surprise: 0.9335\n",
      "Epoch 19: val_loss did not improve from 1.10179\n",
      "740/740 [==============================] - 793s 1s/step - loss: 0.3178 - accuracy: 0.8865 - precision: 0.9109 - precision_angry: 0.8980 - precision_disgust: 0.9446 - precision_fear: 0.8807 - precision_happy: 0.9741 - precision_neutral: 0.9131 - precision_sad: 0.8139 - precision_surprise: 0.9486 - recall: 0.8655 - recall_angry: 0.8394 - recall_disgust: 0.8452 - recall_fear: 0.6987 - recall_happy: 0.9731 - recall_neutral: 0.8839 - recall_sad: 0.8064 - recall_surprise: 0.9335 - val_loss: 1.4490 - val_accuracy: 0.6165 - val_precision: 0.6473 - val_precision_angry: 0.5921 - val_precision_disgust: 0.7541 - val_precision_fear: 0.4799 - val_precision_happy: 0.8446 - val_precision_neutral: 0.6050 - val_precision_sad: 0.4675 - val_precision_surprise: 0.7920 - val_recall: 0.5909 - val_recall_angry: 0.4554 - val_recall_disgust: 0.3651 - val_recall_fear: 0.3833 - val_recall_happy: 0.8284 - val_recall_neutral: 0.5481 - val_recall_sad: 0.5118 - val_recall_surprise: 0.7212 - lr: 1.0000e-05\n",
      "Epoch 20/50\n",
      "740/740 [==============================] - ETA: 0s - loss: 0.3157 - accuracy: 0.8884 - precision: 0.9098 - precision_angry: 0.8971 - precision_disgust: 0.9306 - precision_fear: 0.8755 - precision_happy: 0.9746 - precision_neutral: 0.9087 - precision_sad: 0.8148 - precision_surprise: 0.9540 - recall: 0.8673 - recall_angry: 0.8426 - recall_disgust: 0.8495 - recall_fear: 0.7109 - recall_happy: 0.9702 - recall_neutral: 0.8791 - recall_sad: 0.8087 - recall_surprise: 0.9396\n",
      "Epoch 20: val_loss did not improve from 1.10179\n",
      "740/740 [==============================] - 797s 1s/step - loss: 0.3157 - accuracy: 0.8884 - precision: 0.9098 - precision_angry: 0.8971 - precision_disgust: 0.9306 - precision_fear: 0.8755 - precision_happy: 0.9746 - precision_neutral: 0.9087 - precision_sad: 0.8148 - precision_surprise: 0.9540 - recall: 0.8673 - recall_angry: 0.8426 - recall_disgust: 0.8495 - recall_fear: 0.7109 - recall_happy: 0.9702 - recall_neutral: 0.8791 - recall_sad: 0.8087 - recall_surprise: 0.9396 - val_loss: 1.4809 - val_accuracy: 0.6168 - val_precision: 0.6468 - val_precision_angry: 0.5839 - val_precision_disgust: 0.7460 - val_precision_fear: 0.4893 - val_precision_happy: 0.8433 - val_precision_neutral: 0.5918 - val_precision_sad: 0.4741 - val_precision_surprise: 0.7851 - val_recall: 0.5943 - val_recall_angry: 0.4597 - val_recall_disgust: 0.3730 - val_recall_fear: 0.3807 - val_recall_happy: 0.8295 - val_recall_neutral: 0.5560 - val_recall_sad: 0.5093 - val_recall_surprise: 0.7352 - lr: 1.0000e-05\n",
      "Epoch 21/50\n",
      "740/740 [==============================] - ETA: 0s - loss: 0.3102 - accuracy: 0.8912 - precision: 0.9113 - precision_angry: 0.9010 - precision_disgust: 0.9252 - precision_fear: 0.8763 - precision_happy: 0.9741 - precision_neutral: 0.9127 - precision_sad: 0.8154 - precision_surprise: 0.9562 - recall: 0.8694 - recall_angry: 0.8411 - recall_disgust: 0.8574 - recall_fear: 0.7107 - recall_happy: 0.9736 - recall_neutral: 0.8880 - recall_sad: 0.8089 - recall_surprise: 0.9374\n",
      "Epoch 21: val_loss did not improve from 1.10179\n",
      "740/740 [==============================] - 795s 1s/step - loss: 0.3102 - accuracy: 0.8912 - precision: 0.9113 - precision_angry: 0.9010 - precision_disgust: 0.9252 - precision_fear: 0.8763 - precision_happy: 0.9741 - precision_neutral: 0.9127 - precision_sad: 0.8154 - precision_surprise: 0.9562 - recall: 0.8694 - recall_angry: 0.8411 - recall_disgust: 0.8574 - recall_fear: 0.7107 - recall_happy: 0.9736 - recall_neutral: 0.8880 - recall_sad: 0.8089 - recall_surprise: 0.9374 - val_loss: 1.4985 - val_accuracy: 0.6177 - val_precision: 0.6460 - val_precision_angry: 0.5845 - val_precision_disgust: 0.7344 - val_precision_fear: 0.4923 - val_precision_happy: 0.8388 - val_precision_neutral: 0.5866 - val_precision_sad: 0.4750 - val_precision_surprise: 0.7790 - val_recall: 0.5948 - val_recall_angry: 0.4609 - val_recall_disgust: 0.3730 - val_recall_fear: 0.3808 - val_recall_happy: 0.8342 - val_recall_neutral: 0.5570 - val_recall_sad: 0.4995 - val_recall_surprise: 0.7391 - lr: 1.0000e-05\n",
      "Epoch 22/50\n",
      "740/740 [==============================] - ETA: 0s - loss: 0.3008 - accuracy: 0.8925 - precision: 0.9113 - precision_angry: 0.9080 - precision_disgust: 0.9419 - precision_fear: 0.8824 - precision_happy: 0.9735 - precision_neutral: 0.9055 - precision_sad: 0.8116 - precision_surprise: 0.9575 - recall: 0.8730 - recall_angry: 0.8537 - recall_disgust: 0.8673 - recall_fear: 0.7146 - recall_happy: 0.9738 - recall_neutral: 0.8872 - recall_sad: 0.8126 - recall_surprise: 0.9423Restoring model weights from the end of the best epoch: 12.\n",
      "\n",
      "Epoch 22: val_loss did not improve from 1.10179\n",
      "\n",
      "Epoch 22: ReduceLROnPlateau reducing learning rate to 1e-05.\n",
      "740/740 [==============================] - 791s 1s/step - loss: 0.3008 - accuracy: 0.8925 - precision: 0.9113 - precision_angry: 0.9080 - precision_disgust: 0.9419 - precision_fear: 0.8824 - precision_happy: 0.9735 - precision_neutral: 0.9055 - precision_sad: 0.8116 - precision_surprise: 0.9575 - recall: 0.8730 - recall_angry: 0.8537 - recall_disgust: 0.8673 - recall_fear: 0.7146 - recall_happy: 0.9738 - recall_neutral: 0.8872 - recall_sad: 0.8126 - recall_surprise: 0.9423 - val_loss: 1.5248 - val_accuracy: 0.6175 - val_precision: 0.6439 - val_precision_angry: 0.5704 - val_precision_disgust: 0.7385 - val_precision_fear: 0.4864 - val_precision_happy: 0.8441 - val_precision_neutral: 0.6009 - val_precision_sad: 0.4680 - val_precision_surprise: 0.7913 - val_recall: 0.5954 - val_recall_angry: 0.4859 - val_recall_disgust: 0.3871 - val_recall_fear: 0.3842 - val_recall_happy: 0.8286 - val_recall_neutral: 0.5480 - val_recall_sad: 0.5123 - val_recall_surprise: 0.7160 - lr: 1.0000e-05\n",
      "Epoch 22: early stopping\n"
     ]
    }
   ],
   "source": [
    "history = model.fit(\n",
    "    train_generator,\n",
    "    steps_per_epoch=train_generator.n//train_generator.batch_size,\n",
    "    epochs=epochs,\n",
    "    validation_data=validation_generator,\n",
    "    validation_steps=validation_generator.n//validation_generator.batch_size,\n",
    "    callbacks=callbacks_list,\n",
    ")"
   ],
   "metadata": {
    "collapsed": false,
    "pycharm": {
     "name": "#%%\n"
    }
   }
  },
  {
   "cell_type": "markdown",
   "source": [
    "### 7. Evaluation - Test set"
   ],
   "metadata": {
    "collapsed": false,
    "pycharm": {
     "name": "#%% md\n"
    }
   }
  },
  {
   "cell_type": "code",
   "execution_count": 4,
   "outputs": [],
   "source": [
    "from keras.models import load_model\n",
    "\n",
    "model = load_model(\"model_mobilenet_v3_base.h5\")"
   ],
   "metadata": {
    "collapsed": false,
    "pycharm": {
     "name": "#%%\n"
    }
   }
  },
  {
   "cell_type": "code",
   "execution_count": 5,
   "outputs": [
    {
     "name": "stdout",
     "output_type": "stream",
     "text": [
      "Found 7178 images belonging to 7 classes.\n"
     ]
    }
   ],
   "source": [
    "test_data_generator = ImageDataGenerator(preprocessing_function=preprocess_input)\n",
    "\n",
    "test_generator = test_data_generator.flow_from_directory(\n",
    "    DATASET_BASE_TEST_PATH,\n",
    "    target_size=(224, 224),\n",
    "    batch_size=32,\n",
    "    class_mode='categorical',\n",
    "    shuffle=False\n",
    ")"
   ],
   "metadata": {
    "collapsed": false,
    "pycharm": {
     "name": "#%%\n"
    }
   }
  },
  {
   "cell_type": "code",
   "execution_count": 6,
   "outputs": [
    {
     "name": "stdout",
     "output_type": "stream",
     "text": [
      "225/225 [==============================] - 104s 447ms/step - loss: 1.1270 - accuracy: 0.6186 - precision: 0.6833 - precision_angry: 0.5629 - precision_disgust: 0.8846 - precision_fear: 0.5562 - precision_happy: 0.8589 - precision_neutral: 0.5876 - precision_sad: 0.5651 - precision_surprise: 0.7659 - recall: 0.5566 - recall_angry: 0.5324 - recall_disgust: 0.2072 - recall_fear: 0.2656 - recall_happy: 0.8269 - recall_neutral: 0.5466 - recall_sad: 0.3480 - recall_surprise: 0.7401\n"
     ]
    },
    {
     "data": {
      "text/plain": "[1.1270073652267456,\n 0.6185566782951355,\n 0.6832563877105713,\n 0.5629138946533203,\n 0.8846153616905212,\n 0.5562372207641602,\n 0.8588992953300476,\n 0.5876199007034302,\n 0.5651041865348816,\n 0.7658779621124268,\n 0.5565617084503174,\n 0.5323590636253357,\n 0.20720720291137695,\n 0.265625,\n 0.8269447684288025,\n 0.5466341972351074,\n 0.3480352759361267,\n 0.7400721907615662]"
     },
     "execution_count": 6,
     "metadata": {},
     "output_type": "execute_result"
    }
   ],
   "source": [
    "model.evaluate(test_generator)"
   ],
   "metadata": {
    "collapsed": false,
    "pycharm": {
     "name": "#%%\n"
    }
   }
  }
 ],
 "metadata": {
  "kernelspec": {
   "display_name": "Python 3",
   "language": "python",
   "name": "python3"
  },
  "language_info": {
   "codemirror_mode": {
    "name": "ipython",
    "version": 2
   },
   "file_extension": ".py",
   "mimetype": "text/x-python",
   "name": "python",
   "nbconvert_exporter": "python",
   "pygments_lexer": "ipython2",
   "version": "2.7.6"
  }
 },
 "nbformat": 4,
 "nbformat_minor": 0
}