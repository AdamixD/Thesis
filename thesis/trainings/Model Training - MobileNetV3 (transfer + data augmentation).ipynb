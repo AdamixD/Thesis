{
 "cells": [
  {
   "cell_type": "markdown",
   "source": [
    "# Model Training - MobileNetV3 (transfer + data augmentation)"
   ],
   "metadata": {
    "collapsed": false,
    "pycharm": {
     "name": "#%% md\n"
    }
   }
  },
  {
   "cell_type": "markdown",
   "source": [
    "### 0. Imports"
   ],
   "metadata": {
    "collapsed": false,
    "pycharm": {
     "name": "#%% md\n"
    }
   }
  },
  {
   "cell_type": "code",
   "execution_count": 1,
   "outputs": [],
   "source": [
    "import matplotlib.pyplot as plt\n",
    "import tensorflow as tf\n",
    "\n",
    "from keras.applications import MobileNetV3Large\n",
    "from keras.applications.mobilenet_v3 import preprocess_input\n",
    "from keras.callbacks import (\n",
    "    ModelCheckpoint,\n",
    "    EarlyStopping,\n",
    "    ReduceLROnPlateau\n",
    ")\n",
    "from keras.models import Sequential\n",
    "from keras.layers import Dense, GlobalAveragePooling2D\n",
    "from keras.metrics import Precision, Recall\n",
    "from keras.optimizers import Adam\n",
    "from keras.preprocessing.image import ImageDataGenerator\n",
    "from keras.utils.vis_utils import plot_model"
   ],
   "metadata": {
    "collapsed": false,
    "ExecuteTime": {
     "start_time": "2023-06-08T14:04:36.621338Z",
     "end_time": "2023-06-08T14:04:39.977428Z"
    },
    "pycharm": {
     "name": "#%%\n"
    }
   }
  },
  {
   "cell_type": "markdown",
   "source": [
    "### 1. Paths"
   ],
   "metadata": {
    "collapsed": false,
    "pycharm": {
     "name": "#%% md\n"
    }
   }
  },
  {
   "cell_type": "code",
   "execution_count": 2,
   "outputs": [],
   "source": [
    "# DATASET_BASE_TRAIN_PATH = \"/Users/adamdabkowski/DataspellProjects/Praca_dyplomowa/data/train_resized\"\n",
    "# DATASET_BASE_TRAIN_PATH = \"/Users/adamd/DataspellProjects/Facial Expressions Recognition/data/train_resized\"\n",
    "# DATASET_BASE_TRAIN_PATH = \"/Users/adamd/DataspellProjects/Facial Expressions Recognition/data/train_merged\"\n",
    "DATASET_BASE_TRAIN_PATH = \"/Users/adamd/DataspellProjects/Facial Expressions Recognition/data/train_merged_cleaned\"\n",
    "\n",
    "# DATASET_BASE_TRAIN_PATH = \"../new_data\"\n",
    "\n",
    "# DATASET_BASE_TEST_PATH = \"/Users/adamdabkowski/DataspellProjects/Praca_dyplomowa/data/test_resized\"\n",
    "DATASET_BASE_TEST_PATH = \"/Users/adamd/DataspellProjects/Facial Expressions Recognition/data/test_resized\""
   ],
   "metadata": {
    "collapsed": false,
    "ExecuteTime": {
     "start_time": "2023-06-08T14:06:08.298593Z",
     "end_time": "2023-06-08T14:06:08.305288Z"
    },
    "pycharm": {
     "name": "#%%\n"
    }
   }
  },
  {
   "cell_type": "markdown",
   "source": [
    "### 2. Data preprocessing"
   ],
   "metadata": {
    "collapsed": false,
    "pycharm": {
     "name": "#%% md\n"
    }
   }
  },
  {
   "cell_type": "code",
   "execution_count": 3,
   "outputs": [
    {
     "name": "stdout",
     "output_type": "stream",
     "text": [
      "Found 23689 images belonging to 7 classes.\n",
      "Found 5919 images belonging to 7 classes.\n"
     ]
    }
   ],
   "source": [
    "batch_size  = 32\n",
    "img_size = 224\n",
    "\n",
    "train_validation_data_generator = ImageDataGenerator(\n",
    "    preprocessing_function=preprocess_input,\n",
    "    validation_split=0.2,\n",
    "    rotation_range=40,\n",
    "    width_shift_range=0.2,\n",
    "    height_shift_range=0.2,\n",
    "    shear_range=0.2,\n",
    "    zoom_range=0.2,\n",
    "    horizontal_flip=True,\n",
    "    fill_mode='nearest'\n",
    ")\n",
    "\n",
    "train_generator = train_validation_data_generator.flow_from_directory(\n",
    "    DATASET_BASE_TRAIN_PATH,\n",
    "    target_size=(img_size,img_size),\n",
    "    batch_size=batch_size,\n",
    "    class_mode='categorical',\n",
    "    color_mode='rgb',\n",
    "    subset='training',\n",
    "    shuffle=True,\n",
    ")\n",
    "\n",
    "validation_generator = train_validation_data_generator.flow_from_directory(\n",
    "    DATASET_BASE_TRAIN_PATH,\n",
    "    target_size=(img_size,img_size),\n",
    "    batch_size=batch_size,\n",
    "    class_mode='categorical',\n",
    "    color_mode='rgb',\n",
    "    subset='validation',\n",
    "    shuffle=True,\n",
    ")"
   ],
   "metadata": {
    "collapsed": false,
    "ExecuteTime": {
     "start_time": "2023-06-08T14:06:12.829138Z",
     "end_time": "2023-06-08T14:06:13.009438Z"
    },
    "pycharm": {
     "name": "#%%\n"
    }
   }
  },
  {
   "cell_type": "markdown",
   "source": [
    "### 5. Model creating"
   ],
   "metadata": {
    "collapsed": false,
    "pycharm": {
     "name": "#%% md\n"
    }
   }
  },
  {
   "cell_type": "code",
   "execution_count": 4,
   "outputs": [],
   "source": [
    "CATEGORIES = [\"angry\", \"disgust\", \"fear\", \"happy\", \"neutral\", \"sad\", \"surprise\"]"
   ],
   "metadata": {
    "collapsed": false,
    "ExecuteTime": {
     "start_time": "2023-06-08T14:06:21.358802Z",
     "end_time": "2023-06-08T14:06:21.367405Z"
    },
    "pycharm": {
     "name": "#%%\n"
    }
   }
  },
  {
   "cell_type": "code",
   "execution_count": 5,
   "outputs": [],
   "source": [
    "checkpoint = ModelCheckpoint(\n",
    "    filepath=\"./model_mobilenet_v3_transfer_data_augmentation.h5\",\n",
    "    monitor='val_loss',\n",
    "    verbose=1,\n",
    "    save_best_only=True,\n",
    "    mode='min'\n",
    ")\n",
    "\n",
    "early_stopping = EarlyStopping(\n",
    "    monitor='val_loss',\n",
    "    patience=10,\n",
    "    verbose=1,\n",
    "    restore_best_weights=True,\n",
    ")\n",
    "\n",
    "reduce_learning_rate = ReduceLROnPlateau(\n",
    "    monitor='val_loss',\n",
    "    factor=0.1,\n",
    "    patience=5,\n",
    "    verbose=1,\n",
    "    min_lr=0.00001,\n",
    ")\n",
    "\n",
    "callbacks_list = [early_stopping, checkpoint, reduce_learning_rate]"
   ],
   "metadata": {
    "collapsed": false,
    "ExecuteTime": {
     "start_time": "2023-06-08T14:06:22.501933Z",
     "end_time": "2023-06-08T14:06:22.506101Z"
    },
    "pycharm": {
     "name": "#%%\n"
    }
   }
  },
  {
   "cell_type": "code",
   "execution_count": 6,
   "outputs": [],
   "source": [
    "model = Sequential()\n",
    "\n",
    "base_model = MobileNetV3Large(input_shape=(img_size, img_size, 3), include_top=False, weights='imagenet')\n",
    "model.add(base_model)\n",
    "\n",
    "model.add(GlobalAveragePooling2D())\n",
    "model.add(Dense(512, activation='relu'))\n",
    "model.add(Dense(7, activation='softmax'))"
   ],
   "metadata": {
    "collapsed": false,
    "ExecuteTime": {
     "start_time": "2023-06-08T14:06:33.844245Z",
     "end_time": "2023-06-08T14:06:34.087495Z"
    },
    "pycharm": {
     "name": "#%%\n"
    }
   }
  },
  {
   "cell_type": "code",
   "execution_count": 7,
   "outputs": [
    {
     "name": "stdout",
     "output_type": "stream",
     "text": [
      "Model: \"sequential\"\n",
      "_________________________________________________________________\n",
      " Layer (type)                Output Shape              Param #   \n",
      "=================================================================\n",
      " MobilenetV3large (Functiona  (None, 7, 7, 960)        2996352   \n",
      " l)                                                              \n",
      "                                                                 \n",
      " global_average_pooling2d (G  (None, 960)              0         \n",
      " lobalAveragePooling2D)                                          \n",
      "                                                                 \n",
      " dense (Dense)               (None, 512)               492032    \n",
      "                                                                 \n",
      " dense_1 (Dense)             (None, 7)                 3591      \n",
      "                                                                 \n",
      "=================================================================\n",
      "Total params: 3,491,975\n",
      "Trainable params: 3,467,575\n",
      "Non-trainable params: 24,400\n",
      "_________________________________________________________________\n"
     ]
    }
   ],
   "source": [
    "model.compile(\n",
    "    optimizer=Adam(learning_rate=0.001),\n",
    "    loss='categorical_crossentropy',\n",
    "    metrics=[\n",
    "        'accuracy',\n",
    "        Precision(name='precision'),\n",
    "        Precision(class_id=0, name='precision_angry'),\n",
    "        Precision(class_id=1, name='precision_disgust'),\n",
    "        Precision(class_id=2, name='precision_fear'),\n",
    "        Precision(class_id=3, name='precision_happy'),\n",
    "        Precision(class_id=4, name='precision_neutral'),\n",
    "        Precision(class_id=5, name='precision_sad'),\n",
    "        Precision(class_id=6, name='precision_surprise'),\n",
    "        Recall(name='recall'),\n",
    "        Recall(class_id=0, name='recall_angry'),\n",
    "        Recall(class_id=1, name='recall_disgust'),\n",
    "        Recall(class_id=2, name='recall_fear'),\n",
    "        Recall(class_id=3, name='recall_happy'),\n",
    "        Recall(class_id=4, name='recall_neutral'),\n",
    "        Recall(class_id=5, name='recall_sad'),\n",
    "        Recall(class_id=6, name='recall_surprise'),\n",
    "    ]\n",
    ")\n",
    "model.summary()"
   ],
   "metadata": {
    "collapsed": false,
    "ExecuteTime": {
     "start_time": "2023-06-08T14:08:05.068394Z",
     "end_time": "2023-06-08T14:08:05.102749Z"
    },
    "pycharm": {
     "name": "#%%\n"
    }
   }
  },
  {
   "cell_type": "code",
   "execution_count": 8,
   "outputs": [
    {
     "data": {
      "image/png": "[encoded data removed]",
      "text/plain": "<IPython.core.display.Image object>"
     },
     "execution_count": 8,
     "metadata": {},
     "output_type": "execute_result"
    }
   ],
   "source": [
    "plot_model(model, to_file='model_mobilenet_v3_transfer_data_augmentation.png', show_shapes=True, show_layer_names=True)"
   ],
   "metadata": {
    "collapsed": false,
    "pycharm": {
     "name": "#%%\n"
    }
   }
  },
  {
   "cell_type": "markdown",
   "source": [
    "### 6. Model training"
   ],
   "metadata": {
    "collapsed": false,
    "pycharm": {
     "name": "#%% md\n"
    }
   }
  },
  {
   "cell_type": "code",
   "execution_count": 9,
   "outputs": [],
   "source": [
    "epochs = 50"
   ],
   "metadata": {
    "collapsed": false,
    "ExecuteTime": {
     "start_time": "2023-06-08T14:08:06.121000Z",
     "end_time": "2023-06-08T14:08:06.134021Z"
    },
    "pycharm": {
     "name": "#%%\n"
    }
   }
  },
  {
   "cell_type": "code",
   "execution_count": 10,
   "outputs": [
    {
     "name": "stdout",
     "output_type": "stream",
     "text": [
      "Epoch 1/50\n",
      "740/740 [==============================] - ETA: 0s - loss: 1.3225 - accuracy: 0.4969 - precision: 0.7084 - precision_angry: 0.6147 - precision_disgust: 0.3889 - precision_fear: 0.4771 - precision_happy: 0.8108 - precision_neutral: 0.5889 - precision_sad: 0.4903 - precision_surprise: 0.6965 - recall: 0.2808 - recall_angry: 0.1245 - recall_disgust: 0.0277 - recall_fear: 0.0309 - recall_happy: 0.6355 - recall_neutral: 0.2063 - recall_sad: 0.0906 - recall_surprise: 0.4483\n",
      "Epoch 1: val_loss improved from inf to 15.20419, saving model to .\\model_mobilenet_v3_transfer_data_augmentation.h5\n",
      "740/740 [==============================] - 1160s 2s/step - loss: 1.3225 - accuracy: 0.4969 - precision: 0.7084 - precision_angry: 0.6147 - precision_disgust: 0.3889 - precision_fear: 0.4771 - precision_happy: 0.8108 - precision_neutral: 0.5889 - precision_sad: 0.4903 - precision_surprise: 0.6965 - recall: 0.2808 - recall_angry: 0.1245 - recall_disgust: 0.0277 - recall_fear: 0.0309 - recall_happy: 0.6355 - recall_neutral: 0.2063 - recall_sad: 0.0906 - recall_surprise: 0.4483 - val_loss: 15.2042 - val_accuracy: 0.2648 - val_precision: 0.2689 - val_precision_angry: 0.5000 - val_precision_disgust: 0.1667 - val_precision_fear: 0.0000e+00 - val_precision_happy: 0.2686 - val_precision_neutral: 0.3750 - val_precision_sad: 0.4000 - val_precision_surprise: 0.2431 - val_recall: 0.2599 - val_recall_angry: 0.0049 - val_recall_disgust: 0.0080 - val_recall_fear: 0.0000e+00 - val_recall_happy: 0.9925 - val_recall_neutral: 0.0178 - val_recall_sad: 0.0021 - val_recall_surprise: 0.0803 - lr: 0.0010\n",
      "Epoch 2/50\n",
      "740/740 [==============================] - ETA: 0s - loss: 1.1121 - accuracy: 0.5837 - precision: 0.7430 - precision_angry: 0.6555 - precision_disgust: 0.6923 - precision_fear: 0.6291 - precision_happy: 0.8548 - precision_neutral: 0.6460 - precision_sad: 0.5793 - precision_surprise: 0.7560 - recall: 0.4064 - recall_angry: 0.2665 - recall_disgust: 0.1964 - recall_fear: 0.1092 - recall_happy: 0.7730 - recall_neutral: 0.3421 - recall_sad: 0.2007 - recall_surprise: 0.5857\n",
      "Epoch 2: val_loss improved from 15.20419 to 5.52149, saving model to .\\model_mobilenet_v3_transfer_data_augmentation.h5\n",
      "740/740 [==============================] - 1105s 1s/step - loss: 1.1121 - accuracy: 0.5837 - precision: 0.7430 - precision_angry: 0.6555 - precision_disgust: 0.6923 - precision_fear: 0.6291 - precision_happy: 0.8548 - precision_neutral: 0.6460 - precision_sad: 0.5793 - precision_surprise: 0.7560 - recall: 0.4064 - recall_angry: 0.2665 - recall_disgust: 0.1964 - recall_fear: 0.1092 - recall_happy: 0.7730 - recall_neutral: 0.3421 - recall_sad: 0.2007 - recall_surprise: 0.5857 - val_loss: 5.5215 - val_accuracy: 0.2646 - val_precision: 0.2756 - val_precision_angry: 0.1913 - val_precision_disgust: 0.0000e+00 - val_precision_fear: 0.3636 - val_precision_happy: 0.5343 - val_precision_neutral: 0.4082 - val_precision_sad: 0.1961 - val_precision_surprise: 0.6000 - val_recall: 0.2344 - val_recall_angry: 0.7308 - val_recall_disgust: 0.0000e+00 - val_recall_fear: 0.0048 - val_recall_happy: 0.2019 - val_recall_neutral: 0.4236 - val_recall_sad: 0.0517 - val_recall_surprise: 0.0045 - lr: 0.0010\n",
      "Epoch 3/50\n",
      "740/740 [==============================] - ETA: 0s - loss: 1.0411 - accuracy: 0.6131 - precision: 0.7520 - precision_angry: 0.6767 - precision_disgust: 0.7029 - precision_fear: 0.6733 - precision_happy: 0.8694 - precision_neutral: 0.6545 - precision_sad: 0.6203 - precision_surprise: 0.7595 - recall: 0.4558 - recall_angry: 0.3366 - recall_disgust: 0.2436 - recall_fear: 0.1601 - recall_happy: 0.8021 - recall_neutral: 0.3964 - recall_sad: 0.2640 - recall_surprise: 0.6250\n",
      "Epoch 3: val_loss improved from 5.52149 to 1.94130, saving model to .\\model_mobilenet_v3_transfer_data_augmentation.h5\n",
      "740/740 [==============================] - 924s 1s/step - loss: 1.0411 - accuracy: 0.6131 - precision: 0.7520 - precision_angry: 0.6767 - precision_disgust: 0.7029 - precision_fear: 0.6733 - precision_happy: 0.8694 - precision_neutral: 0.6545 - precision_sad: 0.6203 - precision_surprise: 0.7595 - recall: 0.4558 - recall_angry: 0.3366 - recall_disgust: 0.2436 - recall_fear: 0.1601 - recall_happy: 0.8021 - recall_neutral: 0.3964 - recall_sad: 0.2640 - recall_surprise: 0.6250 - val_loss: 1.9413 - val_accuracy: 0.4428 - val_precision: 0.4971 - val_precision_angry: 0.5265 - val_precision_disgust: 0.2000 - val_precision_fear: 0.4148 - val_precision_happy: 0.8346 - val_precision_neutral: 0.3286 - val_precision_sad: 0.4057 - val_precision_surprise: 0.7419 - val_recall: 0.3471 - val_recall_angry: 0.2180 - val_recall_disgust: 0.0160 - val_recall_fear: 0.0669 - val_recall_happy: 0.6190 - val_recall_neutral: 0.7309 - val_recall_sad: 0.0732 - val_recall_surprise: 0.1392 - lr: 0.0010\n",
      "Epoch 4/50\n",
      "740/740 [==============================] - ETA: 0s - loss: 0.9937 - accuracy: 0.6264 - precision: 0.7573 - precision_angry: 0.6958 - precision_disgust: 0.6834 - precision_fear: 0.6656 - precision_happy: 0.8745 - precision_neutral: 0.6719 - precision_sad: 0.6236 - precision_surprise: 0.7772 - recall: 0.4864 - recall_angry: 0.3693 - recall_disgust: 0.2704 - recall_fear: 0.1871 - recall_happy: 0.8216 - recall_neutral: 0.4400 - recall_sad: 0.3052 - recall_surprise: 0.6473\n",
      "Epoch 4: val_loss did not improve from 1.94130\n",
      "740/740 [==============================] - 915s 1s/step - loss: 0.9937 - accuracy: 0.6264 - precision: 0.7573 - precision_angry: 0.6958 - precision_disgust: 0.6834 - precision_fear: 0.6656 - precision_happy: 0.8745 - precision_neutral: 0.6719 - precision_sad: 0.6236 - precision_surprise: 0.7772 - recall: 0.4864 - recall_angry: 0.3693 - recall_disgust: 0.2704 - recall_fear: 0.1871 - recall_happy: 0.8216 - recall_neutral: 0.4400 - recall_sad: 0.3052 - recall_surprise: 0.6473 - val_loss: 2.1112 - val_accuracy: 0.3003 - val_precision: 0.3288 - val_precision_angry: 0.7387 - val_precision_disgust: 0.0000e+00 - val_precision_fear: 0.3183 - val_precision_happy: 0.9318 - val_precision_neutral: 0.6609 - val_precision_sad: 0.4345 - val_precision_surprise: 0.2465 - val_recall: 0.2057 - val_recall_angry: 0.1004 - val_recall_disgust: 0.0000e+00 - val_recall_fear: 0.2506 - val_recall_happy: 0.0841 - val_recall_neutral: 0.0751 - val_recall_sad: 0.1505 - val_recall_surprise: 0.8669 - lr: 0.0010\n",
      "Epoch 5/50\n",
      "740/740 [==============================] - ETA: 0s - loss: 0.9647 - accuracy: 0.6404 - precision: 0.7595 - precision_angry: 0.6861 - precision_disgust: 0.7261 - precision_fear: 0.6568 - precision_happy: 0.8833 - precision_neutral: 0.6758 - precision_sad: 0.6365 - precision_surprise: 0.7831 - recall: 0.5024 - recall_angry: 0.3822 - recall_disgust: 0.3472 - recall_fear: 0.2032 - recall_happy: 0.8236 - recall_neutral: 0.4575 - recall_sad: 0.3338 - recall_surprise: 0.6654\n",
      "Epoch 5: val_loss improved from 1.94130 to 1.67705, saving model to .\\model_mobilenet_v3_transfer_data_augmentation.h5\n",
      "740/740 [==============================] - 918s 1s/step - loss: 0.9647 - accuracy: 0.6404 - precision: 0.7595 - precision_angry: 0.6861 - precision_disgust: 0.7261 - precision_fear: 0.6568 - precision_happy: 0.8833 - precision_neutral: 0.6758 - precision_sad: 0.6365 - precision_surprise: 0.7831 - recall: 0.5024 - recall_angry: 0.3822 - recall_disgust: 0.3472 - recall_fear: 0.2032 - recall_happy: 0.8236 - recall_neutral: 0.4575 - recall_sad: 0.3338 - recall_surprise: 0.6654 - val_loss: 1.6770 - val_accuracy: 0.4552 - val_precision: 0.5222 - val_precision_angry: 0.6166 - val_precision_disgust: 0.5000 - val_precision_fear: 0.4004 - val_precision_happy: 0.8848 - val_precision_neutral: 0.3526 - val_precision_sad: 0.6134 - val_precision_surprise: 0.7461 - val_recall: 0.3283 - val_recall_angry: 0.2451 - val_recall_disgust: 0.0317 - val_recall_fear: 0.2213 - val_recall_happy: 0.3299 - val_recall_neutral: 0.5972 - val_recall_sad: 0.1227 - val_recall_surprise: 0.5107 - lr: 0.0010\n",
      "Epoch 6/50\n",
      "740/740 [==============================] - ETA: 0s - loss: 0.9292 - accuracy: 0.6512 - precision: 0.7671 - precision_angry: 0.7026 - precision_disgust: 0.7364 - precision_fear: 0.6586 - precision_happy: 0.8887 - precision_neutral: 0.6809 - precision_sad: 0.6573 - precision_surprise: 0.7927 - recall: 0.5264 - recall_angry: 0.4099 - recall_disgust: 0.3762 - recall_fear: 0.2341 - recall_happy: 0.8434 - recall_neutral: 0.4786 - recall_sad: 0.3553 - recall_surprise: 0.6925\n",
      "Epoch 6: val_loss did not improve from 1.67705\n",
      "740/740 [==============================] - 915s 1s/step - loss: 0.9292 - accuracy: 0.6512 - precision: 0.7671 - precision_angry: 0.7026 - precision_disgust: 0.7364 - precision_fear: 0.6586 - precision_happy: 0.8887 - precision_neutral: 0.6809 - precision_sad: 0.6573 - precision_surprise: 0.7927 - recall: 0.5264 - recall_angry: 0.4099 - recall_disgust: 0.3762 - recall_fear: 0.2341 - recall_happy: 0.8434 - recall_neutral: 0.4786 - recall_sad: 0.3553 - recall_surprise: 0.6925 - val_loss: 1.7230 - val_accuracy: 0.5071 - val_precision: 0.5847 - val_precision_angry: 0.4873 - val_precision_disgust: 0.6667 - val_precision_fear: 0.5044 - val_precision_happy: 0.8854 - val_precision_neutral: 0.4126 - val_precision_sad: 0.5564 - val_precision_surprise: 0.7510 - val_recall: 0.4108 - val_recall_angry: 0.4225 - val_recall_disgust: 0.0159 - val_recall_fear: 0.1372 - val_recall_happy: 0.5751 - val_recall_neutral: 0.6601 - val_recall_sad: 0.0762 - val_recall_surprise: 0.5658 - lr: 0.0010\n",
      "Epoch 7/50\n",
      "740/740 [==============================] - ETA: 0s - loss: 0.9008 - accuracy: 0.6640 - precision: 0.7704 - precision_angry: 0.7165 - precision_disgust: 0.7749 - precision_fear: 0.6780 - precision_happy: 0.8855 - precision_neutral: 0.6979 - precision_sad: 0.6600 - precision_surprise: 0.7886 - recall: 0.5408 - recall_angry: 0.4357 - recall_disgust: 0.4175 - recall_fear: 0.2553 - recall_happy: 0.8428 - recall_neutral: 0.5075 - recall_sad: 0.3787 - recall_surprise: 0.6770\n",
      "Epoch 7: val_loss improved from 1.67705 to 1.28010, saving model to .\\model_mobilenet_v3_transfer_data_augmentation.h5\n",
      "740/740 [==============================] - 950s 1s/step - loss: 0.9008 - accuracy: 0.6640 - precision: 0.7704 - precision_angry: 0.7165 - precision_disgust: 0.7749 - precision_fear: 0.6780 - precision_happy: 0.8855 - precision_neutral: 0.6979 - precision_sad: 0.6600 - precision_surprise: 0.7886 - recall: 0.5408 - recall_angry: 0.4357 - recall_disgust: 0.4175 - recall_fear: 0.2553 - recall_happy: 0.8428 - recall_neutral: 0.5075 - recall_sad: 0.3787 - recall_surprise: 0.6770 - val_loss: 1.2801 - val_accuracy: 0.5695 - val_precision: 0.6421 - val_precision_angry: 0.4894 - val_precision_disgust: 0.8000 - val_precision_fear: 0.5745 - val_precision_happy: 0.7788 - val_precision_neutral: 0.5953 - val_precision_sad: 0.5120 - val_precision_surprise: 0.8886 - val_recall: 0.4946 - val_recall_angry: 0.5067 - val_recall_disgust: 0.0640 - val_recall_fear: 0.1888 - val_recall_happy: 0.7980 - val_recall_neutral: 0.4250 - val_recall_sad: 0.4420 - val_recall_surprise: 0.4591 - lr: 0.0010\n",
      "Epoch 8/50\n",
      "740/740 [==============================] - ETA: 0s - loss: 0.8783 - accuracy: 0.6722 - precision: 0.7754 - precision_angry: 0.7321 - precision_disgust: 0.7685 - precision_fear: 0.6743 - precision_happy: 0.8876 - precision_neutral: 0.7044 - precision_sad: 0.6757 - precision_surprise: 0.7961 - recall: 0.5579 - recall_angry: 0.4485 - recall_disgust: 0.4535 - recall_fear: 0.2793 - recall_happy: 0.8459 - recall_neutral: 0.5261 - recall_sad: 0.4023 - recall_surprise: 0.7066\n",
      "Epoch 8: val_loss did not improve from 1.28010\n",
      "740/740 [==============================] - 1022s 1s/step - loss: 0.8783 - accuracy: 0.6722 - precision: 0.7754 - precision_angry: 0.7321 - precision_disgust: 0.7685 - precision_fear: 0.6743 - precision_happy: 0.8876 - precision_neutral: 0.7044 - precision_sad: 0.6757 - precision_surprise: 0.7961 - recall: 0.5579 - recall_angry: 0.4485 - recall_disgust: 0.4535 - recall_fear: 0.2793 - recall_happy: 0.8459 - recall_neutral: 0.5261 - recall_sad: 0.4023 - recall_surprise: 0.7066 - val_loss: 1.3612 - val_accuracy: 0.5321 - val_precision: 0.6140 - val_precision_angry: 0.3774 - val_precision_disgust: 0.4000 - val_precision_fear: 0.5059 - val_precision_happy: 0.8388 - val_precision_neutral: 0.6056 - val_precision_sad: 0.5911 - val_precision_surprise: 0.7609 - val_recall: 0.4202 - val_recall_angry: 0.6105 - val_recall_disgust: 0.0160 - val_recall_fear: 0.1527 - val_recall_happy: 0.7223 - val_recall_neutral: 0.1925 - val_recall_sad: 0.2343 - val_recall_surprise: 0.5529 - lr: 0.0010\n",
      "Epoch 9/50\n",
      "740/740 [==============================] - ETA: 0s - loss: 0.8507 - accuracy: 0.6823 - precision: 0.7818 - precision_angry: 0.7415 - precision_disgust: 0.7515 - precision_fear: 0.6849 - precision_happy: 0.8976 - precision_neutral: 0.7163 - precision_sad: 0.6720 - precision_surprise: 0.8049 - recall: 0.5728 - recall_angry: 0.4645 - recall_disgust: 0.4871 - recall_fear: 0.2936 - recall_happy: 0.8570 - recall_neutral: 0.5498 - recall_sad: 0.4199 - recall_surprise: 0.7072\n",
      "Epoch 9: val_loss did not improve from 1.28010\n",
      "740/740 [==============================] - 989s 1s/step - loss: 0.8507 - accuracy: 0.6823 - precision: 0.7818 - precision_angry: 0.7415 - precision_disgust: 0.7515 - precision_fear: 0.6849 - precision_happy: 0.8976 - precision_neutral: 0.7163 - precision_sad: 0.6720 - precision_surprise: 0.8049 - recall: 0.5728 - recall_angry: 0.4645 - recall_disgust: 0.4871 - recall_fear: 0.2936 - recall_happy: 0.8570 - recall_neutral: 0.5498 - recall_sad: 0.4199 - recall_surprise: 0.7072 - val_loss: 2.2499 - val_accuracy: 0.4350 - val_precision: 0.5069 - val_precision_angry: 0.3440 - val_precision_disgust: 0.5000 - val_precision_fear: 0.3161 - val_precision_happy: 0.8346 - val_precision_neutral: 0.4915 - val_precision_sad: 0.6052 - val_precision_surprise: 0.8116 - val_recall: 0.3184 - val_recall_angry: 0.4563 - val_recall_disgust: 0.0407 - val_recall_fear: 0.3501 - val_recall_happy: 0.3891 - val_recall_neutral: 0.1726 - val_recall_sad: 0.1689 - val_recall_surprise: 0.4439 - lr: 0.0010\n",
      "Epoch 10/50\n",
      "740/740 [==============================] - ETA: 0s - loss: 0.8304 - accuracy: 0.6907 - precision: 0.7837 - precision_angry: 0.7347 - precision_disgust: 0.7758 - precision_fear: 0.7070 - precision_happy: 0.8990 - precision_neutral: 0.7102 - precision_sad: 0.6841 - precision_surprise: 0.8059 - recall: 0.5863 - recall_angry: 0.4895 - recall_disgust: 0.5079 - recall_fear: 0.3244 - recall_happy: 0.8652 - recall_neutral: 0.5585 - recall_sad: 0.4247 - recall_surprise: 0.7149\n",
      "Epoch 10: val_loss improved from 1.28010 to 1.14686, saving model to .\\model_mobilenet_v3_transfer_data_augmentation.h5\n",
      "740/740 [==============================] - 1068s 1s/step - loss: 0.8304 - accuracy: 0.6907 - precision: 0.7837 - precision_angry: 0.7347 - precision_disgust: 0.7758 - precision_fear: 0.7070 - precision_happy: 0.8990 - precision_neutral: 0.7102 - precision_sad: 0.6841 - precision_surprise: 0.8059 - recall: 0.5863 - recall_angry: 0.4895 - recall_disgust: 0.5079 - recall_fear: 0.3244 - recall_happy: 0.8652 - recall_neutral: 0.5585 - recall_sad: 0.4247 - recall_surprise: 0.7149 - val_loss: 1.1469 - val_accuracy: 0.5822 - val_precision: 0.6960 - val_precision_angry: 0.5841 - val_precision_disgust: 0.5059 - val_precision_fear: 0.5850 - val_precision_happy: 0.9161 - val_precision_neutral: 0.6405 - val_precision_sad: 0.5284 - val_precision_surprise: 0.8128 - val_recall: 0.4587 - val_recall_angry: 0.3782 - val_recall_disgust: 0.3413 - val_recall_fear: 0.2055 - val_recall_happy: 0.6480 - val_recall_neutral: 0.5005 - val_recall_sad: 0.4031 - val_recall_surprise: 0.4992 - lr: 0.0010\n",
      "Epoch 11/50\n",
      "740/740 [==============================] - ETA: 0s - loss: 0.8157 - accuracy: 0.6948 - precision: 0.7866 - precision_angry: 0.7569 - precision_disgust: 0.7965 - precision_fear: 0.7071 - precision_happy: 0.8933 - precision_neutral: 0.7170 - precision_sad: 0.6851 - precision_surprise: 0.8158 - recall: 0.5967 - recall_angry: 0.4979 - recall_disgust: 0.5347 - recall_fear: 0.3493 - recall_happy: 0.8621 - recall_neutral: 0.5649 - recall_sad: 0.4463 - recall_surprise: 0.7268\n",
      "Epoch 11: val_loss did not improve from 1.14686\n",
      "740/740 [==============================] - 1090s 1s/step - loss: 0.8157 - accuracy: 0.6948 - precision: 0.7866 - precision_angry: 0.7569 - precision_disgust: 0.7965 - precision_fear: 0.7071 - precision_happy: 0.8933 - precision_neutral: 0.7170 - precision_sad: 0.6851 - precision_surprise: 0.8158 - recall: 0.5967 - recall_angry: 0.4979 - recall_disgust: 0.5347 - recall_fear: 0.3493 - recall_happy: 0.8621 - recall_neutral: 0.5649 - recall_sad: 0.4463 - recall_surprise: 0.7268 - val_loss: 1.1558 - val_accuracy: 0.5690 - val_precision: 0.6871 - val_precision_angry: 0.6147 - val_precision_disgust: 0.5102 - val_precision_fear: 0.4320 - val_precision_happy: 0.8268 - val_precision_neutral: 0.7241 - val_precision_sad: 0.6578 - val_precision_surprise: 0.8269 - val_recall: 0.4581 - val_recall_angry: 0.3175 - val_recall_disgust: 0.1984 - val_recall_fear: 0.4737 - val_recall_happy: 0.8217 - val_recall_neutral: 0.2488 - val_recall_sad: 0.1793 - val_recall_surprise: 0.5837 - lr: 0.0010\n",
      "Epoch 12/50\n",
      "740/740 [==============================] - ETA: 0s - loss: 0.7802 - accuracy: 0.7085 - precision: 0.7939 - precision_angry: 0.7649 - precision_disgust: 0.7812 - precision_fear: 0.7072 - precision_happy: 0.9034 - precision_neutral: 0.7232 - precision_sad: 0.7022 - precision_surprise: 0.8246 - recall: 0.6153 - recall_angry: 0.5156 - recall_disgust: 0.5595 - recall_fear: 0.3603 - recall_happy: 0.8710 - recall_neutral: 0.6005 - recall_sad: 0.4689 - recall_surprise: 0.7442\n",
      "Epoch 12: val_loss did not improve from 1.14686\n",
      "740/740 [==============================] - 1051s 1s/step - loss: 0.7802 - accuracy: 0.7085 - precision: 0.7939 - precision_angry: 0.7649 - precision_disgust: 0.7812 - precision_fear: 0.7072 - precision_happy: 0.9034 - precision_neutral: 0.7232 - precision_sad: 0.7022 - precision_surprise: 0.8246 - recall: 0.6153 - recall_angry: 0.5156 - recall_disgust: 0.5595 - recall_fear: 0.3603 - recall_happy: 0.8710 - recall_neutral: 0.6005 - recall_sad: 0.4689 - recall_surprise: 0.7442 - val_loss: 1.2304 - val_accuracy: 0.5805 - val_precision: 0.6609 - val_precision_angry: 0.4752 - val_precision_disgust: 0.7857 - val_precision_fear: 0.5000 - val_precision_happy: 0.8534 - val_precision_neutral: 0.6801 - val_precision_sad: 0.5686 - val_precision_surprise: 0.6499 - val_recall: 0.4969 - val_recall_angry: 0.5153 - val_recall_disgust: 0.0873 - val_recall_fear: 0.1821 - val_recall_happy: 0.7986 - val_recall_neutral: 0.3178 - val_recall_sad: 0.3285 - val_recall_surprise: 0.8058 - lr: 0.0010\n",
      "Epoch 13/50\n",
      "740/740 [==============================] - ETA: 0s - loss: 0.7667 - accuracy: 0.7134 - precision: 0.7963 - precision_angry: 0.7657 - precision_disgust: 0.8075 - precision_fear: 0.7133 - precision_happy: 0.9062 - precision_neutral: 0.7292 - precision_sad: 0.7060 - precision_surprise: 0.8191 - recall: 0.6209 - recall_angry: 0.5348 - recall_disgust: 0.5575 - recall_fear: 0.3663 - recall_happy: 0.8708 - recall_neutral: 0.5989 - recall_sad: 0.4861 - recall_surprise: 0.7404\n",
      "Epoch 13: val_loss improved from 1.14686 to 1.11260, saving model to .\\model_mobilenet_v3_transfer_data_augmentation.h5\n",
      "740/740 [==============================] - 1062s 1s/step - loss: 0.7667 - accuracy: 0.7134 - precision: 0.7963 - precision_angry: 0.7657 - precision_disgust: 0.8075 - precision_fear: 0.7133 - precision_happy: 0.9062 - precision_neutral: 0.7292 - precision_sad: 0.7060 - precision_surprise: 0.8191 - recall: 0.6209 - recall_angry: 0.5348 - recall_disgust: 0.5575 - recall_fear: 0.3663 - recall_happy: 0.8708 - recall_neutral: 0.5989 - recall_sad: 0.4861 - recall_surprise: 0.7404 - val_loss: 1.1126 - val_accuracy: 0.6056 - val_precision: 0.6931 - val_precision_angry: 0.5859 - val_precision_disgust: 0.5195 - val_precision_fear: 0.6193 - val_precision_happy: 0.8668 - val_precision_neutral: 0.5509 - val_precision_sad: 0.6112 - val_precision_surprise: 0.8046 - val_recall: 0.5204 - val_recall_angry: 0.4366 - val_recall_disgust: 0.3175 - val_recall_fear: 0.1301 - val_recall_happy: 0.8182 - val_recall_neutral: 0.6320 - val_recall_sad: 0.3138 - val_recall_surprise: 0.6322 - lr: 0.0010\n",
      "Epoch 14/50\n",
      "740/740 [==============================] - ETA: 0s - loss: 0.7466 - accuracy: 0.7195 - precision: 0.7967 - precision_angry: 0.7611 - precision_disgust: 0.8217 - precision_fear: 0.7283 - precision_happy: 0.9042 - precision_neutral: 0.7245 - precision_sad: 0.7085 - precision_surprise: 0.8269 - recall: 0.6348 - recall_angry: 0.5412 - recall_disgust: 0.6310 - recall_fear: 0.4031 - recall_happy: 0.8793 - recall_neutral: 0.6034 - recall_sad: 0.4988 - recall_surprise: 0.7517\n",
      "Epoch 14: val_loss did not improve from 1.11260\n",
      "740/740 [==============================] - 1139s 2s/step - loss: 0.7466 - accuracy: 0.7195 - precision: 0.7967 - precision_angry: 0.7611 - precision_disgust: 0.8217 - precision_fear: 0.7283 - precision_happy: 0.9042 - precision_neutral: 0.7245 - precision_sad: 0.7085 - precision_surprise: 0.8269 - recall: 0.6348 - recall_angry: 0.5412 - recall_disgust: 0.6310 - recall_fear: 0.4031 - recall_happy: 0.8793 - recall_neutral: 0.6034 - recall_sad: 0.4988 - recall_surprise: 0.7517 - val_loss: 1.1484 - val_accuracy: 0.6056 - val_precision: 0.6827 - val_precision_angry: 0.6104 - val_precision_disgust: 0.6190 - val_precision_fear: 0.5565 - val_precision_happy: 0.8931 - val_precision_neutral: 0.6599 - val_precision_sad: 0.4936 - val_precision_surprise: 0.7553 - val_recall: 0.5226 - val_recall_angry: 0.4136 - val_recall_disgust: 0.2097 - val_recall_fear: 0.2413 - val_recall_happy: 0.7633 - val_recall_neutral: 0.3854 - val_recall_sad: 0.5542 - val_recall_surprise: 0.7036 - lr: 0.0010\n",
      "Epoch 15/50\n",
      "740/740 [==============================] - ETA: 0s - loss: 0.7271 - accuracy: 0.7280 - precision: 0.8035 - precision_angry: 0.7781 - precision_disgust: 0.8056 - precision_fear: 0.7326 - precision_happy: 0.9060 - precision_neutral: 0.7353 - precision_sad: 0.7196 - precision_surprise: 0.8371 - recall: 0.6463 - recall_angry: 0.5582 - recall_disgust: 0.6238 - recall_fear: 0.4162 - recall_happy: 0.8788 - recall_neutral: 0.6225 - recall_sad: 0.5209 - recall_surprise: 0.7570\n",
      "Epoch 15: val_loss improved from 1.11260 to 1.11235, saving model to .\\model_mobilenet_v3_transfer_data_augmentation.h5\n",
      "740/740 [==============================] - 1059s 1s/step - loss: 0.7271 - accuracy: 0.7280 - precision: 0.8035 - precision_angry: 0.7781 - precision_disgust: 0.8056 - precision_fear: 0.7326 - precision_happy: 0.9060 - precision_neutral: 0.7353 - precision_sad: 0.7196 - precision_surprise: 0.8371 - recall: 0.6463 - recall_angry: 0.5582 - recall_disgust: 0.6238 - recall_fear: 0.4162 - recall_happy: 0.8788 - recall_neutral: 0.6225 - recall_sad: 0.5209 - recall_surprise: 0.7570 - val_loss: 1.1123 - val_accuracy: 0.6163 - val_precision: 0.6782 - val_precision_angry: 0.5273 - val_precision_disgust: 0.9286 - val_precision_fear: 0.6058 - val_precision_happy: 0.9270 - val_precision_neutral: 0.5602 - val_precision_sad: 0.6107 - val_precision_surprise: 0.7368 - val_recall: 0.5501 - val_recall_angry: 0.5400 - val_recall_disgust: 0.1048 - val_recall_fear: 0.2255 - val_recall_happy: 0.7372 - val_recall_neutral: 0.6558 - val_recall_sad: 0.3909 - val_recall_surprise: 0.7145 - lr: 0.0010\n",
      "Epoch 16/50\n",
      "740/740 [==============================] - ETA: 0s - loss: 0.7052 - accuracy: 0.7344 - precision: 0.8089 - precision_angry: 0.7791 - precision_disgust: 0.8313 - precision_fear: 0.7378 - precision_happy: 0.9107 - precision_neutral: 0.7507 - precision_sad: 0.7239 - precision_surprise: 0.8322 - recall: 0.6567 - recall_angry: 0.5771 - recall_disgust: 0.6634 - recall_fear: 0.4217 - recall_happy: 0.8877 - recall_neutral: 0.6384 - recall_sad: 0.5228 - recall_surprise: 0.7648\n",
      "Epoch 16: val_loss did not improve from 1.11235\n",
      "740/740 [==============================] - 1076s 1s/step - loss: 0.7052 - accuracy: 0.7344 - precision: 0.8089 - precision_angry: 0.7791 - precision_disgust: 0.8313 - precision_fear: 0.7378 - precision_happy: 0.9107 - precision_neutral: 0.7507 - precision_sad: 0.7239 - precision_surprise: 0.8322 - recall: 0.6567 - recall_angry: 0.5771 - recall_disgust: 0.6634 - recall_fear: 0.4217 - recall_happy: 0.8877 - recall_neutral: 0.6384 - recall_sad: 0.5228 - recall_surprise: 0.7648 - val_loss: 1.1287 - val_accuracy: 0.6150 - val_precision: 0.6741 - val_precision_angry: 0.6752 - val_precision_disgust: 0.4706 - val_precision_fear: 0.5291 - val_precision_happy: 0.8848 - val_precision_neutral: 0.6004 - val_precision_sad: 0.5080 - val_precision_surprise: 0.7911 - val_recall: 0.5583 - val_recall_angry: 0.3571 - val_recall_disgust: 0.5714 - val_recall_fear: 0.2491 - val_recall_happy: 0.7847 - val_recall_neutral: 0.5885 - val_recall_sad: 0.5573 - val_recall_surprise: 0.6485 - lr: 0.0010\n",
      "Epoch 17/50\n",
      "740/740 [==============================] - ETA: 0s - loss: 0.6869 - accuracy: 0.7439 - precision: 0.8124 - precision_angry: 0.7825 - precision_disgust: 0.8260 - precision_fear: 0.7441 - precision_happy: 0.9160 - precision_neutral: 0.7578 - precision_sad: 0.7209 - precision_surprise: 0.8436 - recall: 0.6701 - recall_angry: 0.5931 - recall_disgust: 0.6673 - recall_fear: 0.4516 - recall_happy: 0.8895 - recall_neutral: 0.6540 - recall_sad: 0.5413 - recall_surprise: 0.7710\n",
      "Epoch 17: val_loss improved from 1.11235 to 1.09956, saving model to .\\model_mobilenet_v3_transfer_data_augmentation.h5\n",
      "740/740 [==============================] - 1097s 1s/step - loss: 0.6869 - accuracy: 0.7439 - precision: 0.8124 - precision_angry: 0.7825 - precision_disgust: 0.8260 - precision_fear: 0.7441 - precision_happy: 0.9160 - precision_neutral: 0.7578 - precision_sad: 0.7209 - precision_surprise: 0.8436 - recall: 0.6701 - recall_angry: 0.5931 - recall_disgust: 0.6673 - recall_fear: 0.4516 - recall_happy: 0.8895 - recall_neutral: 0.6540 - recall_sad: 0.5413 - recall_surprise: 0.7710 - val_loss: 1.0996 - val_accuracy: 0.6099 - val_precision: 0.6893 - val_precision_angry: 0.6398 - val_precision_disgust: 0.6970 - val_precision_fear: 0.4725 - val_precision_happy: 0.8647 - val_precision_neutral: 0.5976 - val_precision_sad: 0.6025 - val_precision_surprise: 0.7572 - val_recall: 0.5297 - val_recall_angry: 0.3305 - val_recall_disgust: 0.1855 - val_recall_fear: 0.3369 - val_recall_happy: 0.8188 - val_recall_neutral: 0.5426 - val_recall_sad: 0.3546 - val_recall_surprise: 0.6813 - lr: 0.0010\n",
      "Epoch 18/50\n",
      "740/740 [==============================] - ETA: 0s - loss: 0.6673 - accuracy: 0.7501 - precision: 0.8149 - precision_angry: 0.7928 - precision_disgust: 0.8542 - precision_fear: 0.7423 - precision_happy: 0.9157 - precision_neutral: 0.7575 - precision_sad: 0.7242 - precision_surprise: 0.8514 - recall: 0.6781 - recall_angry: 0.6009 - recall_disgust: 0.6653 - recall_fear: 0.4812 - recall_happy: 0.8901 - recall_neutral: 0.6599 - recall_sad: 0.5396 - recall_surprise: 0.7879\n",
      "Epoch 18: val_loss did not improve from 1.09956\n",
      "740/740 [==============================] - 1112s 2s/step - loss: 0.6673 - accuracy: 0.7501 - precision: 0.8149 - precision_angry: 0.7928 - precision_disgust: 0.8542 - precision_fear: 0.7423 - precision_happy: 0.9157 - precision_neutral: 0.7575 - precision_sad: 0.7242 - precision_surprise: 0.8514 - recall: 0.6781 - recall_angry: 0.6009 - recall_disgust: 0.6653 - recall_fear: 0.4812 - recall_happy: 0.8901 - recall_neutral: 0.6599 - recall_sad: 0.5396 - recall_surprise: 0.7879 - val_loss: 1.1044 - val_accuracy: 0.6277 - val_precision: 0.6898 - val_precision_angry: 0.6352 - val_precision_disgust: 0.8085 - val_precision_fear: 0.6304 - val_precision_happy: 0.8923 - val_precision_neutral: 0.6519 - val_precision_sad: 0.4869 - val_precision_surprise: 0.7656 - val_recall: 0.5628 - val_recall_angry: 0.5012 - val_recall_disgust: 0.3016 - val_recall_fear: 0.2625 - val_recall_happy: 0.7869 - val_recall_neutral: 0.4529 - val_recall_sad: 0.5750 - val_recall_surprise: 0.7229 - lr: 0.0010\n",
      "Epoch 19/50\n",
      "740/740 [==============================] - ETA: 0s - loss: 0.6484 - accuracy: 0.7569 - precision: 0.8203 - precision_angry: 0.7944 - precision_disgust: 0.8547 - precision_fear: 0.7464 - precision_happy: 0.9215 - precision_neutral: 0.7670 - precision_sad: 0.7330 - precision_surprise: 0.8549 - recall: 0.6899 - recall_angry: 0.6244 - recall_disgust: 0.7004 - recall_fear: 0.4708 - recall_happy: 0.8964 - recall_neutral: 0.6810 - recall_sad: 0.5639 - recall_surprise: 0.7885\n",
      "Epoch 19: val_loss did not improve from 1.09956\n",
      "740/740 [==============================] - 1081s 1s/step - loss: 0.6484 - accuracy: 0.7569 - precision: 0.8203 - precision_angry: 0.7944 - precision_disgust: 0.8547 - precision_fear: 0.7464 - precision_happy: 0.9215 - precision_neutral: 0.7670 - precision_sad: 0.7330 - precision_surprise: 0.8549 - recall: 0.6899 - recall_angry: 0.6244 - recall_disgust: 0.7004 - recall_fear: 0.4708 - recall_happy: 0.8964 - recall_neutral: 0.6810 - recall_sad: 0.5639 - recall_surprise: 0.7885 - val_loss: 1.1515 - val_accuracy: 0.6248 - val_precision: 0.6838 - val_precision_angry: 0.6115 - val_precision_disgust: 0.7636 - val_precision_fear: 0.5605 - val_precision_happy: 0.8038 - val_precision_neutral: 0.5855 - val_precision_sad: 0.6831 - val_precision_surprise: 0.7066 - val_recall: 0.5645 - val_recall_angry: 0.4811 - val_recall_disgust: 0.3387 - val_recall_fear: 0.2973 - val_recall_happy: 0.8681 - val_recall_neutral: 0.6395 - val_recall_sad: 0.2284 - val_recall_surprise: 0.7591 - lr: 0.0010\n",
      "Epoch 20/50\n",
      "740/740 [==============================] - ETA: 0s - loss: 0.6290 - accuracy: 0.7605 - precision: 0.8228 - precision_angry: 0.7934 - precision_disgust: 0.8472 - precision_fear: 0.7554 - precision_happy: 0.9229 - precision_neutral: 0.7689 - precision_sad: 0.7471 - precision_surprise: 0.8492 - recall: 0.6981 - recall_angry: 0.6214 - recall_disgust: 0.7262 - recall_fear: 0.4999 - recall_happy: 0.8981 - recall_neutral: 0.6750 - recall_sad: 0.5824 - recall_surprise: 0.8027\n",
      "Epoch 20: val_loss did not improve from 1.09956\n",
      "740/740 [==============================] - 1078s 1s/step - loss: 0.6290 - accuracy: 0.7605 - precision: 0.8228 - precision_angry: 0.7934 - precision_disgust: 0.8472 - precision_fear: 0.7554 - precision_happy: 0.9229 - precision_neutral: 0.7689 - precision_sad: 0.7471 - precision_surprise: 0.8492 - recall: 0.6981 - recall_angry: 0.6214 - recall_disgust: 0.7262 - recall_fear: 0.4999 - recall_happy: 0.8981 - recall_neutral: 0.6750 - recall_sad: 0.5824 - recall_surprise: 0.8027 - val_loss: 1.1844 - val_accuracy: 0.6140 - val_precision: 0.6798 - val_precision_angry: 0.4952 - val_precision_disgust: 0.6825 - val_precision_fear: 0.5388 - val_precision_happy: 0.8964 - val_precision_neutral: 0.6534 - val_precision_sad: 0.5823 - val_precision_surprise: 0.7533 - val_recall: 0.5465 - val_recall_angry: 0.5615 - val_recall_disgust: 0.3413 - val_recall_fear: 0.2896 - val_recall_happy: 0.7700 - val_recall_neutral: 0.5188 - val_recall_sad: 0.3729 - val_recall_surprise: 0.6953 - lr: 0.0010\n",
      "Epoch 21/50\n",
      "740/740 [==============================] - ETA: 0s - loss: 0.6121 - accuracy: 0.7708 - precision: 0.8291 - precision_angry: 0.8073 - precision_disgust: 0.8650 - precision_fear: 0.7577 - precision_happy: 0.9252 - precision_neutral: 0.7758 - precision_sad: 0.7549 - precision_surprise: 0.8604 - recall: 0.7110 - recall_angry: 0.6352 - recall_disgust: 0.7515 - recall_fear: 0.5285 - recall_happy: 0.9002 - recall_neutral: 0.6980 - recall_sad: 0.5848 - recall_surprise: 0.8153\n",
      "Epoch 21: val_loss did not improve from 1.09956\n",
      "740/740 [==============================] - 1117s 2s/step - loss: 0.6121 - accuracy: 0.7708 - precision: 0.8291 - precision_angry: 0.8073 - precision_disgust: 0.8650 - precision_fear: 0.7577 - precision_happy: 0.9252 - precision_neutral: 0.7758 - precision_sad: 0.7549 - precision_surprise: 0.8604 - recall: 0.7110 - recall_angry: 0.6352 - recall_disgust: 0.7515 - recall_fear: 0.5285 - recall_happy: 0.9002 - recall_neutral: 0.6980 - recall_sad: 0.5848 - recall_surprise: 0.8153 - val_loss: 1.1219 - val_accuracy: 0.6350 - val_precision: 0.6906 - val_precision_angry: 0.6058 - val_precision_disgust: 0.7541 - val_precision_fear: 0.7393 - val_precision_happy: 0.8857 - val_precision_neutral: 0.5812 - val_precision_sad: 0.5709 - val_precision_surprise: 0.7262 - val_recall: 0.5868 - val_recall_angry: 0.5085 - val_recall_disgust: 0.3680 - val_recall_fear: 0.1859 - val_recall_happy: 0.7829 - val_recall_neutral: 0.6980 - val_recall_sad: 0.4964 - val_recall_surprise: 0.7613 - lr: 0.0010\n",
      "Epoch 22/50\n",
      "740/740 [==============================] - ETA: 0s - loss: 0.5928 - accuracy: 0.7764 - precision: 0.8328 - precision_angry: 0.8108 - precision_disgust: 0.8694 - precision_fear: 0.7711 - precision_happy: 0.9240 - precision_neutral: 0.7839 - precision_sad: 0.7541 - precision_surprise: 0.8690 - recall: 0.7196 - recall_angry: 0.6538 - recall_disgust: 0.7659 - recall_fear: 0.5362 - recall_happy: 0.8995 - recall_neutral: 0.7112 - recall_sad: 0.6015 - recall_surprise: 0.8127\n",
      "Epoch 22: val_loss did not improve from 1.09956\n",
      "\n",
      "Epoch 22: ReduceLROnPlateau reducing learning rate to 0.00010000000474974513.\n",
      "740/740 [==============================] - 1125s 2s/step - loss: 0.5928 - accuracy: 0.7764 - precision: 0.8328 - precision_angry: 0.8108 - precision_disgust: 0.8694 - precision_fear: 0.7711 - precision_happy: 0.9240 - precision_neutral: 0.7839 - precision_sad: 0.7541 - precision_surprise: 0.8690 - recall: 0.7196 - recall_angry: 0.6538 - recall_disgust: 0.7659 - recall_fear: 0.5362 - recall_happy: 0.8995 - recall_neutral: 0.7112 - recall_sad: 0.6015 - recall_surprise: 0.8127 - val_loss: 1.1516 - val_accuracy: 0.6272 - val_precision: 0.6794 - val_precision_angry: 0.6123 - val_precision_disgust: 0.5943 - val_precision_fear: 0.6092 - val_precision_happy: 0.8829 - val_precision_neutral: 0.5805 - val_precision_sad: 0.5534 - val_precision_surprise: 0.7186 - val_recall: 0.5815 - val_recall_angry: 0.4720 - val_recall_disgust: 0.5000 - val_recall_fear: 0.3002 - val_recall_happy: 0.7812 - val_recall_neutral: 0.5955 - val_recall_sad: 0.4918 - val_recall_surprise: 0.7568 - lr: 0.0010\n",
      "Epoch 23/50\n",
      "740/740 [==============================] - ETA: 0s - loss: 0.4732 - accuracy: 0.8227 - precision: 0.8653 - precision_angry: 0.8561 - precision_disgust: 0.9127 - precision_fear: 0.8034 - precision_happy: 0.9414 - precision_neutral: 0.8254 - precision_sad: 0.8055 - precision_surprise: 0.8928 - recall: 0.7744 - recall_angry: 0.7275 - recall_disgust: 0.8294 - recall_fear: 0.6217 - recall_happy: 0.9255 - recall_neutral: 0.7608 - recall_sad: 0.6729 - recall_surprise: 0.8514\n",
      "Epoch 23: val_loss improved from 1.09956 to 1.03599, saving model to .\\model_mobilenet_v3_transfer_data_augmentation.h5\n",
      "740/740 [==============================] - 1191s 2s/step - loss: 0.4732 - accuracy: 0.8227 - precision: 0.8653 - precision_angry: 0.8561 - precision_disgust: 0.9127 - precision_fear: 0.8034 - precision_happy: 0.9414 - precision_neutral: 0.8254 - precision_sad: 0.8055 - precision_surprise: 0.8928 - recall: 0.7744 - recall_angry: 0.7275 - recall_disgust: 0.8294 - recall_fear: 0.6217 - recall_happy: 0.9255 - recall_neutral: 0.7608 - recall_sad: 0.6729 - recall_surprise: 0.8514 - val_loss: 1.0360 - val_accuracy: 0.6731 - val_precision: 0.7199 - val_precision_angry: 0.6317 - val_precision_disgust: 0.8310 - val_precision_fear: 0.6222 - val_precision_happy: 0.8839 - val_precision_neutral: 0.6490 - val_precision_sad: 0.6007 - val_precision_surprise: 0.7872 - val_recall: 0.6269 - val_recall_angry: 0.5653 - val_recall_disgust: 0.4683 - val_recall_fear: 0.4019 - val_recall_happy: 0.8471 - val_recall_neutral: 0.5810 - val_recall_sad: 0.5170 - val_recall_surprise: 0.7610 - lr: 1.0000e-04\n",
      "Epoch 24/50\n",
      "740/740 [==============================] - ETA: 0s - loss: 0.4195 - accuracy: 0.8429 - precision: 0.8791 - precision_angry: 0.8657 - precision_disgust: 0.9117 - precision_fear: 0.8278 - precision_happy: 0.9482 - precision_neutral: 0.8419 - precision_sad: 0.8251 - precision_surprise: 0.9122 - recall: 0.8063 - recall_angry: 0.7584 - recall_disgust: 0.8792 - recall_fear: 0.6704 - recall_happy: 0.9407 - recall_neutral: 0.7994 - recall_sad: 0.7105 - recall_surprise: 0.8781\n",
      "Epoch 24: val_loss improved from 1.03599 to 1.01807, saving model to .\\model_mobilenet_v3_transfer_data_augmentation.h5\n",
      "740/740 [==============================] - 1126s 2s/step - loss: 0.4195 - accuracy: 0.8429 - precision: 0.8791 - precision_angry: 0.8657 - precision_disgust: 0.9117 - precision_fear: 0.8278 - precision_happy: 0.9482 - precision_neutral: 0.8419 - precision_sad: 0.8251 - precision_surprise: 0.9122 - recall: 0.8063 - recall_angry: 0.7584 - recall_disgust: 0.8792 - recall_fear: 0.6704 - recall_happy: 0.9407 - recall_neutral: 0.7994 - recall_sad: 0.7105 - recall_surprise: 0.8781 - val_loss: 1.0181 - val_accuracy: 0.6799 - val_precision: 0.7238 - val_precision_angry: 0.6452 - val_precision_disgust: 0.8000 - val_precision_fear: 0.6074 - val_precision_happy: 0.8961 - val_precision_neutral: 0.6546 - val_precision_sad: 0.6026 - val_precision_surprise: 0.8016 - val_recall: 0.6393 - val_recall_angry: 0.5617 - val_recall_disgust: 0.5120 - val_recall_fear: 0.4289 - val_recall_happy: 0.8466 - val_recall_neutral: 0.6267 - val_recall_sad: 0.5206 - val_recall_surprise: 0.7591 - lr: 1.0000e-04\n",
      "Epoch 25/50\n",
      "740/740 [==============================] - ETA: 0s - loss: 0.3932 - accuracy: 0.8526 - precision: 0.8854 - precision_angry: 0.8800 - precision_disgust: 0.9274 - precision_fear: 0.8389 - precision_happy: 0.9521 - precision_neutral: 0.8502 - precision_sad: 0.8273 - precision_surprise: 0.9160 - recall: 0.8215 - recall_angry: 0.7821 - recall_disgust: 0.8611 - recall_fear: 0.7017 - recall_happy: 0.9405 - recall_neutral: 0.8143 - recall_sad: 0.7368 - recall_surprise: 0.8870\n",
      "Epoch 25: val_loss did not improve from 1.01807\n",
      "740/740 [==============================] - 1082s 1s/step - loss: 0.3932 - accuracy: 0.8526 - precision: 0.8854 - precision_angry: 0.8800 - precision_disgust: 0.9274 - precision_fear: 0.8389 - precision_happy: 0.9521 - precision_neutral: 0.8502 - precision_sad: 0.8273 - precision_surprise: 0.9160 - recall: 0.8215 - recall_angry: 0.7821 - recall_disgust: 0.8611 - recall_fear: 0.7017 - recall_happy: 0.9405 - recall_neutral: 0.8143 - recall_sad: 0.7368 - recall_surprise: 0.8870 - val_loss: 1.0562 - val_accuracy: 0.6827 - val_precision: 0.7222 - val_precision_angry: 0.6379 - val_precision_disgust: 0.8214 - val_precision_fear: 0.5859 - val_precision_happy: 0.8611 - val_precision_neutral: 0.6646 - val_precision_sad: 0.6220 - val_precision_surprise: 0.8284 - val_recall: 0.6476 - val_recall_angry: 0.5513 - val_recall_disgust: 0.5520 - val_recall_fear: 0.4564 - val_recall_happy: 0.8799 - val_recall_neutral: 0.6206 - val_recall_sad: 0.5021 - val_recall_surprise: 0.7670 - lr: 1.0000e-04\n",
      "Epoch 26/50\n",
      "740/740 [==============================] - ETA: 0s - loss: 0.3763 - accuracy: 0.8594 - precision: 0.8880 - precision_angry: 0.8833 - precision_disgust: 0.9248 - precision_fear: 0.8431 - precision_happy: 0.9554 - precision_neutral: 0.8502 - precision_sad: 0.8311 - precision_surprise: 0.9183 - recall: 0.8285 - recall_angry: 0.7932 - recall_disgust: 0.8807 - recall_fear: 0.7142 - recall_happy: 0.9441 - recall_neutral: 0.8204 - recall_sad: 0.7402 - recall_surprise: 0.8937\n",
      "Epoch 26: val_loss did not improve from 1.01807\n",
      "740/740 [==============================] - 1075s 1s/step - loss: 0.3763 - accuracy: 0.8594 - precision: 0.8880 - precision_angry: 0.8833 - precision_disgust: 0.9248 - precision_fear: 0.8431 - precision_happy: 0.9554 - precision_neutral: 0.8502 - precision_sad: 0.8311 - precision_surprise: 0.9183 - recall: 0.8285 - recall_angry: 0.7932 - recall_disgust: 0.8807 - recall_fear: 0.7142 - recall_happy: 0.9441 - recall_neutral: 0.8204 - recall_sad: 0.7402 - recall_surprise: 0.8937 - val_loss: 1.0714 - val_accuracy: 0.6809 - val_precision: 0.7155 - val_precision_angry: 0.6204 - val_precision_disgust: 0.7727 - val_precision_fear: 0.6141 - val_precision_happy: 0.8701 - val_precision_neutral: 0.6454 - val_precision_sad: 0.6095 - val_precision_surprise: 0.8163 - val_recall: 0.6515 - val_recall_angry: 0.5513 - val_recall_disgust: 0.5397 - val_recall_fear: 0.4774 - val_recall_happy: 0.8678 - val_recall_neutral: 0.6186 - val_recall_sad: 0.5315 - val_recall_surprise: 0.7652 - lr: 1.0000e-04\n",
      "Epoch 27/50\n",
      "740/740 [==============================] - ETA: 0s - loss: 0.3601 - accuracy: 0.8651 - precision: 0.8913 - precision_angry: 0.8856 - precision_disgust: 0.9293 - precision_fear: 0.8432 - precision_happy: 0.9565 - precision_neutral: 0.8641 - precision_sad: 0.8358 - precision_surprise: 0.9151 - recall: 0.8391 - recall_angry: 0.8055 - recall_disgust: 0.9109 - recall_fear: 0.7253 - recall_happy: 0.9448 - recall_neutral: 0.8309 - recall_sad: 0.7652 - recall_surprise: 0.8985\n",
      "Epoch 27: val_loss did not improve from 1.01807\n",
      "740/740 [==============================] - 1079s 1s/step - loss: 0.3601 - accuracy: 0.8651 - precision: 0.8913 - precision_angry: 0.8856 - precision_disgust: 0.9293 - precision_fear: 0.8432 - precision_happy: 0.9565 - precision_neutral: 0.8641 - precision_sad: 0.8358 - precision_surprise: 0.9151 - recall: 0.8391 - recall_angry: 0.8055 - recall_disgust: 0.9109 - recall_fear: 0.7253 - recall_happy: 0.9448 - recall_neutral: 0.8309 - recall_sad: 0.7652 - recall_surprise: 0.8985 - val_loss: 1.0975 - val_accuracy: 0.6783 - val_precision: 0.7153 - val_precision_angry: 0.6252 - val_precision_disgust: 0.8312 - val_precision_fear: 0.6062 - val_precision_happy: 0.8758 - val_precision_neutral: 0.6442 - val_precision_sad: 0.6023 - val_precision_surprise: 0.8003 - val_recall: 0.6530 - val_recall_angry: 0.5688 - val_recall_disgust: 0.5079 - val_recall_fear: 0.4448 - val_recall_happy: 0.8698 - val_recall_neutral: 0.6729 - val_recall_sad: 0.4851 - val_recall_surprise: 0.7833 - lr: 1.0000e-04\n",
      "Epoch 28/50\n",
      "740/740 [==============================] - ETA: 0s - loss: 0.3457 - accuracy: 0.8712 - precision: 0.8957 - precision_angry: 0.8829 - precision_disgust: 0.9465 - precision_fear: 0.8519 - precision_happy: 0.9584 - precision_neutral: 0.8650 - precision_sad: 0.8457 - precision_surprise: 0.9245 - recall: 0.8456 - recall_angry: 0.8103 - recall_disgust: 0.9127 - recall_fear: 0.7359 - recall_happy: 0.9493 - recall_neutral: 0.8395 - recall_sad: 0.7738 - recall_surprise: 0.9008\n",
      "Epoch 28: val_loss did not improve from 1.01807\n",
      "740/740 [==============================] - 1062s 1s/step - loss: 0.3457 - accuracy: 0.8712 - precision: 0.8957 - precision_angry: 0.8829 - precision_disgust: 0.9465 - precision_fear: 0.8519 - precision_happy: 0.9584 - precision_neutral: 0.8650 - precision_sad: 0.8457 - precision_surprise: 0.9245 - recall: 0.8456 - recall_angry: 0.8103 - recall_disgust: 0.9127 - recall_fear: 0.7359 - recall_happy: 0.9493 - recall_neutral: 0.8395 - recall_sad: 0.7738 - recall_surprise: 0.9008 - val_loss: 1.1072 - val_accuracy: 0.6770 - val_precision: 0.7127 - val_precision_angry: 0.6245 - val_precision_disgust: 0.7419 - val_precision_fear: 0.5841 - val_precision_happy: 0.8762 - val_precision_neutral: 0.6450 - val_precision_sad: 0.5992 - val_precision_surprise: 0.8254 - val_recall: 0.6493 - val_recall_angry: 0.5773 - val_recall_disgust: 0.5520 - val_recall_fear: 0.4631 - val_recall_happy: 0.8702 - val_recall_neutral: 0.6469 - val_recall_sad: 0.4768 - val_recall_surprise: 0.7614 - lr: 1.0000e-04\n",
      "Epoch 29/50\n",
      "740/740 [==============================] - ETA: 0s - loss: 0.3388 - accuracy: 0.8707 - precision: 0.8955 - precision_angry: 0.8900 - precision_disgust: 0.9455 - precision_fear: 0.8460 - precision_happy: 0.9579 - precision_neutral: 0.8667 - precision_sad: 0.8476 - precision_surprise: 0.9188 - recall: 0.8481 - recall_angry: 0.8159 - recall_disgust: 0.9267 - recall_fear: 0.7430 - recall_happy: 0.9488 - recall_neutral: 0.8445 - recall_sad: 0.7731 - recall_surprise: 0.8990\n",
      "Epoch 29: val_loss did not improve from 1.01807\n",
      "\n",
      "Epoch 29: ReduceLROnPlateau reducing learning rate to 1.0000000474974514e-05.\n",
      "740/740 [==============================] - 1072s 1s/step - loss: 0.3388 - accuracy: 0.8707 - precision: 0.8955 - precision_angry: 0.8900 - precision_disgust: 0.9455 - precision_fear: 0.8460 - precision_happy: 0.9579 - precision_neutral: 0.8667 - precision_sad: 0.8476 - precision_surprise: 0.9188 - recall: 0.8481 - recall_angry: 0.8159 - recall_disgust: 0.9267 - recall_fear: 0.7430 - recall_happy: 0.9488 - recall_neutral: 0.8445 - recall_sad: 0.7731 - recall_surprise: 0.8990 - val_loss: 1.1361 - val_accuracy: 0.6865 - val_precision: 0.7127 - val_precision_angry: 0.6083 - val_precision_disgust: 0.8235 - val_precision_fear: 0.6123 - val_precision_happy: 0.8719 - val_precision_neutral: 0.6592 - val_precision_sad: 0.5878 - val_precision_surprise: 0.8180 - val_recall: 0.6588 - val_recall_angry: 0.5927 - val_recall_disgust: 0.5600 - val_recall_fear: 0.4613 - val_recall_happy: 0.8689 - val_recall_neutral: 0.6415 - val_recall_sad: 0.5253 - val_recall_surprise: 0.7662 - lr: 1.0000e-04\n",
      "Epoch 30/50\n",
      "740/740 [==============================] - ETA: 0s - loss: 0.3116 - accuracy: 0.8850 - precision: 0.9084 - precision_angry: 0.9010 - precision_disgust: 0.9515 - precision_fear: 0.8598 - precision_happy: 0.9626 - precision_neutral: 0.8895 - precision_sad: 0.8629 - precision_surprise: 0.9348 - recall: 0.8615 - recall_angry: 0.8424 - recall_disgust: 0.9345 - recall_fear: 0.7700 - recall_happy: 0.9547 - recall_neutral: 0.8538 - recall_sad: 0.7864 - recall_surprise: 0.9027\n",
      "Epoch 30: val_loss did not improve from 1.01807\n",
      "740/740 [==============================] - 1084s 1s/step - loss: 0.3116 - accuracy: 0.8850 - precision: 0.9084 - precision_angry: 0.9010 - precision_disgust: 0.9515 - precision_fear: 0.8598 - precision_happy: 0.9626 - precision_neutral: 0.8895 - precision_sad: 0.8629 - precision_surprise: 0.9348 - recall: 0.8615 - recall_angry: 0.8424 - recall_disgust: 0.9345 - recall_fear: 0.7700 - recall_happy: 0.9547 - recall_neutral: 0.8538 - recall_sad: 0.7864 - recall_surprise: 0.9027 - val_loss: 1.1225 - val_accuracy: 0.6885 - val_precision: 0.7205 - val_precision_angry: 0.6285 - val_precision_disgust: 0.8488 - val_precision_fear: 0.6024 - val_precision_happy: 0.8811 - val_precision_neutral: 0.6517 - val_precision_sad: 0.6143 - val_precision_surprise: 0.8199 - val_recall: 0.6668 - val_recall_angry: 0.5756 - val_recall_disgust: 0.5794 - val_recall_fear: 0.4749 - val_recall_happy: 0.8745 - val_recall_neutral: 0.6439 - val_recall_sad: 0.5490 - val_recall_surprise: 0.7864 - lr: 1.0000e-05\n",
      "Epoch 31/50\n",
      "740/740 [==============================] - ETA: 0s - loss: 0.3144 - accuracy: 0.8853 - precision: 0.9075 - precision_angry: 0.9088 - precision_disgust: 0.9418 - precision_fear: 0.8669 - precision_happy: 0.9614 - precision_neutral: 0.8807 - precision_sad: 0.8647 - precision_surprise: 0.9245 - recall: 0.8621 - recall_angry: 0.8273 - recall_disgust: 0.9306 - recall_fear: 0.7640 - recall_happy: 0.9563 - recall_neutral: 0.8534 - recall_sad: 0.7990 - recall_surprise: 0.9141\n",
      "Epoch 31: val_loss did not improve from 1.01807\n",
      "740/740 [==============================] - 1072s 1s/step - loss: 0.3144 - accuracy: 0.8853 - precision: 0.9075 - precision_angry: 0.9088 - precision_disgust: 0.9418 - precision_fear: 0.8669 - precision_happy: 0.9614 - precision_neutral: 0.8807 - precision_sad: 0.8647 - precision_surprise: 0.9245 - recall: 0.8621 - recall_angry: 0.8273 - recall_disgust: 0.9306 - recall_fear: 0.7640 - recall_happy: 0.9563 - recall_neutral: 0.8534 - recall_sad: 0.7990 - recall_surprise: 0.9141 - val_loss: 1.1711 - val_accuracy: 0.6766 - val_precision: 0.7042 - val_precision_angry: 0.6279 - val_precision_disgust: 0.7701 - val_precision_fear: 0.5710 - val_precision_happy: 0.8787 - val_precision_neutral: 0.6411 - val_precision_sad: 0.5672 - val_precision_surprise: 0.8217 - val_recall: 0.6496 - val_recall_angry: 0.5665 - val_recall_disgust: 0.5317 - val_recall_fear: 0.4685 - val_recall_happy: 0.8649 - val_recall_neutral: 0.6208 - val_recall_sad: 0.5139 - val_recall_surprise: 0.7717 - lr: 1.0000e-05\n",
      "Epoch 32/50\n",
      "740/740 [==============================] - ETA: 0s - loss: 0.3096 - accuracy: 0.8861 - precision: 0.9080 - precision_angry: 0.9025 - precision_disgust: 0.9371 - precision_fear: 0.8688 - precision_happy: 0.9631 - precision_neutral: 0.8831 - precision_sad: 0.8631 - precision_surprise: 0.9288 - recall: 0.8627 - recall_angry: 0.8386 - recall_disgust: 0.9446 - recall_fear: 0.7655 - recall_happy: 0.9541 - recall_neutral: 0.8538 - recall_sad: 0.7923 - recall_surprise: 0.9144\n",
      "Epoch 32: val_loss did not improve from 1.01807\n",
      "740/740 [==============================] - 978s 1s/step - loss: 0.3096 - accuracy: 0.8861 - precision: 0.9080 - precision_angry: 0.9025 - precision_disgust: 0.9371 - precision_fear: 0.8688 - precision_happy: 0.9631 - precision_neutral: 0.8831 - precision_sad: 0.8631 - precision_surprise: 0.9288 - recall: 0.8627 - recall_angry: 0.8386 - recall_disgust: 0.9446 - recall_fear: 0.7655 - recall_happy: 0.9541 - recall_neutral: 0.8538 - recall_sad: 0.7923 - recall_surprise: 0.9144 - val_loss: 1.1490 - val_accuracy: 0.6851 - val_precision: 0.7099 - val_precision_angry: 0.6303 - val_precision_disgust: 0.7816 - val_precision_fear: 0.5869 - val_precision_happy: 0.8681 - val_precision_neutral: 0.6413 - val_precision_sad: 0.5974 - val_precision_surprise: 0.8274 - val_recall: 0.6569 - val_recall_angry: 0.5795 - val_recall_disgust: 0.5528 - val_recall_fear: 0.4691 - val_recall_happy: 0.8563 - val_recall_neutral: 0.6413 - val_recall_sad: 0.5295 - val_recall_surprise: 0.7796 - lr: 1.0000e-05\n",
      "Epoch 33/50\n",
      "740/740 [==============================] - ETA: 0s - loss: 0.3061 - accuracy: 0.8861 - precision: 0.9076 - precision_angry: 0.8987 - precision_disgust: 0.9190 - precision_fear: 0.8720 - precision_happy: 0.9646 - precision_neutral: 0.8836 - precision_sad: 0.8599 - precision_surprise: 0.9321 - recall: 0.8656 - recall_angry: 0.8383 - recall_disgust: 0.8990 - recall_fear: 0.7703 - recall_happy: 0.9533 - recall_neutral: 0.8649 - recall_sad: 0.7965 - recall_surprise: 0.9223\n",
      "Epoch 33: val_loss did not improve from 1.01807\n",
      "740/740 [==============================] - 1083s 1s/step - loss: 0.3061 - accuracy: 0.8861 - precision: 0.9076 - precision_angry: 0.8987 - precision_disgust: 0.9190 - precision_fear: 0.8720 - precision_happy: 0.9646 - precision_neutral: 0.8836 - precision_sad: 0.8599 - precision_surprise: 0.9321 - recall: 0.8656 - recall_angry: 0.8383 - recall_disgust: 0.8990 - recall_fear: 0.7703 - recall_happy: 0.9533 - recall_neutral: 0.8649 - recall_sad: 0.7965 - recall_surprise: 0.9223 - val_loss: 1.1832 - val_accuracy: 0.6756 - val_precision: 0.7054 - val_precision_angry: 0.6218 - val_precision_disgust: 0.8090 - val_precision_fear: 0.5846 - val_precision_happy: 0.8733 - val_precision_neutral: 0.6373 - val_precision_sad: 0.5873 - val_precision_surprise: 0.8061 - val_recall: 0.6512 - val_recall_angry: 0.5627 - val_recall_disgust: 0.5760 - val_recall_fear: 0.4690 - val_recall_happy: 0.8567 - val_recall_neutral: 0.6442 - val_recall_sad: 0.5139 - val_recall_surprise: 0.7633 - lr: 1.0000e-05\n",
      "Epoch 34/50\n",
      "740/740 [==============================] - ETA: 0s - loss: 0.3100 - accuracy: 0.8846 - precision: 0.9074 - precision_angry: 0.9058 - precision_disgust: 0.9551 - precision_fear: 0.8642 - precision_happy: 0.9618 - precision_neutral: 0.8783 - precision_sad: 0.8648 - precision_surprise: 0.9320 - recall: 0.8641 - recall_angry: 0.8353 - recall_disgust: 0.9267 - recall_fear: 0.7706 - recall_happy: 0.9514 - recall_neutral: 0.8601 - recall_sad: 0.8027 - recall_surprise: 0.9096Restoring model weights from the end of the best epoch: 24.\n",
      "\n",
      "Epoch 34: val_loss did not improve from 1.01807\n",
      "\n",
      "Epoch 34: ReduceLROnPlateau reducing learning rate to 1e-05.\n",
      "740/740 [==============================] - 1074s 1s/step - loss: 0.3100 - accuracy: 0.8846 - precision: 0.9074 - precision_angry: 0.9058 - precision_disgust: 0.9551 - precision_fear: 0.8642 - precision_happy: 0.9618 - precision_neutral: 0.8783 - precision_sad: 0.8648 - precision_surprise: 0.9320 - recall: 0.8641 - recall_angry: 0.8353 - recall_disgust: 0.9267 - recall_fear: 0.7706 - recall_happy: 0.9514 - recall_neutral: 0.8601 - recall_sad: 0.8027 - recall_surprise: 0.9096 - val_loss: 1.1731 - val_accuracy: 0.6855 - val_precision: 0.7131 - val_precision_angry: 0.6139 - val_precision_disgust: 0.8235 - val_precision_fear: 0.5948 - val_precision_happy: 0.8810 - val_precision_neutral: 0.6520 - val_precision_sad: 0.5909 - val_precision_surprise: 0.8279 - val_recall: 0.6586 - val_recall_angry: 0.5720 - val_recall_disgust: 0.5645 - val_recall_fear: 0.4636 - val_recall_happy: 0.8695 - val_recall_neutral: 0.6443 - val_recall_sad: 0.5366 - val_recall_surprise: 0.7652 - lr: 1.0000e-05\n",
      "Epoch 34: early stopping\n"
     ]
    }
   ],
   "source": [
    "import os\n",
    "\n",
    "os.environ['KMP_DUPLICATE_LIB_OK'] = 'True'\n",
    "\n",
    "history = model.fit(\n",
    "    train_generator,\n",
    "    steps_per_epoch=train_generator.n//train_generator.batch_size,\n",
    "    epochs=epochs,\n",
    "    validation_data=validation_generator,\n",
    "    validation_steps=validation_generator.n//validation_generator.batch_size,\n",
    "    callbacks=callbacks_list,\n",
    ")"
   ],
   "metadata": {
    "collapsed": false,
    "pycharm": {
     "name": "#%%\n"
    }
   }
  },
  {
   "cell_type": "markdown",
   "source": [
    "### 7. Evaluation - Test set"
   ],
   "metadata": {
    "collapsed": false,
    "pycharm": {
     "name": "#%% md\n"
    }
   }
  },
  {
   "cell_type": "code",
   "execution_count": 3,
   "outputs": [],
   "source": [
    "from keras.models import load_model\n",
    "\n",
    "model = load_model(\"model_mobilenet_v3_transfer_data_augmentation.h5\")"
   ],
   "metadata": {
    "collapsed": false,
    "pycharm": {
     "name": "#%%\n"
    }
   }
  },
  {
   "cell_type": "code",
   "execution_count": 4,
   "outputs": [
    {
     "name": "stdout",
     "output_type": "stream",
     "text": [
      "Found 7178 images belonging to 7 classes.\n"
     ]
    }
   ],
   "source": [
    "test_data_generator = ImageDataGenerator(preprocessing_function=preprocess_input)\n",
    "\n",
    "test_generator = test_data_generator.flow_from_directory(\n",
    "    DATASET_BASE_TEST_PATH,\n",
    "    target_size=(224, 224),\n",
    "    batch_size=32,\n",
    "    class_mode='categorical',\n",
    "    shuffle=False\n",
    ")"
   ],
   "metadata": {
    "collapsed": false,
    "pycharm": {
     "name": "#%%\n"
    }
   }
  },
  {
   "cell_type": "code",
   "execution_count": 5,
   "outputs": [
    {
     "name": "stdout",
     "output_type": "stream",
     "text": [
      "225/225 [==============================] - 83s 356ms/step - loss: 1.0729 - accuracy: 0.6918 - precision: 0.7235 - precision_angry: 0.6059 - precision_disgust: 0.7639 - precision_fear: 0.6409 - precision_happy: 0.9073 - precision_neutral: 0.6319 - precision_sad: 0.6207 - precision_surprise: 0.8230 - recall: 0.6658 - recall_angry: 0.6211 - recall_disgust: 0.4955 - recall_fear: 0.4131 - recall_happy: 0.8777 - recall_neutral: 0.6821 - recall_sad: 0.5156 - recall_surprise: 0.8002\n"
     ]
    },
    {
     "data": {
      "text/plain": "[1.0728745460510254,\n 0.6918361783027649,\n 0.7235427498817444,\n 0.6059063076972961,\n 0.7638888955116272,\n 0.6409090757369995,\n 0.9073426723480225,\n 0.6318557262420654,\n 0.6206563711166382,\n 0.823019802570343,\n 0.6657843589782715,\n 0.6210855841636658,\n 0.4954954981803894,\n 0.4130859375,\n 0.8776775598526001,\n 0.6820762157440186,\n 0.5156375169754028,\n 0.800240695476532]"
     },
     "execution_count": 5,
     "metadata": {},
     "output_type": "execute_result"
    }
   ],
   "source": [
    "model.evaluate(test_generator)"
   ],
   "metadata": {
    "collapsed": false,
    "pycharm": {
     "name": "#%%\n"
    }
   }
  }
 ],
 "metadata": {
  "kernelspec": {
   "display_name": "Python 3",
   "language": "python",
   "name": "python3"
  },
  "language_info": {
   "codemirror_mode": {
    "name": "ipython",
    "version": 2
   },
   "file_extension": ".py",
   "mimetype": "text/x-python",
   "name": "python",
   "nbconvert_exporter": "python",
   "pygments_lexer": "ipython2",
   "version": "2.7.6"
  }
 },
 "nbformat": 4,
 "nbformat_minor": 0
}