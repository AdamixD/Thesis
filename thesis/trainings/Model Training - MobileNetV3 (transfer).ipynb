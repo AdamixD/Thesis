{
 "cells": [
  {
   "cell_type": "markdown",
   "source": [
    "# Model Training - MobileNetV3 (transfer)"
   ],
   "metadata": {
    "collapsed": false,
    "pycharm": {
     "name": "#%% md\n"
    }
   }
  },
  {
   "cell_type": "markdown",
   "source": [
    "### 0. Imports"
   ],
   "metadata": {
    "collapsed": false,
    "pycharm": {
     "name": "#%% md\n"
    }
   }
  },
  {
   "cell_type": "code",
   "execution_count": 3,
   "outputs": [],
   "source": [
    "import matplotlib.pyplot as plt\n",
    "import tensorflow as tf\n",
    "\n",
    "from keras.applications import MobileNetV3Large\n",
    "from keras.applications.mobilenet_v3 import preprocess_input\n",
    "from keras.callbacks import (\n",
    "    ModelCheckpoint,\n",
    "    EarlyStopping,\n",
    "    ReduceLROnPlateau\n",
    ")\n",
    "from keras.models import Sequential\n",
    "from keras.layers import Dense, GlobalAveragePooling2D\n",
    "from keras.metrics import Precision, Recall\n",
    "from keras.optimizers import Adam\n",
    "from keras.preprocessing.image import ImageDataGenerator\n",
    "from keras.utils.vis_utils import plot_model"
   ],
   "metadata": {
    "collapsed": false,
    "ExecuteTime": {
     "start_time": "2023-06-08T14:04:36.621338Z",
     "end_time": "2023-06-08T14:04:39.977428Z"
    },
    "pycharm": {
     "name": "#%%\n"
    }
   }
  },
  {
   "cell_type": "markdown",
   "source": [
    "### 1. Paths"
   ],
   "metadata": {
    "collapsed": false,
    "pycharm": {
     "name": "#%% md\n"
    }
   }
  },
  {
   "cell_type": "code",
   "execution_count": 4,
   "outputs": [],
   "source": [
    "# DATASET_BASE_TRAIN_PATH = \"/Users/adamdabkowski/DataspellProjects/Praca_dyplomowa/data/train_resized\"\n",
    "# DATASET_BASE_TRAIN_PATH = \"/Users/adamd/DataspellProjects/Facial Expressions Recognition/data/train_resized\"\n",
    "# DATASET_BASE_TRAIN_PATH = \"/Users/adamd/DataspellProjects/Facial Expressions Recognition/data/train_merged\"\n",
    "DATASET_BASE_TRAIN_PATH = \"/Users/adamd/DataspellProjects/Facial Expressions Recognition/data/train_merged_cleaned\"\n",
    "\n",
    "# DATASET_BASE_TRAIN_PATH = \"../new_data\"\n",
    "\n",
    "# DATASET_BASE_TEST_PATH = \"/Users/adamdabkowski/DataspellProjects/Praca_dyplomowa/data/test_resized\"\n",
    "DATASET_BASE_TEST_PATH = \"/Users/adamd/DataspellProjects/Facial Expressions Recognition/data/test_resized\""
   ],
   "metadata": {
    "collapsed": false,
    "ExecuteTime": {
     "start_time": "2023-06-08T14:06:08.298593Z",
     "end_time": "2023-06-08T14:06:08.305288Z"
    },
    "pycharm": {
     "name": "#%%\n"
    }
   }
  },
  {
   "cell_type": "markdown",
   "source": [
    "### 2. Data preprocessing"
   ],
   "metadata": {
    "collapsed": false,
    "pycharm": {
     "name": "#%% md\n"
    }
   }
  },
  {
   "cell_type": "code",
   "execution_count": 3,
   "outputs": [
    {
     "name": "stdout",
     "output_type": "stream",
     "text": [
      "Found 23689 images belonging to 7 classes.\n",
      "Found 5919 images belonging to 7 classes.\n"
     ]
    }
   ],
   "source": [
    "batch_size  = 32\n",
    "img_size = 224\n",
    "\n",
    "train_validation_data_generator = ImageDataGenerator(preprocessing_function=preprocess_input, validation_split=0.2)\n",
    "\n",
    "train_generator = train_validation_data_generator.flow_from_directory(\n",
    "    DATASET_BASE_TRAIN_PATH,\n",
    "    target_size=(img_size,img_size),\n",
    "    batch_size=batch_size,\n",
    "    class_mode='categorical',\n",
    "    color_mode='rgb',\n",
    "    subset='training',\n",
    "    shuffle=True,\n",
    ")\n",
    "\n",
    "validation_generator = train_validation_data_generator.flow_from_directory(\n",
    "    DATASET_BASE_TRAIN_PATH,\n",
    "    target_size=(img_size,img_size),\n",
    "    batch_size=batch_size,\n",
    "    class_mode='categorical',\n",
    "    color_mode='rgb',\n",
    "    subset='validation',\n",
    "    shuffle=True,\n",
    ")"
   ],
   "metadata": {
    "collapsed": false,
    "ExecuteTime": {
     "start_time": "2023-06-08T14:06:12.829138Z",
     "end_time": "2023-06-08T14:06:13.009438Z"
    },
    "pycharm": {
     "name": "#%%\n"
    }
   }
  },
  {
   "cell_type": "markdown",
   "source": [
    "### 5. Model creating"
   ],
   "metadata": {
    "collapsed": false,
    "pycharm": {
     "name": "#%% md\n"
    }
   }
  },
  {
   "cell_type": "code",
   "execution_count": 4,
   "outputs": [],
   "source": [
    "CATEGORIES = [\"angry\", \"disgust\", \"fear\", \"happy\", \"neutral\", \"sad\", \"surprise\"]"
   ],
   "metadata": {
    "collapsed": false,
    "ExecuteTime": {
     "start_time": "2023-06-08T14:06:21.358802Z",
     "end_time": "2023-06-08T14:06:21.367405Z"
    },
    "pycharm": {
     "name": "#%%\n"
    }
   }
  },
  {
   "cell_type": "code",
   "execution_count": 5,
   "outputs": [],
   "source": [
    "checkpoint = ModelCheckpoint(\n",
    "    filepath=\"./model_mobilenet_v3_transfer.h5\",\n",
    "    monitor='val_loss',\n",
    "    verbose=1,\n",
    "    save_best_only=True,\n",
    "    mode='min'\n",
    ")\n",
    "\n",
    "early_stopping = EarlyStopping(\n",
    "    monitor='val_loss',\n",
    "    patience=10,\n",
    "    verbose=1,\n",
    "    restore_best_weights=True,\n",
    ")\n",
    "\n",
    "reduce_learning_rate = ReduceLROnPlateau(\n",
    "    monitor='val_loss',\n",
    "    factor=0.1,\n",
    "    patience=5,\n",
    "    verbose=1,\n",
    "    min_lr=0.00001,\n",
    ")\n",
    "\n",
    "callbacks_list = [early_stopping, checkpoint, reduce_learning_rate]"
   ],
   "metadata": {
    "collapsed": false,
    "ExecuteTime": {
     "start_time": "2023-06-08T14:06:22.501933Z",
     "end_time": "2023-06-08T14:06:22.506101Z"
    },
    "pycharm": {
     "name": "#%%\n"
    }
   }
  },
  {
   "cell_type": "code",
   "execution_count": 6,
   "outputs": [
    {
     "name": "stdout",
     "output_type": "stream",
     "text": [
      "Downloading data from https://storage.googleapis.com/tensorflow/keras-applications/mobilenet_v3/weights_mobilenet_v3_large_224_1.0_float_no_top_v2.h5\n",
      "12683000/12683000 [==============================] - 2s 0us/step\n"
     ]
    }
   ],
   "source": [
    "model = Sequential()\n",
    "\n",
    "base_model = MobileNetV3Large(input_shape=(img_size, img_size, 3), include_top=False, weights='imagenet')\n",
    "model.add(base_model)\n",
    "\n",
    "model.add(GlobalAveragePooling2D())\n",
    "model.add(Dense(512, activation='relu'))\n",
    "model.add(Dense(7, activation='softmax'))"
   ],
   "metadata": {
    "collapsed": false,
    "ExecuteTime": {
     "start_time": "2023-06-08T14:06:33.844245Z",
     "end_time": "2023-06-08T14:06:34.087495Z"
    },
    "pycharm": {
     "name": "#%%\n"
    }
   }
  },
  {
   "cell_type": "code",
   "execution_count": 10,
   "outputs": [
    {
     "name": "stdout",
     "output_type": "stream",
     "text": [
      "Model: \"sequential\"\n",
      "_________________________________________________________________\n",
      " Layer (type)                Output Shape              Param #   \n",
      "=================================================================\n",
      " MobilenetV3large (Functiona  (None, 7, 7, 960)        2996352   \n",
      " l)                                                              \n",
      "                                                                 \n",
      " global_average_pooling2d (G  (None, 960)              0         \n",
      " lobalAveragePooling2D)                                          \n",
      "                                                                 \n",
      " dense (Dense)               (None, 512)               492032    \n",
      "                                                                 \n",
      " dense_1 (Dense)             (None, 7)                 3591      \n",
      "                                                                 \n",
      "=================================================================\n",
      "Total params: 3,491,975\n",
      "Trainable params: 3,467,575\n",
      "Non-trainable params: 24,400\n",
      "_________________________________________________________________\n"
     ]
    }
   ],
   "source": [
    "model.compile(\n",
    "    optimizer=Adam(learning_rate=0.001),\n",
    "    loss='categorical_crossentropy',\n",
    "    metrics=[\n",
    "        'accuracy',\n",
    "        Precision(name='precision'),\n",
    "        Precision(class_id=0, name='precision_angry'),\n",
    "        Precision(class_id=1, name='precision_disgust'),\n",
    "        Precision(class_id=2, name='precision_fear'),\n",
    "        Precision(class_id=3, name='precision_happy'),\n",
    "        Precision(class_id=4, name='precision_neutral'),\n",
    "        Precision(class_id=5, name='precision_sad'),\n",
    "        Precision(class_id=6, name='precision_surprise'),\n",
    "        Recall(name='recall'),\n",
    "        Recall(class_id=0, name='recall_angry'),\n",
    "        Recall(class_id=1, name='recall_disgust'),\n",
    "        Recall(class_id=2, name='recall_fear'),\n",
    "        Recall(class_id=3, name='recall_happy'),\n",
    "        Recall(class_id=4, name='recall_neutral'),\n",
    "        Recall(class_id=5, name='recall_sad'),\n",
    "        Recall(class_id=6, name='recall_surprise'),\n",
    "    ]\n",
    ")\n",
    "model.summary()"
   ],
   "metadata": {
    "collapsed": false,
    "ExecuteTime": {
     "start_time": "2023-06-08T14:08:05.068394Z",
     "end_time": "2023-06-08T14:08:05.102749Z"
    },
    "pycharm": {
     "name": "#%%\n"
    }
   }
  },
  {
   "cell_type": "code",
   "execution_count": 11,
   "outputs": [
    {
     "data": {
      "image/png": "[encoded data removed]",
      "text/plain": "<IPython.core.display.Image object>"
     },
     "execution_count": 11,
     "metadata": {},
     "output_type": "execute_result"
    }
   ],
   "source": [
    "plot_model(model, to_file='model_mobilenet_v3_transfer.png', show_shapes=True, show_layer_names=True)"
   ],
   "metadata": {
    "collapsed": false,
    "pycharm": {
     "name": "#%%\n"
    }
   }
  },
  {
   "cell_type": "markdown",
   "source": [
    "### 6. Model training"
   ],
   "metadata": {
    "collapsed": false,
    "pycharm": {
     "name": "#%% md\n"
    }
   }
  },
  {
   "cell_type": "code",
   "execution_count": 12,
   "outputs": [],
   "source": [
    "epochs = 50"
   ],
   "metadata": {
    "collapsed": false,
    "ExecuteTime": {
     "start_time": "2023-06-08T14:08:06.121000Z",
     "end_time": "2023-06-08T14:08:06.134021Z"
    },
    "pycharm": {
     "name": "#%%\n"
    }
   }
  },
  {
   "cell_type": "code",
   "execution_count": 13,
   "outputs": [
    {
     "name": "stdout",
     "output_type": "stream",
     "text": [
      "Epoch 1/50\n",
      "740/740 [==============================] - ETA: 0s - loss: 1.2008 - accuracy: 0.5563 - precision: 0.7329 - precision_angry: 0.6288 - precision_disgust: 0.6667 - precision_fear: 0.6195 - precision_happy: 0.8434 - precision_neutral: 0.6322 - precision_sad: 0.5675 - precision_surprise: 0.7519 - recall: 0.3694 - recall_angry: 0.2084 - recall_disgust: 0.1109 - recall_fear: 0.1130 - recall_happy: 0.7162 - recall_neutral: 0.3125 - recall_sad: 0.1740 - recall_surprise: 0.5492\n",
      "Epoch 1: val_loss improved from inf to 4.01371, saving model to .\\model_mobilenet_v3_transfer.h5\n",
      "740/740 [==============================] - 1002s 1s/step - loss: 1.2008 - accuracy: 0.5563 - precision: 0.7329 - precision_angry: 0.6288 - precision_disgust: 0.6667 - precision_fear: 0.6195 - precision_happy: 0.8434 - precision_neutral: 0.6322 - precision_sad: 0.5675 - precision_surprise: 0.7519 - recall: 0.3694 - recall_angry: 0.2084 - recall_disgust: 0.1109 - recall_fear: 0.1130 - recall_happy: 0.7162 - recall_neutral: 0.3125 - recall_sad: 0.1740 - recall_surprise: 0.5492 - val_loss: 4.0137 - val_accuracy: 0.3906 - val_precision: 0.4120 - val_precision_angry: 0.3621 - val_precision_disgust: 0.6667 - val_precision_fear: 0.3846 - val_precision_happy: 0.3953 - val_precision_neutral: 0.4775 - val_precision_sad: 0.8333 - val_precision_surprise: 0.4340 - val_recall: 0.3713 - val_recall_angry: 0.1786 - val_recall_disgust: 0.0160 - val_recall_fear: 0.0060 - val_recall_happy: 0.9032 - val_recall_neutral: 0.4195 - val_recall_sad: 0.0052 - val_recall_surprise: 0.4307 - lr: 0.0010\n",
      "Epoch 2/50\n",
      "740/740 [==============================] - ETA: 0s - loss: 0.9519 - accuracy: 0.6443 - precision: 0.7596 - precision_angry: 0.6993 - precision_disgust: 0.6816 - precision_fear: 0.6669 - precision_happy: 0.8830 - precision_neutral: 0.6732 - precision_sad: 0.6306 - precision_surprise: 0.7843 - recall: 0.5113 - recall_angry: 0.3879 - recall_disgust: 0.3010 - recall_fear: 0.2455 - recall_happy: 0.8348 - recall_neutral: 0.4600 - recall_sad: 0.3261 - recall_surprise: 0.6743\n",
      "Epoch 2: val_loss improved from 4.01371 to 1.58411, saving model to .\\model_mobilenet_v3_transfer.h5\n",
      "740/740 [==============================] - 996s 1s/step - loss: 0.9519 - accuracy: 0.6443 - precision: 0.7596 - precision_angry: 0.6993 - precision_disgust: 0.6816 - precision_fear: 0.6669 - precision_happy: 0.8830 - precision_neutral: 0.6732 - precision_sad: 0.6306 - precision_surprise: 0.7843 - recall: 0.5113 - recall_angry: 0.3879 - recall_disgust: 0.3010 - recall_fear: 0.2455 - recall_happy: 0.8348 - recall_neutral: 0.4600 - recall_sad: 0.3261 - recall_surprise: 0.6743 - val_loss: 1.5841 - val_accuracy: 0.5172 - val_precision: 0.5785 - val_precision_angry: 0.7326 - val_precision_disgust: 0.0000e+00 - val_precision_fear: 0.4444 - val_precision_happy: 0.7893 - val_precision_neutral: 0.6133 - val_precision_sad: 0.3561 - val_precision_surprise: 0.6006 - val_recall: 0.4387 - val_recall_angry: 0.1537 - val_recall_disgust: 0.0000e+00 - val_recall_fear: 0.0812 - val_recall_happy: 0.7328 - val_recall_neutral: 0.3561 - val_recall_sad: 0.5450 - val_recall_surprise: 0.6470 - lr: 0.0010\n",
      "Epoch 3/50\n",
      "740/740 [==============================] - ETA: 0s - loss: 0.8307 - accuracy: 0.6954 - precision: 0.7881 - precision_angry: 0.7434 - precision_disgust: 0.7829 - precision_fear: 0.6959 - precision_happy: 0.9014 - precision_neutral: 0.7221 - precision_sad: 0.6824 - precision_surprise: 0.8196 - recall: 0.5925 - recall_angry: 0.5024 - recall_disgust: 0.4713 - recall_fear: 0.3389 - recall_happy: 0.8668 - recall_neutral: 0.5589 - recall_sad: 0.4247 - recall_surprise: 0.7383\n",
      "Epoch 3: val_loss did not improve from 1.58411\n",
      "740/740 [==============================] - 1014s 1s/step - loss: 0.8307 - accuracy: 0.6954 - precision: 0.7881 - precision_angry: 0.7434 - precision_disgust: 0.7829 - precision_fear: 0.6959 - precision_happy: 0.9014 - precision_neutral: 0.7221 - precision_sad: 0.6824 - precision_surprise: 0.8196 - recall: 0.5925 - recall_angry: 0.5024 - recall_disgust: 0.4713 - recall_fear: 0.3389 - recall_happy: 0.8668 - recall_neutral: 0.5589 - recall_sad: 0.4247 - recall_surprise: 0.7383 - val_loss: 3.7579 - val_accuracy: 0.3271 - val_precision: 0.3444 - val_precision_angry: 0.5078 - val_precision_disgust: 0.3333 - val_precision_fear: 0.1939 - val_precision_happy: 0.8019 - val_precision_neutral: 0.6700 - val_precision_sad: 0.5000 - val_precision_surprise: 0.4318 - val_recall: 0.2575 - val_recall_angry: 0.1598 - val_recall_disgust: 0.0159 - val_recall_fear: 0.6543 - val_recall_happy: 0.3504 - val_recall_neutral: 0.0663 - val_recall_sad: 0.0474 - val_recall_surprise: 0.3176 - lr: 0.0010\n",
      "Epoch 4/50\n",
      "740/740 [==============================] - ETA: 0s - loss: 0.7312 - accuracy: 0.7311 - precision: 0.8094 - precision_angry: 0.7700 - precision_disgust: 0.7962 - precision_fear: 0.7412 - precision_happy: 0.9146 - precision_neutral: 0.7552 - precision_sad: 0.7091 - precision_surprise: 0.8473 - recall: 0.6504 - recall_angry: 0.5692 - recall_disgust: 0.5802 - recall_fear: 0.4191 - recall_happy: 0.8910 - recall_neutral: 0.6201 - recall_sad: 0.5140 - recall_surprise: 0.7716\n",
      "Epoch 4: val_loss did not improve from 1.58411\n",
      "740/740 [==============================] - 1032s 1s/step - loss: 0.7312 - accuracy: 0.7311 - precision: 0.8094 - precision_angry: 0.7700 - precision_disgust: 0.7962 - precision_fear: 0.7412 - precision_happy: 0.9146 - precision_neutral: 0.7552 - precision_sad: 0.7091 - precision_surprise: 0.8473 - recall: 0.6504 - recall_angry: 0.5692 - recall_disgust: 0.5802 - recall_fear: 0.4191 - recall_happy: 0.8910 - recall_neutral: 0.6201 - recall_sad: 0.5140 - recall_surprise: 0.7716 - val_loss: 6.6336 - val_accuracy: 0.3025 - val_precision: 0.3155 - val_precision_angry: 0.7059 - val_precision_disgust: 1.0000 - val_precision_fear: 0.3519 - val_precision_happy: 0.7364 - val_precision_neutral: 0.4142 - val_precision_sad: 0.5238 - val_precision_surprise: 0.1888 - val_recall: 0.2872 - val_recall_angry: 0.0146 - val_recall_disgust: 0.0238 - val_recall_fear: 0.0226 - val_recall_happy: 0.3253 - val_recall_neutral: 0.5307 - val_recall_sad: 0.0227 - val_recall_surprise: 0.9426 - lr: 0.0010\n",
      "Epoch 5/50\n",
      "740/740 [==============================] - ETA: 0s - loss: 0.6331 - accuracy: 0.7664 - precision: 0.8271 - precision_angry: 0.7988 - precision_disgust: 0.8518 - precision_fear: 0.7493 - precision_happy: 0.9234 - precision_neutral: 0.7866 - precision_sad: 0.7489 - precision_surprise: 0.8546 - recall: 0.7068 - recall_angry: 0.6383 - recall_disgust: 0.6726 - recall_fear: 0.5064 - recall_happy: 0.9080 - recall_neutral: 0.6882 - recall_sad: 0.5904 - recall_surprise: 0.8063\n",
      "Epoch 5: val_loss did not improve from 1.58411\n",
      "740/740 [==============================] - 1042s 1s/step - loss: 0.6331 - accuracy: 0.7664 - precision: 0.8271 - precision_angry: 0.7988 - precision_disgust: 0.8518 - precision_fear: 0.7493 - precision_happy: 0.9234 - precision_neutral: 0.7866 - precision_sad: 0.7489 - precision_surprise: 0.8546 - recall: 0.7068 - recall_angry: 0.6383 - recall_disgust: 0.6726 - recall_fear: 0.5064 - recall_happy: 0.9080 - recall_neutral: 0.6882 - recall_sad: 0.5904 - recall_surprise: 0.8063 - val_loss: 2.7590 - val_accuracy: 0.4219 - val_precision: 0.4648 - val_precision_angry: 0.2532 - val_precision_disgust: 0.0000e+00 - val_precision_fear: 0.2667 - val_precision_happy: 0.7950 - val_precision_neutral: 0.4216 - val_precision_sad: 0.4107 - val_precision_surprise: 0.7047 - val_recall: 0.3696 - val_recall_angry: 0.1455 - val_recall_disgust: 0.0000e+00 - val_recall_fear: 0.2518 - val_recall_happy: 0.4842 - val_recall_neutral: 0.4857 - val_recall_sad: 0.4514 - val_recall_surprise: 0.3167 - lr: 0.0010\n",
      "Epoch 6/50\n",
      "740/740 [==============================] - ETA: 0s - loss: 0.5461 - accuracy: 0.7979 - precision: 0.8420 - precision_angry: 0.8216 - precision_disgust: 0.8474 - precision_fear: 0.7747 - precision_happy: 0.9332 - precision_neutral: 0.8060 - precision_sad: 0.7683 - precision_surprise: 0.8724 - recall: 0.7522 - recall_angry: 0.7004 - recall_disgust: 0.7191 - recall_fear: 0.5835 - recall_happy: 0.9187 - recall_neutral: 0.7493 - recall_sad: 0.6482 - recall_surprise: 0.8253\n",
      "Epoch 6: val_loss did not improve from 1.58411\n",
      "740/740 [==============================] - 1026s 1s/step - loss: 0.5461 - accuracy: 0.7979 - precision: 0.8420 - precision_angry: 0.8216 - precision_disgust: 0.8474 - precision_fear: 0.7747 - precision_happy: 0.9332 - precision_neutral: 0.8060 - precision_sad: 0.7683 - precision_surprise: 0.8724 - recall: 0.7522 - recall_angry: 0.7004 - recall_disgust: 0.7191 - recall_fear: 0.5835 - recall_happy: 0.9187 - recall_neutral: 0.7493 - recall_sad: 0.6482 - recall_surprise: 0.8253 - val_loss: 8.0895 - val_accuracy: 0.3395 - val_precision: 0.3536 - val_precision_angry: 0.1465 - val_precision_disgust: 0.0000e+00 - val_precision_fear: 0.2709 - val_precision_happy: 0.6089 - val_precision_neutral: 0.4125 - val_precision_sad: 0.3355 - val_precision_surprise: 0.7179 - val_recall: 0.3042 - val_recall_angry: 0.2534 - val_recall_disgust: 0.0000e+00 - val_recall_fear: 0.2434 - val_recall_happy: 0.3841 - val_recall_neutral: 0.2537 - val_recall_sad: 0.3708 - val_recall_surprise: 0.3045 - lr: 0.0010\n",
      "Epoch 7/50\n",
      "740/740 [==============================] - ETA: 0s - loss: 0.4480 - accuracy: 0.8360 - precision: 0.8691 - precision_angry: 0.8522 - precision_disgust: 0.8643 - precision_fear: 0.8041 - precision_happy: 0.9458 - precision_neutral: 0.8530 - precision_sad: 0.8103 - precision_surprise: 0.8879 - recall: 0.8031 - recall_angry: 0.7686 - recall_disgust: 0.7837 - recall_fear: 0.6473 - recall_happy: 0.9404 - recall_neutral: 0.8049 - recall_sad: 0.7259 - recall_surprise: 0.8534\n",
      "Epoch 7: val_loss did not improve from 1.58411\n",
      "\n",
      "Epoch 7: ReduceLROnPlateau reducing learning rate to 0.00010000000474974513.\n",
      "740/740 [==============================] - 1007s 1s/step - loss: 0.4480 - accuracy: 0.8360 - precision: 0.8691 - precision_angry: 0.8522 - precision_disgust: 0.8643 - precision_fear: 0.8041 - precision_happy: 0.9458 - precision_neutral: 0.8530 - precision_sad: 0.8103 - precision_surprise: 0.8879 - recall: 0.8031 - recall_angry: 0.7686 - recall_disgust: 0.7837 - recall_fear: 0.6473 - recall_happy: 0.9404 - recall_neutral: 0.8049 - recall_sad: 0.7259 - recall_surprise: 0.8534 - val_loss: 2.3832 - val_accuracy: 0.3913 - val_precision: 0.4303 - val_precision_angry: 0.6970 - val_precision_disgust: 0.0000e+00 - val_precision_fear: 0.2845 - val_precision_happy: 0.4655 - val_precision_neutral: 0.6121 - val_precision_sad: 0.4361 - val_precision_surprise: 0.4851 - val_recall: 0.3448 - val_recall_angry: 0.0280 - val_recall_disgust: 0.0000e+00 - val_recall_fear: 0.3702 - val_recall_happy: 0.8393 - val_recall_neutral: 0.0997 - val_recall_sad: 0.1445 - val_recall_surprise: 0.3470 - lr: 0.0010\n",
      "Epoch 8/50\n",
      "740/740 [==============================] - ETA: 0s - loss: 0.1959 - accuracy: 0.9338 - precision: 0.9479 - precision_angry: 0.9473 - precision_disgust: 0.9605 - precision_fear: 0.9163 - precision_happy: 0.9747 - precision_neutral: 0.9519 - precision_sad: 0.9254 - precision_surprise: 0.9499 - recall: 0.9210 - recall_angry: 0.9110 - recall_disgust: 0.9149 - recall_fear: 0.8516 - recall_happy: 0.9774 - recall_neutral: 0.9264 - recall_sad: 0.8893 - recall_surprise: 0.9363\n",
      "Epoch 8: val_loss improved from 1.58411 to 1.41809, saving model to .\\model_mobilenet_v3_transfer.h5\n",
      "740/740 [==============================] - 999s 1s/step - loss: 0.1959 - accuracy: 0.9338 - precision: 0.9479 - precision_angry: 0.9473 - precision_disgust: 0.9605 - precision_fear: 0.9163 - precision_happy: 0.9747 - precision_neutral: 0.9519 - precision_sad: 0.9254 - precision_surprise: 0.9499 - recall: 0.9210 - recall_angry: 0.9110 - recall_disgust: 0.9149 - recall_fear: 0.8516 - recall_happy: 0.9774 - recall_neutral: 0.9264 - recall_sad: 0.8893 - recall_surprise: 0.9363 - val_loss: 1.4181 - val_accuracy: 0.6432 - val_precision: 0.6644 - val_precision_angry: 0.5923 - val_precision_disgust: 0.7531 - val_precision_fear: 0.4902 - val_precision_happy: 0.8083 - val_precision_neutral: 0.6197 - val_precision_sad: 0.5509 - val_precision_surprise: 0.8563 - val_recall: 0.6267 - val_recall_angry: 0.5104 - val_recall_disgust: 0.4841 - val_recall_fear: 0.5054 - val_recall_happy: 0.8870 - val_recall_neutral: 0.5792 - val_recall_sad: 0.4752 - val_recall_surprise: 0.6672 - lr: 1.0000e-04\n",
      "Epoch 9/50\n",
      "740/740 [==============================] - ETA: 0s - loss: 0.0956 - accuracy: 0.9686 - precision: 0.9724 - precision_angry: 0.9761 - precision_disgust: 0.9626 - precision_fear: 0.9536 - precision_happy: 0.9891 - precision_neutral: 0.9770 - precision_sad: 0.9590 - precision_surprise: 0.9686 - recall: 0.9648 - recall_angry: 0.9657 - recall_disgust: 0.9683 - recall_fear: 0.9276 - recall_happy: 0.9884 - recall_neutral: 0.9737 - recall_sad: 0.9501 - recall_surprise: 0.9656\n",
      "Epoch 9: val_loss did not improve from 1.41809\n",
      "740/740 [==============================] - 992s 1s/step - loss: 0.0956 - accuracy: 0.9686 - precision: 0.9724 - precision_angry: 0.9761 - precision_disgust: 0.9626 - precision_fear: 0.9536 - precision_happy: 0.9891 - precision_neutral: 0.9770 - precision_sad: 0.9590 - precision_surprise: 0.9686 - recall: 0.9648 - recall_angry: 0.9657 - recall_disgust: 0.9683 - recall_fear: 0.9276 - recall_happy: 0.9884 - recall_neutral: 0.9737 - recall_sad: 0.9501 - recall_surprise: 0.9656 - val_loss: 1.5228 - val_accuracy: 0.6607 - val_precision: 0.6761 - val_precision_angry: 0.6070 - val_precision_disgust: 0.8472 - val_precision_fear: 0.5296 - val_precision_happy: 0.8457 - val_precision_neutral: 0.6181 - val_precision_sad: 0.5516 - val_precision_surprise: 0.7807 - val_recall: 0.6478 - val_recall_angry: 0.5537 - val_recall_disgust: 0.4841 - val_recall_fear: 0.4910 - val_recall_happy: 0.8741 - val_recall_neutral: 0.6016 - val_recall_sad: 0.5165 - val_recall_surprise: 0.7572 - lr: 1.0000e-04\n",
      "Epoch 10/50\n",
      "740/740 [==============================] - ETA: 0s - loss: 0.0529 - accuracy: 0.9838 - precision: 0.9857 - precision_angry: 0.9896 - precision_disgust: 0.9743 - precision_fear: 0.9791 - precision_happy: 0.9951 - precision_neutral: 0.9913 - precision_sad: 0.9761 - precision_surprise: 0.9764 - recall: 0.9821 - recall_angry: 0.9860 - recall_disgust: 0.9743 - recall_fear: 0.9609 - recall_happy: 0.9935 - recall_neutral: 0.9862 - recall_sad: 0.9769 - recall_surprise: 0.9819\n",
      "Epoch 10: val_loss did not improve from 1.41809\n",
      "740/740 [==============================] - 1016s 1s/step - loss: 0.0529 - accuracy: 0.9838 - precision: 0.9857 - precision_angry: 0.9896 - precision_disgust: 0.9743 - precision_fear: 0.9791 - precision_happy: 0.9951 - precision_neutral: 0.9913 - precision_sad: 0.9761 - precision_surprise: 0.9764 - recall: 0.9821 - recall_angry: 0.9860 - recall_disgust: 0.9743 - recall_fear: 0.9609 - recall_happy: 0.9935 - recall_neutral: 0.9862 - recall_sad: 0.9769 - recall_surprise: 0.9819 - val_loss: 1.7805 - val_accuracy: 0.6620 - val_precision: 0.6752 - val_precision_angry: 0.6080 - val_precision_disgust: 0.7976 - val_precision_fear: 0.5150 - val_precision_happy: 0.8525 - val_precision_neutral: 0.6416 - val_precision_sad: 0.5414 - val_precision_surprise: 0.7968 - val_recall: 0.6549 - val_recall_angry: 0.5568 - val_recall_disgust: 0.5317 - val_recall_fear: 0.5125 - val_recall_happy: 0.8694 - val_recall_neutral: 0.5826 - val_recall_sad: 0.5648 - val_recall_surprise: 0.7485 - lr: 1.0000e-04\n",
      "Epoch 11/50\n",
      "740/740 [==============================] - ETA: 0s - loss: 0.0379 - accuracy: 0.9888 - precision: 0.9895 - precision_angry: 0.9918 - precision_disgust: 0.9667 - precision_fear: 0.9818 - precision_happy: 0.9966 - precision_neutral: 0.9936 - precision_sad: 0.9876 - precision_surprise: 0.9819 - recall: 0.9880 - recall_angry: 0.9906 - recall_disgust: 0.9782 - recall_fear: 0.9786 - recall_happy: 0.9944 - recall_neutral: 0.9941 - recall_sad: 0.9836 - recall_surprise: 0.9819\n",
      "Epoch 11: val_loss did not improve from 1.41809\n",
      "740/740 [==============================] - 1033s 1s/step - loss: 0.0379 - accuracy: 0.9888 - precision: 0.9895 - precision_angry: 0.9918 - precision_disgust: 0.9667 - precision_fear: 0.9818 - precision_happy: 0.9966 - precision_neutral: 0.9936 - precision_sad: 0.9876 - precision_surprise: 0.9819 - recall: 0.9880 - recall_angry: 0.9906 - recall_disgust: 0.9782 - recall_fear: 0.9786 - recall_happy: 0.9944 - recall_neutral: 0.9941 - recall_sad: 0.9836 - recall_surprise: 0.9819 - val_loss: 2.0100 - val_accuracy: 0.6634 - val_precision: 0.6713 - val_precision_angry: 0.6158 - val_precision_disgust: 0.7738 - val_precision_fear: 0.5018 - val_precision_happy: 0.8516 - val_precision_neutral: 0.6541 - val_precision_sad: 0.5223 - val_precision_surprise: 0.7918 - val_recall: 0.6556 - val_recall_angry: 0.5526 - val_recall_disgust: 0.5200 - val_recall_fear: 0.5036 - val_recall_happy: 0.8737 - val_recall_neutral: 0.5833 - val_recall_sad: 0.5658 - val_recall_surprise: 0.7606 - lr: 1.0000e-04\n",
      "Epoch 12/50\n",
      "740/740 [==============================] - ETA: 0s - loss: 0.0297 - accuracy: 0.9915 - precision: 0.9918 - precision_angry: 0.9948 - precision_disgust: 0.9743 - precision_fear: 0.9875 - precision_happy: 0.9963 - precision_neutral: 0.9953 - precision_sad: 0.9897 - precision_surprise: 0.9849 - recall: 0.9908 - recall_angry: 0.9924 - recall_disgust: 0.9743 - recall_fear: 0.9840 - recall_happy: 0.9961 - recall_neutral: 0.9938 - recall_sad: 0.9905 - recall_surprise: 0.9845\n",
      "Epoch 12: val_loss did not improve from 1.41809\n",
      "740/740 [==============================] - 1059s 1s/step - loss: 0.0297 - accuracy: 0.9915 - precision: 0.9918 - precision_angry: 0.9948 - precision_disgust: 0.9743 - precision_fear: 0.9875 - precision_happy: 0.9963 - precision_neutral: 0.9953 - precision_sad: 0.9897 - precision_surprise: 0.9849 - recall: 0.9908 - recall_angry: 0.9924 - recall_disgust: 0.9743 - recall_fear: 0.9840 - recall_happy: 0.9961 - recall_neutral: 0.9938 - recall_sad: 0.9905 - recall_surprise: 0.9845 - val_loss: 2.1425 - val_accuracy: 0.6676 - val_precision: 0.6753 - val_precision_angry: 0.5786 - val_precision_disgust: 0.7887 - val_precision_fear: 0.5551 - val_precision_happy: 0.8502 - val_precision_neutral: 0.6095 - val_precision_sad: 0.5489 - val_precision_surprise: 0.8093 - val_recall: 0.6619 - val_recall_angry: 0.6034 - val_recall_disgust: 0.4516 - val_recall_fear: 0.4738 - val_recall_happy: 0.8758 - val_recall_neutral: 0.6479 - val_recall_sad: 0.5217 - val_recall_surprise: 0.7652 - lr: 1.0000e-04\n",
      "Epoch 13/50\n",
      "740/740 [==============================] - ETA: 0s - loss: 0.0237 - accuracy: 0.9925 - precision: 0.9926 - precision_angry: 0.9936 - precision_disgust: 0.9744 - precision_fear: 0.9867 - precision_happy: 0.9966 - precision_neutral: 0.9961 - precision_sad: 0.9925 - precision_surprise: 0.9886 - recall: 0.9923 - recall_angry: 0.9948 - recall_disgust: 0.9802 - recall_fear: 0.9878 - recall_happy: 0.9971 - recall_neutral: 0.9966 - recall_sad: 0.9892 - recall_surprise: 0.9842\n",
      "Epoch 13: val_loss did not improve from 1.41809\n",
      "\n",
      "Epoch 13: ReduceLROnPlateau reducing learning rate to 1.0000000474974514e-05.\n",
      "740/740 [==============================] - 1013s 1s/step - loss: 0.0237 - accuracy: 0.9925 - precision: 0.9926 - precision_angry: 0.9936 - precision_disgust: 0.9744 - precision_fear: 0.9867 - precision_happy: 0.9966 - precision_neutral: 0.9961 - precision_sad: 0.9925 - precision_surprise: 0.9886 - recall: 0.9923 - recall_angry: 0.9948 - recall_disgust: 0.9802 - recall_fear: 0.9878 - recall_happy: 0.9971 - recall_neutral: 0.9966 - recall_sad: 0.9892 - recall_surprise: 0.9842 - val_loss: 2.2307 - val_accuracy: 0.6680 - val_precision: 0.6755 - val_precision_angry: 0.6224 - val_precision_disgust: 0.8049 - val_precision_fear: 0.5219 - val_precision_happy: 0.8718 - val_precision_neutral: 0.6213 - val_precision_sad: 0.5359 - val_precision_surprise: 0.7750 - val_recall: 0.6629 - val_recall_angry: 0.5460 - val_recall_disgust: 0.5280 - val_recall_fear: 0.5244 - val_recall_happy: 0.8623 - val_recall_neutral: 0.6213 - val_recall_sad: 0.5548 - val_recall_surprise: 0.7879 - lr: 1.0000e-04\n",
      "Epoch 14/50\n",
      "740/740 [==============================] - ETA: 0s - loss: 0.0177 - accuracy: 0.9944 - precision: 0.9947 - precision_angry: 0.9964 - precision_disgust: 0.9803 - precision_fear: 0.9961 - precision_happy: 0.9990 - precision_neutral: 0.9966 - precision_sad: 0.9941 - precision_surprise: 0.9821 - recall: 0.9943 - recall_angry: 0.9957 - recall_disgust: 0.9842 - recall_fear: 0.9867 - recall_happy: 0.9961 - recall_neutral: 0.9978 - recall_sad: 0.9938 - recall_surprise: 0.9951\n",
      "Epoch 14: val_loss did not improve from 1.41809\n",
      "740/740 [==============================] - 1006s 1s/step - loss: 0.0177 - accuracy: 0.9944 - precision: 0.9947 - precision_angry: 0.9964 - precision_disgust: 0.9803 - precision_fear: 0.9961 - precision_happy: 0.9990 - precision_neutral: 0.9966 - precision_sad: 0.9941 - precision_surprise: 0.9821 - recall: 0.9943 - recall_angry: 0.9957 - recall_disgust: 0.9842 - recall_fear: 0.9867 - recall_happy: 0.9961 - recall_neutral: 0.9978 - recall_sad: 0.9938 - recall_surprise: 0.9951 - val_loss: 2.2993 - val_accuracy: 0.6669 - val_precision: 0.6724 - val_precision_angry: 0.6000 - val_precision_disgust: 0.8000 - val_precision_fear: 0.5240 - val_precision_happy: 0.8659 - val_precision_neutral: 0.6286 - val_precision_sad: 0.5289 - val_precision_surprise: 0.7925 - val_recall: 0.6624 - val_recall_angry: 0.5584 - val_recall_disgust: 0.5079 - val_recall_fear: 0.5197 - val_recall_happy: 0.8694 - val_recall_neutral: 0.6099 - val_recall_sad: 0.5666 - val_recall_surprise: 0.7648 - lr: 1.0000e-05\n",
      "Epoch 15/50\n",
      "740/740 [==============================] - ETA: 0s - loss: 0.0150 - accuracy: 0.9948 - precision: 0.9953 - precision_angry: 0.9967 - precision_disgust: 0.9822 - precision_fear: 0.9955 - precision_happy: 0.9988 - precision_neutral: 0.9975 - precision_sad: 0.9967 - precision_surprise: 0.9828 - recall: 0.9946 - recall_angry: 0.9961 - recall_disgust: 0.9842 - recall_fear: 0.9884 - recall_happy: 0.9958 - recall_neutral: 0.9985 - recall_sad: 0.9954 - recall_surprise: 0.9928\n",
      "Epoch 15: val_loss did not improve from 1.41809\n",
      "740/740 [==============================] - 992s 1s/step - loss: 0.0150 - accuracy: 0.9948 - precision: 0.9953 - precision_angry: 0.9967 - precision_disgust: 0.9822 - precision_fear: 0.9955 - precision_happy: 0.9988 - precision_neutral: 0.9975 - precision_sad: 0.9967 - precision_surprise: 0.9828 - recall: 0.9946 - recall_angry: 0.9961 - recall_disgust: 0.9842 - recall_fear: 0.9884 - recall_happy: 0.9958 - recall_neutral: 0.9985 - recall_sad: 0.9954 - recall_surprise: 0.9928 - val_loss: 2.3353 - val_accuracy: 0.6683 - val_precision: 0.6730 - val_precision_angry: 0.5944 - val_precision_disgust: 0.7901 - val_precision_fear: 0.5248 - val_precision_happy: 0.8645 - val_precision_neutral: 0.6293 - val_precision_sad: 0.5360 - val_precision_surprise: 0.7922 - val_recall: 0.6634 - val_recall_angry: 0.5646 - val_recall_disgust: 0.5079 - val_recall_fear: 0.5173 - val_recall_happy: 0.8681 - val_recall_neutral: 0.6113 - val_recall_sad: 0.5669 - val_recall_surprise: 0.7693 - lr: 1.0000e-05\n",
      "Epoch 16/50\n",
      "740/740 [==============================] - ETA: 0s - loss: 0.0136 - accuracy: 0.9945 - precision: 0.9948 - precision_angry: 0.9973 - precision_disgust: 0.9841 - precision_fear: 0.9931 - precision_happy: 0.9983 - precision_neutral: 0.9978 - precision_sad: 0.9946 - precision_surprise: 0.9843 - recall: 0.9943 - recall_angry: 0.9964 - recall_disgust: 0.9841 - recall_fear: 0.9887 - recall_happy: 0.9954 - recall_neutral: 0.9978 - recall_sad: 0.9954 - recall_surprise: 0.9910\n",
      "Epoch 16: val_loss did not improve from 1.41809\n",
      "740/740 [==============================] - 998s 1s/step - loss: 0.0136 - accuracy: 0.9945 - precision: 0.9948 - precision_angry: 0.9973 - precision_disgust: 0.9841 - precision_fear: 0.9931 - precision_happy: 0.9983 - precision_neutral: 0.9978 - precision_sad: 0.9946 - precision_surprise: 0.9843 - recall: 0.9943 - recall_angry: 0.9964 - recall_disgust: 0.9841 - recall_fear: 0.9887 - recall_happy: 0.9954 - recall_neutral: 0.9978 - recall_sad: 0.9954 - recall_surprise: 0.9910 - val_loss: 2.3754 - val_accuracy: 0.6658 - val_precision: 0.6717 - val_precision_angry: 0.5865 - val_precision_disgust: 0.7529 - val_precision_fear: 0.5254 - val_precision_happy: 0.8661 - val_precision_neutral: 0.6276 - val_precision_sad: 0.5355 - val_precision_surprise: 0.7910 - val_recall: 0.6625 - val_recall_angry: 0.5629 - val_recall_disgust: 0.5079 - val_recall_fear: 0.5072 - val_recall_happy: 0.8673 - val_recall_neutral: 0.6146 - val_recall_sad: 0.5669 - val_recall_surprise: 0.7731 - lr: 1.0000e-05\n",
      "Epoch 17/50\n",
      "740/740 [==============================] - ETA: 0s - loss: 0.0126 - accuracy: 0.9951 - precision: 0.9954 - precision_angry: 0.9973 - precision_disgust: 0.9803 - precision_fear: 0.9935 - precision_happy: 0.9980 - precision_neutral: 0.9980 - precision_sad: 0.9972 - precision_surprise: 0.9865 - recall: 0.9949 - recall_angry: 0.9961 - recall_disgust: 0.9861 - recall_fear: 0.9902 - recall_happy: 0.9966 - recall_neutral: 0.9990 - recall_sad: 0.9954 - recall_surprise: 0.9906\n",
      "Epoch 17: val_loss did not improve from 1.41809\n",
      "740/740 [==============================] - 1014s 1s/step - loss: 0.0126 - accuracy: 0.9951 - precision: 0.9954 - precision_angry: 0.9973 - precision_disgust: 0.9803 - precision_fear: 0.9935 - precision_happy: 0.9980 - precision_neutral: 0.9980 - precision_sad: 0.9972 - precision_surprise: 0.9865 - recall: 0.9949 - recall_angry: 0.9961 - recall_disgust: 0.9861 - recall_fear: 0.9902 - recall_happy: 0.9966 - recall_neutral: 0.9990 - recall_sad: 0.9954 - recall_surprise: 0.9906 - val_loss: 2.4163 - val_accuracy: 0.6685 - val_precision: 0.6738 - val_precision_angry: 0.5893 - val_precision_disgust: 0.7738 - val_precision_fear: 0.5291 - val_precision_happy: 0.8634 - val_precision_neutral: 0.6334 - val_precision_sad: 0.5353 - val_precision_surprise: 0.7926 - val_recall: 0.6642 - val_recall_angry: 0.5648 - val_recall_disgust: 0.5200 - val_recall_fear: 0.5102 - val_recall_happy: 0.8717 - val_recall_neutral: 0.6083 - val_recall_sad: 0.5695 - val_recall_surprise: 0.7746 - lr: 1.0000e-05\n",
      "Epoch 18/50\n",
      "740/740 [==============================] - ETA: 0s - loss: 0.0114 - accuracy: 0.9952 - precision: 0.9955 - precision_angry: 0.9973 - precision_disgust: 0.9803 - precision_fear: 0.9958 - precision_happy: 0.9969 - precision_neutral: 0.9980 - precision_sad: 0.9972 - precision_surprise: 0.9865 - recall: 0.9948 - recall_angry: 0.9967 - recall_disgust: 0.9842 - recall_fear: 0.9908 - recall_happy: 0.9971 - recall_neutral: 0.9980 - recall_sad: 0.9951 - recall_surprise: 0.9894Restoring model weights from the end of the best epoch: 8.\n",
      "\n",
      "Epoch 18: val_loss did not improve from 1.41809\n",
      "\n",
      "Epoch 18: ReduceLROnPlateau reducing learning rate to 1e-05.\n",
      "740/740 [==============================] - 1042s 1s/step - loss: 0.0114 - accuracy: 0.9952 - precision: 0.9955 - precision_angry: 0.9973 - precision_disgust: 0.9803 - precision_fear: 0.9958 - precision_happy: 0.9969 - precision_neutral: 0.9980 - precision_sad: 0.9972 - precision_surprise: 0.9865 - recall: 0.9948 - recall_angry: 0.9967 - recall_disgust: 0.9842 - recall_fear: 0.9908 - recall_happy: 0.9971 - recall_neutral: 0.9980 - recall_sad: 0.9951 - recall_surprise: 0.9894 - val_loss: 2.4455 - val_accuracy: 0.6685 - val_precision: 0.6732 - val_precision_angry: 0.5954 - val_precision_disgust: 0.7683 - val_precision_fear: 0.5276 - val_precision_happy: 0.8635 - val_precision_neutral: 0.6282 - val_precision_sad: 0.5343 - val_precision_surprise: 0.7929 - val_recall: 0.6637 - val_recall_angry: 0.5657 - val_recall_disgust: 0.5081 - val_recall_fear: 0.5131 - val_recall_happy: 0.8677 - val_recall_neutral: 0.6151 - val_recall_sad: 0.5636 - val_recall_surprise: 0.7738 - lr: 1.0000e-05\n",
      "Epoch 18: early stopping\n"
     ]
    }
   ],
   "source": [
    "history = model.fit(\n",
    "    train_generator,\n",
    "    steps_per_epoch=train_generator.n//train_generator.batch_size,\n",
    "    epochs=epochs,\n",
    "    validation_data=validation_generator,\n",
    "    validation_steps=validation_generator.n//validation_generator.batch_size,\n",
    "    callbacks=callbacks_list,\n",
    ")"
   ],
   "metadata": {
    "collapsed": false,
    "pycharm": {
     "name": "#%%\n"
    }
   }
  },
  {
   "cell_type": "markdown",
   "source": [
    "### 7. Evaluation - Test set"
   ],
   "metadata": {
    "collapsed": false,
    "pycharm": {
     "name": "#%% md\n"
    }
   }
  },
  {
   "cell_type": "code",
   "execution_count": 5,
   "outputs": [],
   "source": [
    "from keras.models import load_model\n",
    "\n",
    "model = load_model(\"model_mobilenet_v3_transfer.h5\")"
   ],
   "metadata": {
    "collapsed": false,
    "pycharm": {
     "name": "#%%\n"
    }
   }
  },
  {
   "cell_type": "code",
   "execution_count": 6,
   "outputs": [
    {
     "name": "stdout",
     "output_type": "stream",
     "text": [
      "Found 7178 images belonging to 7 classes.\n"
     ]
    }
   ],
   "source": [
    "test_data_generator = ImageDataGenerator(preprocessing_function=preprocess_input)\n",
    "\n",
    "test_generator = test_data_generator.flow_from_directory(\n",
    "    DATASET_BASE_TEST_PATH,\n",
    "    target_size=(224, 224),\n",
    "    batch_size=32,\n",
    "    class_mode='categorical',\n",
    "    shuffle=False\n",
    ")"
   ],
   "metadata": {
    "collapsed": false,
    "pycharm": {
     "name": "#%%\n"
    }
   }
  },
  {
   "cell_type": "code",
   "execution_count": 7,
   "outputs": [
    {
     "name": "stdout",
     "output_type": "stream",
     "text": [
      "225/225 [==============================] - 78s 336ms/step - loss: 1.4144 - accuracy: 0.6332 - precision: 0.6605 - precision_angry: 0.5955 - precision_disgust: 0.7460 - precision_fear: 0.4706 - precision_happy: 0.8187 - precision_neutral: 0.6076 - precision_sad: 0.5549 - precision_surprise: 0.8293 - recall: 0.6162 - recall_angry: 0.5303 - recall_disgust: 0.4234 - recall_fear: 0.4688 - recall_happy: 0.8805 - recall_neutral: 0.5929 - recall_sad: 0.4419 - recall_surprise: 0.6546\n"
     ]
    },
    {
     "data": {
      "text/plain": "[1.414367437362671,\n 0.6331847310066223,\n 0.6605436205863953,\n 0.5955451130867004,\n 0.7460317611694336,\n 0.47058823704719543,\n 0.8186582922935486,\n 0.6076475381851196,\n 0.5548841953277588,\n 0.8292682766914368,\n 0.6161883473396301,\n 0.5302714109420776,\n 0.4234234094619751,\n 0.46875,\n 0.8804960250854492,\n 0.5928629636764526,\n 0.44186046719551086,\n 0.6546329855918884]"
     },
     "execution_count": 7,
     "metadata": {},
     "output_type": "execute_result"
    }
   ],
   "source": [
    "model.evaluate(test_generator)"
   ],
   "metadata": {
    "collapsed": false,
    "pycharm": {
     "name": "#%%\n"
    }
   }
  }
 ],
 "metadata": {
  "kernelspec": {
   "display_name": "Python 3",
   "language": "python",
   "name": "python3"
  },
  "language_info": {
   "codemirror_mode": {
    "name": "ipython",
    "version": 2
   },
   "file_extension": ".py",
   "mimetype": "text/x-python",
   "name": "python",
   "nbconvert_exporter": "python",
   "pygments_lexer": "ipython2",
   "version": "2.7.6"
  }
 },
 "nbformat": 4,
 "nbformat_minor": 0
}