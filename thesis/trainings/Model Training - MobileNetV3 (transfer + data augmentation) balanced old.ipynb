{
 "cells": [
  {
   "cell_type": "markdown",
   "source": [
    "# Model Training - MobileNetV3 (transfer + data augmentation) balanced old"
   ],
   "metadata": {
    "collapsed": false,
    "pycharm": {
     "name": "#%% md\n"
    }
   }
  },
  {
   "cell_type": "markdown",
   "source": [
    "### 0. Imports"
   ],
   "metadata": {
    "collapsed": false,
    "pycharm": {
     "name": "#%% md\n"
    }
   }
  },
  {
   "cell_type": "code",
   "execution_count": 8,
   "outputs": [],
   "source": [
    "import numpy as np\n",
    "\n",
    "from keras.applications import MobileNetV3Large\n",
    "from keras.applications.mobilenet_v3 import preprocess_input\n",
    "from keras.callbacks import (\n",
    "    ModelCheckpoint,\n",
    "    EarlyStopping,\n",
    "    ReduceLROnPlateau\n",
    ")\n",
    "from keras.models import Sequential\n",
    "from keras.layers import Dense, GlobalAveragePooling2D\n",
    "from keras.metrics import Accuracy, CategoricalAccuracy, Precision, Recall\n",
    "from keras.optimizers import Adam\n",
    "from keras.preprocessing.image import ImageDataGenerator\n",
    "from keras.utils.vis_utils import plot_model\n",
    "from sklearn.utils.class_weight import compute_class_weight"
   ],
   "metadata": {
    "collapsed": false,
    "ExecuteTime": {
     "start_time": "2023-06-08T14:04:36.621338Z",
     "end_time": "2023-06-08T14:04:39.977428Z"
    },
    "pycharm": {
     "name": "#%%\n"
    }
   }
  },
  {
   "cell_type": "markdown",
   "source": [
    "### 1. Paths"
   ],
   "metadata": {
    "collapsed": false,
    "pycharm": {
     "name": "#%% md\n"
    }
   }
  },
  {
   "cell_type": "code",
   "execution_count": 9,
   "outputs": [],
   "source": [
    "# DATASET_BASE_TRAIN_PATH = \"/Users/adamdabkowski/DataspellProjects/Praca_dyplomowa/data/train_resized\"\n",
    "# DATASET_BASE_TRAIN_PATH = \"/Users/adamd/DataspellProjects/Facial Expressions Recognition/data/train_resized\"\n",
    "# DATASET_BASE_TRAIN_PATH = \"/Users/adamd/DataspellProjects/Facial Expressions Recognition/data/train_merged\"\n",
    "DATASET_BASE_TRAIN_PATH = \"/Users/adamd/DataspellProjects/Facial Expressions Recognition/data/train_merged_cleaned\"\n",
    "\n",
    "# DATASET_BASE_TRAIN_PATH = \"../new_data\"\n",
    "\n",
    "# DATASET_BASE_TEST_PATH = \"/Users/adamdabkowski/DataspellProjects/Praca_dyplomowa/data/test_resized\"\n",
    "DATASET_BASE_TEST_PATH = \"/Users/adamd/DataspellProjects/Facial Expressions Recognition/data/test_resized\""
   ],
   "metadata": {
    "collapsed": false,
    "ExecuteTime": {
     "start_time": "2023-06-08T14:06:08.298593Z",
     "end_time": "2023-06-08T14:06:08.305288Z"
    },
    "pycharm": {
     "name": "#%%\n"
    }
   }
  },
  {
   "cell_type": "markdown",
   "source": [
    "### 2. Data preprocessing"
   ],
   "metadata": {
    "collapsed": false,
    "pycharm": {
     "name": "#%% md\n"
    }
   }
  },
  {
   "cell_type": "code",
   "execution_count": 26,
   "outputs": [
    {
     "name": "stdout",
     "output_type": "stream",
     "text": [
      "Found 23689 images belonging to 7 classes.\n",
      "Found 5919 images belonging to 7 classes.\n"
     ]
    }
   ],
   "source": [
    "batch_size  = 32\n",
    "img_size = 224\n",
    "\n",
    "train_validation_data_generator = ImageDataGenerator(\n",
    "    preprocessing_function=preprocess_input,\n",
    "    validation_split=0.2,\n",
    "    rotation_range=40,\n",
    "    width_shift_range=0.2,\n",
    "    height_shift_range=0.2,\n",
    "    shear_range=0.2,\n",
    "    zoom_range=0.2,\n",
    "    horizontal_flip=True,\n",
    "    fill_mode='nearest'\n",
    ")\n",
    "\n",
    "train_generator = train_validation_data_generator.flow_from_directory(\n",
    "    DATASET_BASE_TRAIN_PATH,\n",
    "    target_size=(img_size,img_size),\n",
    "    batch_size=batch_size,\n",
    "    class_mode='categorical',\n",
    "    color_mode='rgb',\n",
    "    subset='training',\n",
    "    shuffle=True,\n",
    ")\n",
    "\n",
    "validation_generator = train_validation_data_generator.flow_from_directory(\n",
    "    DATASET_BASE_TRAIN_PATH,\n",
    "    target_size=(img_size,img_size),\n",
    "    batch_size=batch_size,\n",
    "    class_mode='categorical',\n",
    "    color_mode='rgb',\n",
    "    subset='validation',\n",
    "    shuffle=True,\n",
    ")\n",
    "\n",
    "class_weights = compute_class_weight(\n",
    "    class_weight='balanced',\n",
    "    classes=np.unique(train_generator.classes),\n",
    "    y=train_generator.classes\n",
    ")\n",
    "class_weights_dict = dict(enumerate(class_weights))"
   ],
   "metadata": {
    "collapsed": false,
    "ExecuteTime": {
     "start_time": "2023-06-08T14:06:12.829138Z",
     "end_time": "2023-06-08T14:06:13.009438Z"
    },
    "pycharm": {
     "name": "#%%\n"
    }
   }
  },
  {
   "cell_type": "code",
   "execution_count": 27,
   "outputs": [
    {
     "data": {
      "text/plain": "{0: 1.0264309545474242,\n 1: 6.701272984441301,\n 2: 1.0027089947089947,\n 3: 0.5746549256483031,\n 4: 0.8318935243714005,\n 5: 0.8679514893928846,\n 6: 1.2741501721170396}"
     },
     "execution_count": 27,
     "metadata": {},
     "output_type": "execute_result"
    }
   ],
   "source": [
    "class_weights_dict"
   ],
   "metadata": {
    "collapsed": false,
    "pycharm": {
     "name": "#%%\n"
    }
   }
  },
  {
   "cell_type": "markdown",
   "source": [
    "### 5. Model creating"
   ],
   "metadata": {
    "collapsed": false,
    "pycharm": {
     "name": "#%% md\n"
    }
   }
  },
  {
   "cell_type": "code",
   "execution_count": 28,
   "outputs": [],
   "source": [
    "CATEGORIES = [\"angry\", \"disgust\", \"fear\", \"happy\", \"neutral\", \"sad\", \"surprise\"]"
   ],
   "metadata": {
    "collapsed": false,
    "ExecuteTime": {
     "start_time": "2023-06-08T14:06:21.358802Z",
     "end_time": "2023-06-08T14:06:21.367405Z"
    },
    "pycharm": {
     "name": "#%%\n"
    }
   }
  },
  {
   "cell_type": "code",
   "execution_count": 29,
   "outputs": [],
   "source": [
    "checkpoint = ModelCheckpoint(\n",
    "    filepath=\"./model_mobilenet_v3_transfer_data_augmentation_balanced_old.h5\",\n",
    "    monitor='val_loss',\n",
    "    verbose=1,\n",
    "    save_best_only=True,\n",
    "    mode='min'\n",
    ")\n",
    "\n",
    "early_stopping = EarlyStopping(\n",
    "    monitor='val_loss',\n",
    "    patience=10,\n",
    "    verbose=1,\n",
    "    restore_best_weights=True,\n",
    ")\n",
    "\n",
    "reduce_learning_rate = ReduceLROnPlateau(\n",
    "    monitor='val_loss',\n",
    "    factor=0.1,\n",
    "    patience=5,\n",
    "    verbose=1,\n",
    "    min_lr=0.00001,\n",
    ")\n",
    "\n",
    "callbacks_list = [early_stopping, checkpoint, reduce_learning_rate]"
   ],
   "metadata": {
    "collapsed": false,
    "ExecuteTime": {
     "start_time": "2023-06-08T14:06:22.501933Z",
     "end_time": "2023-06-08T14:06:22.506101Z"
    },
    "pycharm": {
     "name": "#%%\n"
    }
   }
  },
  {
   "cell_type": "code",
   "execution_count": 30,
   "outputs": [],
   "source": [
    "model = Sequential()\n",
    "\n",
    "base_model = MobileNetV3Large(input_shape=(img_size, img_size, 3), include_top=False, weights='imagenet')\n",
    "model.add(base_model)\n",
    "\n",
    "model.add(GlobalAveragePooling2D())\n",
    "model.add(Dense(512, activation='relu'))\n",
    "model.add(Dense(7, activation='softmax'))"
   ],
   "metadata": {
    "collapsed": false,
    "ExecuteTime": {
     "start_time": "2023-06-08T14:06:33.844245Z",
     "end_time": "2023-06-08T14:06:34.087495Z"
    },
    "pycharm": {
     "name": "#%%\n"
    }
   }
  },
  {
   "cell_type": "code",
   "execution_count": 32,
   "outputs": [
    {
     "name": "stdout",
     "output_type": "stream",
     "text": [
      "Model: \"sequential_3\"\n",
      "_________________________________________________________________\n",
      " Layer (type)                Output Shape              Param #   \n",
      "=================================================================\n",
      " MobilenetV3large (Functiona  (None, 7, 7, 960)        2996352   \n",
      " l)                                                              \n",
      "                                                                 \n",
      " global_average_pooling2d_3   (None, 960)              0         \n",
      " (GlobalAveragePooling2D)                                        \n",
      "                                                                 \n",
      " dense_6 (Dense)             (None, 512)               492032    \n",
      "                                                                 \n",
      " dense_7 (Dense)             (None, 7)                 3591      \n",
      "                                                                 \n",
      "=================================================================\n",
      "Total params: 3,491,975\n",
      "Trainable params: 3,467,575\n",
      "Non-trainable params: 24,400\n",
      "_________________________________________________________________\n"
     ]
    }
   ],
   "source": [
    "model.compile(\n",
    "    optimizer=Adam(learning_rate=0.001),\n",
    "    loss='categorical_crossentropy',\n",
    "    metrics=[\n",
    "        Accuracy(name='accuracy'),\n",
    "        CategoricalAccuracy(name='categorical_accuracy'),\n",
    "        Precision(name='precision'),\n",
    "        Precision(class_id=0, name='precision_angry'),\n",
    "        Precision(class_id=1, name='precision_disgust'),\n",
    "        Precision(class_id=2, name='precision_fear'),\n",
    "        Precision(class_id=3, name='precision_happy'),\n",
    "        Precision(class_id=4, name='precision_neutral'),\n",
    "        Precision(class_id=5, name='precision_sad'),\n",
    "        Precision(class_id=6, name='precision_surprise'),\n",
    "        Recall(name='recall'),\n",
    "        Recall(class_id=0, name='recall_angry'),\n",
    "        Recall(class_id=1, name='recall_disgust'),\n",
    "        Recall(class_id=2, name='recall_fear'),\n",
    "        Recall(class_id=3, name='recall_happy'),\n",
    "        Recall(class_id=4, name='recall_neutral'),\n",
    "        Recall(class_id=5, name='recall_sad'),\n",
    "        Recall(class_id=6, name='recall_surprise'),\n",
    "    ]\n",
    ")\n",
    "model.summary()"
   ],
   "metadata": {
    "collapsed": false,
    "ExecuteTime": {
     "start_time": "2023-06-08T14:08:05.068394Z",
     "end_time": "2023-06-08T14:08:05.102749Z"
    },
    "pycharm": {
     "name": "#%%\n"
    }
   }
  },
  {
   "cell_type": "code",
   "execution_count": 33,
   "outputs": [
    {
     "data": {
      "image/png": "[encoded data removed]",
      "text/plain": "<IPython.core.display.Image object>"
     },
     "execution_count": 33,
     "metadata": {},
     "output_type": "execute_result"
    }
   ],
   "source": [
    "plot_model(model, to_file='model_mobilenet_v3_transfer_data_augmentation_balanced_old.png', show_shapes=True, show_layer_names=True)"
   ],
   "metadata": {
    "collapsed": false,
    "pycharm": {
     "name": "#%%\n"
    }
   }
  },
  {
   "cell_type": "markdown",
   "source": [
    "### 6. Model training"
   ],
   "metadata": {
    "collapsed": false,
    "pycharm": {
     "name": "#%% md\n"
    }
   }
  },
  {
   "cell_type": "code",
   "execution_count": 34,
   "outputs": [],
   "source": [
    "epochs = 50"
   ],
   "metadata": {
    "collapsed": false,
    "ExecuteTime": {
     "start_time": "2023-06-08T14:08:06.121000Z",
     "end_time": "2023-06-08T14:08:06.134021Z"
    },
    "pycharm": {
     "name": "#%%\n"
    }
   }
  },
  {
   "cell_type": "code",
   "execution_count": 35,
   "outputs": [
    {
     "name": "stdout",
     "output_type": "stream",
     "text": [
      "Epoch 1/50\n",
      "740/740 [==============================] - ETA: 0s - loss: 1.5453 - accuracy: 0.0000e+00 - categorical_accuracy: 0.4137 - precision: 0.6858 - precision_angry: 0.5437 - precision_disgust: 0.2376 - precision_fear: 0.3824 - precision_happy: 0.8684 - precision_neutral: 0.5740 - precision_sad: 0.5385 - precision_surprise: 0.6446 - recall: 0.1842 - recall_angry: 0.0434 - recall_disgust: 0.2653 - recall_fear: 0.0039 - recall_happy: 0.3929 - recall_neutral: 0.0936 - recall_sad: 0.0288 - recall_surprise: 0.4770\n",
      "Epoch 1: val_loss improved from inf to 79.32357, saving model to .\\model_mobilenet_v3_transfer_data_augmentation_balanced.h5\n",
      "740/740 [==============================] - 930s 1s/step - loss: 1.5453 - accuracy: 0.0000e+00 - categorical_accuracy: 0.4137 - precision: 0.6858 - precision_angry: 0.5437 - precision_disgust: 0.2376 - precision_fear: 0.3824 - precision_happy: 0.8684 - precision_neutral: 0.5740 - precision_sad: 0.5385 - precision_surprise: 0.6446 - recall: 0.1842 - recall_angry: 0.0434 - recall_disgust: 0.2653 - recall_fear: 0.0039 - recall_happy: 0.3929 - recall_neutral: 0.0936 - recall_sad: 0.0288 - recall_surprise: 0.4770 - val_loss: 79.3236 - val_accuracy: 0.4492 - val_categorical_accuracy: 0.2524 - val_precision: 0.2525 - val_precision_angry: 0.2407 - val_precision_disgust: 0.0000e+00 - val_precision_fear: 0.1333 - val_precision_happy: 0.2516 - val_precision_neutral: 0.0000e+00 - val_precision_sad: 0.0000e+00 - val_precision_surprise: 0.6364 - val_recall: 0.2524 - val_recall_angry: 0.0317 - val_recall_disgust: 0.0000e+00 - val_recall_fear: 0.0024 - val_recall_happy: 0.9823 - val_recall_neutral: 0.0000e+00 - val_recall_sad: 0.0000e+00 - val_recall_surprise: 0.0213 - lr: 0.0010\n",
      "Epoch 2/50\n",
      "740/740 [==============================] - ETA: 0s - loss: 1.2836 - accuracy: 0.0000e+00 - categorical_accuracy: 0.5180 - precision: 0.7057 - precision_angry: 0.6092 - precision_disgust: 0.2723 - precision_fear: 0.5894 - precision_happy: 0.8842 - precision_neutral: 0.6281 - precision_sad: 0.5591 - precision_surprise: 0.6816 - recall: 0.3060 - recall_angry: 0.1169 - recall_disgust: 0.4594 - recall_fear: 0.0430 - recall_happy: 0.6115 - recall_neutral: 0.2309 - recall_sad: 0.0935 - recall_surprise: 0.5960\n",
      "Epoch 2: val_loss improved from 79.32357 to 2.31185, saving model to .\\model_mobilenet_v3_transfer_data_augmentation_balanced.h5\n",
      "740/740 [==============================] - 944s 1s/step - loss: 1.2836 - accuracy: 0.0000e+00 - categorical_accuracy: 0.5180 - precision: 0.7057 - precision_angry: 0.6092 - precision_disgust: 0.2723 - precision_fear: 0.5894 - precision_happy: 0.8842 - precision_neutral: 0.6281 - precision_sad: 0.5591 - precision_surprise: 0.6816 - recall: 0.3060 - recall_angry: 0.1169 - recall_disgust: 0.4594 - recall_fear: 0.0430 - recall_happy: 0.6115 - recall_neutral: 0.2309 - recall_sad: 0.0935 - recall_surprise: 0.5960 - val_loss: 2.3119 - val_accuracy: 1.4557e-04 - val_categorical_accuracy: 0.3448 - val_precision: 0.4654 - val_precision_angry: 0.4018 - val_precision_disgust: 0.1214 - val_precision_fear: 1.0000 - val_precision_happy: 0.8179 - val_precision_neutral: 0.5510 - val_precision_sad: 0.0000e+00 - val_precision_surprise: 0.3740 - val_recall: 0.2685 - val_recall_angry: 0.3861 - val_recall_disgust: 0.2698 - val_recall_fear: 0.0012 - val_recall_happy: 0.4296 - val_recall_neutral: 0.0534 - val_recall_sad: 0.0000e+00 - val_recall_surprise: 0.8285 - lr: 0.0010\n",
      "Epoch 3/50\n",
      "740/740 [==============================] - ETA: 0s - loss: 1.1876 - accuracy: 0.0000e+00 - categorical_accuracy: 0.5461 - precision: 0.7224 - precision_angry: 0.6556 - precision_disgust: 0.3008 - precision_fear: 0.6579 - precision_happy: 0.8931 - precision_neutral: 0.6545 - precision_sad: 0.5971 - precision_surprise: 0.7028 - recall: 0.3612 - recall_angry: 0.1971 - recall_disgust: 0.5485 - recall_fear: 0.0816 - recall_happy: 0.6750 - recall_neutral: 0.2816 - recall_sad: 0.1359 - recall_surprise: 0.6417\n",
      "Epoch 3: val_loss did not improve from 2.31185\n",
      "740/740 [==============================] - 948s 1s/step - loss: 1.1876 - accuracy: 0.0000e+00 - categorical_accuracy: 0.5461 - precision: 0.7224 - precision_angry: 0.6556 - precision_disgust: 0.3008 - precision_fear: 0.6579 - precision_happy: 0.8931 - precision_neutral: 0.6545 - precision_sad: 0.5971 - precision_surprise: 0.7028 - recall: 0.3612 - recall_angry: 0.1971 - recall_disgust: 0.5485 - recall_fear: 0.0816 - recall_happy: 0.6750 - recall_neutral: 0.2816 - recall_sad: 0.1359 - recall_surprise: 0.6417 - val_loss: 2.9401 - val_accuracy: 3.1541e-04 - val_categorical_accuracy: 0.2945 - val_precision: 0.3381 - val_precision_angry: 0.2198 - val_precision_disgust: 0.1509 - val_precision_fear: 0.2969 - val_precision_happy: 0.9083 - val_precision_neutral: 0.6667 - val_precision_sad: 0.0000e+00 - val_precision_surprise: 0.4529 - val_recall: 0.2101 - val_recall_angry: 0.6573 - val_recall_disgust: 0.0635 - val_recall_fear: 0.1041 - val_recall_happy: 0.2769 - val_recall_neutral: 0.0257 - val_recall_sad: 0.0000e+00 - val_recall_surprise: 0.2613 - lr: 0.0010\n",
      "Epoch 4/50\n",
      "740/740 [==============================] - ETA: 0s - loss: 1.1347 - accuracy: 0.0000e+00 - categorical_accuracy: 0.5719 - precision: 0.7305 - precision_angry: 0.6684 - precision_disgust: 0.3387 - precision_fear: 0.6672 - precision_happy: 0.9006 - precision_neutral: 0.6627 - precision_sad: 0.6093 - precision_surprise: 0.7159 - recall: 0.3957 - recall_angry: 0.2316 - recall_disgust: 0.6243 - recall_fear: 0.1212 - recall_happy: 0.6998 - recall_neutral: 0.3323 - recall_sad: 0.1690 - recall_surprise: 0.6609\n",
      "Epoch 4: val_loss improved from 2.31185 to 1.74726, saving model to .\\model_mobilenet_v3_transfer_data_augmentation_balanced.h5\n",
      "740/740 [==============================] - 940s 1s/step - loss: 1.1347 - accuracy: 0.0000e+00 - categorical_accuracy: 0.5719 - precision: 0.7305 - precision_angry: 0.6684 - precision_disgust: 0.3387 - precision_fear: 0.6672 - precision_happy: 0.9006 - precision_neutral: 0.6627 - precision_sad: 0.6093 - precision_surprise: 0.7159 - recall: 0.3957 - recall_angry: 0.2316 - recall_disgust: 0.6243 - recall_fear: 0.1212 - recall_happy: 0.6998 - recall_neutral: 0.3323 - recall_sad: 0.1690 - recall_surprise: 0.6609 - val_loss: 1.7473 - val_accuracy: 4.8525e-05 - val_categorical_accuracy: 0.4528 - val_precision: 0.5594 - val_precision_angry: 0.4405 - val_precision_disgust: 0.2877 - val_precision_fear: 0.5000 - val_precision_happy: 0.6372 - val_precision_neutral: 0.7768 - val_precision_sad: 0.5556 - val_precision_surprise: 0.4820 - val_recall: 0.3512 - val_recall_angry: 0.3297 - val_recall_disgust: 0.1680 - val_recall_fear: 0.0024 - val_recall_happy: 0.7604 - val_recall_neutral: 0.0862 - val_recall_sad: 0.1598 - val_recall_surprise: 0.6313 - lr: 0.0010\n",
      "Epoch 5/50\n",
      "740/740 [==============================] - ETA: 0s - loss: 1.0990 - accuracy: 0.0000e+00 - categorical_accuracy: 0.5861 - precision: 0.7330 - precision_angry: 0.6848 - precision_disgust: 0.3421 - precision_fear: 0.6864 - precision_happy: 0.9058 - precision_neutral: 0.6660 - precision_sad: 0.6120 - precision_surprise: 0.7143 - recall: 0.4165 - recall_angry: 0.2745 - recall_disgust: 0.6441 - recall_fear: 0.1409 - recall_happy: 0.7164 - recall_neutral: 0.3463 - recall_sad: 0.1956 - recall_surprise: 0.6664\n",
      "Epoch 5: val_loss did not improve from 1.74726\n",
      "740/740 [==============================] - 940s 1s/step - loss: 1.0990 - accuracy: 0.0000e+00 - categorical_accuracy: 0.5861 - precision: 0.7330 - precision_angry: 0.6848 - precision_disgust: 0.3421 - precision_fear: 0.6864 - precision_happy: 0.9058 - precision_neutral: 0.6660 - precision_sad: 0.6120 - precision_surprise: 0.7143 - recall: 0.4165 - recall_angry: 0.2745 - recall_disgust: 0.6441 - recall_fear: 0.1409 - recall_happy: 0.7164 - recall_neutral: 0.3463 - recall_sad: 0.1956 - recall_surprise: 0.6664 - val_loss: 4.1661 - val_accuracy: 0.0045 - val_categorical_accuracy: 0.2580 - val_precision: 0.2627 - val_precision_angry: 0.6591 - val_precision_disgust: 0.2500 - val_precision_fear: 0.2179 - val_precision_happy: 0.8929 - val_precision_neutral: 0.4526 - val_precision_sad: 0.5080 - val_precision_surprise: 0.2037 - val_recall: 0.2089 - val_recall_angry: 0.0355 - val_recall_disgust: 0.0317 - val_recall_fear: 0.3807 - val_recall_happy: 0.0851 - val_recall_neutral: 0.1461 - val_recall_sad: 0.0982 - val_recall_surprise: 0.7739 - lr: 0.0010\n",
      "Epoch 6/50\n",
      "740/740 [==============================] - ETA: 0s - loss: 1.0561 - accuracy: 0.0000e+00 - categorical_accuracy: 0.6011 - precision: 0.7384 - precision_angry: 0.6621 - precision_disgust: 0.3909 - precision_fear: 0.6331 - precision_happy: 0.9061 - precision_neutral: 0.6834 - precision_sad: 0.6245 - precision_surprise: 0.7346 - recall: 0.4364 - recall_angry: 0.2810 - recall_disgust: 0.6772 - recall_fear: 0.1587 - recall_happy: 0.7276 - recall_neutral: 0.3827 - recall_sad: 0.2208 - recall_surprise: 0.6903\n",
      "Epoch 6: val_loss did not improve from 1.74726\n",
      "740/740 [==============================] - 957s 1s/step - loss: 1.0561 - accuracy: 0.0000e+00 - categorical_accuracy: 0.6011 - precision: 0.7384 - precision_angry: 0.6621 - precision_disgust: 0.3909 - precision_fear: 0.6331 - precision_happy: 0.9061 - precision_neutral: 0.6834 - precision_sad: 0.6245 - precision_surprise: 0.7346 - recall: 0.4364 - recall_angry: 0.2810 - recall_disgust: 0.6772 - recall_fear: 0.1587 - recall_happy: 0.7276 - recall_neutral: 0.3827 - recall_sad: 0.2208 - recall_surprise: 0.6903 - val_loss: 1.7667 - val_accuracy: 0.0000e+00 - val_categorical_accuracy: 0.4324 - val_precision: 0.5137 - val_precision_angry: 0.6726 - val_precision_disgust: 0.2941 - val_precision_fear: 0.7097 - val_precision_happy: 0.8547 - val_precision_neutral: 0.4120 - val_precision_sad: 0.6364 - val_precision_surprise: 0.3274 - val_recall: 0.3400 - val_recall_angry: 0.1375 - val_recall_disgust: 0.0397 - val_recall_fear: 0.0262 - val_recall_happy: 0.5913 - val_recall_neutral: 0.5114 - val_recall_sad: 0.0362 - val_recall_surprise: 0.6773 - lr: 0.0010\n",
      "Epoch 7/50\n",
      "740/740 [==============================] - ETA: 0s - loss: 1.0182 - accuracy: 0.0000e+00 - categorical_accuracy: 0.6108 - precision: 0.7441 - precision_angry: 0.6760 - precision_disgust: 0.3874 - precision_fear: 0.6765 - precision_happy: 0.9064 - precision_neutral: 0.6847 - precision_sad: 0.6562 - precision_surprise: 0.7362 - recall: 0.4598 - recall_angry: 0.3143 - recall_disgust: 0.7078 - recall_fear: 0.1967 - recall_happy: 0.7480 - recall_neutral: 0.3900 - recall_sad: 0.2530 - recall_surprise: 0.6998\n",
      "Epoch 7: val_loss improved from 1.74726 to 1.26289, saving model to .\\model_mobilenet_v3_transfer_data_augmentation_balanced.h5\n",
      "740/740 [==============================] - 936s 1s/step - loss: 1.0182 - accuracy: 0.0000e+00 - categorical_accuracy: 0.6108 - precision: 0.7441 - precision_angry: 0.6760 - precision_disgust: 0.3874 - precision_fear: 0.6765 - precision_happy: 0.9064 - precision_neutral: 0.6847 - precision_sad: 0.6562 - precision_surprise: 0.7362 - recall: 0.4598 - recall_angry: 0.3143 - recall_disgust: 0.7078 - recall_fear: 0.1967 - recall_happy: 0.7480 - recall_neutral: 0.3900 - recall_sad: 0.2530 - recall_surprise: 0.6998 - val_loss: 1.2629 - val_accuracy: 0.0000e+00 - val_categorical_accuracy: 0.5275 - val_precision: 0.6513 - val_precision_angry: 0.6405 - val_precision_disgust: 0.2437 - val_precision_fear: 0.4755 - val_precision_happy: 0.9203 - val_precision_neutral: 0.5768 - val_precision_sad: 0.4676 - val_precision_surprise: 0.7229 - val_recall: 0.3743 - val_recall_angry: 0.1900 - val_recall_disgust: 0.5440 - val_recall_fear: 0.1155 - val_recall_happy: 0.6142 - val_recall_neutral: 0.3040 - val_recall_sad: 0.2912 - val_recall_surprise: 0.5952 - lr: 0.0010\n",
      "Epoch 8/50\n",
      "740/740 [==============================] - ETA: 0s - loss: 0.9897 - accuracy: 0.0000e+00 - categorical_accuracy: 0.6174 - precision: 0.7442 - precision_angry: 0.6824 - precision_disgust: 0.4104 - precision_fear: 0.6689 - precision_happy: 0.9088 - precision_neutral: 0.6877 - precision_sad: 0.6364 - precision_surprise: 0.7452 - recall: 0.4724 - recall_angry: 0.3303 - recall_disgust: 0.7663 - recall_fear: 0.2050 - recall_happy: 0.7488 - recall_neutral: 0.4221 - recall_sad: 0.2539 - recall_surprise: 0.7179\n",
      "Epoch 8: val_loss improved from 1.26289 to 1.21295, saving model to .\\model_mobilenet_v3_transfer_data_augmentation_balanced.h5\n",
      "740/740 [==============================] - 947s 1s/step - loss: 0.9897 - accuracy: 0.0000e+00 - categorical_accuracy: 0.6174 - precision: 0.7442 - precision_angry: 0.6824 - precision_disgust: 0.4104 - precision_fear: 0.6689 - precision_happy: 0.9088 - precision_neutral: 0.6877 - precision_sad: 0.6364 - precision_surprise: 0.7452 - recall: 0.4724 - recall_angry: 0.3303 - recall_disgust: 0.7663 - recall_fear: 0.2050 - recall_happy: 0.7488 - recall_neutral: 0.4221 - recall_sad: 0.2539 - recall_surprise: 0.7179 - val_loss: 1.2129 - val_accuracy: 0.0000e+00 - val_categorical_accuracy: 0.5557 - val_precision: 0.6842 - val_precision_angry: 0.7288 - val_precision_disgust: 0.4891 - val_precision_fear: 0.5942 - val_precision_happy: 0.9249 - val_precision_neutral: 0.6009 - val_precision_sad: 0.5071 - val_precision_surprise: 0.6512 - val_recall: 0.4120 - val_recall_angry: 0.1569 - val_recall_disgust: 0.3600 - val_recall_fear: 0.1475 - val_recall_happy: 0.6075 - val_recall_neutral: 0.3757 - val_recall_sad: 0.3656 - val_recall_surprise: 0.7644 - lr: 0.0010\n",
      "Epoch 9/50\n",
      "740/740 [==============================] - ETA: 0s - loss: 0.9636 - accuracy: 0.0000e+00 - categorical_accuracy: 0.6271 - precision: 0.7495 - precision_angry: 0.6990 - precision_disgust: 0.4241 - precision_fear: 0.6752 - precision_happy: 0.9161 - precision_neutral: 0.6844 - precision_sad: 0.6567 - precision_surprise: 0.7376 - recall: 0.4876 - recall_angry: 0.3574 - recall_disgust: 0.7758 - recall_fear: 0.2196 - recall_happy: 0.7647 - recall_neutral: 0.4297 - recall_sad: 0.2808 - recall_surprise: 0.7129\n",
      "Epoch 9: val_loss did not improve from 1.21295\n",
      "740/740 [==============================] - 971s 1s/step - loss: 0.9636 - accuracy: 0.0000e+00 - categorical_accuracy: 0.6271 - precision: 0.7495 - precision_angry: 0.6990 - precision_disgust: 0.4241 - precision_fear: 0.6752 - precision_happy: 0.9161 - precision_neutral: 0.6844 - precision_sad: 0.6567 - precision_surprise: 0.7376 - recall: 0.4876 - recall_angry: 0.3574 - recall_disgust: 0.7758 - recall_fear: 0.2196 - recall_happy: 0.7647 - recall_neutral: 0.4297 - recall_sad: 0.2808 - recall_surprise: 0.7129 - val_loss: 1.8630 - val_accuracy: 0.0000e+00 - val_categorical_accuracy: 0.4074 - val_precision: 0.4761 - val_precision_angry: 0.6193 - val_precision_disgust: 0.5833 - val_precision_fear: 0.3759 - val_precision_happy: 0.9301 - val_precision_neutral: 0.6068 - val_precision_sad: 0.5342 - val_precision_surprise: 0.2867 - val_recall: 0.3028 - val_recall_angry: 0.1333 - val_recall_disgust: 0.1667 - val_recall_fear: 0.0633 - val_recall_happy: 0.4275 - val_recall_neutral: 0.2296 - val_recall_sad: 0.1608 - val_recall_surprise: 0.8879 - lr: 0.0010\n",
      "Epoch 10/50\n",
      "740/740 [==============================] - ETA: 0s - loss: 0.9398 - accuracy: 0.0000e+00 - categorical_accuracy: 0.6393 - precision: 0.7554 - precision_angry: 0.7047 - precision_disgust: 0.4685 - precision_fear: 0.6860 - precision_happy: 0.9133 - precision_neutral: 0.6920 - precision_sad: 0.6550 - precision_surprise: 0.7490 - recall: 0.4997 - recall_angry: 0.3804 - recall_disgust: 0.7960 - recall_fear: 0.2318 - recall_happy: 0.7634 - recall_neutral: 0.4464 - recall_sad: 0.2968 - recall_surprise: 0.7276\n",
      "Epoch 10: val_loss did not improve from 1.21295\n",
      "740/740 [==============================] - 950s 1s/step - loss: 0.9398 - accuracy: 0.0000e+00 - categorical_accuracy: 0.6393 - precision: 0.7554 - precision_angry: 0.7047 - precision_disgust: 0.4685 - precision_fear: 0.6860 - precision_happy: 0.9133 - precision_neutral: 0.6920 - precision_sad: 0.6550 - precision_surprise: 0.7490 - recall: 0.4997 - recall_angry: 0.3804 - recall_disgust: 0.7960 - recall_fear: 0.2318 - recall_happy: 0.7634 - recall_neutral: 0.4464 - recall_sad: 0.2968 - recall_surprise: 0.7276 - val_loss: 1.3284 - val_accuracy: 0.0000e+00 - val_categorical_accuracy: 0.5255 - val_precision: 0.6276 - val_precision_angry: 0.4498 - val_precision_disgust: 0.4727 - val_precision_fear: 0.4038 - val_precision_happy: 0.9168 - val_precision_neutral: 0.6643 - val_precision_sad: 0.5538 - val_precision_surprise: 0.7078 - val_recall: 0.4064 - val_recall_angry: 0.5250 - val_recall_disgust: 0.2063 - val_recall_fear: 0.2753 - val_recall_happy: 0.5729 - val_recall_neutral: 0.3696 - val_recall_sad: 0.1432 - val_recall_surprise: 0.5394 - lr: 0.0010\n",
      "Epoch 11/50\n",
      "740/740 [==============================] - ETA: 0s - loss: 0.9202 - accuracy: 0.0000e+00 - categorical_accuracy: 0.6445 - precision: 0.7612 - precision_angry: 0.7163 - precision_disgust: 0.4600 - precision_fear: 0.6884 - precision_happy: 0.9149 - precision_neutral: 0.7027 - precision_sad: 0.6672 - precision_surprise: 0.7594 - recall: 0.5131 - recall_angry: 0.3902 - recall_disgust: 0.7877 - recall_fear: 0.2471 - recall_happy: 0.7718 - recall_neutral: 0.4674 - recall_sad: 0.3123 - recall_surprise: 0.7428\n",
      "Epoch 11: val_loss improved from 1.21295 to 1.15433, saving model to .\\model_mobilenet_v3_transfer_data_augmentation_balanced.h5\n",
      "740/740 [==============================] - 962s 1s/step - loss: 0.9202 - accuracy: 0.0000e+00 - categorical_accuracy: 0.6445 - precision: 0.7612 - precision_angry: 0.7163 - precision_disgust: 0.4600 - precision_fear: 0.6884 - precision_happy: 0.9149 - precision_neutral: 0.7027 - precision_sad: 0.6672 - precision_surprise: 0.7594 - recall: 0.5131 - recall_angry: 0.3902 - recall_disgust: 0.7877 - recall_fear: 0.2471 - recall_happy: 0.7718 - recall_neutral: 0.4674 - recall_sad: 0.3123 - recall_surprise: 0.7428 - val_loss: 1.1543 - val_accuracy: 0.0000e+00 - val_categorical_accuracy: 0.5846 - val_precision: 0.6862 - val_precision_angry: 0.6195 - val_precision_disgust: 0.3144 - val_precision_fear: 0.5567 - val_precision_happy: 0.8908 - val_precision_neutral: 0.6855 - val_precision_sad: 0.5437 - val_precision_surprise: 0.6759 - val_recall: 0.4728 - val_recall_angry: 0.3410 - val_recall_disgust: 0.6587 - val_recall_fear: 0.1998 - val_recall_happy: 0.7347 - val_recall_neutral: 0.3834 - val_recall_sad: 0.2836 - val_recall_surprise: 0.7791 - lr: 0.0010\n",
      "Epoch 12/50\n",
      "740/740 [==============================] - ETA: 0s - loss: 0.9186 - accuracy: 0.0000e+00 - categorical_accuracy: 0.6421 - precision: 0.7573 - precision_angry: 0.7147 - precision_disgust: 0.4469 - precision_fear: 0.6718 - precision_happy: 0.9097 - precision_neutral: 0.7056 - precision_sad: 0.6629 - precision_surprise: 0.7620 - recall: 0.5103 - recall_angry: 0.3871 - recall_disgust: 0.7921 - recall_fear: 0.2569 - recall_happy: 0.7697 - recall_neutral: 0.4612 - recall_sad: 0.3024 - recall_surprise: 0.7373\n",
      "Epoch 12: val_loss did not improve from 1.15433\n",
      "740/740 [==============================] - 960s 1s/step - loss: 0.9186 - accuracy: 0.0000e+00 - categorical_accuracy: 0.6421 - precision: 0.7573 - precision_angry: 0.7147 - precision_disgust: 0.4469 - precision_fear: 0.6718 - precision_happy: 0.9097 - precision_neutral: 0.7056 - precision_sad: 0.6629 - precision_surprise: 0.7620 - recall: 0.5103 - recall_angry: 0.3871 - recall_disgust: 0.7921 - recall_fear: 0.2569 - recall_happy: 0.7697 - recall_neutral: 0.4612 - recall_sad: 0.3024 - recall_surprise: 0.7373 - val_loss: 1.2598 - val_accuracy: 0.0000e+00 - val_categorical_accuracy: 0.5560 - val_precision: 0.6236 - val_precision_angry: 0.6147 - val_precision_disgust: 0.6364 - val_precision_fear: 0.5476 - val_precision_happy: 0.9380 - val_precision_neutral: 0.4458 - val_precision_sad: 0.6408 - val_precision_surprise: 0.6745 - val_recall: 0.4674 - val_recall_angry: 0.3366 - val_recall_disgust: 0.2276 - val_recall_fear: 0.2262 - val_recall_happy: 0.5891 - val_recall_neutral: 0.7441 - val_recall_sad: 0.1622 - val_recall_surprise: 0.7348 - lr: 0.0010\n",
      "Epoch 13/50\n",
      "740/740 [==============================] - ETA: 0s - loss: 0.8739 - accuracy: 0.0000e+00 - categorical_accuracy: 0.6575 - precision: 0.7672 - precision_angry: 0.7288 - precision_disgust: 0.5315 - precision_fear: 0.6978 - precision_happy: 0.9182 - precision_neutral: 0.6968 - precision_sad: 0.6603 - precision_surprise: 0.7693 - recall: 0.5341 - recall_angry: 0.4301 - recall_disgust: 0.8532 - recall_fear: 0.2790 - recall_happy: 0.7832 - recall_neutral: 0.4889 - recall_sad: 0.3219 - recall_surprise: 0.7554\n",
      "Epoch 13: val_loss did not improve from 1.15433\n",
      "740/740 [==============================] - 943s 1s/step - loss: 0.8739 - accuracy: 0.0000e+00 - categorical_accuracy: 0.6575 - precision: 0.7672 - precision_angry: 0.7288 - precision_disgust: 0.5315 - precision_fear: 0.6978 - precision_happy: 0.9182 - precision_neutral: 0.6968 - precision_sad: 0.6603 - precision_surprise: 0.7693 - recall: 0.5341 - recall_angry: 0.4301 - recall_disgust: 0.8532 - recall_fear: 0.2790 - recall_happy: 0.7832 - recall_neutral: 0.4889 - recall_sad: 0.3219 - recall_surprise: 0.7554 - val_loss: 1.1611 - val_accuracy: 0.0000e+00 - val_categorical_accuracy: 0.5693 - val_precision: 0.6825 - val_precision_angry: 0.7124 - val_precision_disgust: 0.4286 - val_precision_fear: 0.4668 - val_precision_happy: 0.9183 - val_precision_neutral: 0.6472 - val_precision_sad: 0.6171 - val_precision_surprise: 0.5758 - val_recall: 0.4373 - val_recall_angry: 0.2017 - val_recall_disgust: 0.3571 - val_recall_fear: 0.2351 - val_recall_happy: 0.6831 - val_recall_neutral: 0.3956 - val_recall_sad: 0.2314 - val_recall_surprise: 0.8252 - lr: 0.0010\n",
      "Epoch 14/50\n",
      "740/740 [==============================] - ETA: 0s - loss: 0.8815 - accuracy: 0.0000e+00 - categorical_accuracy: 0.6579 - precision: 0.7651 - precision_angry: 0.7144 - precision_disgust: 0.4918 - precision_fear: 0.6942 - precision_happy: 0.9143 - precision_neutral: 0.7035 - precision_sad: 0.6762 - precision_surprise: 0.7696 - recall: 0.5343 - recall_angry: 0.4182 - recall_disgust: 0.8277 - recall_fear: 0.2862 - recall_happy: 0.7894 - recall_neutral: 0.4745 - recall_sad: 0.3346 - recall_surprise: 0.7572\n",
      "Epoch 14: val_loss did not improve from 1.15433\n",
      "740/740 [==============================] - 948s 1s/step - loss: 0.8815 - accuracy: 0.0000e+00 - categorical_accuracy: 0.6579 - precision: 0.7651 - precision_angry: 0.7144 - precision_disgust: 0.4918 - precision_fear: 0.6942 - precision_happy: 0.9143 - precision_neutral: 0.7035 - precision_sad: 0.6762 - precision_surprise: 0.7696 - recall: 0.5343 - recall_angry: 0.4182 - recall_disgust: 0.8277 - recall_fear: 0.2862 - recall_happy: 0.7894 - recall_neutral: 0.4745 - recall_sad: 0.3346 - recall_surprise: 0.7572 - val_loss: 1.1803 - val_accuracy: 0.0000e+00 - val_categorical_accuracy: 0.5516 - val_precision: 0.6753 - val_precision_angry: 0.8229 - val_precision_disgust: 0.3985 - val_precision_fear: 0.4171 - val_precision_happy: 0.9179 - val_precision_neutral: 0.7235 - val_precision_sad: 0.5394 - val_precision_surprise: 0.6681 - val_recall: 0.4096 - val_recall_angry: 0.0969 - val_recall_disgust: 0.4206 - val_recall_fear: 0.3195 - val_recall_happy: 0.6637 - val_recall_neutral: 0.2443 - val_recall_sad: 0.3244 - val_recall_surprise: 0.7216 - lr: 0.0010\n",
      "Epoch 15/50\n",
      "740/740 [==============================] - ETA: 0s - loss: 0.8359 - accuracy: 0.0000e+00 - categorical_accuracy: 0.6691 - precision: 0.7686 - precision_angry: 0.7214 - precision_disgust: 0.5164 - precision_fear: 0.7082 - precision_happy: 0.9171 - precision_neutral: 0.7041 - precision_sad: 0.6745 - precision_surprise: 0.7777 - recall: 0.5537 - recall_angry: 0.4425 - recall_disgust: 0.8730 - recall_fear: 0.3039 - recall_happy: 0.7956 - recall_neutral: 0.5043 - recall_sad: 0.3630 - recall_surprise: 0.7680\n",
      "Epoch 15: val_loss improved from 1.15433 to 1.12121, saving model to .\\model_mobilenet_v3_transfer_data_augmentation_balanced.h5\n",
      "740/740 [==============================] - 966s 1s/step - loss: 0.8359 - accuracy: 0.0000e+00 - categorical_accuracy: 0.6691 - precision: 0.7686 - precision_angry: 0.7214 - precision_disgust: 0.5164 - precision_fear: 0.7082 - precision_happy: 0.9171 - precision_neutral: 0.7041 - precision_sad: 0.6745 - precision_surprise: 0.7777 - recall: 0.5537 - recall_angry: 0.4425 - recall_disgust: 0.8730 - recall_fear: 0.3039 - recall_happy: 0.7956 - recall_neutral: 0.5043 - recall_sad: 0.3630 - recall_surprise: 0.7680 - val_loss: 1.1212 - val_accuracy: 0.0000e+00 - val_categorical_accuracy: 0.5778 - val_precision: 0.7022 - val_precision_angry: 0.5226 - val_precision_disgust: 0.5893 - val_precision_fear: 0.6093 - val_precision_happy: 0.8479 - val_precision_neutral: 0.7304 - val_precision_sad: 0.6148 - val_precision_surprise: 0.6684 - val_recall: 0.4686 - val_recall_angry: 0.4646 - val_recall_disgust: 0.2640 - val_recall_fear: 0.1093 - val_recall_happy: 0.7888 - val_recall_neutral: 0.3396 - val_recall_sad: 0.2503 - val_recall_surprise: 0.7764 - lr: 0.0010\n",
      "Epoch 16/50\n",
      "740/740 [==============================] - ETA: 0s - loss: 0.8409 - accuracy: 0.0000e+00 - categorical_accuracy: 0.6716 - precision: 0.7712 - precision_angry: 0.7315 - precision_disgust: 0.5111 - precision_fear: 0.7023 - precision_happy: 0.9176 - precision_neutral: 0.7090 - precision_sad: 0.6853 - precision_surprise: 0.7750 - recall: 0.5543 - recall_angry: 0.4503 - recall_disgust: 0.8651 - recall_fear: 0.3098 - recall_happy: 0.7967 - recall_neutral: 0.4985 - recall_sad: 0.3586 - recall_surprise: 0.7703\n",
      "Epoch 16: val_loss did not improve from 1.12121\n",
      "740/740 [==============================] - 959s 1s/step - loss: 0.8409 - accuracy: 0.0000e+00 - categorical_accuracy: 0.6716 - precision: 0.7712 - precision_angry: 0.7315 - precision_disgust: 0.5111 - precision_fear: 0.7023 - precision_happy: 0.9176 - precision_neutral: 0.7090 - precision_sad: 0.6853 - precision_surprise: 0.7750 - recall: 0.5543 - recall_angry: 0.4503 - recall_disgust: 0.8651 - recall_fear: 0.3098 - recall_happy: 0.7967 - recall_neutral: 0.4985 - recall_sad: 0.3586 - recall_surprise: 0.7703 - val_loss: 1.1282 - val_accuracy: 0.0000e+00 - val_categorical_accuracy: 0.5871 - val_precision: 0.6964 - val_precision_angry: 0.5533 - val_precision_disgust: 0.4286 - val_precision_fear: 0.6369 - val_precision_happy: 0.8949 - val_precision_neutral: 0.6133 - val_precision_sad: 0.5565 - val_precision_surprise: 0.7782 - val_recall: 0.4715 - val_recall_angry: 0.4567 - val_recall_disgust: 0.6190 - val_recall_fear: 0.1278 - val_recall_happy: 0.7334 - val_recall_neutral: 0.4274 - val_recall_sad: 0.2851 - val_recall_surprise: 0.6571 - lr: 0.0010\n",
      "Epoch 17/50\n",
      "740/740 [==============================] - ETA: 0s - loss: 0.8151 - accuracy: 0.0000e+00 - categorical_accuracy: 0.6747 - precision: 0.7720 - precision_angry: 0.7282 - precision_disgust: 0.5357 - precision_fear: 0.6908 - precision_happy: 0.9238 - precision_neutral: 0.7070 - precision_sad: 0.6788 - precision_surprise: 0.7843 - recall: 0.5643 - recall_angry: 0.4650 - recall_disgust: 0.8790 - recall_fear: 0.3253 - recall_happy: 0.7994 - recall_neutral: 0.5127 - recall_sad: 0.3681 - recall_surprise: 0.7769\n",
      "Epoch 17: val_loss did not improve from 1.12121\n",
      "740/740 [==============================] - 941s 1s/step - loss: 0.8151 - accuracy: 0.0000e+00 - categorical_accuracy: 0.6747 - precision: 0.7720 - precision_angry: 0.7282 - precision_disgust: 0.5357 - precision_fear: 0.6908 - precision_happy: 0.9238 - precision_neutral: 0.7070 - precision_sad: 0.6788 - precision_surprise: 0.7843 - recall: 0.5643 - recall_angry: 0.4650 - recall_disgust: 0.8790 - recall_fear: 0.3253 - recall_happy: 0.7994 - recall_neutral: 0.5127 - recall_sad: 0.3681 - recall_surprise: 0.7769 - val_loss: 1.2262 - val_accuracy: 0.0000e+00 - val_categorical_accuracy: 0.5715 - val_precision: 0.6581 - val_precision_angry: 0.6621 - val_precision_disgust: 0.6512 - val_precision_fear: 0.5365 - val_precision_happy: 0.8419 - val_precision_neutral: 0.5144 - val_precision_sad: 0.6597 - val_precision_surprise: 0.6210 - val_recall: 0.4910 - val_recall_angry: 0.2372 - val_recall_disgust: 0.2222 - val_recall_fear: 0.1226 - val_recall_happy: 0.7782 - val_recall_neutral: 0.6887 - val_recall_sad: 0.1967 - val_recall_surprise: 0.8154 - lr: 0.0010\n",
      "Epoch 18/50\n",
      "740/740 [==============================] - ETA: 0s - loss: 0.8114 - accuracy: 0.0000e+00 - categorical_accuracy: 0.6793 - precision: 0.7793 - precision_angry: 0.7481 - precision_disgust: 0.5539 - precision_fear: 0.7040 - precision_happy: 0.9224 - precision_neutral: 0.7136 - precision_sad: 0.6990 - precision_surprise: 0.7789 - recall: 0.5682 - recall_angry: 0.4762 - recall_disgust: 0.8770 - recall_fear: 0.3395 - recall_happy: 0.7962 - recall_neutral: 0.5190 - recall_sad: 0.3668 - recall_surprise: 0.7795\n",
      "Epoch 18: val_loss improved from 1.12121 to 1.09944, saving model to .\\model_mobilenet_v3_transfer_data_augmentation_balanced.h5\n",
      "740/740 [==============================] - 942s 1s/step - loss: 0.8114 - accuracy: 0.0000e+00 - categorical_accuracy: 0.6793 - precision: 0.7793 - precision_angry: 0.7481 - precision_disgust: 0.5539 - precision_fear: 0.7040 - precision_happy: 0.9224 - precision_neutral: 0.7136 - precision_sad: 0.6990 - precision_surprise: 0.7789 - recall: 0.5682 - recall_angry: 0.4762 - recall_disgust: 0.8770 - recall_fear: 0.3395 - recall_happy: 0.7962 - recall_neutral: 0.5190 - recall_sad: 0.3668 - recall_surprise: 0.7795 - val_loss: 1.0994 - val_accuracy: 0.0000e+00 - val_categorical_accuracy: 0.6017 - val_precision: 0.6853 - val_precision_angry: 0.6615 - val_precision_disgust: 0.3974 - val_precision_fear: 0.5312 - val_precision_happy: 0.8089 - val_precision_neutral: 0.5905 - val_precision_sad: 0.5767 - val_precision_surprise: 0.8129 - val_recall: 0.5044 - val_recall_angry: 0.2591 - val_recall_disgust: 0.4960 - val_recall_fear: 0.2443 - val_recall_happy: 0.8410 - val_recall_neutral: 0.5864 - val_recall_sad: 0.2565 - val_recall_surprise: 0.6309 - lr: 0.0010\n",
      "Epoch 19/50\n",
      "740/740 [==============================] - ETA: 0s - loss: 0.7853 - accuracy: 0.0000e+00 - categorical_accuracy: 0.6880 - precision: 0.7824 - precision_angry: 0.7374 - precision_disgust: 0.5790 - precision_fear: 0.7053 - precision_happy: 0.9250 - precision_neutral: 0.7242 - precision_sad: 0.6911 - precision_surprise: 0.7944 - recall: 0.5861 - recall_angry: 0.4936 - recall_disgust: 0.8851 - recall_fear: 0.3578 - recall_happy: 0.8125 - recall_neutral: 0.5352 - recall_sad: 0.3992 - recall_surprise: 0.7848\n",
      "Epoch 19: val_loss did not improve from 1.09944\n",
      "740/740 [==============================] - 928s 1s/step - loss: 0.7853 - accuracy: 0.0000e+00 - categorical_accuracy: 0.6880 - precision: 0.7824 - precision_angry: 0.7374 - precision_disgust: 0.5790 - precision_fear: 0.7053 - precision_happy: 0.9250 - precision_neutral: 0.7242 - precision_sad: 0.6911 - precision_surprise: 0.7944 - recall: 0.5861 - recall_angry: 0.4936 - recall_disgust: 0.8851 - recall_fear: 0.3578 - recall_happy: 0.8125 - recall_neutral: 0.5352 - recall_sad: 0.3992 - recall_surprise: 0.7848 - val_loss: 1.4792 - val_accuracy: 0.0000e+00 - val_categorical_accuracy: 0.5258 - val_precision: 0.6016 - val_precision_angry: 0.5395 - val_precision_disgust: 0.3605 - val_precision_fear: 0.5833 - val_precision_happy: 0.9515 - val_precision_neutral: 0.5118 - val_precision_sad: 0.5110 - val_precision_surprise: 0.5434 - val_recall: 0.4400 - val_recall_angry: 0.3504 - val_recall_disgust: 0.5000 - val_recall_fear: 0.1249 - val_recall_happy: 0.5229 - val_recall_neutral: 0.5366 - val_recall_sad: 0.2866 - val_recall_surprise: 0.8361 - lr: 0.0010\n",
      "Epoch 20/50\n",
      "740/740 [==============================] - ETA: 0s - loss: 0.7575 - accuracy: 0.0000e+00 - categorical_accuracy: 0.6947 - precision: 0.7847 - precision_angry: 0.7321 - precision_disgust: 0.6160 - precision_fear: 0.7205 - precision_happy: 0.9268 - precision_neutral: 0.7295 - precision_sad: 0.6965 - precision_surprise: 0.7883 - recall: 0.5931 - recall_angry: 0.5039 - recall_disgust: 0.9167 - recall_fear: 0.3681 - recall_happy: 0.7989 - recall_neutral: 0.5551 - recall_sad: 0.4142 - recall_surprise: 0.7928\n",
      "Epoch 20: val_loss did not improve from 1.09944\n",
      "740/740 [==============================] - 964s 1s/step - loss: 0.7575 - accuracy: 0.0000e+00 - categorical_accuracy: 0.6947 - precision: 0.7847 - precision_angry: 0.7321 - precision_disgust: 0.6160 - precision_fear: 0.7205 - precision_happy: 0.9268 - precision_neutral: 0.7295 - precision_sad: 0.6965 - precision_surprise: 0.7883 - recall: 0.5931 - recall_angry: 0.5039 - recall_disgust: 0.9167 - recall_fear: 0.3681 - recall_happy: 0.7989 - recall_neutral: 0.5551 - recall_sad: 0.4142 - recall_surprise: 0.7928 - val_loss: 1.1744 - val_accuracy: 0.0000e+00 - val_categorical_accuracy: 0.5966 - val_precision: 0.6752 - val_precision_angry: 0.6561 - val_precision_disgust: 0.7544 - val_precision_fear: 0.5543 - val_precision_happy: 0.9327 - val_precision_neutral: 0.6028 - val_precision_sad: 0.5502 - val_precision_surprise: 0.5788 - val_recall: 0.5044 - val_recall_angry: 0.4044 - val_recall_disgust: 0.3468 - val_recall_fear: 0.2426 - val_recall_happy: 0.6906 - val_recall_neutral: 0.4614 - val_recall_sad: 0.3674 - val_recall_surprise: 0.8467 - lr: 0.0010\n",
      "Epoch 21/50\n",
      "740/740 [==============================] - ETA: 0s - loss: 0.7730 - accuracy: 0.0000e+00 - categorical_accuracy: 0.6924 - precision: 0.7841 - precision_angry: 0.7387 - precision_disgust: 0.5702 - precision_fear: 0.7169 - precision_happy: 0.9222 - precision_neutral: 0.7434 - precision_sad: 0.6973 - precision_surprise: 0.7819 - recall: 0.5905 - recall_angry: 0.4868 - recall_disgust: 0.9028 - recall_fear: 0.3644 - recall_happy: 0.8112 - recall_neutral: 0.5516 - recall_sad: 0.4144 - recall_surprise: 0.7766\n",
      "Epoch 21: val_loss did not improve from 1.09944\n",
      "740/740 [==============================] - 957s 1s/step - loss: 0.7730 - accuracy: 0.0000e+00 - categorical_accuracy: 0.6924 - precision: 0.7841 - precision_angry: 0.7387 - precision_disgust: 0.5702 - precision_fear: 0.7169 - precision_happy: 0.9222 - precision_neutral: 0.7434 - precision_sad: 0.6973 - precision_surprise: 0.7819 - recall: 0.5905 - recall_angry: 0.4868 - recall_disgust: 0.9028 - recall_fear: 0.3644 - recall_happy: 0.8112 - recall_neutral: 0.5516 - recall_sad: 0.4144 - recall_surprise: 0.7766 - val_loss: 1.3706 - val_accuracy: 0.0000e+00 - val_categorical_accuracy: 0.5538 - val_precision: 0.6327 - val_precision_angry: 0.6106 - val_precision_disgust: 0.5128 - val_precision_fear: 0.4808 - val_precision_happy: 0.8723 - val_precision_neutral: 0.5257 - val_precision_sad: 0.6585 - val_precision_surprise: 0.5227 - val_recall: 0.4713 - val_recall_angry: 0.3098 - val_recall_disgust: 0.3175 - val_recall_fear: 0.1195 - val_recall_happy: 0.7302 - val_recall_neutral: 0.6219 - val_recall_sad: 0.1113 - val_recall_surprise: 0.8701 - lr: 0.0010\n",
      "Epoch 22/50\n",
      "740/740 [==============================] - ETA: 0s - loss: 0.7515 - accuracy: 0.0000e+00 - categorical_accuracy: 0.6996 - precision: 0.7897 - precision_angry: 0.7424 - precision_disgust: 0.6195 - precision_fear: 0.7255 - precision_happy: 0.9266 - precision_neutral: 0.7321 - precision_sad: 0.6978 - precision_surprise: 0.8011 - recall: 0.6040 - recall_angry: 0.5205 - recall_disgust: 0.8948 - recall_fear: 0.3909 - recall_happy: 0.8139 - recall_neutral: 0.5623 - recall_sad: 0.4069 - recall_surprise: 0.8117\n",
      "Epoch 22: val_loss improved from 1.09944 to 1.09698, saving model to .\\model_mobilenet_v3_transfer_data_augmentation_balanced.h5\n",
      "740/740 [==============================] - 947s 1s/step - loss: 0.7515 - accuracy: 0.0000e+00 - categorical_accuracy: 0.6996 - precision: 0.7897 - precision_angry: 0.7424 - precision_disgust: 0.6195 - precision_fear: 0.7255 - precision_happy: 0.9266 - precision_neutral: 0.7321 - precision_sad: 0.6978 - precision_surprise: 0.8011 - recall: 0.6040 - recall_angry: 0.5205 - recall_disgust: 0.8948 - recall_fear: 0.3909 - recall_happy: 0.8139 - recall_neutral: 0.5623 - recall_sad: 0.4069 - recall_surprise: 0.8117 - val_loss: 1.0970 - val_accuracy: 0.0000e+00 - val_categorical_accuracy: 0.6073 - val_precision: 0.7031 - val_precision_angry: 0.6323 - val_precision_disgust: 0.4771 - val_precision_fear: 0.5785 - val_precision_happy: 0.9009 - val_precision_neutral: 0.6699 - val_precision_sad: 0.6262 - val_precision_surprise: 0.6316 - val_recall: 0.5100 - val_recall_angry: 0.3585 - val_recall_disgust: 0.5794 - val_recall_fear: 0.2503 - val_recall_happy: 0.7391 - val_recall_neutral: 0.4723 - val_recall_sad: 0.3251 - val_recall_surprise: 0.8364 - lr: 0.0010\n",
      "Epoch 23/50\n",
      "740/740 [==============================] - ETA: 0s - loss: 0.7305 - accuracy: 0.0000e+00 - categorical_accuracy: 0.7027 - precision: 0.7910 - precision_angry: 0.7445 - precision_disgust: 0.6282 - precision_fear: 0.7246 - precision_happy: 0.9239 - precision_neutral: 0.7414 - precision_sad: 0.6994 - precision_surprise: 0.7985 - recall: 0.6113 - recall_angry: 0.5370 - recall_disgust: 0.9286 - recall_fear: 0.3892 - recall_happy: 0.8281 - recall_neutral: 0.5553 - recall_sad: 0.4268 - recall_surprise: 0.8018\n",
      "Epoch 23: val_loss did not improve from 1.09698\n",
      "740/740 [==============================] - 929s 1s/step - loss: 0.7305 - accuracy: 0.0000e+00 - categorical_accuracy: 0.7027 - precision: 0.7910 - precision_angry: 0.7445 - precision_disgust: 0.6282 - precision_fear: 0.7246 - precision_happy: 0.9239 - precision_neutral: 0.7414 - precision_sad: 0.6994 - precision_surprise: 0.7985 - recall: 0.6113 - recall_angry: 0.5370 - recall_disgust: 0.9286 - recall_fear: 0.3892 - recall_happy: 0.8281 - recall_neutral: 0.5553 - recall_sad: 0.4268 - recall_surprise: 0.8018 - val_loss: 1.1503 - val_accuracy: 0.0000e+00 - val_categorical_accuracy: 0.6044 - val_precision: 0.6772 - val_precision_angry: 0.6481 - val_precision_disgust: 0.7674 - val_precision_fear: 0.5088 - val_precision_happy: 0.8397 - val_precision_neutral: 0.6532 - val_precision_sad: 0.5163 - val_precision_surprise: 0.6941 - val_recall: 0.5336 - val_recall_angry: 0.3851 - val_recall_disgust: 0.2619 - val_recall_fear: 0.2765 - val_recall_happy: 0.8071 - val_recall_neutral: 0.4310 - val_recall_sad: 0.4596 - val_recall_surprise: 0.7553 - lr: 0.0010\n",
      "Epoch 24/50\n",
      "740/740 [==============================] - ETA: 0s - loss: 0.7178 - accuracy: 0.0000e+00 - categorical_accuracy: 0.7148 - precision: 0.7955 - precision_angry: 0.7598 - precision_disgust: 0.6475 - precision_fear: 0.7336 - precision_happy: 0.9283 - precision_neutral: 0.7345 - precision_sad: 0.7047 - precision_surprise: 0.8082 - recall: 0.6215 - recall_angry: 0.5493 - recall_disgust: 0.9147 - recall_fear: 0.4245 - recall_happy: 0.8192 - recall_neutral: 0.5761 - recall_sad: 0.4322 - recall_surprise: 0.8145\n",
      "Epoch 24: val_loss improved from 1.09698 to 1.09168, saving model to .\\model_mobilenet_v3_transfer_data_augmentation_balanced.h5\n",
      "740/740 [==============================] - 964s 1s/step - loss: 0.7178 - accuracy: 0.0000e+00 - categorical_accuracy: 0.7148 - precision: 0.7955 - precision_angry: 0.7598 - precision_disgust: 0.6475 - precision_fear: 0.7336 - precision_happy: 0.9283 - precision_neutral: 0.7345 - precision_sad: 0.7047 - precision_surprise: 0.8082 - recall: 0.6215 - recall_angry: 0.5493 - recall_disgust: 0.9147 - recall_fear: 0.4245 - recall_happy: 0.8192 - recall_neutral: 0.5761 - recall_sad: 0.4322 - recall_surprise: 0.8145 - val_loss: 1.0917 - val_accuracy: 0.0000e+00 - val_categorical_accuracy: 0.6080 - val_precision: 0.6952 - val_precision_angry: 0.7125 - val_precision_disgust: 0.5221 - val_precision_fear: 0.5697 - val_precision_happy: 0.8546 - val_precision_neutral: 0.5928 - val_precision_sad: 0.5459 - val_precision_surprise: 0.7405 - val_recall: 0.5206 - val_recall_angry: 0.2787 - val_recall_disgust: 0.4683 - val_recall_fear: 0.2286 - val_recall_happy: 0.8067 - val_recall_neutral: 0.5682 - val_recall_sad: 0.3568 - val_recall_surprise: 0.7337 - lr: 0.0010\n",
      "Epoch 25/50\n",
      "740/740 [==============================] - ETA: 0s - loss: 0.7092 - accuracy: 0.0000e+00 - categorical_accuracy: 0.7150 - precision: 0.7958 - precision_angry: 0.7537 - precision_disgust: 0.6291 - precision_fear: 0.7263 - precision_happy: 0.9282 - precision_neutral: 0.7369 - precision_sad: 0.7122 - precision_surprise: 0.8175 - recall: 0.6248 - recall_angry: 0.5506 - recall_disgust: 0.9187 - recall_fear: 0.4251 - recall_happy: 0.8247 - recall_neutral: 0.5728 - recall_sad: 0.4435 - recall_surprise: 0.8178\n",
      "Epoch 25: val_loss improved from 1.09168 to 1.07500, saving model to .\\model_mobilenet_v3_transfer_data_augmentation_balanced.h5\n",
      "740/740 [==============================] - 938s 1s/step - loss: 0.7092 - accuracy: 0.0000e+00 - categorical_accuracy: 0.7150 - precision: 0.7958 - precision_angry: 0.7537 - precision_disgust: 0.6291 - precision_fear: 0.7263 - precision_happy: 0.9282 - precision_neutral: 0.7369 - precision_sad: 0.7122 - precision_surprise: 0.8175 - recall: 0.6248 - recall_angry: 0.5506 - recall_disgust: 0.9187 - recall_fear: 0.4251 - recall_happy: 0.8247 - recall_neutral: 0.5728 - recall_sad: 0.4435 - recall_surprise: 0.8178 - val_loss: 1.0750 - val_accuracy: 0.0000e+00 - val_categorical_accuracy: 0.6260 - val_precision: 0.6894 - val_precision_angry: 0.6062 - val_precision_disgust: 0.6782 - val_precision_fear: 0.5529 - val_precision_happy: 0.8624 - val_precision_neutral: 0.5671 - val_precision_sad: 0.6162 - val_precision_surprise: 0.7767 - val_recall: 0.5647 - val_recall_angry: 0.4762 - val_recall_disgust: 0.4683 - val_recall_fear: 0.3055 - val_recall_happy: 0.8300 - val_recall_neutral: 0.6834 - val_recall_sad: 0.2526 - val_recall_surprise: 0.7082 - lr: 0.0010\n",
      "Epoch 26/50\n",
      "740/740 [==============================] - ETA: 0s - loss: 0.6957 - accuracy: 0.0000e+00 - categorical_accuracy: 0.7228 - precision: 0.7994 - precision_angry: 0.7529 - precision_disgust: 0.6436 - precision_fear: 0.7370 - precision_happy: 0.9272 - precision_neutral: 0.7499 - precision_sad: 0.7206 - precision_surprise: 0.8134 - recall: 0.6362 - recall_angry: 0.5606 - recall_disgust: 0.9246 - recall_fear: 0.4332 - recall_happy: 0.8273 - recall_neutral: 0.5958 - recall_sad: 0.4671 - recall_surprise: 0.8195\n",
      "Epoch 26: val_loss improved from 1.07500 to 1.06467, saving model to .\\model_mobilenet_v3_transfer_data_augmentation_balanced.h5\n",
      "740/740 [==============================] - 954s 1s/step - loss: 0.6957 - accuracy: 0.0000e+00 - categorical_accuracy: 0.7228 - precision: 0.7994 - precision_angry: 0.7529 - precision_disgust: 0.6436 - precision_fear: 0.7370 - precision_happy: 0.9272 - precision_neutral: 0.7499 - precision_sad: 0.7206 - precision_surprise: 0.8134 - recall: 0.6362 - recall_angry: 0.5606 - recall_disgust: 0.9246 - recall_fear: 0.4332 - recall_happy: 0.8273 - recall_neutral: 0.5958 - recall_sad: 0.4671 - recall_surprise: 0.8195 - val_loss: 1.0647 - val_accuracy: 0.0000e+00 - val_categorical_accuracy: 0.6208 - val_precision: 0.7062 - val_precision_angry: 0.6131 - val_precision_disgust: 0.4072 - val_precision_fear: 0.6052 - val_precision_happy: 0.9027 - val_precision_neutral: 0.6027 - val_precision_sad: 0.6864 - val_precision_surprise: 0.7623 - val_recall: 0.5377 - val_recall_angry: 0.4793 - val_recall_disgust: 0.6320 - val_recall_fear: 0.3369 - val_recall_happy: 0.7648 - val_recall_neutral: 0.6218 - val_recall_sad: 0.2035 - val_recall_surprise: 0.7035 - lr: 0.0010\n",
      "Epoch 27/50\n",
      "740/740 [==============================] - ETA: 0s - loss: 0.6885 - accuracy: 0.0000e+00 - categorical_accuracy: 0.7240 - precision: 0.7995 - precision_angry: 0.7604 - precision_disgust: 0.6188 - precision_fear: 0.7271 - precision_happy: 0.9333 - precision_neutral: 0.7442 - precision_sad: 0.7293 - precision_surprise: 0.8148 - recall: 0.6413 - recall_angry: 0.5685 - recall_disgust: 0.9183 - recall_fear: 0.4376 - recall_happy: 0.8256 - recall_neutral: 0.6054 - recall_sad: 0.4711 - recall_surprise: 0.8348\n",
      "Epoch 27: val_loss did not improve from 1.06467\n",
      "740/740 [==============================] - 963s 1s/step - loss: 0.6885 - accuracy: 0.0000e+00 - categorical_accuracy: 0.7240 - precision: 0.7995 - precision_angry: 0.7604 - precision_disgust: 0.6188 - precision_fear: 0.7271 - precision_happy: 0.9333 - precision_neutral: 0.7442 - precision_sad: 0.7293 - precision_surprise: 0.8148 - recall: 0.6413 - recall_angry: 0.5685 - recall_disgust: 0.9183 - recall_fear: 0.4376 - recall_happy: 0.8256 - recall_neutral: 0.6054 - recall_sad: 0.4711 - recall_surprise: 0.8348 - val_loss: 1.0888 - val_accuracy: 0.0000e+00 - val_categorical_accuracy: 0.6243 - val_precision: 0.6936 - val_precision_angry: 0.6857 - val_precision_disgust: 0.4792 - val_precision_fear: 0.6124 - val_precision_happy: 0.8768 - val_precision_neutral: 0.5982 - val_precision_sad: 0.5614 - val_precision_surprise: 0.7130 - val_recall: 0.5552 - val_recall_angry: 0.3212 - val_recall_disgust: 0.5520 - val_recall_fear: 0.3062 - val_recall_happy: 0.8109 - val_recall_neutral: 0.5781 - val_recall_sad: 0.4386 - val_recall_surprise: 0.7314 - lr: 0.0010\n",
      "Epoch 28/50\n",
      "740/740 [==============================] - ETA: 0s - loss: 0.6481 - accuracy: 0.0000e+00 - categorical_accuracy: 0.7380 - precision: 0.8097 - precision_angry: 0.7720 - precision_disgust: 0.7101 - precision_fear: 0.7487 - precision_happy: 0.9316 - precision_neutral: 0.7534 - precision_sad: 0.7327 - precision_surprise: 0.8232 - recall: 0.6624 - recall_angry: 0.5922 - recall_disgust: 0.9505 - recall_fear: 0.4766 - recall_happy: 0.8432 - recall_neutral: 0.6242 - recall_sad: 0.4961 - recall_surprise: 0.8325\n",
      "Epoch 28: val_loss did not improve from 1.06467\n",
      "740/740 [==============================] - 938s 1s/step - loss: 0.6481 - accuracy: 0.0000e+00 - categorical_accuracy: 0.7380 - precision: 0.8097 - precision_angry: 0.7720 - precision_disgust: 0.7101 - precision_fear: 0.7487 - precision_happy: 0.9316 - precision_neutral: 0.7534 - precision_sad: 0.7327 - precision_surprise: 0.8232 - recall: 0.6624 - recall_angry: 0.5922 - recall_disgust: 0.9505 - recall_fear: 0.4766 - recall_happy: 0.8432 - recall_neutral: 0.6242 - recall_sad: 0.4961 - recall_surprise: 0.8325 - val_loss: 1.2376 - val_accuracy: 0.0000e+00 - val_categorical_accuracy: 0.5817 - val_precision: 0.6501 - val_precision_angry: 0.7015 - val_precision_disgust: 0.6705 - val_precision_fear: 0.4068 - val_precision_happy: 0.9362 - val_precision_neutral: 0.6404 - val_precision_sad: 0.5356 - val_precision_surprise: 0.6708 - val_recall: 0.5124 - val_recall_angry: 0.3350 - val_recall_disgust: 0.4683 - val_recall_fear: 0.5012 - val_recall_happy: 0.6621 - val_recall_neutral: 0.4584 - val_recall_sad: 0.3567 - val_recall_surprise: 0.7360 - lr: 0.0010\n",
      "Epoch 29/50\n",
      "740/740 [==============================] - ETA: 0s - loss: 0.6525 - accuracy: 0.0000e+00 - categorical_accuracy: 0.7392 - precision: 0.8093 - precision_angry: 0.7690 - precision_disgust: 0.6814 - precision_fear: 0.7603 - precision_happy: 0.9365 - precision_neutral: 0.7553 - precision_sad: 0.7288 - precision_surprise: 0.8187 - recall: 0.6638 - recall_angry: 0.6000 - recall_disgust: 0.9446 - recall_fear: 0.4720 - recall_happy: 0.8384 - recall_neutral: 0.6175 - recall_sad: 0.5132 - recall_surprise: 0.8382\n",
      "Epoch 29: val_loss did not improve from 1.06467\n",
      "740/740 [==============================] - 937s 1s/step - loss: 0.6525 - accuracy: 0.0000e+00 - categorical_accuracy: 0.7392 - precision: 0.8093 - precision_angry: 0.7690 - precision_disgust: 0.6814 - precision_fear: 0.7603 - precision_happy: 0.9365 - precision_neutral: 0.7553 - precision_sad: 0.7288 - precision_surprise: 0.8187 - recall: 0.6638 - recall_angry: 0.6000 - recall_disgust: 0.9446 - recall_fear: 0.4720 - recall_happy: 0.8384 - recall_neutral: 0.6175 - recall_sad: 0.5132 - recall_surprise: 0.8382 - val_loss: 1.1024 - val_accuracy: 0.0000e+00 - val_categorical_accuracy: 0.6104 - val_precision: 0.6982 - val_precision_angry: 0.6106 - val_precision_disgust: 0.6023 - val_precision_fear: 0.5222 - val_precision_happy: 0.9068 - val_precision_neutral: 0.6322 - val_precision_sad: 0.5839 - val_precision_surprise: 0.7346 - val_recall: 0.5119 - val_recall_angry: 0.4326 - val_recall_disgust: 0.4206 - val_recall_fear: 0.3808 - val_recall_happy: 0.7377 - val_recall_neutral: 0.4654 - val_recall_sad: 0.2916 - val_recall_surprise: 0.6868 - lr: 0.0010\n",
      "Epoch 30/50\n",
      "740/740 [==============================] - ETA: 0s - loss: 0.6480 - accuracy: 0.0000e+00 - categorical_accuracy: 0.7402 - precision: 0.8103 - precision_angry: 0.7770 - precision_disgust: 0.6828 - precision_fear: 0.7350 - precision_happy: 0.9359 - precision_neutral: 0.7553 - precision_sad: 0.7364 - precision_surprise: 0.8287 - recall: 0.6636 - recall_angry: 0.5964 - recall_disgust: 0.9226 - recall_fear: 0.4668 - recall_happy: 0.8419 - recall_neutral: 0.6234 - recall_sad: 0.5082 - recall_surprise: 0.8421\n",
      "Epoch 30: val_loss did not improve from 1.06467\n",
      "740/740 [==============================] - 939s 1s/step - loss: 0.6480 - accuracy: 0.0000e+00 - categorical_accuracy: 0.7402 - precision: 0.8103 - precision_angry: 0.7770 - precision_disgust: 0.6828 - precision_fear: 0.7350 - precision_happy: 0.9359 - precision_neutral: 0.7553 - precision_sad: 0.7364 - precision_surprise: 0.8287 - recall: 0.6636 - recall_angry: 0.5964 - recall_disgust: 0.9226 - recall_fear: 0.4668 - recall_happy: 0.8419 - recall_neutral: 0.6234 - recall_sad: 0.5082 - recall_surprise: 0.8421 - val_loss: 1.0968 - val_accuracy: 0.0000e+00 - val_categorical_accuracy: 0.6094 - val_precision: 0.6891 - val_precision_angry: 0.6430 - val_precision_disgust: 0.6269 - val_precision_fear: 0.4824 - val_precision_happy: 0.9086 - val_precision_neutral: 0.6522 - val_precision_sad: 0.5693 - val_precision_surprise: 0.7487 - val_recall: 0.5387 - val_recall_angry: 0.3752 - val_recall_disgust: 0.6667 - val_recall_fear: 0.4250 - val_recall_happy: 0.7473 - val_recall_neutral: 0.4896 - val_recall_sad: 0.4241 - val_recall_surprise: 0.6438 - lr: 0.0010\n",
      "Epoch 31/50\n",
      "740/740 [==============================] - ETA: 0s - loss: 0.6197 - accuracy: 0.0000e+00 - categorical_accuracy: 0.7478 - precision: 0.8132 - precision_angry: 0.7804 - precision_disgust: 0.7043 - precision_fear: 0.7463 - precision_happy: 0.9365 - precision_neutral: 0.7583 - precision_sad: 0.7417 - precision_surprise: 0.8288 - recall: 0.6746 - recall_angry: 0.6099 - recall_disgust: 0.9405 - recall_fear: 0.5034 - recall_happy: 0.8395 - recall_neutral: 0.6371 - recall_sad: 0.5187 - recall_surprise: 0.8428\n",
      "Epoch 31: val_loss improved from 1.06467 to 1.02587, saving model to .\\model_mobilenet_v3_transfer_data_augmentation_balanced.h5\n",
      "740/740 [==============================] - 926s 1s/step - loss: 0.6197 - accuracy: 0.0000e+00 - categorical_accuracy: 0.7478 - precision: 0.8132 - precision_angry: 0.7804 - precision_disgust: 0.7043 - precision_fear: 0.7463 - precision_happy: 0.9365 - precision_neutral: 0.7583 - precision_sad: 0.7417 - precision_surprise: 0.8288 - recall: 0.6746 - recall_angry: 0.6099 - recall_disgust: 0.9405 - recall_fear: 0.5034 - recall_happy: 0.8395 - recall_neutral: 0.6371 - recall_sad: 0.5187 - recall_surprise: 0.8428 - val_loss: 1.0259 - val_accuracy: 0.0000e+00 - val_categorical_accuracy: 0.6427 - val_precision: 0.7235 - val_precision_angry: 0.5932 - val_precision_disgust: 0.6754 - val_precision_fear: 0.5943 - val_precision_happy: 0.9069 - val_precision_neutral: 0.6651 - val_precision_sad: 0.6155 - val_precision_surprise: 0.8010 - val_recall: 0.5657 - val_recall_angry: 0.5110 - val_recall_disgust: 0.6111 - val_recall_fear: 0.3768 - val_recall_happy: 0.7823 - val_recall_neutral: 0.5510 - val_recall_sad: 0.3684 - val_recall_surprise: 0.6934 - lr: 0.0010\n",
      "Epoch 32/50\n",
      "740/740 [==============================] - ETA: 0s - loss: 0.6044 - accuracy: 0.0000e+00 - categorical_accuracy: 0.7536 - precision: 0.8151 - precision_angry: 0.7822 - precision_disgust: 0.7340 - precision_fear: 0.7504 - precision_happy: 0.9339 - precision_neutral: 0.7627 - precision_sad: 0.7440 - precision_surprise: 0.8286 - recall: 0.6867 - recall_angry: 0.6355 - recall_disgust: 0.9564 - recall_fear: 0.5182 - recall_happy: 0.8464 - recall_neutral: 0.6453 - recall_sad: 0.5307 - recall_surprise: 0.8511\n",
      "Epoch 32: val_loss did not improve from 1.02587\n",
      "740/740 [==============================] - 934s 1s/step - loss: 0.6044 - accuracy: 0.0000e+00 - categorical_accuracy: 0.7536 - precision: 0.8151 - precision_angry: 0.7822 - precision_disgust: 0.7340 - precision_fear: 0.7504 - precision_happy: 0.9339 - precision_neutral: 0.7627 - precision_sad: 0.7440 - precision_surprise: 0.8286 - recall: 0.6867 - recall_angry: 0.6355 - recall_disgust: 0.9564 - recall_fear: 0.5182 - recall_happy: 0.8464 - recall_neutral: 0.6453 - recall_sad: 0.5307 - recall_surprise: 0.8511 - val_loss: 1.1959 - val_accuracy: 0.0000e+00 - val_categorical_accuracy: 0.5973 - val_precision: 0.6677 - val_precision_angry: 0.5199 - val_precision_disgust: 0.6542 - val_precision_fear: 0.5209 - val_precision_happy: 0.9476 - val_precision_neutral: 0.6523 - val_precision_sad: 0.6121 - val_precision_surprise: 0.6446 - val_recall: 0.5200 - val_recall_angry: 0.5401 - val_recall_disgust: 0.5645 - val_recall_fear: 0.3848 - val_recall_happy: 0.6441 - val_recall_neutral: 0.4186 - val_recall_sad: 0.3451 - val_recall_surprise: 0.7958 - lr: 0.0010\n",
      "Epoch 33/50\n",
      "740/740 [==============================] - ETA: 0s - loss: 0.5944 - accuracy: 0.0000e+00 - categorical_accuracy: 0.7588 - precision: 0.8199 - precision_angry: 0.7918 - precision_disgust: 0.7310 - precision_fear: 0.7531 - precision_happy: 0.9395 - precision_neutral: 0.7652 - precision_sad: 0.7476 - precision_surprise: 0.8388 - recall: 0.6951 - recall_angry: 0.6533 - recall_disgust: 0.9525 - recall_fear: 0.5295 - recall_happy: 0.8504 - recall_neutral: 0.6527 - recall_sad: 0.5427 - recall_surprise: 0.8524\n",
      "Epoch 33: val_loss did not improve from 1.02587\n",
      "740/740 [==============================] - 963s 1s/step - loss: 0.5944 - accuracy: 0.0000e+00 - categorical_accuracy: 0.7588 - precision: 0.8199 - precision_angry: 0.7918 - precision_disgust: 0.7310 - precision_fear: 0.7531 - precision_happy: 0.9395 - precision_neutral: 0.7652 - precision_sad: 0.7476 - precision_surprise: 0.8388 - recall: 0.6951 - recall_angry: 0.6533 - recall_disgust: 0.9525 - recall_fear: 0.5295 - recall_happy: 0.8504 - recall_neutral: 0.6527 - recall_sad: 0.5427 - recall_surprise: 0.8524 - val_loss: 1.1209 - val_accuracy: 0.0000e+00 - val_categorical_accuracy: 0.6286 - val_precision: 0.6908 - val_precision_angry: 0.6194 - val_precision_disgust: 0.7612 - val_precision_fear: 0.5752 - val_precision_happy: 0.8801 - val_precision_neutral: 0.6137 - val_precision_sad: 0.5193 - val_precision_surprise: 0.7726 - val_recall: 0.5654 - val_recall_angry: 0.4377 - val_recall_disgust: 0.4113 - val_recall_fear: 0.2818 - val_recall_happy: 0.7992 - val_recall_neutral: 0.5510 - val_recall_sad: 0.4721 - val_recall_surprise: 0.7527 - lr: 0.0010\n",
      "Epoch 34/50\n",
      "740/740 [==============================] - ETA: 0s - loss: 0.6024 - accuracy: 0.0000e+00 - categorical_accuracy: 0.7575 - precision: 0.8235 - precision_angry: 0.7899 - precision_disgust: 0.6878 - precision_fear: 0.7739 - precision_happy: 0.9361 - precision_neutral: 0.7703 - precision_sad: 0.7586 - precision_surprise: 0.8446 - recall: 0.6913 - recall_angry: 0.6311 - recall_disgust: 0.9465 - recall_fear: 0.5218 - recall_happy: 0.8498 - recall_neutral: 0.6522 - recall_sad: 0.5396 - recall_surprise: 0.8640\n",
      "Epoch 34: val_loss did not improve from 1.02587\n",
      "740/740 [==============================] - 942s 1s/step - loss: 0.6024 - accuracy: 0.0000e+00 - categorical_accuracy: 0.7575 - precision: 0.8235 - precision_angry: 0.7899 - precision_disgust: 0.6878 - precision_fear: 0.7739 - precision_happy: 0.9361 - precision_neutral: 0.7703 - precision_sad: 0.7586 - precision_surprise: 0.8446 - recall: 0.6913 - recall_angry: 0.6311 - recall_disgust: 0.9465 - recall_fear: 0.5218 - recall_happy: 0.8498 - recall_neutral: 0.6522 - recall_sad: 0.5396 - recall_surprise: 0.8640 - val_loss: 1.1985 - val_accuracy: 0.0000e+00 - val_categorical_accuracy: 0.6124 - val_precision: 0.6723 - val_precision_angry: 0.6275 - val_precision_disgust: 0.3785 - val_precision_fear: 0.6286 - val_precision_happy: 0.9044 - val_precision_neutral: 0.6000 - val_precision_sad: 0.5747 - val_precision_surprise: 0.6148 - val_recall: 0.5554 - val_recall_angry: 0.4227 - val_recall_disgust: 0.6532 - val_recall_fear: 0.2357 - val_recall_happy: 0.7681 - val_recall_neutral: 0.5436 - val_recall_sad: 0.4178 - val_recall_surprise: 0.8561 - lr: 0.0010\n",
      "Epoch 35/50\n",
      "740/740 [==============================] - ETA: 0s - loss: 0.5878 - accuracy: 0.0000e+00 - categorical_accuracy: 0.7602 - precision: 0.8236 - precision_angry: 0.7931 - precision_disgust: 0.6958 - precision_fear: 0.7716 - precision_happy: 0.9349 - precision_neutral: 0.7670 - precision_sad: 0.7609 - precision_surprise: 0.8518 - recall: 0.6990 - recall_angry: 0.6441 - recall_disgust: 0.9465 - recall_fear: 0.5541 - recall_happy: 0.8447 - recall_neutral: 0.6559 - recall_sad: 0.5496 - recall_surprise: 0.8666\n",
      "Epoch 35: val_loss did not improve from 1.02587\n",
      "740/740 [==============================] - 944s 1s/step - loss: 0.5878 - accuracy: 0.0000e+00 - categorical_accuracy: 0.7602 - precision: 0.8236 - precision_angry: 0.7931 - precision_disgust: 0.6958 - precision_fear: 0.7716 - precision_happy: 0.9349 - precision_neutral: 0.7670 - precision_sad: 0.7609 - precision_surprise: 0.8518 - recall: 0.6990 - recall_angry: 0.6441 - recall_disgust: 0.9465 - recall_fear: 0.5541 - recall_happy: 0.8447 - recall_neutral: 0.6559 - recall_sad: 0.5496 - recall_surprise: 0.8666 - val_loss: 1.1371 - val_accuracy: 0.0000e+00 - val_categorical_accuracy: 0.6116 - val_precision: 0.6788 - val_precision_angry: 0.6007 - val_precision_disgust: 0.5750 - val_precision_fear: 0.5506 - val_precision_happy: 0.9078 - val_precision_neutral: 0.6358 - val_precision_sad: 0.4990 - val_precision_surprise: 0.7653 - val_recall: 0.5409 - val_recall_angry: 0.4382 - val_recall_disgust: 0.5476 - val_recall_fear: 0.3103 - val_recall_happy: 0.7539 - val_recall_neutral: 0.4413 - val_recall_sad: 0.5150 - val_recall_surprise: 0.6787 - lr: 0.0010\n",
      "Epoch 36/50\n",
      "740/740 [==============================] - ETA: 0s - loss: 0.5621 - accuracy: 0.0000e+00 - categorical_accuracy: 0.7718 - precision: 0.8297 - precision_angry: 0.7926 - precision_disgust: 0.7618 - precision_fear: 0.7720 - precision_happy: 0.9396 - precision_neutral: 0.7838 - precision_sad: 0.7655 - precision_surprise: 0.8458 - recall: 0.7137 - recall_angry: 0.6716 - recall_disgust: 0.9643 - recall_fear: 0.5583 - recall_happy: 0.8601 - recall_neutral: 0.6727 - recall_sad: 0.5726 - recall_surprise: 0.8621\n",
      "Epoch 36: val_loss did not improve from 1.02587\n",
      "\n",
      "Epoch 36: ReduceLROnPlateau reducing learning rate to 0.00010000000474974513.\n",
      "740/740 [==============================] - 947s 1s/step - loss: 0.5621 - accuracy: 0.0000e+00 - categorical_accuracy: 0.7718 - precision: 0.8297 - precision_angry: 0.7926 - precision_disgust: 0.7618 - precision_fear: 0.7720 - precision_happy: 0.9396 - precision_neutral: 0.7838 - precision_sad: 0.7655 - precision_surprise: 0.8458 - recall: 0.7137 - recall_angry: 0.6716 - recall_disgust: 0.9643 - recall_fear: 0.5583 - recall_happy: 0.8601 - recall_neutral: 0.6727 - recall_sad: 0.5726 - recall_surprise: 0.8621 - val_loss: 1.1056 - val_accuracy: 0.0000e+00 - val_categorical_accuracy: 0.6187 - val_precision: 0.6968 - val_precision_angry: 0.6073 - val_precision_disgust: 0.5794 - val_precision_fear: 0.6100 - val_precision_happy: 0.8953 - val_precision_neutral: 0.6516 - val_precision_sad: 0.5850 - val_precision_surprise: 0.6450 - val_recall: 0.5343 - val_recall_angry: 0.4249 - val_recall_disgust: 0.5794 - val_recall_fear: 0.2610 - val_recall_happy: 0.7468 - val_recall_neutral: 0.5543 - val_recall_sad: 0.3554 - val_recall_surprise: 0.7693 - lr: 0.0010\n",
      "Epoch 37/50\n",
      "740/740 [==============================] - ETA: 0s - loss: 0.4842 - accuracy: 0.0000e+00 - categorical_accuracy: 0.8040 - precision: 0.8551 - precision_angry: 0.8265 - precision_disgust: 0.7891 - precision_fear: 0.8217 - precision_happy: 0.9475 - precision_neutral: 0.8105 - precision_sad: 0.7926 - precision_surprise: 0.8713 - recall: 0.7445 - recall_angry: 0.7000 - recall_disgust: 0.9802 - recall_fear: 0.6123 - recall_happy: 0.8771 - recall_neutral: 0.6982 - recall_sad: 0.6085 - recall_surprise: 0.8993\n",
      "Epoch 37: val_loss did not improve from 1.02587\n",
      "740/740 [==============================] - 934s 1s/step - loss: 0.4842 - accuracy: 0.0000e+00 - categorical_accuracy: 0.8040 - precision: 0.8551 - precision_angry: 0.8265 - precision_disgust: 0.7891 - precision_fear: 0.8217 - precision_happy: 0.9475 - precision_neutral: 0.8105 - precision_sad: 0.7926 - precision_surprise: 0.8713 - recall: 0.7445 - recall_angry: 0.7000 - recall_disgust: 0.9802 - recall_fear: 0.6123 - recall_happy: 0.8771 - recall_neutral: 0.6982 - recall_sad: 0.6085 - recall_surprise: 0.8993 - val_loss: 1.0263 - val_accuracy: 0.0000e+00 - val_categorical_accuracy: 0.6654 - val_precision: 0.7167 - val_precision_angry: 0.6478 - val_precision_disgust: 0.7228 - val_precision_fear: 0.5924 - val_precision_happy: 0.9060 - val_precision_neutral: 0.6327 - val_precision_sad: 0.6083 - val_precision_surprise: 0.7489 - val_recall: 0.6182 - val_recall_angry: 0.5317 - val_recall_disgust: 0.5794 - val_recall_fear: 0.3893 - val_recall_happy: 0.8299 - val_recall_neutral: 0.6396 - val_recall_sad: 0.4411 - val_recall_surprise: 0.7818 - lr: 1.0000e-04\n",
      "Epoch 38/50\n",
      "740/740 [==============================] - ETA: 0s - loss: 0.4345 - accuracy: 0.0000e+00 - categorical_accuracy: 0.8203 - precision: 0.8633 - precision_angry: 0.8408 - precision_disgust: 0.8505 - precision_fear: 0.8277 - precision_happy: 0.9552 - precision_neutral: 0.8123 - precision_sad: 0.8038 - precision_surprise: 0.8806 - recall: 0.7774 - recall_angry: 0.7563 - recall_disgust: 0.9802 - recall_fear: 0.6572 - recall_happy: 0.8849 - recall_neutral: 0.7435 - recall_sad: 0.6582 - recall_surprise: 0.9065\n",
      "Epoch 38: val_loss did not improve from 1.02587\n",
      "740/740 [==============================] - 968s 1s/step - loss: 0.4345 - accuracy: 0.0000e+00 - categorical_accuracy: 0.8203 - precision: 0.8633 - precision_angry: 0.8408 - precision_disgust: 0.8505 - precision_fear: 0.8277 - precision_happy: 0.9552 - precision_neutral: 0.8123 - precision_sad: 0.8038 - precision_surprise: 0.8806 - recall: 0.7774 - recall_angry: 0.7563 - recall_disgust: 0.9802 - recall_fear: 0.6572 - recall_happy: 0.8849 - recall_neutral: 0.7435 - recall_sad: 0.6582 - recall_surprise: 0.9065 - val_loss: 1.0266 - val_accuracy: 0.0000e+00 - val_categorical_accuracy: 0.6685 - val_precision: 0.7193 - val_precision_angry: 0.6477 - val_precision_disgust: 0.7308 - val_precision_fear: 0.5779 - val_precision_happy: 0.9004 - val_precision_neutral: 0.6631 - val_precision_sad: 0.5944 - val_precision_surprise: 0.7685 - val_recall: 0.6240 - val_recall_angry: 0.5409 - val_recall_disgust: 0.6179 - val_recall_fear: 0.4127 - val_recall_happy: 0.8329 - val_recall_neutral: 0.6160 - val_recall_sad: 0.4618 - val_recall_surprise: 0.7813 - lr: 1.0000e-04\n",
      "Epoch 39/50\n",
      "740/740 [==============================] - ETA: 0s - loss: 0.4081 - accuracy: 0.0000e+00 - categorical_accuracy: 0.8313 - precision: 0.8717 - precision_angry: 0.8528 - precision_disgust: 0.8631 - precision_fear: 0.8347 - precision_happy: 0.9539 - precision_neutral: 0.8272 - precision_sad: 0.8140 - precision_surprise: 0.8937 - recall: 0.7908 - recall_angry: 0.7715 - recall_disgust: 0.9861 - recall_fear: 0.6780 - recall_happy: 0.8937 - recall_neutral: 0.7526 - recall_sad: 0.6762 - recall_surprise: 0.9189\n",
      "Epoch 39: val_loss did not improve from 1.02587\n",
      "740/740 [==============================] - 950s 1s/step - loss: 0.4081 - accuracy: 0.0000e+00 - categorical_accuracy: 0.8313 - precision: 0.8717 - precision_angry: 0.8528 - precision_disgust: 0.8631 - precision_fear: 0.8347 - precision_happy: 0.9539 - precision_neutral: 0.8272 - precision_sad: 0.8140 - precision_surprise: 0.8937 - recall: 0.7908 - recall_angry: 0.7715 - recall_disgust: 0.9861 - recall_fear: 0.6780 - recall_happy: 0.8937 - recall_neutral: 0.7526 - recall_sad: 0.6762 - recall_surprise: 0.9189 - val_loss: 1.0577 - val_accuracy: 0.0000e+00 - val_categorical_accuracy: 0.6620 - val_precision: 0.7117 - val_precision_angry: 0.6332 - val_precision_disgust: 0.7619 - val_precision_fear: 0.5676 - val_precision_happy: 0.9004 - val_precision_neutral: 0.6534 - val_precision_sad: 0.5845 - val_precision_surprise: 0.7703 - val_recall: 0.6260 - val_recall_angry: 0.5384 - val_recall_disgust: 0.6349 - val_recall_fear: 0.4323 - val_recall_happy: 0.8272 - val_recall_neutral: 0.6024 - val_recall_sad: 0.4670 - val_recall_surprise: 0.8018 - lr: 1.0000e-04\n",
      "Epoch 40/50\n",
      "740/740 [==============================] - ETA: 0s - loss: 0.3829 - accuracy: 0.0000e+00 - categorical_accuracy: 0.8389 - precision: 0.8751 - precision_angry: 0.8574 - precision_disgust: 0.9078 - precision_fear: 0.8312 - precision_happy: 0.9575 - precision_neutral: 0.8268 - precision_sad: 0.8230 - precision_surprise: 0.8988 - recall: 0.8048 - recall_angry: 0.7821 - recall_disgust: 0.9960 - recall_fear: 0.6957 - recall_happy: 0.8932 - recall_neutral: 0.7732 - recall_sad: 0.7069 - recall_surprise: 0.9314\n",
      "Epoch 40: val_loss did not improve from 1.02587\n",
      "740/740 [==============================] - 961s 1s/step - loss: 0.3829 - accuracy: 0.0000e+00 - categorical_accuracy: 0.8389 - precision: 0.8751 - precision_angry: 0.8574 - precision_disgust: 0.9078 - precision_fear: 0.8312 - precision_happy: 0.9575 - precision_neutral: 0.8268 - precision_sad: 0.8230 - precision_surprise: 0.8988 - recall: 0.8048 - recall_angry: 0.7821 - recall_disgust: 0.9960 - recall_fear: 0.6957 - recall_happy: 0.8932 - recall_neutral: 0.7732 - recall_sad: 0.7069 - recall_surprise: 0.9314 - val_loss: 1.0668 - val_accuracy: 0.0000e+00 - val_categorical_accuracy: 0.6717 - val_precision: 0.7132 - val_precision_angry: 0.6458 - val_precision_disgust: 0.6875 - val_precision_fear: 0.5949 - val_precision_happy: 0.8988 - val_precision_neutral: 0.6578 - val_precision_sad: 0.5628 - val_precision_surprise: 0.7867 - val_recall: 0.6292 - val_recall_angry: 0.5530 - val_recall_disgust: 0.6160 - val_recall_fear: 0.4435 - val_recall_happy: 0.8440 - val_recall_neutral: 0.5887 - val_recall_sad: 0.4902 - val_recall_surprise: 0.7534 - lr: 1.0000e-04\n",
      "Epoch 41/50\n",
      "740/740 [==============================] - ETA: 0s - loss: 0.3789 - accuracy: 0.0000e+00 - categorical_accuracy: 0.8421 - precision: 0.8750 - precision_angry: 0.8522 - precision_disgust: 0.8865 - precision_fear: 0.8362 - precision_happy: 0.9606 - precision_neutral: 0.8307 - precision_sad: 0.8144 - precision_surprise: 0.9007 - recall: 0.8071 - recall_angry: 0.7867 - recall_disgust: 0.9921 - recall_fear: 0.7017 - recall_happy: 0.9034 - recall_neutral: 0.7759 - recall_sad: 0.6971 - recall_surprise: 0.9272Restoring model weights from the end of the best epoch: 31.\n",
      "\n",
      "Epoch 41: val_loss did not improve from 1.02587\n",
      "\n",
      "Epoch 41: ReduceLROnPlateau reducing learning rate to 1.0000000474974514e-05.\n",
      "740/740 [==============================] - 953s 1s/step - loss: 0.3789 - accuracy: 0.0000e+00 - categorical_accuracy: 0.8421 - precision: 0.8750 - precision_angry: 0.8522 - precision_disgust: 0.8865 - precision_fear: 0.8362 - precision_happy: 0.9606 - precision_neutral: 0.8307 - precision_sad: 0.8144 - precision_surprise: 0.9007 - recall: 0.8071 - recall_angry: 0.7867 - recall_disgust: 0.9921 - recall_fear: 0.7017 - recall_happy: 0.9034 - recall_neutral: 0.7759 - recall_sad: 0.6971 - recall_surprise: 0.9272 - val_loss: 1.0758 - val_accuracy: 0.0000e+00 - val_categorical_accuracy: 0.6651 - val_precision: 0.7044 - val_precision_angry: 0.6180 - val_precision_disgust: 0.7315 - val_precision_fear: 0.5776 - val_precision_happy: 0.8949 - val_precision_neutral: 0.6314 - val_precision_sad: 0.5786 - val_precision_surprise: 0.7885 - val_recall: 0.6272 - val_recall_angry: 0.5346 - val_recall_disgust: 0.6270 - val_recall_fear: 0.4624 - val_recall_happy: 0.8307 - val_recall_neutral: 0.5964 - val_recall_sad: 0.4757 - val_recall_surprise: 0.7693 - lr: 1.0000e-04\n",
      "Epoch 41: early stopping\n"
     ]
    }
   ],
   "source": [
    "import os\n",
    "\n",
    "os.environ['KMP_DUPLICATE_LIB_OK'] = 'True'\n",
    "\n",
    "history = model.fit(\n",
    "    train_generator,\n",
    "    steps_per_epoch=train_generator.n//train_generator.batch_size,\n",
    "    epochs=epochs,\n",
    "    validation_data=validation_generator,\n",
    "    validation_steps=validation_generator.n//validation_generator.batch_size,\n",
    "    callbacks=callbacks_list,\n",
    "    class_weight=class_weights_dict,\n",
    ")"
   ],
   "metadata": {
    "collapsed": false,
    "pycharm": {
     "name": "#%%\n"
    }
   }
  },
  {
   "cell_type": "markdown",
   "source": [
    "### 7. Evaluation - Test set"
   ],
   "metadata": {
    "collapsed": false,
    "pycharm": {
     "name": "#%% md\n"
    }
   }
  },
  {
   "cell_type": "code",
   "execution_count": 11,
   "outputs": [],
   "source": [
    "from keras.models import load_model\n",
    "\n",
    "model = load_model(\"model_mobilenet_v3_transfer_data_augmentation_balanced_old.h5\")"
   ],
   "metadata": {
    "collapsed": false,
    "pycharm": {
     "name": "#%%\n"
    }
   }
  },
  {
   "cell_type": "code",
   "execution_count": 12,
   "outputs": [
    {
     "name": "stdout",
     "output_type": "stream",
     "text": [
      "Found 7178 images belonging to 7 classes.\n"
     ]
    }
   ],
   "source": [
    "test_data_generator = ImageDataGenerator(preprocessing_function=preprocess_input)\n",
    "\n",
    "test_generator = test_data_generator.flow_from_directory(\n",
    "    DATASET_BASE_TEST_PATH,\n",
    "    target_size=(224, 224),\n",
    "    batch_size=32,\n",
    "    class_mode='categorical',\n",
    "    shuffle=False\n",
    ")"
   ],
   "metadata": {
    "collapsed": false,
    "pycharm": {
     "name": "#%%\n"
    }
   }
  },
  {
   "cell_type": "code",
   "execution_count": 13,
   "outputs": [
    {
     "name": "stdout",
     "output_type": "stream",
     "text": [
      "225/225 [==============================] - 104s 411ms/step - loss: 1.0482 - accuracy: 0.0000e+00 - categorical_accuracy: 0.6459 - precision: 0.7046 - precision_angry: 0.5593 - precision_disgust: 0.6484 - precision_fear: 0.5356 - precision_happy: 0.9118 - precision_neutral: 0.6256 - precision_sad: 0.6325 - precision_surprise: 0.8147 - recall: 0.5875 - recall_angry: 0.5511 - recall_disgust: 0.5315 - recall_fear: 0.3672 - recall_happy: 0.8219 - recall_neutral: 0.6139 - recall_sad: 0.3713 - recall_surprise: 0.6931\n"
     ]
    },
    {
     "data": {
      "text/plain": "[1.048195242881775,\n 0.0,\n 0.645862340927124,\n 0.7045947909355164,\n 0.5593220591545105,\n 0.6483516693115234,\n 0.5356125235557556,\n 0.9118198752403259,\n 0.6256198287010193,\n 0.6325136423110962,\n 0.8147100210189819,\n 0.5874895453453064,\n 0.5511482357978821,\n 0.5315315127372742,\n 0.3671875,\n 0.8218714594841003,\n 0.613949716091156,\n 0.3712911009788513,\n 0.6931408047676086]"
     },
     "execution_count": 13,
     "metadata": {},
     "output_type": "execute_result"
    }
   ],
   "source": [
    "model.evaluate(test_generator)"
   ],
   "metadata": {
    "collapsed": false,
    "pycharm": {
     "name": "#%%\n"
    }
   }
  }
 ],
 "metadata": {
  "kernelspec": {
   "display_name": "Python 3",
   "language": "python",
   "name": "python3"
  },
  "language_info": {
   "codemirror_mode": {
    "name": "ipython",
    "version": 2
   },
   "file_extension": ".py",
   "mimetype": "text/x-python",
   "name": "python",
   "nbconvert_exporter": "python",
   "pygments_lexer": "ipython2",
   "version": "2.7.6"
  }
 },
 "nbformat": 4,
 "nbformat_minor": 0
}