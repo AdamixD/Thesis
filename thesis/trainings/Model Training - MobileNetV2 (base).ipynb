{
 "cells": [
  {
   "cell_type": "markdown",
   "source": [
    "# Model Training - MobileNetV2 (base)"
   ],
   "metadata": {
    "collapsed": false,
    "pycharm": {
     "name": "#%% md\n"
    }
   }
  },
  {
   "cell_type": "markdown",
   "source": [
    "### 0. Imports"
   ],
   "metadata": {
    "collapsed": false,
    "pycharm": {
     "name": "#%% md\n"
    }
   }
  },
  {
   "cell_type": "code",
   "execution_count": 1,
   "outputs": [],
   "source": [
    "import matplotlib.pyplot as plt\n",
    "import tensorflow as tf\n",
    "\n",
    "from keras.applications import MobileNetV2\n",
    "from keras.applications.mobilenet_v2 import preprocess_input\n",
    "from keras.callbacks import (\n",
    "    ModelCheckpoint,\n",
    "    EarlyStopping,\n",
    "    ReduceLROnPlateau\n",
    ")\n",
    "from keras.models import Sequential\n",
    "from keras.layers import Dense, GlobalAveragePooling2D\n",
    "from keras.metrics import Precision, Recall\n",
    "from keras.optimizers import Adam\n",
    "from keras.preprocessing.image import ImageDataGenerator\n",
    "from keras.utils.vis_utils import plot_model"
   ],
   "metadata": {
    "collapsed": false,
    "ExecuteTime": {
     "start_time": "2023-06-08T14:04:36.621338Z",
     "end_time": "2023-06-08T14:04:39.977428Z"
    },
    "pycharm": {
     "name": "#%%\n"
    }
   }
  },
  {
   "cell_type": "markdown",
   "source": [
    "### 1. Paths"
   ],
   "metadata": {
    "collapsed": false,
    "pycharm": {
     "name": "#%% md\n"
    }
   }
  },
  {
   "cell_type": "code",
   "execution_count": 2,
   "outputs": [],
   "source": [
    "# DATASET_BASE_TRAIN_PATH = \"/Users/adamdabkowski/DataspellProjects/Praca_dyplomowa/data/train_resized\"\n",
    "# DATASET_BASE_TRAIN_PATH = \"/Users/adamd/DataspellProjects/Facial Expressions Recognition/data/train_resized\"\n",
    "# DATASET_BASE_TRAIN_PATH = \"/Users/adamd/DataspellProjects/Facial Expressions Recognition/data/train_merged\"\n",
    "DATASET_BASE_TRAIN_PATH = \"/Users/adamd/DataspellProjects/Facial Expressions Recognition/data/train_merged_cleaned\"\n",
    "\n",
    "# DATASET_BASE_TRAIN_PATH = \"../new_data\"\n",
    "\n",
    "# DATASET_BASE_TEST_PATH = \"/Users/adamdabkowski/DataspellProjects/Praca_dyplomowa/data/test_resized\"\n",
    "DATASET_BASE_TEST_PATH = \"/Users/adamd/DataspellProjects/Facial Expressions Recognition/data/test_resized\""
   ],
   "metadata": {
    "collapsed": false,
    "ExecuteTime": {
     "start_time": "2023-06-08T14:06:08.298593Z",
     "end_time": "2023-06-08T14:06:08.305288Z"
    },
    "pycharm": {
     "name": "#%%\n"
    }
   }
  },
  {
   "cell_type": "markdown",
   "source": [
    "### 2. Data preprocessing"
   ],
   "metadata": {
    "collapsed": false,
    "pycharm": {
     "name": "#%% md\n"
    }
   }
  },
  {
   "cell_type": "code",
   "execution_count": 3,
   "outputs": [
    {
     "name": "stdout",
     "output_type": "stream",
     "text": [
      "Found 23689 images belonging to 7 classes.\n",
      "Found 5919 images belonging to 7 classes.\n"
     ]
    }
   ],
   "source": [
    "batch_size  = 32\n",
    "img_size = 224\n",
    "\n",
    "train_validation_data_generator = ImageDataGenerator(preprocessing_function=preprocess_input, validation_split=0.2)\n",
    "\n",
    "train_generator = train_validation_data_generator.flow_from_directory(\n",
    "    DATASET_BASE_TRAIN_PATH,\n",
    "    target_size=(img_size,img_size),\n",
    "    batch_size=batch_size,\n",
    "    class_mode='categorical',\n",
    "    color_mode='rgb',\n",
    "    subset='training',\n",
    "    shuffle=True,\n",
    ")\n",
    "\n",
    "validation_generator = train_validation_data_generator.flow_from_directory(\n",
    "    DATASET_BASE_TRAIN_PATH,\n",
    "    target_size=(img_size,img_size),\n",
    "    batch_size=batch_size,\n",
    "    class_mode='categorical',\n",
    "    color_mode='rgb',\n",
    "    subset='validation',\n",
    "    shuffle=True,\n",
    ")"
   ],
   "metadata": {
    "collapsed": false,
    "ExecuteTime": {
     "start_time": "2023-06-08T14:06:12.829138Z",
     "end_time": "2023-06-08T14:06:13.009438Z"
    },
    "pycharm": {
     "name": "#%%\n"
    }
   }
  },
  {
   "cell_type": "markdown",
   "source": [
    "### 5. Model creating"
   ],
   "metadata": {
    "collapsed": false,
    "pycharm": {
     "name": "#%% md\n"
    }
   }
  },
  {
   "cell_type": "code",
   "execution_count": 5,
   "outputs": [],
   "source": [
    "CATEGORIES = [\"angry\", \"disgust\", \"fear\", \"happy\", \"neutral\", \"sad\", \"surprise\"]"
   ],
   "metadata": {
    "collapsed": false,
    "ExecuteTime": {
     "start_time": "2023-06-08T14:06:21.358802Z",
     "end_time": "2023-06-08T14:06:21.367405Z"
    },
    "pycharm": {
     "name": "#%%\n"
    }
   }
  },
  {
   "cell_type": "code",
   "execution_count": 6,
   "outputs": [],
   "source": [
    "checkpoint = ModelCheckpoint(\n",
    "    filepath=\"./model_mobilenet_v2_base.h5\",\n",
    "    monitor='val_loss',\n",
    "    verbose=1,\n",
    "    save_best_only=True,\n",
    "    mode='min'\n",
    ")\n",
    "\n",
    "early_stopping = EarlyStopping(\n",
    "    monitor='val_loss',\n",
    "    patience=10,\n",
    "    verbose=1,\n",
    "    restore_best_weights=True,\n",
    ")\n",
    "\n",
    "reduce_learning_rate = ReduceLROnPlateau(\n",
    "    monitor='val_loss',\n",
    "    factor=0.1,\n",
    "    patience=5,\n",
    "    verbose=1,\n",
    "    min_lr=0.00001,\n",
    ")\n",
    "\n",
    "callbacks_list = [early_stopping, checkpoint, reduce_learning_rate]"
   ],
   "metadata": {
    "collapsed": false,
    "ExecuteTime": {
     "start_time": "2023-06-08T14:06:22.501933Z",
     "end_time": "2023-06-08T14:06:22.506101Z"
    },
    "pycharm": {
     "name": "#%%\n"
    }
   }
  },
  {
   "cell_type": "code",
   "execution_count": 7,
   "outputs": [],
   "source": [
    "model = Sequential()\n",
    "\n",
    "base_model = MobileNetV2(input_shape=(img_size, img_size, 3), include_top=False, weights=None)\n",
    "model.add(base_model)\n",
    "\n",
    "model.add(GlobalAveragePooling2D())\n",
    "model.add(Dense(512, activation='relu'))\n",
    "model.add(Dense(7, activation='softmax'))"
   ],
   "metadata": {
    "collapsed": false,
    "ExecuteTime": {
     "start_time": "2023-06-08T14:06:33.844245Z",
     "end_time": "2023-06-08T14:06:34.087495Z"
    },
    "pycharm": {
     "name": "#%%\n"
    }
   }
  },
  {
   "cell_type": "code",
   "execution_count": 8,
   "outputs": [
    {
     "name": "stdout",
     "output_type": "stream",
     "text": [
      "Model: \"sequential\"\n",
      "_________________________________________________________________\n",
      " Layer (type)                Output Shape              Param #   \n",
      "=================================================================\n",
      " mobilenetv2_1.00_224 (Funct  (None, 7, 7, 1280)       2257984   \n",
      " ional)                                                          \n",
      "                                                                 \n",
      " global_average_pooling2d (G  (None, 1280)             0         \n",
      " lobalAveragePooling2D)                                          \n",
      "                                                                 \n",
      " dense (Dense)               (None, 512)               655872    \n",
      "                                                                 \n",
      " dense_1 (Dense)             (None, 7)                 3591      \n",
      "                                                                 \n",
      "=================================================================\n",
      "Total params: 2,917,447\n",
      "Trainable params: 2,883,335\n",
      "Non-trainable params: 34,112\n",
      "_________________________________________________________________\n"
     ]
    }
   ],
   "source": [
    "model.compile(\n",
    "    optimizer=Adam(learning_rate=0.001),\n",
    "    loss='categorical_crossentropy',\n",
    "    metrics=[\n",
    "        'accuracy',\n",
    "        Precision(name='precision'),\n",
    "        Precision(class_id=0, name='precision_angry'),\n",
    "        Precision(class_id=1, name='precision_disgust'),\n",
    "        Precision(class_id=2, name='precision_fear'),\n",
    "        Precision(class_id=3, name='precision_happy'),\n",
    "        Precision(class_id=4, name='precision_neutral'),\n",
    "        Precision(class_id=5, name='precision_sad'),\n",
    "        Precision(class_id=6, name='precision_surprise'),\n",
    "        Recall(name='recall'),\n",
    "        Recall(class_id=0, name='recall_angry'),\n",
    "        Recall(class_id=1, name='recall_disgust'),\n",
    "        Recall(class_id=2, name='recall_fear'),\n",
    "        Recall(class_id=3, name='recall_happy'),\n",
    "        Recall(class_id=4, name='recall_neutral'),\n",
    "        Recall(class_id=5, name='recall_sad'),\n",
    "        Recall(class_id=6, name='recall_surprise'),\n",
    "    ]\n",
    ")\n",
    "model.summary()"
   ],
   "metadata": {
    "collapsed": false,
    "ExecuteTime": {
     "start_time": "2023-06-08T14:08:05.068394Z",
     "end_time": "2023-06-08T14:08:05.102749Z"
    },
    "pycharm": {
     "name": "#%%\n"
    }
   }
  },
  {
   "cell_type": "code",
   "execution_count": 9,
   "outputs": [
    {
     "data": {
      "image/png": "[encoded data removed]",
      "text/plain": "<IPython.core.display.Image object>"
     },
     "execution_count": 9,
     "metadata": {},
     "output_type": "execute_result"
    }
   ],
   "source": [
    "plot_model(model, to_file='model_mobilenet_v2_base.png', show_shapes=True, show_layer_names=True)"
   ],
   "metadata": {
    "collapsed": false,
    "pycharm": {
     "name": "#%%\n"
    }
   }
  },
  {
   "cell_type": "markdown",
   "source": [
    "### 6. Model training"
   ],
   "metadata": {
    "collapsed": false,
    "pycharm": {
     "name": "#%% md\n"
    }
   }
  },
  {
   "cell_type": "code",
   "execution_count": 10,
   "outputs": [],
   "source": [
    "epochs = 50"
   ],
   "metadata": {
    "collapsed": false,
    "ExecuteTime": {
     "start_time": "2023-06-08T14:08:06.121000Z",
     "end_time": "2023-06-08T14:08:06.134021Z"
    },
    "pycharm": {
     "name": "#%%\n"
    }
   }
  },
  {
   "cell_type": "code",
   "execution_count": 11,
   "outputs": [
    {
     "name": "stdout",
     "output_type": "stream",
     "text": [
      "Epoch 1/50\n",
      "740/740 [==============================] - ETA: 0s - loss: 1.7390 - accuracy: 0.2984 - precision: 0.6272 - precision_angry: 0.0000e+00 - precision_disgust: 0.0000e+00 - precision_fear: 0.0800 - precision_happy: 0.6794 - precision_neutral: 0.2692 - precision_sad: 0.1702 - precision_surprise: 0.5515 - recall: 0.0569 - recall_angry: 0.0000e+00 - recall_disgust: 0.0000e+00 - recall_fear: 5.9418e-04 - recall_happy: 0.1939 - recall_neutral: 0.0034 - recall_sad: 0.0021 - recall_surprise: 0.0686\n",
      "Epoch 1: val_loss improved from inf to 2.03305, saving model to .\\model_mobilenet_v2_base.h5\n",
      "740/740 [==============================] - 920s 1s/step - loss: 1.7390 - accuracy: 0.2984 - precision: 0.6272 - precision_angry: 0.0000e+00 - precision_disgust: 0.0000e+00 - precision_fear: 0.0800 - precision_happy: 0.6794 - precision_neutral: 0.2692 - precision_sad: 0.1702 - precision_surprise: 0.5515 - recall: 0.0569 - recall_angry: 0.0000e+00 - recall_disgust: 0.0000e+00 - recall_fear: 5.9418e-04 - recall_happy: 0.1939 - recall_neutral: 0.0034 - recall_sad: 0.0021 - recall_surprise: 0.0686 - val_loss: 2.0331 - val_accuracy: 0.2490 - val_precision: 0.2490 - val_precision_angry: 0.0000e+00 - val_precision_disgust: 0.0000e+00 - val_precision_fear: 0.0000e+00 - val_precision_happy: 0.2490 - val_precision_neutral: 0.0000e+00 - val_precision_sad: 0.0000e+00 - val_precision_surprise: 0.0000e+00 - val_recall: 0.2490 - val_recall_angry: 0.0000e+00 - val_recall_disgust: 0.0000e+00 - val_recall_fear: 0.0000e+00 - val_recall_happy: 1.0000 - val_recall_neutral: 0.0000e+00 - val_recall_sad: 0.0000e+00 - val_recall_surprise: 0.0000e+00 - lr: 0.0010\n",
      "Epoch 2/50\n",
      "740/740 [==============================] - ETA: 0s - loss: 1.4508 - accuracy: 0.4402 - precision: 0.7242 - precision_angry: 0.5208 - precision_disgust: 0.0000e+00 - precision_fear: 1.0000 - precision_happy: 0.7690 - precision_neutral: 0.5097 - precision_sad: 0.3939 - precision_surprise: 0.6916 - recall: 0.2088 - recall_angry: 0.0076 - recall_disgust: 0.0000e+00 - recall_fear: 5.9330e-04 - recall_happy: 0.5944 - recall_neutral: 0.0772 - recall_sad: 0.0033 - recall_surprise: 0.4122\n",
      "Epoch 2: val_loss did not improve from 2.03305\n",
      "740/740 [==============================] - 904s 1s/step - loss: 1.4508 - accuracy: 0.4402 - precision: 0.7242 - precision_angry: 0.5208 - precision_disgust: 0.0000e+00 - precision_fear: 1.0000 - precision_happy: 0.7690 - precision_neutral: 0.5097 - precision_sad: 0.3939 - precision_surprise: 0.6916 - recall: 0.2088 - recall_angry: 0.0076 - recall_disgust: 0.0000e+00 - recall_fear: 5.9330e-04 - recall_happy: 0.5944 - recall_neutral: 0.0772 - recall_sad: 0.0033 - recall_surprise: 0.4122 - val_loss: 2.6716 - val_accuracy: 0.2493 - val_precision: 0.2493 - val_precision_angry: 0.0000e+00 - val_precision_disgust: 0.0000e+00 - val_precision_fear: 0.0000e+00 - val_precision_happy: 0.2493 - val_precision_neutral: 0.0000e+00 - val_precision_sad: 0.0000e+00 - val_precision_surprise: 0.0000e+00 - val_recall: 0.2493 - val_recall_angry: 0.0000e+00 - val_recall_disgust: 0.0000e+00 - val_recall_fear: 0.0000e+00 - val_recall_happy: 1.0000 - val_recall_neutral: 0.0000e+00 - val_recall_sad: 0.0000e+00 - val_recall_surprise: 0.0000e+00 - lr: 0.0010\n",
      "Epoch 3/50\n",
      "740/740 [==============================] - ETA: 0s - loss: 1.3106 - accuracy: 0.4995 - precision: 0.7327 - precision_angry: 0.5784 - precision_disgust: 1.0000 - precision_fear: 0.4444 - precision_happy: 0.8095 - precision_neutral: 0.5634 - precision_sad: 0.5701 - precision_surprise: 0.7104 - recall: 0.2810 - recall_angry: 0.0943 - recall_disgust: 0.0020 - recall_fear: 0.0024 - recall_happy: 0.6944 - recall_neutral: 0.1803 - recall_sad: 0.0324 - recall_surprise: 0.5222\n",
      "Epoch 3: val_loss did not improve from 2.03305\n",
      "740/740 [==============================] - 905s 1s/step - loss: 1.3106 - accuracy: 0.4995 - precision: 0.7327 - precision_angry: 0.5784 - precision_disgust: 1.0000 - precision_fear: 0.4444 - precision_happy: 0.8095 - precision_neutral: 0.5634 - precision_sad: 0.5701 - precision_surprise: 0.7104 - recall: 0.2810 - recall_angry: 0.0943 - recall_disgust: 0.0020 - recall_fear: 0.0024 - recall_happy: 0.6944 - recall_neutral: 0.1803 - recall_sad: 0.0324 - recall_surprise: 0.5222 - val_loss: 3.6023 - val_accuracy: 0.1646 - val_precision: 0.1646 - val_precision_angry: 0.0000e+00 - val_precision_disgust: 0.0000e+00 - val_precision_fear: 0.0000e+00 - val_precision_happy: 0.0000e+00 - val_precision_neutral: 0.0000e+00 - val_precision_sad: 0.1646 - val_precision_surprise: 0.0000e+00 - val_recall: 0.1646 - val_recall_angry: 0.0000e+00 - val_recall_disgust: 0.0000e+00 - val_recall_fear: 0.0000e+00 - val_recall_happy: 0.0000e+00 - val_recall_neutral: 0.0000e+00 - val_recall_sad: 1.0000 - val_recall_surprise: 0.0000e+00 - lr: 0.0010\n",
      "Epoch 4/50\n",
      "740/740 [==============================] - ETA: 0s - loss: 1.2299 - accuracy: 0.5306 - precision: 0.7383 - precision_angry: 0.6013 - precision_disgust: 0.5714 - precision_fear: 0.5584 - precision_happy: 0.8362 - precision_neutral: 0.5988 - precision_sad: 0.5329 - precision_surprise: 0.7140 - recall: 0.3229 - recall_angry: 0.1442 - recall_disgust: 0.0158 - recall_fear: 0.0128 - recall_happy: 0.7403 - recall_neutral: 0.2528 - recall_sad: 0.0645 - recall_surprise: 0.5573\n",
      "Epoch 4: val_loss did not improve from 2.03305\n",
      "740/740 [==============================] - 899s 1s/step - loss: 1.2299 - accuracy: 0.5306 - precision: 0.7383 - precision_angry: 0.6013 - precision_disgust: 0.5714 - precision_fear: 0.5584 - precision_happy: 0.8362 - precision_neutral: 0.5988 - precision_sad: 0.5329 - precision_surprise: 0.7140 - recall: 0.3229 - recall_angry: 0.1442 - recall_disgust: 0.0158 - recall_fear: 0.0128 - recall_happy: 0.7403 - recall_neutral: 0.2528 - recall_sad: 0.0645 - recall_surprise: 0.5573 - val_loss: 3.7015 - val_accuracy: 0.1647 - val_precision: 0.1647 - val_precision_angry: 0.0000e+00 - val_precision_disgust: 0.0000e+00 - val_precision_fear: 0.0000e+00 - val_precision_happy: 0.0000e+00 - val_precision_neutral: 0.0000e+00 - val_precision_sad: 0.1647 - val_precision_surprise: 0.0000e+00 - val_recall: 0.1647 - val_recall_angry: 0.0000e+00 - val_recall_disgust: 0.0000e+00 - val_recall_fear: 0.0000e+00 - val_recall_happy: 0.0000e+00 - val_recall_neutral: 0.0000e+00 - val_recall_sad: 1.0000 - val_recall_surprise: 0.0000e+00 - lr: 0.0010\n",
      "Epoch 5/50\n",
      "740/740 [==============================] - ETA: 0s - loss: 1.1678 - accuracy: 0.5593 - precision: 0.7401 - precision_angry: 0.6197 - precision_disgust: 0.4706 - precision_fear: 0.5539 - precision_happy: 0.8476 - precision_neutral: 0.6219 - precision_sad: 0.5607 - precision_surprise: 0.7421 - recall: 0.3649 - recall_angry: 0.2067 - recall_disgust: 0.0159 - recall_fear: 0.0441 - recall_happy: 0.7666 - recall_neutral: 0.3060 - recall_sad: 0.1223 - recall_surprise: 0.5917\n",
      "Epoch 5: val_loss did not improve from 2.03305\n",
      "740/740 [==============================] - 903s 1s/step - loss: 1.1678 - accuracy: 0.5593 - precision: 0.7401 - precision_angry: 0.6197 - precision_disgust: 0.4706 - precision_fear: 0.5539 - precision_happy: 0.8476 - precision_neutral: 0.6219 - precision_sad: 0.5607 - precision_surprise: 0.7421 - recall: 0.3649 - recall_angry: 0.2067 - recall_disgust: 0.0159 - recall_fear: 0.0441 - recall_happy: 0.7666 - recall_neutral: 0.3060 - recall_sad: 0.1223 - recall_surprise: 0.5917 - val_loss: 4.1811 - val_accuracy: 0.1653 - val_precision: 0.1653 - val_precision_angry: 0.0000e+00 - val_precision_disgust: 0.0000e+00 - val_precision_fear: 0.0000e+00 - val_precision_happy: 0.0000e+00 - val_precision_neutral: 0.0000e+00 - val_precision_sad: 0.1653 - val_precision_surprise: 0.0000e+00 - val_recall: 0.1653 - val_recall_angry: 0.0000e+00 - val_recall_disgust: 0.0000e+00 - val_recall_fear: 0.0000e+00 - val_recall_happy: 0.0000e+00 - val_recall_neutral: 0.0000e+00 - val_recall_sad: 1.0000 - val_recall_surprise: 0.0000e+00 - lr: 0.0010\n",
      "Epoch 6/50\n",
      "740/740 [==============================] - ETA: 0s - loss: 1.1176 - accuracy: 0.5767 - precision: 0.7390 - precision_angry: 0.6343 - precision_disgust: 0.6250 - precision_fear: 0.6109 - precision_happy: 0.8540 - precision_neutral: 0.6340 - precision_sad: 0.5629 - precision_surprise: 0.7515 - recall: 0.4011 - recall_angry: 0.2579 - recall_disgust: 0.0396 - recall_fear: 0.0867 - recall_happy: 0.7870 - recall_neutral: 0.3509 - recall_sad: 0.1712 - recall_surprise: 0.6063\n",
      "Epoch 6: val_loss improved from 2.03305 to 1.38963, saving model to .\\model_mobilenet_v2_base.h5\n",
      "740/740 [==============================] - 903s 1s/step - loss: 1.1176 - accuracy: 0.5767 - precision: 0.7390 - precision_angry: 0.6343 - precision_disgust: 0.6250 - precision_fear: 0.6109 - precision_happy: 0.8540 - precision_neutral: 0.6340 - precision_sad: 0.5629 - precision_surprise: 0.7515 - recall: 0.4011 - recall_angry: 0.2579 - recall_disgust: 0.0396 - recall_fear: 0.0867 - recall_happy: 0.7870 - recall_neutral: 0.3509 - recall_sad: 0.1712 - recall_surprise: 0.6063 - val_loss: 1.3896 - val_accuracy: 0.5049 - val_precision: 0.6177 - val_precision_angry: 0.6585 - val_precision_disgust: 0.0000e+00 - val_precision_fear: 0.0000e+00 - val_precision_happy: 0.7429 - val_precision_neutral: 0.5085 - val_precision_sad: 0.4211 - val_precision_surprise: 0.8191 - val_recall: 0.4003 - val_recall_angry: 0.1646 - val_recall_disgust: 0.0000e+00 - val_recall_fear: 0.0000e+00 - val_recall_happy: 0.7877 - val_recall_neutral: 0.4729 - val_recall_sad: 0.3546 - val_recall_surprise: 0.3778 - lr: 0.0010\n",
      "Epoch 7/50\n",
      "740/740 [==============================] - ETA: 0s - loss: 1.0718 - accuracy: 0.5924 - precision: 0.7436 - precision_angry: 0.6406 - precision_disgust: 0.6579 - precision_fear: 0.5840 - precision_happy: 0.8657 - precision_neutral: 0.6531 - precision_sad: 0.5750 - precision_surprise: 0.7603 - recall: 0.4272 - recall_angry: 0.2859 - recall_disgust: 0.0994 - recall_fear: 0.1083 - recall_happy: 0.8026 - recall_neutral: 0.3885 - recall_sad: 0.1987 - recall_surprise: 0.6320\n",
      "Epoch 7: val_loss did not improve from 1.38963\n",
      "740/740 [==============================] - 901s 1s/step - loss: 1.0718 - accuracy: 0.5924 - precision: 0.7436 - precision_angry: 0.6406 - precision_disgust: 0.6579 - precision_fear: 0.5840 - precision_happy: 0.8657 - precision_neutral: 0.6531 - precision_sad: 0.5750 - precision_surprise: 0.7603 - recall: 0.4272 - recall_angry: 0.2859 - recall_disgust: 0.0994 - recall_fear: 0.1083 - recall_happy: 0.8026 - recall_neutral: 0.3885 - recall_sad: 0.1987 - recall_surprise: 0.6320 - val_loss: 1.8971 - val_accuracy: 0.4402 - val_precision: 0.4972 - val_precision_angry: 0.5114 - val_precision_disgust: 0.1000 - val_precision_fear: 0.3793 - val_precision_happy: 0.8302 - val_precision_neutral: 0.4502 - val_precision_sad: 0.7500 - val_precision_surprise: 0.3144 - val_recall: 0.3896 - val_recall_angry: 0.2469 - val_recall_disgust: 0.0159 - val_recall_fear: 0.0263 - val_recall_happy: 0.6835 - val_recall_neutral: 0.4644 - val_recall_sad: 0.0031 - val_recall_surprise: 0.8985 - lr: 0.0010\n",
      "Epoch 8/50\n",
      "740/740 [==============================] - ETA: 0s - loss: 1.0226 - accuracy: 0.6153 - precision: 0.7491 - precision_angry: 0.6579 - precision_disgust: 0.6556 - precision_fear: 0.6271 - precision_happy: 0.8717 - precision_neutral: 0.6644 - precision_sad: 0.5981 - precision_surprise: 0.7727 - recall: 0.4639 - recall_angry: 0.3333 - recall_disgust: 0.1168 - recall_fear: 0.1415 - recall_happy: 0.8199 - recall_neutral: 0.4387 - recall_sad: 0.2560 - recall_surprise: 0.6555\n",
      "Epoch 8: val_loss did not improve from 1.38963\n",
      "740/740 [==============================] - 901s 1s/step - loss: 1.0226 - accuracy: 0.6153 - precision: 0.7491 - precision_angry: 0.6579 - precision_disgust: 0.6556 - precision_fear: 0.6271 - precision_happy: 0.8717 - precision_neutral: 0.6644 - precision_sad: 0.5981 - precision_surprise: 0.7727 - recall: 0.4639 - recall_angry: 0.3333 - recall_disgust: 0.1168 - recall_fear: 0.1415 - recall_happy: 0.8199 - recall_neutral: 0.4387 - recall_sad: 0.2560 - recall_surprise: 0.6555 - val_loss: 3.2139 - val_accuracy: 0.3417 - val_precision: 0.3540 - val_precision_angry: 0.2976 - val_precision_disgust: 0.0000e+00 - val_precision_fear: 0.2667 - val_precision_happy: 0.9185 - val_precision_neutral: 0.5751 - val_precision_sad: 0.0000e+00 - val_precision_surprise: 0.2327 - val_recall: 0.3273 - val_recall_angry: 0.6501 - val_recall_disgust: 0.0000e+00 - val_recall_fear: 0.0095 - val_recall_happy: 0.3770 - val_recall_neutral: 0.2200 - val_recall_sad: 0.0000e+00 - val_recall_surprise: 0.9242 - lr: 0.0010\n",
      "Epoch 9/50\n",
      "740/740 [==============================] - ETA: 0s - loss: 0.9805 - accuracy: 0.6307 - precision: 0.7565 - precision_angry: 0.6761 - precision_disgust: 0.6122 - precision_fear: 0.6193 - precision_happy: 0.8841 - precision_neutral: 0.6729 - precision_sad: 0.6123 - precision_surprise: 0.7867 - recall: 0.4890 - recall_angry: 0.3647 - recall_disgust: 0.1786 - recall_fear: 0.1580 - recall_happy: 0.8389 - recall_neutral: 0.4672 - recall_sad: 0.2871 - recall_surprise: 0.6761\n",
      "Epoch 9: val_loss did not improve from 1.38963\n",
      "740/740 [==============================] - 903s 1s/step - loss: 0.9805 - accuracy: 0.6307 - precision: 0.7565 - precision_angry: 0.6761 - precision_disgust: 0.6122 - precision_fear: 0.6193 - precision_happy: 0.8841 - precision_neutral: 0.6729 - precision_sad: 0.6123 - precision_surprise: 0.7867 - recall: 0.4890 - recall_angry: 0.3647 - recall_disgust: 0.1786 - recall_fear: 0.1580 - recall_happy: 0.8389 - recall_neutral: 0.4672 - recall_sad: 0.2871 - recall_surprise: 0.6761 - val_loss: 4.2783 - val_accuracy: 0.1984 - val_precision: 0.1971 - val_precision_angry: 0.3792 - val_precision_disgust: 0.0000e+00 - val_precision_fear: 0.5000 - val_precision_happy: 0.8590 - val_precision_neutral: 0.4841 - val_precision_sad: 0.0000e+00 - val_precision_surprise: 0.1402 - val_recall: 0.1824 - val_recall_angry: 0.1512 - val_recall_disgust: 0.0000e+00 - val_recall_fear: 0.0024 - val_recall_happy: 0.0918 - val_recall_neutral: 0.1649 - val_recall_sad: 0.0000e+00 - val_recall_surprise: 0.9818 - lr: 0.0010\n",
      "Epoch 10/50\n",
      "740/740 [==============================] - ETA: 0s - loss: 0.9378 - accuracy: 0.6454 - precision: 0.7648 - precision_angry: 0.6932 - precision_disgust: 0.6649 - precision_fear: 0.6679 - precision_happy: 0.8891 - precision_neutral: 0.6849 - precision_sad: 0.6174 - precision_surprise: 0.8040 - recall: 0.5172 - recall_angry: 0.3838 - recall_disgust: 0.2440 - recall_fear: 0.2218 - recall_happy: 0.8513 - recall_neutral: 0.4973 - recall_sad: 0.3189 - recall_surprise: 0.6906\n",
      "Epoch 10: val_loss did not improve from 1.38963\n",
      "740/740 [==============================] - 902s 1s/step - loss: 0.9378 - accuracy: 0.6454 - precision: 0.7648 - precision_angry: 0.6932 - precision_disgust: 0.6649 - precision_fear: 0.6679 - precision_happy: 0.8891 - precision_neutral: 0.6849 - precision_sad: 0.6174 - precision_surprise: 0.8040 - recall: 0.5172 - recall_angry: 0.3838 - recall_disgust: 0.2440 - recall_fear: 0.2218 - recall_happy: 0.8513 - recall_neutral: 0.4973 - recall_sad: 0.3189 - recall_surprise: 0.6906 - val_loss: 4.5806 - val_accuracy: 0.2953 - val_precision: 0.2978 - val_precision_angry: 0.3793 - val_precision_disgust: 0.5000 - val_precision_fear: 0.0000e+00 - val_precision_happy: 0.9412 - val_precision_neutral: 0.4140 - val_precision_sad: 0.0000e+00 - val_precision_surprise: 0.1896 - val_recall: 0.2845 - val_recall_angry: 0.3533 - val_recall_disgust: 0.0080 - val_recall_fear: 0.0000e+00 - val_recall_happy: 0.1527 - val_recall_neutral: 0.5183 - val_recall_sad: 0.0000e+00 - val_recall_surprise: 0.9651 - lr: 0.0010\n",
      "Epoch 11/50\n",
      "740/740 [==============================] - ETA: 0s - loss: 0.8914 - accuracy: 0.6643 - precision: 0.7681 - precision_angry: 0.7036 - precision_disgust: 0.7207 - precision_fear: 0.6566 - precision_happy: 0.8927 - precision_neutral: 0.7016 - precision_sad: 0.6240 - precision_surprise: 0.8134 - recall: 0.5479 - recall_angry: 0.4337 - recall_disgust: 0.3168 - recall_fear: 0.2463 - recall_happy: 0.8669 - recall_neutral: 0.5229 - recall_sad: 0.3709 - recall_surprise: 0.7070\n",
      "Epoch 11: val_loss did not improve from 1.38963\n",
      "\n",
      "Epoch 11: ReduceLROnPlateau reducing learning rate to 0.00010000000474974513.\n",
      "740/740 [==============================] - 905s 1s/step - loss: 0.8914 - accuracy: 0.6643 - precision: 0.7681 - precision_angry: 0.7036 - precision_disgust: 0.7207 - precision_fear: 0.6566 - precision_happy: 0.8927 - precision_neutral: 0.7016 - precision_sad: 0.6240 - precision_surprise: 0.8134 - recall: 0.5479 - recall_angry: 0.4337 - recall_disgust: 0.3168 - recall_fear: 0.2463 - recall_happy: 0.8669 - recall_neutral: 0.5229 - recall_sad: 0.3709 - recall_surprise: 0.7070 - val_loss: 2.8721 - val_accuracy: 0.3142 - val_precision: 0.3328 - val_precision_angry: 0.3319 - val_precision_disgust: 0.0488 - val_precision_fear: 0.3546 - val_precision_happy: 0.9303 - val_precision_neutral: 0.6931 - val_precision_sad: 0.2500 - val_precision_surprise: 0.3264 - val_recall: 0.2728 - val_recall_angry: 0.4568 - val_recall_disgust: 0.4553 - val_recall_fear: 0.2521 - val_recall_happy: 0.2369 - val_recall_neutral: 0.1903 - val_recall_sad: 0.0010 - val_recall_surprise: 0.6395 - lr: 0.0010\n",
      "Epoch 12/50\n",
      "740/740 [==============================] - ETA: 0s - loss: 0.6838 - accuracy: 0.7478 - precision: 0.8275 - precision_angry: 0.7829 - precision_disgust: 0.8393 - precision_fear: 0.7428 - precision_happy: 0.9318 - precision_neutral: 0.7912 - precision_sad: 0.7057 - precision_surprise: 0.8645 - recall: 0.6563 - recall_angry: 0.5891 - recall_disgust: 0.5584 - recall_fear: 0.3840 - recall_happy: 0.9215 - recall_neutral: 0.6500 - recall_sad: 0.4769 - recall_surprise: 0.7888\n",
      "Epoch 12: val_loss improved from 1.38963 to 1.22787, saving model to .\\model_mobilenet_v2_base.h5\n",
      "740/740 [==============================] - 902s 1s/step - loss: 0.6838 - accuracy: 0.7478 - precision: 0.8275 - precision_angry: 0.7829 - precision_disgust: 0.8393 - precision_fear: 0.7428 - precision_happy: 0.9318 - precision_neutral: 0.7912 - precision_sad: 0.7057 - precision_surprise: 0.8645 - recall: 0.6563 - recall_angry: 0.5891 - recall_disgust: 0.5584 - recall_fear: 0.3840 - recall_happy: 0.9215 - recall_neutral: 0.6500 - recall_sad: 0.4769 - recall_surprise: 0.7888 - val_loss: 1.2279 - val_accuracy: 0.5892 - val_precision: 0.6523 - val_precision_angry: 0.4935 - val_precision_disgust: 0.7222 - val_precision_fear: 0.5158 - val_precision_happy: 0.8879 - val_precision_neutral: 0.5611 - val_precision_sad: 0.6054 - val_precision_surprise: 0.6634 - val_recall: 0.5306 - val_recall_angry: 0.5538 - val_recall_disgust: 0.2097 - val_recall_fear: 0.2333 - val_recall_happy: 0.7663 - val_recall_neutral: 0.6018 - val_recall_sad: 0.1835 - val_recall_surprise: 0.8169 - lr: 1.0000e-04\n",
      "Epoch 13/50\n",
      "740/740 [==============================] - ETA: 0s - loss: 0.5756 - accuracy: 0.7883 - precision: 0.8456 - precision_angry: 0.8200 - precision_disgust: 0.8575 - precision_fear: 0.7762 - precision_happy: 0.9499 - precision_neutral: 0.8078 - precision_sad: 0.7304 - precision_surprise: 0.8884 - recall: 0.7300 - recall_angry: 0.6645 - recall_disgust: 0.6673 - recall_fear: 0.4815 - recall_happy: 0.9442 - recall_neutral: 0.7402 - recall_sad: 0.5973 - recall_surprise: 0.8431\n",
      "Epoch 13: val_loss improved from 1.22787 to 1.14251, saving model to .\\model_mobilenet_v2_base.h5\n",
      "740/740 [==============================] - 905s 1s/step - loss: 0.5756 - accuracy: 0.7883 - precision: 0.8456 - precision_angry: 0.8200 - precision_disgust: 0.8575 - precision_fear: 0.7762 - precision_happy: 0.9499 - precision_neutral: 0.8078 - precision_sad: 0.7304 - precision_surprise: 0.8884 - recall: 0.7300 - recall_angry: 0.6645 - recall_disgust: 0.6673 - recall_fear: 0.4815 - recall_happy: 0.9442 - recall_neutral: 0.7402 - recall_sad: 0.5973 - recall_surprise: 0.8431 - val_loss: 1.1425 - val_accuracy: 0.6158 - val_precision: 0.6724 - val_precision_angry: 0.5684 - val_precision_disgust: 1.0000 - val_precision_fear: 0.6006 - val_precision_happy: 0.8570 - val_precision_neutral: 0.6314 - val_precision_sad: 0.4768 - val_precision_surprise: 0.8432 - val_recall: 0.5581 - val_recall_angry: 0.4854 - val_recall_disgust: 0.1694 - val_recall_fear: 0.2569 - val_recall_happy: 0.8143 - val_recall_neutral: 0.5128 - val_recall_sad: 0.5401 - val_recall_surprise: 0.6311 - lr: 1.0000e-04\n",
      "Epoch 14/50\n",
      "740/740 [==============================] - ETA: 0s - loss: 0.5048 - accuracy: 0.8151 - precision: 0.8624 - precision_angry: 0.8319 - precision_disgust: 0.8883 - precision_fear: 0.7966 - precision_happy: 0.9579 - precision_neutral: 0.8369 - precision_sad: 0.7580 - precision_surprise: 0.9086 - recall: 0.7694 - recall_angry: 0.7147 - recall_disgust: 0.7117 - recall_fear: 0.5424 - recall_happy: 0.9560 - recall_neutral: 0.7836 - recall_sad: 0.6573 - recall_surprise: 0.8658\n",
      "Epoch 14: val_loss did not improve from 1.14251\n",
      "740/740 [==============================] - 905s 1s/step - loss: 0.5048 - accuracy: 0.8151 - precision: 0.8624 - precision_angry: 0.8319 - precision_disgust: 0.8883 - precision_fear: 0.7966 - precision_happy: 0.9579 - precision_neutral: 0.8369 - precision_sad: 0.7580 - precision_surprise: 0.9086 - recall: 0.7694 - recall_angry: 0.7147 - recall_disgust: 0.7117 - recall_fear: 0.5424 - recall_happy: 0.9560 - recall_neutral: 0.7836 - recall_sad: 0.6573 - recall_surprise: 0.8658 - val_loss: 1.1918 - val_accuracy: 0.6087 - val_precision: 0.6581 - val_precision_angry: 0.5967 - val_precision_disgust: 0.8276 - val_precision_fear: 0.5811 - val_precision_happy: 0.8055 - val_precision_neutral: 0.6076 - val_precision_sad: 0.4715 - val_precision_surprise: 0.8738 - val_recall: 0.5639 - val_recall_angry: 0.4408 - val_recall_disgust: 0.1920 - val_recall_fear: 0.2566 - val_recall_happy: 0.8572 - val_recall_neutral: 0.5380 - val_recall_sad: 0.5635 - val_recall_surprise: 0.5667 - lr: 1.0000e-04\n",
      "Epoch 15/50\n",
      "740/740 [==============================] - ETA: 0s - loss: 0.4451 - accuracy: 0.8398 - precision: 0.8768 - precision_angry: 0.8614 - precision_disgust: 0.8920 - precision_fear: 0.8051 - precision_happy: 0.9637 - precision_neutral: 0.8641 - precision_sad: 0.7790 - precision_surprise: 0.9160 - recall: 0.8016 - recall_angry: 0.7492 - recall_disgust: 0.7540 - recall_fear: 0.6055 - recall_happy: 0.9662 - recall_neutral: 0.8158 - recall_sad: 0.7068 - recall_surprise: 0.8770\n",
      "Epoch 15: val_loss did not improve from 1.14251\n",
      "740/740 [==============================] - 903s 1s/step - loss: 0.4451 - accuracy: 0.8398 - precision: 0.8768 - precision_angry: 0.8614 - precision_disgust: 0.8920 - precision_fear: 0.8051 - precision_happy: 0.9637 - precision_neutral: 0.8641 - precision_sad: 0.7790 - precision_surprise: 0.9160 - recall: 0.8016 - recall_angry: 0.7492 - recall_disgust: 0.7540 - recall_fear: 0.6055 - recall_happy: 0.9662 - recall_neutral: 0.8158 - recall_sad: 0.7068 - recall_surprise: 0.8770 - val_loss: 1.2674 - val_accuracy: 0.5948 - val_precision: 0.6368 - val_precision_angry: 0.5929 - val_precision_disgust: 0.8108 - val_precision_fear: 0.5238 - val_precision_happy: 0.8393 - val_precision_neutral: 0.6422 - val_precision_sad: 0.4199 - val_precision_surprise: 0.8718 - val_recall: 0.5567 - val_recall_angry: 0.4470 - val_recall_disgust: 0.2400 - val_recall_fear: 0.2625 - val_recall_happy: 0.8273 - val_recall_neutral: 0.4332 - val_recall_sad: 0.6587 - val_recall_surprise: 0.5658 - lr: 1.0000e-04\n",
      "Epoch 16/50\n",
      "740/740 [==============================] - ETA: 0s - loss: 0.3847 - accuracy: 0.8637 - precision: 0.8937 - precision_angry: 0.8904 - precision_disgust: 0.9122 - precision_fear: 0.8331 - precision_happy: 0.9723 - precision_neutral: 0.8797 - precision_sad: 0.8015 - precision_surprise: 0.9291 - recall: 0.8335 - recall_angry: 0.8036 - recall_disgust: 0.8036 - recall_fear: 0.6532 - recall_happy: 0.9708 - recall_neutral: 0.8491 - recall_sad: 0.7504 - recall_surprise: 0.8993\n",
      "Epoch 16: val_loss did not improve from 1.14251\n",
      "740/740 [==============================] - 907s 1s/step - loss: 0.3847 - accuracy: 0.8637 - precision: 0.8937 - precision_angry: 0.8904 - precision_disgust: 0.9122 - precision_fear: 0.8331 - precision_happy: 0.9723 - precision_neutral: 0.8797 - precision_sad: 0.8015 - precision_surprise: 0.9291 - recall: 0.8335 - recall_angry: 0.8036 - recall_disgust: 0.8036 - recall_fear: 0.6532 - recall_happy: 0.9708 - recall_neutral: 0.8491 - recall_sad: 0.7504 - recall_surprise: 0.8993 - val_loss: 1.3298 - val_accuracy: 0.5999 - val_precision: 0.6373 - val_precision_angry: 0.5843 - val_precision_disgust: 0.8966 - val_precision_fear: 0.5394 - val_precision_happy: 0.8323 - val_precision_neutral: 0.6180 - val_precision_sad: 0.4279 - val_precision_surprise: 0.8441 - val_recall: 0.5676 - val_recall_angry: 0.4370 - val_recall_disgust: 0.2063 - val_recall_fear: 0.2780 - val_recall_happy: 0.8306 - val_recall_neutral: 0.4812 - val_recall_sad: 0.6361 - val_recall_surprise: 0.6142 - lr: 1.0000e-04\n",
      "Epoch 17/50\n",
      "740/740 [==============================] - ETA: 0s - loss: 0.3281 - accuracy: 0.8840 - precision: 0.9066 - precision_angry: 0.8995 - precision_disgust: 0.9109 - precision_fear: 0.8520 - precision_happy: 0.9743 - precision_neutral: 0.9004 - precision_sad: 0.8316 - precision_surprise: 0.9354 - recall: 0.8593 - recall_angry: 0.8318 - recall_disgust: 0.8099 - recall_fear: 0.7078 - recall_happy: 0.9740 - recall_neutral: 0.8820 - recall_sad: 0.7870 - recall_surprise: 0.9121\n",
      "Epoch 17: val_loss did not improve from 1.14251\n",
      "740/740 [==============================] - 902s 1s/step - loss: 0.3281 - accuracy: 0.8840 - precision: 0.9066 - precision_angry: 0.8995 - precision_disgust: 0.9109 - precision_fear: 0.8520 - precision_happy: 0.9743 - precision_neutral: 0.9004 - precision_sad: 0.8316 - precision_surprise: 0.9354 - recall: 0.8593 - recall_angry: 0.8318 - recall_disgust: 0.8099 - recall_fear: 0.7078 - recall_happy: 0.9740 - recall_neutral: 0.8820 - recall_sad: 0.7870 - recall_surprise: 0.9121 - val_loss: 1.4064 - val_accuracy: 0.5987 - val_precision: 0.6295 - val_precision_angry: 0.6077 - val_precision_disgust: 0.7018 - val_precision_fear: 0.5398 - val_precision_happy: 0.8048 - val_precision_neutral: 0.5894 - val_precision_sad: 0.4256 - val_precision_surprise: 0.8178 - val_recall: 0.5690 - val_recall_angry: 0.4019 - val_recall_disgust: 0.3175 - val_recall_fear: 0.2679 - val_recall_happy: 0.8461 - val_recall_neutral: 0.5044 - val_recall_sad: 0.6134 - val_recall_surprise: 0.6258 - lr: 1.0000e-04\n",
      "Epoch 18/50\n",
      "740/740 [==============================] - ETA: 0s - loss: 0.2765 - accuracy: 0.9057 - precision: 0.9233 - precision_angry: 0.9217 - precision_disgust: 0.9252 - precision_fear: 0.8802 - precision_happy: 0.9747 - precision_neutral: 0.9239 - precision_sad: 0.8576 - precision_surprise: 0.9511 - recall: 0.8884 - recall_angry: 0.8718 - recall_disgust: 0.8574 - recall_fear: 0.7608 - recall_happy: 0.9815 - recall_neutral: 0.9016 - recall_sad: 0.8320 - recall_surprise: 0.9328\n",
      "Epoch 18: val_loss did not improve from 1.14251\n",
      "\n",
      "Epoch 18: ReduceLROnPlateau reducing learning rate to 1.0000000474974514e-05.\n",
      "740/740 [==============================] - 905s 1s/step - loss: 0.2765 - accuracy: 0.9057 - precision: 0.9233 - precision_angry: 0.9217 - precision_disgust: 0.9252 - precision_fear: 0.8802 - precision_happy: 0.9747 - precision_neutral: 0.9239 - precision_sad: 0.8576 - precision_surprise: 0.9511 - recall: 0.8884 - recall_angry: 0.8718 - recall_disgust: 0.8574 - recall_fear: 0.7608 - recall_happy: 0.9815 - recall_neutral: 0.9016 - recall_sad: 0.8320 - recall_surprise: 0.9328 - val_loss: 1.5362 - val_accuracy: 0.6011 - val_precision: 0.6211 - val_precision_angry: 0.5993 - val_precision_disgust: 0.8140 - val_precision_fear: 0.4888 - val_precision_happy: 0.8199 - val_precision_neutral: 0.5637 - val_precision_sad: 0.4306 - val_precision_surprise: 0.8358 - val_recall: 0.5768 - val_recall_angry: 0.4017 - val_recall_disgust: 0.2800 - val_recall_fear: 0.3127 - val_recall_happy: 0.8389 - val_recall_neutral: 0.5347 - val_recall_sad: 0.6275 - val_recall_surprise: 0.5948 - lr: 1.0000e-04\n",
      "Epoch 19/50\n",
      "740/740 [==============================] - ETA: 0s - loss: 0.2100 - accuracy: 0.9307 - precision: 0.9443 - precision_angry: 0.9467 - precision_disgust: 0.9597 - precision_fear: 0.9106 - precision_happy: 0.9844 - precision_neutral: 0.9515 - precision_sad: 0.8862 - precision_surprise: 0.9610 - recall: 0.9155 - recall_angry: 0.9117 - recall_disgust: 0.8970 - recall_fear: 0.7929 - recall_happy: 0.9845 - recall_neutral: 0.9372 - recall_sad: 0.8778 - recall_surprise: 0.9483\n",
      "Epoch 19: val_loss did not improve from 1.14251\n",
      "740/740 [==============================] - 904s 1s/step - loss: 0.2100 - accuracy: 0.9307 - precision: 0.9443 - precision_angry: 0.9467 - precision_disgust: 0.9597 - precision_fear: 0.9106 - precision_happy: 0.9844 - precision_neutral: 0.9515 - precision_sad: 0.8862 - precision_surprise: 0.9610 - recall: 0.9155 - recall_angry: 0.9117 - recall_disgust: 0.8970 - recall_fear: 0.7929 - recall_happy: 0.9845 - recall_neutral: 0.9372 - recall_sad: 0.8778 - recall_surprise: 0.9483 - val_loss: 1.5591 - val_accuracy: 0.6063 - val_precision: 0.6265 - val_precision_angry: 0.5647 - val_precision_disgust: 0.7736 - val_precision_fear: 0.4974 - val_precision_happy: 0.8140 - val_precision_neutral: 0.5747 - val_precision_sad: 0.4486 - val_precision_surprise: 0.8034 - val_recall: 0.5863 - val_recall_angry: 0.4404 - val_recall_disgust: 0.3280 - val_recall_fear: 0.3377 - val_recall_happy: 0.8373 - val_recall_neutral: 0.5480 - val_recall_sad: 0.5764 - val_recall_surprise: 0.6490 - lr: 1.0000e-05\n",
      "Epoch 20/50\n",
      "740/740 [==============================] - ETA: 0s - loss: 0.1987 - accuracy: 0.9340 - precision: 0.9451 - precision_angry: 0.9524 - precision_disgust: 0.9415 - precision_fear: 0.9130 - precision_happy: 0.9824 - precision_neutral: 0.9483 - precision_sad: 0.8913 - precision_surprise: 0.9636 - recall: 0.9207 - recall_angry: 0.9174 - recall_disgust: 0.8984 - recall_fear: 0.8097 - recall_happy: 0.9844 - recall_neutral: 0.9439 - recall_sad: 0.8831 - recall_surprise: 0.9484\n",
      "Epoch 20: val_loss did not improve from 1.14251\n",
      "740/740 [==============================] - 902s 1s/step - loss: 0.1987 - accuracy: 0.9340 - precision: 0.9451 - precision_angry: 0.9524 - precision_disgust: 0.9415 - precision_fear: 0.9130 - precision_happy: 0.9824 - precision_neutral: 0.9483 - precision_sad: 0.8913 - precision_surprise: 0.9636 - recall: 0.9207 - recall_angry: 0.9174 - recall_disgust: 0.8984 - recall_fear: 0.8097 - recall_happy: 0.9844 - recall_neutral: 0.9439 - recall_sad: 0.8831 - recall_surprise: 0.9484 - val_loss: 1.5957 - val_accuracy: 0.6056 - val_precision: 0.6270 - val_precision_angry: 0.5467 - val_precision_disgust: 0.7049 - val_precision_fear: 0.4991 - val_precision_happy: 0.8128 - val_precision_neutral: 0.5788 - val_precision_sad: 0.4586 - val_precision_surprise: 0.7821 - val_recall: 0.5856 - val_recall_angry: 0.4836 - val_recall_disgust: 0.3496 - val_recall_fear: 0.3484 - val_recall_happy: 0.8306 - val_recall_neutral: 0.5341 - val_recall_sad: 0.5377 - val_recall_surprise: 0.6636 - lr: 1.0000e-05\n",
      "Epoch 21/50\n",
      "740/740 [==============================] - ETA: 0s - loss: 0.1904 - accuracy: 0.9374 - precision: 0.9492 - precision_angry: 0.9554 - precision_disgust: 0.9565 - precision_fear: 0.9191 - precision_happy: 0.9851 - precision_neutral: 0.9532 - precision_sad: 0.8988 - precision_surprise: 0.9620 - recall: 0.9259 - recall_angry: 0.9159 - recall_disgust: 0.9149 - recall_fear: 0.8218 - recall_happy: 0.9874 - recall_neutral: 0.9490 - recall_sad: 0.8898 - recall_surprise: 0.9544\n",
      "Epoch 21: val_loss did not improve from 1.14251\n",
      "740/740 [==============================] - 914s 1s/step - loss: 0.1904 - accuracy: 0.9374 - precision: 0.9492 - precision_angry: 0.9554 - precision_disgust: 0.9565 - precision_fear: 0.9191 - precision_happy: 0.9851 - precision_neutral: 0.9532 - precision_sad: 0.8988 - precision_surprise: 0.9620 - recall: 0.9259 - recall_angry: 0.9159 - recall_disgust: 0.9149 - recall_fear: 0.8218 - recall_happy: 0.9874 - recall_neutral: 0.9490 - recall_sad: 0.8898 - recall_surprise: 0.9544 - val_loss: 1.6345 - val_accuracy: 0.6061 - val_precision: 0.6270 - val_precision_angry: 0.5412 - val_precision_disgust: 0.7121 - val_precision_fear: 0.4833 - val_precision_happy: 0.8164 - val_precision_neutral: 0.5774 - val_precision_sad: 0.4662 - val_precision_surprise: 0.7818 - val_recall: 0.5851 - val_recall_angry: 0.4878 - val_recall_disgust: 0.3821 - val_recall_fear: 0.3615 - val_recall_happy: 0.8259 - val_recall_neutral: 0.5322 - val_recall_sad: 0.5175 - val_recall_surprise: 0.6767 - lr: 1.0000e-05\n",
      "Epoch 22/50\n",
      "740/740 [==============================] - ETA: 0s - loss: 0.1803 - accuracy: 0.9418 - precision: 0.9533 - precision_angry: 0.9591 - precision_disgust: 0.9502 - precision_fear: 0.9269 - precision_happy: 0.9862 - precision_neutral: 0.9564 - precision_sad: 0.9081 - precision_surprise: 0.9647 - recall: 0.9311 - recall_angry: 0.9250 - recall_disgust: 0.9087 - recall_fear: 0.8354 - recall_happy: 0.9859 - recall_neutral: 0.9557 - recall_sad: 0.8960 - recall_surprise: 0.9567\n",
      "Epoch 22: val_loss did not improve from 1.14251\n",
      "740/740 [==============================] - 911s 1s/step - loss: 0.1803 - accuracy: 0.9418 - precision: 0.9533 - precision_angry: 0.9591 - precision_disgust: 0.9502 - precision_fear: 0.9269 - precision_happy: 0.9862 - precision_neutral: 0.9564 - precision_sad: 0.9081 - precision_surprise: 0.9647 - recall: 0.9311 - recall_angry: 0.9250 - recall_disgust: 0.9087 - recall_fear: 0.8354 - recall_happy: 0.9859 - recall_neutral: 0.9557 - recall_sad: 0.8960 - recall_surprise: 0.9567 - val_loss: 1.6699 - val_accuracy: 0.6039 - val_precision: 0.6226 - val_precision_angry: 0.5362 - val_precision_disgust: 0.7059 - val_precision_fear: 0.4670 - val_precision_happy: 0.8074 - val_precision_neutral: 0.5809 - val_precision_sad: 0.4627 - val_precision_surprise: 0.7766 - val_recall: 0.5841 - val_recall_angry: 0.4730 - val_recall_disgust: 0.3840 - val_recall_fear: 0.3623 - val_recall_happy: 0.8299 - val_recall_neutral: 0.5243 - val_recall_sad: 0.5170 - val_recall_surprise: 0.6828 - lr: 1.0000e-05\n",
      "Epoch 23/50\n",
      "740/740 [==============================] - ETA: 0s - loss: 0.1766 - accuracy: 0.9434 - precision: 0.9528 - precision_angry: 0.9601 - precision_disgust: 0.9588 - precision_fear: 0.9172 - precision_happy: 0.9849 - precision_neutral: 0.9612 - precision_sad: 0.9081 - precision_surprise: 0.9659 - recall: 0.9321 - recall_angry: 0.9289 - recall_disgust: 0.9208 - recall_fear: 0.8407 - recall_happy: 0.9867 - recall_neutral: 0.9510 - recall_sad: 0.9014 - recall_surprise: 0.9495Restoring model weights from the end of the best epoch: 13.\n",
      "\n",
      "Epoch 23: val_loss did not improve from 1.14251\n",
      "\n",
      "Epoch 23: ReduceLROnPlateau reducing learning rate to 1e-05.\n",
      "740/740 [==============================] - 907s 1s/step - loss: 0.1766 - accuracy: 0.9434 - precision: 0.9528 - precision_angry: 0.9601 - precision_disgust: 0.9588 - precision_fear: 0.9172 - precision_happy: 0.9849 - precision_neutral: 0.9612 - precision_sad: 0.9081 - precision_surprise: 0.9659 - recall: 0.9321 - recall_angry: 0.9289 - recall_disgust: 0.9208 - recall_fear: 0.8407 - recall_happy: 0.9867 - recall_neutral: 0.9510 - recall_sad: 0.9014 - recall_surprise: 0.9495 - val_loss: 1.6924 - val_accuracy: 0.6039 - val_precision: 0.6223 - val_precision_angry: 0.5271 - val_precision_disgust: 0.6707 - val_precision_fear: 0.4739 - val_precision_happy: 0.8145 - val_precision_neutral: 0.5755 - val_precision_sad: 0.4682 - val_precision_surprise: 0.7664 - val_recall: 0.5854 - val_recall_angry: 0.4964 - val_recall_disgust: 0.4365 - val_recall_fear: 0.3692 - val_recall_happy: 0.8234 - val_recall_neutral: 0.5253 - val_recall_sad: 0.4995 - val_recall_surprise: 0.6909 - lr: 1.0000e-05\n",
      "Epoch 23: early stopping\n"
     ]
    }
   ],
   "source": [
    "history = model.fit(\n",
    "    train_generator,\n",
    "    steps_per_epoch=train_generator.n//train_generator.batch_size,\n",
    "    epochs=epochs,\n",
    "    validation_data=validation_generator,\n",
    "    validation_steps=validation_generator.n//validation_generator.batch_size,\n",
    "    callbacks=callbacks_list,\n",
    ")"
   ],
   "metadata": {
    "collapsed": false,
    "pycharm": {
     "name": "#%%\n"
    }
   }
  },
  {
   "cell_type": "markdown",
   "source": [
    "### 7. Evaluation - Test set"
   ],
   "metadata": {
    "collapsed": false,
    "pycharm": {
     "name": "#%% md\n"
    }
   }
  },
  {
   "cell_type": "code",
   "execution_count": 3,
   "outputs": [],
   "source": [
    "from keras.models import load_model\n",
    "\n",
    "model = load_model(\"model_mobilenet_v2_base.h5\")"
   ],
   "metadata": {
    "collapsed": false,
    "pycharm": {
     "name": "#%%\n"
    }
   }
  },
  {
   "cell_type": "code",
   "execution_count": 4,
   "outputs": [
    {
     "name": "stdout",
     "output_type": "stream",
     "text": [
      "Found 7178 images belonging to 7 classes.\n"
     ]
    }
   ],
   "source": [
    "test_data_generator = ImageDataGenerator(preprocessing_function=preprocess_input)\n",
    "\n",
    "test_generator = test_data_generator.flow_from_directory(\n",
    "    DATASET_BASE_TEST_PATH,\n",
    "    target_size=(224, 224),\n",
    "    batch_size=32,\n",
    "    class_mode='categorical',\n",
    "    shuffle=False\n",
    ")"
   ],
   "metadata": {
    "collapsed": false,
    "pycharm": {
     "name": "#%%\n"
    }
   }
  },
  {
   "cell_type": "code",
   "execution_count": 5,
   "outputs": [
    {
     "name": "stdout",
     "output_type": "stream",
     "text": [
      "225/225 [==============================] - 119s 517ms/step - loss: 1.1519 - accuracy: 0.6066 - precision: 0.6657 - precision_angry: 0.5804 - precision_disgust: 0.9444 - precision_fear: 0.5773 - precision_happy: 0.8631 - precision_neutral: 0.6153 - precision_sad: 0.4615 - precision_surprise: 0.8230 - recall: 0.5508 - recall_angry: 0.5010 - recall_disgust: 0.1532 - recall_fear: 0.2480 - recall_happy: 0.8033 - recall_neutral: 0.4955 - recall_sad: 0.4996 - recall_surprise: 0.6546\n"
     ]
    },
    {
     "data": {
      "text/plain": "[1.1518579721450806,\n 0.6065756678581238,\n 0.665656566619873,\n 0.5804111361503601,\n 0.9444444179534912,\n 0.5772727131843567,\n 0.863113284111023,\n 0.6153071522712708,\n 0.4614814817905426,\n 0.8229954838752747,\n 0.5508497953414917,\n 0.5010438561439514,\n 0.15315315127372742,\n 0.248046875,\n 0.8032694458961487,\n 0.4955393373966217,\n 0.49959903955459595,\n 0.6546329855918884]"
     },
     "execution_count": 5,
     "metadata": {},
     "output_type": "execute_result"
    }
   ],
   "source": [
    "model.evaluate(test_generator)"
   ],
   "metadata": {
    "collapsed": false,
    "pycharm": {
     "name": "#%%\n"
    }
   }
  }
 ],
 "metadata": {
  "kernelspec": {
   "display_name": "Python 3",
   "language": "python",
   "name": "python3"
  },
  "language_info": {
   "codemirror_mode": {
    "name": "ipython",
    "version": 2
   },
   "file_extension": ".py",
   "mimetype": "text/x-python",
   "name": "python",
   "nbconvert_exporter": "python",
   "pygments_lexer": "ipython2",
   "version": "2.7.6"
  }
 },
 "nbformat": 4,
 "nbformat_minor": 0
}