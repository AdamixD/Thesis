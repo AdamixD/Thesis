{
 "cells": [
  {
   "cell_type": "markdown",
   "source": [
    "# Model Training - MobileNetV2 (transfer)"
   ],
   "metadata": {
    "collapsed": false,
    "pycharm": {
     "name": "#%% md\n"
    }
   }
  },
  {
   "cell_type": "markdown",
   "source": [
    "### 0. Imports"
   ],
   "metadata": {
    "collapsed": false,
    "pycharm": {
     "name": "#%% md\n"
    }
   }
  },
  {
   "cell_type": "code",
   "execution_count": 1,
   "outputs": [],
   "source": [
    "import matplotlib.pyplot as plt\n",
    "import tensorflow as tf\n",
    "\n",
    "from keras.applications import MobileNetV2\n",
    "from keras.applications.mobilenet_v2 import preprocess_input\n",
    "from keras.callbacks import (\n",
    "    ModelCheckpoint,\n",
    "    EarlyStopping,\n",
    "    ReduceLROnPlateau\n",
    ")\n",
    "from keras.models import Sequential\n",
    "from keras.layers import Dense, GlobalAveragePooling2D\n",
    "from keras.metrics import Precision, Recall\n",
    "from keras.optimizers import Adam\n",
    "from keras.preprocessing.image import ImageDataGenerator\n",
    "from keras.utils.vis_utils import plot_model"
   ],
   "metadata": {
    "collapsed": false,
    "ExecuteTime": {
     "start_time": "2023-06-08T14:04:36.621338Z",
     "end_time": "2023-06-08T14:04:39.977428Z"
    },
    "pycharm": {
     "name": "#%%\n"
    }
   }
  },
  {
   "cell_type": "markdown",
   "source": [
    "### 1. Paths"
   ],
   "metadata": {
    "collapsed": false,
    "pycharm": {
     "name": "#%% md\n"
    }
   }
  },
  {
   "cell_type": "code",
   "execution_count": 2,
   "outputs": [],
   "source": [
    "# DATASET_BASE_TRAIN_PATH = \"/Users/adamdabkowski/DataspellProjects/Praca_dyplomowa/data/train_resized\"\n",
    "# DATASET_BASE_TRAIN_PATH = \"/Users/adamd/DataspellProjects/Facial Expressions Recognition/data/train_resized\"\n",
    "# DATASET_BASE_TRAIN_PATH = \"/Users/adamd/DataspellProjects/Facial Expressions Recognition/data/train_merged\"\n",
    "DATASET_BASE_TRAIN_PATH = \"/Users/adamd/DataspellProjects/Facial Expressions Recognition/data/train_merged_cleaned\"\n",
    "\n",
    "# DATASET_BASE_TRAIN_PATH = \"../new_data\"\n",
    "\n",
    "# DATASET_BASE_TEST_PATH = \"/Users/adamdabkowski/DataspellProjects/Praca_dyplomowa/data/test_resized\"\n",
    "DATASET_BASE_TEST_PATH = \"/Users/adamd/DataspellProjects/Facial Expressions Recognition/data/test_resized\""
   ],
   "metadata": {
    "collapsed": false,
    "ExecuteTime": {
     "start_time": "2023-06-08T14:06:08.298593Z",
     "end_time": "2023-06-08T14:06:08.305288Z"
    },
    "pycharm": {
     "name": "#%%\n"
    }
   }
  },
  {
   "cell_type": "markdown",
   "source": [
    "### 2. Data preprocessing"
   ],
   "metadata": {
    "collapsed": false,
    "pycharm": {
     "name": "#%% md\n"
    }
   }
  },
  {
   "cell_type": "code",
   "execution_count": 3,
   "outputs": [
    {
     "name": "stdout",
     "output_type": "stream",
     "text": [
      "Found 23689 images belonging to 7 classes.\n",
      "Found 5919 images belonging to 7 classes.\n"
     ]
    }
   ],
   "source": [
    "batch_size  = 32\n",
    "img_size = 224\n",
    "\n",
    "train_validation_data_generator = ImageDataGenerator(preprocessing_function=preprocess_input, validation_split=0.2)\n",
    "\n",
    "train_generator = train_validation_data_generator.flow_from_directory(\n",
    "    DATASET_BASE_TRAIN_PATH,\n",
    "    target_size=(img_size,img_size),\n",
    "    batch_size=batch_size,\n",
    "    class_mode='categorical',\n",
    "    color_mode='rgb',\n",
    "    subset='training',\n",
    "    shuffle=True,\n",
    ")\n",
    "\n",
    "validation_generator = train_validation_data_generator.flow_from_directory(\n",
    "    DATASET_BASE_TRAIN_PATH,\n",
    "    target_size=(img_size,img_size),\n",
    "    batch_size=batch_size,\n",
    "    class_mode='categorical',\n",
    "    color_mode='rgb',\n",
    "    subset='validation',\n",
    "    shuffle=True,\n",
    ")"
   ],
   "metadata": {
    "collapsed": false,
    "ExecuteTime": {
     "start_time": "2023-06-08T14:06:12.829138Z",
     "end_time": "2023-06-08T14:06:13.009438Z"
    },
    "pycharm": {
     "name": "#%%\n"
    }
   }
  },
  {
   "cell_type": "markdown",
   "source": [
    "### 5. Model creating"
   ],
   "metadata": {
    "collapsed": false,
    "pycharm": {
     "name": "#%% md\n"
    }
   }
  },
  {
   "cell_type": "code",
   "execution_count": 4,
   "outputs": [],
   "source": [
    "CATEGORIES = [\"angry\", \"disgust\", \"fear\", \"happy\", \"neutral\", \"sad\", \"surprise\"]"
   ],
   "metadata": {
    "collapsed": false,
    "ExecuteTime": {
     "start_time": "2023-06-08T14:06:21.358802Z",
     "end_time": "2023-06-08T14:06:21.367405Z"
    },
    "pycharm": {
     "name": "#%%\n"
    }
   }
  },
  {
   "cell_type": "code",
   "execution_count": 6,
   "outputs": [],
   "source": [
    "checkpoint = ModelCheckpoint(\n",
    "    filepath=\"./model_mobilenet_v2_transfer.h5\",\n",
    "    monitor='val_loss',\n",
    "    verbose=1,\n",
    "    save_best_only=True,\n",
    "    mode='min'\n",
    ")\n",
    "\n",
    "early_stopping = EarlyStopping(\n",
    "    monitor='val_loss',\n",
    "    patience=10,\n",
    "    verbose=1,\n",
    "    restore_best_weights=True,\n",
    ")\n",
    "\n",
    "reduce_learning_rate = ReduceLROnPlateau(\n",
    "    monitor='val_loss',\n",
    "    factor=0.1,\n",
    "    patience=5,\n",
    "    verbose=1,\n",
    "    min_lr=0.00001,\n",
    ")\n",
    "\n",
    "callbacks_list = [early_stopping, checkpoint, reduce_learning_rate]"
   ],
   "metadata": {
    "collapsed": false,
    "ExecuteTime": {
     "start_time": "2023-06-08T14:06:22.501933Z",
     "end_time": "2023-06-08T14:06:22.506101Z"
    },
    "pycharm": {
     "name": "#%%\n"
    }
   }
  },
  {
   "cell_type": "code",
   "execution_count": 7,
   "outputs": [
    {
     "name": "stdout",
     "output_type": "stream",
     "text": [
      "Downloading data from https://storage.googleapis.com/tensorflow/keras-applications/mobilenet_v2/mobilenet_v2_weights_tf_dim_ordering_tf_kernels_1.0_224_no_top.h5\n",
      "9406464/9406464 [==============================] - 4s 0us/step\n"
     ]
    }
   ],
   "source": [
    "model = Sequential()\n",
    "\n",
    "base_model = MobileNetV2(input_shape=(img_size, img_size, 3), include_top=False, weights='imagenet')\n",
    "model.add(base_model)\n",
    "\n",
    "model.add(GlobalAveragePooling2D())\n",
    "model.add(Dense(512, activation='relu'))\n",
    "model.add(Dense(7, activation='softmax'))"
   ],
   "metadata": {
    "collapsed": false,
    "ExecuteTime": {
     "start_time": "2023-06-08T14:06:33.844245Z",
     "end_time": "2023-06-08T14:06:34.087495Z"
    },
    "pycharm": {
     "name": "#%%\n"
    }
   }
  },
  {
   "cell_type": "code",
   "execution_count": 8,
   "outputs": [
    {
     "name": "stdout",
     "output_type": "stream",
     "text": [
      "Model: \"sequential\"\n",
      "_________________________________________________________________\n",
      " Layer (type)                Output Shape              Param #   \n",
      "=================================================================\n",
      " mobilenetv2_1.00_224 (Funct  (None, 7, 7, 1280)       2257984   \n",
      " ional)                                                          \n",
      "                                                                 \n",
      " global_average_pooling2d (G  (None, 1280)             0         \n",
      " lobalAveragePooling2D)                                          \n",
      "                                                                 \n",
      " dense (Dense)               (None, 512)               655872    \n",
      "                                                                 \n",
      " dense_1 (Dense)             (None, 7)                 3591      \n",
      "                                                                 \n",
      "=================================================================\n",
      "Total params: 2,917,447\n",
      "Trainable params: 2,883,335\n",
      "Non-trainable params: 34,112\n",
      "_________________________________________________________________\n"
     ]
    }
   ],
   "source": [
    "model.compile(\n",
    "    optimizer=Adam(learning_rate=0.001),\n",
    "    loss='categorical_crossentropy',\n",
    "    metrics=[\n",
    "        'accuracy',\n",
    "        Precision(name='precision'),\n",
    "        Precision(class_id=0, name='precision_angry'),\n",
    "        Precision(class_id=1, name='precision_disgust'),\n",
    "        Precision(class_id=2, name='precision_fear'),\n",
    "        Precision(class_id=3, name='precision_happy'),\n",
    "        Precision(class_id=4, name='precision_neutral'),\n",
    "        Precision(class_id=5, name='precision_sad'),\n",
    "        Precision(class_id=6, name='precision_surprise'),\n",
    "        Recall(name='recall'),\n",
    "        Recall(class_id=0, name='recall_angry'),\n",
    "        Recall(class_id=1, name='recall_disgust'),\n",
    "        Recall(class_id=2, name='recall_fear'),\n",
    "        Recall(class_id=3, name='recall_happy'),\n",
    "        Recall(class_id=4, name='recall_neutral'),\n",
    "        Recall(class_id=5, name='recall_sad'),\n",
    "        Recall(class_id=6, name='recall_surprise'),\n",
    "    ]\n",
    ")\n",
    "model.summary()"
   ],
   "metadata": {
    "collapsed": false,
    "ExecuteTime": {
     "start_time": "2023-06-08T14:08:05.068394Z",
     "end_time": "2023-06-08T14:08:05.102749Z"
    },
    "pycharm": {
     "name": "#%%\n"
    }
   }
  },
  {
   "cell_type": "code",
   "execution_count": 9,
   "outputs": [
    {
     "data": {
      "image/png": "[encoded data removed]",
      "text/plain": "<IPython.core.display.Image object>"
     },
     "execution_count": 9,
     "metadata": {},
     "output_type": "execute_result"
    }
   ],
   "source": [
    "plot_model(model, to_file='model_mobilenet_v2_transfer.png', show_shapes=True, show_layer_names=True)"
   ],
   "metadata": {
    "collapsed": false,
    "pycharm": {
     "name": "#%%\n"
    }
   }
  },
  {
   "cell_type": "markdown",
   "source": [
    "### 6. Model training"
   ],
   "metadata": {
    "collapsed": false,
    "pycharm": {
     "name": "#%% md\n"
    }
   }
  },
  {
   "cell_type": "code",
   "execution_count": 10,
   "outputs": [],
   "source": [
    "epochs = 50"
   ],
   "metadata": {
    "collapsed": false,
    "ExecuteTime": {
     "start_time": "2023-06-08T14:08:06.121000Z",
     "end_time": "2023-06-08T14:08:06.134021Z"
    },
    "pycharm": {
     "name": "#%%\n"
    }
   }
  },
  {
   "cell_type": "code",
   "execution_count": 11,
   "outputs": [
    {
     "name": "stdout",
     "output_type": "stream",
     "text": [
      "Epoch 1/50\n",
      "740/740 [==============================] - ETA: 0s - loss: 1.2767 - accuracy: 0.5190 - precision: 0.7162 - precision_angry: 0.5906 - precision_disgust: 0.4286 - precision_fear: 0.5509 - precision_happy: 0.8239 - precision_neutral: 0.6150 - precision_sad: 0.4904 - precision_surprise: 0.7134 - recall: 0.3197 - recall_angry: 0.1485 - recall_disgust: 0.0179 - recall_fear: 0.0546 - recall_happy: 0.6943 - recall_neutral: 0.2625 - recall_sad: 0.1045 - recall_surprise: 0.5006\n",
      "Epoch 1: val_loss improved from inf to 2.26763, saving model to .\\model_mobilenet_v2_transfer.h5\n",
      "740/740 [==============================] - 875s 1s/step - loss: 1.2767 - accuracy: 0.5190 - precision: 0.7162 - precision_angry: 0.5906 - precision_disgust: 0.4286 - precision_fear: 0.5509 - precision_happy: 0.8239 - precision_neutral: 0.6150 - precision_sad: 0.4904 - precision_surprise: 0.7134 - recall: 0.3197 - recall_angry: 0.1485 - recall_disgust: 0.0179 - recall_fear: 0.0546 - recall_happy: 0.6943 - recall_neutral: 0.2625 - recall_sad: 0.1045 - recall_surprise: 0.5006 - val_loss: 2.2676 - val_accuracy: 0.4263 - val_precision: 0.4571 - val_precision_angry: 0.2989 - val_precision_disgust: 0.1325 - val_precision_fear: 1.0000 - val_precision_happy: 0.9081 - val_precision_neutral: 0.4112 - val_precision_sad: 0.0000e+00 - val_precision_surprise: 0.3892 - val_recall: 0.3920 - val_recall_angry: 0.4633 - val_recall_disgust: 0.0873 - val_recall_fear: 0.0012 - val_recall_happy: 0.5320 - val_recall_neutral: 0.5854 - val_recall_sad: 0.0000e+00 - val_recall_surprise: 0.8265 - lr: 0.0010\n",
      "Epoch 2/50\n",
      "740/740 [==============================] - ETA: 0s - loss: 1.0794 - accuracy: 0.5955 - precision: 0.7377 - precision_angry: 0.6475 - precision_disgust: 0.6613 - precision_fear: 0.5936 - precision_happy: 0.8594 - precision_neutral: 0.6525 - precision_sad: 0.5759 - precision_surprise: 0.7651 - recall: 0.4333 - recall_angry: 0.3040 - recall_disgust: 0.1624 - recall_fear: 0.1383 - recall_happy: 0.7866 - recall_neutral: 0.3894 - recall_sad: 0.2234 - recall_surprise: 0.6116\n",
      "Epoch 2: val_loss did not improve from 2.26763\n",
      "740/740 [==============================] - 830s 1s/step - loss: 1.0794 - accuracy: 0.5955 - precision: 0.7377 - precision_angry: 0.6475 - precision_disgust: 0.6613 - precision_fear: 0.5936 - precision_happy: 0.8594 - precision_neutral: 0.6525 - precision_sad: 0.5759 - precision_surprise: 0.7651 - recall: 0.4333 - recall_angry: 0.3040 - recall_disgust: 0.1624 - recall_fear: 0.1383 - recall_happy: 0.7866 - recall_neutral: 0.3894 - recall_sad: 0.2234 - recall_surprise: 0.6116 - val_loss: 3.6930 - val_accuracy: 0.2318 - val_precision: 0.2290 - val_precision_angry: 0.0000e+00 - val_precision_disgust: 0.0359 - val_precision_fear: 0.3571 - val_precision_happy: 0.9655 - val_precision_neutral: 0.3450 - val_precision_sad: 0.6154 - val_precision_surprise: 0.6594 - val_recall: 0.2087 - val_recall_angry: 0.0000e+00 - val_recall_disgust: 0.9127 - val_recall_fear: 0.0060 - val_recall_happy: 0.2485 - val_recall_neutral: 0.4585 - val_recall_sad: 0.0083 - val_recall_surprise: 0.4143 - lr: 0.0010\n",
      "Epoch 3/50\n",
      "740/740 [==============================] - ETA: 0s - loss: 1.0009 - accuracy: 0.6307 - precision: 0.7565 - precision_angry: 0.6829 - precision_disgust: 0.6705 - precision_fear: 0.6376 - precision_happy: 0.8810 - precision_neutral: 0.6753 - precision_sad: 0.6167 - precision_surprise: 0.7893 - recall: 0.4851 - recall_angry: 0.3581 - recall_disgust: 0.2337 - recall_fear: 0.2041 - recall_happy: 0.8163 - recall_neutral: 0.4386 - recall_sad: 0.3015 - recall_surprise: 0.6535\n",
      "Epoch 3: val_loss did not improve from 2.26763\n",
      "740/740 [==============================] - 849s 1s/step - loss: 1.0009 - accuracy: 0.6307 - precision: 0.7565 - precision_angry: 0.6829 - precision_disgust: 0.6705 - precision_fear: 0.6376 - precision_happy: 0.8810 - precision_neutral: 0.6753 - precision_sad: 0.6167 - precision_surprise: 0.7893 - recall: 0.4851 - recall_angry: 0.3581 - recall_disgust: 0.2337 - recall_fear: 0.2041 - recall_happy: 0.8163 - recall_neutral: 0.4386 - recall_sad: 0.3015 - recall_surprise: 0.6535 - val_loss: 2.5148 - val_accuracy: 0.3728 - val_precision: 0.4115 - val_precision_angry: 0.6119 - val_precision_disgust: 0.6667 - val_precision_fear: 0.2897 - val_precision_happy: 0.4803 - val_precision_neutral: 0.5714 - val_precision_sad: 0.0000e+00 - val_precision_surprise: 0.3714 - val_recall: 0.3544 - val_recall_angry: 0.0498 - val_recall_disgust: 0.0317 - val_recall_fear: 0.4458 - val_recall_happy: 0.8747 - val_recall_neutral: 0.0040 - val_recall_sad: 0.0000e+00 - val_recall_surprise: 0.5837 - lr: 0.0010\n",
      "Epoch 4/50\n",
      "740/740 [==============================] - ETA: 0s - loss: 0.9393 - accuracy: 0.6489 - precision: 0.7660 - precision_angry: 0.6984 - precision_disgust: 0.7012 - precision_fear: 0.6510 - precision_happy: 0.8923 - precision_neutral: 0.6962 - precision_sad: 0.6388 - precision_surprise: 0.7921 - recall: 0.5218 - recall_angry: 0.4128 - recall_disgust: 0.3492 - recall_fear: 0.2461 - recall_happy: 0.8352 - recall_neutral: 0.4889 - recall_sad: 0.3356 - recall_surprise: 0.6688\n",
      "Epoch 4: val_loss did not improve from 2.26763\n",
      "740/740 [==============================] - 843s 1s/step - loss: 0.9393 - accuracy: 0.6489 - precision: 0.7660 - precision_angry: 0.6984 - precision_disgust: 0.7012 - precision_fear: 0.6510 - precision_happy: 0.8923 - precision_neutral: 0.6962 - precision_sad: 0.6388 - precision_surprise: 0.7921 - recall: 0.5218 - recall_angry: 0.4128 - recall_disgust: 0.3492 - recall_fear: 0.2461 - recall_happy: 0.8352 - recall_neutral: 0.4889 - recall_sad: 0.3356 - recall_surprise: 0.6688 - val_loss: 2.5327 - val_accuracy: 0.4117 - val_precision: 0.4329 - val_precision_angry: 0.6000 - val_precision_disgust: 0.5000 - val_precision_fear: 0.3250 - val_precision_happy: 0.8947 - val_precision_neutral: 0.4192 - val_precision_sad: 0.6111 - val_precision_surprise: 0.2906 - val_recall: 0.3728 - val_recall_angry: 0.0109 - val_recall_disgust: 0.0080 - val_recall_fear: 0.2002 - val_recall_happy: 0.4586 - val_recall_neutral: 0.6643 - val_recall_sad: 0.0795 - val_recall_surprise: 0.9050 - lr: 0.0010\n",
      "Epoch 5/50\n",
      "740/740 [==============================] - ETA: 0s - loss: 0.8865 - accuracy: 0.6702 - precision: 0.7685 - precision_angry: 0.7133 - precision_disgust: 0.7292 - precision_fear: 0.6701 - precision_happy: 0.8875 - precision_neutral: 0.7004 - precision_sad: 0.6477 - precision_surprise: 0.8104 - recall: 0.5567 - recall_angry: 0.4457 - recall_disgust: 0.4000 - recall_fear: 0.2909 - recall_happy: 0.8490 - recall_neutral: 0.5204 - recall_sad: 0.4005 - recall_surprise: 0.6992\n",
      "Epoch 5: val_loss improved from 2.26763 to 1.47900, saving model to .\\model_mobilenet_v2_transfer.h5\n",
      "740/740 [==============================] - 847s 1s/step - loss: 0.8865 - accuracy: 0.6702 - precision: 0.7685 - precision_angry: 0.7133 - precision_disgust: 0.7292 - precision_fear: 0.6701 - precision_happy: 0.8875 - precision_neutral: 0.7004 - precision_sad: 0.6477 - precision_surprise: 0.8104 - recall: 0.5567 - recall_angry: 0.4457 - recall_disgust: 0.4000 - recall_fear: 0.2909 - recall_happy: 0.8490 - recall_neutral: 0.5204 - recall_sad: 0.4005 - recall_surprise: 0.6992 - val_loss: 1.4790 - val_accuracy: 0.5041 - val_precision: 0.5692 - val_precision_angry: 0.3780 - val_precision_disgust: 0.5714 - val_precision_fear: 0.3876 - val_precision_happy: 0.9255 - val_precision_neutral: 0.5940 - val_precision_sad: 0.5583 - val_precision_surprise: 0.6682 - val_recall: 0.4310 - val_recall_angry: 0.5788 - val_recall_disgust: 0.1280 - val_recall_fear: 0.3945 - val_recall_happy: 0.5944 - val_recall_neutral: 0.4279 - val_recall_sad: 0.1187 - val_recall_surprise: 0.4532 - lr: 0.0010\n",
      "Epoch 6/50\n",
      "740/740 [==============================] - ETA: 0s - loss: 0.8261 - accuracy: 0.6944 - precision: 0.7889 - precision_angry: 0.7353 - precision_disgust: 0.7850 - precision_fear: 0.7009 - precision_happy: 0.9067 - precision_neutral: 0.7236 - precision_sad: 0.6750 - precision_surprise: 0.8268 - recall: 0.5945 - recall_angry: 0.4930 - recall_disgust: 0.4772 - recall_fear: 0.3345 - recall_happy: 0.8735 - recall_neutral: 0.5635 - recall_sad: 0.4380 - recall_surprise: 0.7310\n",
      "Epoch 6: val_loss did not improve from 1.47900\n",
      "740/740 [==============================] - 835s 1s/step - loss: 0.8261 - accuracy: 0.6944 - precision: 0.7889 - precision_angry: 0.7353 - precision_disgust: 0.7850 - precision_fear: 0.7009 - precision_happy: 0.9067 - precision_neutral: 0.7236 - precision_sad: 0.6750 - precision_surprise: 0.8268 - recall: 0.5945 - recall_angry: 0.4930 - recall_disgust: 0.4772 - recall_fear: 0.3345 - recall_happy: 0.8735 - recall_neutral: 0.5635 - recall_sad: 0.4380 - recall_surprise: 0.7310 - val_loss: 2.7586 - val_accuracy: 0.2821 - val_precision: 0.2930 - val_precision_angry: 0.5787 - val_precision_disgust: 0.3333 - val_precision_fear: 0.2847 - val_precision_happy: 0.8307 - val_precision_neutral: 0.6157 - val_precision_sad: 0.5000 - val_precision_surprise: 0.1769 - val_recall: 0.2420 - val_recall_angry: 0.1665 - val_recall_disgust: 0.0079 - val_recall_fear: 0.0951 - val_recall_happy: 0.2875 - val_recall_neutral: 0.1481 - val_recall_sad: 0.0021 - val_recall_surprise: 0.9621 - lr: 0.0010\n",
      "Epoch 7/50\n",
      "740/740 [==============================] - ETA: 0s - loss: 0.7813 - accuracy: 0.7103 - precision: 0.7903 - precision_angry: 0.7446 - precision_disgust: 0.7554 - precision_fear: 0.7047 - precision_happy: 0.9076 - precision_neutral: 0.7343 - precision_sad: 0.6783 - precision_surprise: 0.8290 - recall: 0.6202 - recall_angry: 0.5243 - recall_disgust: 0.4832 - recall_fear: 0.3849 - recall_happy: 0.8824 - recall_neutral: 0.5986 - recall_sad: 0.4681 - recall_surprise: 0.7394\n",
      "Epoch 7: val_loss did not improve from 1.47900\n",
      "740/740 [==============================] - 855s 1s/step - loss: 0.7813 - accuracy: 0.7103 - precision: 0.7903 - precision_angry: 0.7446 - precision_disgust: 0.7554 - precision_fear: 0.7047 - precision_happy: 0.9076 - precision_neutral: 0.7343 - precision_sad: 0.6783 - precision_surprise: 0.8290 - recall: 0.6202 - recall_angry: 0.5243 - recall_disgust: 0.4832 - recall_fear: 0.3849 - recall_happy: 0.8824 - recall_neutral: 0.5986 - recall_sad: 0.4681 - recall_surprise: 0.7394 - val_loss: 1.9836 - val_accuracy: 0.4557 - val_precision: 0.4967 - val_precision_angry: 0.5429 - val_precision_disgust: 0.6333 - val_precision_fear: 0.4272 - val_precision_happy: 0.8850 - val_precision_neutral: 0.3944 - val_precision_sad: 0.6429 - val_precision_surprise: 0.4004 - val_recall: 0.4207 - val_recall_angry: 0.2774 - val_recall_disgust: 0.1520 - val_recall_fear: 0.1617 - val_recall_happy: 0.5150 - val_recall_neutral: 0.7426 - val_recall_sad: 0.0093 - val_recall_surprise: 0.8773 - lr: 0.0010\n",
      "Epoch 8/50\n",
      "740/740 [==============================] - ETA: 0s - loss: 0.7266 - accuracy: 0.7322 - precision: 0.8039 - precision_angry: 0.7744 - precision_disgust: 0.7944 - precision_fear: 0.7189 - precision_happy: 0.9147 - precision_neutral: 0.7487 - precision_sad: 0.6994 - precision_surprise: 0.8434 - recall: 0.6552 - recall_angry: 0.5733 - recall_disgust: 0.5663 - recall_fear: 0.4180 - recall_happy: 0.8976 - recall_neutral: 0.6409 - recall_sad: 0.5155 - recall_surprise: 0.7655\n",
      "Epoch 8: val_loss did not improve from 1.47900\n",
      "740/740 [==============================] - 833s 1s/step - loss: 0.7266 - accuracy: 0.7322 - precision: 0.8039 - precision_angry: 0.7744 - precision_disgust: 0.7944 - precision_fear: 0.7189 - precision_happy: 0.9147 - precision_neutral: 0.7487 - precision_sad: 0.6994 - precision_surprise: 0.8434 - recall: 0.6552 - recall_angry: 0.5733 - recall_disgust: 0.5663 - recall_fear: 0.4180 - recall_happy: 0.8976 - recall_neutral: 0.6409 - recall_sad: 0.5155 - recall_surprise: 0.7655 - val_loss: 1.4994 - val_accuracy: 0.5194 - val_precision: 0.5752 - val_precision_angry: 0.7117 - val_precision_disgust: 1.0000 - val_precision_fear: 0.3388 - val_precision_happy: 0.8862 - val_precision_neutral: 0.5442 - val_precision_sad: 0.5162 - val_precision_surprise: 0.5552 - val_recall: 0.4579 - val_recall_angry: 0.0962 - val_recall_disgust: 0.0081 - val_recall_fear: 0.4429 - val_recall_happy: 0.6235 - val_recall_neutral: 0.6018 - val_recall_sad: 0.1969 - val_recall_surprise: 0.8076 - lr: 0.0010\n",
      "Epoch 9/50\n",
      "740/740 [==============================] - ETA: 0s - loss: 0.6642 - accuracy: 0.7573 - precision: 0.8194 - precision_angry: 0.7933 - precision_disgust: 0.8380 - precision_fear: 0.7461 - precision_happy: 0.9220 - precision_neutral: 0.7720 - precision_sad: 0.7225 - precision_surprise: 0.8579 - recall: 0.6930 - recall_angry: 0.6173 - recall_disgust: 0.6554 - recall_fear: 0.4817 - recall_happy: 0.9055 - recall_neutral: 0.6814 - recall_sad: 0.5713 - recall_surprise: 0.7877\n",
      "Epoch 9: val_loss did not improve from 1.47900\n",
      "740/740 [==============================] - 843s 1s/step - loss: 0.6642 - accuracy: 0.7573 - precision: 0.8194 - precision_angry: 0.7933 - precision_disgust: 0.8380 - precision_fear: 0.7461 - precision_happy: 0.9220 - precision_neutral: 0.7720 - precision_sad: 0.7225 - precision_surprise: 0.8579 - recall: 0.6930 - recall_angry: 0.6173 - recall_disgust: 0.6554 - recall_fear: 0.4817 - recall_happy: 0.9055 - recall_neutral: 0.6814 - recall_sad: 0.5713 - recall_surprise: 0.7877 - val_loss: 1.6534 - val_accuracy: 0.4968 - val_precision: 0.5353 - val_precision_angry: 0.6476 - val_precision_disgust: 0.6667 - val_precision_fear: 0.2814 - val_precision_happy: 0.7910 - val_precision_neutral: 0.5286 - val_precision_sad: 0.4853 - val_precision_surprise: 0.7945 - val_recall: 0.4499 - val_recall_angry: 0.1784 - val_recall_disgust: 0.0317 - val_recall_fear: 0.5854 - val_recall_happy: 0.7051 - val_recall_neutral: 0.5035 - val_recall_sad: 0.1541 - val_recall_surprise: 0.4818 - lr: 0.0010\n",
      "Epoch 10/50\n",
      "740/740 [==============================] - ETA: 0s - loss: 0.6072 - accuracy: 0.7777 - precision: 0.8316 - precision_angry: 0.8034 - precision_disgust: 0.8367 - precision_fear: 0.7637 - precision_happy: 0.9284 - precision_neutral: 0.7831 - precision_sad: 0.7560 - precision_surprise: 0.8681 - recall: 0.7227 - recall_angry: 0.6630 - recall_disgust: 0.6508 - recall_fear: 0.5340 - recall_happy: 0.9140 - recall_neutral: 0.7145 - recall_sad: 0.6066 - recall_surprise: 0.8089\n",
      "Epoch 10: val_loss did not improve from 1.47900\n",
      "\n",
      "Epoch 10: ReduceLROnPlateau reducing learning rate to 0.00010000000474974513.\n",
      "740/740 [==============================] - 837s 1s/step - loss: 0.6072 - accuracy: 0.7777 - precision: 0.8316 - precision_angry: 0.8034 - precision_disgust: 0.8367 - precision_fear: 0.7637 - precision_happy: 0.9284 - precision_neutral: 0.7831 - precision_sad: 0.7560 - precision_surprise: 0.8681 - recall: 0.7227 - recall_angry: 0.6630 - recall_disgust: 0.6508 - recall_fear: 0.5340 - recall_happy: 0.9140 - recall_neutral: 0.7145 - recall_sad: 0.6066 - recall_surprise: 0.8089 - val_loss: 1.6777 - val_accuracy: 0.4930 - val_precision: 0.5350 - val_precision_angry: 0.5853 - val_precision_disgust: 0.6154 - val_precision_fear: 0.3238 - val_precision_happy: 0.8884 - val_precision_neutral: 0.4690 - val_precision_sad: 0.6331 - val_precision_surprise: 0.5434 - val_recall: 0.4460 - val_recall_angry: 0.3094 - val_recall_disgust: 0.1935 - val_recall_fear: 0.5125 - val_recall_happy: 0.5332 - val_recall_neutral: 0.5381 - val_recall_sad: 0.0907 - val_recall_surprise: 0.7659 - lr: 0.0010\n",
      "Epoch 11/50\n",
      "740/740 [==============================] - ETA: 0s - loss: 0.3544 - accuracy: 0.8763 - precision: 0.9046 - precision_angry: 0.9014 - precision_disgust: 0.9227 - precision_fear: 0.8574 - precision_happy: 0.9610 - precision_neutral: 0.8916 - precision_sad: 0.8485 - precision_surprise: 0.9255 - recall: 0.8489 - recall_angry: 0.8270 - recall_disgust: 0.8040 - recall_fear: 0.7133 - recall_happy: 0.9629 - recall_neutral: 0.8466 - recall_sad: 0.7885 - recall_surprise: 0.8962\n",
      "Epoch 11: val_loss improved from 1.47900 to 1.24976, saving model to .\\model_mobilenet_v2_transfer.h5\n",
      "740/740 [==============================] - 852s 1s/step - loss: 0.3544 - accuracy: 0.8763 - precision: 0.9046 - precision_angry: 0.9014 - precision_disgust: 0.9227 - precision_fear: 0.8574 - precision_happy: 0.9610 - precision_neutral: 0.8916 - precision_sad: 0.8485 - precision_surprise: 0.9255 - recall: 0.8489 - recall_angry: 0.8270 - recall_disgust: 0.8040 - recall_fear: 0.7133 - recall_happy: 0.9629 - recall_neutral: 0.8466 - recall_sad: 0.7885 - recall_surprise: 0.8962 - val_loss: 1.2498 - val_accuracy: 0.6537 - val_precision: 0.6823 - val_precision_angry: 0.5437 - val_precision_disgust: 0.9286 - val_precision_fear: 0.5784 - val_precision_happy: 0.8882 - val_precision_neutral: 0.6171 - val_precision_sad: 0.5523 - val_precision_surprise: 0.7915 - val_recall: 0.6242 - val_recall_angry: 0.6081 - val_recall_disgust: 0.3095 - val_recall_fear: 0.4382 - val_recall_happy: 0.8246 - val_recall_neutral: 0.6385 - val_recall_sad: 0.4312 - val_recall_surprise: 0.7568 - lr: 1.0000e-04\n",
      "Epoch 12/50\n",
      "740/740 [==============================] - ETA: 0s - loss: 0.2380 - accuracy: 0.9182 - precision: 0.9323 - precision_angry: 0.9347 - precision_disgust: 0.9474 - precision_fear: 0.8934 - precision_happy: 0.9760 - precision_neutral: 0.9277 - precision_sad: 0.8873 - precision_surprise: 0.9458 - recall: 0.9054 - recall_angry: 0.8910 - recall_disgust: 0.9286 - recall_fear: 0.8115 - recall_happy: 0.9758 - recall_neutral: 0.9119 - recall_sad: 0.8591 - recall_surprise: 0.9401\n",
      "Epoch 12: val_loss did not improve from 1.24976\n",
      "740/740 [==============================] - 844s 1s/step - loss: 0.2380 - accuracy: 0.9182 - precision: 0.9323 - precision_angry: 0.9347 - precision_disgust: 0.9474 - precision_fear: 0.8934 - precision_happy: 0.9760 - precision_neutral: 0.9277 - precision_sad: 0.8873 - precision_surprise: 0.9458 - recall: 0.9054 - recall_angry: 0.8910 - recall_disgust: 0.9286 - recall_fear: 0.8115 - recall_happy: 0.9758 - recall_neutral: 0.9119 - recall_sad: 0.8591 - recall_surprise: 0.9401 - val_loss: 1.2531 - val_accuracy: 0.6588 - val_precision: 0.6859 - val_precision_angry: 0.5378 - val_precision_disgust: 0.8226 - val_precision_fear: 0.6321 - val_precision_happy: 0.8525 - val_precision_neutral: 0.6484 - val_precision_sad: 0.5413 - val_precision_surprise: 0.8073 - val_recall: 0.6349 - val_recall_angry: 0.6329 - val_recall_disgust: 0.4048 - val_recall_fear: 0.3859 - val_recall_happy: 0.8770 - val_recall_neutral: 0.5504 - val_recall_sad: 0.5139 - val_recall_surprise: 0.7670 - lr: 1.0000e-04\n",
      "Epoch 13/50\n",
      "740/740 [==============================] - ETA: 0s - loss: 0.1708 - accuracy: 0.9425 - precision: 0.9517 - precision_angry: 0.9533 - precision_disgust: 0.9575 - precision_fear: 0.9205 - precision_happy: 0.9824 - precision_neutral: 0.9524 - precision_sad: 0.9166 - precision_surprise: 0.9679 - recall: 0.9338 - recall_angry: 0.9238 - recall_disgust: 0.9385 - recall_fear: 0.8615 - recall_happy: 0.9840 - recall_neutral: 0.9406 - recall_sad: 0.9055 - recall_surprise: 0.9573\n",
      "Epoch 13: val_loss did not improve from 1.24976\n",
      "740/740 [==============================] - 847s 1s/step - loss: 0.1708 - accuracy: 0.9425 - precision: 0.9517 - precision_angry: 0.9533 - precision_disgust: 0.9575 - precision_fear: 0.9205 - precision_happy: 0.9824 - precision_neutral: 0.9524 - precision_sad: 0.9166 - precision_surprise: 0.9679 - recall: 0.9338 - recall_angry: 0.9238 - recall_disgust: 0.9385 - recall_fear: 0.8615 - recall_happy: 0.9840 - recall_neutral: 0.9406 - recall_sad: 0.9055 - recall_surprise: 0.9573 - val_loss: 1.3794 - val_accuracy: 0.6561 - val_precision: 0.6810 - val_precision_angry: 0.5548 - val_precision_disgust: 0.8525 - val_precision_fear: 0.5836 - val_precision_happy: 0.8618 - val_precision_neutral: 0.6430 - val_precision_sad: 0.5275 - val_precision_surprise: 0.8118 - val_recall: 0.6393 - val_recall_angry: 0.6071 - val_recall_disgust: 0.4127 - val_recall_fear: 0.4415 - val_recall_happy: 0.8618 - val_recall_neutral: 0.5486 - val_recall_sad: 0.5340 - val_recall_surprise: 0.7712 - lr: 1.0000e-04\n",
      "Epoch 14/50\n",
      "740/740 [==============================] - ETA: 0s - loss: 0.1293 - accuracy: 0.9572 - precision: 0.9642 - precision_angry: 0.9677 - precision_disgust: 0.9641 - precision_fear: 0.9389 - precision_happy: 0.9859 - precision_neutral: 0.9695 - precision_sad: 0.9404 - precision_surprise: 0.9695 - recall: 0.9529 - recall_angry: 0.9477 - recall_disgust: 0.9584 - recall_fear: 0.9022 - recall_happy: 0.9884 - recall_neutral: 0.9609 - recall_sad: 0.9351 - recall_surprise: 0.9582\n",
      "Epoch 14: val_loss did not improve from 1.24976\n",
      "740/740 [==============================] - 840s 1s/step - loss: 0.1293 - accuracy: 0.9572 - precision: 0.9642 - precision_angry: 0.9677 - precision_disgust: 0.9641 - precision_fear: 0.9389 - precision_happy: 0.9859 - precision_neutral: 0.9695 - precision_sad: 0.9404 - precision_surprise: 0.9695 - recall: 0.9529 - recall_angry: 0.9477 - recall_disgust: 0.9584 - recall_fear: 0.9022 - recall_happy: 0.9884 - recall_neutral: 0.9609 - recall_sad: 0.9351 - recall_surprise: 0.9582 - val_loss: 1.5600 - val_accuracy: 0.6593 - val_precision: 0.6758 - val_precision_angry: 0.5733 - val_precision_disgust: 0.7722 - val_precision_fear: 0.5868 - val_precision_happy: 0.8438 - val_precision_neutral: 0.6393 - val_precision_sad: 0.5108 - val_precision_surprise: 0.8271 - val_recall: 0.6478 - val_recall_angry: 0.5726 - val_recall_disgust: 0.4841 - val_recall_fear: 0.4236 - val_recall_happy: 0.8806 - val_recall_neutral: 0.5784 - val_recall_sad: 0.5827 - val_recall_surprise: 0.7416 - lr: 1.0000e-04\n",
      "Epoch 15/50\n",
      "740/740 [==============================] - ETA: 0s - loss: 0.0895 - accuracy: 0.9699 - precision: 0.9737 - precision_angry: 0.9737 - precision_disgust: 0.9641 - precision_fear: 0.9614 - precision_happy: 0.9895 - precision_neutral: 0.9768 - precision_sad: 0.9575 - precision_surprise: 0.9745 - recall: 0.9671 - recall_angry: 0.9651 - recall_disgust: 0.9564 - recall_fear: 0.9315 - recall_happy: 0.9920 - recall_neutral: 0.9746 - recall_sad: 0.9553 - recall_surprise: 0.9672\n",
      "Epoch 15: val_loss did not improve from 1.24976\n",
      "740/740 [==============================] - 852s 1s/step - loss: 0.0895 - accuracy: 0.9699 - precision: 0.9737 - precision_angry: 0.9737 - precision_disgust: 0.9641 - precision_fear: 0.9614 - precision_happy: 0.9895 - precision_neutral: 0.9768 - precision_sad: 0.9575 - precision_surprise: 0.9745 - recall: 0.9671 - recall_angry: 0.9651 - recall_disgust: 0.9564 - recall_fear: 0.9315 - recall_happy: 0.9920 - recall_neutral: 0.9746 - recall_sad: 0.9553 - recall_surprise: 0.9672 - val_loss: 1.7017 - val_accuracy: 0.6491 - val_precision: 0.6631 - val_precision_angry: 0.5742 - val_precision_disgust: 0.8056 - val_precision_fear: 0.5251 - val_precision_happy: 0.8467 - val_precision_neutral: 0.6341 - val_precision_sad: 0.5038 - val_precision_surprise: 0.7737 - val_recall: 0.6399 - val_recall_angry: 0.5336 - val_recall_disgust: 0.4603 - val_recall_fear: 0.4618 - val_recall_happy: 0.8756 - val_recall_neutral: 0.5455 - val_recall_sad: 0.5474 - val_recall_surprise: 0.7900 - lr: 1.0000e-04\n",
      "Epoch 16/50\n",
      "740/740 [==============================] - ETA: 0s - loss: 0.0722 - accuracy: 0.9762 - precision: 0.9784 - precision_angry: 0.9813 - precision_disgust: 0.9676 - precision_fear: 0.9638 - precision_happy: 0.9910 - precision_neutral: 0.9828 - precision_sad: 0.9687 - precision_surprise: 0.9750 - recall: 0.9742 - recall_angry: 0.9736 - recall_disgust: 0.9503 - recall_fear: 0.9487 - recall_happy: 0.9906 - recall_neutral: 0.9830 - recall_sad: 0.9687 - recall_surprise: 0.9702\n",
      "Epoch 16: val_loss did not improve from 1.24976\n",
      "\n",
      "Epoch 16: ReduceLROnPlateau reducing learning rate to 1.0000000474974514e-05.\n",
      "740/740 [==============================] - 850s 1s/step - loss: 0.0722 - accuracy: 0.9762 - precision: 0.9784 - precision_angry: 0.9813 - precision_disgust: 0.9676 - precision_fear: 0.9638 - precision_happy: 0.9910 - precision_neutral: 0.9828 - precision_sad: 0.9687 - precision_surprise: 0.9750 - recall: 0.9742 - recall_angry: 0.9736 - recall_disgust: 0.9503 - recall_fear: 0.9487 - recall_happy: 0.9906 - recall_neutral: 0.9830 - recall_sad: 0.9687 - recall_surprise: 0.9702 - val_loss: 1.8363 - val_accuracy: 0.6515 - val_precision: 0.6637 - val_precision_angry: 0.6020 - val_precision_disgust: 0.7234 - val_precision_fear: 0.4994 - val_precision_happy: 0.8285 - val_precision_neutral: 0.6344 - val_precision_sad: 0.5180 - val_precision_surprise: 0.7857 - val_recall: 0.6423 - val_recall_angry: 0.5159 - val_recall_disgust: 0.5397 - val_recall_fear: 0.5006 - val_recall_happy: 0.8911 - val_recall_neutral: 0.5642 - val_recall_sad: 0.5047 - val_recall_surprise: 0.7655 - lr: 1.0000e-04\n",
      "Epoch 17/50\n",
      "740/740 [==============================] - ETA: 0s - loss: 0.0441 - accuracy: 0.9870 - precision: 0.9884 - precision_angry: 0.9887 - precision_disgust: 0.9782 - precision_fear: 0.9832 - precision_happy: 0.9934 - precision_neutral: 0.9916 - precision_sad: 0.9838 - precision_surprise: 0.9874 - recall: 0.9855 - recall_angry: 0.9866 - recall_disgust: 0.9782 - recall_fear: 0.9718 - recall_happy: 0.9957 - recall_neutral: 0.9877 - recall_sad: 0.9843 - recall_surprise: 0.9785\n",
      "Epoch 17: val_loss did not improve from 1.24976\n",
      "740/740 [==============================] - 848s 1s/step - loss: 0.0441 - accuracy: 0.9870 - precision: 0.9884 - precision_angry: 0.9887 - precision_disgust: 0.9782 - precision_fear: 0.9832 - precision_happy: 0.9934 - precision_neutral: 0.9916 - precision_sad: 0.9838 - precision_surprise: 0.9874 - recall: 0.9855 - recall_angry: 0.9866 - recall_disgust: 0.9782 - recall_fear: 0.9718 - recall_happy: 0.9957 - recall_neutral: 0.9877 - recall_sad: 0.9843 - recall_surprise: 0.9785 - val_loss: 1.9254 - val_accuracy: 0.6559 - val_precision: 0.6648 - val_precision_angry: 0.5908 - val_precision_disgust: 0.7471 - val_precision_fear: 0.5148 - val_precision_happy: 0.8540 - val_precision_neutral: 0.6191 - val_precision_sad: 0.5125 - val_precision_surprise: 0.7840 - val_recall: 0.6488 - val_recall_angry: 0.5502 - val_recall_disgust: 0.5159 - val_recall_fear: 0.4964 - val_recall_happy: 0.8685 - val_recall_neutral: 0.5958 - val_recall_sad: 0.5083 - val_recall_surprise: 0.7888 - lr: 1.0000e-05\n",
      "Epoch 18/50\n",
      "740/740 [==============================] - ETA: 0s - loss: 0.0384 - accuracy: 0.9876 - precision: 0.9888 - precision_angry: 0.9900 - precision_disgust: 0.9801 - precision_fear: 0.9803 - precision_happy: 0.9946 - precision_neutral: 0.9928 - precision_sad: 0.9856 - precision_surprise: 0.9856 - recall: 0.9865 - recall_angry: 0.9884 - recall_disgust: 0.9743 - recall_fear: 0.9739 - recall_happy: 0.9954 - recall_neutral: 0.9897 - recall_sad: 0.9843 - recall_surprise: 0.9808\n",
      "Epoch 18: val_loss did not improve from 1.24976\n",
      "740/740 [==============================] - 857s 1s/step - loss: 0.0384 - accuracy: 0.9876 - precision: 0.9888 - precision_angry: 0.9900 - precision_disgust: 0.9801 - precision_fear: 0.9803 - precision_happy: 0.9946 - precision_neutral: 0.9928 - precision_sad: 0.9856 - precision_surprise: 0.9856 - recall: 0.9865 - recall_angry: 0.9884 - recall_disgust: 0.9743 - recall_fear: 0.9739 - recall_happy: 0.9954 - recall_neutral: 0.9897 - recall_sad: 0.9843 - recall_surprise: 0.9808 - val_loss: 2.0009 - val_accuracy: 0.6593 - val_precision: 0.6659 - val_precision_angry: 0.5909 - val_precision_disgust: 0.7558 - val_precision_fear: 0.5307 - val_precision_happy: 0.8558 - val_precision_neutral: 0.6132 - val_precision_sad: 0.5125 - val_precision_surprise: 0.7857 - val_recall: 0.6512 - val_recall_angry: 0.5542 - val_recall_disgust: 0.5200 - val_recall_fear: 0.4839 - val_recall_happy: 0.8622 - val_recall_neutral: 0.6083 - val_recall_sad: 0.5306 - val_recall_surprise: 0.7821 - lr: 1.0000e-05\n",
      "Epoch 19/50\n",
      "740/740 [==============================] - ETA: 0s - loss: 0.0359 - accuracy: 0.9883 - precision: 0.9889 - precision_angry: 0.9903 - precision_disgust: 0.9780 - precision_fear: 0.9829 - precision_happy: 0.9944 - precision_neutral: 0.9919 - precision_sad: 0.9851 - precision_surprise: 0.9852 - recall: 0.9874 - recall_angry: 0.9882 - recall_disgust: 0.9683 - recall_fear: 0.9742 - recall_happy: 0.9954 - recall_neutral: 0.9924 - recall_sad: 0.9866 - recall_surprise: 0.9830\n",
      "Epoch 19: val_loss did not improve from 1.24976\n",
      "740/740 [==============================] - 842s 1s/step - loss: 0.0359 - accuracy: 0.9883 - precision: 0.9889 - precision_angry: 0.9903 - precision_disgust: 0.9780 - precision_fear: 0.9829 - precision_happy: 0.9944 - precision_neutral: 0.9919 - precision_sad: 0.9851 - precision_surprise: 0.9852 - recall: 0.9874 - recall_angry: 0.9882 - recall_disgust: 0.9683 - recall_fear: 0.9742 - recall_happy: 0.9954 - recall_neutral: 0.9924 - recall_sad: 0.9866 - recall_surprise: 0.9830 - val_loss: 2.0644 - val_accuracy: 0.6576 - val_precision: 0.6634 - val_precision_angry: 0.5876 - val_precision_disgust: 0.7529 - val_precision_fear: 0.5290 - val_precision_happy: 0.8603 - val_precision_neutral: 0.6079 - val_precision_sad: 0.5075 - val_precision_surprise: 0.7828 - val_recall: 0.6489 - val_recall_angry: 0.5660 - val_recall_disgust: 0.5079 - val_recall_fear: 0.4899 - val_recall_happy: 0.8544 - val_recall_neutral: 0.5988 - val_recall_sad: 0.5217 - val_recall_surprise: 0.7864 - lr: 1.0000e-05\n",
      "Epoch 20/50\n",
      "740/740 [==============================] - ETA: 0s - loss: 0.0329 - accuracy: 0.9895 - precision: 0.9904 - precision_angry: 0.9906 - precision_disgust: 0.9840 - precision_fear: 0.9868 - precision_happy: 0.9954 - precision_neutral: 0.9936 - precision_sad: 0.9862 - precision_surprise: 0.9860 - recall: 0.9886 - recall_angry: 0.9885 - recall_disgust: 0.9743 - recall_fear: 0.9742 - recall_happy: 0.9968 - recall_neutral: 0.9931 - recall_sad: 0.9895 - recall_surprise: 0.9834\n",
      "Epoch 20: val_loss did not improve from 1.24976\n",
      "740/740 [==============================] - 846s 1s/step - loss: 0.0329 - accuracy: 0.9895 - precision: 0.9904 - precision_angry: 0.9906 - precision_disgust: 0.9840 - precision_fear: 0.9868 - precision_happy: 0.9954 - precision_neutral: 0.9936 - precision_sad: 0.9862 - precision_surprise: 0.9860 - recall: 0.9886 - recall_angry: 0.9885 - recall_disgust: 0.9743 - recall_fear: 0.9742 - recall_happy: 0.9968 - recall_neutral: 0.9931 - recall_sad: 0.9895 - recall_surprise: 0.9834 - val_loss: 2.1252 - val_accuracy: 0.6549 - val_precision: 0.6620 - val_precision_angry: 0.5907 - val_precision_disgust: 0.7558 - val_precision_fear: 0.5264 - val_precision_happy: 0.8595 - val_precision_neutral: 0.6078 - val_precision_sad: 0.5054 - val_precision_surprise: 0.7829 - val_recall: 0.6478 - val_recall_angry: 0.5604 - val_recall_disgust: 0.5159 - val_recall_fear: 0.4863 - val_recall_happy: 0.8513 - val_recall_neutral: 0.6030 - val_recall_sad: 0.5295 - val_recall_surprise: 0.7769 - lr: 1.0000e-05\n",
      "Epoch 21/50\n",
      "740/740 [==============================] - ETA: 0s - loss: 0.0283 - accuracy: 0.9912 - precision: 0.9919 - precision_angry: 0.9942 - precision_disgust: 0.9684 - precision_fear: 0.9857 - precision_happy: 0.9958 - precision_neutral: 0.9951 - precision_sad: 0.9915 - precision_surprise: 0.9886 - recall: 0.9907 - recall_angry: 0.9918 - recall_disgust: 0.9703 - recall_fear: 0.9801 - recall_happy: 0.9976 - recall_neutral: 0.9956 - recall_sad: 0.9902 - recall_surprise: 0.9842Restoring model weights from the end of the best epoch: 11.\n",
      "\n",
      "Epoch 21: val_loss did not improve from 1.24976\n",
      "\n",
      "Epoch 21: ReduceLROnPlateau reducing learning rate to 1e-05.\n",
      "740/740 [==============================] - 849s 1s/step - loss: 0.0283 - accuracy: 0.9912 - precision: 0.9919 - precision_angry: 0.9942 - precision_disgust: 0.9684 - precision_fear: 0.9857 - precision_happy: 0.9958 - precision_neutral: 0.9951 - precision_sad: 0.9915 - precision_surprise: 0.9886 - recall: 0.9907 - recall_angry: 0.9918 - recall_disgust: 0.9703 - recall_fear: 0.9801 - recall_happy: 0.9976 - recall_neutral: 0.9956 - recall_sad: 0.9902 - recall_surprise: 0.9842 - val_loss: 2.1717 - val_accuracy: 0.6547 - val_precision: 0.6615 - val_precision_angry: 0.5873 - val_precision_disgust: 0.7529 - val_precision_fear: 0.5369 - val_precision_happy: 0.8598 - val_precision_neutral: 0.6078 - val_precision_sad: 0.5000 - val_precision_surprise: 0.7849 - val_recall: 0.6500 - val_recall_angry: 0.5636 - val_recall_disgust: 0.5079 - val_recall_fear: 0.4863 - val_recall_happy: 0.8516 - val_recall_neutral: 0.6000 - val_recall_sad: 0.5439 - val_recall_surprise: 0.7754 - lr: 1.0000e-05\n",
      "Epoch 21: early stopping\n"
     ]
    }
   ],
   "source": [
    "history = model.fit(\n",
    "    train_generator,\n",
    "    steps_per_epoch=train_generator.n//train_generator.batch_size,\n",
    "    epochs=epochs,\n",
    "    validation_data=validation_generator,\n",
    "    validation_steps=validation_generator.n//validation_generator.batch_size,\n",
    "    callbacks=callbacks_list,\n",
    ")"
   ],
   "metadata": {
    "collapsed": false,
    "pycharm": {
     "name": "#%%\n"
    }
   }
  },
  {
   "cell_type": "markdown",
   "source": [
    "### 7. Evaluation - Test set"
   ],
   "metadata": {
    "collapsed": false,
    "pycharm": {
     "name": "#%% md\n"
    }
   }
  },
  {
   "cell_type": "code",
   "execution_count": 3,
   "outputs": [],
   "source": [
    "from keras.models import load_model\n",
    "\n",
    "model = load_model(\"model_mobilenet_v2_transfer.h5\")"
   ],
   "metadata": {
    "collapsed": false,
    "pycharm": {
     "name": "#%%\n"
    }
   }
  },
  {
   "cell_type": "code",
   "execution_count": 4,
   "outputs": [
    {
     "name": "stdout",
     "output_type": "stream",
     "text": [
      "Found 7178 images belonging to 7 classes.\n"
     ]
    }
   ],
   "source": [
    "test_data_generator = ImageDataGenerator(preprocessing_function=preprocess_input)\n",
    "\n",
    "test_generator = test_data_generator.flow_from_directory(\n",
    "    DATASET_BASE_TEST_PATH,\n",
    "    target_size=(224, 224),\n",
    "    batch_size=32,\n",
    "    class_mode='categorical',\n",
    "    shuffle=False\n",
    ")"
   ],
   "metadata": {
    "collapsed": false,
    "pycharm": {
     "name": "#%%\n"
    }
   }
  },
  {
   "cell_type": "code",
   "execution_count": 5,
   "outputs": [
    {
     "name": "stdout",
     "output_type": "stream",
     "text": [
      "225/225 [==============================] - 87s 372ms/step - loss: 1.2747 - accuracy: 0.6505 - precision: 0.6776 - precision_angry: 0.5513 - precision_disgust: 0.8421 - precision_fear: 0.5467 - precision_happy: 0.8764 - precision_neutral: 0.6214 - precision_sad: 0.5671 - precision_surprise: 0.7833 - recall: 0.6257 - recall_angry: 0.6336 - recall_disgust: 0.2883 - recall_fear: 0.4287 - recall_happy: 0.8196 - recall_neutral: 0.6204 - recall_sad: 0.4475 - recall_surprise: 0.7653\n"
     ]
    },
    {
     "data": {
      "text/plain": "[1.2746613025665283,\n 0.6504597663879395,\n 0.677579939365387,\n 0.5513169765472412,\n 0.8421052694320679,\n 0.5466998815536499,\n 0.8764315843582153,\n 0.6214459538459778,\n 0.5670731663703918,\n 0.7832512259483337,\n 0.6256617307662964,\n 0.6336116790771484,\n 0.28828829526901245,\n 0.4287109375,\n 0.8196166753768921,\n 0.6204379796981812,\n 0.44747394323349,\n 0.7653429508209229]"
     },
     "execution_count": 5,
     "metadata": {},
     "output_type": "execute_result"
    }
   ],
   "source": [
    "model.evaluate(test_generator)"
   ],
   "metadata": {
    "collapsed": false,
    "pycharm": {
     "name": "#%%\n"
    }
   }
  }
 ],
 "metadata": {
  "kernelspec": {
   "display_name": "Python 3",
   "language": "python",
   "name": "python3"
  },
  "language_info": {
   "codemirror_mode": {
    "name": "ipython",
    "version": 2
   },
   "file_extension": ".py",
   "mimetype": "text/x-python",
   "name": "python",
   "nbconvert_exporter": "python",
   "pygments_lexer": "ipython2",
   "version": "2.7.6"
  }
 },
 "nbformat": 4,
 "nbformat_minor": 0
}