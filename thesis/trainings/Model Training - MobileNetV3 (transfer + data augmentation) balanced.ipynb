{
 "cells": [
  {
   "cell_type": "markdown",
   "source": [
    "# Model Training - MobileNetV3 (transfer + data augmentation) balanced"
   ],
   "metadata": {
    "collapsed": false,
    "pycharm": {
     "name": "#%% md\n"
    }
   }
  },
  {
   "cell_type": "markdown",
   "source": [
    "### 0. Imports"
   ],
   "metadata": {
    "collapsed": false,
    "pycharm": {
     "name": "#%% md\n"
    }
   }
  },
  {
   "cell_type": "code",
   "execution_count": 25,
   "outputs": [],
   "source": [
    "import numpy as np\n",
    "\n",
    "from keras.applications import MobileNetV3Large\n",
    "from keras.applications.mobilenet_v3 import preprocess_input\n",
    "from keras.callbacks import (\n",
    "    ModelCheckpoint,\n",
    "    EarlyStopping,\n",
    "    ReduceLROnPlateau\n",
    ")\n",
    "from keras.models import Sequential\n",
    "from keras.layers import Dense, GlobalAveragePooling2D\n",
    "from keras.metrics import Precision, Recall\n",
    "from keras.optimizers import Adam\n",
    "from keras.preprocessing.image import ImageDataGenerator\n",
    "from keras.utils.vis_utils import plot_model\n",
    "from sklearn.utils.class_weight import compute_class_weight"
   ],
   "metadata": {
    "collapsed": false,
    "ExecuteTime": {
     "start_time": "2023-06-08T14:04:36.621338Z",
     "end_time": "2023-06-08T14:04:39.977428Z"
    },
    "pycharm": {
     "name": "#%%\n"
    }
   }
  },
  {
   "cell_type": "markdown",
   "source": [
    "### 1. Paths"
   ],
   "metadata": {
    "collapsed": false,
    "pycharm": {
     "name": "#%% md\n"
    }
   }
  },
  {
   "cell_type": "code",
   "execution_count": 26,
   "outputs": [],
   "source": [
    "# DATASET_BASE_TRAIN_PATH = \"/Users/adamdabkowski/DataspellProjects/Praca_dyplomowa/data/train_resized\"\n",
    "# DATASET_BASE_TRAIN_PATH = \"/Users/adamd/DataspellProjects/Facial Expressions Recognition/data/train_resized\"\n",
    "# DATASET_BASE_TRAIN_PATH = \"/Users/adamd/DataspellProjects/Facial Expressions Recognition/data/train_merged\"\n",
    "DATASET_BASE_TRAIN_PATH = \"/Users/adamd/DataspellProjects/Facial Expressions Recognition/data/train_merged_cleaned\"\n",
    "\n",
    "# DATASET_BASE_TRAIN_PATH = \"../new_data\"\n",
    "\n",
    "# DATASET_BASE_TEST_PATH = \"/Users/adamdabkowski/DataspellProjects/Praca_dyplomowa/data/test_resized\"\n",
    "DATASET_BASE_TEST_PATH = \"/Users/adamd/DataspellProjects/Facial Expressions Recognition/data/test_resized\""
   ],
   "metadata": {
    "collapsed": false,
    "ExecuteTime": {
     "start_time": "2023-06-08T14:06:08.298593Z",
     "end_time": "2023-06-08T14:06:08.305288Z"
    },
    "pycharm": {
     "name": "#%%\n"
    }
   }
  },
  {
   "cell_type": "markdown",
   "source": [
    "### 2. Data preprocessing"
   ],
   "metadata": {
    "collapsed": false,
    "pycharm": {
     "name": "#%% md\n"
    }
   }
  },
  {
   "cell_type": "code",
   "execution_count": 10,
   "outputs": [
    {
     "name": "stdout",
     "output_type": "stream",
     "text": [
      "Found 23689 images belonging to 7 classes.\n",
      "Found 5919 images belonging to 7 classes.\n"
     ]
    }
   ],
   "source": [
    "batch_size  = 32\n",
    "img_size = 224\n",
    "\n",
    "train_validation_data_generator = ImageDataGenerator(\n",
    "    preprocessing_function=preprocess_input,\n",
    "    validation_split=0.2,\n",
    "    rotation_range=40,\n",
    "    width_shift_range=0.2,\n",
    "    height_shift_range=0.2,\n",
    "    shear_range=0.2,\n",
    "    zoom_range=0.2,\n",
    "    horizontal_flip=True,\n",
    "    fill_mode='nearest'\n",
    ")\n",
    "\n",
    "train_generator = train_validation_data_generator.flow_from_directory(\n",
    "    DATASET_BASE_TRAIN_PATH,\n",
    "    target_size=(img_size,img_size),\n",
    "    batch_size=batch_size,\n",
    "    class_mode='categorical',\n",
    "    color_mode='rgb',\n",
    "    subset='training',\n",
    "    shuffle=True,\n",
    ")\n",
    "\n",
    "validation_generator = train_validation_data_generator.flow_from_directory(\n",
    "    DATASET_BASE_TRAIN_PATH,\n",
    "    target_size=(img_size,img_size),\n",
    "    batch_size=batch_size,\n",
    "    class_mode='categorical',\n",
    "    color_mode='rgb',\n",
    "    subset='validation',\n",
    "    shuffle=True,\n",
    ")\n",
    "\n",
    "class_weights = compute_class_weight(\n",
    "    class_weight='balanced',\n",
    "    classes=np.unique(train_generator.classes),\n",
    "    y=train_generator.classes\n",
    ")\n",
    "class_weights_dict = dict(enumerate(class_weights))"
   ],
   "metadata": {
    "collapsed": false,
    "ExecuteTime": {
     "start_time": "2023-06-08T14:06:12.829138Z",
     "end_time": "2023-06-08T14:06:13.009438Z"
    },
    "pycharm": {
     "name": "#%%\n"
    }
   }
  },
  {
   "cell_type": "code",
   "execution_count": 11,
   "outputs": [
    {
     "data": {
      "text/plain": "{0: 1.0264309545474242,\n 1: 6.701272984441301,\n 2: 1.0027089947089947,\n 3: 0.5746549256483031,\n 4: 0.8318935243714005,\n 5: 0.8679514893928846,\n 6: 1.2741501721170396}"
     },
     "execution_count": 11,
     "metadata": {},
     "output_type": "execute_result"
    }
   ],
   "source": [
    "class_weights_dict"
   ],
   "metadata": {
    "collapsed": false,
    "pycharm": {
     "name": "#%%\n"
    }
   }
  },
  {
   "cell_type": "markdown",
   "source": [
    "### 5. Model creating"
   ],
   "metadata": {
    "collapsed": false,
    "pycharm": {
     "name": "#%% md\n"
    }
   }
  },
  {
   "cell_type": "code",
   "execution_count": 12,
   "outputs": [],
   "source": [
    "CATEGORIES = [\"angry\", \"disgust\", \"fear\", \"happy\", \"neutral\", \"sad\", \"surprise\"]"
   ],
   "metadata": {
    "collapsed": false,
    "ExecuteTime": {
     "start_time": "2023-06-08T14:06:21.358802Z",
     "end_time": "2023-06-08T14:06:21.367405Z"
    },
    "pycharm": {
     "name": "#%%\n"
    }
   }
  },
  {
   "cell_type": "code",
   "execution_count": 13,
   "outputs": [],
   "source": [
    "checkpoint = ModelCheckpoint(\n",
    "    filepath=\"./model_mobilenet_v3_transfer_data_augmentation_balanced.h5\",\n",
    "    monitor='val_loss',\n",
    "    verbose=1,\n",
    "    save_best_only=True,\n",
    "    mode='min'\n",
    ")\n",
    "\n",
    "early_stopping = EarlyStopping(\n",
    "    monitor='val_loss',\n",
    "    patience=10,\n",
    "    verbose=1,\n",
    "    restore_best_weights=True,\n",
    ")\n",
    "\n",
    "reduce_learning_rate = ReduceLROnPlateau(\n",
    "    monitor='val_loss',\n",
    "    factor=0.1,\n",
    "    patience=5,\n",
    "    verbose=1,\n",
    "    min_lr=0.00001,\n",
    ")\n",
    "\n",
    "callbacks_list = [early_stopping, checkpoint, reduce_learning_rate]"
   ],
   "metadata": {
    "collapsed": false,
    "ExecuteTime": {
     "start_time": "2023-06-08T14:06:22.501933Z",
     "end_time": "2023-06-08T14:06:22.506101Z"
    },
    "pycharm": {
     "name": "#%%\n"
    }
   }
  },
  {
   "cell_type": "code",
   "execution_count": 14,
   "outputs": [],
   "source": [
    "model = Sequential()\n",
    "\n",
    "base_model = MobileNetV3Large(input_shape=(img_size, img_size, 3), include_top=False, weights='imagenet')\n",
    "model.add(base_model)\n",
    "\n",
    "model.add(GlobalAveragePooling2D())\n",
    "model.add(Dense(512, activation='relu'))\n",
    "model.add(Dense(7, activation='softmax'))"
   ],
   "metadata": {
    "collapsed": false,
    "ExecuteTime": {
     "start_time": "2023-06-08T14:06:33.844245Z",
     "end_time": "2023-06-08T14:06:34.087495Z"
    },
    "pycharm": {
     "name": "#%%\n"
    }
   }
  },
  {
   "cell_type": "code",
   "execution_count": 15,
   "outputs": [
    {
     "name": "stdout",
     "output_type": "stream",
     "text": [
      "Model: \"sequential_1\"\n",
      "_________________________________________________________________\n",
      " Layer (type)                Output Shape              Param #   \n",
      "=================================================================\n",
      " MobilenetV3large (Functiona  (None, 7, 7, 960)        2996352   \n",
      " l)                                                              \n",
      "                                                                 \n",
      " global_average_pooling2d_1   (None, 960)              0         \n",
      " (GlobalAveragePooling2D)                                        \n",
      "                                                                 \n",
      " dense_2 (Dense)             (None, 512)               492032    \n",
      "                                                                 \n",
      " dense_3 (Dense)             (None, 7)                 3591      \n",
      "                                                                 \n",
      "=================================================================\n",
      "Total params: 3,491,975\n",
      "Trainable params: 3,467,575\n",
      "Non-trainable params: 24,400\n",
      "_________________________________________________________________\n"
     ]
    }
   ],
   "source": [
    "model.compile(\n",
    "    optimizer=Adam(learning_rate=0.001),\n",
    "    loss='categorical_crossentropy',\n",
    "    metrics=[\n",
    "        \"accuracy\",\n",
    "        \"categorical_accuracy\",\n",
    "        Precision(name='precision'),\n",
    "        Precision(class_id=0, name='precision_angry'),\n",
    "        Precision(class_id=1, name='precision_disgust'),\n",
    "        Precision(class_id=2, name='precision_fear'),\n",
    "        Precision(class_id=3, name='precision_happy'),\n",
    "        Precision(class_id=4, name='precision_neutral'),\n",
    "        Precision(class_id=5, name='precision_sad'),\n",
    "        Precision(class_id=6, name='precision_surprise'),\n",
    "        Recall(name='recall'),\n",
    "        Recall(class_id=0, name='recall_angry'),\n",
    "        Recall(class_id=1, name='recall_disgust'),\n",
    "        Recall(class_id=2, name='recall_fear'),\n",
    "        Recall(class_id=3, name='recall_happy'),\n",
    "        Recall(class_id=4, name='recall_neutral'),\n",
    "        Recall(class_id=5, name='recall_sad'),\n",
    "        Recall(class_id=6, name='recall_surprise'),\n",
    "    ]\n",
    ")\n",
    "model.summary()"
   ],
   "metadata": {
    "collapsed": false,
    "ExecuteTime": {
     "start_time": "2023-06-08T14:08:05.068394Z",
     "end_time": "2023-06-08T14:08:05.102749Z"
    },
    "pycharm": {
     "name": "#%%\n"
    }
   }
  },
  {
   "cell_type": "code",
   "execution_count": 16,
   "outputs": [
    {
     "data": {
      "image/png": "[encoded data removed]",
      "text/plain": "<IPython.core.display.Image object>"
     },
     "execution_count": 16,
     "metadata": {},
     "output_type": "execute_result"
    }
   ],
   "source": [
    "plot_model(model, to_file='model_mobilenet_v3_transfer_data_augmentation_balanced.png', show_shapes=True, show_layer_names=True)"
   ],
   "metadata": {
    "collapsed": false,
    "pycharm": {
     "name": "#%%\n"
    }
   }
  },
  {
   "cell_type": "markdown",
   "source": [
    "### 6. Model training"
   ],
   "metadata": {
    "collapsed": false,
    "pycharm": {
     "name": "#%% md\n"
    }
   }
  },
  {
   "cell_type": "code",
   "execution_count": 17,
   "outputs": [],
   "source": [
    "epochs = 50"
   ],
   "metadata": {
    "collapsed": false,
    "ExecuteTime": {
     "start_time": "2023-06-08T14:08:06.121000Z",
     "end_time": "2023-06-08T14:08:06.134021Z"
    },
    "pycharm": {
     "name": "#%%\n"
    }
   }
  },
  {
   "cell_type": "code",
   "execution_count": 18,
   "outputs": [
    {
     "name": "stdout",
     "output_type": "stream",
     "text": [
      "Epoch 1/50\n",
      "740/740 [==============================] - ETA: 0s - loss: 1.4987 - accuracy: 0.4320 - categorical_accuracy: 0.4320 - precision: 0.6819 - precision_angry: 0.5208 - precision_disgust: 0.2478 - precision_fear: 0.4762 - precision_happy: 0.8580 - precision_neutral: 0.5858 - precision_sad: 0.5188 - precision_surprise: 0.6565 - recall: 0.2092 - recall_angry: 0.0380 - recall_disgust: 0.3327 - recall_fear: 0.0089 - recall_happy: 0.4417 - recall_neutral: 0.1386 - recall_sad: 0.0354 - recall_surprise: 0.5008\n",
      "Epoch 1: val_loss improved from inf to 2.61754, saving model to .\\model_mobilenet_v3_transfer_data_augmentation_balanced_2.h5\n",
      "740/740 [==============================] - 1101s 1s/step - loss: 1.4987 - accuracy: 0.4320 - categorical_accuracy: 0.4320 - precision: 0.6819 - precision_angry: 0.5208 - precision_disgust: 0.2478 - precision_fear: 0.4762 - precision_happy: 0.8580 - precision_neutral: 0.5858 - precision_sad: 0.5188 - precision_surprise: 0.6565 - recall: 0.2092 - recall_angry: 0.0380 - recall_disgust: 0.3327 - recall_fear: 0.0089 - recall_happy: 0.4417 - recall_neutral: 0.1386 - recall_sad: 0.0354 - recall_surprise: 0.5008 - val_loss: 2.6175 - val_accuracy: 0.2649 - val_categorical_accuracy: 0.2649 - val_precision: 0.2773 - val_precision_angry: 0.1958 - val_precision_disgust: 0.0000e+00 - val_precision_fear: 0.0000e+00 - val_precision_happy: 0.9079 - val_precision_neutral: 0.3488 - val_precision_sad: 0.5000 - val_precision_surprise: 0.6000 - val_recall: 0.1948 - val_recall_angry: 0.7426 - val_recall_disgust: 0.0000e+00 - val_recall_fear: 0.0000e+00 - val_recall_happy: 0.1413 - val_recall_neutral: 0.2091 - val_recall_sad: 0.0031 - val_recall_surprise: 0.1813 - lr: 0.0010\n",
      "Epoch 2/50\n",
      "740/740 [==============================] - ETA: 0s - loss: 1.2626 - accuracy: 0.5249 - categorical_accuracy: 0.5249 - precision: 0.7136 - precision_angry: 0.6432 - precision_disgust: 0.2933 - precision_fear: 0.5751 - precision_happy: 0.8868 - precision_neutral: 0.6401 - precision_sad: 0.5614 - precision_surprise: 0.6854 - recall: 0.3167 - recall_angry: 0.1357 - recall_disgust: 0.4832 - recall_fear: 0.0466 - recall_happy: 0.6239 - recall_neutral: 0.2485 - recall_sad: 0.0927 - recall_surprise: 0.6056\n",
      "Epoch 2: val_loss did not improve from 2.61754\n",
      "740/740 [==============================] - 1057s 1s/step - loss: 1.2626 - accuracy: 0.5249 - categorical_accuracy: 0.5249 - precision: 0.7136 - precision_angry: 0.6432 - precision_disgust: 0.2933 - precision_fear: 0.5751 - precision_happy: 0.8868 - precision_neutral: 0.6401 - precision_sad: 0.5614 - precision_surprise: 0.6854 - recall: 0.3167 - recall_angry: 0.1357 - recall_disgust: 0.4832 - recall_fear: 0.0466 - recall_happy: 0.6239 - recall_neutral: 0.2485 - recall_sad: 0.0927 - recall_surprise: 0.6056 - val_loss: 5.5493 - val_accuracy: 0.2779 - val_categorical_accuracy: 0.2779 - val_precision: 0.3094 - val_precision_angry: 0.5440 - val_precision_disgust: 0.2294 - val_precision_fear: 0.2500 - val_precision_happy: 0.5220 - val_precision_neutral: 1.0000 - val_precision_sad: 0.0000e+00 - val_precision_surprise: 0.1322 - val_recall: 0.2551 - val_recall_angry: 0.0829 - val_recall_disgust: 0.2000 - val_recall_fear: 0.0036 - val_recall_happy: 0.7276 - val_recall_neutral: 9.8912e-04 - val_recall_sad: 0.0000e+00 - val_recall_surprise: 0.5152 - lr: 0.0010\n",
      "Epoch 3/50\n",
      "740/740 [==============================] - ETA: 0s - loss: 1.1873 - accuracy: 0.5530 - categorical_accuracy: 0.5530 - precision: 0.7203 - precision_angry: 0.6556 - precision_disgust: 0.3090 - precision_fear: 0.5936 - precision_happy: 0.8966 - precision_neutral: 0.6580 - precision_sad: 0.6050 - precision_surprise: 0.7045 - recall: 0.3662 - recall_angry: 0.1983 - recall_disgust: 0.5536 - recall_fear: 0.0827 - recall_happy: 0.6649 - recall_neutral: 0.3132 - recall_sad: 0.1562 - recall_surprise: 0.6267\n",
      "Epoch 3: val_loss did not improve from 2.61754\n",
      "740/740 [==============================] - 1031s 1s/step - loss: 1.1873 - accuracy: 0.5530 - categorical_accuracy: 0.5530 - precision: 0.7203 - precision_angry: 0.6556 - precision_disgust: 0.3090 - precision_fear: 0.5936 - precision_happy: 0.8966 - precision_neutral: 0.6580 - precision_sad: 0.6050 - precision_surprise: 0.7045 - recall: 0.3662 - recall_angry: 0.1983 - recall_disgust: 0.5536 - recall_fear: 0.0827 - recall_happy: 0.6649 - recall_neutral: 0.3132 - recall_sad: 0.1562 - recall_surprise: 0.6267 - val_loss: 7.6018 - val_accuracy: 0.3650 - val_categorical_accuracy: 0.3650 - val_precision: 0.3912 - val_precision_angry: 0.3323 - val_precision_disgust: 0.3333 - val_precision_fear: 0.0000e+00 - val_precision_happy: 0.4031 - val_precision_neutral: 0.4647 - val_precision_sad: 0.0000e+00 - val_precision_surprise: 0.2830 - val_recall: 0.3376 - val_recall_angry: 0.2726 - val_recall_disgust: 0.0397 - val_recall_fear: 0.0000e+00 - val_recall_happy: 0.7993 - val_recall_neutral: 0.4229 - val_recall_sad: 0.0000e+00 - val_recall_surprise: 0.2436 - lr: 0.0010\n",
      "Epoch 4/50\n",
      "740/740 [==============================] - ETA: 0s - loss: 1.1314 - accuracy: 0.5682 - categorical_accuracy: 0.5682 - precision: 0.7244 - precision_angry: 0.6473 - precision_disgust: 0.3219 - precision_fear: 0.6529 - precision_happy: 0.9005 - precision_neutral: 0.6627 - precision_sad: 0.6131 - precision_surprise: 0.7145 - recall: 0.3934 - recall_angry: 0.2298 - recall_disgust: 0.6119 - recall_fear: 0.1221 - recall_happy: 0.6895 - recall_neutral: 0.3325 - recall_sad: 0.1726 - recall_surprise: 0.6601\n",
      "Epoch 4: val_loss did not improve from 2.61754\n",
      "740/740 [==============================] - 1069s 1s/step - loss: 1.1314 - accuracy: 0.5682 - categorical_accuracy: 0.5682 - precision: 0.7244 - precision_angry: 0.6473 - precision_disgust: 0.3219 - precision_fear: 0.6529 - precision_happy: 0.9005 - precision_neutral: 0.6627 - precision_sad: 0.6131 - precision_surprise: 0.7145 - recall: 0.3934 - recall_angry: 0.2298 - recall_disgust: 0.6119 - recall_fear: 0.1221 - recall_happy: 0.6895 - recall_neutral: 0.3325 - recall_sad: 0.1726 - recall_surprise: 0.6601 - val_loss: 4.0188 - val_accuracy: 0.3731 - val_categorical_accuracy: 0.3731 - val_precision: 0.4348 - val_precision_angry: 0.6731 - val_precision_disgust: 0.4000 - val_precision_fear: 0.2087 - val_precision_happy: 0.5306 - val_precision_neutral: 0.2821 - val_precision_sad: 0.3787 - val_precision_surprise: 0.3534 - val_recall: 0.2911 - val_recall_angry: 0.0427 - val_recall_disgust: 0.0160 - val_recall_fear: 0.0573 - val_recall_happy: 0.6938 - val_recall_neutral: 0.0436 - val_recall_sad: 0.1462 - val_recall_surprise: 0.6475 - lr: 0.0010\n",
      "Epoch 5/50\n",
      "740/740 [==============================] - ETA: 0s - loss: 1.0825 - accuracy: 0.5887 - categorical_accuracy: 0.5887 - precision: 0.7369 - precision_angry: 0.6722 - precision_disgust: 0.3631 - precision_fear: 0.6373 - precision_happy: 0.9034 - precision_neutral: 0.6851 - precision_sad: 0.6122 - precision_surprise: 0.7349 - recall: 0.4225 - recall_angry: 0.2698 - recall_disgust: 0.6693 - recall_fear: 0.1309 - recall_happy: 0.7198 - recall_neutral: 0.3625 - recall_sad: 0.2042 - recall_surprise: 0.6873\n",
      "Epoch 5: val_loss did not improve from 2.61754\n",
      "740/740 [==============================] - 1073s 1s/step - loss: 1.0825 - accuracy: 0.5887 - categorical_accuracy: 0.5887 - precision: 0.7369 - precision_angry: 0.6722 - precision_disgust: 0.3631 - precision_fear: 0.6373 - precision_happy: 0.9034 - precision_neutral: 0.6851 - precision_sad: 0.6122 - precision_surprise: 0.7349 - recall: 0.4225 - recall_angry: 0.2698 - recall_disgust: 0.6693 - recall_fear: 0.1309 - recall_happy: 0.7198 - recall_neutral: 0.3625 - recall_sad: 0.2042 - recall_surprise: 0.6873 - val_loss: 3.4022 - val_accuracy: 0.4288 - val_categorical_accuracy: 0.4288 - val_precision: 0.4806 - val_precision_angry: 0.6711 - val_precision_disgust: 0.7500 - val_precision_fear: 0.3036 - val_precision_happy: 0.5301 - val_precision_neutral: 0.3545 - val_precision_sad: 0.4615 - val_precision_surprise: 0.5754 - val_recall: 0.3655 - val_recall_angry: 0.0623 - val_recall_disgust: 0.0242 - val_recall_fear: 0.0404 - val_recall_happy: 0.7594 - val_recall_neutral: 0.4675 - val_recall_sad: 0.0496 - val_recall_surprise: 0.6550 - lr: 0.0010\n",
      "Epoch 6/50\n",
      "740/740 [==============================] - ETA: 0s - loss: 1.0462 - accuracy: 0.6024 - categorical_accuracy: 0.6024 - precision: 0.7400 - precision_angry: 0.6857 - precision_disgust: 0.3849 - precision_fear: 0.6404 - precision_happy: 0.9104 - precision_neutral: 0.6976 - precision_sad: 0.6253 - precision_surprise: 0.7205 - recall: 0.4427 - recall_angry: 0.2959 - recall_disgust: 0.7248 - recall_fear: 0.1664 - recall_happy: 0.7307 - recall_neutral: 0.3961 - recall_sad: 0.2160 - recall_surprise: 0.6884\n",
      "Epoch 6: val_loss improved from 2.61754 to 1.66770, saving model to .\\model_mobilenet_v3_transfer_data_augmentation_balanced_2.h5\n",
      "740/740 [==============================] - 1056s 1s/step - loss: 1.0462 - accuracy: 0.6024 - categorical_accuracy: 0.6024 - precision: 0.7400 - precision_angry: 0.6857 - precision_disgust: 0.3849 - precision_fear: 0.6404 - precision_happy: 0.9104 - precision_neutral: 0.6976 - precision_sad: 0.6253 - precision_surprise: 0.7205 - recall: 0.4427 - recall_angry: 0.2959 - recall_disgust: 0.7248 - recall_fear: 0.1664 - recall_happy: 0.7307 - recall_neutral: 0.3961 - recall_sad: 0.2160 - recall_surprise: 0.6884 - val_loss: 1.6677 - val_accuracy: 0.4382 - val_categorical_accuracy: 0.4382 - val_precision: 0.5133 - val_precision_angry: 0.4046 - val_precision_disgust: 0.1613 - val_precision_fear: 0.8293 - val_precision_happy: 0.9501 - val_precision_neutral: 0.4442 - val_precision_sad: 0.5326 - val_precision_surprise: 0.7392 - val_recall: 0.3091 - val_recall_angry: 0.4056 - val_recall_disgust: 0.6349 - val_recall_fear: 0.0404 - val_recall_happy: 0.3119 - val_recall_neutral: 0.4856 - val_recall_sad: 0.0508 - val_recall_surprise: 0.5695 - lr: 0.0010\n",
      "Epoch 7/50\n",
      "740/740 [==============================] - ETA: 0s - loss: 1.0086 - accuracy: 0.6141 - categorical_accuracy: 0.6141 - precision: 0.7478 - precision_angry: 0.7141 - precision_disgust: 0.3948 - precision_fear: 0.6822 - precision_happy: 0.9122 - precision_neutral: 0.6825 - precision_sad: 0.6545 - precision_surprise: 0.7282 - recall: 0.4677 - recall_angry: 0.3370 - recall_disgust: 0.7276 - recall_fear: 0.1826 - recall_happy: 0.7490 - recall_neutral: 0.4139 - recall_sad: 0.2582 - recall_surprise: 0.7093\n",
      "Epoch 7: val_loss improved from 1.66770 to 1.58409, saving model to .\\model_mobilenet_v3_transfer_data_augmentation_balanced_2.h5\n",
      "740/740 [==============================] - 1054s 1s/step - loss: 1.0086 - accuracy: 0.6141 - categorical_accuracy: 0.6141 - precision: 0.7478 - precision_angry: 0.7141 - precision_disgust: 0.3948 - precision_fear: 0.6822 - precision_happy: 0.9122 - precision_neutral: 0.6825 - precision_sad: 0.6545 - precision_surprise: 0.7282 - recall: 0.4677 - recall_angry: 0.3370 - recall_disgust: 0.7276 - recall_fear: 0.1826 - recall_happy: 0.7490 - recall_neutral: 0.4139 - recall_sad: 0.2582 - recall_surprise: 0.7093 - val_loss: 1.5841 - val_accuracy: 0.5183 - val_categorical_accuracy: 0.5183 - val_precision: 0.6512 - val_precision_angry: 0.4846 - val_precision_disgust: 0.5814 - val_precision_fear: 0.6786 - val_precision_happy: 0.8503 - val_precision_neutral: 0.6464 - val_precision_sad: 0.5156 - val_precision_surprise: 0.6076 - val_recall: 0.3624 - val_recall_angry: 0.3451 - val_recall_disgust: 0.2000 - val_recall_fear: 0.0680 - val_recall_happy: 0.5828 - val_recall_neutral: 0.2326 - val_recall_sad: 0.2724 - val_recall_surprise: 0.6295 - lr: 0.0010\n",
      "Epoch 8/50\n",
      "740/740 [==============================] - ETA: 0s - loss: 0.9840 - accuracy: 0.6210 - categorical_accuracy: 0.6210 - precision: 0.7472 - precision_angry: 0.7029 - precision_disgust: 0.4211 - precision_fear: 0.6746 - precision_happy: 0.9112 - precision_neutral: 0.6806 - precision_sad: 0.6508 - precision_surprise: 0.7380 - recall: 0.4774 - recall_angry: 0.3437 - recall_disgust: 0.7619 - recall_fear: 0.2097 - recall_happy: 0.7499 - recall_neutral: 0.4140 - recall_sad: 0.2813 - recall_surprise: 0.7101\n",
      "Epoch 8: val_loss improved from 1.58409 to 1.53297, saving model to .\\model_mobilenet_v3_transfer_data_augmentation_balanced_2.h5\n",
      "740/740 [==============================] - 1037s 1s/step - loss: 0.9840 - accuracy: 0.6210 - categorical_accuracy: 0.6210 - precision: 0.7472 - precision_angry: 0.7029 - precision_disgust: 0.4211 - precision_fear: 0.6746 - precision_happy: 0.9112 - precision_neutral: 0.6806 - precision_sad: 0.6508 - precision_surprise: 0.7380 - recall: 0.4774 - recall_angry: 0.3437 - recall_disgust: 0.7619 - recall_fear: 0.2097 - recall_happy: 0.7499 - recall_neutral: 0.4140 - recall_sad: 0.2813 - recall_surprise: 0.7101 - val_loss: 1.5330 - val_accuracy: 0.4533 - val_categorical_accuracy: 0.4533 - val_precision: 0.5473 - val_precision_angry: 0.8081 - val_precision_disgust: 0.1086 - val_precision_fear: 0.5000 - val_precision_happy: 0.9294 - val_precision_neutral: 0.6238 - val_precision_sad: 0.8400 - val_precision_surprise: 0.5406 - val_recall: 0.3312 - val_recall_angry: 0.0974 - val_recall_disgust: 0.7222 - val_recall_fear: 0.1190 - val_recall_happy: 0.5048 - val_recall_neutral: 0.3834 - val_recall_sad: 0.0217 - val_recall_surprise: 0.8039 - lr: 0.0010\n",
      "Epoch 9/50\n",
      "740/740 [==============================] - ETA: 0s - loss: 0.9620 - accuracy: 0.6292 - categorical_accuracy: 0.6292 - precision: 0.7510 - precision_angry: 0.7075 - precision_disgust: 0.4131 - precision_fear: 0.6791 - precision_happy: 0.9090 - precision_neutral: 0.7035 - precision_sad: 0.6590 - precision_surprise: 0.7471 - recall: 0.4917 - recall_angry: 0.3643 - recall_disgust: 0.7723 - recall_fear: 0.2385 - recall_happy: 0.7492 - recall_neutral: 0.4386 - recall_sad: 0.2882 - recall_surprise: 0.7276\n",
      "Epoch 9: val_loss did not improve from 1.53297\n",
      "740/740 [==============================] - 1052s 1s/step - loss: 0.9620 - accuracy: 0.6292 - categorical_accuracy: 0.6292 - precision: 0.7510 - precision_angry: 0.7075 - precision_disgust: 0.4131 - precision_fear: 0.6791 - precision_happy: 0.9090 - precision_neutral: 0.7035 - precision_sad: 0.6590 - precision_surprise: 0.7471 - recall: 0.4917 - recall_angry: 0.3643 - recall_disgust: 0.7723 - recall_fear: 0.2385 - recall_happy: 0.7492 - recall_neutral: 0.4386 - recall_sad: 0.2882 - recall_surprise: 0.7276 - val_loss: 1.7663 - val_accuracy: 0.4321 - val_categorical_accuracy: 0.4321 - val_precision: 0.5595 - val_precision_angry: 0.6265 - val_precision_disgust: 0.1643 - val_precision_fear: 0.3208 - val_precision_happy: 0.7474 - val_precision_neutral: 0.7722 - val_precision_sad: 0.7059 - val_precision_surprise: 0.6055 - val_recall: 0.2977 - val_recall_angry: 0.1898 - val_recall_disgust: 0.5476 - val_recall_fear: 0.2131 - val_recall_happy: 0.5955 - val_recall_neutral: 0.1212 - val_recall_sad: 0.0247 - val_recall_surprise: 0.5030 - lr: 0.0010\n",
      "Epoch 10/50\n",
      "740/740 [==============================] - ETA: 0s - loss: 0.9240 - accuracy: 0.6397 - categorical_accuracy: 0.6397 - precision: 0.7581 - precision_angry: 0.7194 - precision_disgust: 0.4609 - precision_fear: 0.6831 - precision_happy: 0.9121 - precision_neutral: 0.6998 - precision_sad: 0.6547 - precision_surprise: 0.7582 - recall: 0.5088 - recall_angry: 0.3818 - recall_disgust: 0.8178 - recall_fear: 0.2546 - recall_happy: 0.7720 - recall_neutral: 0.4508 - recall_sad: 0.3034 - recall_surprise: 0.7371\n",
      "Epoch 10: val_loss improved from 1.53297 to 1.36933, saving model to .\\model_mobilenet_v3_transfer_data_augmentation_balanced_2.h5\n",
      "740/740 [==============================] - 1068s 1s/step - loss: 0.9240 - accuracy: 0.6397 - categorical_accuracy: 0.6397 - precision: 0.7581 - precision_angry: 0.7194 - precision_disgust: 0.4609 - precision_fear: 0.6831 - precision_happy: 0.9121 - precision_neutral: 0.6998 - precision_sad: 0.6547 - precision_surprise: 0.7582 - recall: 0.5088 - recall_angry: 0.3818 - recall_disgust: 0.8178 - recall_fear: 0.2546 - recall_happy: 0.7720 - recall_neutral: 0.4508 - recall_sad: 0.3034 - recall_surprise: 0.7371 - val_loss: 1.3693 - val_accuracy: 0.4976 - val_categorical_accuracy: 0.4976 - val_precision: 0.5893 - val_precision_angry: 0.6667 - val_precision_disgust: 0.4896 - val_precision_fear: 0.5870 - val_precision_happy: 0.9320 - val_precision_neutral: 0.4658 - val_precision_sad: 0.6364 - val_precision_surprise: 0.4759 - val_recall: 0.4095 - val_recall_angry: 0.2298 - val_recall_disgust: 0.3730 - val_recall_fear: 0.0967 - val_recall_happy: 0.5522 - val_recall_neutral: 0.6647 - val_recall_sad: 0.0506 - val_recall_surprise: 0.8543 - lr: 0.0010\n",
      "Epoch 11/50\n",
      "740/740 [==============================] - ETA: 0s - loss: 0.9167 - accuracy: 0.6416 - categorical_accuracy: 0.6416 - precision: 0.7589 - precision_angry: 0.7104 - precision_disgust: 0.4492 - precision_fear: 0.6948 - precision_happy: 0.9141 - precision_neutral: 0.6972 - precision_sad: 0.6713 - precision_surprise: 0.7609 - recall: 0.5118 - recall_angry: 0.3851 - recall_disgust: 0.7960 - recall_fear: 0.2613 - recall_happy: 0.7670 - recall_neutral: 0.4546 - recall_sad: 0.3197 - recall_surprise: 0.7371\n",
      "Epoch 11: val_loss improved from 1.36933 to 1.29731, saving model to .\\model_mobilenet_v3_transfer_data_augmentation_balanced_2.h5\n",
      "740/740 [==============================] - 1047s 1s/step - loss: 0.9167 - accuracy: 0.6416 - categorical_accuracy: 0.6416 - precision: 0.7589 - precision_angry: 0.7104 - precision_disgust: 0.4492 - precision_fear: 0.6948 - precision_happy: 0.9141 - precision_neutral: 0.6972 - precision_sad: 0.6713 - precision_surprise: 0.7609 - recall: 0.5118 - recall_angry: 0.3851 - recall_disgust: 0.7960 - recall_fear: 0.2613 - recall_happy: 0.7670 - recall_neutral: 0.4546 - recall_sad: 0.3197 - recall_surprise: 0.7371 - val_loss: 1.2973 - val_accuracy: 0.5280 - val_categorical_accuracy: 0.5280 - val_precision: 0.6651 - val_precision_angry: 0.6442 - val_precision_disgust: 0.3534 - val_precision_fear: 0.4974 - val_precision_happy: 0.8977 - val_precision_neutral: 0.7022 - val_precision_sad: 0.6562 - val_precision_surprise: 0.5090 - val_recall: 0.3701 - val_recall_angry: 0.2442 - val_recall_disgust: 0.3760 - val_recall_fear: 0.1130 - val_recall_happy: 0.6366 - val_recall_neutral: 0.2547 - val_recall_sad: 0.0865 - val_recall_surprise: 0.8587 - lr: 0.0010\n",
      "Epoch 12/50\n",
      "740/740 [==============================] - ETA: 0s - loss: 0.8879 - accuracy: 0.6531 - categorical_accuracy: 0.6531 - precision: 0.7667 - precision_angry: 0.7219 - precision_disgust: 0.5103 - precision_fear: 0.6843 - precision_happy: 0.9177 - precision_neutral: 0.7033 - precision_sad: 0.6724 - precision_surprise: 0.7657 - recall: 0.5308 - recall_angry: 0.4119 - recall_disgust: 0.8337 - recall_fear: 0.2761 - recall_happy: 0.7884 - recall_neutral: 0.4713 - recall_sad: 0.3296 - recall_surprise: 0.7593\n",
      "Epoch 12: val_loss improved from 1.29731 to 1.15921, saving model to .\\model_mobilenet_v3_transfer_data_augmentation_balanced_2.h5\n",
      "740/740 [==============================] - 1050s 1s/step - loss: 0.8879 - accuracy: 0.6531 - categorical_accuracy: 0.6531 - precision: 0.7667 - precision_angry: 0.7219 - precision_disgust: 0.5103 - precision_fear: 0.6843 - precision_happy: 0.9177 - precision_neutral: 0.7033 - precision_sad: 0.6724 - precision_surprise: 0.7657 - recall: 0.5308 - recall_angry: 0.4119 - recall_disgust: 0.8337 - recall_fear: 0.2761 - recall_happy: 0.7884 - recall_neutral: 0.4713 - recall_sad: 0.3296 - recall_surprise: 0.7593 - val_loss: 1.1592 - val_accuracy: 0.5740 - val_categorical_accuracy: 0.5740 - val_precision: 0.6967 - val_precision_angry: 0.6846 - val_precision_disgust: 0.3756 - val_precision_fear: 0.5489 - val_precision_happy: 0.9394 - val_precision_neutral: 0.5771 - val_precision_sad: 0.5882 - val_precision_surprise: 0.7560 - val_recall: 0.4373 - val_recall_angry: 0.3244 - val_recall_disgust: 0.5873 - val_recall_fear: 0.2279 - val_recall_happy: 0.6042 - val_recall_neutral: 0.4738 - val_recall_sad: 0.2474 - val_recall_surprise: 0.6697 - lr: 0.0010\n",
      "Epoch 13/50\n",
      "740/740 [==============================] - ETA: 0s - loss: 0.8861 - accuracy: 0.6543 - categorical_accuracy: 0.6543 - precision: 0.7637 - precision_angry: 0.7188 - precision_disgust: 0.4723 - precision_fear: 0.6901 - precision_happy: 0.9159 - precision_neutral: 0.7104 - precision_sad: 0.6807 - precision_surprise: 0.7621 - recall: 0.5321 - recall_angry: 0.4202 - recall_disgust: 0.8277 - recall_fear: 0.2739 - recall_happy: 0.7764 - recall_neutral: 0.4798 - recall_sad: 0.3489 - recall_surprise: 0.7503\n",
      "Epoch 13: val_loss did not improve from 1.15921\n",
      "740/740 [==============================] - 1061s 1s/step - loss: 0.8861 - accuracy: 0.6543 - categorical_accuracy: 0.6543 - precision: 0.7637 - precision_angry: 0.7188 - precision_disgust: 0.4723 - precision_fear: 0.6901 - precision_happy: 0.9159 - precision_neutral: 0.7104 - precision_sad: 0.6807 - precision_surprise: 0.7621 - recall: 0.5321 - recall_angry: 0.4202 - recall_disgust: 0.8277 - recall_fear: 0.2739 - recall_happy: 0.7764 - recall_neutral: 0.4798 - recall_sad: 0.3489 - recall_surprise: 0.7503 - val_loss: 1.3149 - val_accuracy: 0.5314 - val_categorical_accuracy: 0.5314 - val_precision: 0.6480 - val_precision_angry: 0.6122 - val_precision_disgust: 0.6000 - val_precision_fear: 0.3743 - val_precision_happy: 0.9553 - val_precision_neutral: 0.6683 - val_precision_sad: 0.7663 - val_precision_surprise: 0.6068 - val_recall: 0.3952 - val_recall_angry: 0.2945 - val_recall_disgust: 0.2419 - val_recall_fear: 0.3926 - val_recall_happy: 0.5535 - val_recall_neutral: 0.2685 - val_recall_sad: 0.1454 - val_recall_surprise: 0.7610 - lr: 0.0010\n",
      "Epoch 14/50\n",
      "740/740 [==============================] - ETA: 0s - loss: 0.8501 - accuracy: 0.6645 - categorical_accuracy: 0.6645 - precision: 0.7705 - precision_angry: 0.7315 - precision_disgust: 0.5047 - precision_fear: 0.7018 - precision_happy: 0.9182 - precision_neutral: 0.7123 - precision_sad: 0.6745 - precision_surprise: 0.7755 - recall: 0.5484 - recall_angry: 0.4386 - recall_disgust: 0.8594 - recall_fear: 0.2966 - recall_happy: 0.7937 - recall_neutral: 0.4913 - recall_sad: 0.3554 - recall_surprise: 0.7725\n",
      "Epoch 14: val_loss did not improve from 1.15921\n",
      "740/740 [==============================] - 1123s 2s/step - loss: 0.8501 - accuracy: 0.6645 - categorical_accuracy: 0.6645 - precision: 0.7705 - precision_angry: 0.7315 - precision_disgust: 0.5047 - precision_fear: 0.7018 - precision_happy: 0.9182 - precision_neutral: 0.7123 - precision_sad: 0.6745 - precision_surprise: 0.7755 - recall: 0.5484 - recall_angry: 0.4386 - recall_disgust: 0.8594 - recall_fear: 0.2966 - recall_happy: 0.7937 - recall_neutral: 0.4913 - recall_sad: 0.3554 - recall_surprise: 0.7725 - val_loss: 1.2168 - val_accuracy: 0.5732 - val_categorical_accuracy: 0.5732 - val_precision: 0.6811 - val_precision_angry: 0.5803 - val_precision_disgust: 0.4324 - val_precision_fear: 0.5687 - val_precision_happy: 0.9189 - val_precision_neutral: 0.6797 - val_precision_sad: 0.7000 - val_precision_surprise: 0.5476 - val_recall: 0.4378 - val_recall_angry: 0.4462 - val_recall_disgust: 0.5120 - val_recall_fear: 0.1772 - val_recall_happy: 0.6962 - val_recall_neutral: 0.3284 - val_recall_sad: 0.0939 - val_recall_surprise: 0.8429 - lr: 0.0010\n",
      "Epoch 15/50\n",
      "740/740 [==============================] - ETA: 0s - loss: 0.8379 - accuracy: 0.6684 - categorical_accuracy: 0.6684 - precision: 0.7737 - precision_angry: 0.7228 - precision_disgust: 0.5366 - precision_fear: 0.7030 - precision_happy: 0.9201 - precision_neutral: 0.7198 - precision_sad: 0.6881 - precision_surprise: 0.7718 - recall: 0.5563 - recall_angry: 0.4579 - recall_disgust: 0.8851 - recall_fear: 0.3098 - recall_happy: 0.7934 - recall_neutral: 0.5081 - recall_sad: 0.3591 - recall_surprise: 0.7669\n",
      "Epoch 15: val_loss improved from 1.15921 to 1.14248, saving model to .\\model_mobilenet_v3_transfer_data_augmentation_balanced_2.h5\n",
      "740/740 [==============================] - 1060s 1s/step - loss: 0.8379 - accuracy: 0.6684 - categorical_accuracy: 0.6684 - precision: 0.7737 - precision_angry: 0.7228 - precision_disgust: 0.5366 - precision_fear: 0.7030 - precision_happy: 0.9201 - precision_neutral: 0.7198 - precision_sad: 0.6881 - precision_surprise: 0.7718 - recall: 0.5563 - recall_angry: 0.4579 - recall_disgust: 0.8851 - recall_fear: 0.3098 - recall_happy: 0.7934 - recall_neutral: 0.5081 - recall_sad: 0.3591 - recall_surprise: 0.7669 - val_loss: 1.1425 - val_accuracy: 0.5915 - val_categorical_accuracy: 0.5915 - val_precision: 0.6772 - val_precision_angry: 0.6333 - val_precision_disgust: 0.6437 - val_precision_fear: 0.5326 - val_precision_happy: 0.8921 - val_precision_neutral: 0.5548 - val_precision_sad: 0.6833 - val_precision_surprise: 0.6147 - val_recall: 0.4966 - val_recall_angry: 0.4090 - val_recall_disgust: 0.4480 - val_recall_fear: 0.1852 - val_recall_happy: 0.7403 - val_recall_neutral: 0.6199 - val_recall_sad: 0.1269 - val_recall_surprise: 0.8218 - lr: 0.0010\n",
      "Epoch 16/50\n",
      "740/740 [==============================] - ETA: 0s - loss: 0.8194 - accuracy: 0.6780 - categorical_accuracy: 0.6780 - precision: 0.7750 - precision_angry: 0.7383 - precision_disgust: 0.5301 - precision_fear: 0.7046 - precision_happy: 0.9227 - precision_neutral: 0.7210 - precision_sad: 0.6861 - precision_surprise: 0.7705 - recall: 0.5690 - recall_angry: 0.4707 - recall_disgust: 0.8730 - recall_fear: 0.3324 - recall_happy: 0.8014 - recall_neutral: 0.5188 - recall_sad: 0.3812 - recall_surprise: 0.7708\n",
      "Epoch 16: val_loss did not improve from 1.14248\n",
      "740/740 [==============================] - 1051s 1s/step - loss: 0.8194 - accuracy: 0.6780 - categorical_accuracy: 0.6780 - precision: 0.7750 - precision_angry: 0.7383 - precision_disgust: 0.5301 - precision_fear: 0.7046 - precision_happy: 0.9227 - precision_neutral: 0.7210 - precision_sad: 0.6861 - precision_surprise: 0.7705 - recall: 0.5690 - recall_angry: 0.4707 - recall_disgust: 0.8730 - recall_fear: 0.3324 - recall_happy: 0.8014 - recall_neutral: 0.5188 - recall_sad: 0.3812 - recall_surprise: 0.7708 - val_loss: 1.3934 - val_accuracy: 0.5177 - val_categorical_accuracy: 0.5177 - val_precision: 0.6144 - val_precision_angry: 0.3877 - val_precision_disgust: 0.3212 - val_precision_fear: 0.5035 - val_precision_happy: 0.9141 - val_precision_neutral: 0.7571 - val_precision_sad: 0.5126 - val_precision_surprise: 0.7466 - val_recall: 0.4068 - val_recall_angry: 0.5697 - val_recall_disgust: 0.3548 - val_recall_fear: 0.1734 - val_recall_happy: 0.6023 - val_recall_neutral: 0.2619 - val_recall_sad: 0.2732 - val_recall_surprise: 0.4940 - lr: 0.0010\n",
      "Epoch 17/50\n",
      "740/740 [==============================] - ETA: 0s - loss: 0.8076 - accuracy: 0.6772 - categorical_accuracy: 0.6772 - precision: 0.7777 - precision_angry: 0.7524 - precision_disgust: 0.5380 - precision_fear: 0.7124 - precision_happy: 0.9171 - precision_neutral: 0.7205 - precision_sad: 0.6825 - precision_surprise: 0.7816 - recall: 0.5734 - recall_angry: 0.4850 - recall_disgust: 0.8693 - recall_fear: 0.3329 - recall_happy: 0.8060 - recall_neutral: 0.5148 - recall_sad: 0.3902 - recall_surprise: 0.7757\n",
      "Epoch 17: val_loss improved from 1.14248 to 1.13363, saving model to .\\model_mobilenet_v3_transfer_data_augmentation_balanced_2.h5\n",
      "740/740 [==============================] - 1040s 1s/step - loss: 0.8076 - accuracy: 0.6772 - categorical_accuracy: 0.6772 - precision: 0.7777 - precision_angry: 0.7524 - precision_disgust: 0.5380 - precision_fear: 0.7124 - precision_happy: 0.9171 - precision_neutral: 0.7205 - precision_sad: 0.6825 - precision_surprise: 0.7816 - recall: 0.5734 - recall_angry: 0.4850 - recall_disgust: 0.8693 - recall_fear: 0.3329 - recall_happy: 0.8060 - recall_neutral: 0.5148 - recall_sad: 0.3902 - recall_surprise: 0.7757 - val_loss: 1.1336 - val_accuracy: 0.5808 - val_categorical_accuracy: 0.5808 - val_precision: 0.7052 - val_precision_angry: 0.5835 - val_precision_disgust: 0.5439 - val_precision_fear: 0.4910 - val_precision_happy: 0.9222 - val_precision_neutral: 0.7274 - val_precision_sad: 0.5427 - val_precision_surprise: 0.7160 - val_recall: 0.4518 - val_recall_angry: 0.4059 - val_recall_disgust: 0.2460 - val_recall_fear: 0.2913 - val_recall_happy: 0.6876 - val_recall_neutral: 0.3986 - val_recall_sad: 0.2423 - val_recall_surprise: 0.6189 - lr: 0.0010\n",
      "Epoch 18/50\n",
      "740/740 [==============================] - ETA: 0s - loss: 0.7822 - accuracy: 0.6905 - categorical_accuracy: 0.6905 - precision: 0.7845 - precision_angry: 0.7457 - precision_disgust: 0.5792 - precision_fear: 0.7159 - precision_happy: 0.9209 - precision_neutral: 0.7308 - precision_sad: 0.6935 - precision_surprise: 0.7894 - recall: 0.5845 - recall_angry: 0.4930 - recall_disgust: 0.9067 - recall_fear: 0.3550 - recall_happy: 0.8110 - recall_neutral: 0.5325 - recall_sad: 0.3911 - recall_surprise: 0.7894\n",
      "Epoch 18: val_loss did not improve from 1.13363\n",
      "740/740 [==============================] - 1078s 1s/step - loss: 0.7822 - accuracy: 0.6905 - categorical_accuracy: 0.6905 - precision: 0.7845 - precision_angry: 0.7457 - precision_disgust: 0.5792 - precision_fear: 0.7159 - precision_happy: 0.9209 - precision_neutral: 0.7308 - precision_sad: 0.6935 - precision_surprise: 0.7894 - recall: 0.5845 - recall_angry: 0.4930 - recall_disgust: 0.9067 - recall_fear: 0.3550 - recall_happy: 0.8110 - recall_neutral: 0.5325 - recall_sad: 0.3911 - recall_surprise: 0.7894 - val_loss: 1.2051 - val_accuracy: 0.5606 - val_categorical_accuracy: 0.5606 - val_precision: 0.6633 - val_precision_angry: 0.6496 - val_precision_disgust: 0.4516 - val_precision_fear: 0.3953 - val_precision_happy: 0.9300 - val_precision_neutral: 0.7577 - val_precision_sad: 0.5363 - val_precision_surprise: 0.7322 - val_recall: 0.4411 - val_recall_angry: 0.4019 - val_recall_disgust: 0.4516 - val_recall_fear: 0.3845 - val_recall_happy: 0.6630 - val_recall_neutral: 0.2446 - val_recall_sad: 0.3732 - val_recall_surprise: 0.4682 - lr: 0.0010\n",
      "Epoch 19/50\n",
      "740/740 [==============================] - ETA: 0s - loss: 0.7860 - accuracy: 0.6908 - categorical_accuracy: 0.6908 - precision: 0.7807 - precision_angry: 0.7439 - precision_disgust: 0.5551 - precision_fear: 0.7103 - precision_happy: 0.9225 - precision_neutral: 0.7173 - precision_sad: 0.7041 - precision_surprise: 0.7878 - recall: 0.5870 - recall_angry: 0.4962 - recall_disgust: 0.8907 - recall_fear: 0.3704 - recall_happy: 0.8070 - recall_neutral: 0.5347 - recall_sad: 0.4013 - recall_surprise: 0.7813\n",
      "Epoch 19: val_loss did not improve from 1.13363\n",
      "740/740 [==============================] - 1022s 1s/step - loss: 0.7860 - accuracy: 0.6908 - categorical_accuracy: 0.6908 - precision: 0.7807 - precision_angry: 0.7439 - precision_disgust: 0.5551 - precision_fear: 0.7103 - precision_happy: 0.9225 - precision_neutral: 0.7173 - precision_sad: 0.7041 - precision_surprise: 0.7878 - recall: 0.5870 - recall_angry: 0.4962 - recall_disgust: 0.8907 - recall_fear: 0.3704 - recall_happy: 0.8070 - recall_neutral: 0.5347 - recall_sad: 0.4013 - recall_surprise: 0.7813 - val_loss: 1.1559 - val_accuracy: 0.5897 - val_categorical_accuracy: 0.5897 - val_precision: 0.6794 - val_precision_angry: 0.6160 - val_precision_disgust: 0.5806 - val_precision_fear: 0.4753 - val_precision_happy: 0.8289 - val_precision_neutral: 0.6207 - val_precision_sad: 0.6540 - val_precision_surprise: 0.6548 - val_recall: 0.4917 - val_recall_angry: 0.3565 - val_recall_disgust: 0.4320 - val_recall_fear: 0.2872 - val_recall_happy: 0.8079 - val_recall_neutral: 0.4852 - val_recall_sad: 0.1598 - val_recall_surprise: 0.7273 - lr: 0.0010\n",
      "Epoch 20/50\n",
      "740/740 [==============================] - ETA: 0s - loss: 0.7699 - accuracy: 0.6927 - categorical_accuracy: 0.6927 - precision: 0.7810 - precision_angry: 0.7491 - precision_disgust: 0.5782 - precision_fear: 0.7168 - precision_happy: 0.9222 - precision_neutral: 0.7239 - precision_sad: 0.6903 - precision_surprise: 0.7774 - recall: 0.5932 - recall_angry: 0.5027 - recall_disgust: 0.8966 - recall_fear: 0.3678 - recall_happy: 0.8146 - recall_neutral: 0.5424 - recall_sad: 0.4116 - recall_surprise: 0.7882\n",
      "Epoch 20: val_loss did not improve from 1.13363\n",
      "740/740 [==============================] - 1089s 1s/step - loss: 0.7699 - accuracy: 0.6927 - categorical_accuracy: 0.6927 - precision: 0.7810 - precision_angry: 0.7491 - precision_disgust: 0.5782 - precision_fear: 0.7168 - precision_happy: 0.9222 - precision_neutral: 0.7239 - precision_sad: 0.6903 - precision_surprise: 0.7774 - recall: 0.5932 - recall_angry: 0.5027 - recall_disgust: 0.8966 - recall_fear: 0.3678 - recall_happy: 0.8146 - recall_neutral: 0.5424 - recall_sad: 0.4116 - recall_surprise: 0.7882 - val_loss: 1.1791 - val_accuracy: 0.5837 - val_categorical_accuracy: 0.5837 - val_precision: 0.6796 - val_precision_angry: 0.7607 - val_precision_disgust: 0.4187 - val_precision_fear: 0.5455 - val_precision_happy: 0.8627 - val_precision_neutral: 0.5971 - val_precision_sad: 0.6088 - val_precision_surprise: 0.6180 - val_recall: 0.4949 - val_recall_angry: 0.2833 - val_recall_disgust: 0.6800 - val_recall_fear: 0.2861 - val_recall_happy: 0.7570 - val_recall_neutral: 0.4882 - val_recall_sad: 0.2430 - val_recall_surprise: 0.7858 - lr: 0.0010\n",
      "Epoch 21/50\n",
      "740/740 [==============================] - ETA: 0s - loss: 0.7361 - accuracy: 0.7036 - categorical_accuracy: 0.7036 - precision: 0.7855 - precision_angry: 0.7495 - precision_disgust: 0.6115 - precision_fear: 0.7205 - precision_happy: 0.9213 - precision_neutral: 0.7305 - precision_sad: 0.6904 - precision_surprise: 0.8010 - recall: 0.6121 - recall_angry: 0.5241 - recall_disgust: 0.9228 - recall_fear: 0.4049 - recall_happy: 0.8124 - recall_neutral: 0.5616 - recall_sad: 0.4399 - recall_surprise: 0.8113\n",
      "Epoch 21: val_loss did not improve from 1.13363\n",
      "740/740 [==============================] - 1037s 1s/step - loss: 0.7361 - accuracy: 0.7036 - categorical_accuracy: 0.7036 - precision: 0.7855 - precision_angry: 0.7495 - precision_disgust: 0.6115 - precision_fear: 0.7205 - precision_happy: 0.9213 - precision_neutral: 0.7305 - precision_sad: 0.6904 - precision_surprise: 0.8010 - recall: 0.6121 - recall_angry: 0.5241 - recall_disgust: 0.9228 - recall_fear: 0.4049 - recall_happy: 0.8124 - recall_neutral: 0.5616 - recall_sad: 0.4399 - recall_surprise: 0.8113 - val_loss: 1.1635 - val_accuracy: 0.5832 - val_categorical_accuracy: 0.5832 - val_precision: 0.6617 - val_precision_angry: 0.6042 - val_precision_disgust: 0.2743 - val_precision_fear: 0.5361 - val_precision_happy: 0.9234 - val_precision_neutral: 0.5849 - val_precision_sad: 0.5142 - val_precision_surprise: 0.7720 - val_recall: 0.4932 - val_recall_angry: 0.3500 - val_recall_disgust: 0.6320 - val_recall_fear: 0.3179 - val_recall_happy: 0.7156 - val_recall_neutral: 0.4436 - val_recall_sad: 0.3550 - val_recall_surprise: 0.6535 - lr: 0.0010\n",
      "Epoch 22/50\n",
      "740/740 [==============================] - ETA: 0s - loss: 0.7274 - accuracy: 0.7078 - categorical_accuracy: 0.7078 - precision: 0.7908 - precision_angry: 0.7541 - precision_disgust: 0.6181 - precision_fear: 0.7210 - precision_happy: 0.9268 - precision_neutral: 0.7413 - precision_sad: 0.6986 - precision_surprise: 0.7990 - recall: 0.6173 - recall_angry: 0.5428 - recall_disgust: 0.9105 - recall_fear: 0.4004 - recall_happy: 0.8175 - recall_neutral: 0.5701 - recall_sad: 0.4432 - recall_surprise: 0.8137\n",
      "Epoch 22: val_loss did not improve from 1.13363\n",
      "\n",
      "Epoch 22: ReduceLROnPlateau reducing learning rate to 0.00010000000474974513.\n",
      "740/740 [==============================] - 1052s 1s/step - loss: 0.7274 - accuracy: 0.7078 - categorical_accuracy: 0.7078 - precision: 0.7908 - precision_angry: 0.7541 - precision_disgust: 0.6181 - precision_fear: 0.7210 - precision_happy: 0.9268 - precision_neutral: 0.7413 - precision_sad: 0.6986 - precision_surprise: 0.7990 - recall: 0.6173 - recall_angry: 0.5428 - recall_disgust: 0.9105 - recall_fear: 0.4004 - recall_happy: 0.8175 - recall_neutral: 0.5701 - recall_sad: 0.4432 - recall_surprise: 0.8137 - val_loss: 1.3146 - val_accuracy: 0.5622 - val_categorical_accuracy: 0.5622 - val_precision: 0.6358 - val_precision_angry: 0.5313 - val_precision_disgust: 0.4597 - val_precision_fear: 0.4935 - val_precision_happy: 0.9501 - val_precision_neutral: 0.6773 - val_precision_sad: 0.5514 - val_precision_surprise: 0.5244 - val_recall: 0.4696 - val_recall_angry: 0.4681 - val_recall_disgust: 0.4560 - val_recall_fear: 0.1793 - val_recall_happy: 0.5984 - val_recall_neutral: 0.3782 - val_recall_sad: 0.3814 - val_recall_surprise: 0.8275 - lr: 0.0010\n",
      "Epoch 23/50\n",
      "740/740 [==============================] - ETA: 0s - loss: 0.6433 - accuracy: 0.7421 - categorical_accuracy: 0.7421 - precision: 0.8196 - precision_angry: 0.7816 - precision_disgust: 0.6736 - precision_fear: 0.7688 - precision_happy: 0.9408 - precision_neutral: 0.7641 - precision_sad: 0.7522 - precision_surprise: 0.8304 - recall: 0.6550 - recall_angry: 0.5913 - recall_disgust: 0.9663 - recall_fear: 0.4608 - recall_happy: 0.8293 - recall_neutral: 0.6088 - recall_sad: 0.4988 - recall_surprise: 0.8354\n",
      "Epoch 23: val_loss improved from 1.13363 to 0.99071, saving model to .\\model_mobilenet_v3_transfer_data_augmentation_balanced_2.h5\n",
      "740/740 [==============================] - 1049s 1s/step - loss: 0.6433 - accuracy: 0.7421 - categorical_accuracy: 0.7421 - precision: 0.8196 - precision_angry: 0.7816 - precision_disgust: 0.6736 - precision_fear: 0.7688 - precision_happy: 0.9408 - precision_neutral: 0.7641 - precision_sad: 0.7522 - precision_surprise: 0.8304 - recall: 0.6550 - recall_angry: 0.5913 - recall_disgust: 0.9663 - recall_fear: 0.4608 - recall_happy: 0.8293 - recall_neutral: 0.6088 - recall_sad: 0.4988 - recall_surprise: 0.8354 - val_loss: 0.9907 - val_accuracy: 0.6546 - val_categorical_accuracy: 0.6546 - val_precision: 0.7279 - val_precision_angry: 0.5962 - val_precision_disgust: 0.6581 - val_precision_fear: 0.6585 - val_precision_happy: 0.9263 - val_precision_neutral: 0.6975 - val_precision_sad: 0.5856 - val_precision_surprise: 0.7552 - val_recall: 0.5766 - val_recall_angry: 0.5306 - val_recall_disgust: 0.6160 - val_recall_fear: 0.3194 - val_recall_happy: 0.7804 - val_recall_neutral: 0.5069 - val_recall_sad: 0.4614 - val_recall_surprise: 0.7769 - lr: 1.0000e-04\n",
      "Epoch 24/50\n",
      "740/740 [==============================] - ETA: 0s - loss: 0.5858 - accuracy: 0.7580 - categorical_accuracy: 0.7580 - precision: 0.8265 - precision_angry: 0.7929 - precision_disgust: 0.8013 - precision_fear: 0.7774 - precision_happy: 0.9417 - precision_neutral: 0.7666 - precision_sad: 0.7453 - precision_surprise: 0.8412 - recall: 0.6885 - recall_angry: 0.6411 - recall_disgust: 0.9762 - recall_fear: 0.5088 - recall_happy: 0.8462 - recall_neutral: 0.6477 - recall_sad: 0.5381 - recall_surprise: 0.8545\n",
      "Epoch 24: val_loss improved from 0.99071 to 0.95894, saving model to .\\model_mobilenet_v3_transfer_data_augmentation_balanced_2.h5\n",
      "740/740 [==============================] - 1054s 1s/step - loss: 0.5858 - accuracy: 0.7580 - categorical_accuracy: 0.7580 - precision: 0.8265 - precision_angry: 0.7929 - precision_disgust: 0.8013 - precision_fear: 0.7774 - precision_happy: 0.9417 - precision_neutral: 0.7666 - precision_sad: 0.7453 - precision_surprise: 0.8412 - recall: 0.6885 - recall_angry: 0.6411 - recall_disgust: 0.9762 - recall_fear: 0.5088 - recall_happy: 0.8462 - recall_neutral: 0.6477 - recall_sad: 0.5381 - recall_surprise: 0.8545 - val_loss: 0.9589 - val_accuracy: 0.6610 - val_categorical_accuracy: 0.6610 - val_precision: 0.7347 - val_precision_angry: 0.6237 - val_precision_disgust: 0.5714 - val_precision_fear: 0.6036 - val_precision_happy: 0.9171 - val_precision_neutral: 0.6897 - val_precision_sad: 0.6123 - val_precision_surprise: 0.8041 - val_recall: 0.5958 - val_recall_angry: 0.5317 - val_recall_disgust: 0.6080 - val_recall_fear: 0.3616 - val_recall_happy: 0.8243 - val_recall_neutral: 0.5617 - val_recall_sad: 0.4221 - val_recall_surprise: 0.7712 - lr: 1.0000e-04\n",
      "Epoch 25/50\n",
      "740/740 [==============================] - ETA: 0s - loss: 0.5695 - accuracy: 0.7654 - categorical_accuracy: 0.7654 - precision: 0.8313 - precision_angry: 0.8129 - precision_disgust: 0.7971 - precision_fear: 0.7786 - precision_happy: 0.9382 - precision_neutral: 0.7740 - precision_sad: 0.7553 - precision_surprise: 0.8424 - recall: 0.7004 - recall_angry: 0.6514 - recall_disgust: 0.9742 - recall_fear: 0.5197 - recall_happy: 0.8565 - recall_neutral: 0.6634 - recall_sad: 0.5537 - recall_surprise: 0.8646\n",
      "Epoch 25: val_loss did not improve from 0.95894\n",
      "740/740 [==============================] - 1044s 1s/step - loss: 0.5695 - accuracy: 0.7654 - categorical_accuracy: 0.7654 - precision: 0.8313 - precision_angry: 0.8129 - precision_disgust: 0.7971 - precision_fear: 0.7786 - precision_happy: 0.9382 - precision_neutral: 0.7740 - precision_sad: 0.7553 - precision_surprise: 0.8424 - recall: 0.7004 - recall_angry: 0.6514 - recall_disgust: 0.9742 - recall_fear: 0.5197 - recall_happy: 0.8565 - recall_neutral: 0.6634 - recall_sad: 0.5537 - recall_surprise: 0.8646 - val_loss: 0.9602 - val_accuracy: 0.6642 - val_categorical_accuracy: 0.6642 - val_precision: 0.7340 - val_precision_angry: 0.6422 - val_precision_disgust: 0.6210 - val_precision_fear: 0.5861 - val_precision_happy: 0.9176 - val_precision_neutral: 0.6975 - val_precision_sad: 0.6022 - val_precision_surprise: 0.7870 - val_recall: 0.5914 - val_recall_angry: 0.4891 - val_recall_disgust: 0.6160 - val_recall_fear: 0.3735 - val_recall_happy: 0.8212 - val_recall_neutral: 0.5281 - val_recall_sad: 0.4561 - val_recall_surprise: 0.7774 - lr: 1.0000e-04\n",
      "Epoch 26/50\n",
      "740/740 [==============================] - ETA: 0s - loss: 0.5424 - accuracy: 0.7731 - categorical_accuracy: 0.7731 - precision: 0.8357 - precision_angry: 0.8114 - precision_disgust: 0.8319 - precision_fear: 0.7840 - precision_happy: 0.9402 - precision_neutral: 0.7794 - precision_sad: 0.7634 - precision_surprise: 0.8464 - recall: 0.7093 - recall_angry: 0.6635 - recall_disgust: 0.9821 - recall_fear: 0.5305 - recall_happy: 0.8605 - recall_neutral: 0.6700 - recall_sad: 0.5696 - recall_surprise: 0.8710\n",
      "Epoch 26: val_loss improved from 0.95894 to 0.94999, saving model to .\\model_mobilenet_v3_transfer_data_augmentation_balanced_2.h5\n",
      "740/740 [==============================] - 1061s 1s/step - loss: 0.5424 - accuracy: 0.7731 - categorical_accuracy: 0.7731 - precision: 0.8357 - precision_angry: 0.8114 - precision_disgust: 0.8319 - precision_fear: 0.7840 - precision_happy: 0.9402 - precision_neutral: 0.7794 - precision_sad: 0.7634 - precision_surprise: 0.8464 - recall: 0.7093 - recall_angry: 0.6635 - recall_disgust: 0.9821 - recall_fear: 0.5305 - recall_happy: 0.8605 - recall_neutral: 0.6700 - recall_sad: 0.5696 - recall_surprise: 0.8710 - val_loss: 0.9500 - val_accuracy: 0.6680 - val_categorical_accuracy: 0.6680 - val_precision: 0.7352 - val_precision_angry: 0.6534 - val_precision_disgust: 0.7222 - val_precision_fear: 0.6238 - val_precision_happy: 0.9133 - val_precision_neutral: 0.6690 - val_precision_sad: 0.6179 - val_precision_surprise: 0.7631 - val_recall: 0.6060 - val_recall_angry: 0.5189 - val_recall_disgust: 0.6190 - val_recall_fear: 0.3814 - val_recall_happy: 0.8209 - val_recall_neutral: 0.5649 - val_recall_sad: 0.4619 - val_recall_surprise: 0.7955 - lr: 1.0000e-04\n",
      "Epoch 27/50\n",
      "740/740 [==============================] - ETA: 0s - loss: 0.5340 - accuracy: 0.7822 - categorical_accuracy: 0.7822 - precision: 0.8388 - precision_angry: 0.8119 - precision_disgust: 0.8203 - precision_fear: 0.7870 - precision_happy: 0.9459 - precision_neutral: 0.7848 - precision_sad: 0.7645 - precision_surprise: 0.8550 - recall: 0.7206 - recall_angry: 0.6859 - recall_disgust: 0.9782 - recall_fear: 0.5589 - recall_happy: 0.8622 - recall_neutral: 0.6818 - recall_sad: 0.5746 - recall_surprise: 0.8801\n",
      "Epoch 27: val_loss did not improve from 0.94999\n",
      "740/740 [==============================] - 1021s 1s/step - loss: 0.5340 - accuracy: 0.7822 - categorical_accuracy: 0.7822 - precision: 0.8388 - precision_angry: 0.8119 - precision_disgust: 0.8203 - precision_fear: 0.7870 - precision_happy: 0.9459 - precision_neutral: 0.7848 - precision_sad: 0.7645 - precision_surprise: 0.8550 - recall: 0.7206 - recall_angry: 0.6859 - recall_disgust: 0.9782 - recall_fear: 0.5589 - recall_happy: 0.8622 - recall_neutral: 0.6818 - recall_sad: 0.5746 - recall_surprise: 0.8801 - val_loss: 0.9573 - val_accuracy: 0.6700 - val_categorical_accuracy: 0.6700 - val_precision: 0.7310 - val_precision_angry: 0.6310 - val_precision_disgust: 0.6957 - val_precision_fear: 0.6302 - val_precision_happy: 0.9125 - val_precision_neutral: 0.6574 - val_precision_sad: 0.6169 - val_precision_surprise: 0.7927 - val_recall: 0.6165 - val_recall_angry: 0.5330 - val_recall_disgust: 0.6400 - val_recall_fear: 0.4189 - val_recall_happy: 0.8237 - val_recall_neutral: 0.6119 - val_recall_sad: 0.4525 - val_recall_surprise: 0.7530 - lr: 1.0000e-04\n",
      "Epoch 28/50\n",
      "740/740 [==============================] - ETA: 0s - loss: 0.5237 - accuracy: 0.7848 - categorical_accuracy: 0.7848 - precision: 0.8419 - precision_angry: 0.8125 - precision_disgust: 0.8294 - precision_fear: 0.8001 - precision_happy: 0.9426 - precision_neutral: 0.7875 - precision_sad: 0.7713 - precision_surprise: 0.8588 - recall: 0.7260 - recall_angry: 0.6765 - recall_disgust: 0.9723 - recall_fear: 0.5736 - recall_happy: 0.8685 - recall_neutral: 0.6834 - recall_sad: 0.5887 - recall_surprise: 0.8847\n",
      "Epoch 28: val_loss did not improve from 0.94999\n",
      "740/740 [==============================] - 1013s 1s/step - loss: 0.5237 - accuracy: 0.7848 - categorical_accuracy: 0.7848 - precision: 0.8419 - precision_angry: 0.8125 - precision_disgust: 0.8294 - precision_fear: 0.8001 - precision_happy: 0.9426 - precision_neutral: 0.7875 - precision_sad: 0.7713 - precision_surprise: 0.8588 - recall: 0.7260 - recall_angry: 0.6765 - recall_disgust: 0.9723 - recall_fear: 0.5736 - recall_happy: 0.8685 - recall_neutral: 0.6834 - recall_sad: 0.5887 - recall_surprise: 0.8847 - val_loss: 0.9644 - val_accuracy: 0.6751 - val_categorical_accuracy: 0.6751 - val_precision: 0.7336 - val_precision_angry: 0.6365 - val_precision_disgust: 0.7248 - val_precision_fear: 0.6007 - val_precision_happy: 0.9138 - val_precision_neutral: 0.6758 - val_precision_sad: 0.6105 - val_precision_surprise: 0.8041 - val_recall: 0.6168 - val_recall_angry: 0.5422 - val_recall_disgust: 0.6270 - val_recall_fear: 0.4124 - val_recall_happy: 0.8327 - val_recall_neutral: 0.5881 - val_recall_sad: 0.4552 - val_recall_surprise: 0.7700 - lr: 1.0000e-04\n",
      "Epoch 29/50\n",
      "740/740 [==============================] - ETA: 0s - loss: 0.5002 - accuracy: 0.7934 - categorical_accuracy: 0.7934 - precision: 0.8465 - precision_angry: 0.8146 - precision_disgust: 0.8628 - precision_fear: 0.7925 - precision_happy: 0.9475 - precision_neutral: 0.7986 - precision_sad: 0.7786 - precision_surprise: 0.8604 - recall: 0.7373 - recall_angry: 0.6932 - recall_disgust: 0.9842 - recall_fear: 0.5801 - recall_happy: 0.8750 - recall_neutral: 0.7037 - recall_sad: 0.5985 - recall_surprise: 0.8948\n",
      "Epoch 29: val_loss did not improve from 0.94999\n",
      "740/740 [==============================] - 1014s 1s/step - loss: 0.5002 - accuracy: 0.7934 - categorical_accuracy: 0.7934 - precision: 0.8465 - precision_angry: 0.8146 - precision_disgust: 0.8628 - precision_fear: 0.7925 - precision_happy: 0.9475 - precision_neutral: 0.7986 - precision_sad: 0.7786 - precision_surprise: 0.8604 - recall: 0.7373 - recall_angry: 0.6932 - recall_disgust: 0.9842 - recall_fear: 0.5801 - recall_happy: 0.8750 - recall_neutral: 0.7037 - recall_sad: 0.5985 - recall_surprise: 0.8948 - val_loss: 0.9793 - val_accuracy: 0.6705 - val_categorical_accuracy: 0.6705 - val_precision: 0.7304 - val_precision_angry: 0.6449 - val_precision_disgust: 0.7130 - val_precision_fear: 0.5961 - val_precision_happy: 0.9052 - val_precision_neutral: 0.6670 - val_precision_sad: 0.6281 - val_precision_surprise: 0.7649 - val_recall: 0.6146 - val_recall_angry: 0.5543 - val_recall_disgust: 0.6160 - val_recall_fear: 0.4029 - val_recall_happy: 0.8392 - val_recall_neutral: 0.5905 - val_recall_sad: 0.4218 - val_recall_surprise: 0.7776 - lr: 1.0000e-04\n",
      "Epoch 30/50\n",
      "740/740 [==============================] - ETA: 0s - loss: 0.4942 - accuracy: 0.7953 - categorical_accuracy: 0.7953 - precision: 0.8468 - precision_angry: 0.8175 - precision_disgust: 0.8459 - precision_fear: 0.7978 - precision_happy: 0.9486 - precision_neutral: 0.7899 - precision_sad: 0.7749 - precision_surprise: 0.8730 - recall: 0.7411 - recall_angry: 0.7096 - recall_disgust: 0.9782 - recall_fear: 0.5894 - recall_happy: 0.8782 - recall_neutral: 0.6927 - recall_sad: 0.6010 - recall_surprise: 0.9035\n",
      "Epoch 30: val_loss did not improve from 0.94999\n",
      "740/740 [==============================] - 1027s 1s/step - loss: 0.4942 - accuracy: 0.7953 - categorical_accuracy: 0.7953 - precision: 0.8468 - precision_angry: 0.8175 - precision_disgust: 0.8459 - precision_fear: 0.7978 - precision_happy: 0.9486 - precision_neutral: 0.7899 - precision_sad: 0.7749 - precision_surprise: 0.8730 - recall: 0.7411 - recall_angry: 0.7096 - recall_disgust: 0.9782 - recall_fear: 0.5894 - recall_happy: 0.8782 - recall_neutral: 0.6927 - recall_sad: 0.6010 - recall_surprise: 0.9035 - val_loss: 0.9914 - val_accuracy: 0.6676 - val_categorical_accuracy: 0.6676 - val_precision: 0.7276 - val_precision_angry: 0.6057 - val_precision_disgust: 0.7091 - val_precision_fear: 0.6145 - val_precision_happy: 0.9076 - val_precision_neutral: 0.6546 - val_precision_sad: 0.6391 - val_precision_surprise: 0.7909 - val_recall: 0.6107 - val_recall_angry: 0.5488 - val_recall_disgust: 0.6190 - val_recall_fear: 0.4053 - val_recall_happy: 0.8172 - val_recall_neutral: 0.5706 - val_recall_sad: 0.4454 - val_recall_surprise: 0.7921 - lr: 1.0000e-04\n",
      "Epoch 31/50\n",
      "740/740 [==============================] - ETA: 0s - loss: 0.4785 - accuracy: 0.8022 - categorical_accuracy: 0.8022 - precision: 0.8543 - precision_angry: 0.8245 - precision_disgust: 0.8801 - precision_fear: 0.8105 - precision_happy: 0.9493 - precision_neutral: 0.7981 - precision_sad: 0.7916 - precision_surprise: 0.8753 - recall: 0.7502 - recall_angry: 0.7131 - recall_disgust: 0.9901 - recall_fear: 0.6070 - recall_happy: 0.8791 - recall_neutral: 0.7089 - recall_sad: 0.6204 - recall_surprise: 0.9004\n",
      "Epoch 31: val_loss did not improve from 0.94999\n",
      "\n",
      "Epoch 31: ReduceLROnPlateau reducing learning rate to 1.0000000474974514e-05.\n",
      "740/740 [==============================] - 1094s 1s/step - loss: 0.4785 - accuracy: 0.8022 - categorical_accuracy: 0.8022 - precision: 0.8543 - precision_angry: 0.8245 - precision_disgust: 0.8801 - precision_fear: 0.8105 - precision_happy: 0.9493 - precision_neutral: 0.7981 - precision_sad: 0.7916 - precision_surprise: 0.8753 - recall: 0.7502 - recall_angry: 0.7131 - recall_disgust: 0.9901 - recall_fear: 0.6070 - recall_happy: 0.8791 - recall_neutral: 0.7089 - recall_sad: 0.6204 - recall_surprise: 0.9004 - val_loss: 0.9903 - val_accuracy: 0.6743 - val_categorical_accuracy: 0.6743 - val_precision: 0.7272 - val_precision_angry: 0.6305 - val_precision_disgust: 0.7879 - val_precision_fear: 0.6034 - val_precision_happy: 0.9090 - val_precision_neutral: 0.6525 - val_precision_sad: 0.6382 - val_precision_surprise: 0.7671 - val_recall: 0.6230 - val_recall_angry: 0.5458 - val_recall_disgust: 0.6190 - val_recall_fear: 0.4243 - val_recall_happy: 0.8240 - val_recall_neutral: 0.6085 - val_recall_sad: 0.4614 - val_recall_surprise: 0.7857 - lr: 1.0000e-04\n",
      "Epoch 32/50\n",
      "740/740 [==============================] - ETA: 0s - loss: 0.4682 - accuracy: 0.8089 - categorical_accuracy: 0.8089 - precision: 0.8555 - precision_angry: 0.8280 - precision_disgust: 0.8730 - precision_fear: 0.8121 - precision_happy: 0.9507 - precision_neutral: 0.7963 - precision_sad: 0.8028 - precision_surprise: 0.8699 - recall: 0.7567 - recall_angry: 0.7241 - recall_disgust: 0.9802 - recall_fear: 0.6274 - recall_happy: 0.8798 - recall_neutral: 0.7165 - recall_sad: 0.6241 - recall_surprise: 0.9020\n",
      "Epoch 32: val_loss did not improve from 0.94999\n",
      "740/740 [==============================] - 1158s 2s/step - loss: 0.4682 - accuracy: 0.8089 - categorical_accuracy: 0.8089 - precision: 0.8555 - precision_angry: 0.8280 - precision_disgust: 0.8730 - precision_fear: 0.8121 - precision_happy: 0.9507 - precision_neutral: 0.7963 - precision_sad: 0.8028 - precision_surprise: 0.8699 - recall: 0.7567 - recall_angry: 0.7241 - recall_disgust: 0.9802 - recall_fear: 0.6274 - recall_happy: 0.8798 - recall_neutral: 0.7165 - recall_sad: 0.6241 - recall_surprise: 0.9020 - val_loss: 0.9776 - val_accuracy: 0.6785 - val_categorical_accuracy: 0.6785 - val_precision: 0.7347 - val_precision_angry: 0.6421 - val_precision_disgust: 0.8065 - val_precision_fear: 0.6000 - val_precision_happy: 0.9036 - val_precision_neutral: 0.6865 - val_precision_sad: 0.6225 - val_precision_surprise: 0.7870 - val_recall: 0.6265 - val_recall_angry: 0.5550 - val_recall_disgust: 0.6000 - val_recall_fear: 0.4050 - val_recall_happy: 0.8315 - val_recall_neutral: 0.6056 - val_recall_sad: 0.4840 - val_recall_surprise: 0.7870 - lr: 1.0000e-05\n",
      "Epoch 33/50\n",
      "740/740 [==============================] - ETA: 0s - loss: 0.4575 - accuracy: 0.8089 - categorical_accuracy: 0.8089 - precision: 0.8575 - precision_angry: 0.8428 - precision_disgust: 0.8903 - precision_fear: 0.8090 - precision_happy: 0.9492 - precision_neutral: 0.7996 - precision_sad: 0.7936 - precision_surprise: 0.8789 - recall: 0.7603 - recall_angry: 0.7275 - recall_disgust: 0.9821 - recall_fear: 0.6168 - recall_happy: 0.8841 - recall_neutral: 0.7276 - recall_sad: 0.6341 - recall_surprise: 0.9024\n",
      "Epoch 33: val_loss did not improve from 0.94999\n",
      "740/740 [==============================] - 1154s 2s/step - loss: 0.4575 - accuracy: 0.8089 - categorical_accuracy: 0.8089 - precision: 0.8575 - precision_angry: 0.8428 - precision_disgust: 0.8903 - precision_fear: 0.8090 - precision_happy: 0.9492 - precision_neutral: 0.7996 - precision_sad: 0.7936 - precision_surprise: 0.8789 - recall: 0.7603 - recall_angry: 0.7275 - recall_disgust: 0.9821 - recall_fear: 0.6168 - recall_happy: 0.8841 - recall_neutral: 0.7276 - recall_sad: 0.6341 - recall_surprise: 0.9024 - val_loss: 0.9953 - val_accuracy: 0.6741 - val_categorical_accuracy: 0.6741 - val_precision: 0.7288 - val_precision_angry: 0.6528 - val_precision_disgust: 0.7822 - val_precision_fear: 0.6193 - val_precision_happy: 0.9026 - val_precision_neutral: 0.6610 - val_precision_sad: 0.5906 - val_precision_surprise: 0.7877 - val_recall: 0.6298 - val_recall_angry: 0.5556 - val_recall_disgust: 0.6320 - val_recall_fear: 0.4202 - val_recall_happy: 0.8410 - val_recall_neutral: 0.6158 - val_recall_sad: 0.4541 - val_recall_surprise: 0.7985 - lr: 1.0000e-05\n",
      "Epoch 34/50\n",
      "740/740 [==============================] - ETA: 0s - loss: 0.4583 - accuracy: 0.8070 - categorical_accuracy: 0.8070 - precision: 0.8568 - precision_angry: 0.8351 - precision_disgust: 0.9024 - precision_fear: 0.8065 - precision_happy: 0.9503 - precision_neutral: 0.8008 - precision_sad: 0.7910 - precision_surprise: 0.8800 - recall: 0.7590 - recall_angry: 0.7295 - recall_disgust: 0.9901 - recall_fear: 0.6186 - recall_happy: 0.8849 - recall_neutral: 0.7139 - recall_sad: 0.6340 - recall_surprise: 0.9032\n",
      "Epoch 34: val_loss did not improve from 0.94999\n",
      "740/740 [==============================] - 1123s 2s/step - loss: 0.4583 - accuracy: 0.8070 - categorical_accuracy: 0.8070 - precision: 0.8568 - precision_angry: 0.8351 - precision_disgust: 0.9024 - precision_fear: 0.8065 - precision_happy: 0.9503 - precision_neutral: 0.8008 - precision_sad: 0.7910 - precision_surprise: 0.8800 - recall: 0.7590 - recall_angry: 0.7295 - recall_disgust: 0.9901 - recall_fear: 0.6186 - recall_happy: 0.8849 - recall_neutral: 0.7139 - recall_sad: 0.6340 - recall_surprise: 0.9032 - val_loss: 0.9963 - val_accuracy: 0.6775 - val_categorical_accuracy: 0.6775 - val_precision: 0.7286 - val_precision_angry: 0.6529 - val_precision_disgust: 0.7938 - val_precision_fear: 0.6216 - val_precision_happy: 0.8959 - val_precision_neutral: 0.6703 - val_precision_sad: 0.6000 - val_precision_surprise: 0.7738 - val_recall: 0.6287 - val_recall_angry: 0.5587 - val_recall_disgust: 0.6111 - val_recall_fear: 0.4327 - val_recall_happy: 0.8353 - val_recall_neutral: 0.6081 - val_recall_sad: 0.4623 - val_recall_surprise: 0.7855 - lr: 1.0000e-05\n",
      "Epoch 35/50\n",
      "740/740 [==============================] - ETA: 0s - loss: 0.4538 - accuracy: 0.8107 - categorical_accuracy: 0.8107 - precision: 0.8596 - precision_angry: 0.8347 - precision_disgust: 0.8698 - precision_fear: 0.8207 - precision_happy: 0.9521 - precision_neutral: 0.7972 - precision_sad: 0.8068 - precision_surprise: 0.8792 - recall: 0.7606 - recall_angry: 0.7204 - recall_disgust: 0.9940 - recall_fear: 0.6250 - recall_happy: 0.8831 - recall_neutral: 0.7244 - recall_sad: 0.6378 - recall_surprise: 0.9028\n",
      "Epoch 35: val_loss did not improve from 0.94999\n",
      "740/740 [==============================] - 1136s 2s/step - loss: 0.4538 - accuracy: 0.8107 - categorical_accuracy: 0.8107 - precision: 0.8596 - precision_angry: 0.8347 - precision_disgust: 0.8698 - precision_fear: 0.8207 - precision_happy: 0.9521 - precision_neutral: 0.7972 - precision_sad: 0.8068 - precision_surprise: 0.8792 - recall: 0.7606 - recall_angry: 0.7204 - recall_disgust: 0.9940 - recall_fear: 0.6250 - recall_happy: 0.8831 - recall_neutral: 0.7244 - recall_sad: 0.6378 - recall_surprise: 0.9028 - val_loss: 0.9882 - val_accuracy: 0.6743 - val_categorical_accuracy: 0.6743 - val_precision: 0.7288 - val_precision_angry: 0.6425 - val_precision_disgust: 0.7692 - val_precision_fear: 0.6007 - val_precision_happy: 0.8917 - val_precision_neutral: 0.6798 - val_precision_sad: 0.6206 - val_precision_surprise: 0.7846 - val_recall: 0.6258 - val_recall_angry: 0.5500 - val_recall_disgust: 0.6349 - val_recall_fear: 0.4308 - val_recall_happy: 0.8349 - val_recall_neutral: 0.5793 - val_recall_sad: 0.4917 - val_recall_surprise: 0.7716 - lr: 1.0000e-05\n",
      "Epoch 36/50\n",
      "740/740 [==============================] - ETA: 0s - loss: 0.4572 - accuracy: 0.8108 - categorical_accuracy: 0.8108 - precision: 0.8586 - precision_angry: 0.8250 - precision_disgust: 0.8941 - precision_fear: 0.8153 - precision_happy: 0.9515 - precision_neutral: 0.8062 - precision_sad: 0.7973 - precision_surprise: 0.8830 - recall: 0.7622 - recall_angry: 0.7273 - recall_disgust: 0.9861 - recall_fear: 0.6280 - recall_happy: 0.8808 - recall_neutral: 0.7266 - recall_sad: 0.6372 - recall_surprise: 0.9083Restoring model weights from the end of the best epoch: 26.\n",
      "\n",
      "Epoch 36: val_loss did not improve from 0.94999\n",
      "\n",
      "Epoch 36: ReduceLROnPlateau reducing learning rate to 1e-05.\n",
      "740/740 [==============================] - 1143s 2s/step - loss: 0.4572 - accuracy: 0.8108 - categorical_accuracy: 0.8108 - precision: 0.8586 - precision_angry: 0.8250 - precision_disgust: 0.8941 - precision_fear: 0.8153 - precision_happy: 0.9515 - precision_neutral: 0.8062 - precision_sad: 0.7973 - precision_surprise: 0.8830 - recall: 0.7622 - recall_angry: 0.7273 - recall_disgust: 0.9861 - recall_fear: 0.6280 - recall_happy: 0.8808 - recall_neutral: 0.7266 - recall_sad: 0.6372 - recall_surprise: 0.9083 - val_loss: 1.0147 - val_accuracy: 0.6758 - val_categorical_accuracy: 0.6758 - val_precision: 0.7268 - val_precision_angry: 0.6333 - val_precision_disgust: 0.7308 - val_precision_fear: 0.6041 - val_precision_happy: 0.8985 - val_precision_neutral: 0.6634 - val_precision_sad: 0.6223 - val_precision_surprise: 0.7859 - val_recall: 0.6270 - val_recall_angry: 0.5547 - val_recall_disgust: 0.6129 - val_recall_fear: 0.4260 - val_recall_happy: 0.8402 - val_recall_neutral: 0.5927 - val_recall_sad: 0.4731 - val_recall_surprise: 0.7812 - lr: 1.0000e-05\n",
      "Epoch 36: early stopping\n"
     ]
    }
   ],
   "source": [
    "import os\n",
    "\n",
    "os.environ['KMP_DUPLICATE_LIB_OK'] = 'True'\n",
    "\n",
    "history = model.fit(\n",
    "    train_generator,\n",
    "    steps_per_epoch=train_generator.n//train_generator.batch_size,\n",
    "    epochs=epochs,\n",
    "    validation_data=validation_generator,\n",
    "    validation_steps=validation_generator.n//validation_generator.batch_size,\n",
    "    callbacks=callbacks_list,\n",
    "    class_weight=class_weights_dict,\n",
    ")"
   ],
   "metadata": {
    "collapsed": false,
    "pycharm": {
     "name": "#%%\n"
    }
   }
  },
  {
   "cell_type": "markdown",
   "source": [
    "### 7. Evaluation - Test set"
   ],
   "metadata": {
    "collapsed": false,
    "pycharm": {
     "name": "#%% md\n"
    }
   }
  },
  {
   "cell_type": "code",
   "execution_count": 27,
   "outputs": [],
   "source": [
    "from keras.models import load_model\n",
    "\n",
    "model = load_model(\"model_mobilenet_v3_transfer_data_augmentation_balanced.h5\")"
   ],
   "metadata": {
    "collapsed": false,
    "pycharm": {
     "name": "#%%\n"
    }
   }
  },
  {
   "cell_type": "code",
   "execution_count": 28,
   "outputs": [
    {
     "name": "stdout",
     "output_type": "stream",
     "text": [
      "Found 7178 images belonging to 7 classes.\n"
     ]
    }
   ],
   "source": [
    "test_data_generator = ImageDataGenerator(preprocessing_function=preprocess_input)\n",
    "\n",
    "test_generator = test_data_generator.flow_from_directory(\n",
    "    DATASET_BASE_TEST_PATH,\n",
    "    target_size=(224, 224),\n",
    "    batch_size=32,\n",
    "    class_mode='categorical',\n",
    "    shuffle=False\n",
    ")"
   ],
   "metadata": {
    "collapsed": false,
    "pycharm": {
     "name": "#%%\n"
    }
   }
  },
  {
   "cell_type": "code",
   "execution_count": 29,
   "outputs": [
    {
     "name": "stdout",
     "output_type": "stream",
     "text": [
      "225/225 [==============================] - 132s 393ms/step - loss: 0.9356 - accuracy: 0.6900 - categorical_accuracy: 0.6900 - precision: 0.7394 - precision_angry: 0.6651 - precision_disgust: 0.7590 - precision_fear: 0.6155 - precision_happy: 0.9148 - precision_neutral: 0.6664 - precision_sad: 0.6241 - precision_surprise: 0.7963 - recall: 0.6399 - recall_angry: 0.5825 - recall_disgust: 0.5676 - recall_fear: 0.3799 - recall_happy: 0.8591 - recall_neutral: 0.6448 - recall_sad: 0.4900 - recall_surprise: 0.7858\n"
     ]
    },
    {
     "data": {
      "text/plain": "[0.9355986714363098,\n 0.6900250911712646,\n 0.6900250911712646,\n 0.7393754124641418,\n 0.6650774478912354,\n 0.759036123752594,\n 0.6155063509941101,\n 0.9147658944129944,\n 0.6663872599601746,\n 0.624106228351593,\n 0.7963414788246155,\n 0.6398718357086182,\n 0.5824634432792664,\n 0.5675675868988037,\n 0.3798828125,\n 0.8590755462646484,\n 0.6447688341140747,\n 0.4899759292602539,\n 0.7858002185821533]"
     },
     "execution_count": 29,
     "metadata": {},
     "output_type": "execute_result"
    }
   ],
   "source": [
    "model.evaluate(test_generator)"
   ],
   "metadata": {
    "collapsed": false,
    "pycharm": {
     "name": "#%%\n"
    }
   }
  }
 ],
 "metadata": {
  "kernelspec": {
   "display_name": "Python 3",
   "language": "python",
   "name": "python3"
  },
  "language_info": {
   "codemirror_mode": {
    "name": "ipython",
    "version": 2
   },
   "file_extension": ".py",
   "mimetype": "text/x-python",
   "name": "python",
   "nbconvert_exporter": "python",
   "pygments_lexer": "ipython2",
   "version": "2.7.6"
  }
 },
 "nbformat": 4,
 "nbformat_minor": 0
}