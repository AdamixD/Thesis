{
 "cells": [
  {
   "cell_type": "markdown",
   "source": [
    "# Model Training - MobileNet (transfer)"
   ],
   "metadata": {
    "collapsed": false,
    "pycharm": {
     "name": "#%% md\n"
    }
   }
  },
  {
   "cell_type": "markdown",
   "source": [
    "### 0. Imports"
   ],
   "metadata": {
    "collapsed": false,
    "pycharm": {
     "name": "#%% md\n"
    }
   }
  },
  {
   "cell_type": "code",
   "execution_count": 1,
   "outputs": [],
   "source": [
    "import matplotlib.pyplot as plt\n",
    "import tensorflow as tf\n",
    "\n",
    "from keras.applications import MobileNet\n",
    "from keras.applications.mobilenet import preprocess_input\n",
    "from keras.callbacks import (\n",
    "    ModelCheckpoint,\n",
    "    EarlyStopping,\n",
    "    ReduceLROnPlateau\n",
    ")\n",
    "from keras.models import Sequential\n",
    "from keras.layers import Dense, GlobalAveragePooling2D\n",
    "from keras.metrics import Precision, Recall\n",
    "from keras.optimizers import Adam\n",
    "from keras.preprocessing.image import ImageDataGenerator\n",
    "from keras.utils.vis_utils import plot_model"
   ],
   "metadata": {
    "collapsed": false,
    "ExecuteTime": {
     "start_time": "2023-06-08T14:04:36.621338Z",
     "end_time": "2023-06-08T14:04:39.977428Z"
    },
    "pycharm": {
     "name": "#%%\n"
    }
   }
  },
  {
   "cell_type": "markdown",
   "source": [
    "### 1. Paths"
   ],
   "metadata": {
    "collapsed": false,
    "pycharm": {
     "name": "#%% md\n"
    }
   }
  },
  {
   "cell_type": "code",
   "execution_count": 2,
   "outputs": [],
   "source": [
    "# DATASET_BASE_TRAIN_PATH = \"/Users/adamdabkowski/DataspellProjects/Praca_dyplomowa/data/train_resized\"\n",
    "# DATASET_BASE_TRAIN_PATH = \"/Users/adamd/DataspellProjects/Facial Expressions Recognition/data/train_resized\"\n",
    "# DATASET_BASE_TRAIN_PATH = \"/Users/adamd/DataspellProjects/Facial Expressions Recognition/data/train_merged\"\n",
    "DATASET_BASE_TRAIN_PATH = \"/Users/adamd/DataspellProjects/Facial Expressions Recognition/data/train_merged_cleaned\"\n",
    "\n",
    "# DATASET_BASE_TRAIN_PATH = \"../new_data\"\n",
    "\n",
    "# DATASET_BASE_TEST_PATH = \"/Users/adamdabkowski/DataspellProjects/Praca_dyplomowa/data/test_resized\"\n",
    "DATASET_BASE_TEST_PATH = \"/Users/adamd/DataspellProjects/Facial Expressions Recognition/data/test_resized\""
   ],
   "metadata": {
    "collapsed": false,
    "ExecuteTime": {
     "start_time": "2023-06-08T14:06:08.298593Z",
     "end_time": "2023-06-08T14:06:08.305288Z"
    },
    "pycharm": {
     "name": "#%%\n"
    }
   }
  },
  {
   "cell_type": "markdown",
   "source": [
    "### 2. Data preprocessing"
   ],
   "metadata": {
    "collapsed": false,
    "pycharm": {
     "name": "#%% md\n"
    }
   }
  },
  {
   "cell_type": "code",
   "execution_count": 3,
   "outputs": [
    {
     "name": "stdout",
     "output_type": "stream",
     "text": [
      "Found 23689 images belonging to 7 classes.\n",
      "Found 5919 images belonging to 7 classes.\n"
     ]
    }
   ],
   "source": [
    "batch_size  = 32\n",
    "img_size = 224\n",
    "\n",
    "train_validation_data_generator = ImageDataGenerator(preprocessing_function=preprocess_input, validation_split=0.2)\n",
    "\n",
    "train_generator = train_validation_data_generator.flow_from_directory(\n",
    "    DATASET_BASE_TRAIN_PATH,\n",
    "    target_size=(img_size,img_size),\n",
    "    batch_size=batch_size,\n",
    "    class_mode='categorical',\n",
    "    color_mode='rgb',\n",
    "    subset='training',\n",
    "    shuffle=True,\n",
    ")\n",
    "\n",
    "validation_generator = train_validation_data_generator.flow_from_directory(\n",
    "    DATASET_BASE_TRAIN_PATH,\n",
    "    target_size=(img_size,img_size),\n",
    "    batch_size=batch_size,\n",
    "    class_mode='categorical',\n",
    "    color_mode='rgb',\n",
    "    subset='validation',\n",
    "    shuffle=True,\n",
    ")"
   ],
   "metadata": {
    "collapsed": false,
    "ExecuteTime": {
     "start_time": "2023-06-08T14:06:12.829138Z",
     "end_time": "2023-06-08T14:06:13.009438Z"
    },
    "pycharm": {
     "name": "#%%\n"
    }
   }
  },
  {
   "cell_type": "markdown",
   "source": [
    "### 5. Model creating"
   ],
   "metadata": {
    "collapsed": false,
    "pycharm": {
     "name": "#%% md\n"
    }
   }
  },
  {
   "cell_type": "code",
   "execution_count": 5,
   "outputs": [],
   "source": [
    "CATEGORIES = [\"angry\", \"disgust\", \"fear\", \"happy\", \"neutral\", \"sad\", \"surprise\"]"
   ],
   "metadata": {
    "collapsed": false,
    "ExecuteTime": {
     "start_time": "2023-06-08T14:06:21.358802Z",
     "end_time": "2023-06-08T14:06:21.367405Z"
    },
    "pycharm": {
     "name": "#%%\n"
    }
   }
  },
  {
   "cell_type": "code",
   "execution_count": 4,
   "outputs": [],
   "source": [
    "checkpoint = ModelCheckpoint(\n",
    "    filepath=\"./model_mobilenet_transfer_2.h5\",\n",
    "    monitor='val_loss',\n",
    "    verbose=1,\n",
    "    save_best_only=True,\n",
    "    mode='min'\n",
    ")\n",
    "\n",
    "early_stopping = EarlyStopping(\n",
    "    monitor='val_loss',\n",
    "    patience=10,\n",
    "    verbose=1,\n",
    "    restore_best_weights=True,\n",
    ")\n",
    "\n",
    "reduce_learning_rate = ReduceLROnPlateau(\n",
    "    monitor='val_loss',\n",
    "    factor=0.1,\n",
    "    patience=5,\n",
    "    verbose=1,\n",
    "    min_lr=0.00001,\n",
    ")\n",
    "\n",
    "callbacks_list = [early_stopping, checkpoint, reduce_learning_rate]"
   ],
   "metadata": {
    "collapsed": false,
    "ExecuteTime": {
     "start_time": "2023-06-08T14:06:22.501933Z",
     "end_time": "2023-06-08T14:06:22.506101Z"
    },
    "pycharm": {
     "name": "#%%\n"
    }
   }
  },
  {
   "cell_type": "code",
   "execution_count": 5,
   "outputs": [],
   "source": [
    "model = Sequential()\n",
    "\n",
    "base_model = MobileNet(input_shape=(img_size, img_size, 3), include_top=False, weights='imagenet')\n",
    "model.add(base_model)\n",
    "\n",
    "model.add(GlobalAveragePooling2D())\n",
    "model.add(Dense(512, activation='relu'))\n",
    "model.add(Dense(7, activation='softmax'))"
   ],
   "metadata": {
    "collapsed": false,
    "ExecuteTime": {
     "start_time": "2023-06-08T14:06:33.844245Z",
     "end_time": "2023-06-08T14:06:34.087495Z"
    },
    "pycharm": {
     "name": "#%%\n"
    }
   }
  },
  {
   "cell_type": "code",
   "execution_count": 6,
   "outputs": [
    {
     "name": "stdout",
     "output_type": "stream",
     "text": [
      "Model: \"sequential\"\n",
      "_________________________________________________________________\n",
      " Layer (type)                Output Shape              Param #   \n",
      "=================================================================\n",
      " mobilenet_1.00_224 (Functio  (None, 7, 7, 1024)       3228864   \n",
      " nal)                                                            \n",
      "                                                                 \n",
      " global_average_pooling2d (G  (None, 1024)             0         \n",
      " lobalAveragePooling2D)                                          \n",
      "                                                                 \n",
      " dense (Dense)               (None, 512)               524800    \n",
      "                                                                 \n",
      " dense_1 (Dense)             (None, 7)                 3591      \n",
      "                                                                 \n",
      "=================================================================\n",
      "Total params: 3,757,255\n",
      "Trainable params: 3,735,367\n",
      "Non-trainable params: 21,888\n",
      "_________________________________________________________________\n"
     ]
    }
   ],
   "source": [
    "model.compile(\n",
    "    optimizer=Adam(learning_rate=0.001),\n",
    "    loss='categorical_crossentropy',\n",
    "    metrics=[\n",
    "        'accuracy',\n",
    "        Precision(name='precision'),\n",
    "        Precision(class_id=0, name='precision_angry'),\n",
    "        Precision(class_id=1, name='precision_disgust'),\n",
    "        Precision(class_id=2, name='precision_fear'),\n",
    "        Precision(class_id=3, name='precision_happy'),\n",
    "        Precision(class_id=4, name='precision_neutral'),\n",
    "        Precision(class_id=5, name='precision_sad'),\n",
    "        Precision(class_id=6, name='precision_surprise'),\n",
    "        Recall(name='recall'),\n",
    "        Recall(class_id=0, name='recall_angry'),\n",
    "        Recall(class_id=1, name='recall_disgust'),\n",
    "        Recall(class_id=2, name='recall_fear'),\n",
    "        Recall(class_id=3, name='recall_happy'),\n",
    "        Recall(class_id=4, name='recall_neutral'),\n",
    "        Recall(class_id=5, name='recall_sad'),\n",
    "        Recall(class_id=6, name='recall_surprise'),\n",
    "    ]\n",
    ")\n",
    "model.summary()"
   ],
   "metadata": {
    "collapsed": false,
    "ExecuteTime": {
     "start_time": "2023-06-08T14:08:05.068394Z",
     "end_time": "2023-06-08T14:08:05.102749Z"
    },
    "pycharm": {
     "name": "#%%\n"
    }
   }
  },
  {
   "cell_type": "code",
   "execution_count": 7,
   "outputs": [
    {
     "data": {
      "image/png": "[encoded data removed]",
      "text/plain": "<IPython.core.display.Image object>"
     },
     "execution_count": 7,
     "metadata": {},
     "output_type": "execute_result"
    }
   ],
   "source": [
    "plot_model(model, to_file='model_mobilenet_transfer_2.png', show_shapes=True, show_layer_names=True)"
   ],
   "metadata": {
    "collapsed": false,
    "pycharm": {
     "name": "#%%\n"
    }
   }
  },
  {
   "cell_type": "markdown",
   "source": [
    "### 6. Model training"
   ],
   "metadata": {
    "collapsed": false,
    "pycharm": {
     "name": "#%% md\n"
    }
   }
  },
  {
   "cell_type": "code",
   "execution_count": 8,
   "outputs": [],
   "source": [
    "epochs = 50"
   ],
   "metadata": {
    "collapsed": false,
    "ExecuteTime": {
     "start_time": "2023-06-08T14:08:06.121000Z",
     "end_time": "2023-06-08T14:08:06.134021Z"
    },
    "pycharm": {
     "name": "#%%\n"
    }
   }
  },
  {
   "cell_type": "code",
   "execution_count": 9,
   "outputs": [
    {
     "name": "stdout",
     "output_type": "stream",
     "text": [
      "Epoch 1/50\n",
      "740/740 [==============================] - ETA: 0s - loss: 1.2232 - accuracy: 0.5384 - precision: 0.7146 - precision_angry: 0.6264 - precision_disgust: 0.4932 - precision_fear: 0.5092 - precision_happy: 0.8369 - precision_neutral: 0.6023 - precision_sad: 0.5291 - precision_surprise: 0.7329 - recall: 0.3654 - recall_angry: 0.2188 - recall_disgust: 0.0713 - recall_fear: 0.0738 - recall_happy: 0.7353 - recall_neutral: 0.3037 - recall_sad: 0.1611 - recall_surprise: 0.5485\n",
      "Epoch 1: val_loss improved from inf to 1.27523, saving model to .\\model_mobilenet_transfer_2.h5\n",
      "740/740 [==============================] - 734s 984ms/step - loss: 1.2232 - accuracy: 0.5384 - precision: 0.7146 - precision_angry: 0.6264 - precision_disgust: 0.4932 - precision_fear: 0.5092 - precision_happy: 0.8369 - precision_neutral: 0.6023 - precision_sad: 0.5291 - precision_surprise: 0.7329 - recall: 0.3654 - recall_angry: 0.2188 - recall_disgust: 0.0713 - recall_fear: 0.0738 - recall_happy: 0.7353 - recall_neutral: 0.3037 - recall_sad: 0.1611 - recall_surprise: 0.5485 - val_loss: 1.2752 - val_accuracy: 0.5241 - val_precision: 0.6836 - val_precision_angry: 0.6975 - val_precision_disgust: 0.4667 - val_precision_fear: 0.6698 - val_precision_happy: 0.9723 - val_precision_neutral: 0.6103 - val_precision_sad: 0.4716 - val_precision_surprise: 0.5798 - val_recall: 0.3380 - val_recall_angry: 0.2384 - val_recall_disgust: 0.0556 - val_recall_fear: 0.0846 - val_recall_happy: 0.5512 - val_recall_neutral: 0.0821 - val_recall_sad: 0.3086 - val_recall_surprise: 0.8021 - lr: 0.0010\n",
      "Epoch 2/50\n",
      "740/740 [==============================] - ETA: 0s - loss: 1.0128 - accuracy: 0.6221 - precision: 0.7496 - precision_angry: 0.6805 - precision_disgust: 0.6612 - precision_fear: 0.6165 - precision_happy: 0.8744 - precision_neutral: 0.6629 - precision_sad: 0.6115 - precision_surprise: 0.7829 - recall: 0.4771 - recall_angry: 0.3673 - recall_disgust: 0.2406 - recall_fear: 0.1844 - recall_happy: 0.8085 - recall_neutral: 0.4329 - recall_sad: 0.2829 - recall_surprise: 0.6488\n",
      "Epoch 2: val_loss improved from 1.27523 to 1.11829, saving model to .\\model_mobilenet_transfer_2.h5\n",
      "740/740 [==============================] - 727s 982ms/step - loss: 1.0128 - accuracy: 0.6221 - precision: 0.7496 - precision_angry: 0.6805 - precision_disgust: 0.6612 - precision_fear: 0.6165 - precision_happy: 0.8744 - precision_neutral: 0.6629 - precision_sad: 0.6115 - precision_surprise: 0.7829 - recall: 0.4771 - recall_angry: 0.3673 - recall_disgust: 0.2406 - recall_fear: 0.1844 - recall_happy: 0.8085 - recall_neutral: 0.4329 - recall_sad: 0.2829 - recall_surprise: 0.6488 - val_loss: 1.1183 - val_accuracy: 0.5898 - val_precision: 0.6905 - val_precision_angry: 0.5478 - val_precision_disgust: 0.0000e+00 - val_precision_fear: 0.4968 - val_precision_happy: 0.8434 - val_precision_neutral: 0.7149 - val_precision_sad: 0.5556 - val_precision_surprise: 0.6849 - val_recall: 0.4682 - val_recall_angry: 0.4487 - val_recall_disgust: 0.0000e+00 - val_recall_fear: 0.1876 - val_recall_happy: 0.7894 - val_recall_neutral: 0.3323 - val_recall_sad: 0.2580 - val_recall_surprise: 0.7398 - lr: 0.0010\n",
      "Epoch 3/50\n",
      "740/740 [==============================] - ETA: 0s - loss: 0.9093 - accuracy: 0.6587 - precision: 0.7701 - precision_angry: 0.7059 - precision_disgust: 0.6988 - precision_fear: 0.6706 - precision_happy: 0.8903 - precision_neutral: 0.7001 - precision_sad: 0.6575 - precision_surprise: 0.8022 - recall: 0.5474 - recall_angry: 0.4369 - recall_disgust: 0.3446 - recall_fear: 0.2710 - recall_happy: 0.8474 - recall_neutral: 0.5170 - recall_sad: 0.3789 - recall_surprise: 0.7030\n",
      "Epoch 3: val_loss improved from 1.11829 to 1.04390, saving model to .\\model_mobilenet_transfer_2.h5\n",
      "740/740 [==============================] - 730s 987ms/step - loss: 0.9093 - accuracy: 0.6587 - precision: 0.7701 - precision_angry: 0.7059 - precision_disgust: 0.6988 - precision_fear: 0.6706 - precision_happy: 0.8903 - precision_neutral: 0.7001 - precision_sad: 0.6575 - precision_surprise: 0.8022 - recall: 0.5474 - recall_angry: 0.4369 - recall_disgust: 0.3446 - recall_fear: 0.2710 - recall_happy: 0.8474 - recall_neutral: 0.5170 - recall_sad: 0.3789 - recall_surprise: 0.7030 - val_loss: 1.0439 - val_accuracy: 0.6146 - val_precision: 0.7195 - val_precision_angry: 0.6180 - val_precision_disgust: 0.5909 - val_precision_fear: 0.5559 - val_precision_happy: 0.9268 - val_precision_neutral: 0.6382 - val_precision_sad: 0.6027 - val_precision_surprise: 0.7143 - val_recall: 0.5146 - val_recall_angry: 0.4707 - val_recall_disgust: 0.4127 - val_recall_fear: 0.1895 - val_recall_happy: 0.7538 - val_recall_neutral: 0.5401 - val_recall_sad: 0.2750 - val_recall_surprise: 0.7843 - lr: 0.0010\n",
      "Epoch 4/50\n",
      "740/740 [==============================] - ETA: 0s - loss: 0.8180 - accuracy: 0.6988 - precision: 0.7841 - precision_angry: 0.7354 - precision_disgust: 0.7753 - precision_fear: 0.6926 - precision_happy: 0.9024 - precision_neutral: 0.7181 - precision_sad: 0.6816 - precision_surprise: 0.8182 - recall: 0.6039 - recall_angry: 0.5085 - recall_disgust: 0.4861 - recall_fear: 0.3459 - recall_happy: 0.8718 - recall_neutral: 0.5818 - recall_sad: 0.4565 - recall_surprise: 0.7288\n",
      "Epoch 4: val_loss did not improve from 1.04390\n",
      "740/740 [==============================] - 743s 1s/step - loss: 0.8180 - accuracy: 0.6988 - precision: 0.7841 - precision_angry: 0.7354 - precision_disgust: 0.7753 - precision_fear: 0.6926 - precision_happy: 0.9024 - precision_neutral: 0.7181 - precision_sad: 0.6816 - precision_surprise: 0.8182 - recall: 0.6039 - recall_angry: 0.5085 - recall_disgust: 0.4861 - recall_fear: 0.3459 - recall_happy: 0.8718 - recall_neutral: 0.5818 - recall_sad: 0.4565 - recall_surprise: 0.7288 - val_loss: 1.1615 - val_accuracy: 0.5960 - val_precision: 0.6739 - val_precision_angry: 0.6054 - val_precision_disgust: 0.5211 - val_precision_fear: 0.4871 - val_precision_happy: 0.9076 - val_precision_neutral: 0.6352 - val_precision_sad: 0.7381 - val_precision_surprise: 0.5673 - val_recall: 0.5202 - val_recall_angry: 0.4914 - val_recall_disgust: 0.2937 - val_recall_fear: 0.3155 - val_recall_happy: 0.7708 - val_recall_neutral: 0.5653 - val_recall_sad: 0.0959 - val_recall_surprise: 0.8587 - lr: 0.0010\n",
      "Epoch 5/50\n",
      "740/740 [==============================] - ETA: 0s - loss: 0.7369 - accuracy: 0.7276 - precision: 0.8016 - precision_angry: 0.7694 - precision_disgust: 0.7939 - precision_fear: 0.7259 - precision_happy: 0.9143 - precision_neutral: 0.7460 - precision_sad: 0.6982 - precision_surprise: 0.8263 - recall: 0.6504 - recall_angry: 0.5633 - recall_disgust: 0.5655 - recall_fear: 0.4062 - recall_happy: 0.8941 - recall_neutral: 0.6345 - recall_sad: 0.5100 - recall_surprise: 0.7749\n",
      "Epoch 5: val_loss did not improve from 1.04390\n",
      "740/740 [==============================] - 742s 1s/step - loss: 0.7369 - accuracy: 0.7276 - precision: 0.8016 - precision_angry: 0.7694 - precision_disgust: 0.7939 - precision_fear: 0.7259 - precision_happy: 0.9143 - precision_neutral: 0.7460 - precision_sad: 0.6982 - precision_surprise: 0.8263 - recall: 0.6504 - recall_angry: 0.5633 - recall_disgust: 0.5655 - recall_fear: 0.4062 - recall_happy: 0.8941 - recall_neutral: 0.6345 - recall_sad: 0.5100 - recall_surprise: 0.7749 - val_loss: 1.0912 - val_accuracy: 0.6084 - val_precision: 0.6838 - val_precision_angry: 0.5462 - val_precision_disgust: 0.9444 - val_precision_fear: 0.7838 - val_precision_happy: 0.8911 - val_precision_neutral: 0.6741 - val_precision_sad: 0.4756 - val_precision_surprise: 0.8244 - val_recall: 0.5307 - val_recall_angry: 0.5201 - val_recall_disgust: 0.1360 - val_recall_fear: 0.1037 - val_recall_happy: 0.7823 - val_recall_neutral: 0.4202 - val_recall_sad: 0.5825 - val_recall_surprise: 0.6959 - lr: 0.0010\n",
      "Epoch 6/50\n",
      "740/740 [==============================] - ETA: 0s - loss: 0.6454 - accuracy: 0.7619 - precision: 0.8239 - precision_angry: 0.8082 - precision_disgust: 0.8256 - precision_fear: 0.7404 - precision_happy: 0.9269 - precision_neutral: 0.7841 - precision_sad: 0.7273 - precision_surprise: 0.8531 - recall: 0.6990 - recall_angry: 0.6219 - recall_disgust: 0.6667 - recall_fear: 0.4803 - recall_happy: 0.9070 - recall_neutral: 0.6910 - recall_sad: 0.5816 - recall_surprise: 0.8023\n",
      "Epoch 6: val_loss did not improve from 1.04390\n",
      "740/740 [==============================] - 726s 981ms/step - loss: 0.6454 - accuracy: 0.7619 - precision: 0.8239 - precision_angry: 0.8082 - precision_disgust: 0.8256 - precision_fear: 0.7404 - precision_happy: 0.9269 - precision_neutral: 0.7841 - precision_sad: 0.7273 - precision_surprise: 0.8531 - recall: 0.6990 - recall_angry: 0.6219 - recall_disgust: 0.6667 - recall_fear: 0.4803 - recall_happy: 0.9070 - recall_neutral: 0.6910 - recall_sad: 0.5816 - recall_surprise: 0.8023 - val_loss: 1.1292 - val_accuracy: 0.6243 - val_precision: 0.6833 - val_precision_angry: 0.5729 - val_precision_disgust: 0.6923 - val_precision_fear: 0.7708 - val_precision_happy: 0.7676 - val_precision_neutral: 0.6251 - val_precision_sad: 0.5852 - val_precision_surprise: 0.7424 - val_recall: 0.5667 - val_recall_angry: 0.5603 - val_recall_disgust: 0.5000 - val_recall_fear: 0.1323 - val_recall_happy: 0.8834 - val_recall_neutral: 0.5460 - val_recall_sad: 0.3516 - val_recall_surprise: 0.7842 - lr: 0.0010\n",
      "Epoch 7/50\n",
      "740/740 [==============================] - ETA: 0s - loss: 0.5603 - accuracy: 0.7960 - precision: 0.8433 - precision_angry: 0.8118 - precision_disgust: 0.8598 - precision_fear: 0.7748 - precision_happy: 0.9354 - precision_neutral: 0.8164 - precision_sad: 0.7616 - precision_surprise: 0.8755 - recall: 0.7476 - recall_angry: 0.6871 - recall_disgust: 0.7287 - recall_fear: 0.5602 - recall_happy: 0.9263 - recall_neutral: 0.7470 - recall_sad: 0.6425 - recall_surprise: 0.8240\n",
      "Epoch 7: val_loss did not improve from 1.04390\n",
      "740/740 [==============================] - 733s 991ms/step - loss: 0.5603 - accuracy: 0.7960 - precision: 0.8433 - precision_angry: 0.8118 - precision_disgust: 0.8598 - precision_fear: 0.7748 - precision_happy: 0.9354 - precision_neutral: 0.8164 - precision_sad: 0.7616 - precision_surprise: 0.8755 - recall: 0.7476 - recall_angry: 0.6871 - recall_disgust: 0.7287 - recall_fear: 0.5602 - recall_happy: 0.9263 - recall_neutral: 0.7470 - recall_sad: 0.6425 - recall_surprise: 0.8240 - val_loss: 1.0821 - val_accuracy: 0.6289 - val_precision: 0.6907 - val_precision_angry: 0.6759 - val_precision_disgust: 0.9259 - val_precision_fear: 0.7074 - val_precision_happy: 0.8898 - val_precision_neutral: 0.6411 - val_precision_sad: 0.5066 - val_precision_surprise: 0.6473 - val_recall: 0.5700 - val_recall_angry: 0.4473 - val_recall_disgust: 0.2000 - val_recall_fear: 0.1585 - val_recall_happy: 0.8272 - val_recall_neutral: 0.5119 - val_recall_sad: 0.5515 - val_recall_surprise: 0.8595 - lr: 0.0010\n",
      "Epoch 8/50\n",
      "740/740 [==============================] - ETA: 0s - loss: 0.4690 - accuracy: 0.8305 - precision: 0.8680 - precision_angry: 0.8484 - precision_disgust: 0.8966 - precision_fear: 0.8022 - precision_happy: 0.9488 - precision_neutral: 0.8512 - precision_sad: 0.7953 - precision_surprise: 0.8938 - recall: 0.7949 - recall_angry: 0.7425 - recall_disgust: 0.7917 - recall_fear: 0.6353 - recall_happy: 0.9409 - recall_neutral: 0.7932 - recall_sad: 0.7144 - recall_surprise: 0.8601\n",
      "Epoch 8: val_loss did not improve from 1.04390\n",
      "\n",
      "Epoch 8: ReduceLROnPlateau reducing learning rate to 0.00010000000474974513.\n",
      "740/740 [==============================] - 731s 988ms/step - loss: 0.4690 - accuracy: 0.8305 - precision: 0.8680 - precision_angry: 0.8484 - precision_disgust: 0.8966 - precision_fear: 0.8022 - precision_happy: 0.9488 - precision_neutral: 0.8512 - precision_sad: 0.7953 - precision_surprise: 0.8938 - recall: 0.7949 - recall_angry: 0.7425 - recall_disgust: 0.7917 - recall_fear: 0.6353 - recall_happy: 0.9409 - recall_neutral: 0.7932 - recall_sad: 0.7144 - recall_surprise: 0.8601 - val_loss: 1.1930 - val_accuracy: 0.6457 - val_precision: 0.6844 - val_precision_angry: 0.5963 - val_precision_disgust: 0.8088 - val_precision_fear: 0.5230 - val_precision_happy: 0.8575 - val_precision_neutral: 0.6153 - val_precision_sad: 0.5560 - val_precision_surprise: 0.8151 - val_recall: 0.6099 - val_recall_angry: 0.5122 - val_recall_disgust: 0.4400 - val_recall_fear: 0.4502 - val_recall_happy: 0.8453 - val_recall_neutral: 0.5903 - val_recall_sad: 0.4192 - val_recall_surprise: 0.7523 - lr: 0.0010\n",
      "Epoch 9/50\n",
      "740/740 [==============================] - ETA: 0s - loss: 0.2158 - accuracy: 0.9267 - precision: 0.9405 - precision_angry: 0.9348 - precision_disgust: 0.9433 - precision_fear: 0.9078 - precision_happy: 0.9789 - precision_neutral: 0.9461 - precision_sad: 0.9004 - precision_surprise: 0.9487 - recall: 0.9128 - recall_angry: 0.8914 - recall_disgust: 0.9228 - recall_fear: 0.8205 - recall_happy: 0.9782 - recall_neutral: 0.9207 - recall_sad: 0.8832 - recall_surprise: 0.9405\n",
      "Epoch 9: val_loss did not improve from 1.04390\n",
      "740/740 [==============================] - 738s 997ms/step - loss: 0.2158 - accuracy: 0.9267 - precision: 0.9405 - precision_angry: 0.9348 - precision_disgust: 0.9433 - precision_fear: 0.9078 - precision_happy: 0.9789 - precision_neutral: 0.9461 - precision_sad: 0.9004 - precision_surprise: 0.9487 - recall: 0.9128 - recall_angry: 0.8914 - recall_disgust: 0.9228 - recall_fear: 0.8205 - recall_happy: 0.9782 - recall_neutral: 0.9207 - recall_sad: 0.8832 - recall_surprise: 0.9405 - val_loss: 1.2879 - val_accuracy: 0.6703 - val_precision: 0.6933 - val_precision_angry: 0.6460 - val_precision_disgust: 0.8052 - val_precision_fear: 0.5651 - val_precision_happy: 0.8636 - val_precision_neutral: 0.5987 - val_precision_sad: 0.5749 - val_precision_surprise: 0.8193 - val_recall: 0.6493 - val_recall_angry: 0.5214 - val_recall_disgust: 0.5000 - val_recall_fear: 0.4691 - val_recall_happy: 0.8506 - val_recall_neutral: 0.6460 - val_recall_sad: 0.5428 - val_recall_surprise: 0.7821 - lr: 1.0000e-04\n",
      "Epoch 10/50\n",
      "740/740 [==============================] - ETA: 0s - loss: 0.1134 - accuracy: 0.9626 - precision: 0.9683 - precision_angry: 0.9720 - precision_disgust: 0.9606 - precision_fear: 0.9428 - precision_happy: 0.9896 - precision_neutral: 0.9769 - precision_sad: 0.9489 - precision_surprise: 0.9643 - recall: 0.9572 - recall_angry: 0.9493 - recall_disgust: 0.9663 - recall_fear: 0.9050 - recall_happy: 0.9891 - recall_neutral: 0.9668 - recall_sad: 0.9438 - recall_surprise: 0.9657\n",
      "Epoch 10: val_loss did not improve from 1.04390\n",
      "740/740 [==============================] - 739s 998ms/step - loss: 0.1134 - accuracy: 0.9626 - precision: 0.9683 - precision_angry: 0.9720 - precision_disgust: 0.9606 - precision_fear: 0.9428 - precision_happy: 0.9896 - precision_neutral: 0.9769 - precision_sad: 0.9489 - precision_surprise: 0.9643 - recall: 0.9572 - recall_angry: 0.9493 - recall_disgust: 0.9663 - recall_fear: 0.9050 - recall_happy: 0.9891 - recall_neutral: 0.9668 - recall_sad: 0.9438 - recall_surprise: 0.9657 - val_loss: 1.5122 - val_accuracy: 0.6678 - val_precision: 0.6851 - val_precision_angry: 0.6155 - val_precision_disgust: 0.8649 - val_precision_fear: 0.5442 - val_precision_happy: 0.8546 - val_precision_neutral: 0.6048 - val_precision_sad: 0.5769 - val_precision_surprise: 0.8120 - val_recall: 0.6547 - val_recall_angry: 0.5629 - val_recall_disgust: 0.5203 - val_recall_fear: 0.5202 - val_recall_happy: 0.8546 - val_recall_neutral: 0.6264 - val_recall_sad: 0.5103 - val_recall_surprise: 0.7764 - lr: 1.0000e-04\n",
      "Epoch 11/50\n",
      "740/740 [==============================] - ETA: 0s - loss: 0.0686 - accuracy: 0.9779 - precision: 0.9806 - precision_angry: 0.9832 - precision_disgust: 0.9719 - precision_fear: 0.9660 - precision_happy: 0.9924 - precision_neutral: 0.9901 - precision_sad: 0.9670 - precision_surprise: 0.9770 - recall: 0.9755 - recall_angry: 0.9751 - recall_disgust: 0.9661 - recall_fear: 0.9428 - recall_happy: 0.9934 - recall_neutral: 0.9823 - recall_sad: 0.9710 - recall_surprise: 0.9762\n",
      "Epoch 11: val_loss did not improve from 1.04390\n",
      "740/740 [==============================] - 735s 993ms/step - loss: 0.0686 - accuracy: 0.9779 - precision: 0.9806 - precision_angry: 0.9832 - precision_disgust: 0.9719 - precision_fear: 0.9660 - precision_happy: 0.9924 - precision_neutral: 0.9901 - precision_sad: 0.9670 - precision_surprise: 0.9770 - recall: 0.9755 - recall_angry: 0.9751 - recall_disgust: 0.9661 - recall_fear: 0.9428 - recall_happy: 0.9934 - recall_neutral: 0.9823 - recall_sad: 0.9710 - recall_surprise: 0.9762 - val_loss: 1.7371 - val_accuracy: 0.6654 - val_precision: 0.6762 - val_precision_angry: 0.6270 - val_precision_disgust: 0.8333 - val_precision_fear: 0.5424 - val_precision_happy: 0.8601 - val_precision_neutral: 0.5845 - val_precision_sad: 0.5462 - val_precision_surprise: 0.8378 - val_recall: 0.6559 - val_recall_angry: 0.5268 - val_recall_disgust: 0.4839 - val_recall_fear: 0.5365 - val_recall_happy: 0.8455 - val_recall_neutral: 0.6574 - val_recall_sad: 0.5361 - val_recall_surprise: 0.7515 - lr: 1.0000e-04\n",
      "Epoch 12/50\n",
      "740/740 [==============================] - ETA: 0s - loss: 0.0501 - accuracy: 0.9855 - precision: 0.9869 - precision_angry: 0.9893 - precision_disgust: 0.9667 - precision_fear: 0.9784 - precision_happy: 0.9956 - precision_neutral: 0.9899 - precision_sad: 0.9843 - precision_surprise: 0.9789 - recall: 0.9841 - recall_angry: 0.9836 - recall_disgust: 0.9782 - recall_fear: 0.9686 - recall_happy: 0.9937 - recall_neutral: 0.9906 - recall_sad: 0.9813 - recall_surprise: 0.9785\n",
      "Epoch 12: val_loss did not improve from 1.04390\n",
      "740/740 [==============================] - 722s 976ms/step - loss: 0.0501 - accuracy: 0.9855 - precision: 0.9869 - precision_angry: 0.9893 - precision_disgust: 0.9667 - precision_fear: 0.9784 - precision_happy: 0.9956 - precision_neutral: 0.9899 - precision_sad: 0.9843 - precision_surprise: 0.9789 - recall: 0.9841 - recall_angry: 0.9836 - recall_disgust: 0.9782 - recall_fear: 0.9686 - recall_happy: 0.9937 - recall_neutral: 0.9906 - recall_sad: 0.9813 - recall_surprise: 0.9785 - val_loss: 1.8769 - val_accuracy: 0.6700 - val_precision: 0.6809 - val_precision_angry: 0.6289 - val_precision_disgust: 0.8171 - val_precision_fear: 0.5544 - val_precision_happy: 0.8403 - val_precision_neutral: 0.6233 - val_precision_sad: 0.5373 - val_precision_surprise: 0.8254 - val_recall: 0.6630 - val_recall_angry: 0.5367 - val_recall_disgust: 0.5403 - val_recall_fear: 0.5149 - val_recall_happy: 0.8725 - val_recall_neutral: 0.6220 - val_recall_sad: 0.5711 - val_recall_surprise: 0.7667 - lr: 1.0000e-04\n",
      "Epoch 13/50\n",
      "740/740 [==============================] - ETA: 0s - loss: 0.0356 - accuracy: 0.9899 - precision: 0.9905 - precision_angry: 0.9906 - precision_disgust: 0.9702 - precision_fear: 0.9857 - precision_happy: 0.9959 - precision_neutral: 0.9953 - precision_sad: 0.9892 - precision_surprise: 0.9830 - recall: 0.9892 - recall_angry: 0.9912 - recall_disgust: 0.9663 - recall_fear: 0.9781 - recall_happy: 0.9956 - recall_neutral: 0.9941 - recall_sad: 0.9900 - recall_surprise: 0.9823Restoring model weights from the end of the best epoch: 3.\n",
      "\n",
      "Epoch 13: val_loss did not improve from 1.04390\n",
      "\n",
      "Epoch 13: ReduceLROnPlateau reducing learning rate to 1.0000000474974514e-05.\n",
      "740/740 [==============================] - 735s 993ms/step - loss: 0.0356 - accuracy: 0.9899 - precision: 0.9905 - precision_angry: 0.9906 - precision_disgust: 0.9702 - precision_fear: 0.9857 - precision_happy: 0.9959 - precision_neutral: 0.9953 - precision_sad: 0.9892 - precision_surprise: 0.9830 - recall: 0.9892 - recall_angry: 0.9912 - recall_disgust: 0.9663 - recall_fear: 0.9781 - recall_happy: 0.9956 - recall_neutral: 0.9941 - recall_sad: 0.9900 - recall_surprise: 0.9823 - val_loss: 2.0369 - val_accuracy: 0.6692 - val_precision: 0.6764 - val_precision_angry: 0.6092 - val_precision_disgust: 0.8125 - val_precision_fear: 0.5401 - val_precision_happy: 0.8433 - val_precision_neutral: 0.6188 - val_precision_sad: 0.5517 - val_precision_surprise: 0.8244 - val_recall: 0.6607 - val_recall_angry: 0.5469 - val_recall_disgust: 0.5159 - val_recall_fear: 0.5369 - val_recall_happy: 0.8531 - val_recall_neutral: 0.6274 - val_recall_sad: 0.5670 - val_recall_surprise: 0.7492 - lr: 1.0000e-04\n",
      "Epoch 13: early stopping\n"
     ]
    }
   ],
   "source": [
    "history = model.fit(\n",
    "    train_generator,\n",
    "    steps_per_epoch=train_generator.n//train_generator.batch_size,\n",
    "    epochs=epochs,\n",
    "    validation_data=validation_generator,\n",
    "    validation_steps=validation_generator.n//validation_generator.batch_size,\n",
    "    callbacks=callbacks_list,\n",
    ")"
   ],
   "metadata": {
    "collapsed": false,
    "pycharm": {
     "name": "#%%\n"
    }
   }
  },
  {
   "cell_type": "markdown",
   "source": [
    "### 7. Evaluation - Test set"
   ],
   "metadata": {
    "collapsed": false,
    "pycharm": {
     "name": "#%% md\n"
    }
   }
  },
  {
   "cell_type": "code",
   "execution_count": 10,
   "outputs": [],
   "source": [
    "from keras.models import load_model\n",
    "\n",
    "model = load_model(\"model_mobilenet_transfer_2.h5\")"
   ],
   "metadata": {
    "collapsed": false,
    "pycharm": {
     "name": "#%%\n"
    }
   }
  },
  {
   "cell_type": "code",
   "execution_count": 11,
   "outputs": [
    {
     "name": "stdout",
     "output_type": "stream",
     "text": [
      "Found 7178 images belonging to 7 classes.\n"
     ]
    }
   ],
   "source": [
    "test_data_generator = ImageDataGenerator(preprocessing_function=preprocess_input)\n",
    "\n",
    "test_generator = test_data_generator.flow_from_directory(\n",
    "    DATASET_BASE_TEST_PATH,\n",
    "    target_size=(224, 224),\n",
    "    batch_size=32,\n",
    "    class_mode='categorical',\n",
    "    shuffle=False\n",
    ")"
   ],
   "metadata": {
    "collapsed": false,
    "pycharm": {
     "name": "#%%\n"
    }
   }
  },
  {
   "cell_type": "code",
   "execution_count": 12,
   "outputs": [
    {
     "name": "stdout",
     "output_type": "stream",
     "text": [
      "225/225 [==============================] - 63s 272ms/step - loss: 1.0453 - accuracy: 0.6120 - precision: 0.7150 - precision_angry: 0.5861 - precision_disgust: 0.4872 - precision_fear: 0.5973 - precision_happy: 0.9280 - precision_neutral: 0.6202 - precision_sad: 0.6043 - precision_surprise: 0.7300 - recall: 0.5130 - recall_angry: 0.4582 - recall_disgust: 0.3423 - recall_fear: 0.2158 - recall_happy: 0.7554 - recall_neutral: 0.5085 - recall_sad: 0.2951 - recall_surprise: 0.7810\n"
     ]
    },
    {
     "data": {
      "text/plain": "[1.045314073562622,\n 0.6120089292526245,\n 0.7149514555931091,\n 0.5861148238182068,\n 0.4871794879436493,\n 0.5972973108291626,\n 0.9279778599739075,\n 0.6201780438423157,\n 0.60426926612854,\n 0.7300337553024292,\n 0.5129562616348267,\n 0.4582463502883911,\n 0.342342346906662,\n 0.2158203125,\n 0.7553551197052002,\n 0.5085158348083496,\n 0.29510825872421265,\n 0.7809867858886719]"
     },
     "execution_count": 12,
     "metadata": {},
     "output_type": "execute_result"
    }
   ],
   "source": [
    "model.evaluate(test_generator)"
   ],
   "metadata": {
    "collapsed": false,
    "pycharm": {
     "name": "#%%\n"
    }
   }
  }
 ],
 "metadata": {
  "kernelspec": {
   "display_name": "Python 3",
   "language": "python",
   "name": "python3"
  },
  "language_info": {
   "codemirror_mode": {
    "name": "ipython",
    "version": 2
   },
   "file_extension": ".py",
   "mimetype": "text/x-python",
   "name": "python",
   "nbconvert_exporter": "python",
   "pygments_lexer": "ipython2",
   "version": "2.7.6"
  }
 },
 "nbformat": 4,
 "nbformat_minor": 0
}