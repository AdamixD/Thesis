{
 "cells": [
  {
   "cell_type": "markdown",
   "source": [
    "# Models Conversion"
   ],
   "metadata": {
    "collapsed": false,
    "pycharm": {
     "name": "#%% md\n"
    }
   }
  },
  {
   "cell_type": "markdown",
   "source": [
    "### 0. Imports"
   ],
   "metadata": {
    "collapsed": false,
    "pycharm": {
     "name": "#%% md\n"
    }
   }
  },
  {
   "cell_type": "code",
   "execution_count": 1,
   "metadata": {
    "collapsed": true,
    "pycharm": {
     "name": "#%%\n"
    }
   },
   "outputs": [
    {
     "name": "stderr",
     "output_type": "stream",
     "text": [
      "2023-12-03 22:06:37.471057: I tensorflow/core/platform/cpu_feature_guard.cc:182] This TensorFlow binary is optimized to use available CPU instructions in performance-critical operations.\n",
      "To enable the following instructions: SSE4.1 SSE4.2, in other operations, rebuild TensorFlow with the appropriate compiler flags.\n"
     ]
    }
   ],
   "source": [
    "from coreml_converter import CoreMLConverter"
   ]
  },
  {
   "cell_type": "markdown",
   "source": [
    "### 1. Conversion"
   ],
   "metadata": {
    "collapsed": false,
    "pycharm": {
     "name": "#%% md\n"
    }
   }
  },
  {
   "cell_type": "code",
   "execution_count": 2,
   "outputs": [],
   "source": [
    "LABELS_PATH = \"labels.txt\"\n",
    "IMG_SIZE = 224"
   ],
   "metadata": {
    "collapsed": false,
    "pycharm": {
     "name": "#%%\n"
    }
   }
  },
  {
   "cell_type": "markdown",
   "source": [
    "#### MobileNet"
   ],
   "metadata": {
    "collapsed": false,
    "pycharm": {
     "name": "#%% md\n"
    }
   }
  },
  {
   "cell_type": "markdown",
   "source": [
    "##### MobileNet (base)"
   ],
   "metadata": {
    "collapsed": false,
    "pycharm": {
     "name": "#%% md\n"
    }
   }
  },
  {
   "cell_type": "code",
   "execution_count": 6,
   "outputs": [
    {
     "name": "stderr",
     "output_type": "stream",
     "text": [
      "2023-11-26 11:29:11.152589: I tensorflow/core/grappler/devices.cc:75] Number of eligible GPUs (core count >= 8, compute capability >= 0.0): 0 (Note: TensorFlow was not compiled with CUDA or ROCm support)\n",
      "2023-11-26 11:29:11.439546: I tensorflow/core/grappler/devices.cc:75] Number of eligible GPUs (core count >= 8, compute capability >= 0.0): 0 (Note: TensorFlow was not compiled with CUDA or ROCm support)\n",
      "2023-11-26 11:29:11.687693: I tensorflow/core/grappler/devices.cc:75] Number of eligible GPUs (core count >= 8, compute capability >= 0.0): 0 (Note: TensorFlow was not compiled with CUDA or ROCm support)\n",
      "2023-11-26 11:29:11.902095: I tensorflow/core/grappler/devices.cc:75] Number of eligible GPUs (core count >= 8, compute capability >= 0.0): 0 (Note: TensorFlow was not compiled with CUDA or ROCm support)\n",
      "Running TensorFlow Graph Passes: 100%|██████████| 6/6 [00:00<00:00, 44.21 passes/s]\n",
      "Converting TF Frontend ==> MIL Ops: 100%|██████████| 238/238 [00:00<00:00, 3027.03 ops/s]\n",
      "Running MIL frontend_tensorflow2 pipeline: 100%|██████████| 7/7 [00:00<00:00, 634.69 passes/s]\n",
      "Running MIL default pipeline:   0%|          | 0/65 [00:00<?, ? passes/s]/Users/adamdabkowski/opt/anaconda3/envs/nlp/lib/python3.10/site-packages/coremltools/converters/mil/mil/passes/defs/preprocess.py:239: UserWarning: Input, 'mobilenet_1.00_224_input', of the source model, has been renamed to 'mobilenet_1_00_224_input' in the Core ML model.\n",
      "  warnings.warn(msg.format(var.name, new_name))\n",
      "Running MIL default pipeline: 100%|██████████| 65/65 [00:00<00:00, 135.84 passes/s]\n",
      "Running MIL backend_neuralnetwork pipeline: 100%|██████████| 9/9 [00:00<00:00, 1274.26 passes/s]\n",
      "Translating MIL ==> NeuralNetwork Ops: 100%|██████████| 273/273 [00:00<00:00, 924.91 ops/s] \n"
     ]
    }
   ],
   "source": [
    "TENSORFLOW_MODEL = \"models_tf/model_mobilenet_base.h5\"\n",
    "COREML_MODEL_NAME = \"MobileNetBase\"\n",
    "\n",
    "converter = CoreMLConverter(tf_model_path=TENSORFLOW_MODEL)\n",
    "converter.convert_to_coreml(labels_path=LABELS_PATH, img_size=IMG_SIZE, scale_mode=2)\n",
    "converter.save_coreml_model(model_name=COREML_MODEL_NAME)"
   ],
   "metadata": {
    "collapsed": false,
    "pycharm": {
     "name": "#%%\n"
    }
   }
  },
  {
   "cell_type": "markdown",
   "source": [
    "##### MobileNet (transfer)"
   ],
   "metadata": {
    "collapsed": false,
    "pycharm": {
     "name": "#%% md\n"
    }
   }
  },
  {
   "cell_type": "code",
   "execution_count": 7,
   "outputs": [
    {
     "name": "stderr",
     "output_type": "stream",
     "text": [
      "2023-11-26 11:29:17.100627: I tensorflow/core/grappler/devices.cc:75] Number of eligible GPUs (core count >= 8, compute capability >= 0.0): 0 (Note: TensorFlow was not compiled with CUDA or ROCm support)\n",
      "2023-11-26 11:29:17.324509: I tensorflow/core/grappler/devices.cc:75] Number of eligible GPUs (core count >= 8, compute capability >= 0.0): 0 (Note: TensorFlow was not compiled with CUDA or ROCm support)\n",
      "2023-11-26 11:29:17.521803: I tensorflow/core/grappler/devices.cc:75] Number of eligible GPUs (core count >= 8, compute capability >= 0.0): 0 (Note: TensorFlow was not compiled with CUDA or ROCm support)\n",
      "2023-11-26 11:29:17.747615: I tensorflow/core/grappler/devices.cc:75] Number of eligible GPUs (core count >= 8, compute capability >= 0.0): 0 (Note: TensorFlow was not compiled with CUDA or ROCm support)\n",
      "Running TensorFlow Graph Passes: 100%|██████████| 6/6 [00:00<00:00, 49.53 passes/s]\n",
      "Converting TF Frontend ==> MIL Ops: 100%|██████████| 238/238 [00:00<00:00, 3026.03 ops/s]\n",
      "Running MIL frontend_tensorflow2 pipeline: 100%|██████████| 7/7 [00:00<00:00, 693.00 passes/s]\n",
      "Running MIL default pipeline: 100%|██████████| 65/65 [00:00<00:00, 132.04 passes/s]\n",
      "Running MIL backend_neuralnetwork pipeline: 100%|██████████| 9/9 [00:00<00:00, 1210.75 passes/s]\n",
      "Translating MIL ==> NeuralNetwork Ops: 100%|██████████| 273/273 [00:00<00:00, 915.94 ops/s] \n"
     ]
    }
   ],
   "source": [
    "TENSORFLOW_MODEL = \"models_tf/model_mobilenet_transfer.h5\"\n",
    "COREML_MODEL_NAME = \"MobileNetTransfer\"\n",
    "\n",
    "converter = CoreMLConverter(tf_model_path=TENSORFLOW_MODEL)\n",
    "converter.convert_to_coreml(labels_path=LABELS_PATH, img_size=IMG_SIZE, scale_mode=2)\n",
    "converter.save_coreml_model(model_name=COREML_MODEL_NAME)"
   ],
   "metadata": {
    "collapsed": false,
    "pycharm": {
     "name": "#%%\n"
    }
   }
  },
  {
   "cell_type": "markdown",
   "source": [
    "##### MobileNet (transfer + data augmentation)"
   ],
   "metadata": {
    "collapsed": false,
    "pycharm": {
     "name": "#%% md\n"
    }
   }
  },
  {
   "cell_type": "code",
   "execution_count": 8,
   "outputs": [
    {
     "name": "stderr",
     "output_type": "stream",
     "text": [
      "2023-11-26 11:29:22.899600: I tensorflow/core/grappler/devices.cc:75] Number of eligible GPUs (core count >= 8, compute capability >= 0.0): 0 (Note: TensorFlow was not compiled with CUDA or ROCm support)\n",
      "2023-11-26 11:29:23.113039: I tensorflow/core/grappler/devices.cc:75] Number of eligible GPUs (core count >= 8, compute capability >= 0.0): 0 (Note: TensorFlow was not compiled with CUDA or ROCm support)\n",
      "2023-11-26 11:29:23.314462: I tensorflow/core/grappler/devices.cc:75] Number of eligible GPUs (core count >= 8, compute capability >= 0.0): 0 (Note: TensorFlow was not compiled with CUDA or ROCm support)\n",
      "2023-11-26 11:29:23.531437: I tensorflow/core/grappler/devices.cc:75] Number of eligible GPUs (core count >= 8, compute capability >= 0.0): 0 (Note: TensorFlow was not compiled with CUDA or ROCm support)\n",
      "Running TensorFlow Graph Passes: 100%|██████████| 6/6 [00:00<00:00, 49.57 passes/s]\n",
      "Converting TF Frontend ==> MIL Ops: 100%|██████████| 238/238 [00:00<00:00, 3018.39 ops/s]\n",
      "Running MIL frontend_tensorflow2 pipeline: 100%|██████████| 7/7 [00:00<00:00, 648.99 passes/s]\n",
      "Running MIL default pipeline: 100%|██████████| 65/65 [00:00<00:00, 138.50 passes/s]\n",
      "Running MIL backend_neuralnetwork pipeline: 100%|██████████| 9/9 [00:00<00:00, 1279.10 passes/s]\n",
      "Translating MIL ==> NeuralNetwork Ops: 100%|██████████| 273/273 [00:00<00:00, 933.08 ops/s] \n"
     ]
    }
   ],
   "source": [
    "TENSORFLOW_MODEL = \"models_tf/model_mobilenet_transfer_data_augmentation.h5\"\n",
    "COREML_MODEL_NAME = \"MobileNetTransferDataAugmentation\"\n",
    "\n",
    "converter = CoreMLConverter(tf_model_path=TENSORFLOW_MODEL)\n",
    "converter.convert_to_coreml(labels_path=LABELS_PATH, img_size=IMG_SIZE, scale_mode=2)\n",
    "converter.save_coreml_model(model_name=COREML_MODEL_NAME)"
   ],
   "metadata": {
    "collapsed": false,
    "pycharm": {
     "name": "#%%\n"
    }
   }
  },
  {
   "cell_type": "markdown",
   "source": [
    "##### MobileNet (transfer + data augmentation - balanced)"
   ],
   "metadata": {
    "collapsed": false,
    "pycharm": {
     "name": "#%% md\n"
    }
   }
  },
  {
   "cell_type": "code",
   "execution_count": 3,
   "outputs": [
    {
     "name": "stderr",
     "output_type": "stream",
     "text": [
      "2023-12-03 22:07:22.008978: I tensorflow/core/grappler/devices.cc:75] Number of eligible GPUs (core count >= 8, compute capability >= 0.0): 0 (Note: TensorFlow was not compiled with CUDA or ROCm support)\n",
      "2023-12-03 22:07:22.288669: I tensorflow/core/grappler/devices.cc:75] Number of eligible GPUs (core count >= 8, compute capability >= 0.0): 0 (Note: TensorFlow was not compiled with CUDA or ROCm support)\n",
      "2023-12-03 22:07:22.528136: I tensorflow/core/grappler/devices.cc:75] Number of eligible GPUs (core count >= 8, compute capability >= 0.0): 0 (Note: TensorFlow was not compiled with CUDA or ROCm support)\n",
      "2023-12-03 22:07:22.777241: I tensorflow/core/grappler/devices.cc:75] Number of eligible GPUs (core count >= 8, compute capability >= 0.0): 0 (Note: TensorFlow was not compiled with CUDA or ROCm support)\n",
      "Running TensorFlow Graph Passes: 100%|██████████| 6/6 [00:00<00:00, 28.22 passes/s]\n",
      "Converting TF Frontend ==> MIL Ops: 100%|██████████| 238/238 [00:00<00:00, 2717.11 ops/s]\n",
      "Running MIL frontend_tensorflow2 pipeline: 100%|██████████| 7/7 [00:00<00:00, 642.79 passes/s]\n",
      "Running MIL default pipeline:   0%|          | 0/65 [00:00<?, ? passes/s]/Users/adamdabkowski/opt/anaconda3/envs/nlp/lib/python3.10/site-packages/coremltools/converters/mil/mil/passes/defs/preprocess.py:239: UserWarning: Input, 'mobilenet_1.00_224_input', of the source model, has been renamed to 'mobilenet_1_00_224_input' in the Core ML model.\n",
      "  warnings.warn(msg.format(var.name, new_name))\n",
      "Running MIL default pipeline: 100%|██████████| 65/65 [00:00<00:00, 122.43 passes/s]\n",
      "Running MIL backend_neuralnetwork pipeline: 100%|██████████| 9/9 [00:00<00:00, 1059.08 passes/s]\n",
      "Translating MIL ==> NeuralNetwork Ops: 100%|██████████| 273/273 [00:00<00:00, 797.25 ops/s] \n"
     ]
    }
   ],
   "source": [
    "TENSORFLOW_MODEL = \"models_tf/model_mobilenet_transfer_data_augmentation_balanced.h5\"\n",
    "COREML_MODEL_NAME = \"MobileNetTransferDataAugmentationBalanced\"\n",
    "\n",
    "converter = CoreMLConverter(tf_model_path=TENSORFLOW_MODEL)\n",
    "converter.convert_to_coreml(labels_path=LABELS_PATH, img_size=IMG_SIZE, scale_mode=2)\n",
    "converter.save_coreml_model(model_name=COREML_MODEL_NAME)"
   ],
   "metadata": {
    "collapsed": false,
    "pycharm": {
     "name": "#%%\n"
    }
   }
  },
  {
   "cell_type": "markdown",
   "source": [
    "#### MobileNetV2"
   ],
   "metadata": {
    "collapsed": false,
    "pycharm": {
     "name": "#%% md\n"
    }
   }
  },
  {
   "cell_type": "markdown",
   "source": [
    "##### MobileNetV2 (base)"
   ],
   "metadata": {
    "collapsed": false,
    "pycharm": {
     "name": "#%% md\n"
    }
   }
  },
  {
   "cell_type": "code",
   "execution_count": 9,
   "outputs": [
    {
     "name": "stderr",
     "output_type": "stream",
     "text": [
      "2023-11-26 11:35:42.870667: I tensorflow/core/grappler/devices.cc:75] Number of eligible GPUs (core count >= 8, compute capability >= 0.0): 0 (Note: TensorFlow was not compiled with CUDA or ROCm support)\n",
      "2023-11-26 11:35:43.278096: I tensorflow/core/grappler/devices.cc:75] Number of eligible GPUs (core count >= 8, compute capability >= 0.0): 0 (Note: TensorFlow was not compiled with CUDA or ROCm support)\n",
      "2023-11-26 11:35:43.604424: I tensorflow/core/grappler/devices.cc:75] Number of eligible GPUs (core count >= 8, compute capability >= 0.0): 0 (Note: TensorFlow was not compiled with CUDA or ROCm support)\n",
      "2023-11-26 11:35:43.969536: I tensorflow/core/grappler/devices.cc:75] Number of eligible GPUs (core count >= 8, compute capability >= 0.0): 0 (Note: TensorFlow was not compiled with CUDA or ROCm support)\n",
      "Running TensorFlow Graph Passes: 100%|██████████| 6/6 [00:00<00:00, 37.97 passes/s]\n",
      "Converting TF Frontend ==> MIL Ops: 100%|██████████| 431/431 [00:00<00:00, 1846.14 ops/s]\n",
      "Running MIL frontend_tensorflow2 pipeline: 100%|██████████| 7/7 [00:00<00:00, 274.52 passes/s]\n",
      "Running MIL default pipeline:   5%|▍         | 3/65 [00:00<00:02, 23.37 passes/s]/Users/adamdabkowski/opt/anaconda3/envs/nlp/lib/python3.10/site-packages/coremltools/converters/mil/mil/passes/defs/preprocess.py:239: UserWarning: Input, 'mobilenetv2_1.00_224_input', of the source model, has been renamed to 'mobilenetv2_1_00_224_input' in the Core ML model.\n",
      "  warnings.warn(msg.format(var.name, new_name))\n",
      "Running MIL default pipeline: 100%|██████████| 65/65 [00:01<00:00, 58.85 passes/s]\n",
      "Running MIL backend_neuralnetwork pipeline: 100%|██████████| 9/9 [00:00<00:00, 631.93 passes/s]\n",
      "Translating MIL ==> NeuralNetwork Ops: 100%|██████████| 491/491 [00:00<00:00, 2021.57 ops/s]\n"
     ]
    }
   ],
   "source": [
    "TENSORFLOW_MODEL = \"models_tf/model_mobilenet_v2_base.h5\"\n",
    "COREML_MODEL_NAME = \"MobileNetV2Base\"\n",
    "\n",
    "converter = CoreMLConverter(tf_model_path=TENSORFLOW_MODEL)\n",
    "converter.convert_to_coreml(labels_path=LABELS_PATH, img_size=IMG_SIZE, scale_mode=2)\n",
    "converter.save_coreml_model(model_name=COREML_MODEL_NAME)"
   ],
   "metadata": {
    "collapsed": false,
    "pycharm": {
     "name": "#%%\n"
    }
   }
  },
  {
   "cell_type": "markdown",
   "source": [
    "##### MobileNetV2 (transfer)"
   ],
   "metadata": {
    "collapsed": false,
    "pycharm": {
     "name": "#%% md\n"
    }
   }
  },
  {
   "cell_type": "code",
   "execution_count": 10,
   "outputs": [
    {
     "name": "stderr",
     "output_type": "stream",
     "text": [
      "2023-11-26 11:35:50.719388: I tensorflow/core/grappler/devices.cc:75] Number of eligible GPUs (core count >= 8, compute capability >= 0.0): 0 (Note: TensorFlow was not compiled with CUDA or ROCm support)\n",
      "2023-11-26 11:35:51.087012: I tensorflow/core/grappler/devices.cc:75] Number of eligible GPUs (core count >= 8, compute capability >= 0.0): 0 (Note: TensorFlow was not compiled with CUDA or ROCm support)\n",
      "2023-11-26 11:35:51.431724: I tensorflow/core/grappler/devices.cc:75] Number of eligible GPUs (core count >= 8, compute capability >= 0.0): 0 (Note: TensorFlow was not compiled with CUDA or ROCm support)\n",
      "2023-11-26 11:35:51.817830: I tensorflow/core/grappler/devices.cc:75] Number of eligible GPUs (core count >= 8, compute capability >= 0.0): 0 (Note: TensorFlow was not compiled with CUDA or ROCm support)\n",
      "Running TensorFlow Graph Passes: 100%|██████████| 6/6 [00:00<00:00, 41.06 passes/s]\n",
      "Converting TF Frontend ==> MIL Ops: 100%|██████████| 431/431 [00:00<00:00, 2553.30 ops/s]\n",
      "Running MIL frontend_tensorflow2 pipeline: 100%|██████████| 7/7 [00:00<00:00, 354.77 passes/s]\n",
      "Running MIL default pipeline: 100%|██████████| 65/65 [00:01<00:00, 61.82 passes/s]\n",
      "Running MIL backend_neuralnetwork pipeline: 100%|██████████| 9/9 [00:00<00:00, 744.11 passes/s]\n",
      "Translating MIL ==> NeuralNetwork Ops: 100%|██████████| 491/491 [00:00<00:00, 2124.56 ops/s]\n"
     ]
    }
   ],
   "source": [
    "TENSORFLOW_MODEL = \"models_tf/model_mobilenet_v2_transfer.h5\"\n",
    "COREML_MODEL_NAME = \"MobileNetV2Transfer\"\n",
    "\n",
    "converter = CoreMLConverter(tf_model_path=TENSORFLOW_MODEL)\n",
    "converter.convert_to_coreml(labels_path=LABELS_PATH, img_size=IMG_SIZE, scale_mode=2)\n",
    "converter.save_coreml_model(model_name=COREML_MODEL_NAME)"
   ],
   "metadata": {
    "collapsed": false,
    "pycharm": {
     "name": "#%%\n"
    }
   }
  },
  {
   "cell_type": "markdown",
   "source": [
    "##### MobileNetV2 (transfer + data augmentation)"
   ],
   "metadata": {
    "collapsed": false,
    "pycharm": {
     "name": "#%% md\n"
    }
   }
  },
  {
   "cell_type": "code",
   "execution_count": 11,
   "outputs": [
    {
     "name": "stderr",
     "output_type": "stream",
     "text": [
      "2023-11-26 11:35:58.038937: I tensorflow/core/grappler/devices.cc:75] Number of eligible GPUs (core count >= 8, compute capability >= 0.0): 0 (Note: TensorFlow was not compiled with CUDA or ROCm support)\n",
      "2023-11-26 11:35:58.401694: I tensorflow/core/grappler/devices.cc:75] Number of eligible GPUs (core count >= 8, compute capability >= 0.0): 0 (Note: TensorFlow was not compiled with CUDA or ROCm support)\n",
      "2023-11-26 11:35:58.735820: I tensorflow/core/grappler/devices.cc:75] Number of eligible GPUs (core count >= 8, compute capability >= 0.0): 0 (Note: TensorFlow was not compiled with CUDA or ROCm support)\n",
      "2023-11-26 11:35:59.104066: I tensorflow/core/grappler/devices.cc:75] Number of eligible GPUs (core count >= 8, compute capability >= 0.0): 0 (Note: TensorFlow was not compiled with CUDA or ROCm support)\n",
      "Running TensorFlow Graph Passes: 100%|██████████| 6/6 [00:00<00:00, 42.39 passes/s]\n",
      "Converting TF Frontend ==> MIL Ops: 100%|██████████| 431/431 [00:00<00:00, 2522.27 ops/s]\n",
      "Running MIL frontend_tensorflow2 pipeline: 100%|██████████| 7/7 [00:00<00:00, 334.67 passes/s]\n",
      "Running MIL default pipeline: 100%|██████████| 65/65 [00:01<00:00, 64.29 passes/s] \n",
      "Running MIL backend_neuralnetwork pipeline: 100%|██████████| 9/9 [00:00<00:00, 752.70 passes/s]\n",
      "Translating MIL ==> NeuralNetwork Ops: 100%|██████████| 491/491 [00:00<00:00, 1999.75 ops/s]\n"
     ]
    }
   ],
   "source": [
    "TENSORFLOW_MODEL = \"models_tf/model_mobilenet_v2_transfer_data_augmentation.h5\"\n",
    "COREML_MODEL_NAME = \"MobileNetV2TransferDataAugmentation\"\n",
    "\n",
    "converter = CoreMLConverter(tf_model_path=TENSORFLOW_MODEL)\n",
    "converter.convert_to_coreml(labels_path=LABELS_PATH, img_size=IMG_SIZE, scale_mode=2)\n",
    "converter.save_coreml_model(model_name=COREML_MODEL_NAME)"
   ],
   "metadata": {
    "collapsed": false,
    "pycharm": {
     "name": "#%%\n"
    }
   }
  },
  {
   "cell_type": "markdown",
   "source": [
    "##### MobileNetV2 (transfer + data augmentation - balanced)"
   ],
   "metadata": {
    "collapsed": false,
    "pycharm": {
     "name": "#%% md\n"
    }
   }
  },
  {
   "cell_type": "code",
   "execution_count": 4,
   "outputs": [
    {
     "name": "stderr",
     "output_type": "stream",
     "text": [
      "2023-12-03 22:08:23.765159: I tensorflow/core/grappler/devices.cc:75] Number of eligible GPUs (core count >= 8, compute capability >= 0.0): 0 (Note: TensorFlow was not compiled with CUDA or ROCm support)\n",
      "2023-12-03 22:08:24.138731: I tensorflow/core/grappler/devices.cc:75] Number of eligible GPUs (core count >= 8, compute capability >= 0.0): 0 (Note: TensorFlow was not compiled with CUDA or ROCm support)\n",
      "2023-12-03 22:08:24.469908: I tensorflow/core/grappler/devices.cc:75] Number of eligible GPUs (core count >= 8, compute capability >= 0.0): 0 (Note: TensorFlow was not compiled with CUDA or ROCm support)\n",
      "2023-12-03 22:08:24.830075: I tensorflow/core/grappler/devices.cc:75] Number of eligible GPUs (core count >= 8, compute capability >= 0.0): 0 (Note: TensorFlow was not compiled with CUDA or ROCm support)\n",
      "Running TensorFlow Graph Passes: 100%|██████████| 6/6 [00:00<00:00, 46.24 passes/s]\n",
      "Converting TF Frontend ==> MIL Ops: 100%|██████████| 431/431 [00:00<00:00, 2776.99 ops/s]\n",
      "Running MIL frontend_tensorflow2 pipeline: 100%|██████████| 7/7 [00:00<00:00, 401.03 passes/s]\n",
      "Running MIL default pipeline:   5%|▍         | 3/65 [00:00<00:02, 28.11 passes/s]/Users/adamdabkowski/opt/anaconda3/envs/nlp/lib/python3.10/site-packages/coremltools/converters/mil/mil/passes/defs/preprocess.py:239: UserWarning: Input, 'mobilenetv2_1.00_224_input', of the source model, has been renamed to 'mobilenetv2_1_00_224_input' in the Core ML model.\n",
      "  warnings.warn(msg.format(var.name, new_name))\n",
      "Running MIL default pipeline: 100%|██████████| 65/65 [00:00<00:00, 66.24 passes/s] \n",
      "Running MIL backend_neuralnetwork pipeline: 100%|██████████| 9/9 [00:00<00:00, 772.73 passes/s]\n",
      "Translating MIL ==> NeuralNetwork Ops: 100%|██████████| 491/491 [00:00<00:00, 2168.36 ops/s]\n"
     ]
    }
   ],
   "source": [
    "TENSORFLOW_MODEL = \"models_tf/model_mobilenet_v2_transfer_data_augmentation_balanced.h5\"\n",
    "COREML_MODEL_NAME = \"MobileNetV2TransferDataAugmentationBalanced\"\n",
    "\n",
    "converter = CoreMLConverter(tf_model_path=TENSORFLOW_MODEL)\n",
    "converter.convert_to_coreml(labels_path=LABELS_PATH, img_size=IMG_SIZE, scale_mode=2)\n",
    "converter.save_coreml_model(model_name=COREML_MODEL_NAME)"
   ],
   "metadata": {
    "collapsed": false,
    "pycharm": {
     "name": "#%%\n"
    }
   }
  },
  {
   "cell_type": "markdown",
   "source": [
    "#### MobileNetV3"
   ],
   "metadata": {
    "collapsed": false,
    "pycharm": {
     "name": "#%% md\n"
    }
   }
  },
  {
   "cell_type": "markdown",
   "source": [
    "##### MobileNetV3 (base)"
   ],
   "metadata": {
    "collapsed": false,
    "pycharm": {
     "name": "#%% md\n"
    }
   }
  },
  {
   "cell_type": "code",
   "execution_count": 15,
   "outputs": [
    {
     "name": "stderr",
     "output_type": "stream",
     "text": [
      "2023-11-26 11:48:25.904108: I tensorflow/core/grappler/devices.cc:75] Number of eligible GPUs (core count >= 8, compute capability >= 0.0): 0 (Note: TensorFlow was not compiled with CUDA or ROCm support)\n",
      "2023-11-26 11:48:26.378316: I tensorflow/core/grappler/devices.cc:75] Number of eligible GPUs (core count >= 8, compute capability >= 0.0): 0 (Note: TensorFlow was not compiled with CUDA or ROCm support)\n",
      "2023-11-26 11:48:26.819598: I tensorflow/core/grappler/devices.cc:75] Number of eligible GPUs (core count >= 8, compute capability >= 0.0): 0 (Note: TensorFlow was not compiled with CUDA or ROCm support)\n",
      "2023-11-26 11:48:27.521169: I tensorflow/core/grappler/devices.cc:75] Number of eligible GPUs (core count >= 8, compute capability >= 0.0): 0 (Note: TensorFlow was not compiled with CUDA or ROCm support)\n",
      "Running TensorFlow Graph Passes: 100%|██████████| 6/6 [00:00<00:00, 30.42 passes/s]\n",
      "Converting TF Frontend ==> MIL Ops: 100%|██████████| 625/625 [00:00<00:00, 2257.83 ops/s]\n",
      "Running MIL frontend_tensorflow2 pipeline: 100%|██████████| 7/7 [00:00<00:00, 277.70 passes/s]\n",
      "Running MIL default pipeline: 100%|██████████| 65/65 [00:01<00:00, 44.63 passes/s]\n",
      "Running MIL backend_neuralnetwork pipeline: 100%|██████████| 9/9 [00:00<00:00, 459.28 passes/s]\n",
      "Translating MIL ==> NeuralNetwork Ops: 100%|██████████| 735/735 [00:00<00:00, 2437.37 ops/s]\n"
     ]
    }
   ],
   "source": [
    "TENSORFLOW_MODEL = \"models_tf/model_mobilenet_v3_base.h5\"\n",
    "COREML_MODEL_NAME = \"MobileNetV3Base\"\n",
    "\n",
    "converter = CoreMLConverter(tf_model_path=TENSORFLOW_MODEL)\n",
    "converter.convert_to_coreml(labels_path=LABELS_PATH, img_size=IMG_SIZE, scale_mode=3)\n",
    "converter.save_coreml_model(model_name=COREML_MODEL_NAME)"
   ],
   "metadata": {
    "collapsed": false,
    "pycharm": {
     "name": "#%%\n"
    }
   }
  },
  {
   "cell_type": "markdown",
   "source": [
    "##### MobileNetV3 (transfer)"
   ],
   "metadata": {
    "collapsed": false,
    "pycharm": {
     "name": "#%% md\n"
    }
   }
  },
  {
   "cell_type": "code",
   "execution_count": 16,
   "outputs": [
    {
     "name": "stderr",
     "output_type": "stream",
     "text": [
      "2023-11-26 11:48:36.105400: I tensorflow/core/grappler/devices.cc:75] Number of eligible GPUs (core count >= 8, compute capability >= 0.0): 0 (Note: TensorFlow was not compiled with CUDA or ROCm support)\n",
      "2023-11-26 11:48:36.539175: I tensorflow/core/grappler/devices.cc:75] Number of eligible GPUs (core count >= 8, compute capability >= 0.0): 0 (Note: TensorFlow was not compiled with CUDA or ROCm support)\n",
      "2023-11-26 11:48:36.965277: I tensorflow/core/grappler/devices.cc:75] Number of eligible GPUs (core count >= 8, compute capability >= 0.0): 0 (Note: TensorFlow was not compiled with CUDA or ROCm support)\n",
      "2023-11-26 11:48:37.544152: I tensorflow/core/grappler/devices.cc:75] Number of eligible GPUs (core count >= 8, compute capability >= 0.0): 0 (Note: TensorFlow was not compiled with CUDA or ROCm support)\n",
      "Running TensorFlow Graph Passes: 100%|██████████| 6/6 [00:00<00:00, 36.90 passes/s]\n",
      "Converting TF Frontend ==> MIL Ops: 100%|██████████| 625/625 [00:00<00:00, 3151.22 ops/s]\n",
      "Running MIL frontend_tensorflow2 pipeline: 100%|██████████| 7/7 [00:00<00:00, 290.48 passes/s]\n",
      "Running MIL default pipeline: 100%|██████████| 65/65 [00:01<00:00, 46.94 passes/s]\n",
      "Running MIL backend_neuralnetwork pipeline: 100%|██████████| 9/9 [00:00<00:00, 476.19 passes/s]\n",
      "Translating MIL ==> NeuralNetwork Ops: 100%|██████████| 735/735 [00:00<00:00, 2492.65 ops/s]\n"
     ]
    }
   ],
   "source": [
    "TENSORFLOW_MODEL = \"models_tf/model_mobilenet_v3_transfer.h5\"\n",
    "COREML_MODEL_NAME = \"MobileNetV3Transfer\"\n",
    "\n",
    "converter = CoreMLConverter(tf_model_path=TENSORFLOW_MODEL)\n",
    "converter.convert_to_coreml(labels_path=LABELS_PATH, img_size=IMG_SIZE, scale_mode=3)\n",
    "converter.save_coreml_model(model_name=COREML_MODEL_NAME)"
   ],
   "metadata": {
    "collapsed": false,
    "pycharm": {
     "name": "#%%\n"
    }
   }
  },
  {
   "cell_type": "markdown",
   "source": [
    "##### MobileNetV3 (transfer + data augmentation)"
   ],
   "metadata": {
    "collapsed": false,
    "pycharm": {
     "name": "#%% md\n"
    }
   }
  },
  {
   "cell_type": "code",
   "execution_count": 17,
   "outputs": [
    {
     "name": "stderr",
     "output_type": "stream",
     "text": [
      "2023-11-26 11:48:45.789404: I tensorflow/core/grappler/devices.cc:75] Number of eligible GPUs (core count >= 8, compute capability >= 0.0): 0 (Note: TensorFlow was not compiled with CUDA or ROCm support)\n",
      "2023-11-26 11:48:46.219607: I tensorflow/core/grappler/devices.cc:75] Number of eligible GPUs (core count >= 8, compute capability >= 0.0): 0 (Note: TensorFlow was not compiled with CUDA or ROCm support)\n",
      "2023-11-26 11:48:46.616055: I tensorflow/core/grappler/devices.cc:75] Number of eligible GPUs (core count >= 8, compute capability >= 0.0): 0 (Note: TensorFlow was not compiled with CUDA or ROCm support)\n",
      "2023-11-26 11:48:47.175119: I tensorflow/core/grappler/devices.cc:75] Number of eligible GPUs (core count >= 8, compute capability >= 0.0): 0 (Note: TensorFlow was not compiled with CUDA or ROCm support)\n",
      "Running TensorFlow Graph Passes: 100%|██████████| 6/6 [00:00<00:00, 36.87 passes/s]\n",
      "Converting TF Frontend ==> MIL Ops: 100%|██████████| 625/625 [00:00<00:00, 2979.61 ops/s]\n",
      "Running MIL frontend_tensorflow2 pipeline: 100%|██████████| 7/7 [00:00<00:00, 282.74 passes/s]\n",
      "Running MIL default pipeline: 100%|██████████| 65/65 [00:01<00:00, 43.64 passes/s]\n",
      "Running MIL backend_neuralnetwork pipeline: 100%|██████████| 9/9 [00:00<00:00, 474.06 passes/s]\n",
      "Translating MIL ==> NeuralNetwork Ops: 100%|██████████| 735/735 [00:00<00:00, 2446.56 ops/s]\n"
     ]
    }
   ],
   "source": [
    "TENSORFLOW_MODEL = \"models_tf/model_mobilenet_v3_transfer_data_augmentation.h5\"\n",
    "COREML_MODEL_NAME = \"MobileNetV3TransferDataAugmentation\"\n",
    "\n",
    "converter = CoreMLConverter(tf_model_path=TENSORFLOW_MODEL)\n",
    "converter.convert_to_coreml(labels_path=LABELS_PATH, img_size=IMG_SIZE, scale_mode=3)\n",
    "converter.save_coreml_model(model_name=COREML_MODEL_NAME)"
   ],
   "metadata": {
    "collapsed": false,
    "pycharm": {
     "name": "#%%\n"
    }
   }
  },
  {
   "cell_type": "markdown",
   "source": [
    "##### MobileNetV3 (transfer + data augmentation - balanced)"
   ],
   "metadata": {
    "collapsed": false,
    "pycharm": {
     "name": "#%% md\n"
    }
   }
  },
  {
   "cell_type": "code",
   "execution_count": 5,
   "outputs": [
    {
     "name": "stderr",
     "output_type": "stream",
     "text": [
      "2023-12-03 22:09:24.873652: I tensorflow/core/grappler/devices.cc:75] Number of eligible GPUs (core count >= 8, compute capability >= 0.0): 0 (Note: TensorFlow was not compiled with CUDA or ROCm support)\n",
      "2023-12-03 22:09:25.319025: I tensorflow/core/grappler/devices.cc:75] Number of eligible GPUs (core count >= 8, compute capability >= 0.0): 0 (Note: TensorFlow was not compiled with CUDA or ROCm support)\n",
      "2023-12-03 22:09:25.726386: I tensorflow/core/grappler/devices.cc:75] Number of eligible GPUs (core count >= 8, compute capability >= 0.0): 0 (Note: TensorFlow was not compiled with CUDA or ROCm support)\n",
      "2023-12-03 22:09:26.276147: I tensorflow/core/grappler/devices.cc:75] Number of eligible GPUs (core count >= 8, compute capability >= 0.0): 0 (Note: TensorFlow was not compiled with CUDA or ROCm support)\n",
      "Running TensorFlow Graph Passes: 100%|██████████| 6/6 [00:00<00:00, 39.99 passes/s]\n",
      "Converting TF Frontend ==> MIL Ops: 100%|██████████| 625/625 [00:00<00:00, 3300.58 ops/s]\n",
      "Running MIL frontend_tensorflow2 pipeline: 100%|██████████| 7/7 [00:00<00:00, 326.33 passes/s]\n",
      "Running MIL default pipeline: 100%|██████████| 65/65 [00:01<00:00, 45.77 passes/s]\n",
      "Running MIL backend_neuralnetwork pipeline: 100%|██████████| 9/9 [00:00<00:00, 470.72 passes/s]\n",
      "Translating MIL ==> NeuralNetwork Ops: 100%|██████████| 735/735 [00:00<00:00, 2555.56 ops/s]\n"
     ]
    }
   ],
   "source": [
    "TENSORFLOW_MODEL = \"models_tf/model_mobilenet_v3_transfer_data_augmentation_balanced.h5\"\n",
    "COREML_MODEL_NAME = \"MobileNetV3TransferDataAugmentationBalanced\"\n",
    "\n",
    "converter = CoreMLConverter(tf_model_path=TENSORFLOW_MODEL)\n",
    "converter.convert_to_coreml(labels_path=LABELS_PATH, img_size=IMG_SIZE, scale_mode=3)\n",
    "converter.save_coreml_model(model_name=COREML_MODEL_NAME)"
   ],
   "metadata": {
    "collapsed": false,
    "pycharm": {
     "name": "#%%\n"
    }
   }
  },
  {
   "cell_type": "markdown",
   "source": [
    "#### ResNet"
   ],
   "metadata": {
    "collapsed": false,
    "pycharm": {
     "name": "#%% md\n"
    }
   }
  },
  {
   "cell_type": "markdown",
   "source": [
    "##### ResNet50 (base)"
   ],
   "metadata": {
    "collapsed": false,
    "pycharm": {
     "name": "#%% md\n"
    }
   }
  },
  {
   "cell_type": "code",
   "execution_count": 25,
   "outputs": [
    {
     "name": "stderr",
     "output_type": "stream",
     "text": [
      "2023-11-26 12:09:30.010528: I tensorflow/core/grappler/devices.cc:75] Number of eligible GPUs (core count >= 8, compute capability >= 0.0): 0 (Note: TensorFlow was not compiled with CUDA or ROCm support)\n",
      "2023-11-26 12:09:31.218253: I tensorflow/core/grappler/devices.cc:75] Number of eligible GPUs (core count >= 8, compute capability >= 0.0): 0 (Note: TensorFlow was not compiled with CUDA or ROCm support)\n",
      "2023-11-26 12:09:32.587464: I tensorflow/core/grappler/devices.cc:75] Number of eligible GPUs (core count >= 8, compute capability >= 0.0): 0 (Note: TensorFlow was not compiled with CUDA or ROCm support)\n",
      "2023-11-26 12:09:33.516549: I tensorflow/core/grappler/devices.cc:75] Number of eligible GPUs (core count >= 8, compute capability >= 0.0): 0 (Note: TensorFlow was not compiled with CUDA or ROCm support)\n",
      "Running TensorFlow Graph Passes: 100%|██████████| 6/6 [00:00<00:00, 12.02 passes/s]\n",
      "Converting TF Frontend ==> MIL Ops: 100%|██████████| 561/561 [00:00<00:00, 2930.67 ops/s]\n",
      "Running MIL frontend_tensorflow2 pipeline: 100%|██████████| 7/7 [00:00<00:00, 284.77 passes/s]\n",
      "Running MIL default pipeline: 100%|██████████| 65/65 [00:02<00:00, 31.55 passes/s]\n",
      "Running MIL backend_neuralnetwork pipeline: 100%|██████████| 9/9 [00:00<00:00, 655.97 passes/s]\n",
      "Translating MIL ==> NeuralNetwork Ops: 100%|██████████| 517/517 [00:02<00:00, 257.58 ops/s] \n"
     ]
    }
   ],
   "source": [
    "TENSORFLOW_MODEL = \"models_tf/model_resnet50_base.h5\"\n",
    "COREML_MODEL_NAME = \"ResNet50Base\"\n",
    "\n",
    "converter = CoreMLConverter(tf_model_path=TENSORFLOW_MODEL)\n",
    "converter.convert_to_coreml(labels_path=LABELS_PATH, img_size=IMG_SIZE, scale_mode=3)\n",
    "converter.save_coreml_model(model_name=COREML_MODEL_NAME)"
   ],
   "metadata": {
    "collapsed": false,
    "pycharm": {
     "name": "#%%\n"
    }
   }
  },
  {
   "cell_type": "markdown",
   "source": [
    "#### EfficientNet"
   ],
   "metadata": {
    "collapsed": false,
    "pycharm": {
     "name": "#%% md\n"
    }
   }
  },
  {
   "cell_type": "markdown",
   "source": [
    "##### EfficientNetB0 (base)"
   ],
   "metadata": {
    "collapsed": false,
    "pycharm": {
     "name": "#%% md\n"
    }
   }
  },
  {
   "cell_type": "code",
   "execution_count": 26,
   "outputs": [
    {
     "name": "stderr",
     "output_type": "stream",
     "text": [
      "2023-11-26 12:10:00.259852: I tensorflow/core/grappler/devices.cc:75] Number of eligible GPUs (core count >= 8, compute capability >= 0.0): 0 (Note: TensorFlow was not compiled with CUDA or ROCm support)\n",
      "2023-11-26 12:10:01.020259: I tensorflow/core/grappler/devices.cc:75] Number of eligible GPUs (core count >= 8, compute capability >= 0.0): 0 (Note: TensorFlow was not compiled with CUDA or ROCm support)\n",
      "2023-11-26 12:10:01.710761: I tensorflow/core/grappler/devices.cc:75] Number of eligible GPUs (core count >= 8, compute capability >= 0.0): 0 (Note: TensorFlow was not compiled with CUDA or ROCm support)\n",
      "2023-11-26 12:10:02.679138: I tensorflow/core/grappler/devices.cc:75] Number of eligible GPUs (core count >= 8, compute capability >= 0.0): 0 (Note: TensorFlow was not compiled with CUDA or ROCm support)\n",
      "Running TensorFlow Graph Passes: 100%|██████████| 6/6 [00:00<00:00, 25.68 passes/s]\n",
      "Converting TF Frontend ==> MIL Ops: 100%|██████████| 832/832 [00:00<00:00, 3097.20 ops/s]\n",
      "Running MIL frontend_tensorflow2 pipeline: 100%|██████████| 7/7 [00:00<00:00, 184.60 passes/s]\n",
      "Running MIL default pipeline: 100%|██████████| 65/65 [00:02<00:00, 28.81 passes/s]\n",
      "Running MIL backend_neuralnetwork pipeline: 100%|██████████| 9/9 [00:00<00:00, 366.45 passes/s]\n",
      "Translating MIL ==> NeuralNetwork Ops: 100%|██████████| 967/967 [00:00<00:00, 2475.33 ops/s]\n"
     ]
    }
   ],
   "source": [
    "TENSORFLOW_MODEL = \"models_tf/model_efficientnet_base.h5\"\n",
    "COREML_MODEL_NAME = \"EfficientNetB0Base\"\n",
    "\n",
    "converter = CoreMLConverter(tf_model_path=TENSORFLOW_MODEL)\n",
    "converter.convert_to_coreml(labels_path=LABELS_PATH, img_size=IMG_SIZE, scale_mode=3)\n",
    "converter.save_coreml_model(model_name=COREML_MODEL_NAME)"
   ],
   "metadata": {
    "collapsed": false,
    "pycharm": {
     "name": "#%%\n"
    }
   }
  }
 ],
 "metadata": {
  "kernelspec": {
   "display_name": "Python 3",
   "language": "python",
   "name": "python3"
  },
  "language_info": {
   "codemirror_mode": {
    "name": "ipython",
    "version": 2
   },
   "file_extension": ".py",
   "mimetype": "text/x-python",
   "name": "python",
   "nbconvert_exporter": "python",
   "pygments_lexer": "ipython2",
   "version": "2.7.6"
  }
 },
 "nbformat": 4,
 "nbformat_minor": 0
}