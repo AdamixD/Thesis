{
 "cells": [
  {
   "cell_type": "markdown",
   "source": [
    "# Data Conversion"
   ],
   "metadata": {
    "collapsed": false
   }
  },
  {
   "cell_type": "code",
   "execution_count": 1,
   "outputs": [],
   "source": [
    "from utils import *"
   ],
   "metadata": {
    "collapsed": false,
    "ExecuteTime": {
     "start_time": "2023-06-08T12:58:01.669942Z",
     "end_time": "2023-06-08T12:58:03.372234Z"
    }
   }
  },
  {
   "cell_type": "markdown",
   "source": [
    "### 1. Paths"
   ],
   "metadata": {
    "collapsed": false
   }
  },
  {
   "cell_type": "code",
   "execution_count": 3,
   "outputs": [],
   "source": [
    "DATASET_OWN_PATH = \"/Users/adamdabkowski/Desktop/Face Dataset\""
   ],
   "metadata": {
    "collapsed": false,
    "ExecuteTime": {
     "start_time": "2023-06-08T12:58:15.663364Z",
     "end_time": "2023-06-08T12:58:15.668476Z"
    }
   }
  },
  {
   "cell_type": "markdown",
   "source": [
    "### 2. Conversion"
   ],
   "metadata": {
    "collapsed": false
   }
  },
  {
   "cell_type": "code",
   "execution_count": 4,
   "outputs": [],
   "source": [
    "CATEGORIES = [\"angry\", \"disgust\", \"fear\", \"happy\", \"neutral\", \"sad\", \"surprise\"]"
   ],
   "metadata": {
    "collapsed": false,
    "ExecuteTime": {
     "start_time": "2023-06-08T12:58:16.849590Z",
     "end_time": "2023-06-08T12:58:16.852409Z"
    }
   }
  },
  {
   "cell_type": "code",
   "execution_count": null,
   "outputs": [],
   "source": [
    "DATASET_OWN_SOURCE_PATH = \"/Users/adamdabkowski/Desktop/Face Dataset/converted\""
   ],
   "metadata": {
    "collapsed": false
   }
  },
  {
   "cell_type": "code",
   "execution_count": null,
   "outputs": [],
   "source": [
    "DATASET_OWN_CONVERTED_PATH = \"/Users/adamdabkowski/Desktop/Face Dataset/converted\""
   ],
   "metadata": {
    "collapsed": false
   }
  },
  {
   "cell_type": "code",
   "execution_count": 6,
   "outputs": [],
   "source": [
    "convert_data(\n",
    "    source_path=DATASET_OWN_SOURCE_PATH,\n",
    "    save_path=DATASET_OWN_CONVERTED_PATH,\n",
    "    categories=CATEGORIES,\n",
    "    img_size=128\n",
    ")"
   ],
   "metadata": {
    "collapsed": false,
    "ExecuteTime": {
     "start_time": "2023-06-08T13:01:27.141006Z",
     "end_time": "2023-06-08T13:01:34.854240Z"
    }
   }
  },
  {
   "cell_type": "code",
   "execution_count": null,
   "outputs": [],
   "source": [],
   "metadata": {
    "collapsed": false
   }
  }
 ],
 "metadata": {
  "kernelspec": {
   "display_name": "Python 3",
   "language": "python",
   "name": "python3"
  },
  "language_info": {
   "codemirror_mode": {
    "name": "ipython",
    "version": 2
   },
   "file_extension": ".py",
   "mimetype": "text/x-python",
   "name": "python",
   "nbconvert_exporter": "python",
   "pygments_lexer": "ipython2",
   "version": "2.7.6"
  }
 },
 "nbformat": 4,
 "nbformat_minor": 0
}
